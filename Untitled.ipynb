{
 "cells": [
  {
   "cell_type": "code",
   "execution_count": 1,
   "metadata": {},
   "outputs": [],
   "source": [
    "from __future__ import absolute_import\n",
    "from __future__ import division\n",
    "from __future__ import print_function\n",
    "\n",
    "import torch\n",
    "import torch.nn as nn\n",
    "import torch.nn.functional as F\n",
    "\n",
    "import numpy as np\n",
    "\n",
    "from torchnlp.modules.transformer.sublayers import MultiHeadAttention, PositionwiseFeedForward\n",
    "from torchnlp.modules.normalization import LayerNorm\n",
    "\n",
    "class EncoderLayer(nn.Module):\n",
    "    \"\"\"\n",
    "    Represents one Encoder layer of the Transformer Encoder\n",
    "    Refer Fig. 1 in https://arxiv.org/pdf/1706.03762.pdf\n",
    "    NOTE: The layer normalization step has been moved to the input as per latest version of T2T\n",
    "    \"\"\"\n",
    "    def __init__(self, hidden_size, total_key_depth, total_value_depth, filter_size, num_heads,\n",
    "                 bias_mask=None, layer_dropout=0.0, attention_dropout=0.0, relu_dropout=0.0):\n",
    "        \"\"\"\n",
    "        Parameters:\n",
    "            hidden_size: Hidden size\n",
    "            total_key_depth: Size of last dimension of keys. Must be divisible by num_head\n",
    "            total_value_depth: Size of last dimension of values. Must be divisible by num_head\n",
    "            output_depth: Size last dimension of the final output\n",
    "            filter_size: Hidden size of the middle layer in FFN\n",
    "            num_heads: Number of attention heads\n",
    "            bias_mask: Masking tensor to prevent connections to future elements\n",
    "            layer_dropout: Dropout for this layer\n",
    "            attention_dropout: Dropout probability after attention (Should be non-zero only during training)\n",
    "            relu_dropout: Dropout probability after relu in FFN (Should be non-zero only during training)\n",
    "        \"\"\"\n",
    "        \n",
    "        super(EncoderLayer, self).__init__()\n",
    "        \n",
    "        self.multi_head_attention = MultiHeadAttention(hidden_size, total_key_depth, total_value_depth, \n",
    "                                                       hidden_size, num_heads, bias_mask, attention_dropout)\n",
    "        \n",
    "        self.positionwise_feed_forward = PositionwiseFeedForward(hidden_size, filter_size, hidden_size,\n",
    "                                                                 layer_config='cc', padding = 'both', \n",
    "                                                                 dropout=relu_dropout)\n",
    "        self.dropout = nn.Dropout(layer_dropout)\n",
    "        self.layer_norm_mha = LayerNorm(hidden_size)\n",
    "        self.layer_norm_ffn = LayerNorm(hidden_size)\n",
    "        \n",
    "    def forward(self, inputs):\n",
    "        x = inputs\n",
    "        \n",
    "        # Layer Normalization\n",
    "        x_norm = self.layer_norm_mha(x)\n",
    "        input_ = x_norm\n",
    "        # Multi-head attention\n",
    "        y, attn, bias_mask = self.multi_head_attention(x_norm, x_norm, x_norm)\n",
    "        \n",
    "        # Dropout and residual\n",
    "        x = self.dropout(x + y)\n",
    "        \n",
    "        # Layer Normalization\n",
    "        x_norm = self.layer_norm_ffn(x)\n",
    "        \n",
    "        # Positionwise Feedforward\n",
    "        y = self.positionwise_feed_forward(x_norm)\n",
    "        \n",
    "        # Dropout and residual\n",
    "        y = self.dropout(x + y)\n",
    "        \n",
    "        return y, input_, attn, bias_mask"
   ]
  },
  {
   "cell_type": "code",
   "execution_count": 2,
   "metadata": {},
   "outputs": [],
   "source": [
    "model_names = []\n",
    "atten_hook = []\n",
    "def hook(model, in_f, out_f):\n",
    "    print(\"hooking\")\n",
    "    model_names.append(model.__class__)\n",
    "    atten_hook.append((in_f, out_f))"
   ]
  },
  {
   "cell_type": "code",
   "execution_count": 3,
   "metadata": {},
   "outputs": [],
   "source": [
    "tt = EncoderLayer(30, 30,30, 20, 1)"
   ]
  },
  {
   "cell_type": "code",
   "execution_count": 4,
   "metadata": {},
   "outputs": [
    {
     "data": {
      "text/plain": [
       "<torch.utils.hooks.RemovableHandle at 0x7fcdcc5d7210>"
      ]
     },
     "execution_count": 4,
     "metadata": {},
     "output_type": "execute_result"
    }
   ],
   "source": [
    "tt.multi_head_attention.register_forward_hook(hook=hook)"
   ]
  },
  {
   "cell_type": "code",
   "execution_count": 5,
   "metadata": {},
   "outputs": [
    {
     "name": "stdout",
     "output_type": "stream",
     "text": [
      "hooking\n"
     ]
    }
   ],
   "source": [
    "x = torch.randn(1, 2, 30)\n",
    "output=tt(x)"
   ]
  },
  {
   "cell_type": "code",
   "execution_count": 13,
   "metadata": {},
   "outputs": [
    {
     "data": {
      "text/plain": [
       "torch.Size([1, 1, 2, 2])"
      ]
     },
     "execution_count": 13,
     "metadata": {},
     "output_type": "execute_result"
    }
   ],
   "source": [
    "atten_hook[0][1][1].shape"
   ]
  },
  {
   "cell_type": "code",
   "execution_count": 68,
   "metadata": {},
   "outputs": [
    {
     "data": {
      "text/plain": [
       "__main__.EncoderLayer"
      ]
     },
     "execution_count": 68,
     "metadata": {},
     "output_type": "execute_result"
    }
   ],
   "source": [
    "type(tt)"
   ]
  },
  {
   "cell_type": "code",
   "execution_count": 72,
   "metadata": {},
   "outputs": [
    {
     "name": "stdout",
     "output_type": "stream",
     "text": [
      " False\n",
      "multi_head_attention True\n",
      "multi_head_attention.query_linear False\n",
      "multi_head_attention.key_linear False\n",
      "multi_head_attention.value_linear False\n",
      "multi_head_attention.output_linear False\n",
      "multi_head_attention.dropout False\n",
      "positionwise_feed_forward False\n",
      "positionwise_feed_forward.layers False\n",
      "positionwise_feed_forward.layers.0 False\n",
      "positionwise_feed_forward.layers.0.pad False\n",
      "positionwise_feed_forward.layers.0.conv False\n",
      "positionwise_feed_forward.layers.1 False\n",
      "positionwise_feed_forward.layers.1.pad False\n",
      "positionwise_feed_forward.layers.1.conv False\n",
      "positionwise_feed_forward.relu False\n",
      "positionwise_feed_forward.dropout False\n",
      "dropout False\n",
      "layer_norm_mha False\n",
      "layer_norm_ffn False\n"
     ]
    }
   ],
   "source": [
    "for name, m, in tt.named_modules():\n",
    "    (name, isinstance(m, MultiHeadAttention))"
   ]
  },
  {
   "cell_type": "code",
   "execution_count": 73,
   "metadata": {},
   "outputs": [
    {
     "data": {
      "text/plain": [
       "'/home/zijiao/research/atal'"
      ]
     },
     "execution_count": 73,
     "metadata": {},
     "output_type": "execute_result"
    }
   ],
   "source": [
    "pwd"
   ]
  },
  {
   "cell_type": "code",
   "execution_count": 76,
   "metadata": {},
   "outputs": [],
   "source": [
    "from torchnlp.data.conll import conll2000_dataset"
   ]
  },
  {
   "cell_type": "code",
   "execution_count": 77,
   "metadata": {},
   "outputs": [],
   "source": [
    "con = conll2000_dataset(50)\n",
    "\n",
    "type(con)\n",
    "\n",
    "iters = con['iters']\n",
    "\n",
    "train_iter = iters[0]\n",
    "\n",
    "type(train_iter)\n",
    "\n",
    "from collections.abc import Iterable\n",
    "\n",
    "train_data = list(train_iter)"
   ]
  },
  {
   "cell_type": "code",
   "execution_count": 97,
   "metadata": {},
   "outputs": [
    {
     "data": {
      "text/plain": [
       "tensor([[   2,  686,    7,  ...,    1,    1,    1],\n",
       "        [   2,   11,  148,  ...,    1,    1,    1],\n",
       "        [   2, 1090,   14,  ...,    1,    1,    1],\n",
       "        ...,\n",
       "        [   2, 2894,  224,  ...,    1,    1,    1],\n",
       "        [   2,    5,  183,  ...,    1,    1,    1],\n",
       "        [   2,    5, 1298,  ...,    1,    1,    1]], device='cuda:0')"
      ]
     },
     "execution_count": 97,
     "metadata": {},
     "output_type": "execute_result"
    }
   ],
   "source": [
    "train_data[0].inputs_word"
   ]
  },
  {
   "cell_type": "code",
   "execution_count": 98,
   "metadata": {},
   "outputs": [
    {
     "data": {
      "text/plain": [
       "tensor([[[ 2,  2,  3,  ...,  1,  1,  1],\n",
       "         [ 2, 34,  7,  ...,  1,  1,  1],\n",
       "         [ 2,  7, 19,  ...,  1,  1,  1],\n",
       "         ...,\n",
       "         [ 1,  1,  1,  ...,  1,  1,  1],\n",
       "         [ 1,  1,  1,  ...,  1,  1,  1],\n",
       "         [ 1,  1,  1,  ...,  1,  1,  1]],\n",
       "\n",
       "        [[ 2,  2,  3,  ...,  1,  1,  1],\n",
       "         [ 2, 36,  9,  ...,  1,  1,  1],\n",
       "         [ 2, 52,  6,  ...,  1,  1,  1],\n",
       "         ...,\n",
       "         [ 1,  1,  1,  ...,  1,  1,  1],\n",
       "         [ 1,  1,  1,  ...,  1,  1,  1],\n",
       "         [ 1,  1,  1,  ...,  1,  1,  1]],\n",
       "\n",
       "        [[ 2,  2,  3,  ...,  1,  1,  1],\n",
       "         [ 2, 37, 11,  ...,  1,  1,  1],\n",
       "         [ 2, 28, 10,  ...,  1,  1,  1],\n",
       "         ...,\n",
       "         [ 1,  1,  1,  ...,  1,  1,  1],\n",
       "         [ 1,  1,  1,  ...,  1,  1,  1],\n",
       "         [ 1,  1,  1,  ...,  1,  1,  1]],\n",
       "\n",
       "        ...,\n",
       "\n",
       "        [[ 2,  2,  3,  ...,  1,  1,  1],\n",
       "         [ 2, 36, 18,  ...,  1,  1,  1],\n",
       "         [ 2, 34,  7,  ...,  1,  1,  1],\n",
       "         ...,\n",
       "         [ 1,  1,  1,  ...,  1,  1,  1],\n",
       "         [ 1,  1,  1,  ...,  1,  1,  1],\n",
       "         [ 1,  1,  1,  ...,  1,  1,  1]],\n",
       "\n",
       "        [[ 2,  2,  3,  ...,  1,  1,  1],\n",
       "         [ 2, 30, 13,  ...,  1,  1,  1],\n",
       "         [ 2, 18, 12,  ...,  1,  1,  1],\n",
       "         ...,\n",
       "         [ 1,  1,  1,  ...,  1,  1,  1],\n",
       "         [ 1,  1,  1,  ...,  1,  1,  1],\n",
       "         [ 1,  1,  1,  ...,  1,  1,  1]],\n",
       "\n",
       "        [[ 2,  2,  3,  ...,  1,  1,  1],\n",
       "         [ 2, 30, 13,  ...,  1,  1,  1],\n",
       "         [ 2, 52,  4,  ...,  1,  1,  1],\n",
       "         ...,\n",
       "         [ 1,  1,  1,  ...,  1,  1,  1],\n",
       "         [ 1,  1,  1,  ...,  1,  1,  1],\n",
       "         [ 1,  1,  1,  ...,  1,  1,  1]]], device='cuda:0')"
      ]
     },
     "execution_count": 98,
     "metadata": {},
     "output_type": "execute_result"
    }
   ],
   "source": [
    "train_data[0].inputs_char"
   ]
  },
  {
   "cell_type": "code",
   "execution_count": 96,
   "metadata": {},
   "outputs": [
    {
     "data": {
      "text/plain": [
       "tensor([[2, 5, 8,  ..., 1, 1, 1],\n",
       "        [2, 6, 5,  ..., 1, 1, 1],\n",
       "        [2, 5, 5,  ..., 1, 1, 1],\n",
       "        ...,\n",
       "        [2, 5, 4,  ..., 1, 1, 1],\n",
       "        [2, 5, 4,  ..., 1, 1, 1],\n",
       "        [2, 5, 4,  ..., 1, 1, 1]], device='cuda:0')"
      ]
     },
     "execution_count": 96,
     "metadata": {},
     "output_type": "execute_result"
    }
   ],
   "source": [
    "# Where is tags\n",
    "train_data[0].labels"
   ]
  },
  {
   "cell_type": "code",
   "execution_count": null,
   "metadata": {},
   "outputs": [],
   "source": []
  },
  {
   "cell_type": "code",
   "execution_count": 99,
   "metadata": {},
   "outputs": [],
   "source": [
    "con2 = conll2000_dataset(50)\n",
    "\n",
    "iters_2 = con2['iters']\n",
    "\n",
    "train_iter_2 = iters_2[0]\n",
    "\n",
    "\n",
    "from collections.abc import Iterable\n",
    "\n",
    "train_data_2 = list(train_iter_2)"
   ]
  },
  {
   "cell_type": "code",
   "execution_count": 100,
   "metadata": {},
   "outputs": [
    {
     "data": {
      "text/plain": [
       "tensor([[   2,  686,    7,  ...,    1,    1,    1],\n",
       "        [   2,   11,  148,  ...,    1,    1,    1],\n",
       "        [   2, 1090,   14,  ...,    1,    1,    1],\n",
       "        ...,\n",
       "        [   2, 2894,  224,  ...,    1,    1,    1],\n",
       "        [   2,    5,  183,  ...,    1,    1,    1],\n",
       "        [   2,    5, 1298,  ...,    1,    1,    1]], device='cuda:0')"
      ]
     },
     "execution_count": 100,
     "metadata": {},
     "output_type": "execute_result"
    }
   ],
   "source": [
    "train_data[0].inputs_word"
   ]
  },
  {
   "cell_type": "code",
   "execution_count": 101,
   "metadata": {},
   "outputs": [
    {
     "data": {
      "text/plain": [
       "tensor([[   2,  686,    7,  ...,    1,    1,    1],\n",
       "        [   2,   11,  148,  ...,    1,    1,    1],\n",
       "        [   2, 1090,   14,  ...,    1,    1,    1],\n",
       "        ...,\n",
       "        [   2, 2894,  224,  ...,    1,    1,    1],\n",
       "        [   2,    5,  183,  ...,    1,    1,    1],\n",
       "        [   2,    5, 1298,  ...,    1,    1,    1]], device='cuda:0')"
      ]
     },
     "execution_count": 101,
     "metadata": {},
     "output_type": "execute_result"
    }
   ],
   "source": [
    "train_data_2[0].inputs_word"
   ]
  },
  {
   "cell_type": "code",
   "execution_count": 103,
   "metadata": {},
   "outputs": [
    {
     "data": {
      "text/plain": [
       "(tensor([[   2,   10,    9,  ...,    1,    1,    1],\n",
       "         [   2,  477, 3164,  ...,    1,    1,    1],\n",
       "         [   2,    5, 2165,  ...,    1,    1,    1],\n",
       "         ...,\n",
       "         [   2,   36,   62,  ...,    1,    1,    1],\n",
       "         [   2,   35, 4343,  ...,    1,    1,    1],\n",
       "         [   2,  449,  348,  ...,    1,    1,    1]], device='cuda:0'),\n",
       " tensor([[   2,   10,    9,  ...,    1,    1,    1],\n",
       "         [   2,  477, 3164,  ...,    1,    1,    1],\n",
       "         [   2,    5, 2165,  ...,    1,    1,    1],\n",
       "         ...,\n",
       "         [   2,   36,   62,  ...,    1,    1,    1],\n",
       "         [   2,   35, 4343,  ...,    1,    1,    1],\n",
       "         [   2,  449,  348,  ...,    1,    1,    1]], device='cuda:0'))"
      ]
     },
     "execution_count": 103,
     "metadata": {},
     "output_type": "execute_result"
    }
   ],
   "source": [
    "train_data[1].inputs_word, train_data_2[1].inputs_word"
   ]
  },
  {
   "cell_type": "code",
   "execution_count": 11,
   "metadata": {},
   "outputs": [],
   "source": [
    "%load_ext autoreload\n",
    "%autoreload 2"
   ]
  },
  {
   "cell_type": "code",
   "execution_count": null,
   "metadata": {},
   "outputs": [],
   "source": [
    "train"
   ]
  },
  {
   "cell_type": "code",
   "execution_count": 105,
   "metadata": {},
   "outputs": [],
   "source": [
    "from torchnlp.data.conll import conll2000_dataset"
   ]
  },
  {
   "cell_type": "code",
   "execution_count": 106,
   "metadata": {},
   "outputs": [],
   "source": [
    "con2 = conll2000_dataset(50)\n",
    "\n",
    "iters_2 = con2['iters']\n",
    "\n",
    "train_iter_2 = iters_2[0]\n",
    "\n",
    "\n",
    "from collections.abc import Iterable\n",
    "\n",
    "train_data_2 = list(train_iter_2)"
   ]
  },
  {
   "cell_type": "code",
   "execution_count": 107,
   "metadata": {},
   "outputs": [
    {
     "data": {
      "text/plain": [
       "tensor([[   2,  686,    7,  ...,    1,    1,    1],\n",
       "        [   2,   11,  148,  ...,    1,    1,    1],\n",
       "        [   2, 1090,   14,  ...,    1,    1,    1],\n",
       "        ...,\n",
       "        [   2, 2894,  224,  ...,    1,    1,    1],\n",
       "        [   2,    5,  183,  ...,    1,    1,    1],\n",
       "        [   2,    5, 1298,  ...,    1,    1,    1]], device='cuda:0')"
      ]
     },
     "execution_count": 107,
     "metadata": {},
     "output_type": "execute_result"
    }
   ],
   "source": [
    "train_data_2[0].inputs_word"
   ]
  },
  {
   "cell_type": "code",
   "execution_count": 132,
   "metadata": {},
   "outputs": [],
   "source": [
    "train_iter_2.shuffle = False"
   ]
  },
  {
   "cell_type": "code",
   "execution_count": 133,
   "metadata": {},
   "outputs": [],
   "source": [
    "train_iter_2.init_epoch()"
   ]
  },
  {
   "cell_type": "code",
   "execution_count": 134,
   "metadata": {},
   "outputs": [],
   "source": [
    "train_data_2_2 = list(train_iter_2)"
   ]
  },
  {
   "cell_type": "code",
   "execution_count": 135,
   "metadata": {},
   "outputs": [
    {
     "data": {
      "text/plain": [
       "tensor([[   2,  686,    7,  ...,    1,    1,    1],\n",
       "        [   2,   11,  148,  ...,    1,    1,    1],\n",
       "        [   2, 1090,   14,  ...,    1,    1,    1],\n",
       "        ...,\n",
       "        [   2, 2894,  224,  ...,    1,    1,    1],\n",
       "        [   2,    5,  183,  ...,    1,    1,    1],\n",
       "        [   2,    5, 1298,  ...,    1,    1,    1]], device='cuda:0')"
      ]
     },
     "execution_count": 135,
     "metadata": {},
     "output_type": "execute_result"
    }
   ],
   "source": [
    "train_data_2_2[0].inputs_word"
   ]
  },
  {
   "cell_type": "markdown",
   "metadata": {},
   "source": [
    "- [x] finished the data shuffle problem\n",
    "- [x] make train, shufffle, make evaluate not shuffle\n",
    "- [x] put save atttention in evalaution part\n",
    "- [x] check embedding, solved, it is in the init part of Tagger\n",
    "- [x] understand the size of multiheadattention output\n",
    "- [x] test load evaluation\n",
    "    - [x] save it\n",
    "    - [x] load it and properly for each example\n",
    "- [ ] finish the adversarial loss and start training **Nearly**\n",
    "REST\n",
    "---\n",
    "- [ ] use random pre attention as baseline, to compare the divergence\n",
    "- [ ] use above to test guiding classifiers\n",
    "Anlysis\n",
    "- [ ] compare div with baseline\n",
    "- [ ] say about generalization\n",
    "- [ ] say about probing classifiers"
   ]
  },
  {
   "cell_type": "code",
   "execution_count": null,
   "metadata": {},
   "outputs": [],
   "source": [
    "0.3 kl_loss_final: 0.1872458394084658, pre_loss : 0.22215019024553753 \n",
    "0.2 kl_loss_final: 0.18829614491689772, pre_loss : 0.22210785817532314\n",
    "0.4 kl_loss_final: 0.2478444782041368, pre_loss : 0.22300221912917637 \n",
    "0.5 kl_loss_final: 0.20987426347675778, pre_loss : 0.21910916162388666\n",
    "0.6 kl_loss_final: 0.27321309844652814, pre_loss : 0.23236986923785435   "
   ]
  },
  {
   "cell_type": "code",
   "execution_count": 1,
   "metadata": {},
   "outputs": [
    {
     "data": {
      "text/plain": [
       "'/home/zijiao/research/atal'"
      ]
     },
     "execution_count": 1,
     "metadata": {},
     "output_type": "execute_result"
    }
   ],
   "source": [
    "pwd"
   ]
  },
  {
   "cell_type": "code",
   "execution_count": 3,
   "metadata": {},
   "outputs": [],
   "source": [
    "from torchnlp.chunk import *"
   ]
  },
  {
   "cell_type": "code",
   "execution_count": 52,
   "metadata": {},
   "outputs": [],
   "source": [
    "h2 = hparams_transformer_chunk().update(adversarial=True)"
   ]
  },
  {
   "cell_type": "code",
   "execution_count": 5,
   "metadata": {},
   "outputs": [],
   "source": [
    "import numpy as np"
   ]
  },
  {
   "cell_type": "code",
   "execution_count": 6,
   "metadata": {},
   "outputs": [],
   "source": [
    "results = []"
   ]
  },
  {
   "cell_type": "code",
   "execution_count": 9,
   "metadata": {},
   "outputs": [],
   "source": [
    "lms = list(np.arange(0.7, 3.1, 0.1))"
   ]
  },
  {
   "cell_type": "code",
   "execution_count": 10,
   "metadata": {},
   "outputs": [
    {
     "name": "stderr",
     "output_type": "stream",
     "text": [
      "INFO:torchnlp.data.conll:---------- CONLL 2000 Chunking ---------\n",
      "INFO:torchnlp.data.conll:Train size: 8042\n",
      "INFO:torchnlp.data.conll:Validation size: 894\n",
      "INFO:torchnlp.data.conll:Test size: 2012\n",
      "INFO:torchtext.vocab:Loading vectors from .vector_cache/glove.6B.200d.txt.pt\n",
      "INFO:torchtext.vocab:Loading vectors from .vector_cache/charNgram.txt.pt\n",
      "INFO:torchnlp.data.conll:Input vocab size:19032\n",
      "INFO:torchnlp.data.conll:Tagset size: 25\n",
      "INFO:torchnlp.common.model:\n",
      "Hyperparameters:\n",
      " batch_size=100\n",
      " embedding_size_word=300\n",
      " embedding_size_char=0\n",
      " embedding_size_char_per_word=100\n",
      " embedding_size_tags=100\n",
      " hidden_size=128\n",
      " learning_rate=0.2\n",
      " learning_rate_decay=noam_step\n",
      " max_length=256\n",
      " num_hidden_layers=1\n",
      " dropout=0.2\n",
      " optimizer_adam_beta1=0.9\n",
      " optimizer_adam_beta2=0.98\n",
      " use_crf=False\n",
      " num_heads=4\n",
      " attention_key_channels=0\n",
      " attention_value_channels=0\n",
      " filter_size=128\n",
      " filter_size_char=64\n",
      " input_dropout=0.2\n",
      " attention_dropout=0.2\n",
      " relu_dropout=0.2\n",
      " learning_rate_warmup_steps=500\n",
      " attn_path=./saved\n",
      " adversarial=True\n",
      " lmbda=0.7\n",
      " froze=False\n",
      " froze_path=./froze\n",
      "INFO:torchnlp.common.train:Parameters: 140953(trainable), 5709601(non-trainable)\n",
      "INFO:torchnlp.common.train:Early stopping for highest value of validation F1 after 5 epochs\n",
      "  0%|          | 0/81 [00:00<?, ?it/s]INFO:torchnlp.common.train:Epoch 1 (0)\n",
      "/home/zijiao/anaconda3/envs/allennlp/lib/python3.7/site-packages/torch/nn/functional.py:1958: UserWarning: reduction: 'mean' divides the total loss by both the batch size and the support size.'batchmean' divides only by the batch size, and aligns with the KL div math definition.'mean' will be changed to behave the same as 'batchmean' in the next major release.\n",
      "  warnings.warn(\"reduction: 'mean' divides the total loss by both the batch size and the support size.\"\n",
      "INFO:torchnlp.common.train:total_loss: 1.3335447469611226, kl_loss: 0.03168688454653746, nll_loss: 1.35572557500851\n",
      "INFO:torchnlp.common.train:Train Loss: 1.33354\n",
      "INFO:torchnlp.common.train:Validation metrics:             \n",
      "INFO:torchnlp.common.train:loss=0.95593, acc=0.67287, acc-seq=0.00398, precision=0.45453, recall=0.50750, F1=0.47956\n",
      "INFO:torchnlp.common.model:-------------- Saved checkpoint 81 --------------\n",
      "  0%|          | 0/81 [00:00<?, ?it/s]INFO:torchnlp.common.train:Epoch 2 (81)\n",
      "Training:  17%|█▋        | 14/81 [00:00<00:00, 139.54it/s, loss=0.433]"
     ]
    },
    {
     "name": "stdout",
     "output_type": "stream",
     "text": [
      "kl_loss_final: 0.1426767926840555, pre_loss : 0.9559336333047777\n"
     ]
    },
    {
     "name": "stderr",
     "output_type": "stream",
     "text": [
      "INFO:torchnlp.common.train:total_loss: 0.34081472989953593, kl_loss: 0.06289955559704039, nll_loss: 0.384844418661094\n",
      "INFO:torchnlp.common.train:Train Loss: 0.34081\n",
      "INFO:torchnlp.common.train:Validation metrics:             \n",
      "INFO:torchnlp.common.train:loss=0.63890, acc=0.75813, acc-seq=0.01541, precision=0.60498, recall=0.67059, F1=0.63610\n",
      "INFO:torchnlp.common.model:-------------- Saved checkpoint 162 --------------\n",
      "  0%|          | 0/81 [00:00<?, ?it/s]INFO:torchnlp.common.train:Epoch 3 (162)\n",
      "Training:  19%|█▊        | 15/81 [00:00<00:00, 144.36it/s, loss=0.241]"
     ]
    },
    {
     "name": "stdout",
     "output_type": "stream",
     "text": [
      "kl_loss_final: 0.16689117093171393, pre_loss : 0.6388958720933824\n"
     ]
    },
    {
     "name": "stderr",
     "output_type": "stream",
     "text": [
      "INFO:torchnlp.common.train:total_loss: 0.21778946618239084, kl_loss: 0.07662237499967034, nll_loss: 0.2714251263274087\n",
      "INFO:torchnlp.common.train:Train Loss: 0.21779\n",
      "INFO:torchnlp.common.train:Validation metrics:             \n",
      "INFO:torchnlp.common.train:loss=0.49208, acc=0.81815, acc-seq=0.05716, precision=0.69887, recall=0.73881, F1=0.71828\n",
      "INFO:torchnlp.common.model:-------------- Saved checkpoint 243 --------------\n",
      "  0%|          | 0/81 [00:00<?, ?it/s]INFO:torchnlp.common.train:Epoch 4 (243)\n",
      "Training:  19%|█▊        | 15/81 [00:00<00:00, 145.35it/s, loss=0.17] "
     ]
    },
    {
     "name": "stdout",
     "output_type": "stream",
     "text": [
      "kl_loss_final: 0.1885679154878571, pre_loss : 0.49208404194741023\n"
     ]
    },
    {
     "name": "stderr",
     "output_type": "stream",
     "text": [
      "INFO:torchnlp.common.train:total_loss: 0.14880991598338256, kl_loss: 0.08485982521080676, nll_loss: 0.20821179339179285\n",
      "INFO:torchnlp.common.train:Train Loss: 0.14881\n",
      "INFO:torchnlp.common.train:Validation metrics:             \n",
      "INFO:torchnlp.common.train:loss=0.38000, acc=0.87420, acc-seq=0.12922, precision=0.70435, recall=0.79306, F1=0.74608\n",
      "INFO:torchnlp.common.model:-------------- Saved checkpoint 324 --------------\n",
      "  0%|          | 0/81 [00:00<?, ?it/s]INFO:torchnlp.common.train:Epoch 5 (324)\n",
      "Training:  19%|█▊        | 15/81 [00:00<00:00, 139.77it/s, loss=0.115]"
     ]
    },
    {
     "name": "stdout",
     "output_type": "stream",
     "text": [
      "kl_loss_final: 0.20821624674967357, pre_loss : 0.38000095458257765\n"
     ]
    },
    {
     "name": "stderr",
     "output_type": "stream",
     "text": [
      "INFO:torchnlp.common.train:total_loss: 0.10896222661306829, kl_loss: 0.09275180248566615, nll_loss: 0.17388848702848694\n",
      "INFO:torchnlp.common.train:Train Loss: 0.10896\n",
      "INFO:torchnlp.common.train:Validation metrics:             \n",
      "INFO:torchnlp.common.train:loss=0.31193, acc=0.90239, acc-seq=0.19781, precision=0.79968, recall=0.83532, F1=0.81711\n",
      "INFO:torchnlp.common.model:-------------- Saved checkpoint 405 --------------\n",
      "  0%|          | 0/81 [00:00<?, ?it/s]INFO:torchnlp.common.train:Epoch 6 (405)\n",
      "Training:  20%|█▉        | 16/81 [00:00<00:00, 151.88it/s, loss=0.0977]"
     ]
    },
    {
     "name": "stdout",
     "output_type": "stream",
     "text": [
      "kl_loss_final: 0.21648322116760982, pre_loss : 0.31192670620623086\n"
     ]
    },
    {
     "name": "stderr",
     "output_type": "stream",
     "text": [
      "INFO:torchnlp.common.train:total_loss: 0.0932909015244172, kl_loss: 0.09538314160373476, nll_loss: 0.16005909976399976\n",
      "INFO:torchnlp.common.train:Train Loss: 0.09329\n",
      "INFO:torchnlp.common.train:Validation metrics:             \n",
      "INFO:torchnlp.common.train:loss=0.31421, acc=0.90299, acc-seq=0.19732, precision=0.78062, recall=0.84408, F1=0.81111\n",
      "INFO:torchnlp.common.model:-------------- Saved checkpoint 486 --------------\n",
      "  0%|          | 0/81 [00:00<?, ?it/s]INFO:torchnlp.common.train:Epoch 7 (486)\n",
      "Training:  17%|█▋        | 14/81 [00:00<00:00, 136.09it/s, loss=0.0847]"
     ]
    },
    {
     "name": "stdout",
     "output_type": "stream",
     "text": [
      "kl_loss_final: 0.22304507203045346, pre_loss : 0.3142131730204537\n"
     ]
    },
    {
     "name": "stderr",
     "output_type": "stream",
     "text": [
      "INFO:torchnlp.common.train:total_loss: 0.0846896620904222, kl_loss: 0.09737835557740411, nll_loss: 0.15285450955967844\n",
      "INFO:torchnlp.common.train:Train Loss: 0.08469\n",
      "INFO:torchnlp.common.train:Validation metrics:             \n",
      "INFO:torchnlp.common.train:loss=0.29475, acc=0.91048, acc-seq=0.20974, precision=0.81186, recall=0.85720, F1=0.83392\n",
      "INFO:torchnlp.common.model:-------------- Saved checkpoint 567 --------------\n",
      "  0%|          | 0/81 [00:00<?, ?it/s]INFO:torchnlp.common.train:Epoch 8 (567)\n",
      "Training:  19%|█▊        | 15/81 [00:00<00:00, 142.75it/s, loss=0.0801]"
     ]
    },
    {
     "name": "stdout",
     "output_type": "stream",
     "text": [
      "kl_loss_final: 0.22934132991802125, pre_loss : 0.2947503803741364\n"
     ]
    },
    {
     "name": "stderr",
     "output_type": "stream",
     "text": [
      "INFO:torchnlp.common.train:total_loss: 0.07644513851882499, kl_loss: 0.09894329677393407, nll_loss: 0.1457054454051418\n",
      "INFO:torchnlp.common.train:Train Loss: 0.07645\n",
      "INFO:torchnlp.common.train:Validation metrics:             \n",
      "INFO:torchnlp.common.train:loss=0.28434, acc=0.91650, acc-seq=0.24205, precision=0.83190, recall=0.86668, F1=0.84894\n",
      "INFO:torchnlp.common.model:-------------- Saved checkpoint 648 --------------\n",
      "  0%|          | 0/81 [00:00<?, ?it/s]INFO:torchnlp.common.train:Epoch 9 (648)\n",
      "Training:  17%|█▋        | 14/81 [00:00<00:00, 138.05it/s, loss=0.0673]"
     ]
    },
    {
     "name": "stdout",
     "output_type": "stream",
     "text": [
      "kl_loss_final: 0.23236055423816046, pre_loss : 0.28434329231580097\n"
     ]
    },
    {
     "name": "stderr",
     "output_type": "stream",
     "text": [
      "INFO:torchnlp.common.train:total_loss: 0.06789399862841324, kl_loss: 0.10013922644250187, nll_loss: 0.13799145569403967\n",
      "INFO:torchnlp.common.train:Train Loss: 0.06789\n",
      "INFO:torchnlp.common.train:Validation metrics:             \n",
      "INFO:torchnlp.common.train:loss=0.26726, acc=0.91899, acc-seq=0.25099, precision=0.82886, recall=0.86944, F1=0.84867\n",
      "INFO:torchnlp.common.model:-------------- Saved checkpoint 729 --------------\n",
      "  0%|          | 0/81 [00:00<?, ?it/s]INFO:torchnlp.common.train:Epoch 10 (729)\n",
      "Training:  19%|█▊        | 15/81 [00:00<00:00, 148.71it/s, loss=0.0653]"
     ]
    },
    {
     "name": "stdout",
     "output_type": "stream",
     "text": [
      "kl_loss_final: 0.236615376103492, pre_loss : 0.2672594792786099\n"
     ]
    },
    {
     "name": "stderr",
     "output_type": "stream",
     "text": [
      "INFO:torchnlp.common.train:total_loss: 0.062067791221686354, kl_loss: 0.1015839703657009, nll_loss: 0.13317656967742944\n",
      "INFO:torchnlp.common.train:Train Loss: 0.06207\n",
      "INFO:torchnlp.common.train:Validation metrics:             \n",
      "INFO:torchnlp.common.train:loss=0.26508, acc=0.92050, acc-seq=0.26292, precision=0.83499, recall=0.87280, F1=0.85348\n",
      "INFO:torchnlp.common.model:-------------- Saved checkpoint 810 --------------\n",
      "  0%|          | 0/81 [00:00<?, ?it/s]INFO:torchnlp.common.train:Epoch 11 (810)\n",
      "Training:  19%|█▊        | 15/81 [00:00<00:00, 147.77it/s, loss=0.0594]"
     ]
    },
    {
     "name": "stdout",
     "output_type": "stream",
     "text": [
      "kl_loss_final: 0.24077055603265762, pre_loss : 0.26507761506807237\n"
     ]
    },
    {
     "name": "stderr",
     "output_type": "stream",
     "text": [
      "INFO:torchnlp.common.train:total_loss: 0.058522328504441695, kl_loss: 0.1021628259324733, nll_loss: 0.13003630568215876\n",
      "INFO:torchnlp.common.train:Train Loss: 0.05852\n",
      "INFO:torchnlp.common.train:Validation metrics:             \n",
      "INFO:torchnlp.common.train:loss=0.26632, acc=0.92089, acc-seq=0.27734, precision=0.83380, recall=0.87624, F1=0.85449\n",
      "INFO:torchnlp.common.model:-------------- Saved checkpoint 891 --------------\n",
      "  0%|          | 0/81 [00:00<?, ?it/s]INFO:torchnlp.common.train:Epoch 12 (891)\n",
      "Training:  17%|█▋        | 14/81 [00:00<00:00, 138.56it/s, loss=0.0539]"
     ]
    },
    {
     "name": "stdout",
     "output_type": "stream",
     "text": [
      "kl_loss_final: 0.24179005232595263, pre_loss : 0.26632376724765416\n"
     ]
    },
    {
     "name": "stderr",
     "output_type": "stream",
     "text": [
      "INFO:torchnlp.common.train:total_loss: 0.05464839958298354, kl_loss: 0.10257678249000031, nll_loss: 0.12645214658092568\n",
      "INFO:torchnlp.common.train:Train Loss: 0.05465\n",
      "INFO:torchnlp.common.train:Validation metrics:             \n",
      "INFO:torchnlp.common.train:loss=0.25921, acc=0.92257, acc-seq=0.26441, precision=0.84907, recall=0.87666, F1=0.86264\n",
      "INFO:torchnlp.common.model:-------------- Saved checkpoint 972 --------------\n",
      "  0%|          | 0/81 [00:00<?, ?it/s]INFO:torchnlp.common.train:Epoch 13 (972)\n",
      "Training:  19%|█▊        | 15/81 [00:00<00:00, 148.58it/s, loss=0.0534]"
     ]
    },
    {
     "name": "stdout",
     "output_type": "stream",
     "text": [
      "kl_loss_final: 0.24400582980541957, pre_loss : 0.259209190096174\n"
     ]
    },
    {
     "name": "stderr",
     "output_type": "stream",
     "text": [
      "INFO:torchnlp.common.train:total_loss: 0.05074732736856849, kl_loss: 0.10309685481551253, nll_loss: 0.12291512463563754\n",
      "INFO:torchnlp.common.train:Train Loss: 0.05075\n",
      "INFO:torchnlp.common.train:Validation metrics:             \n",
      "INFO:torchnlp.common.train:loss=0.25508, acc=0.92488, acc-seq=0.29225, precision=0.84263, recall=0.88248, F1=0.86210\n",
      "INFO:torchnlp.common.model:-------------- Saved checkpoint 1053 --------------\n",
      "  0%|          | 0/81 [00:00<?, ?it/s]INFO:torchnlp.common.train:Epoch 14 (1053)\n",
      "Training:  19%|█▊        | 15/81 [00:00<00:00, 146.72it/s, loss=0.0441]"
     ]
    },
    {
     "name": "stdout",
     "output_type": "stream",
     "text": [
      "kl_loss_final: 0.2465978041291237, pre_loss : 0.25508264345782145\n"
     ]
    },
    {
     "name": "stderr",
     "output_type": "stream",
     "text": [
      "INFO:torchnlp.common.train:total_loss: 0.04610945675292133, kl_loss: 0.10387917378066498, nll_loss: 0.11882487730479535\n",
      "INFO:torchnlp.common.train:Train Loss: 0.04611\n",
      "INFO:torchnlp.common.train:Validation metrics:             \n",
      "INFO:torchnlp.common.train:loss=0.25724, acc=0.92315, acc-seq=0.26342, precision=0.85698, recall=0.87347, F1=0.86515\n",
      "INFO:torchnlp.common.model:-------------- Saved checkpoint 1134 --------------\n",
      "  0%|          | 0/81 [00:00<?, ?it/s]INFO:torchnlp.common.train:Epoch 15 (1134)\n",
      "Training:  19%|█▊        | 15/81 [00:00<00:00, 140.79it/s, loss=0.0418]"
     ]
    },
    {
     "name": "stdout",
     "output_type": "stream",
     "text": [
      "kl_loss_final: 0.2500104680657387, pre_loss : 0.25724392880996066\n"
     ]
    },
    {
     "name": "stderr",
     "output_type": "stream",
     "text": [
      "INFO:torchnlp.common.train:total_loss: 0.04239727777463419, kl_loss: 0.10443663615503429, nll_loss: 0.11550292170342104\n",
      "INFO:torchnlp.common.train:Train Loss: 0.04240\n",
      "INFO:torchnlp.common.train:Validation metrics:             \n",
      "INFO:torchnlp.common.train:loss=0.24935, acc=0.92858, acc-seq=0.28479, precision=0.85513, recall=0.88123, F1=0.86798\n",
      "INFO:torchnlp.common.model:-------------- Saved checkpoint 1215 --------------\n",
      "  0%|          | 0/81 [00:00<?, ?it/s]INFO:torchnlp.common.train:Epoch 16 (1215)\n",
      "Training:  20%|█▉        | 16/81 [00:00<00:00, 151.76it/s, loss=0.0383]"
     ]
    },
    {
     "name": "stdout",
     "output_type": "stream",
     "text": [
      "kl_loss_final: 0.2516967515860285, pre_loss : 0.24935408717110044\n"
     ]
    },
    {
     "name": "stderr",
     "output_type": "stream",
     "text": [
      "INFO:torchnlp.common.train:total_loss: 0.03883830375141568, kl_loss: 0.10445273299644023, nll_loss: 0.11195521571753937\n",
      "INFO:torchnlp.common.train:Train Loss: 0.03884\n",
      "INFO:torchnlp.common.train:Validation metrics:             \n",
      "INFO:torchnlp.common.train:loss=0.25478, acc=0.92720, acc-seq=0.28827, precision=0.85669, recall=0.88571, F1=0.87096\n",
      "INFO:torchnlp.common.model:-------------- Saved checkpoint 1296 --------------\n",
      "  0%|          | 0/81 [00:00<?, ?it/s]INFO:torchnlp.common.train:Epoch 17 (1296)\n",
      "Training:  19%|█▊        | 15/81 [00:00<00:00, 143.69it/s, loss=0.0362]"
     ]
    },
    {
     "name": "stdout",
     "output_type": "stream",
     "text": [
      "kl_loss_final: 0.2516168991015071, pre_loss : 0.2547768311841147\n"
     ]
    },
    {
     "name": "stderr",
     "output_type": "stream",
     "text": [
      "INFO:torchnlp.common.train:total_loss: 0.035045251020310836, kl_loss: 0.10425513936781589, nll_loss: 0.10802384769475018\n",
      "INFO:torchnlp.common.train:Train Loss: 0.03505\n",
      "INFO:torchnlp.common.train:Validation metrics:             \n",
      "INFO:torchnlp.common.train:loss=0.24991, acc=0.92969, acc-seq=0.29771, precision=0.85854, recall=0.88756, F1=0.87281\n",
      "INFO:torchnlp.common.model:-------------- Saved checkpoint 1377 --------------\n",
      "  0%|          | 0/81 [00:00<?, ?it/s]INFO:torchnlp.common.train:Epoch 18 (1377)\n",
      "Training:  19%|█▊        | 15/81 [00:00<00:00, 148.12it/s, loss=0.0327]"
     ]
    },
    {
     "name": "stdout",
     "output_type": "stream",
     "text": [
      "kl_loss_final: 0.24843935349157878, pre_loss : 0.2499101154860996\n"
     ]
    },
    {
     "name": "stderr",
     "output_type": "stream",
     "text": [
      "INFO:torchnlp.common.train:total_loss: 0.03146220835638635, kl_loss: 0.10442362008271394, nll_loss: 0.1045587412369104\n",
      "INFO:torchnlp.common.train:Train Loss: 0.03146\n",
      "INFO:torchnlp.common.train:Validation metrics:             \n",
      "INFO:torchnlp.common.train:loss=0.24787, acc=0.92978, acc-seq=0.30318, precision=0.86215, recall=0.88731, F1=0.87455\n",
      "INFO:torchnlp.common.model:-------------- Saved checkpoint 1458 --------------\n",
      "  0%|          | 0/81 [00:00<?, ?it/s]INFO:torchnlp.common.train:Epoch 19 (1458)\n",
      "Training:  17%|█▋        | 14/81 [00:00<00:00, 138.63it/s, loss=0.0263]"
     ]
    },
    {
     "name": "stdout",
     "output_type": "stream",
     "text": [
      "kl_loss_final: 0.24876994426761354, pre_loss : 0.2478703430720738\n"
     ]
    },
    {
     "name": "stderr",
     "output_type": "stream",
     "text": [
      "INFO:torchnlp.common.train:total_loss: 0.0281274159565384, kl_loss: 0.10413636984648528, nll_loss: 0.10102287385566736\n",
      "INFO:torchnlp.common.train:Train Loss: 0.02813\n",
      "INFO:torchnlp.common.train:Validation metrics:             \n",
      "INFO:torchnlp.common.train:loss=0.24515, acc=0.93208, acc-seq=0.31014, precision=0.86282, recall=0.88710, F1=0.87479\n",
      "INFO:torchnlp.common.model:-------------- Saved checkpoint 1539 --------------\n",
      "  0%|          | 0/81 [00:00<?, ?it/s]INFO:torchnlp.common.train:Epoch 20 (1539)\n",
      "Training:  19%|█▊        | 15/81 [00:00<00:00, 138.33it/s, loss=0.0237]"
     ]
    },
    {
     "name": "stdout",
     "output_type": "stream",
     "text": [
      "kl_loss_final: 0.2478542317237173, pre_loss : 0.2451467113125892\n"
     ]
    },
    {
     "name": "stderr",
     "output_type": "stream",
     "text": [
      "INFO:torchnlp.common.train:total_loss: 0.02451037390180576, kl_loss: 0.10623694100865612, nll_loss: 0.09887623133850687\n",
      "INFO:torchnlp.common.train:Train Loss: 0.02451\n",
      "INFO:torchnlp.common.train:Validation metrics:             \n",
      "INFO:torchnlp.common.train:loss=0.24578, acc=0.93272, acc-seq=0.31909, precision=0.86697, recall=0.89183, F1=0.87923\n",
      "INFO:torchnlp.common.model:-------------- Saved checkpoint 1620 --------------\n",
      "  0%|          | 0/81 [00:00<?, ?it/s]INFO:torchnlp.common.train:Epoch 21 (1620)\n",
      "Training:  19%|█▊        | 15/81 [00:00<00:00, 144.75it/s, loss=0.0193]"
     ]
    },
    {
     "name": "stdout",
     "output_type": "stream",
     "text": [
      "kl_loss_final: 0.2524594377194132, pre_loss : 0.2457818403130486\n"
     ]
    },
    {
     "name": "stderr",
     "output_type": "stream",
     "text": [
      "INFO:torchnlp.common.train:total_loss: 0.021211087059827497, kl_loss: 0.10880676472996488, nll_loss: 0.09737582109224649\n",
      "INFO:torchnlp.common.train:Train Loss: 0.02121\n",
      "INFO:torchnlp.common.train:Validation metrics:             \n",
      "INFO:torchnlp.common.train:loss=0.24266, acc=0.93152, acc-seq=0.33201, precision=0.85158, recall=0.89049, F1=0.87060\n",
      "INFO:torchnlp.common.model:-------------- Saved checkpoint 1701 --------------\n",
      "  0%|          | 0/81 [00:00<?, ?it/s]INFO:torchnlp.common.train:Epoch 22 (1701)\n",
      "Training:  19%|█▊        | 15/81 [00:00<00:00, 148.91it/s, loss=0.0162]"
     ]
    },
    {
     "name": "stdout",
     "output_type": "stream",
     "text": [
      "kl_loss_final: 0.25488220084281193, pre_loss : 0.24266460608868373\n"
     ]
    },
    {
     "name": "stderr",
     "output_type": "stream",
     "text": [
      "INFO:torchnlp.common.train:total_loss: 0.01746601914917981, kl_loss: 0.10982306871885135, nll_loss: 0.09434216635094748\n",
      "INFO:torchnlp.common.train:Train Loss: 0.01747\n",
      "INFO:torchnlp.common.train:Validation metrics:             \n",
      "INFO:torchnlp.common.train:loss=0.24173, acc=0.93370, acc-seq=0.33101, precision=0.86280, recall=0.89246, F1=0.87738\n",
      "INFO:torchnlp.common.model:-------------- Saved checkpoint 1782 --------------\n",
      "  0%|          | 0/81 [00:00<?, ?it/s]INFO:torchnlp.common.train:Epoch 23 (1782)\n",
      "Training:  17%|█▋        | 14/81 [00:00<00:00, 138.67it/s, loss=0.0167]"
     ]
    },
    {
     "name": "stdout",
     "output_type": "stream",
     "text": [
      "kl_loss_final: 0.25482743410837083, pre_loss : 0.24173099937893094\n"
     ]
    },
    {
     "name": "stderr",
     "output_type": "stream",
     "text": [
      "INFO:torchnlp.common.train:total_loss: 0.01752384439294721, kl_loss: 0.11002456065681246, nll_loss: 0.09454103586850343\n",
      "INFO:torchnlp.common.train:Train Loss: 0.01752\n",
      "INFO:torchnlp.common.train:Validation metrics:             \n",
      "INFO:torchnlp.common.train:loss=0.24375, acc=0.93360, acc-seq=0.32505, precision=0.86965, recall=0.89309, F1=0.88121\n",
      "INFO:torchnlp.common.model:-------------- Saved checkpoint 1863 --------------\n",
      "  0%|          | 0/81 [00:00<?, ?it/s]INFO:torchnlp.common.train:Epoch 24 (1863)\n",
      "Training:  19%|█▊        | 15/81 [00:00<00:00, 146.80it/s, loss=0.0124] "
     ]
    },
    {
     "name": "stdout",
     "output_type": "stream",
     "text": [
      "kl_loss_final: 0.2575025718126978, pre_loss : 0.24375220778442563\n"
     ]
    },
    {
     "name": "stderr",
     "output_type": "stream",
     "text": [
      "INFO:torchnlp.common.train:total_loss: 0.01416586794786983, kl_loss: 0.11065069319289407, nll_loss: 0.0916213517387708\n",
      "INFO:torchnlp.common.train:Train Loss: 0.01417\n",
      "INFO:torchnlp.common.train:Validation metrics:             \n",
      "INFO:torchnlp.common.train:loss=0.24654, acc=0.93276, acc-seq=0.32753, precision=0.86698, recall=0.88865, F1=0.87768\n",
      "INFO:torchnlp.common.model:-------------- Saved checkpoint 1944 --------------\n",
      "  0%|          | 0/81 [00:00<?, ?it/s]INFO:torchnlp.common.train:Epoch 25 (1944)\n",
      "Training:  17%|█▋        | 14/81 [00:00<00:00, 135.78it/s, loss=0.0131] "
     ]
    },
    {
     "name": "stdout",
     "output_type": "stream",
     "text": [
      "kl_loss_final: 0.2571231520601681, pre_loss : 0.24654263116064526\n"
     ]
    },
    {
     "name": "stderr",
     "output_type": "stream",
     "text": [
      "INFO:torchnlp.common.train:total_loss: 0.013921543955802917, kl_loss: 0.11077287829952476, nll_loss: 0.09146255820437714\n",
      "INFO:torchnlp.common.train:Train Loss: 0.01392\n",
      "INFO:torchnlp.common.train:Validation metrics:             \n",
      "INFO:torchnlp.common.train:loss=0.24446, acc=0.93440, acc-seq=0.34046, precision=0.86328, recall=0.89506, F1=0.87889\n",
      "INFO:torchnlp.common.model:-------------- Saved checkpoint 2025 --------------\n",
      "  0%|          | 0/81 [00:00<?, ?it/s]INFO:torchnlp.common.train:Epoch 26 (2025)\n",
      "Training:  19%|█▊        | 15/81 [00:00<00:00, 143.15it/s, loss=0.0113]"
     ]
    },
    {
     "name": "stdout",
     "output_type": "stream",
     "text": [
      "kl_loss_final: 0.25819109096413567, pre_loss : 0.244461195454711\n"
     ]
    },
    {
     "name": "stderr",
     "output_type": "stream",
     "text": [
      "INFO:torchnlp.common.train:total_loss: 0.013623610184884366, kl_loss: 0.11102309381520306, nll_loss: 0.09133977470574556\n",
      "INFO:torchnlp.common.train:Train Loss: 0.01362\n",
      "INFO:torchnlp.common.train:Validation metrics:             \n",
      "INFO:torchnlp.common.train:loss=0.24188, acc=0.93486, acc-seq=0.33797, precision=0.86721, recall=0.89175, F1=0.87931\n",
      "INFO:torchnlp.common.model:-------------- Saved checkpoint 2106 --------------\n",
      "  0%|          | 0/81 [00:00<?, ?it/s]INFO:torchnlp.common.train:Epoch 27 (2106)\n",
      "Training:  19%|█▊        | 15/81 [00:00<00:00, 146.30it/s, loss=0.0122]"
     ]
    },
    {
     "name": "stdout",
     "output_type": "stream",
     "text": [
      "kl_loss_final: 0.2575261866052945, pre_loss : 0.24188313242935\n"
     ]
    },
    {
     "name": "stderr",
     "output_type": "stream",
     "text": [
      "INFO:torchnlp.common.train:total_loss: 0.011479124150894306, kl_loss: 0.11092335795178826, nll_loss: 0.08912547337420193\n",
      "INFO:torchnlp.common.train:Train Loss: 0.01148\n",
      "INFO:torchnlp.common.train:Validation metrics:             \n",
      "INFO:torchnlp.common.train:loss=0.24627, acc=0.93414, acc-seq=0.33549, precision=0.86608, recall=0.89229, F1=0.87899\n",
      "INFO:torchnlp.common.model:-------------- Saved checkpoint 2187 --------------\n",
      "  0%|          | 0/81 [00:00<?, ?it/s]INFO:torchnlp.common.train:Epoch 28 (2187)\n",
      "Training:  19%|█▊        | 15/81 [00:00<00:00, 148.08it/s, loss=0.0091] "
     ]
    },
    {
     "name": "stdout",
     "output_type": "stream",
     "text": [
      "kl_loss_final: 0.2575069052122888, pre_loss : 0.24626562212194716\n"
     ]
    },
    {
     "name": "stderr",
     "output_type": "stream",
     "text": [
      "INFO:torchnlp.common.train:total_loss: 0.0108303823220877, kl_loss: 0.11111856132377813, nll_loss: 0.08861337418173566\n",
      "INFO:torchnlp.common.train:Train Loss: 0.01083\n",
      "INFO:torchnlp.common.train:Validation metrics:             \n",
      "INFO:torchnlp.common.train:loss=0.24332, acc=0.93529, acc-seq=0.34145, precision=0.87000, recall=0.89502, F1=0.88233\n",
      "INFO:torchnlp.common.model:-------------- Saved checkpoint 2268 --------------\n",
      "  0%|          | 0/81 [00:00<?, ?it/s]INFO:torchnlp.common.train:Epoch 29 (2268)\n",
      "Training:  19%|█▊        | 15/81 [00:00<00:00, 145.12it/s, loss=0.00848]"
     ]
    },
    {
     "name": "stdout",
     "output_type": "stream",
     "text": [
      "kl_loss_final: 0.2586439894068809, pre_loss : 0.24332170614174434\n"
     ]
    },
    {
     "name": "stderr",
     "output_type": "stream",
     "text": [
      "INFO:torchnlp.common.train:total_loss: 0.010090789125289447, kl_loss: 0.11129774511964233, nll_loss: 0.08799920930170718\n",
      "INFO:torchnlp.common.train:Train Loss: 0.01009\n",
      "INFO:torchnlp.common.train:Validation metrics:             \n",
      "INFO:torchnlp.common.train:loss=0.24104, acc=0.93611, acc-seq=0.34592, precision=0.86618, recall=0.89443, F1=0.88008\n",
      "INFO:torchnlp.common.model:-------------- Saved checkpoint 2349 --------------\n",
      "  0%|          | 0/81 [00:00<?, ?it/s]INFO:torchnlp.common.train:Epoch 30 (2349)\n",
      "Training:  17%|█▋        | 14/81 [00:00<00:00, 134.50it/s, loss=0.00823]"
     ]
    },
    {
     "name": "stdout",
     "output_type": "stream",
     "text": [
      "kl_loss_final: 0.2590182810312226, pre_loss : 0.2410352716133708\n"
     ]
    },
    {
     "name": "stderr",
     "output_type": "stream",
     "text": [
      "INFO:torchnlp.common.train:total_loss: 0.008692457674094189, kl_loss: 0.11147204363419685, nll_loss: 0.0867228870406563\n",
      "INFO:torchnlp.common.train:Train Loss: 0.00869\n",
      "INFO:torchnlp.common.train:Validation metrics:             \n",
      "INFO:torchnlp.common.train:loss=0.24236, acc=0.93597, acc-seq=0.34592, precision=0.86701, recall=0.89406, F1=0.88033\n",
      "INFO:torchnlp.common.model:-------------- Saved checkpoint 2430 --------------\n",
      "  0%|          | 0/81 [00:00<?, ?it/s]INFO:torchnlp.common.train:Epoch 31 (2430)\n",
      "Training:  17%|█▋        | 14/81 [00:00<00:00, 137.55it/s, loss=0.00788]"
     ]
    },
    {
     "name": "stdout",
     "output_type": "stream",
     "text": [
      "kl_loss_final: 0.2588125364411445, pre_loss : 0.24235705747490838\n"
     ]
    },
    {
     "name": "stderr",
     "output_type": "stream",
     "text": [
      "INFO:torchnlp.common.train:total_loss: 0.008452895430870999, kl_loss: 0.11128911550766156, nll_loss: 0.08635527525603036\n",
      "INFO:torchnlp.common.train:Train Loss: 0.00845\n",
      "INFO:torchnlp.common.train:Validation metrics:             \n",
      "INFO:torchnlp.common.train:loss=0.24070, acc=0.93626, acc-seq=0.34592, precision=0.87293, recall=0.89691, F1=0.88476\n",
      "INFO:torchnlp.common.model:-------------- Saved checkpoint 2511 --------------\n",
      "  0%|          | 0/81 [00:00<?, ?it/s]INFO:torchnlp.common.train:Epoch 32 (2511)\n",
      "Training:  19%|█▊        | 15/81 [00:00<00:00, 142.75it/s, loss=0.00618]"
     ]
    },
    {
     "name": "stdout",
     "output_type": "stream",
     "text": [
      "kl_loss_final: 0.25772096181199666, pre_loss : 0.2407006976150331\n"
     ]
    },
    {
     "name": "stderr",
     "output_type": "stream",
     "text": [
      "INFO:torchnlp.common.train:total_loss: 0.00802983361997722, kl_loss: 0.1111463925536768, nll_loss: 0.08583230718418404\n",
      "INFO:torchnlp.common.train:Train Loss: 0.00803\n",
      "INFO:torchnlp.common.train:Validation metrics:             \n",
      "INFO:torchnlp.common.train:loss=0.24215, acc=0.93527, acc-seq=0.33151, precision=0.86902, recall=0.89150, F1=0.88011\n",
      "INFO:torchnlp.common.model:-------------- Saved checkpoint 2592 --------------\n",
      "  0%|          | 0/81 [00:00<?, ?it/s]INFO:torchnlp.common.train:Epoch 33 (2592)\n",
      "Training:  19%|█▊        | 15/81 [00:00<00:00, 139.38it/s, loss=0.00674]"
     ]
    },
    {
     "name": "stdout",
     "output_type": "stream",
     "text": [
      "kl_loss_final: 0.2583861780308542, pre_loss : 0.24215309499275117\n"
     ]
    },
    {
     "name": "stderr",
     "output_type": "stream",
     "text": [
      "INFO:torchnlp.common.train:total_loss: 0.007657915537739977, kl_loss: 0.11108117789765935, nll_loss: 0.08541473879674334\n",
      "INFO:torchnlp.common.train:Train Loss: 0.00766\n",
      "INFO:torchnlp.common.train:Validation metrics:             \n",
      "INFO:torchnlp.common.train:loss=0.23535, acc=0.93640, acc-seq=0.34642, precision=0.86758, recall=0.89603, F1=0.88157\n",
      "INFO:torchnlp.common.model:-------------- Saved checkpoint 2673 --------------\n",
      "  0%|          | 0/81 [00:00<?, ?it/s]INFO:torchnlp.common.train:Epoch 34 (2673)\n",
      "Training:  17%|█▋        | 14/81 [00:00<00:00, 134.07it/s, loss=0.00777]"
     ]
    },
    {
     "name": "stdout",
     "output_type": "stream",
     "text": [
      "kl_loss_final: 0.25820040489946094, pre_loss : 0.23535090791327612\n"
     ]
    },
    {
     "name": "stderr",
     "output_type": "stream",
     "text": [
      "INFO:torchnlp.common.train:total_loss: 0.006982854762930929, kl_loss: 0.11133336754124841, nll_loss: 0.08491621079084313\n",
      "INFO:torchnlp.common.train:Train Loss: 0.00698\n",
      "INFO:torchnlp.common.train:Validation metrics:             \n",
      "INFO:torchnlp.common.train:loss=0.23680, acc=0.93761, acc-seq=0.34493, precision=0.87561, recall=0.89837, F1=0.88685\n",
      "INFO:torchnlp.common.model:-------------- Saved checkpoint 2754 --------------\n",
      "  0%|          | 0/81 [00:00<?, ?it/s]INFO:torchnlp.common.train:Epoch 35 (2754)\n",
      "Training:  20%|█▉        | 16/81 [00:00<00:00, 151.78it/s, loss=0.00414]"
     ]
    },
    {
     "name": "stdout",
     "output_type": "stream",
     "text": [
      "kl_loss_final: 0.25848345352070673, pre_loss : 0.2368038676324345\n"
     ]
    },
    {
     "name": "stderr",
     "output_type": "stream",
     "text": [
      "INFO:torchnlp.common.train:total_loss: 0.005599479156511801, kl_loss: 0.11147343928431287, nll_loss: 0.08363088546895686\n",
      "INFO:torchnlp.common.train:Train Loss: 0.00560\n",
      "INFO:torchnlp.common.train:Validation metrics:             \n",
      "INFO:torchnlp.common.train:loss=0.24282, acc=0.93718, acc-seq=0.34245, precision=0.87470, recall=0.89703, F1=0.88572\n",
      "INFO:torchnlp.common.model:-------------- Saved checkpoint 2835 --------------\n",
      "  0%|          | 0/81 [00:00<?, ?it/s]INFO:torchnlp.common.train:Epoch 36 (2835)\n",
      "Training:  17%|█▋        | 14/81 [00:00<00:00, 136.78it/s, loss=0.00319]"
     ]
    },
    {
     "name": "stdout",
     "output_type": "stream",
     "text": [
      "kl_loss_final: 0.25852733353773755, pre_loss : 0.2428193347794669\n"
     ]
    },
    {
     "name": "stderr",
     "output_type": "stream",
     "text": [
      "INFO:torchnlp.common.train:total_loss: 0.005603579229410784, kl_loss: 0.11139483823452467, nll_loss: 0.08357996465983214\n",
      "INFO:torchnlp.common.train:Train Loss: 0.00560\n",
      "INFO:torchnlp.common.train:Validation metrics:             \n",
      "INFO:torchnlp.common.train:loss=0.23167, acc=0.93813, acc-seq=0.35437, precision=0.87266, recall=0.89703, F1=0.88468\n",
      "INFO:torchnlp.common.model:-------------- Saved checkpoint 2916 --------------\n",
      "  0%|          | 0/81 [00:00<?, ?it/s]INFO:torchnlp.common.train:Epoch 37 (2916)\n",
      "Training:  17%|█▋        | 14/81 [00:00<00:00, 135.51it/s, loss=0.0041] "
     ]
    },
    {
     "name": "stdout",
     "output_type": "stream",
     "text": [
      "kl_loss_final: 0.25906043286834446, pre_loss : 0.2316717097447032\n"
     ]
    },
    {
     "name": "stderr",
     "output_type": "stream",
     "text": [
      "INFO:torchnlp.common.train:total_loss: 0.004738398632149638, kl_loss: 0.11159253515947012, nll_loss: 0.08285317220437674\n",
      "INFO:torchnlp.common.train:Train Loss: 0.00474\n",
      "INFO:torchnlp.common.train:Validation metrics:             \n",
      "INFO:torchnlp.common.train:loss=0.23735, acc=0.93737, acc-seq=0.36680, precision=0.87024, recall=0.90202, F1=0.88585\n",
      "INFO:torchnlp.common.model:-------------- Saved checkpoint 2997 --------------\n",
      "  0%|          | 0/81 [00:00<?, ?it/s]INFO:torchnlp.common.train:Epoch 38 (2997)\n",
      "Training:  19%|█▊        | 15/81 [00:00<00:00, 139.82it/s, loss=0.00117] "
     ]
    },
    {
     "name": "stdout",
     "output_type": "stream",
     "text": [
      "kl_loss_final: 0.25874055709157673, pre_loss : 0.23734541982412338\n"
     ]
    },
    {
     "name": "stderr",
     "output_type": "stream",
     "text": [
      "INFO:torchnlp.common.train:total_loss: 0.003923856917722726, kl_loss: 0.11162531753013163, nll_loss: 0.08206157781827597\n",
      "INFO:torchnlp.common.train:Train Loss: 0.00392\n",
      "INFO:torchnlp.common.train:Validation metrics:             \n",
      "INFO:torchnlp.common.train:loss=0.23751, acc=0.93885, acc-seq=0.36332, precision=0.87692, recall=0.89938, F1=0.88801\n",
      "INFO:torchnlp.common.model:-------------- Saved checkpoint 3078 --------------\n",
      "  0%|          | 0/81 [00:00<?, ?it/s]INFO:torchnlp.common.train:Epoch 39 (3078)\n",
      "Training:  19%|█▊        | 15/81 [00:00<00:00, 141.97it/s, loss=0.00279]"
     ]
    },
    {
     "name": "stdout",
     "output_type": "stream",
     "text": [
      "kl_loss_final: 0.2588363676553681, pre_loss : 0.23751371921527953\n"
     ]
    },
    {
     "name": "stderr",
     "output_type": "stream",
     "text": [
      "INFO:torchnlp.common.train:total_loss: 0.004493290627444232, kl_loss: 0.11154181629787256, nll_loss: 0.08257256080338984\n",
      "INFO:torchnlp.common.train:Train Loss: 0.00449\n",
      "INFO:torchnlp.common.train:Validation metrics:             \n",
      "INFO:torchnlp.common.train:loss=0.23727, acc=0.93936, acc-seq=0.36581, precision=0.87808, recall=0.90009, F1=0.88895\n",
      "INFO:torchnlp.common.model:-------------- Saved checkpoint 3159 --------------\n",
      "  0%|          | 0/81 [00:00<?, ?it/s]INFO:torchnlp.common.train:Epoch 40 (3159)\n",
      "Training:  19%|█▊        | 15/81 [00:00<00:00, 141.55it/s, loss=0.00279]"
     ]
    },
    {
     "name": "stdout",
     "output_type": "stream",
     "text": [
      "kl_loss_final: 0.25812604207368123, pre_loss : 0.2372720255738213\n"
     ]
    },
    {
     "name": "stderr",
     "output_type": "stream",
     "text": [
      "INFO:torchnlp.common.train:total_loss: 0.0032080038922068514, kl_loss: 0.11154481170721996, nll_loss: 0.0812893711766343\n",
      "INFO:torchnlp.common.train:Train Loss: 0.00321\n",
      "INFO:torchnlp.common.train:Validation metrics:             \n",
      "INFO:torchnlp.common.train:loss=0.23680, acc=0.93895, acc-seq=0.36730, precision=0.87670, recall=0.90261, F1=0.88946\n",
      "INFO:torchnlp.common.model:-------------- Saved checkpoint 3240 --------------\n",
      "  0%|          | 0/81 [00:00<?, ?it/s]INFO:torchnlp.common.train:Epoch 41 (3240)\n",
      "Training:  17%|█▋        | 14/81 [00:00<00:00, 127.22it/s, loss=0.00181]"
     ]
    },
    {
     "name": "stdout",
     "output_type": "stream",
     "text": [
      "kl_loss_final: 0.2584873384663037, pre_loss : 0.23679707057419278\n"
     ]
    },
    {
     "name": "stderr",
     "output_type": "stream",
     "text": [
      "INFO:torchnlp.common.train:total_loss: 0.0036240506135387187, kl_loss: 0.11134293601836687, nll_loss: 0.08156410489737252\n",
      "INFO:torchnlp.common.train:Train Loss: 0.00362\n",
      "INFO:torchnlp.common.train:Validation metrics:             \n",
      "INFO:torchnlp.common.train:loss=0.23780, acc=0.93786, acc-seq=0.36183, precision=0.87745, recall=0.90055, F1=0.88885\n",
      "INFO:torchnlp.common.model:-------------- Saved checkpoint 3321 --------------\n",
      "  0%|          | 0/81 [00:00<?, ?it/s]INFO:torchnlp.common.train:Epoch 42 (3321)\n",
      "Training:  19%|█▊        | 15/81 [00:00<00:00, 139.25it/s, loss=0.00352]"
     ]
    },
    {
     "name": "stdout",
     "output_type": "stream",
     "text": [
      "kl_loss_final: 0.25838060677051544, pre_loss : 0.2377985268831253\n"
     ]
    },
    {
     "name": "stderr",
     "output_type": "stream",
     "text": [
      "INFO:torchnlp.common.train:total_loss: 0.002648833449240084, kl_loss: 0.11147416180666582, nll_loss: 0.08068074520539355\n",
      "INFO:torchnlp.common.train:Train Loss: 0.00265\n",
      "INFO:torchnlp.common.train:Validation metrics:             \n",
      "INFO:torchnlp.common.train:loss=0.24383, acc=0.93906, acc-seq=0.36481, precision=0.87621, recall=0.90097, F1=0.88842\n",
      "INFO:torchnlp.common.model:-------------- Saved checkpoint 3402 --------------\n",
      "  0%|          | 0/81 [00:00<?, ?it/s]INFO:torchnlp.common.train:Epoch 43 (3402)\n",
      "Training:  17%|█▋        | 14/81 [00:00<00:00, 139.12it/s, loss=0.00161] "
     ]
    },
    {
     "name": "stdout",
     "output_type": "stream",
     "text": [
      "kl_loss_final: 0.25861230421633946, pre_loss : 0.2438266220546904\n"
     ]
    },
    {
     "name": "stderr",
     "output_type": "stream",
     "text": [
      "INFO:torchnlp.common.train:total_loss: 0.002247110515097041, kl_loss: 0.11147629258073406, nll_loss: 0.08028051399706322\n",
      "INFO:torchnlp.common.train:Train Loss: 0.00225\n",
      "INFO:torchnlp.common.train:Validation metrics:             \n",
      "INFO:torchnlp.common.train:loss=0.23891, acc=0.93860, acc-seq=0.35885, precision=0.87104, recall=0.89821, F1=0.88441\n",
      "INFO:torchnlp.common.model:-------------- Saved checkpoint 3483 --------------\n",
      "  0%|          | 0/81 [00:00<?, ?it/s]INFO:torchnlp.common.train:Epoch 44 (3483)\n",
      "Training:  17%|█▋        | 14/81 [00:00<00:00, 137.88it/s, loss=0.000199]"
     ]
    },
    {
     "name": "stdout",
     "output_type": "stream",
     "text": [
      "kl_loss_final: 0.25896468652146204, pre_loss : 0.23890581797985805\n"
     ]
    },
    {
     "name": "stderr",
     "output_type": "stream",
     "text": [
      "INFO:torchnlp.common.train:total_loss: 0.001857381957916566, kl_loss: 0.11172640728361813, nll_loss: 0.08006586598945253\n",
      "INFO:torchnlp.common.train:Train Loss: 0.00186\n",
      "INFO:torchnlp.common.train:Validation metrics:             \n",
      "INFO:torchnlp.common.train:loss=0.23696, acc=0.93934, acc-seq=0.36730, precision=0.87274, recall=0.90110, F1=0.88669\n",
      "INFO:torchnlp.common.model:-------------- Saved checkpoint 3564 --------------\n",
      "  0%|          | 0/81 [00:00<?, ?it/s]INFO:torchnlp.common.train:Epoch 45 (3564)\n",
      "Training:  19%|█▊        | 15/81 [00:00<00:00, 141.97it/s, loss=-2.13e-5]"
     ]
    },
    {
     "name": "stdout",
     "output_type": "stream",
     "text": [
      "kl_loss_final: 0.25926063387166887, pre_loss : 0.23695585912182218\n"
     ]
    },
    {
     "name": "stderr",
     "output_type": "stream",
     "text": [
      "INFO:torchnlp.common.train:total_loss: 0.002267699596690543, kl_loss: 0.11172359813878566, nll_loss: 0.08047421685891387\n",
      "INFO:torchnlp.common.train:Train Loss: 0.00227\n",
      "INFO:torchnlp.common.train:Validation metrics:             \n",
      "INFO:torchnlp.common.train:loss=0.23646, acc=0.93850, acc-seq=0.35835, precision=0.87520, recall=0.90060, F1=0.88772\n",
      "INFO:torchnlp.common.train:Early stopping at iteration 3240, epoch 39, F1=0.88946\n",
      "  6%|▌         | 5/81 [00:00<00:01, 39.28it/s]"
     ]
    },
    {
     "name": "stdout",
     "output_type": "stream",
     "text": [
      "kl_loss_final: 0.2597748541406223, pre_loss : 0.23645629698321932\n"
     ]
    },
    {
     "name": "stderr",
     "output_type": "stream",
     "text": [
      "INFO:torchnlp.common.train:prediction, and attns for best epoch obtained, release hook\n",
      "INFO:torchnlp.common.train:prediction, and attns for best epoch obtained, release hook\n"
     ]
    },
    {
     "name": "stdout",
     "output_type": "stream",
     "text": [
      "SAVING PREDICTIONS AND ATTENTIONS\n",
      "done /home/zijiao/research/atal/saved_True_/11:23:03.518423/tr_pr_best\n",
      "done /home/zijiao/research/atal/saved_True_/11:23:03.518423/te_pr_best\n",
      "done /home/zijiao/research/atal/saved_True_/11:23:03.518423/tr_attn_best\n",
      "done /home/zijiao/research/atal/saved_True_/11:23:03.518423/te_attn_best\n",
      "LOOK HERE 0.23645629698321932 0.2597748541406223\n"
     ]
    },
    {
     "name": "stderr",
     "output_type": "stream",
     "text": [
      "INFO:torchnlp.data.conll:---------- CONLL 2000 Chunking ---------\n",
      "INFO:torchnlp.data.conll:Train size: 8042\n",
      "INFO:torchnlp.data.conll:Validation size: 894\n",
      "INFO:torchnlp.data.conll:Test size: 2012\n",
      "INFO:torchtext.vocab:Loading vectors from .vector_cache/glove.6B.200d.txt.pt\n",
      "INFO:torchtext.vocab:Loading vectors from .vector_cache/charNgram.txt.pt\n",
      "INFO:torchnlp.data.conll:Input vocab size:19032\n",
      "INFO:torchnlp.data.conll:Tagset size: 25\n",
      "INFO:torchnlp.common.model:\n",
      "Hyperparameters:\n",
      " batch_size=100\n",
      " embedding_size_word=300\n",
      " embedding_size_char=0\n",
      " embedding_size_char_per_word=100\n",
      " embedding_size_tags=100\n",
      " hidden_size=128\n",
      " learning_rate=0.2\n",
      " learning_rate_decay=noam_step\n",
      " max_length=256\n",
      " num_hidden_layers=1\n",
      " dropout=0.2\n",
      " optimizer_adam_beta1=0.9\n",
      " optimizer_adam_beta2=0.98\n",
      " use_crf=False\n",
      " num_heads=4\n",
      " attention_key_channels=0\n",
      " attention_value_channels=0\n",
      " filter_size=128\n",
      " filter_size_char=64\n",
      " input_dropout=0.2\n",
      " attention_dropout=0.2\n",
      " relu_dropout=0.2\n",
      " learning_rate_warmup_steps=500\n",
      " attn_path=./saved\n",
      " adversarial=True\n",
      " lmbda=0.7999999999999999\n",
      " froze=False\n",
      " froze_path=./froze\n",
      "INFO:torchnlp.common.train:Parameters: 140953(trainable), 5709601(non-trainable)\n",
      "INFO:torchnlp.common.train:Early stopping for highest value of validation F1 after 5 epochs\n",
      "  0%|          | 0/81 [00:00<?, ?it/s]INFO:torchnlp.common.train:Epoch 1 (0)\n",
      "INFO:torchnlp.common.train:total_loss: 1.1904051061029788, kl_loss: 0.035914339838020594, nll_loss: 1.2191365699709198\n",
      "INFO:torchnlp.common.train:Train Loss: 1.19041\n",
      "INFO:torchnlp.common.train:Validation metrics:             \n",
      "INFO:torchnlp.common.train:loss=1.02908, acc=0.62766, acc-seq=0.00050, precision=0.36858, recall=0.40932, F1=0.38788\n",
      "INFO:torchnlp.common.model:-------------- Saved checkpoint 81 --------------\n",
      "  0%|          | 0/81 [00:00<?, ?it/s]INFO:torchnlp.common.train:Epoch 2 (81)\n",
      "Training:  17%|█▋        | 14/81 [00:00<00:00, 138.75it/s, loss=0.413]"
     ]
    },
    {
     "name": "stdout",
     "output_type": "stream",
     "text": [
      "kl_loss_final: 0.14552687924532665, pre_loss : 1.0290812168802534\n"
     ]
    },
    {
     "name": "stderr",
     "output_type": "stream",
     "text": [
      "INFO:torchnlp.common.train:total_loss: 0.3405409262136177, kl_loss: 0.06545676677315324, nll_loss: 0.3929063390802454\n",
      "INFO:torchnlp.common.train:Train Loss: 0.34054\n",
      "INFO:torchnlp.common.train:Validation metrics:             \n",
      "INFO:torchnlp.common.train:loss=0.66777, acc=0.75540, acc-seq=0.01243, precision=0.59479, recall=0.62573, F1=0.60987\n",
      "INFO:torchnlp.common.model:-------------- Saved checkpoint 162 --------------\n",
      "  0%|          | 0/81 [00:00<?, ?it/s]INFO:torchnlp.common.train:Epoch 3 (162)\n",
      "Training:  17%|█▋        | 14/81 [00:00<00:00, 138.69it/s, loss=0.245]"
     ]
    },
    {
     "name": "stdout",
     "output_type": "stream",
     "text": [
      "kl_loss_final: 0.1780112243833996, pre_loss : 0.6677692873137338\n"
     ]
    },
    {
     "name": "stderr",
     "output_type": "stream",
     "text": [
      "INFO:torchnlp.common.train:total_loss: 0.21447992784741485, kl_loss: 0.080531798441101, nll_loss: 0.27890536888146106\n",
      "INFO:torchnlp.common.train:Train Loss: 0.21448\n",
      "INFO:torchnlp.common.train:Validation metrics:             \n",
      "INFO:torchnlp.common.train:loss=0.48495, acc=0.81863, acc-seq=0.04026, precision=0.70345, recall=0.71726, F1=0.71029\n",
      "INFO:torchnlp.common.model:-------------- Saved checkpoint 243 --------------\n",
      "  0%|          | 0/81 [00:00<?, ?it/s]INFO:torchnlp.common.train:Epoch 4 (243)\n",
      "Training:  17%|█▋        | 14/81 [00:00<00:00, 137.09it/s, loss=0.159]"
     ]
    },
    {
     "name": "stdout",
     "output_type": "stream",
     "text": [
      "kl_loss_final: 0.19852969369718007, pre_loss : 0.4849477580615452\n"
     ]
    },
    {
     "name": "stderr",
     "output_type": "stream",
     "text": [
      "INFO:torchnlp.common.train:total_loss: 0.1358649041733624, kl_loss: 0.08738161503900717, nll_loss: 0.20577019728996135\n",
      "INFO:torchnlp.common.train:Train Loss: 0.13586\n",
      "INFO:torchnlp.common.train:Validation metrics:             \n",
      "INFO:torchnlp.common.train:loss=0.36926, acc=0.87998, acc-seq=0.13469, precision=0.73886, recall=0.77817, F1=0.75801\n",
      "INFO:torchnlp.common.model:-------------- Saved checkpoint 324 --------------\n",
      "  0%|          | 0/81 [00:00<?, ?it/s]INFO:torchnlp.common.train:Epoch 5 (324)\n",
      "Training:  17%|█▋        | 14/81 [00:00<00:00, 137.32it/s, loss=0.0979]"
     ]
    },
    {
     "name": "stdout",
     "output_type": "stream",
     "text": [
      "kl_loss_final: 0.20808198444900058, pre_loss : 0.36925868193308514\n"
     ]
    },
    {
     "name": "stderr",
     "output_type": "stream",
     "text": [
      "INFO:torchnlp.common.train:total_loss: 0.0871594964446109, kl_loss: 0.09199936007275994, nll_loss: 0.16075898614930517\n",
      "INFO:torchnlp.common.train:Train Loss: 0.08716\n",
      "INFO:torchnlp.common.train:Validation metrics:             \n",
      "INFO:torchnlp.common.train:loss=0.32067, acc=0.89727, acc-seq=0.16402, precision=0.76612, recall=0.81712, F1=0.79080\n",
      "INFO:torchnlp.common.model:-------------- Saved checkpoint 405 --------------\n",
      "  0%|          | 0/81 [00:00<?, ?it/s]INFO:torchnlp.common.train:Epoch 6 (405)\n",
      "Training:  16%|█▌        | 13/81 [00:00<00:00, 121.29it/s, loss=0.07]  "
     ]
    },
    {
     "name": "stdout",
     "output_type": "stream",
     "text": [
      "kl_loss_final: 0.2288708168835867, pre_loss : 0.32066517997355687\n"
     ]
    },
    {
     "name": "stderr",
     "output_type": "stream",
     "text": [
      "INFO:torchnlp.common.train:total_loss: 0.06321121117583027, kl_loss: 0.10464094707995285, nll_loss: 0.14692397029311569\n",
      "INFO:torchnlp.common.train:Train Loss: 0.06321\n",
      "INFO:torchnlp.common.train:Validation metrics:             \n",
      "INFO:torchnlp.common.train:loss=0.31123, acc=0.90657, acc-seq=0.19433, precision=0.80787, recall=0.83473, F1=0.82108\n",
      "INFO:torchnlp.common.model:-------------- Saved checkpoint 486 --------------\n",
      "  0%|          | 0/81 [00:00<?, ?it/s]INFO:torchnlp.common.train:Epoch 7 (486)\n",
      "Training:  17%|█▋        | 14/81 [00:00<00:00, 137.83it/s, loss=0.0499]"
     ]
    },
    {
     "name": "stdout",
     "output_type": "stream",
     "text": [
      "kl_loss_final: 0.2549479479591052, pre_loss : 0.31123341690926326\n"
     ]
    },
    {
     "name": "stderr",
     "output_type": "stream",
     "text": [
      "INFO:torchnlp.common.train:total_loss: 0.04897507960781639, kl_loss: 0.10850776759562669, nll_loss: 0.13578129513764087\n",
      "INFO:torchnlp.common.train:Train Loss: 0.04898\n",
      "INFO:torchnlp.common.train:Validation metrics:             \n",
      "INFO:torchnlp.common.train:loss=0.28791, acc=0.91296, acc-seq=0.23310, precision=0.80782, recall=0.85364, F1=0.83010\n",
      "INFO:torchnlp.common.model:-------------- Saved checkpoint 567 --------------\n",
      "  0%|          | 0/81 [00:00<?, ?it/s]INFO:torchnlp.common.train:Epoch 8 (567)\n",
      "Training:  19%|█▊        | 15/81 [00:00<00:00, 146.06it/s, loss=0.053] "
     ]
    },
    {
     "name": "stdout",
     "output_type": "stream",
     "text": [
      "kl_loss_final: 0.2592296405207543, pre_loss : 0.28790912457874845\n"
     ]
    },
    {
     "name": "stderr",
     "output_type": "stream",
     "text": [
      "INFO:torchnlp.common.train:total_loss: 0.043062718470155456, kl_loss: 0.10938329268016933, nll_loss: 0.13056935406761405\n",
      "INFO:torchnlp.common.train:Train Loss: 0.04306\n",
      "INFO:torchnlp.common.train:Validation metrics:             \n",
      "INFO:torchnlp.common.train:loss=0.27280, acc=0.91708, acc-seq=0.25348, precision=0.82590, recall=0.85838, F1=0.84182\n",
      "INFO:torchnlp.common.model:-------------- Saved checkpoint 648 --------------\n",
      "  0%|          | 0/81 [00:00<?, ?it/s]INFO:torchnlp.common.train:Epoch 9 (648)\n",
      "Training:  19%|█▊        | 15/81 [00:00<00:00, 139.53it/s, loss=0.0342]"
     ]
    },
    {
     "name": "stdout",
     "output_type": "stream",
     "text": [
      "kl_loss_final: 0.2614631070977166, pre_loss : 0.27280236071064357\n"
     ]
    },
    {
     "name": "stderr",
     "output_type": "stream",
     "text": [
      "INFO:torchnlp.common.train:total_loss: 0.0344853475689888, kl_loss: 0.11000965692010926, nll_loss: 0.12249307444802036\n",
      "INFO:torchnlp.common.train:Train Loss: 0.03449\n",
      "INFO:torchnlp.common.train:Validation metrics:             \n",
      "INFO:torchnlp.common.train:loss=0.26569, acc=0.92150, acc-seq=0.28082, precision=0.82726, recall=0.86856, F1=0.84741\n",
      "INFO:torchnlp.common.model:-------------- Saved checkpoint 729 --------------\n",
      "  0%|          | 0/81 [00:00<?, ?it/s]INFO:torchnlp.common.train:Epoch 10 (729)\n",
      "Training:  17%|█▋        | 14/81 [00:00<00:00, 139.78it/s, loss=0.0303]"
     ]
    },
    {
     "name": "stdout",
     "output_type": "stream",
     "text": [
      "kl_loss_final: 0.26276917649166925, pre_loss : 0.26568928077107384\n"
     ]
    },
    {
     "name": "stderr",
     "output_type": "stream",
     "text": [
      "INFO:torchnlp.common.train:total_loss: 0.028572685924577124, kl_loss: 0.11074356376020997, nll_loss: 0.11716753842286122\n",
      "INFO:torchnlp.common.train:Train Loss: 0.02857\n",
      "INFO:torchnlp.common.train:Validation metrics:             \n",
      "INFO:torchnlp.common.train:loss=0.26991, acc=0.92064, acc-seq=0.26093, precision=0.83818, recall=0.86584, F1=0.85179\n",
      "INFO:torchnlp.common.model:-------------- Saved checkpoint 810 --------------\n",
      "  0%|          | 0/81 [00:00<?, ?it/s]INFO:torchnlp.common.train:Epoch 11 (810)\n",
      "Training:  17%|█▋        | 14/81 [00:00<00:00, 135.82it/s, loss=0.0242]"
     ]
    },
    {
     "name": "stdout",
     "output_type": "stream",
     "text": [
      "kl_loss_final: 0.26434612628959475, pre_loss : 0.2699104384297416\n"
     ]
    },
    {
     "name": "stderr",
     "output_type": "stream",
     "text": [
      "INFO:torchnlp.common.train:total_loss: 0.025784286267963457, kl_loss: 0.11092646088865069, nll_loss: 0.11452545648739662\n",
      "INFO:torchnlp.common.train:Train Loss: 0.02578\n",
      "INFO:torchnlp.common.train:Validation metrics:             \n",
      "INFO:torchnlp.common.train:loss=0.25577, acc=0.92319, acc-seq=0.27783, precision=0.83506, recall=0.87175, F1=0.85301\n",
      "INFO:torchnlp.common.model:-------------- Saved checkpoint 891 --------------\n",
      "  0%|          | 0/81 [00:00<?, ?it/s]INFO:torchnlp.common.train:Epoch 12 (891)\n",
      "Training:  19%|█▊        | 15/81 [00:00<00:00, 140.62it/s, loss=0.0218]"
     ]
    },
    {
     "name": "stdout",
     "output_type": "stream",
     "text": [
      "kl_loss_final: 0.26541310406866525, pre_loss : 0.25577056195054737\n"
     ]
    },
    {
     "name": "stderr",
     "output_type": "stream",
     "text": [
      "INFO:torchnlp.common.train:total_loss: 0.022237231609997927, kl_loss: 0.11124537057346767, nll_loss: 0.11123352939331974\n",
      "INFO:torchnlp.common.train:Train Loss: 0.02224\n",
      "INFO:torchnlp.common.train:Validation metrics:             \n",
      "INFO:torchnlp.common.train:loss=0.25991, acc=0.92552, acc-seq=0.28827, precision=0.84332, recall=0.87963, F1=0.86109\n",
      "INFO:torchnlp.common.model:-------------- Saved checkpoint 972 --------------\n",
      "  0%|          | 0/81 [00:00<?, ?it/s]INFO:torchnlp.common.train:Epoch 13 (972)\n",
      "Training:  20%|█▉        | 16/81 [00:00<00:00, 150.75it/s, loss=0.0175]"
     ]
    },
    {
     "name": "stdout",
     "output_type": "stream",
     "text": [
      "kl_loss_final: 0.2649668018732752, pre_loss : 0.2599105614991415\n"
     ]
    },
    {
     "name": "stderr",
     "output_type": "stream",
     "text": [
      "INFO:torchnlp.common.train:total_loss: 0.01781724825685407, kl_loss: 0.1115079383239334, nll_loss: 0.10702360016696247\n",
      "INFO:torchnlp.common.train:Train Loss: 0.01782\n",
      "INFO:torchnlp.common.train:Validation metrics:             \n",
      "INFO:torchnlp.common.train:loss=0.26341, acc=0.92294, acc-seq=0.27634, precision=0.83432, recall=0.87322, F1=0.85333\n",
      "INFO:torchnlp.common.model:-------------- Saved checkpoint 1053 --------------\n",
      "  0%|          | 0/81 [00:00<?, ?it/s]INFO:torchnlp.common.train:Epoch 14 (1053)\n",
      "Training:  17%|█▋        | 14/81 [00:00<00:00, 138.64it/s, loss=0.0171]"
     ]
    },
    {
     "name": "stdout",
     "output_type": "stream",
     "text": [
      "kl_loss_final: 0.2655915167360079, pre_loss : 0.2634067975339435\n"
     ]
    },
    {
     "name": "stderr",
     "output_type": "stream",
     "text": [
      "INFO:torchnlp.common.train:total_loss: 0.016551264366249978, kl_loss: 0.11178043319119348, nll_loss: 0.10597561253809634\n",
      "INFO:torchnlp.common.train:Train Loss: 0.01655\n",
      "INFO:torchnlp.common.train:Validation metrics:             \n",
      "INFO:torchnlp.common.train:loss=0.26175, acc=0.92475, acc-seq=0.28678, precision=0.84657, recall=0.87653, F1=0.86129\n",
      "INFO:torchnlp.common.model:-------------- Saved checkpoint 1134 --------------\n",
      "  0%|          | 0/81 [00:00<?, ?it/s]INFO:torchnlp.common.train:Epoch 15 (1134)\n",
      "Training:  17%|█▋        | 14/81 [00:00<00:00, 137.28it/s, loss=0.0142]"
     ]
    },
    {
     "name": "stdout",
     "output_type": "stream",
     "text": [
      "kl_loss_final: 0.26689316651650835, pre_loss : 0.26175468876248315\n"
     ]
    },
    {
     "name": "stderr",
     "output_type": "stream",
     "text": [
      "INFO:torchnlp.common.train:total_loss: 0.013716247254683648, kl_loss: 0.11211864245526584, nll_loss: 0.10341116261702997\n",
      "INFO:torchnlp.common.train:Train Loss: 0.01372\n",
      "INFO:torchnlp.common.train:Validation metrics:             \n",
      "INFO:torchnlp.common.train:loss=0.25434, acc=0.92796, acc-seq=0.30219, precision=0.84804, recall=0.88512, F1=0.86619\n",
      "INFO:torchnlp.common.model:-------------- Saved checkpoint 1215 --------------\n",
      "  0%|          | 0/81 [00:00<?, ?it/s]INFO:torchnlp.common.train:Epoch 16 (1215)\n",
      "Training:  17%|█▋        | 14/81 [00:00<00:00, 136.80it/s, loss=0.0091] "
     ]
    },
    {
     "name": "stdout",
     "output_type": "stream",
     "text": [
      "kl_loss_final: 0.26637561477365945, pre_loss : 0.2543406678097589\n"
     ]
    },
    {
     "name": "stderr",
     "output_type": "stream",
     "text": [
      "INFO:torchnlp.common.train:total_loss: 0.012289538243670522, kl_loss: 0.11237023366086277, nll_loss: 0.1021857265337014\n",
      "INFO:torchnlp.common.train:Train Loss: 0.01229\n",
      "INFO:torchnlp.common.train:Validation metrics:             \n",
      "INFO:torchnlp.common.train:loss=0.25659, acc=0.92595, acc-seq=0.28976, precision=0.84836, recall=0.87557, F1=0.86175\n",
      "INFO:torchnlp.common.model:-------------- Saved checkpoint 1296 --------------\n",
      "  0%|          | 0/81 [00:00<?, ?it/s]INFO:torchnlp.common.train:Epoch 17 (1296)\n",
      "Training:  17%|█▋        | 14/81 [00:00<00:00, 133.17it/s, loss=0.0123]"
     ]
    },
    {
     "name": "stdout",
     "output_type": "stream",
     "text": [
      "kl_loss_final: 0.26878846294823144, pre_loss : 0.2565888010320209\n"
     ]
    },
    {
     "name": "stderr",
     "output_type": "stream",
     "text": [
      "INFO:torchnlp.common.train:total_loss: 0.009605352525357847, kl_loss: 0.11246958834889495, nll_loss: 0.09958102462100393\n",
      "INFO:torchnlp.common.train:Train Loss: 0.00961\n",
      "INFO:torchnlp.common.train:Validation metrics:             \n",
      "INFO:torchnlp.common.train:loss=0.25490, acc=0.92833, acc-seq=0.28728, precision=0.85700, recall=0.88043, F1=0.86856\n",
      "INFO:torchnlp.common.model:-------------- Saved checkpoint 1377 --------------\n",
      "  0%|          | 0/81 [00:00<?, ?it/s]INFO:torchnlp.common.train:Epoch 18 (1377)\n",
      "Training:  19%|█▊        | 15/81 [00:00<00:00, 149.43it/s, loss=0.00777]"
     ]
    },
    {
     "name": "stdout",
     "output_type": "stream",
     "text": [
      "kl_loss_final: 0.26841314952997936, pre_loss : 0.25489785912491025\n"
     ]
    },
    {
     "name": "stderr",
     "output_type": "stream",
     "text": [
      "INFO:torchnlp.common.train:total_loss: 0.008557446576930859, kl_loss: 0.1125922871776569, nll_loss: 0.09863127804832694\n",
      "INFO:torchnlp.common.train:Train Loss: 0.00856\n",
      "INFO:torchnlp.common.train:Validation metrics:             \n",
      "INFO:torchnlp.common.train:loss=0.25412, acc=0.92823, acc-seq=0.29622, precision=0.86065, recall=0.88294, F1=0.87165\n",
      "INFO:torchnlp.common.model:-------------- Saved checkpoint 1458 --------------\n",
      "  0%|          | 0/81 [00:00<?, ?it/s]INFO:torchnlp.common.train:Epoch 19 (1458)\n",
      "Training:  19%|█▊        | 15/81 [00:00<00:00, 138.90it/s, loss=0.00697]"
     ]
    },
    {
     "name": "stdout",
     "output_type": "stream",
     "text": [
      "kl_loss_final: 0.2682794371531123, pre_loss : 0.2541206032037735\n"
     ]
    },
    {
     "name": "stderr",
     "output_type": "stream",
     "text": [
      "INFO:torchnlp.common.train:total_loss: 0.007728433903352714, kl_loss: 0.1126536198972184, nll_loss: 0.09785133131124356\n",
      "INFO:torchnlp.common.train:Train Loss: 0.00773\n",
      "INFO:torchnlp.common.train:Validation metrics:             \n",
      "INFO:torchnlp.common.train:loss=0.25194, acc=0.92922, acc-seq=0.29622, precision=0.85551, recall=0.88345, F1=0.86925\n",
      "INFO:torchnlp.common.model:-------------- Saved checkpoint 1539 --------------\n",
      "  0%|          | 0/81 [00:00<?, ?it/s]INFO:torchnlp.common.train:Epoch 20 (1539)\n",
      "Training:  19%|█▊        | 15/81 [00:00<00:00, 147.13it/s, loss=0.00394]"
     ]
    },
    {
     "name": "stdout",
     "output_type": "stream",
     "text": [
      "kl_loss_final: 0.26888389530636014, pre_loss : 0.2519390405643554\n"
     ]
    },
    {
     "name": "stderr",
     "output_type": "stream",
     "text": [
      "INFO:torchnlp.common.train:total_loss: 0.0061270501694561524, kl_loss: 0.1128178412715594, nll_loss: 0.09638132449285483\n",
      "INFO:torchnlp.common.train:Train Loss: 0.00613\n",
      "INFO:torchnlp.common.train:Validation metrics:             \n",
      "INFO:torchnlp.common.train:loss=0.25104, acc=0.92920, acc-seq=0.30517, precision=0.85615, recall=0.88257, F1=0.86916\n",
      "INFO:torchnlp.common.model:-------------- Saved checkpoint 1620 --------------\n",
      "  0%|          | 0/81 [00:00<?, ?it/s]INFO:torchnlp.common.train:Epoch 21 (1620)\n",
      "Training:  19%|█▊        | 15/81 [00:00<00:00, 143.04it/s, loss=0.0033] "
     ]
    },
    {
     "name": "stdout",
     "output_type": "stream",
     "text": [
      "kl_loss_final: 0.27007359372717993, pre_loss : 0.2510410178275335\n"
     ]
    },
    {
     "name": "stderr",
     "output_type": "stream",
     "text": [
      "INFO:torchnlp.common.train:total_loss: 0.004711060612289993, kl_loss: 0.11302567760885497, nll_loss: 0.09513160383995668\n",
      "INFO:torchnlp.common.train:Train Loss: 0.00471\n",
      "INFO:torchnlp.common.train:Validation metrics:             \n",
      "INFO:torchnlp.common.train:loss=0.25285, acc=0.93010, acc-seq=0.31213, precision=0.85439, recall=0.88684, F1=0.87031\n",
      "INFO:torchnlp.common.model:-------------- Saved checkpoint 1701 --------------\n",
      "  0%|          | 0/81 [00:00<?, ?it/s]INFO:torchnlp.common.train:Epoch 22 (1701)\n",
      "Training:  17%|█▋        | 14/81 [00:00<00:00, 137.66it/s, loss=0.00506]"
     ]
    },
    {
     "name": "stdout",
     "output_type": "stream",
     "text": [
      "kl_loss_final: 0.27083713135549, pre_loss : 0.25284881535030546\n"
     ]
    },
    {
     "name": "stderr",
     "output_type": "stream",
     "text": [
      "INFO:torchnlp.common.train:total_loss: 0.003684715724285738, kl_loss: 0.11332845522297753, nll_loss: 0.09434748165033481\n",
      "INFO:torchnlp.common.train:Train Loss: 0.00368\n",
      "INFO:torchnlp.common.train:Validation metrics:             \n",
      "INFO:torchnlp.common.train:loss=0.25540, acc=0.93085, acc-seq=0.31262, precision=0.85869, recall=0.88680, F1=0.87252\n",
      "INFO:torchnlp.common.model:-------------- Saved checkpoint 1782 --------------\n",
      "  0%|          | 0/81 [00:00<?, ?it/s]INFO:torchnlp.common.train:Epoch 23 (1782)\n",
      "Training:  17%|█▋        | 14/81 [00:00<00:00, 134.39it/s, loss=0.000654]"
     ]
    },
    {
     "name": "stdout",
     "output_type": "stream",
     "text": [
      "kl_loss_final: 0.2704349954922994, pre_loss : 0.25540060904763995\n"
     ]
    },
    {
     "name": "stderr",
     "output_type": "stream",
     "text": [
      "INFO:torchnlp.common.train:total_loss: 0.0026675898719716955, kl_loss: 0.11322183051594982, nll_loss: 0.09324505584843365\n",
      "INFO:torchnlp.common.train:Train Loss: 0.00267\n",
      "INFO:torchnlp.common.train:Validation metrics:             \n",
      "INFO:torchnlp.common.train:loss=0.25470, acc=0.92949, acc-seq=0.30567, precision=0.85194, recall=0.88559, F1=0.86844\n",
      "INFO:torchnlp.common.model:-------------- Saved checkpoint 1863 --------------\n",
      "  0%|          | 0/81 [00:00<?, ?it/s]INFO:torchnlp.common.train:Epoch 24 (1863)\n",
      "Training:  19%|█▊        | 15/81 [00:00<00:00, 142.74it/s, loss=0.000344]"
     ]
    },
    {
     "name": "stdout",
     "output_type": "stream",
     "text": [
      "kl_loss_final: 0.27111626274528955, pre_loss : 0.2546962740875426\n"
     ]
    },
    {
     "name": "stderr",
     "output_type": "stream",
     "text": [
      "INFO:torchnlp.common.train:total_loss: 0.001498977573197565, kl_loss: 0.11333399523555497, nll_loss: 0.09216617530694714\n",
      "INFO:torchnlp.common.train:Train Loss: 0.00150\n",
      "INFO:torchnlp.common.train:Validation metrics:             \n",
      "INFO:torchnlp.common.train:loss=0.24919, acc=0.93146, acc-seq=0.32803, precision=0.85905, recall=0.88793, F1=0.87325\n",
      "INFO:torchnlp.common.model:-------------- Saved checkpoint 1944 --------------\n",
      "  0%|          | 0/81 [00:00<?, ?it/s]INFO:torchnlp.common.train:Epoch 25 (1944)\n",
      "Training:  17%|█▋        | 14/81 [00:00<00:00, 139.48it/s, loss=-.000532]"
     ]
    },
    {
     "name": "stdout",
     "output_type": "stream",
     "text": [
      "kl_loss_final: 0.27103450646003086, pre_loss : 0.2491935541232427\n"
     ]
    },
    {
     "name": "stderr",
     "output_type": "stream",
     "text": [
      "INFO:torchnlp.common.train:total_loss: 0.0005944822857409347, kl_loss: 0.11350252433323565, nll_loss: 0.09139650342641054\n",
      "INFO:torchnlp.common.train:Train Loss: 0.00059\n",
      "INFO:torchnlp.common.train:Validation metrics:             \n",
      "INFO:torchnlp.common.train:loss=0.24411, acc=0.93196, acc-seq=0.32356, precision=0.85863, recall=0.88668, F1=0.87243\n",
      "INFO:torchnlp.common.model:-------------- Saved checkpoint 2025 --------------\n",
      "  0%|          | 0/81 [00:00<?, ?it/s]INFO:torchnlp.common.train:Epoch 26 (2025)\n",
      "Training:  17%|█▋        | 14/81 [00:00<00:00, 139.69it/s, loss=-.000876]"
     ]
    },
    {
     "name": "stdout",
     "output_type": "stream",
     "text": [
      "kl_loss_final: 0.2699071190186909, pre_loss : 0.24410911010844366\n"
     ]
    },
    {
     "name": "stderr",
     "output_type": "stream",
     "text": [
      "INFO:torchnlp.common.train:total_loss: 0.00038563662473066354, kl_loss: 0.1133821913857519, nll_loss: 0.09109139138901676\n",
      "INFO:torchnlp.common.train:Train Loss: 0.00039\n",
      "INFO:torchnlp.common.train:Validation metrics:             \n",
      "INFO:torchnlp.common.train:loss=0.24941, acc=0.93220, acc-seq=0.32356, precision=0.86246, recall=0.88856, F1=0.87531\n",
      "INFO:torchnlp.common.model:-------------- Saved checkpoint 2106 --------------\n",
      "  0%|          | 0/81 [00:00<?, ?it/s]INFO:torchnlp.common.train:Epoch 27 (2106)\n",
      "Training:  17%|█▋        | 14/81 [00:00<00:00, 138.15it/s, loss=-.00296]"
     ]
    },
    {
     "name": "stdout",
     "output_type": "stream",
     "text": [
      "kl_loss_final: 0.2712108755395526, pre_loss : 0.24940876024109976\n"
     ]
    },
    {
     "name": "stderr",
     "output_type": "stream",
     "text": [
      "INFO:torchnlp.common.train:total_loss: -0.0011756774727944975, kl_loss: 0.11355829450451298, nll_loss: 0.08967095995206892\n",
      "INFO:torchnlp.common.train:Train Loss: -0.00118\n",
      "INFO:torchnlp.common.train:Validation metrics:             \n",
      "INFO:torchnlp.common.train:loss=0.25495, acc=0.93157, acc-seq=0.33648, precision=0.85251, recall=0.89108, F1=0.87137\n",
      "INFO:torchnlp.common.model:-------------- Saved checkpoint 2187 --------------\n",
      "  0%|          | 0/81 [00:00<?, ?it/s]INFO:torchnlp.common.train:Epoch 28 (2187)\n",
      "Training:  19%|█▊        | 15/81 [00:00<00:00, 145.54it/s, loss=-.0006]  "
     ]
    },
    {
     "name": "stdout",
     "output_type": "stream",
     "text": [
      "kl_loss_final: 0.2706736571022442, pre_loss : 0.2549503669142723\n"
     ]
    },
    {
     "name": "stderr",
     "output_type": "stream",
     "text": [
      "INFO:torchnlp.common.train:total_loss: -0.0015965842722374716, kl_loss: 0.11355910974520224, nll_loss: 0.08925070540036684\n",
      "INFO:torchnlp.common.train:Train Loss: -0.00160\n",
      "INFO:torchnlp.common.train:Validation metrics:             \n",
      "INFO:torchnlp.common.train:loss=0.24962, acc=0.93249, acc-seq=0.34145, precision=0.86133, recall=0.89112, F1=0.87597\n",
      "INFO:torchnlp.common.model:-------------- Saved checkpoint 2268 --------------\n",
      "  0%|          | 0/81 [00:00<?, ?it/s]INFO:torchnlp.common.train:Epoch 29 (2268)\n",
      "Training:  19%|█▊        | 15/81 [00:00<00:00, 142.80it/s, loss=-.00377]"
     ]
    },
    {
     "name": "stdout",
     "output_type": "stream",
     "text": [
      "kl_loss_final: 0.27215214463926496, pre_loss : 0.24962108546779269\n"
     ]
    },
    {
     "name": "stderr",
     "output_type": "stream",
     "text": [
      "INFO:torchnlp.common.train:total_loss: -0.002137072292374976, kl_loss: 0.11364744787598834, nll_loss: 0.08878088751692831\n",
      "INFO:torchnlp.common.train:Train Loss: -0.00214\n",
      "INFO:torchnlp.common.train:Validation metrics:             \n",
      "INFO:torchnlp.common.train:loss=0.24516, acc=0.93257, acc-seq=0.33052, precision=0.86007, recall=0.89032, F1=0.87494\n",
      "INFO:torchnlp.common.model:-------------- Saved checkpoint 2349 --------------\n",
      "  0%|          | 0/81 [00:00<?, ?it/s]INFO:torchnlp.common.train:Epoch 30 (2349)\n",
      "Training:  17%|█▋        | 14/81 [00:00<00:00, 136.81it/s, loss=-.00469]"
     ]
    },
    {
     "name": "stdout",
     "output_type": "stream",
     "text": [
      "kl_loss_final: 0.2729066645815259, pre_loss : 0.24515571551663534\n"
     ]
    },
    {
     "name": "stderr",
     "output_type": "stream",
     "text": [
      "INFO:torchnlp.common.train:total_loss: -0.0032755848894148697, kl_loss: 0.11386369049181173, nll_loss: 0.08781536903094363\n",
      "INFO:torchnlp.common.train:Train Loss: -0.00328\n",
      "INFO:torchnlp.common.train:Validation metrics:             \n",
      "INFO:torchnlp.common.train:loss=0.24398, acc=0.93408, acc-seq=0.34195, precision=0.86438, recall=0.89087, F1=0.87742\n",
      "INFO:torchnlp.common.model:-------------- Saved checkpoint 2430 --------------\n",
      "  0%|          | 0/81 [00:00<?, ?it/s]INFO:torchnlp.common.train:Epoch 31 (2430)\n",
      "Training:  19%|█▊        | 15/81 [00:00<00:00, 143.05it/s, loss=-.00238] "
     ]
    },
    {
     "name": "stdout",
     "output_type": "stream",
     "text": [
      "kl_loss_final: 0.27277821657203494, pre_loss : 0.24397864582992734\n"
     ]
    },
    {
     "name": "stderr",
     "output_type": "stream",
     "text": [
      "INFO:torchnlp.common.train:total_loss: -0.0034728966377399586, kl_loss: 0.11392495955949948, nll_loss: 0.08766707235280378\n",
      "INFO:torchnlp.common.train:Train Loss: -0.00347\n",
      "INFO:torchnlp.common.train:Validation metrics:             \n",
      "INFO:torchnlp.common.train:loss=0.24493, acc=0.93368, acc-seq=0.32753, precision=0.86367, recall=0.88949, F1=0.87639\n",
      "INFO:torchnlp.common.model:-------------- Saved checkpoint 2511 --------------\n",
      "  0%|          | 0/81 [00:00<?, ?it/s]INFO:torchnlp.common.train:Epoch 32 (2511)\n",
      "Training:  19%|█▊        | 15/81 [00:00<00:00, 142.04it/s, loss=-.00637]"
     ]
    },
    {
     "name": "stdout",
     "output_type": "stream",
     "text": [
      "kl_loss_final: 0.2718751221185639, pre_loss : 0.24492568806523368\n"
     ]
    },
    {
     "name": "stderr",
     "output_type": "stream",
     "text": [
      "INFO:torchnlp.common.train:total_loss: -0.0043575862123642435, kl_loss: 0.11408637326072764, nll_loss: 0.0869115142174709\n",
      "INFO:torchnlp.common.train:Train Loss: -0.00436\n",
      "INFO:torchnlp.common.train:Validation metrics:             \n",
      "INFO:torchnlp.common.train:loss=0.24411, acc=0.93391, acc-seq=0.33748, precision=0.86166, recall=0.88940, F1=0.87531\n",
      "INFO:torchnlp.common.model:-------------- Saved checkpoint 2592 --------------\n",
      "  0%|          | 0/81 [00:00<?, ?it/s]INFO:torchnlp.common.train:Epoch 33 (2592)\n",
      "Training:  17%|█▋        | 14/81 [00:00<00:00, 136.52it/s, loss=-.00639]"
     ]
    },
    {
     "name": "stdout",
     "output_type": "stream",
     "text": [
      "kl_loss_final: 0.27280422832284656, pre_loss : 0.24410999566316605\n"
     ]
    },
    {
     "name": "stderr",
     "output_type": "stream",
     "text": [
      "INFO:torchnlp.common.train:total_loss: -0.00451468335993496, kl_loss: 0.11388322821369877, nll_loss: 0.0865919005907612\n",
      "INFO:torchnlp.common.train:Train Loss: -0.00451\n",
      "INFO:torchnlp.common.train:Validation metrics:             \n",
      "INFO:torchnlp.common.train:loss=0.24704, acc=0.93224, acc-seq=0.33698, precision=0.85789, recall=0.89062, F1=0.87395\n",
      "INFO:torchnlp.common.model:-------------- Saved checkpoint 2673 --------------\n",
      "  0%|          | 0/81 [00:00<?, ?it/s]INFO:torchnlp.common.train:Epoch 34 (2673)\n",
      "Training:  19%|█▊        | 15/81 [00:00<00:00, 142.46it/s, loss=-.00903]"
     ]
    },
    {
     "name": "stdout",
     "output_type": "stream",
     "text": [
      "kl_loss_final: 0.2731840376343046, pre_loss : 0.24703882315329143\n"
     ]
    },
    {
     "name": "stderr",
     "output_type": "stream",
     "text": [
      "INFO:torchnlp.common.train:total_loss: -0.006216495309346988, kl_loss: 0.11410515304700827, nll_loss: 0.0850676284344108\n",
      "INFO:torchnlp.common.train:Train Loss: -0.00622\n",
      "INFO:torchnlp.common.train:Validation metrics:             \n",
      "INFO:torchnlp.common.train:loss=0.25034, acc=0.93212, acc-seq=0.32455, precision=0.85904, recall=0.88886, F1=0.87369\n",
      "INFO:torchnlp.common.model:-------------- Saved checkpoint 2754 --------------\n",
      "  0%|          | 0/81 [00:00<?, ?it/s]INFO:torchnlp.common.train:Epoch 35 (2754)\n",
      "Training:  19%|█▊        | 15/81 [00:00<00:00, 142.33it/s, loss=-.00677]"
     ]
    },
    {
     "name": "stdout",
     "output_type": "stream",
     "text": [
      "kl_loss_final: 0.27283919425237746, pre_loss : 0.2503421370472227\n"
     ]
    },
    {
     "name": "stderr",
     "output_type": "stream",
     "text": [
      "INFO:torchnlp.common.train:total_loss: -0.005804102453920577, kl_loss: 0.11413205470199939, nll_loss: 0.08550154279779505\n",
      "INFO:torchnlp.common.train:Train Loss: -0.00580\n",
      "INFO:torchnlp.common.train:Validation metrics:             \n",
      "INFO:torchnlp.common.train:loss=0.24407, acc=0.93352, acc-seq=0.33549, precision=0.86417, recall=0.89246, F1=0.87809\n",
      "INFO:torchnlp.common.model:-------------- Saved checkpoint 2835 --------------\n",
      "  0%|          | 0/81 [00:00<?, ?it/s]INFO:torchnlp.common.train:Epoch 36 (2835)\n",
      "Training:  19%|█▊        | 15/81 [00:00<00:00, 143.91it/s, loss=-.00896]"
     ]
    },
    {
     "name": "stdout",
     "output_type": "stream",
     "text": [
      "kl_loss_final: 0.2730538745721181, pre_loss : 0.2440725557860874\n"
     ]
    },
    {
     "name": "stderr",
     "output_type": "stream",
     "text": [
      "INFO:torchnlp.common.train:total_loss: -0.0069180799671161326, kl_loss: 0.11406942815692336, nll_loss: 0.08433746417731415\n",
      "INFO:torchnlp.common.train:Train Loss: -0.00692\n",
      "INFO:torchnlp.common.train:Validation metrics:             \n",
      "INFO:torchnlp.common.train:loss=0.24227, acc=0.93529, acc-seq=0.33300, precision=0.86557, recall=0.89058, F1=0.87790\n",
      "INFO:torchnlp.common.model:-------------- Saved checkpoint 2916 --------------\n",
      "  0%|          | 0/81 [00:00<?, ?it/s]INFO:torchnlp.common.train:Epoch 37 (2916)\n",
      "Training:  19%|█▊        | 15/81 [00:00<00:00, 148.62it/s, loss=-.00941]"
     ]
    },
    {
     "name": "stdout",
     "output_type": "stream",
     "text": [
      "kl_loss_final: 0.272752525196189, pre_loss : 0.2422666847705841\n"
     ]
    },
    {
     "name": "stderr",
     "output_type": "stream",
     "text": [
      "INFO:torchnlp.common.train:total_loss: -0.00692928711205353, kl_loss: 0.11417613224482831, nll_loss: 0.0844116202659077\n",
      "INFO:torchnlp.common.train:Train Loss: -0.00693\n",
      "INFO:torchnlp.common.train:Validation metrics:             \n",
      "INFO:torchnlp.common.train:loss=0.24466, acc=0.93473, acc-seq=0.34394, precision=0.86611, recall=0.89338, F1=0.87954\n",
      "INFO:torchnlp.common.model:-------------- Saved checkpoint 2997 --------------\n",
      "  0%|          | 0/81 [00:00<?, ?it/s]INFO:torchnlp.common.train:Epoch 38 (2997)\n",
      "Training:  19%|█▊        | 15/81 [00:00<00:00, 145.08it/s, loss=-.00937]"
     ]
    },
    {
     "name": "stdout",
     "output_type": "stream",
     "text": [
      "kl_loss_final: 0.27328560820647646, pre_loss : 0.2446610423780623\n"
     ]
    },
    {
     "name": "stderr",
     "output_type": "stream",
     "text": [
      "INFO:torchnlp.common.train:total_loss: -0.007546118426102179, kl_loss: 0.11416118978350251, nll_loss: 0.08378283518515987\n",
      "INFO:torchnlp.common.train:Train Loss: -0.00755\n",
      "INFO:torchnlp.common.train:Validation metrics:             \n",
      "INFO:torchnlp.common.train:loss=0.24063, acc=0.93529, acc-seq=0.33797, precision=0.86534, recall=0.89502, F1=0.87993\n",
      "INFO:torchnlp.common.model:-------------- Saved checkpoint 3078 --------------\n",
      "  0%|          | 0/81 [00:00<?, ?it/s]INFO:torchnlp.common.train:Epoch 39 (3078)\n",
      "Training:  19%|█▊        | 15/81 [00:00<00:00, 147.96it/s, loss=-.00873]"
     ]
    },
    {
     "name": "stdout",
     "output_type": "stream",
     "text": [
      "kl_loss_final: 0.2735066193909872, pre_loss : 0.24062556560550416\n"
     ]
    },
    {
     "name": "stderr",
     "output_type": "stream",
     "text": [
      "INFO:torchnlp.common.train:total_loss: -0.0074541426643177314, kl_loss: 0.11420277625690271, nll_loss: 0.0839080797209416\n",
      "INFO:torchnlp.common.train:Train Loss: -0.00745\n",
      "INFO:torchnlp.common.train:Validation metrics:             \n",
      "INFO:torchnlp.common.train:loss=0.24678, acc=0.93459, acc-seq=0.33002, precision=0.86564, recall=0.89326, F1=0.87923\n",
      "INFO:torchnlp.common.model:-------------- Saved checkpoint 3159 --------------\n",
      "  0%|          | 0/81 [00:00<?, ?it/s]INFO:torchnlp.common.train:Epoch 40 (3159)\n",
      "Training:  19%|█▊        | 15/81 [00:00<00:00, 146.57it/s, loss=-.0103]"
     ]
    },
    {
     "name": "stdout",
     "output_type": "stream",
     "text": [
      "kl_loss_final: 0.2732888502734048, pre_loss : 0.24677608765306927\n"
     ]
    },
    {
     "name": "stderr",
     "output_type": "stream",
     "text": [
      "INFO:torchnlp.common.train:total_loss: -0.008318227566318748, kl_loss: 0.11422027730279499, nll_loss: 0.08305799629953173\n",
      "INFO:torchnlp.common.train:Train Loss: -0.00832\n",
      "INFO:torchnlp.common.train:Validation metrics:             \n",
      "INFO:torchnlp.common.train:loss=0.24433, acc=0.93529, acc-seq=0.33250, precision=0.87238, recall=0.89183, F1=0.88200\n",
      "INFO:torchnlp.common.model:-------------- Saved checkpoint 3240 --------------\n",
      "  0%|          | 0/81 [00:00<?, ?it/s]INFO:torchnlp.common.train:Epoch 41 (3240)\n",
      "Training:  19%|█▊        | 15/81 [00:00<00:00, 139.01it/s, loss=-.00981]"
     ]
    },
    {
     "name": "stdout",
     "output_type": "stream",
     "text": [
      "kl_loss_final: 0.273639467500505, pre_loss : 0.24432997086218425\n"
     ]
    },
    {
     "name": "stderr",
     "output_type": "stream",
     "text": [
      "INFO:torchnlp.common.train:total_loss: -0.008880278164589847, kl_loss: 0.1141562459093553, nll_loss: 0.0824447201082\n",
      "INFO:torchnlp.common.train:Train Loss: -0.00888\n",
      "INFO:torchnlp.common.train:Validation metrics:             \n",
      "INFO:torchnlp.common.train:loss=0.24614, acc=0.93457, acc-seq=0.33797, precision=0.86686, recall=0.89343, F1=0.87994\n",
      "INFO:torchnlp.common.model:-------------- Saved checkpoint 3321 --------------\n",
      "  0%|          | 0/81 [00:00<?, ?it/s]INFO:torchnlp.common.train:Epoch 42 (3321)\n",
      "Training:  19%|█▊        | 15/81 [00:00<00:00, 145.51it/s, loss=-.0139]"
     ]
    },
    {
     "name": "stdout",
     "output_type": "stream",
     "text": [
      "kl_loss_final: 0.2735989501788503, pre_loss : 0.24613701516673678\n"
     ]
    },
    {
     "name": "stderr",
     "output_type": "stream",
     "text": [
      "INFO:torchnlp.common.train:total_loss: -0.009737977413115677, kl_loss: 0.11426680240734124, nll_loss: 0.08167546587409796\n",
      "INFO:torchnlp.common.train:Train Loss: -0.00974\n",
      "INFO:torchnlp.common.train:Validation metrics:             \n",
      "INFO:torchnlp.common.train:loss=0.24223, acc=0.93502, acc-seq=0.34394, precision=0.86618, recall=0.89393, F1=0.87984\n",
      "INFO:torchnlp.common.model:-------------- Saved checkpoint 3402 --------------\n",
      "  0%|          | 0/81 [00:00<?, ?it/s]INFO:torchnlp.common.train:Epoch 43 (3402)\n",
      "Training:  17%|█▋        | 14/81 [00:00<00:00, 139.81it/s, loss=-.00883]"
     ]
    },
    {
     "name": "stdout",
     "output_type": "stream",
     "text": [
      "kl_loss_final: 0.27377540582702276, pre_loss : 0.2422267727199055\n"
     ]
    },
    {
     "name": "stderr",
     "output_type": "stream",
     "text": [
      "INFO:torchnlp.common.train:total_loss: -0.008851497077647551, kl_loss: 0.11423814489885613, nll_loss: 0.08253901985324459\n",
      "INFO:torchnlp.common.train:Train Loss: -0.00885\n",
      "INFO:torchnlp.common.train:Validation metrics:             \n",
      "INFO:torchnlp.common.train:loss=0.24802, acc=0.93453, acc-seq=0.34891, precision=0.86595, recall=0.89561, F1=0.88053\n",
      "INFO:torchnlp.common.model:-------------- Saved checkpoint 3483 --------------\n",
      "  0%|          | 0/81 [00:00<?, ?it/s]INFO:torchnlp.common.train:Epoch 44 (3483)\n",
      "Training:  19%|█▊        | 15/81 [00:00<00:00, 146.58it/s, loss=-.0135]"
     ]
    },
    {
     "name": "stdout",
     "output_type": "stream",
     "text": [
      "kl_loss_final: 0.2727596869780904, pre_loss : 0.2480224814443361\n"
     ]
    },
    {
     "name": "stderr",
     "output_type": "stream",
     "text": [
      "INFO:torchnlp.common.train:total_loss: -0.009597611694056311, kl_loss: 0.11431251687032205, nll_loss: 0.08185240299797353\n",
      "INFO:torchnlp.common.train:Train Loss: -0.00960\n",
      "INFO:torchnlp.common.train:Validation metrics:             \n",
      "INFO:torchnlp.common.train:loss=0.24584, acc=0.93574, acc-seq=0.34245, precision=0.86918, recall=0.89447, F1=0.88165\n",
      "INFO:torchnlp.common.model:-------------- Saved checkpoint 3564 --------------\n",
      "  0%|          | 0/81 [00:00<?, ?it/s]INFO:torchnlp.common.train:Epoch 45 (3564)\n",
      "Training:  19%|█▊        | 15/81 [00:00<00:00, 146.60it/s, loss=-.01]   "
     ]
    },
    {
     "name": "stdout",
     "output_type": "stream",
     "text": [
      "kl_loss_final: 0.2740396207996777, pre_loss : 0.2458352879399345\n"
     ]
    },
    {
     "name": "stderr",
     "output_type": "stream",
     "text": [
      "INFO:torchnlp.common.train:total_loss: -0.010262425896930105, kl_loss: 0.11430073391508173, nll_loss: 0.08117816252288995\n",
      "INFO:torchnlp.common.train:Train Loss: -0.01026\n",
      "INFO:torchnlp.common.train:Validation metrics:             \n",
      "INFO:torchnlp.common.train:loss=0.24466, acc=0.93502, acc-seq=0.34344, precision=0.86691, recall=0.89489, F1=0.88068\n",
      "INFO:torchnlp.common.train:Early stopping at iteration 3240, epoch 39, F1=0.88200\n",
      "  6%|▌         | 5/81 [00:00<00:01, 39.49it/s]"
     ]
    },
    {
     "name": "stdout",
     "output_type": "stream",
     "text": [
      "kl_loss_final: 0.2734465538745835, pre_loss : 0.24466020330077126\n"
     ]
    },
    {
     "name": "stderr",
     "output_type": "stream",
     "text": [
      "INFO:torchnlp.common.train:prediction, and attns for best epoch obtained, release hook\n",
      "INFO:torchnlp.common.train:prediction, and attns for best epoch obtained, release hook\n"
     ]
    },
    {
     "name": "stdout",
     "output_type": "stream",
     "text": [
      "SAVING PREDICTIONS AND ATTENTIONS\n",
      "done /home/zijiao/research/atal/saved_True_/11:24:39.217301/tr_pr_best\n",
      "done /home/zijiao/research/atal/saved_True_/11:24:39.217301/te_pr_best\n",
      "done /home/zijiao/research/atal/saved_True_/11:24:39.217301/tr_attn_best\n",
      "done /home/zijiao/research/atal/saved_True_/11:24:39.217301/te_attn_best\n",
      "LOOK HERE 0.24466020330077126 0.2734465538745835\n"
     ]
    },
    {
     "name": "stderr",
     "output_type": "stream",
     "text": [
      "INFO:torchnlp.data.conll:---------- CONLL 2000 Chunking ---------\n",
      "INFO:torchnlp.data.conll:Train size: 8042\n",
      "INFO:torchnlp.data.conll:Validation size: 894\n",
      "INFO:torchnlp.data.conll:Test size: 2012\n",
      "INFO:torchtext.vocab:Loading vectors from .vector_cache/glove.6B.200d.txt.pt\n",
      "INFO:torchtext.vocab:Loading vectors from .vector_cache/charNgram.txt.pt\n",
      "INFO:torchnlp.data.conll:Input vocab size:19032\n",
      "INFO:torchnlp.data.conll:Tagset size: 25\n",
      "INFO:torchnlp.common.model:\n",
      "Hyperparameters:\n",
      " batch_size=100\n",
      " embedding_size_word=300\n",
      " embedding_size_char=0\n",
      " embedding_size_char_per_word=100\n",
      " embedding_size_tags=100\n",
      " hidden_size=128\n",
      " learning_rate=0.2\n",
      " learning_rate_decay=noam_step\n",
      " max_length=256\n",
      " num_hidden_layers=1\n",
      " dropout=0.2\n",
      " optimizer_adam_beta1=0.9\n",
      " optimizer_adam_beta2=0.98\n",
      " use_crf=False\n",
      " num_heads=4\n",
      " attention_key_channels=0\n",
      " attention_value_channels=0\n",
      " filter_size=128\n",
      " filter_size_char=64\n",
      " input_dropout=0.2\n",
      " attention_dropout=0.2\n",
      " relu_dropout=0.2\n",
      " learning_rate_warmup_steps=500\n",
      " attn_path=./saved\n",
      " adversarial=True\n",
      " lmbda=0.8999999999999999\n",
      " froze=False\n",
      " froze_path=./froze\n",
      "INFO:torchnlp.common.train:Parameters: 140953(trainable), 5709601(non-trainable)\n",
      "INFO:torchnlp.common.train:Early stopping for highest value of validation F1 after 5 epochs\n",
      "  0%|          | 0/81 [00:00<?, ?it/s]INFO:torchnlp.common.train:Epoch 1 (0)\n",
      "INFO:torchnlp.common.train:total_loss: 1.439927010256567, kl_loss: 0.04385225849663034, nll_loss: 1.479394049924097\n",
      "INFO:torchnlp.common.train:Train Loss: 1.43993\n",
      "INFO:torchnlp.common.train:Validation metrics:             \n",
      "INFO:torchnlp.common.train:loss=0.94282, acc=0.67237, acc-seq=0.00398, precision=0.46127, recall=0.52381, F1=0.49056\n",
      "INFO:torchnlp.common.model:-------------- Saved checkpoint 81 --------------\n",
      "  0%|          | 0/81 [00:00<?, ?it/s]INFO:torchnlp.common.train:Epoch 2 (81)\n",
      "Training:  17%|█▋        | 14/81 [00:00<00:00, 132.73it/s, loss=0.382]"
     ]
    },
    {
     "name": "stdout",
     "output_type": "stream",
     "text": [
      "kl_loss_final: 0.17443650286822093, pre_loss : 0.9428181023824782\n"
     ]
    },
    {
     "name": "stderr",
     "output_type": "stream",
     "text": [
      "INFO:torchnlp.common.train:total_loss: 0.30957172130361016, kl_loss: 0.0765706631872389, nll_loss: 0.37848531592775275\n",
      "INFO:torchnlp.common.train:Train Loss: 0.30957\n",
      "INFO:torchnlp.common.train:Validation metrics:             \n",
      "INFO:torchnlp.common.train:loss=0.63537, acc=0.76217, acc-seq=0.01740, precision=0.58826, recall=0.68502, F1=0.63296\n",
      "INFO:torchnlp.common.model:-------------- Saved checkpoint 162 --------------\n",
      "  0%|          | 0/81 [00:00<?, ?it/s]INFO:torchnlp.common.train:Epoch 3 (162)\n",
      "Training:  19%|█▊        | 15/81 [00:00<00:00, 141.74it/s, loss=0.228]"
     ]
    },
    {
     "name": "stdout",
     "output_type": "stream",
     "text": [
      "kl_loss_final: 0.20776381769350596, pre_loss : 0.6353719830513\n"
     ]
    },
    {
     "name": "stderr",
     "output_type": "stream",
     "text": [
      "INFO:torchnlp.common.train:total_loss: 0.20001420121134064, kl_loss: 0.09264048906388106, nll_loss: 0.2833906395567788\n",
      "INFO:torchnlp.common.train:Train Loss: 0.20001\n",
      "INFO:torchnlp.common.train:Validation metrics:             \n",
      "INFO:torchnlp.common.train:loss=0.52793, acc=0.79284, acc-seq=0.03380, precision=0.62074, recall=0.71734, F1=0.66555\n",
      "INFO:torchnlp.common.model:-------------- Saved checkpoint 243 --------------\n",
      "  0%|          | 0/81 [00:00<?, ?it/s]INFO:torchnlp.common.train:Epoch 4 (243)\n",
      "Training:  19%|█▊        | 15/81 [00:00<00:00, 146.55it/s, loss=0.162]"
     ]
    },
    {
     "name": "stdout",
     "output_type": "stream",
     "text": [
      "kl_loss_final: 0.22546101326034182, pre_loss : 0.5279268097309839\n"
     ]
    },
    {
     "name": "stderr",
     "output_type": "stream",
     "text": [
      "INFO:torchnlp.common.train:total_loss: 0.1382324128975103, kl_loss: 0.09729548203356472, nll_loss: 0.2257983441706057\n",
      "INFO:torchnlp.common.train:Train Loss: 0.13823\n",
      "INFO:torchnlp.common.train:Validation metrics:             \n",
      "INFO:torchnlp.common.train:loss=0.37863, acc=0.86951, acc-seq=0.11531, precision=0.73702, recall=0.77750, F1=0.75672\n",
      "INFO:torchnlp.common.model:-------------- Saved checkpoint 324 --------------\n",
      "  0%|          | 0/81 [00:00<?, ?it/s]INFO:torchnlp.common.train:Epoch 5 (324)\n",
      "Training:  19%|█▊        | 15/81 [00:00<00:00, 147.50it/s, loss=0.102]"
     ]
    },
    {
     "name": "stdout",
     "output_type": "stream",
     "text": [
      "kl_loss_final: 0.22775663080669584, pre_loss : 0.3786314442044213\n"
     ]
    },
    {
     "name": "stderr",
     "output_type": "stream",
     "text": [
      "INFO:torchnlp.common.train:total_loss: 0.09046368429690231, kl_loss: 0.10165420422951381, nll_loss: 0.18195246564753262\n",
      "INFO:torchnlp.common.train:Train Loss: 0.09046\n",
      "INFO:torchnlp.common.train:Validation metrics:             \n",
      "INFO:torchnlp.common.train:loss=0.32607, acc=0.89375, acc-seq=0.15954, precision=0.78789, recall=0.82677, F1=0.80686\n",
      "INFO:torchnlp.common.model:-------------- Saved checkpoint 405 --------------\n",
      "  0%|          | 0/81 [00:00<?, ?it/s]INFO:torchnlp.common.train:Epoch 6 (405)\n",
      "Training:  19%|█▊        | 15/81 [00:00<00:00, 143.74it/s, loss=0.0736]"
     ]
    },
    {
     "name": "stdout",
     "output_type": "stream",
     "text": [
      "kl_loss_final: 0.23344767625842774, pre_loss : 0.3260710026536669\n"
     ]
    },
    {
     "name": "stderr",
     "output_type": "stream",
     "text": [
      "INFO:torchnlp.common.train:total_loss: 0.06798817152962272, kl_loss: 0.10806509015368826, nll_loss: 0.1652467503775785\n",
      "INFO:torchnlp.common.train:Train Loss: 0.06799\n",
      "INFO:torchnlp.common.train:Validation metrics:             \n",
      "INFO:torchnlp.common.train:loss=0.30204, acc=0.90667, acc-seq=0.20626, precision=0.81280, recall=0.84156, F1=0.82693\n",
      "INFO:torchnlp.common.model:-------------- Saved checkpoint 486 --------------\n",
      "  0%|          | 0/81 [00:00<?, ?it/s]INFO:torchnlp.common.train:Epoch 7 (486)\n",
      "Training:  20%|█▉        | 16/81 [00:00<00:00, 151.84it/s, loss=0.0575]"
     ]
    },
    {
     "name": "stdout",
     "output_type": "stream",
     "text": [
      "kl_loss_final: 0.24602050192299343, pre_loss : 0.30204335209869204\n"
     ]
    },
    {
     "name": "stderr",
     "output_type": "stream",
     "text": [
      "INFO:torchnlp.common.train:total_loss: 0.053421408397915926, kl_loss: 0.11161051626190727, nll_loss: 0.15387087057770035\n",
      "INFO:torchnlp.common.train:Train Loss: 0.05342\n",
      "INFO:torchnlp.common.train:Validation metrics:             \n",
      "INFO:torchnlp.common.train:loss=0.28806, acc=0.91010, acc-seq=0.21819, precision=0.80930, recall=0.85494, F1=0.83150\n",
      "INFO:torchnlp.common.model:-------------- Saved checkpoint 567 --------------\n",
      "  0%|          | 0/81 [00:00<?, ?it/s]INFO:torchnlp.common.train:Epoch 8 (567)\n",
      "Training:  19%|█▊        | 15/81 [00:00<00:00, 147.46it/s, loss=0.046] "
     ]
    },
    {
     "name": "stdout",
     "output_type": "stream",
     "text": [
      "kl_loss_final: 0.25954629480838776, pre_loss : 0.2880603224039078\n"
     ]
    },
    {
     "name": "stderr",
     "output_type": "stream",
     "text": [
      "INFO:torchnlp.common.train:total_loss: 0.041060756570027196, kl_loss: 0.11571758139280626, nll_loss: 0.14520657697209605\n",
      "INFO:torchnlp.common.train:Train Loss: 0.04106\n",
      "INFO:torchnlp.common.train:Validation metrics:             \n",
      "INFO:torchnlp.common.train:loss=0.27761, acc=0.91471, acc-seq=0.22217, precision=0.83350, recall=0.86051, F1=0.84679\n",
      "INFO:torchnlp.common.model:-------------- Saved checkpoint 648 --------------\n",
      "  0%|          | 0/81 [00:00<?, ?it/s]INFO:torchnlp.common.train:Epoch 9 (648)\n",
      "Training:  17%|█▋        | 14/81 [00:00<00:00, 138.87it/s, loss=0.0334]"
     ]
    },
    {
     "name": "stdout",
     "output_type": "stream",
     "text": [
      "kl_loss_final: 0.27390332697402864, pre_loss : 0.27760891758260275\n"
     ]
    },
    {
     "name": "stderr",
     "output_type": "stream",
     "text": [
      "INFO:torchnlp.common.train:total_loss: 0.03173198698111522, kl_loss: 0.1193001060574143, nll_loss: 0.13910207952614184\n",
      "INFO:torchnlp.common.train:Train Loss: 0.03173\n",
      "INFO:torchnlp.common.train:Validation metrics:             \n",
      "INFO:torchnlp.common.train:loss=0.27053, acc=0.91955, acc-seq=0.25547, precision=0.83270, recall=0.86957, F1=0.85074\n",
      "INFO:torchnlp.common.model:-------------- Saved checkpoint 729 --------------\n",
      "  0%|          | 0/81 [00:00<?, ?it/s]INFO:torchnlp.common.train:Epoch 10 (729)\n",
      "Training:  19%|█▊        | 15/81 [00:00<00:00, 145.84it/s, loss=0.0297]"
     ]
    },
    {
     "name": "stdout",
     "output_type": "stream",
     "text": [
      "kl_loss_final: 0.28200957037153696, pre_loss : 0.2705261473144804\n"
     ]
    },
    {
     "name": "stderr",
     "output_type": "stream",
     "text": [
      "INFO:torchnlp.common.train:total_loss: 0.02541380375623703, kl_loss: 0.12097808525518135, nll_loss: 0.13429407738609078\n",
      "INFO:torchnlp.common.train:Train Loss: 0.02541\n",
      "INFO:torchnlp.common.train:Validation metrics:             \n",
      "INFO:torchnlp.common.train:loss=0.26711, acc=0.91992, acc-seq=0.24950, precision=0.84180, recall=0.86739, F1=0.85441\n",
      "INFO:torchnlp.common.model:-------------- Saved checkpoint 810 --------------\n",
      "  0%|          | 0/81 [00:00<?, ?it/s]INFO:torchnlp.common.train:Epoch 11 (810)\n",
      "Training:  19%|█▊        | 15/81 [00:00<00:00, 141.96it/s, loss=0.0199]"
     ]
    },
    {
     "name": "stdout",
     "output_type": "stream",
     "text": [
      "kl_loss_final: 0.2846183808786528, pre_loss : 0.2671115739004953\n"
     ]
    },
    {
     "name": "stderr",
     "output_type": "stream",
     "text": [
      "INFO:torchnlp.common.train:total_loss: 0.020455380740724963, kl_loss: 0.12172752738366892, nll_loss: 0.13001015248857897\n",
      "INFO:torchnlp.common.train:Train Loss: 0.02046\n",
      "INFO:torchnlp.common.train:Validation metrics:             \n",
      "INFO:torchnlp.common.train:loss=0.26893, acc=0.92222, acc-seq=0.26392, precision=0.84401, recall=0.88060, F1=0.86191\n",
      "INFO:torchnlp.common.model:-------------- Saved checkpoint 891 --------------\n",
      "  0%|          | 0/81 [00:00<?, ?it/s]INFO:torchnlp.common.train:Epoch 12 (891)\n",
      "Training:  17%|█▋        | 14/81 [00:00<00:00, 139.47it/s, loss=0.0158]"
     ]
    },
    {
     "name": "stdout",
     "output_type": "stream",
     "text": [
      "kl_loss_final: 0.2861925728973888, pre_loss : 0.268927595445088\n"
     ]
    },
    {
     "name": "stderr",
     "output_type": "stream",
     "text": [
      "INFO:torchnlp.common.train:total_loss: 0.01660996436336894, kl_loss: 0.12206765227479699, nll_loss: 0.1264708486420137\n",
      "INFO:torchnlp.common.train:Train Loss: 0.01661\n",
      "INFO:torchnlp.common.train:Validation metrics:             \n",
      "INFO:torchnlp.common.train:loss=0.24522, acc=0.92669, acc-seq=0.28877, precision=0.85654, recall=0.88710, F1=0.87155\n",
      "INFO:torchnlp.common.model:-------------- Saved checkpoint 972 --------------\n",
      "  0%|          | 0/81 [00:00<?, ?it/s]INFO:torchnlp.common.train:Epoch 13 (972)\n",
      "Training:  19%|█▊        | 15/81 [00:00<00:00, 141.40it/s, loss=0.0114]"
     ]
    },
    {
     "name": "stdout",
     "output_type": "stream",
     "text": [
      "kl_loss_final: 0.28623729447523755, pre_loss : 0.2452239358708972\n"
     ]
    },
    {
     "name": "stderr",
     "output_type": "stream",
     "text": [
      "INFO:torchnlp.common.train:total_loss: 0.01150780741447284, kl_loss: 0.12231707361377316, nll_loss: 0.1215931706958347\n",
      "INFO:torchnlp.common.train:Train Loss: 0.01151\n",
      "INFO:torchnlp.common.train:Validation metrics:             \n",
      "INFO:torchnlp.common.train:loss=0.25432, acc=0.92813, acc-seq=0.28777, precision=0.85785, recall=0.88500, F1=0.87121\n",
      "INFO:torchnlp.common.model:-------------- Saved checkpoint 1053 --------------\n",
      "  0%|          | 0/81 [00:00<?, ?it/s]INFO:torchnlp.common.train:Epoch 14 (1053)\n",
      "Training:  19%|█▊        | 15/81 [00:00<00:00, 142.61it/s, loss=0.00861]"
     ]
    },
    {
     "name": "stdout",
     "output_type": "stream",
     "text": [
      "kl_loss_final: 0.28703472585905165, pre_loss : 0.2543197554491815\n"
     ]
    },
    {
     "name": "stderr",
     "output_type": "stream",
     "text": [
      "INFO:torchnlp.common.train:total_loss: 0.009483082058988972, kl_loss: 0.12248518373127337, nll_loss: 0.11971974437251504\n",
      "INFO:torchnlp.common.train:Train Loss: 0.00948\n",
      "INFO:torchnlp.common.train:Validation metrics:             \n",
      "INFO:torchnlp.common.train:loss=0.25041, acc=0.92829, acc-seq=0.28728, precision=0.86444, recall=0.88923, F1=0.87666\n",
      "INFO:torchnlp.common.model:-------------- Saved checkpoint 1134 --------------\n",
      "  0%|          | 0/81 [00:00<?, ?it/s]INFO:torchnlp.common.train:Epoch 15 (1134)\n",
      "Training:  17%|█▋        | 14/81 [00:00<00:00, 131.99it/s, loss=0.0028] "
     ]
    },
    {
     "name": "stdout",
     "output_type": "stream",
     "text": [
      "kl_loss_final: 0.28697359278088524, pre_loss : 0.2504133049930845\n"
     ]
    },
    {
     "name": "stderr",
     "output_type": "stream",
     "text": [
      "INFO:torchnlp.common.train:total_loss: 0.006953316706198233, kl_loss: 0.12272079316554246, nll_loss: 0.11740202806246133\n",
      "INFO:torchnlp.common.train:Train Loss: 0.00695\n",
      "INFO:torchnlp.common.train:Validation metrics:             \n",
      "INFO:torchnlp.common.train:loss=0.24359, acc=0.92973, acc-seq=0.29672, precision=0.86635, recall=0.89141, F1=0.87870\n",
      "INFO:torchnlp.common.model:-------------- Saved checkpoint 1215 --------------\n",
      "  0%|          | 0/81 [00:00<?, ?it/s]INFO:torchnlp.common.train:Epoch 16 (1215)\n",
      "Training:  19%|█▊        | 15/81 [00:00<00:00, 144.20it/s, loss=0.00454]"
     ]
    },
    {
     "name": "stdout",
     "output_type": "stream",
     "text": [
      "kl_loss_final: 0.2862375598578226, pre_loss : 0.24359101269926345\n"
     ]
    },
    {
     "name": "stderr",
     "output_type": "stream",
     "text": [
      "INFO:torchnlp.common.train:total_loss: 0.003793577445142063, kl_loss: 0.12299851972011873, nll_loss: 0.1144922422590079\n",
      "INFO:torchnlp.common.train:Train Loss: 0.00379\n",
      "INFO:torchnlp.common.train:Validation metrics:             \n",
      "INFO:torchnlp.common.train:loss=0.24536, acc=0.92912, acc-seq=0.28976, precision=0.85840, recall=0.89108, F1=0.87443\n",
      "INFO:torchnlp.common.model:-------------- Saved checkpoint 1296 --------------\n",
      "  0%|          | 0/81 [00:00<?, ?it/s]INFO:torchnlp.common.train:Epoch 17 (1296)\n",
      "Training:  19%|█▊        | 15/81 [00:00<00:00, 142.28it/s, loss=0.00244]"
     ]
    },
    {
     "name": "stdout",
     "output_type": "stream",
     "text": [
      "kl_loss_final: 0.2874782880147298, pre_loss : 0.2453620746022179\n"
     ]
    },
    {
     "name": "stderr",
     "output_type": "stream",
     "text": [
      "INFO:torchnlp.common.train:total_loss: 0.0017893350234738103, kl_loss: 0.1232290427993845, nll_loss: 0.112695471096186\n",
      "INFO:torchnlp.common.train:Train Loss: 0.00179\n",
      "INFO:torchnlp.common.train:Validation metrics:             \n",
      "INFO:torchnlp.common.train:loss=0.23782, acc=0.93189, acc-seq=0.31213, precision=0.86989, recall=0.89527, F1=0.88240\n",
      "INFO:torchnlp.common.model:-------------- Saved checkpoint 1377 --------------\n",
      "  0%|          | 0/81 [00:00<?, ?it/s]INFO:torchnlp.common.train:Epoch 18 (1377)\n",
      "Training:  19%|█▊        | 15/81 [00:00<00:00, 145.76it/s, loss=-.00225]"
     ]
    },
    {
     "name": "stdout",
     "output_type": "stream",
     "text": [
      "kl_loss_final: 0.28824487754276823, pre_loss : 0.23782015627338773\n"
     ]
    },
    {
     "name": "stderr",
     "output_type": "stream",
     "text": [
      "INFO:torchnlp.common.train:total_loss: 0.0005200807879000534, kl_loss: 0.12329314207589184, nll_loss: 0.1114839056023845\n",
      "INFO:torchnlp.common.train:Train Loss: 0.00052\n",
      "INFO:torchnlp.common.train:Validation metrics:             \n",
      "INFO:torchnlp.common.train:loss=0.23950, acc=0.93120, acc-seq=0.30765, precision=0.86569, recall=0.89498, F1=0.88009\n",
      "INFO:torchnlp.common.model:-------------- Saved checkpoint 1458 --------------\n",
      "  0%|          | 0/81 [00:00<?, ?it/s]INFO:torchnlp.common.train:Epoch 19 (1458)\n",
      "Training:  19%|█▊        | 15/81 [00:00<00:00, 144.26it/s, loss=-.0027] "
     ]
    },
    {
     "name": "stdout",
     "output_type": "stream",
     "text": [
      "kl_loss_final: 0.28842571945417494, pre_loss : 0.23949928794588363\n"
     ]
    },
    {
     "name": "stderr",
     "output_type": "stream",
     "text": [
      "INFO:torchnlp.common.train:total_loss: -0.0012081540477128676, kl_loss: 0.12353909852696054, nll_loss: 0.10997703211543\n",
      "INFO:torchnlp.common.train:Train Loss: -0.00121\n",
      "INFO:torchnlp.common.train:Validation metrics:             \n",
      "INFO:torchnlp.common.train:loss=0.23802, acc=0.93525, acc-seq=0.34095, precision=0.87495, recall=0.90265, F1=0.88859\n",
      "INFO:torchnlp.common.model:-------------- Saved checkpoint 1539 --------------\n",
      "  0%|          | 0/81 [00:00<?, ?it/s]INFO:torchnlp.common.train:Epoch 20 (1539)\n",
      "Training:  19%|█▊        | 15/81 [00:00<00:00, 147.56it/s, loss=-.00396] "
     ]
    },
    {
     "name": "stdout",
     "output_type": "stream",
     "text": [
      "kl_loss_final: 0.2878384771091597, pre_loss : 0.23801679802792414\n"
     ]
    },
    {
     "name": "stderr",
     "output_type": "stream",
     "text": [
      "INFO:torchnlp.common.train:total_loss: -0.0030101432844444557, kl_loss: 0.12359780367509818, nll_loss: 0.10822787706130817\n",
      "INFO:torchnlp.common.train:Train Loss: -0.00301\n",
      "INFO:torchnlp.common.train:Validation metrics:             \n",
      "INFO:torchnlp.common.train:loss=0.24009, acc=0.93352, acc-seq=0.32058, precision=0.86749, recall=0.89967, F1=0.88329\n",
      "INFO:torchnlp.common.model:-------------- Saved checkpoint 1620 --------------\n",
      "  0%|          | 0/81 [00:00<?, ?it/s]INFO:torchnlp.common.train:Epoch 21 (1620)\n",
      "Training:  19%|█▊        | 15/81 [00:00<00:00, 148.62it/s, loss=-.00499]"
     ]
    },
    {
     "name": "stdout",
     "output_type": "stream",
     "text": [
      "kl_loss_final: 0.28917365663108374, pre_loss : 0.24009201782090323\n"
     ]
    },
    {
     "name": "stderr",
     "output_type": "stream",
     "text": [
      "INFO:torchnlp.common.train:total_loss: -0.0033548897431220537, kl_loss: 0.12367447125323025, nll_loss: 0.1079521315333284\n",
      "INFO:torchnlp.common.train:Train Loss: -0.00335\n",
      "INFO:torchnlp.common.train:Validation metrics:             \n",
      "INFO:torchnlp.common.train:loss=0.24149, acc=0.93210, acc-seq=0.30467, precision=0.87144, recall=0.89720, F1=0.88413\n",
      "INFO:torchnlp.common.model:-------------- Saved checkpoint 1701 --------------\n",
      "  0%|          | 0/81 [00:00<?, ?it/s]INFO:torchnlp.common.train:Epoch 22 (1701)\n",
      "Training:  19%|█▊        | 15/81 [00:00<00:00, 149.30it/s, loss=-.00316] "
     ]
    },
    {
     "name": "stdout",
     "output_type": "stream",
     "text": [
      "kl_loss_final: 0.2890241114156587, pre_loss : 0.24149137557972045\n"
     ]
    },
    {
     "name": "stderr",
     "output_type": "stream",
     "text": [
      "INFO:torchnlp.common.train:total_loss: -0.0037999202807744346, kl_loss: 0.1237325753878664, nll_loss: 0.10755939459727135\n",
      "INFO:torchnlp.common.train:Train Loss: -0.00380\n",
      "INFO:torchnlp.common.train:Validation metrics:             \n",
      "INFO:torchnlp.common.train:loss=0.23527, acc=0.93578, acc-seq=0.33897, precision=0.87398, recall=0.90051, F1=0.88705\n",
      "INFO:torchnlp.common.model:-------------- Saved checkpoint 1782 --------------\n",
      "  0%|          | 0/81 [00:00<?, ?it/s]INFO:torchnlp.common.train:Epoch 23 (1782)\n",
      "Training:  20%|█▉        | 16/81 [00:00<00:00, 151.21it/s, loss=-.00488]"
     ]
    },
    {
     "name": "stdout",
     "output_type": "stream",
     "text": [
      "kl_loss_final: 0.289357606498968, pre_loss : 0.23526593865383238\n"
     ]
    },
    {
     "name": "stderr",
     "output_type": "stream",
     "text": [
      "INFO:torchnlp.common.train:total_loss: -0.004407515772330908, kl_loss: 0.12388330514048353, nll_loss: 0.10708745605783698\n",
      "INFO:torchnlp.common.train:Train Loss: -0.00441\n",
      "INFO:torchnlp.common.train:Validation metrics:             \n",
      "INFO:torchnlp.common.train:loss=0.23812, acc=0.93512, acc-seq=0.32853, precision=0.87482, recall=0.89976, F1=0.88711\n",
      "INFO:torchnlp.common.model:-------------- Saved checkpoint 1863 --------------\n",
      "  0%|          | 0/81 [00:00<?, ?it/s]INFO:torchnlp.common.train:Epoch 24 (1863)\n",
      "Training:  20%|█▉        | 16/81 [00:00<00:00, 151.61it/s, loss=-.00564]"
     ]
    },
    {
     "name": "stdout",
     "output_type": "stream",
     "text": [
      "kl_loss_final: 0.28939101348320645, pre_loss : 0.23811518329949605\n"
     ]
    },
    {
     "name": "stderr",
     "output_type": "stream",
     "text": [
      "INFO:torchnlp.common.train:total_loss: -0.006087928182548947, kl_loss: 0.12388445308179032, nll_loss: 0.10540807670281258\n",
      "INFO:torchnlp.common.train:Train Loss: -0.00609\n",
      "INFO:torchnlp.common.train:Validation metrics:             \n",
      "INFO:torchnlp.common.train:loss=0.24233, acc=0.93405, acc-seq=0.33698, precision=0.86961, recall=0.90173, F1=0.88538\n",
      "INFO:torchnlp.common.train:Early stopping at iteration 1539, epoch 18, F1=0.88859\n",
      "  5%|▍         | 4/81 [00:00<00:01, 39.96it/s]"
     ]
    },
    {
     "name": "stdout",
     "output_type": "stream",
     "text": [
      "kl_loss_final: 0.28887035520303816, pre_loss : 0.24233246913978032\n"
     ]
    },
    {
     "name": "stderr",
     "output_type": "stream",
     "text": [
      "INFO:torchnlp.common.train:prediction, and attns for best epoch obtained, release hook\n",
      "INFO:torchnlp.common.train:prediction, and attns for best epoch obtained, release hook\n"
     ]
    },
    {
     "name": "stdout",
     "output_type": "stream",
     "text": [
      "SAVING PREDICTIONS AND ATTENTIONS\n",
      "done /home/zijiao/research/atal/saved_True_/11:25:34.327740/tr_pr_best\n",
      "done /home/zijiao/research/atal/saved_True_/11:25:34.327740/te_pr_best\n",
      "done /home/zijiao/research/atal/saved_True_/11:25:34.327740/tr_attn_best\n",
      "done /home/zijiao/research/atal/saved_True_/11:25:34.327740/te_attn_best\n",
      "LOOK HERE 0.24233246913978032 0.28887035520303816\n"
     ]
    },
    {
     "name": "stderr",
     "output_type": "stream",
     "text": [
      "INFO:torchnlp.data.conll:---------- CONLL 2000 Chunking ---------\n",
      "INFO:torchnlp.data.conll:Train size: 8042\n",
      "INFO:torchnlp.data.conll:Validation size: 894\n",
      "INFO:torchnlp.data.conll:Test size: 2012\n",
      "INFO:torchtext.vocab:Loading vectors from .vector_cache/glove.6B.200d.txt.pt\n",
      "INFO:torchtext.vocab:Loading vectors from .vector_cache/charNgram.txt.pt\n",
      "INFO:torchnlp.data.conll:Input vocab size:19032\n",
      "INFO:torchnlp.data.conll:Tagset size: 25\n",
      "INFO:torchnlp.common.model:\n",
      "Hyperparameters:\n",
      " batch_size=100\n",
      " embedding_size_word=300\n",
      " embedding_size_char=0\n",
      " embedding_size_char_per_word=100\n",
      " embedding_size_tags=100\n",
      " hidden_size=128\n",
      " learning_rate=0.2\n",
      " learning_rate_decay=noam_step\n",
      " max_length=256\n",
      " num_hidden_layers=1\n",
      " dropout=0.2\n",
      " optimizer_adam_beta1=0.9\n",
      " optimizer_adam_beta2=0.98\n",
      " use_crf=False\n",
      " num_heads=4\n",
      " attention_key_channels=0\n",
      " attention_value_channels=0\n",
      " filter_size=128\n",
      " filter_size_char=64\n",
      " input_dropout=0.2\n",
      " attention_dropout=0.2\n",
      " relu_dropout=0.2\n",
      " learning_rate_warmup_steps=500\n",
      " attn_path=./saved\n",
      " adversarial=True\n",
      " lmbda=0.9999999999999999\n",
      " froze=False\n",
      " froze_path=./froze\n",
      "INFO:torchnlp.common.train:Parameters: 140953(trainable), 5709601(non-trainable)\n",
      "INFO:torchnlp.common.train:Early stopping for highest value of validation F1 after 5 epochs\n",
      "  0%|          | 0/81 [00:00<?, ?it/s]INFO:torchnlp.common.train:Epoch 1 (0)\n",
      "INFO:torchnlp.common.train:total_loss: 1.3967043183468006, kl_loss: 0.04405483421812087, nll_loss: 1.4407591514381362\n",
      "INFO:torchnlp.common.train:Train Loss: 1.39670\n",
      "INFO:torchnlp.common.train:Validation metrics:             \n",
      "INFO:torchnlp.common.train:loss=1.00823, acc=0.66206, acc-seq=0.00249, precision=0.44535, recall=0.46550, F1=0.45520\n",
      "INFO:torchnlp.common.model:-------------- Saved checkpoint 81 --------------\n",
      "  0%|          | 0/81 [00:00<?, ?it/s]INFO:torchnlp.common.train:Epoch 2 (81)\n",
      "Training:  19%|█▊        | 15/81 [00:00<00:00, 142.50it/s, loss=0.413]"
     ]
    },
    {
     "name": "stdout",
     "output_type": "stream",
     "text": [
      "kl_loss_final: 0.17055061282146544, pre_loss : 1.0082276264826457\n"
     ]
    },
    {
     "name": "stderr",
     "output_type": "stream",
     "text": [
      "INFO:torchnlp.common.train:total_loss: 0.32324227543524753, kl_loss: 0.07517507120415017, nll_loss: 0.3984173459035379\n",
      "INFO:torchnlp.common.train:Train Loss: 0.32324\n",
      "INFO:torchnlp.common.train:Validation metrics:             \n",
      "INFO:torchnlp.common.train:loss=0.61917, acc=0.76679, acc-seq=0.01342, precision=0.63477, recall=0.68472, F1=0.65880\n",
      "INFO:torchnlp.common.model:-------------- Saved checkpoint 162 --------------\n",
      "  0%|          | 0/81 [00:00<?, ?it/s]INFO:torchnlp.common.train:Epoch 3 (162)\n",
      "Training:  20%|█▉        | 16/81 [00:00<00:00, 150.28it/s, loss=0.211]"
     ]
    },
    {
     "name": "stdout",
     "output_type": "stream",
     "text": [
      "kl_loss_final: 0.20973275637342817, pre_loss : 0.6191669063908714\n"
     ]
    },
    {
     "name": "stderr",
     "output_type": "stream",
     "text": [
      "INFO:torchnlp.common.train:total_loss: 0.19204513397481707, kl_loss: 0.09671996846611117, nll_loss: 0.2887651020729983\n",
      "INFO:torchnlp.common.train:Train Loss: 0.19205\n",
      "INFO:torchnlp.common.train:Validation metrics:             \n",
      "INFO:torchnlp.common.train:loss=0.55484, acc=0.78579, acc-seq=0.02087, precision=0.67925, recall=0.71571, F1=0.69700\n",
      "INFO:torchnlp.common.model:-------------- Saved checkpoint 243 --------------\n",
      "  0%|          | 0/81 [00:00<?, ?it/s]INFO:torchnlp.common.train:Epoch 4 (243)\n",
      "Training:  20%|█▉        | 16/81 [00:00<00:00, 153.44it/s, loss=0.158]"
     ]
    },
    {
     "name": "stdout",
     "output_type": "stream",
     "text": [
      "kl_loss_final: 0.23416012738432204, pre_loss : 0.5548411863190787\n"
     ]
    },
    {
     "name": "stderr",
     "output_type": "stream",
     "text": [
      "INFO:torchnlp.common.train:total_loss: 0.14231020699680588, kl_loss: 0.10194068705594098, nll_loss: 0.2442508926730097\n",
      "INFO:torchnlp.common.train:Train Loss: 0.14231\n",
      "INFO:torchnlp.common.train:Validation metrics:             \n",
      "INFO:torchnlp.common.train:loss=0.39552, acc=0.86048, acc-seq=0.10736, precision=0.72637, recall=0.77306, F1=0.74899\n",
      "INFO:torchnlp.common.model:-------------- Saved checkpoint 324 --------------\n",
      "  0%|          | 0/81 [00:00<?, ?it/s]INFO:torchnlp.common.train:Epoch 5 (324)\n",
      "Training:  20%|█▉        | 16/81 [00:00<00:00, 150.19it/s, loss=0.0959]"
     ]
    },
    {
     "name": "stdout",
     "output_type": "stream",
     "text": [
      "kl_loss_final: 0.24543276500134242, pre_loss : 0.3955233267375401\n"
     ]
    },
    {
     "name": "stderr",
     "output_type": "stream",
     "text": [
      "INFO:torchnlp.common.train:total_loss: 0.08318401909904716, kl_loss: 0.10538004669878218, nll_loss: 0.18856406579782933\n",
      "INFO:torchnlp.common.train:Train Loss: 0.08318\n",
      "INFO:torchnlp.common.train:Validation metrics:             \n",
      "INFO:torchnlp.common.train:loss=0.30986, acc=0.89963, acc-seq=0.18936, precision=0.79166, recall=0.82668, F1=0.80879\n",
      "INFO:torchnlp.common.model:-------------- Saved checkpoint 405 --------------\n",
      "  0%|          | 0/81 [00:00<?, ?it/s]INFO:torchnlp.common.train:Epoch 6 (405)\n",
      "Training:  19%|█▊        | 15/81 [00:00<00:00, 149.45it/s, loss=0.0587]"
     ]
    },
    {
     "name": "stdout",
     "output_type": "stream",
     "text": [
      "kl_loss_final: 0.2588058639140356, pre_loss : 0.309858901869683\n"
     ]
    },
    {
     "name": "stderr",
     "output_type": "stream",
     "text": [
      "INFO:torchnlp.common.train:total_loss: 0.05358052667644289, kl_loss: 0.11076729505518336, nll_loss: 0.16434782173162626\n",
      "INFO:torchnlp.common.train:Train Loss: 0.05358\n",
      "INFO:torchnlp.common.train:Validation metrics:             \n",
      "INFO:torchnlp.common.train:loss=0.29644, acc=0.90531, acc-seq=0.20129, precision=0.80363, recall=0.84379, F1=0.82322\n",
      "INFO:torchnlp.common.model:-------------- Saved checkpoint 486 --------------\n",
      "  0%|          | 0/81 [00:00<?, ?it/s]INFO:torchnlp.common.train:Epoch 7 (486)\n",
      "Training:  19%|█▊        | 15/81 [00:00<00:00, 147.56it/s, loss=0.0436]"
     ]
    },
    {
     "name": "stdout",
     "output_type": "stream",
     "text": [
      "kl_loss_final: 0.2800265298712821, pre_loss : 0.2964380255767277\n"
     ]
    },
    {
     "name": "stderr",
     "output_type": "stream",
     "text": [
      "INFO:torchnlp.common.train:total_loss: 0.036538510134926545, kl_loss: 0.11615990461022765, nll_loss: 0.1526984147451542\n",
      "INFO:torchnlp.common.train:Train Loss: 0.03654\n",
      "INFO:torchnlp.common.train:Validation metrics:             \n",
      "INFO:torchnlp.common.train:loss=0.28914, acc=0.91371, acc-seq=0.23360, precision=0.83297, recall=0.86685, F1=0.84957\n",
      "INFO:torchnlp.common.model:-------------- Saved checkpoint 567 --------------\n",
      "  0%|          | 0/81 [00:00<?, ?it/s]INFO:torchnlp.common.train:Epoch 8 (567)\n",
      "Training:  19%|█▊        | 15/81 [00:00<00:00, 144.16it/s, loss=0.0234]"
     ]
    },
    {
     "name": "stdout",
     "output_type": "stream",
     "text": [
      "kl_loss_final: 0.28541216041360584, pre_loss : 0.2891447827929542\n"
     ]
    },
    {
     "name": "stderr",
     "output_type": "stream",
     "text": [
      "INFO:torchnlp.common.train:total_loss: 0.022258584330111374, kl_loss: 0.11921429919239915, nll_loss: 0.14147288352251053\n",
      "INFO:torchnlp.common.train:Train Loss: 0.02226\n",
      "INFO:torchnlp.common.train:Validation metrics:             \n",
      "INFO:torchnlp.common.train:loss=0.27864, acc=0.91622, acc-seq=0.23559, precision=0.83609, recall=0.86462, F1=0.85012\n",
      "INFO:torchnlp.common.model:-------------- Saved checkpoint 648 --------------\n",
      "  0%|          | 0/81 [00:00<?, ?it/s]INFO:torchnlp.common.train:Epoch 9 (648)\n",
      "Training:  19%|█▊        | 15/81 [00:00<00:00, 139.44it/s, loss=0.021] "
     ]
    },
    {
     "name": "stdout",
     "output_type": "stream",
     "text": [
      "kl_loss_final: 0.28953900188207626, pre_loss : 0.27864100748584386\n"
     ]
    },
    {
     "name": "stderr",
     "output_type": "stream",
     "text": [
      "INFO:torchnlp.common.train:total_loss: 0.01808868247417756, kl_loss: 0.12093997875481476, nll_loss: 0.13902866122899232\n",
      "INFO:torchnlp.common.train:Train Loss: 0.01809\n",
      "INFO:torchnlp.common.train:Validation metrics:             \n",
      "INFO:torchnlp.common.train:loss=0.26965, acc=0.91949, acc-seq=0.25696, precision=0.83093, recall=0.87364, F1=0.85175\n",
      "INFO:torchnlp.common.model:-------------- Saved checkpoint 729 --------------\n",
      "  0%|          | 0/81 [00:00<?, ?it/s]INFO:torchnlp.common.train:Epoch 10 (729)\n",
      "Training:  17%|█▋        | 14/81 [00:00<00:00, 138.44it/s, loss=0.00986]"
     ]
    },
    {
     "name": "stdout",
     "output_type": "stream",
     "text": [
      "kl_loss_final: 0.29353014486176626, pre_loss : 0.2696462812877837\n"
     ]
    },
    {
     "name": "stderr",
     "output_type": "stream",
     "text": [
      "INFO:torchnlp.common.train:total_loss: 0.009062273726787097, kl_loss: 0.12198580442755311, nll_loss: 0.1310480781543402\n",
      "INFO:torchnlp.common.train:Train Loss: 0.00906\n",
      "INFO:torchnlp.common.train:Validation metrics:             \n",
      "INFO:torchnlp.common.train:loss=0.25704, acc=0.92445, acc-seq=0.28380, precision=0.84552, recall=0.88114, F1=0.86296\n",
      "INFO:torchnlp.common.model:-------------- Saved checkpoint 810 --------------\n",
      "  0%|          | 0/81 [00:00<?, ?it/s]INFO:torchnlp.common.train:Epoch 11 (810)\n",
      "Training:  19%|█▊        | 15/81 [00:00<00:00, 145.64it/s, loss=0.00357]"
     ]
    },
    {
     "name": "stdout",
     "output_type": "stream",
     "text": [
      "kl_loss_final: 0.2930984780901954, pre_loss : 0.2570350070794423\n"
     ]
    },
    {
     "name": "stderr",
     "output_type": "stream",
     "text": [
      "INFO:torchnlp.common.train:total_loss: 0.004897368818889429, kl_loss: 0.12218668744151975, nll_loss: 0.12708405626040917\n",
      "INFO:torchnlp.common.train:Train Loss: 0.00490\n",
      "INFO:torchnlp.common.train:Validation metrics:             \n",
      "INFO:torchnlp.common.train:loss=0.25510, acc=0.92500, acc-seq=0.29374, precision=0.84810, recall=0.88366, F1=0.86551\n",
      "INFO:torchnlp.common.model:-------------- Saved checkpoint 891 --------------\n",
      "  0%|          | 0/81 [00:00<?, ?it/s]INFO:torchnlp.common.train:Epoch 12 (891)\n",
      "Training:  20%|█▉        | 16/81 [00:00<00:00, 150.91it/s, loss=-.00178] "
     ]
    },
    {
     "name": "stdout",
     "output_type": "stream",
     "text": [
      "kl_loss_final: 0.2948361163338025, pre_loss : 0.25510006433441523\n"
     ]
    },
    {
     "name": "stderr",
     "output_type": "stream",
     "text": [
      "INFO:torchnlp.common.train:total_loss: 3.3259483767144475e-05, kl_loss: 0.12259646403936693, nll_loss: 0.12262972352313406\n",
      "INFO:torchnlp.common.train:Train Loss: 0.00003\n",
      "INFO:torchnlp.common.train:Validation metrics:             \n",
      "INFO:torchnlp.common.train:loss=0.24806, acc=0.92747, acc-seq=0.29771, precision=0.85087, recall=0.89053, F1=0.87025\n",
      "INFO:torchnlp.common.model:-------------- Saved checkpoint 972 --------------\n",
      "  0%|          | 0/81 [00:00<?, ?it/s]INFO:torchnlp.common.train:Epoch 13 (972)\n",
      "Training:  19%|█▊        | 15/81 [00:00<00:00, 145.19it/s, loss=-.00317]"
     ]
    },
    {
     "name": "stdout",
     "output_type": "stream",
     "text": [
      "kl_loss_final: 0.29611753672361374, pre_loss : 0.24805877464158194\n"
     ]
    },
    {
     "name": "stderr",
     "output_type": "stream",
     "text": [
      "INFO:torchnlp.common.train:total_loss: -0.003637558608143418, kl_loss: 0.12265746635787281, nll_loss: 0.1190199077497294\n",
      "INFO:torchnlp.common.train:Train Loss: -0.00364\n",
      "INFO:torchnlp.common.train:Validation metrics:             \n",
      "INFO:torchnlp.common.train:loss=0.24651, acc=0.93103, acc-seq=0.31113, precision=0.85723, recall=0.89037, F1=0.87348\n",
      "INFO:torchnlp.common.model:-------------- Saved checkpoint 1053 --------------\n",
      "  0%|          | 0/81 [00:00<?, ?it/s]INFO:torchnlp.common.train:Epoch 14 (1053)\n",
      "Training:  19%|█▊        | 15/81 [00:00<00:00, 141.11it/s, loss=-.00434]"
     ]
    },
    {
     "name": "stdout",
     "output_type": "stream",
     "text": [
      "kl_loss_final: 0.29667301156691145, pre_loss : 0.24650521789278304\n"
     ]
    },
    {
     "name": "stderr",
     "output_type": "stream",
     "text": [
      "INFO:torchnlp.common.train:total_loss: -0.005735732890941479, kl_loss: 0.12260473795511105, nll_loss: 0.11686900506416957\n",
      "INFO:torchnlp.common.train:Train Loss: -0.00574\n",
      "INFO:torchnlp.common.train:Validation metrics:             \n",
      "INFO:torchnlp.common.train:loss=0.24639, acc=0.92998, acc-seq=0.31660, precision=0.85836, recall=0.89049, F1=0.87413\n",
      "INFO:torchnlp.common.model:-------------- Saved checkpoint 1134 --------------\n",
      "  0%|          | 0/81 [00:00<?, ?it/s]INFO:torchnlp.common.train:Epoch 15 (1134)\n",
      "Training:  19%|█▊        | 15/81 [00:00<00:00, 147.67it/s, loss=-.00986]"
     ]
    },
    {
     "name": "stdout",
     "output_type": "stream",
     "text": [
      "kl_loss_final: 0.2959584111259097, pre_loss : 0.24638594367674418\n"
     ]
    },
    {
     "name": "stderr",
     "output_type": "stream",
     "text": [
      "INFO:torchnlp.common.train:total_loss: -0.0074176642077940485, kl_loss: 0.12286508120136497, nll_loss: 0.11544741699357092\n",
      "INFO:torchnlp.common.train:Train Loss: -0.00742\n",
      "INFO:torchnlp.common.train:Validation metrics:             \n",
      "INFO:torchnlp.common.train:loss=0.24123, acc=0.93113, acc-seq=0.32455, precision=0.86190, recall=0.89250, F1=0.87693\n",
      "INFO:torchnlp.common.model:-------------- Saved checkpoint 1215 --------------\n",
      "  0%|          | 0/81 [00:00<?, ?it/s]INFO:torchnlp.common.train:Epoch 16 (1215)\n",
      "Training:  19%|█▊        | 15/81 [00:00<00:00, 146.56it/s, loss=-.00919]"
     ]
    },
    {
     "name": "stdout",
     "output_type": "stream",
     "text": [
      "kl_loss_final: 0.2966473780217625, pre_loss : 0.24123494894731612\n"
     ]
    },
    {
     "name": "stderr",
     "output_type": "stream",
     "text": [
      "INFO:torchnlp.common.train:total_loss: -0.010177857437987386, kl_loss: 0.12294632573554545, nll_loss: 0.11276846829755807\n",
      "INFO:torchnlp.common.train:Train Loss: -0.01018\n",
      "INFO:torchnlp.common.train:Validation metrics:             \n",
      "INFO:torchnlp.common.train:loss=0.23995, acc=0.93356, acc-seq=0.32952, precision=0.86939, recall=0.89745, F1=0.88320\n",
      "INFO:torchnlp.common.model:-------------- Saved checkpoint 1296 --------------\n",
      "  0%|          | 0/81 [00:00<?, ?it/s]INFO:torchnlp.common.train:Epoch 17 (1296)\n",
      "Training:  17%|█▋        | 14/81 [00:00<00:00, 138.26it/s, loss=-.0122] "
     ]
    },
    {
     "name": "stdout",
     "output_type": "stream",
     "text": [
      "kl_loss_final: 0.296975134738854, pre_loss : 0.23995403945446014\n"
     ]
    },
    {
     "name": "stderr",
     "output_type": "stream",
     "text": [
      "INFO:torchnlp.common.train:total_loss: -0.012218875373587196, kl_loss: 0.12316125263402491, nll_loss: 0.11094237726043772\n",
      "INFO:torchnlp.common.train:Train Loss: -0.01222\n",
      "INFO:torchnlp.common.train:Validation metrics:             \n",
      "INFO:torchnlp.common.train:loss=0.24601, acc=0.93109, acc-seq=0.32505, precision=0.85870, recall=0.89376, F1=0.87588\n",
      "INFO:torchnlp.common.model:-------------- Saved checkpoint 1377 --------------\n",
      "  0%|          | 0/81 [00:00<?, ?it/s]INFO:torchnlp.common.train:Epoch 18 (1377)\n",
      "Training:  19%|█▊        | 15/81 [00:00<00:00, 140.11it/s, loss=-.0128]"
     ]
    },
    {
     "name": "stdout",
     "output_type": "stream",
     "text": [
      "kl_loss_final: 0.2975561799747603, pre_loss : 0.24600756097407567\n"
     ]
    },
    {
     "name": "stderr",
     "output_type": "stream",
     "text": [
      "INFO:torchnlp.common.train:total_loss: -0.012868737181027731, kl_loss: 0.12311432170279232, nll_loss: 0.11024558452176458\n",
      "INFO:torchnlp.common.train:Train Loss: -0.01287\n",
      "INFO:torchnlp.common.train:Validation metrics:             \n",
      "INFO:torchnlp.common.train:loss=0.24529, acc=0.93406, acc-seq=0.33101, precision=0.86966, recall=0.89909, F1=0.88413\n",
      "INFO:torchnlp.common.model:-------------- Saved checkpoint 1458 --------------\n",
      "  0%|          | 0/81 [00:00<?, ?it/s]INFO:torchnlp.common.train:Epoch 19 (1458)\n",
      "Training:  19%|█▊        | 15/81 [00:00<00:00, 141.03it/s, loss=-.0139]"
     ]
    },
    {
     "name": "stdout",
     "output_type": "stream",
     "text": [
      "kl_loss_final: 0.29719721916176023, pre_loss : 0.24529117274852025\n"
     ]
    },
    {
     "name": "stderr",
     "output_type": "stream",
     "text": [
      "INFO:torchnlp.common.train:total_loss: -0.015073637167612711, kl_loss: 0.12323878668708566, nll_loss: 0.10816514951947295\n",
      "INFO:torchnlp.common.train:Train Loss: -0.01507\n",
      "INFO:torchnlp.common.train:Validation metrics:             \n",
      "INFO:torchnlp.common.train:loss=0.24002, acc=0.93354, acc-seq=0.31710, precision=0.87516, recall=0.89821, F1=0.88653\n",
      "INFO:torchnlp.common.model:-------------- Saved checkpoint 1539 --------------\n",
      "  0%|          | 0/81 [00:00<?, ?it/s]INFO:torchnlp.common.train:Epoch 20 (1539)\n",
      "Training:  19%|█▊        | 15/81 [00:00<00:00, 147.04it/s, loss=-.0166]"
     ]
    },
    {
     "name": "stdout",
     "output_type": "stream",
     "text": [
      "kl_loss_final: 0.2981626522682962, pre_loss : 0.24002371373630704\n"
     ]
    },
    {
     "name": "stderr",
     "output_type": "stream",
     "text": [
      "INFO:torchnlp.common.train:total_loss: -0.016428410087102725, kl_loss: 0.12340780779903318, nll_loss: 0.10697939771193045\n",
      "INFO:torchnlp.common.train:Train Loss: -0.01643\n",
      "INFO:torchnlp.common.train:Validation metrics:             \n",
      "INFO:torchnlp.common.train:loss=0.24534, acc=0.93496, acc-seq=0.33797, precision=0.86765, recall=0.89846, F1=0.88278\n",
      "INFO:torchnlp.common.model:-------------- Saved checkpoint 1620 --------------\n",
      "  0%|          | 0/81 [00:00<?, ?it/s]INFO:torchnlp.common.train:Epoch 21 (1620)\n",
      "Training:  17%|█▋        | 14/81 [00:00<00:00, 139.16it/s, loss=-.0176]"
     ]
    },
    {
     "name": "stdout",
     "output_type": "stream",
     "text": [
      "kl_loss_final: 0.2992980678876241, pre_loss : 0.2453354817061197\n"
     ]
    },
    {
     "name": "stderr",
     "output_type": "stream",
     "text": [
      "INFO:torchnlp.common.train:total_loss: -0.01758592630977984, kl_loss: 0.12346739128783897, nll_loss: 0.10588146497805913\n",
      "INFO:torchnlp.common.train:Train Loss: -0.01759\n",
      "INFO:torchnlp.common.train:Validation metrics:             \n",
      "INFO:torchnlp.common.train:loss=0.23816, acc=0.93638, acc-seq=0.35139, precision=0.86814, recall=0.89988, F1=0.88373\n",
      "INFO:torchnlp.common.model:-------------- Saved checkpoint 1701 --------------\n",
      "  0%|          | 0/81 [00:00<?, ?it/s]INFO:torchnlp.common.train:Epoch 22 (1701)\n",
      "Training:  19%|█▊        | 15/81 [00:00<00:00, 143.86it/s, loss=-.0194]"
     ]
    },
    {
     "name": "stdout",
     "output_type": "stream",
     "text": [
      "kl_loss_final: 0.29872798174619675, pre_loss : 0.23816243239811488\n"
     ]
    },
    {
     "name": "stderr",
     "output_type": "stream",
     "text": [
      "INFO:torchnlp.common.train:total_loss: -0.019595264008751622, kl_loss: 0.12353352383698946, nll_loss: 0.10393825982823784\n",
      "INFO:torchnlp.common.train:Train Loss: -0.01960\n",
      "INFO:torchnlp.common.train:Validation metrics:             \n",
      "INFO:torchnlp.common.train:loss=0.23895, acc=0.93607, acc-seq=0.34046, precision=0.87202, recall=0.90072, F1=0.88614\n",
      "INFO:torchnlp.common.model:-------------- Saved checkpoint 1782 --------------\n",
      "  0%|          | 0/81 [00:00<?, ?it/s]INFO:torchnlp.common.train:Epoch 23 (1782)\n",
      "Training:  19%|█▊        | 15/81 [00:00<00:00, 143.19it/s, loss=-.0226]"
     ]
    },
    {
     "name": "stdout",
     "output_type": "stream",
     "text": [
      "kl_loss_final: 0.29816771688915433, pre_loss : 0.23895395937420072\n"
     ]
    },
    {
     "name": "stderr",
     "output_type": "stream",
     "text": [
      "INFO:torchnlp.common.train:total_loss: -0.019783338094935005, kl_loss: 0.12359705171835275, nll_loss: 0.10381371362341775\n",
      "INFO:torchnlp.common.train:Train Loss: -0.01978\n",
      "INFO:torchnlp.common.train:Validation metrics:             \n",
      "INFO:torchnlp.common.train:loss=0.23529, acc=0.93550, acc-seq=0.34344, precision=0.87089, recall=0.90181, F1=0.88608\n",
      "INFO:torchnlp.common.model:-------------- Saved checkpoint 1863 --------------\n",
      "  0%|          | 0/81 [00:00<?, ?it/s]INFO:torchnlp.common.train:Epoch 24 (1863)\n",
      "Training:  19%|█▊        | 15/81 [00:00<00:00, 140.57it/s, loss=-.0207]"
     ]
    },
    {
     "name": "stdout",
     "output_type": "stream",
     "text": [
      "kl_loss_final: 0.2977209151500747, pre_loss : 0.2352899731624694\n"
     ]
    },
    {
     "name": "stderr",
     "output_type": "stream",
     "text": [
      "INFO:torchnlp.common.train:total_loss: -0.020716537755948526, kl_loss: 0.1237277066634025, nll_loss: 0.10301116890745399\n",
      "INFO:torchnlp.common.train:Train Loss: -0.02072\n",
      "INFO:torchnlp.common.train:Validation metrics:             \n",
      "INFO:torchnlp.common.train:loss=0.22917, acc=0.93763, acc-seq=0.35636, precision=0.87446, recall=0.90177, F1=0.88790\n",
      "INFO:torchnlp.common.model:-------------- Saved checkpoint 1944 --------------\n",
      "  0%|          | 0/81 [00:00<?, ?it/s]INFO:torchnlp.common.train:Epoch 25 (1944)\n",
      "Training:  17%|█▋        | 14/81 [00:00<00:00, 138.83it/s, loss=-.0201]"
     ]
    },
    {
     "name": "stdout",
     "output_type": "stream",
     "text": [
      "kl_loss_final: 0.29820829523461206, pre_loss : 0.2291711728487696\n"
     ]
    },
    {
     "name": "stderr",
     "output_type": "stream",
     "text": [
      "INFO:torchnlp.common.train:total_loss: -0.021271554776179938, kl_loss: 0.12357512401577866, nll_loss: 0.10230356923959873\n",
      "INFO:torchnlp.common.train:Train Loss: -0.02127\n",
      "INFO:torchnlp.common.train:Validation metrics:             \n",
      "INFO:torchnlp.common.train:loss=0.23170, acc=0.93739, acc-seq=0.34592, precision=0.87430, recall=0.90018, F1=0.88705\n",
      "INFO:torchnlp.common.model:-------------- Saved checkpoint 2025 --------------\n",
      "  0%|          | 0/81 [00:00<?, ?it/s]INFO:torchnlp.common.train:Epoch 26 (2025)\n",
      "Training:  17%|█▋        | 14/81 [00:00<00:00, 136.52it/s, loss=-.0224]"
     ]
    },
    {
     "name": "stdout",
     "output_type": "stream",
     "text": [
      "kl_loss_final: 0.2981479214060874, pre_loss : 0.2316958996511641\n"
     ]
    },
    {
     "name": "stderr",
     "output_type": "stream",
     "text": [
      "INFO:torchnlp.common.train:total_loss: -0.021162412416787794, kl_loss: 0.12366629005582244, nll_loss: 0.10250387763903465\n",
      "INFO:torchnlp.common.train:Train Loss: -0.02116\n",
      "INFO:torchnlp.common.train:Validation metrics:             \n",
      "INFO:torchnlp.common.train:loss=0.23624, acc=0.93609, acc-seq=0.34344, precision=0.87276, recall=0.89955, F1=0.88595\n",
      "INFO:torchnlp.common.model:-------------- Saved checkpoint 2106 --------------\n",
      "  0%|          | 0/81 [00:00<?, ?it/s]INFO:torchnlp.common.train:Epoch 27 (2106)\n",
      "Training:  19%|█▊        | 15/81 [00:00<00:00, 139.50it/s, loss=-.0236]"
     ]
    },
    {
     "name": "stdout",
     "output_type": "stream",
     "text": [
      "kl_loss_final: 0.2989563934859775, pre_loss : 0.23624156557378315\n"
     ]
    },
    {
     "name": "stderr",
     "output_type": "stream",
     "text": [
      "INFO:torchnlp.common.train:total_loss: -0.02297532402070952, kl_loss: 0.12366371942155155, nll_loss: 0.10068839540084203\n",
      "INFO:torchnlp.common.train:Train Loss: -0.02298\n",
      "INFO:torchnlp.common.train:Validation metrics:             \n",
      "INFO:torchnlp.common.train:loss=0.23281, acc=0.93891, acc-seq=0.36978, precision=0.87380, recall=0.90600, F1=0.88961\n",
      "INFO:torchnlp.common.model:-------------- Saved checkpoint 2187 --------------\n",
      "  0%|          | 0/81 [00:00<?, ?it/s]INFO:torchnlp.common.train:Epoch 28 (2187)\n",
      "Training:  19%|█▊        | 15/81 [00:00<00:00, 142.47it/s, loss=-.0238]"
     ]
    },
    {
     "name": "stdout",
     "output_type": "stream",
     "text": [
      "kl_loss_final: 0.2982118974129359, pre_loss : 0.23281156591006688\n"
     ]
    },
    {
     "name": "stderr",
     "output_type": "stream",
     "text": [
      "INFO:torchnlp.common.train:total_loss: -0.024008064450305185, kl_loss: 0.12367900764500653, nll_loss: 0.09967094319470135\n",
      "INFO:torchnlp.common.train:Train Loss: -0.02401\n",
      "INFO:torchnlp.common.train:Validation metrics:             \n",
      "INFO:torchnlp.common.train:loss=0.23085, acc=0.93774, acc-seq=0.35934, precision=0.87491, recall=0.90349, F1=0.88897\n",
      "INFO:torchnlp.common.model:-------------- Saved checkpoint 2268 --------------\n",
      "  0%|          | 0/81 [00:00<?, ?it/s]INFO:torchnlp.common.train:Epoch 29 (2268)\n",
      "Training:  19%|█▊        | 15/81 [00:00<00:00, 143.77it/s, loss=-.0261]"
     ]
    },
    {
     "name": "stdout",
     "output_type": "stream",
     "text": [
      "kl_loss_final: 0.2978550238268716, pre_loss : 0.2308481119218327\n"
     ]
    },
    {
     "name": "stderr",
     "output_type": "stream",
     "text": [
      "INFO:torchnlp.common.train:total_loss: -0.02537450663469456, kl_loss: 0.12360976608815016, nll_loss: 0.09823525945345561\n",
      "INFO:torchnlp.common.train:Train Loss: -0.02537\n",
      "INFO:torchnlp.common.train:Validation metrics:             \n",
      "INFO:torchnlp.common.train:loss=0.23294, acc=0.93945, acc-seq=0.36083, precision=0.87825, recall=0.90667, F1=0.89224\n",
      "INFO:torchnlp.common.model:-------------- Saved checkpoint 2349 --------------\n",
      "  0%|          | 0/81 [00:00<?, ?it/s]INFO:torchnlp.common.train:Epoch 30 (2349)\n",
      "Training:  19%|█▊        | 15/81 [00:00<00:00, 145.22it/s, loss=-.0257]"
     ]
    },
    {
     "name": "stdout",
     "output_type": "stream",
     "text": [
      "kl_loss_final: 0.29808519532283145, pre_loss : 0.23293696414856685\n"
     ]
    },
    {
     "name": "stderr",
     "output_type": "stream",
     "text": [
      "INFO:torchnlp.common.train:total_loss: -0.02433820206809927, kl_loss: 0.12369185722904441, nll_loss: 0.09935365516094515\n",
      "INFO:torchnlp.common.train:Train Loss: -0.02434\n",
      "INFO:torchnlp.common.train:Validation metrics:             \n",
      "INFO:torchnlp.common.train:loss=0.23116, acc=0.93887, acc-seq=0.36630, precision=0.87691, recall=0.90319, F1=0.88986\n",
      "INFO:torchnlp.common.model:-------------- Saved checkpoint 2430 --------------\n",
      "  0%|          | 0/81 [00:00<?, ?it/s]INFO:torchnlp.common.train:Epoch 31 (2430)\n",
      "Training:  19%|█▊        | 15/81 [00:00<00:00, 143.78it/s, loss=-.0266]"
     ]
    },
    {
     "name": "stdout",
     "output_type": "stream",
     "text": [
      "kl_loss_final: 0.2978473078636896, pre_loss : 0.2311574469010035\n"
     ]
    },
    {
     "name": "stderr",
     "output_type": "stream",
     "text": [
      "INFO:torchnlp.common.train:total_loss: -0.025918534968370273, kl_loss: 0.1237589340702987, nll_loss: 0.09784039910192843\n",
      "INFO:torchnlp.common.train:Train Loss: -0.02592\n",
      "INFO:torchnlp.common.train:Validation metrics:             \n",
      "INFO:torchnlp.common.train:loss=0.23875, acc=0.93885, acc-seq=0.36034, precision=0.87646, recall=0.90332, F1=0.88969\n",
      "INFO:torchnlp.common.model:-------------- Saved checkpoint 2511 --------------\n",
      "  0%|          | 0/81 [00:00<?, ?it/s]INFO:torchnlp.common.train:Epoch 32 (2511)\n",
      "Training:  19%|█▊        | 15/81 [00:00<00:00, 142.91it/s, loss=-.0268]"
     ]
    },
    {
     "name": "stdout",
     "output_type": "stream",
     "text": [
      "kl_loss_final: 0.2987118157602492, pre_loss : 0.23875477732647032\n"
     ]
    },
    {
     "name": "stderr",
     "output_type": "stream",
     "text": [
      "INFO:torchnlp.common.train:total_loss: -0.02612078226642844, kl_loss: 0.12382427225878209, nll_loss: 0.09770348999235365\n",
      "INFO:torchnlp.common.train:Train Loss: -0.02612\n",
      "INFO:torchnlp.common.train:Validation metrics:             \n",
      "INFO:torchnlp.common.train:loss=0.23413, acc=0.93879, acc-seq=0.36282, precision=0.87566, recall=0.90730, F1=0.89120\n",
      "INFO:torchnlp.common.model:-------------- Saved checkpoint 2592 --------------\n",
      "  0%|          | 0/81 [00:00<?, ?it/s]INFO:torchnlp.common.train:Epoch 33 (2592)\n",
      "Training:  20%|█▉        | 16/81 [00:00<00:00, 148.81it/s, loss=-.0296]"
     ]
    },
    {
     "name": "stdout",
     "output_type": "stream",
     "text": [
      "kl_loss_final: 0.2983253009262539, pre_loss : 0.2341270602884747\n"
     ]
    },
    {
     "name": "stderr",
     "output_type": "stream",
     "text": [
      "INFO:torchnlp.common.train:total_loss: -0.02830821606847975, kl_loss: 0.12382391260729896, nll_loss: 0.09551569653881921\n",
      "INFO:torchnlp.common.train:Train Loss: -0.02831\n",
      "INFO:torchnlp.common.train:Validation metrics:             \n",
      "INFO:torchnlp.common.train:loss=0.23059, acc=0.93947, acc-seq=0.36382, precision=0.87891, recall=0.90743, F1=0.89294\n",
      "INFO:torchnlp.common.model:-------------- Saved checkpoint 2673 --------------\n",
      "  0%|          | 0/81 [00:00<?, ?it/s]INFO:torchnlp.common.train:Epoch 34 (2673)\n",
      "Training:  16%|█▌        | 13/81 [00:00<00:00, 126.60it/s, loss=-.0276]"
     ]
    },
    {
     "name": "stdout",
     "output_type": "stream",
     "text": [
      "kl_loss_final: 0.29843368842488244, pre_loss : 0.23059250769161044\n"
     ]
    },
    {
     "name": "stderr",
     "output_type": "stream",
     "text": [
      "INFO:torchnlp.common.train:total_loss: -0.02768635602644932, kl_loss: 0.12377583235502243, nll_loss: 0.0960894763285731\n",
      "INFO:torchnlp.common.train:Train Loss: -0.02769\n",
      "INFO:torchnlp.common.train:Validation metrics:             \n",
      "INFO:torchnlp.common.train:loss=0.22811, acc=0.94089, acc-seq=0.37624, precision=0.88034, recall=0.90655, F1=0.89325\n",
      "INFO:torchnlp.common.model:-------------- Saved checkpoint 2754 --------------\n",
      "  0%|          | 0/81 [00:00<?, ?it/s]INFO:torchnlp.common.train:Epoch 35 (2754)\n",
      "Training:  19%|█▊        | 15/81 [00:00<00:00, 144.28it/s, loss=-.0292]"
     ]
    },
    {
     "name": "stdout",
     "output_type": "stream",
     "text": [
      "kl_loss_final: 0.29822015868765966, pre_loss : 0.22810623404525576\n"
     ]
    },
    {
     "name": "stderr",
     "output_type": "stream",
     "text": [
      "INFO:torchnlp.common.train:total_loss: -0.02864321017706836, kl_loss: 0.12381365738901091, nll_loss: 0.09517044721194255\n",
      "INFO:torchnlp.common.train:Train Loss: -0.02864\n",
      "INFO:torchnlp.common.train:Validation metrics:             \n",
      "INFO:torchnlp.common.train:loss=0.23708, acc=0.94037, acc-seq=0.37177, precision=0.88129, recall=0.90575, F1=0.89335\n",
      "INFO:torchnlp.common.model:-------------- Saved checkpoint 2835 --------------\n",
      "  0%|          | 0/81 [00:00<?, ?it/s]INFO:torchnlp.common.train:Epoch 36 (2835)\n",
      "Training:  20%|█▉        | 16/81 [00:00<00:00, 153.85it/s, loss=-.0329]"
     ]
    },
    {
     "name": "stdout",
     "output_type": "stream",
     "text": [
      "kl_loss_final: 0.2986223640896025, pre_loss : 0.2370785829566774\n"
     ]
    },
    {
     "name": "stderr",
     "output_type": "stream",
     "text": [
      "INFO:torchnlp.common.train:total_loss: -0.0285853370104307, kl_loss: 0.12357602535206595, nll_loss: 0.09499068834163525\n",
      "INFO:torchnlp.common.train:Train Loss: -0.02859\n",
      "INFO:torchnlp.common.train:Validation metrics:             \n",
      "INFO:torchnlp.common.train:loss=0.22981, acc=0.93994, acc-seq=0.36332, precision=0.88327, recall=0.90353, F1=0.89329\n",
      "INFO:torchnlp.common.model:-------------- Saved checkpoint 2916 --------------\n",
      "  0%|          | 0/81 [00:00<?, ?it/s]INFO:torchnlp.common.train:Epoch 37 (2916)\n",
      "Training:  19%|█▊        | 15/81 [00:00<00:00, 149.75it/s, loss=-.033] "
     ]
    },
    {
     "name": "stdout",
     "output_type": "stream",
     "text": [
      "kl_loss_final: 0.2971686614411218, pre_loss : 0.2298066353514081\n"
     ]
    },
    {
     "name": "stderr",
     "output_type": "stream",
     "text": [
      "INFO:torchnlp.common.train:total_loss: -0.03011233212403309, kl_loss: 0.12378295943324949, nll_loss: 0.0936706273092164\n",
      "INFO:torchnlp.common.train:Train Loss: -0.03011\n",
      "INFO:torchnlp.common.train:Validation metrics:             \n",
      "INFO:torchnlp.common.train:loss=0.22334, acc=0.94101, acc-seq=0.37575, precision=0.87864, recall=0.90605, F1=0.89213\n",
      "INFO:torchnlp.common.model:-------------- Saved checkpoint 2997 --------------\n",
      "  0%|          | 0/81 [00:00<?, ?it/s]INFO:torchnlp.common.train:Epoch 38 (2997)\n",
      "Training:  19%|█▊        | 15/81 [00:00<00:00, 148.91it/s, loss=-.0319]"
     ]
    },
    {
     "name": "stdout",
     "output_type": "stream",
     "text": [
      "kl_loss_final: 0.2990173928084828, pre_loss : 0.22334424370811098\n"
     ]
    },
    {
     "name": "stderr",
     "output_type": "stream",
     "text": [
      "INFO:torchnlp.common.train:total_loss: -0.030040738667234963, kl_loss: 0.1237045161334085, nll_loss: 0.09366377746617352\n",
      "INFO:torchnlp.common.train:Train Loss: -0.03004\n",
      "INFO:torchnlp.common.train:Validation metrics:             \n",
      "INFO:torchnlp.common.train:loss=0.23036, acc=0.94084, acc-seq=0.37326, precision=0.87715, recall=0.90466, F1=0.89070\n",
      "INFO:torchnlp.common.model:-------------- Saved checkpoint 3078 --------------\n",
      "  0%|          | 0/81 [00:00<?, ?it/s]INFO:torchnlp.common.train:Epoch 39 (3078)\n",
      "Training:  19%|█▊        | 15/81 [00:00<00:00, 146.20it/s, loss=-.0341]"
     ]
    },
    {
     "name": "stdout",
     "output_type": "stream",
     "text": [
      "kl_loss_final: 0.2988473457239923, pre_loss : 0.23035721303451628\n"
     ]
    },
    {
     "name": "stderr",
     "output_type": "stream",
     "text": [
      "INFO:torchnlp.common.train:total_loss: -0.03053644750221276, kl_loss: 0.12380662578859447, nll_loss: 0.0932701782863817\n",
      "INFO:torchnlp.common.train:Train Loss: -0.03054\n",
      "INFO:torchnlp.common.train:Validation metrics:             \n",
      "INFO:torchnlp.common.train:loss=0.22786, acc=0.94099, acc-seq=0.37575, precision=0.87888, recall=0.90659, F1=0.89252\n",
      "INFO:torchnlp.common.model:-------------- Saved checkpoint 3159 --------------\n",
      "  0%|          | 0/81 [00:00<?, ?it/s]INFO:torchnlp.common.train:Epoch 40 (3159)\n",
      "Training:  19%|█▊        | 15/81 [00:00<00:00, 140.65it/s, loss=-.0327]"
     ]
    },
    {
     "name": "stdout",
     "output_type": "stream",
     "text": [
      "kl_loss_final: 0.2978244281950451, pre_loss : 0.2278591894677707\n"
     ]
    },
    {
     "name": "stderr",
     "output_type": "stream",
     "text": [
      "INFO:torchnlp.common.train:total_loss: -0.030764497448632747, kl_loss: 0.12379935365400196, nll_loss: 0.09303485620536922\n",
      "INFO:torchnlp.common.train:Train Loss: -0.03076\n",
      "INFO:torchnlp.common.train:Validation metrics:             \n",
      "INFO:torchnlp.common.train:loss=0.23008, acc=0.94015, acc-seq=0.36183, precision=0.88055, recall=0.90458, F1=0.89240\n",
      "INFO:torchnlp.common.train:Early stopping at iteration 2835, epoch 34, F1=0.89335\n",
      "  5%|▍         | 4/81 [00:00<00:01, 38.98it/s]"
     ]
    },
    {
     "name": "stdout",
     "output_type": "stream",
     "text": [
      "kl_loss_final: 0.2981360114756085, pre_loss : 0.2300791350148973\n"
     ]
    },
    {
     "name": "stderr",
     "output_type": "stream",
     "text": [
      "INFO:torchnlp.common.train:prediction, and attns for best epoch obtained, release hook\n",
      "INFO:torchnlp.common.train:prediction, and attns for best epoch obtained, release hook\n"
     ]
    },
    {
     "name": "stdout",
     "output_type": "stream",
     "text": [
      "SAVING PREDICTIONS AND ATTENTIONS\n",
      "done /home/zijiao/research/atal/saved_True_/11:27:00.084027/tr_pr_best\n",
      "done /home/zijiao/research/atal/saved_True_/11:27:00.084027/te_pr_best\n",
      "done /home/zijiao/research/atal/saved_True_/11:27:00.084027/tr_attn_best\n",
      "done /home/zijiao/research/atal/saved_True_/11:27:00.084027/te_attn_best\n",
      "LOOK HERE 0.2300791350148973 0.2981360114756085\n"
     ]
    },
    {
     "name": "stderr",
     "output_type": "stream",
     "text": [
      "INFO:torchnlp.data.conll:---------- CONLL 2000 Chunking ---------\n",
      "INFO:torchnlp.data.conll:Train size: 8042\n",
      "INFO:torchnlp.data.conll:Validation size: 894\n",
      "INFO:torchnlp.data.conll:Test size: 2012\n",
      "INFO:torchtext.vocab:Loading vectors from .vector_cache/glove.6B.200d.txt.pt\n",
      "INFO:torchtext.vocab:Loading vectors from .vector_cache/charNgram.txt.pt\n",
      "INFO:torchnlp.data.conll:Input vocab size:19032\n",
      "INFO:torchnlp.data.conll:Tagset size: 25\n",
      "INFO:torchnlp.common.model:\n",
      "Hyperparameters:\n",
      " batch_size=100\n",
      " embedding_size_word=300\n",
      " embedding_size_char=0\n",
      " embedding_size_char_per_word=100\n",
      " embedding_size_tags=100\n",
      " hidden_size=128\n",
      " learning_rate=0.2\n",
      " learning_rate_decay=noam_step\n",
      " max_length=256\n",
      " num_hidden_layers=1\n",
      " dropout=0.2\n",
      " optimizer_adam_beta1=0.9\n",
      " optimizer_adam_beta2=0.98\n",
      " use_crf=False\n",
      " num_heads=4\n",
      " attention_key_channels=0\n",
      " attention_value_channels=0\n",
      " filter_size=128\n",
      " filter_size_char=64\n",
      " input_dropout=0.2\n",
      " attention_dropout=0.2\n",
      " relu_dropout=0.2\n",
      " learning_rate_warmup_steps=500\n",
      " attn_path=./saved\n",
      " adversarial=True\n",
      " lmbda=1.0999999999999999\n",
      " froze=False\n",
      " froze_path=./froze\n",
      "INFO:torchnlp.common.train:Parameters: 140953(trainable), 5709601(non-trainable)\n",
      "INFO:torchnlp.common.train:Early stopping for highest value of validation F1 after 5 epochs\n",
      "  0%|          | 0/81 [00:00<?, ?it/s]INFO:torchnlp.common.train:Epoch 1 (0)\n",
      "INFO:torchnlp.common.train:total_loss: 1.41295290545181, kl_loss: 0.03763307687355044, nll_loss: 1.4543492882340043\n",
      "INFO:torchnlp.common.train:Train Loss: 1.41295\n",
      "INFO:torchnlp.common.train:Validation metrics:             \n",
      "INFO:torchnlp.common.train:loss=1.05914, acc=0.66219, acc-seq=0.00199, precision=0.46665, recall=0.44638, F1=0.45629\n",
      "INFO:torchnlp.common.model:-------------- Saved checkpoint 81 --------------\n",
      "  0%|          | 0/81 [00:00<?, ?it/s]INFO:torchnlp.common.train:Epoch 2 (81)\n",
      "Training:  19%|█▊        | 15/81 [00:00<00:00, 140.98it/s, loss=0.405]"
     ]
    },
    {
     "name": "stdout",
     "output_type": "stream",
     "text": [
      "kl_loss_final: 0.15287954715036212, pre_loss : 1.059137611162095\n"
     ]
    },
    {
     "name": "stderr",
     "output_type": "stream",
     "text": [
      "INFO:torchnlp.common.train:total_loss: 0.31773292153705784, kl_loss: 0.06562802361117469, nll_loss: 0.3899237482268133\n",
      "INFO:torchnlp.common.train:Train Loss: 0.31773\n",
      "INFO:torchnlp.common.train:Validation metrics:             \n",
      "INFO:torchnlp.common.train:loss=0.67948, acc=0.75383, acc-seq=0.01342, precision=0.61429, recall=0.62905, F1=0.62158\n",
      "INFO:torchnlp.common.model:-------------- Saved checkpoint 162 --------------\n",
      "  0%|          | 0/81 [00:00<?, ?it/s]INFO:torchnlp.common.train:Epoch 3 (162)\n",
      "Training:  16%|█▌        | 13/81 [00:00<00:00, 127.68it/s, loss=0.215]"
     ]
    },
    {
     "name": "stdout",
     "output_type": "stream",
     "text": [
      "kl_loss_final: 0.1876880888428007, pre_loss : 0.679481619880313\n"
     ]
    },
    {
     "name": "stderr",
     "output_type": "stream",
     "text": [
      "INFO:torchnlp.common.train:total_loss: 0.19315612628872011, kl_loss: 0.08072862994891626, nll_loss: 0.28195762119175477\n",
      "INFO:torchnlp.common.train:Train Loss: 0.19316\n",
      "INFO:torchnlp.common.train:Validation metrics:             \n",
      "INFO:torchnlp.common.train:loss=0.47034, acc=0.82356, acc-seq=0.04622, precision=0.72029, recall=0.73306, F1=0.72662\n",
      "INFO:torchnlp.common.model:-------------- Saved checkpoint 243 --------------\n",
      "  0%|          | 0/81 [00:00<?, ?it/s]INFO:torchnlp.common.train:Epoch 4 (243)\n",
      "Training:  16%|█▌        | 13/81 [00:00<00:00, 123.47it/s, loss=0.139]"
     ]
    },
    {
     "name": "stdout",
     "output_type": "stream",
     "text": [
      "kl_loss_final: 0.2112965959878195, pre_loss : 0.4703447435583387\n"
     ]
    },
    {
     "name": "stderr",
     "output_type": "stream",
     "text": [
      "INFO:torchnlp.common.train:total_loss: 0.11648528047917801, kl_loss: 0.08814750639376817, nll_loss: 0.21344753934277427\n",
      "INFO:torchnlp.common.train:Train Loss: 0.11649\n",
      "INFO:torchnlp.common.train:Validation metrics:             \n",
      "INFO:torchnlp.common.train:loss=0.34637, acc=0.88350, acc-seq=0.13867, precision=0.76574, recall=0.79608, F1=0.78061\n",
      "INFO:torchnlp.common.model:-------------- Saved checkpoint 324 --------------\n",
      "  0%|          | 0/81 [00:00<?, ?it/s]INFO:torchnlp.common.train:Epoch 5 (324)\n",
      "Training:  19%|█▊        | 15/81 [00:00<00:00, 141.60it/s, loss=0.0838]"
     ]
    },
    {
     "name": "stdout",
     "output_type": "stream",
     "text": [
      "kl_loss_final: 0.23166374684799285, pre_loss : 0.3463709517603829\n"
     ]
    },
    {
     "name": "stderr",
     "output_type": "stream",
     "text": [
      "INFO:torchnlp.common.train:total_loss: 0.07377257823576162, kl_loss: 0.0932578342380347, nll_loss: 0.17635619787522305\n",
      "INFO:torchnlp.common.train:Train Loss: 0.07377\n",
      "INFO:torchnlp.common.train:Validation metrics:             \n",
      "INFO:torchnlp.common.train:loss=0.30790, acc=0.90103, acc-seq=0.19483, precision=0.78959, recall=0.82962, F1=0.80911\n",
      "INFO:torchnlp.common.model:-------------- Saved checkpoint 405 --------------\n",
      "  0%|          | 0/81 [00:00<?, ?it/s]INFO:torchnlp.common.train:Epoch 6 (405)\n",
      "Training:  19%|█▊        | 15/81 [00:00<00:00, 143.60it/s, loss=0.0576]"
     ]
    },
    {
     "name": "stdout",
     "output_type": "stream",
     "text": [
      "kl_loss_final: 0.24075298791839964, pre_loss : 0.3079031053043547\n"
     ]
    },
    {
     "name": "stderr",
     "output_type": "stream",
     "text": [
      "INFO:torchnlp.common.train:total_loss: 0.048203040972168064, kl_loss: 0.10473473756401627, nll_loss: 0.1634112544081829\n",
      "INFO:torchnlp.common.train:Train Loss: 0.04820\n",
      "INFO:torchnlp.common.train:Validation metrics:             \n",
      "INFO:torchnlp.common.train:loss=0.28948, acc=0.90908, acc-seq=0.21421, precision=0.82349, recall=0.84735, F1=0.83525\n",
      "INFO:torchnlp.common.model:-------------- Saved checkpoint 486 --------------\n",
      "  0%|          | 0/81 [00:00<?, ?it/s]INFO:torchnlp.common.train:Epoch 7 (486)\n",
      "Training:  17%|█▋        | 14/81 [00:00<00:00, 132.92it/s, loss=0.0272]"
     ]
    },
    {
     "name": "stdout",
     "output_type": "stream",
     "text": [
      "kl_loss_final: 0.2680520372731345, pre_loss : 0.28948368983609335\n"
     ]
    },
    {
     "name": "stderr",
     "output_type": "stream",
     "text": [
      "INFO:torchnlp.common.train:total_loss: 0.02398065909927274, kl_loss: 0.11753734799078953, nll_loss: 0.15327174455663303\n",
      "INFO:torchnlp.common.train:Train Loss: 0.02398\n",
      "INFO:torchnlp.common.train:Validation metrics:             \n",
      "INFO:torchnlp.common.train:loss=0.28458, acc=0.90916, acc-seq=0.21024, precision=0.81462, recall=0.85339, F1=0.83356\n",
      "INFO:torchnlp.common.model:-------------- Saved checkpoint 567 --------------\n",
      "  0%|          | 0/81 [00:00<?, ?it/s]INFO:torchnlp.common.train:Epoch 8 (567)\n",
      "Training:  19%|█▊        | 15/81 [00:00<00:00, 143.44it/s, loss=0.0106] "
     ]
    },
    {
     "name": "stdout",
     "output_type": "stream",
     "text": [
      "kl_loss_final: 0.28415234315963017, pre_loss : 0.28458379705746967\n"
     ]
    },
    {
     "name": "stderr",
     "output_type": "stream",
     "text": [
      "INFO:torchnlp.common.train:total_loss: 0.013306733910684232, kl_loss: 0.12030400758908119, nll_loss: 0.14564114551485322\n",
      "INFO:torchnlp.common.train:Train Loss: 0.01331\n",
      "INFO:torchnlp.common.train:Validation metrics:             \n",
      "INFO:torchnlp.common.train:loss=0.28004, acc=0.91233, acc-seq=0.21918, precision=0.83117, recall=0.85284, F1=0.84187\n",
      "INFO:torchnlp.common.model:-------------- Saved checkpoint 648 --------------\n",
      "  0%|          | 0/81 [00:00<?, ?it/s]INFO:torchnlp.common.train:Epoch 9 (648)\n",
      "Training:  19%|█▊        | 15/81 [00:00<00:00, 147.80it/s, loss=0.00707]"
     ]
    },
    {
     "name": "stdout",
     "output_type": "stream",
     "text": [
      "kl_loss_final: 0.28972427334104267, pre_loss : 0.2800378991024835\n"
     ]
    },
    {
     "name": "stderr",
     "output_type": "stream",
     "text": [
      "INFO:torchnlp.common.train:total_loss: 0.005916879040959441, kl_loss: 0.12195647931025352, nll_loss: 0.14006900943723727\n",
      "INFO:torchnlp.common.train:Train Loss: 0.00592\n",
      "INFO:torchnlp.common.train:Validation metrics:             \n",
      "INFO:torchnlp.common.train:loss=0.27671, acc=0.91543, acc-seq=0.23757, precision=0.82759, recall=0.86697, F1=0.84682\n",
      "INFO:torchnlp.common.model:-------------- Saved checkpoint 729 --------------\n",
      "  0%|          | 0/81 [00:00<?, ?it/s]INFO:torchnlp.common.train:Epoch 10 (729)\n",
      "Training:  20%|█▉        | 16/81 [00:00<00:00, 153.81it/s, loss=0.00189] "
     ]
    },
    {
     "name": "stdout",
     "output_type": "stream",
     "text": [
      "kl_loss_final: 0.29494080373219084, pre_loss : 0.2767128277392614\n"
     ]
    },
    {
     "name": "stderr",
     "output_type": "stream",
     "text": [
      "INFO:torchnlp.common.train:total_loss: -0.0005164396615675938, kl_loss: 0.12294139050775105, nll_loss: 0.13471909272082058\n",
      "INFO:torchnlp.common.train:Train Loss: -0.00052\n",
      "INFO:torchnlp.common.train:Validation metrics:             \n",
      "INFO:torchnlp.common.train:loss=0.26158, acc=0.91844, acc-seq=0.24155, precision=0.83882, recall=0.87016, F1=0.85420\n",
      "INFO:torchnlp.common.model:-------------- Saved checkpoint 810 --------------\n",
      "  0%|          | 0/81 [00:00<?, ?it/s]INFO:torchnlp.common.train:Epoch 11 (810)\n",
      "Training:  19%|█▊        | 15/81 [00:00<00:00, 146.73it/s, loss=-.00518]"
     ]
    },
    {
     "name": "stdout",
     "output_type": "stream",
     "text": [
      "kl_loss_final: 0.29680572840429487, pre_loss : 0.2615752184674853\n"
     ]
    },
    {
     "name": "stderr",
     "output_type": "stream",
     "text": [
      "INFO:torchnlp.common.train:total_loss: -0.0042208560087062695, kl_loss: 0.12386114177880464, nll_loss: 0.1320264035904849\n",
      "INFO:torchnlp.common.train:Train Loss: -0.00422\n",
      "INFO:torchnlp.common.train:Validation metrics:             \n",
      "INFO:torchnlp.common.train:loss=0.26295, acc=0.91906, acc-seq=0.24851, precision=0.84195, recall=0.87326, F1=0.85732\n",
      "INFO:torchnlp.common.model:-------------- Saved checkpoint 891 --------------\n",
      "  0%|          | 0/81 [00:00<?, ?it/s]INFO:torchnlp.common.train:Epoch 12 (891)\n",
      "Training:  19%|█▊        | 15/81 [00:00<00:00, 148.60it/s, loss=-.00657]"
     ]
    },
    {
     "name": "stdout",
     "output_type": "stream",
     "text": [
      "kl_loss_final: 0.3011408139552389, pre_loss : 0.26294975976149243\n"
     ]
    },
    {
     "name": "stderr",
     "output_type": "stream",
     "text": [
      "INFO:torchnlp.common.train:total_loss: -0.008328317952008895, kl_loss: 0.12434556969889889, nll_loss: 0.12845181259844038\n",
      "INFO:torchnlp.common.train:Train Loss: -0.00833\n",
      "INFO:torchnlp.common.train:Validation metrics:             \n",
      "INFO:torchnlp.common.train:loss=0.26681, acc=0.92132, acc-seq=0.26839, precision=0.83120, recall=0.87800, F1=0.85396\n",
      "INFO:torchnlp.common.model:-------------- Saved checkpoint 972 --------------\n",
      "  0%|          | 0/81 [00:00<?, ?it/s]INFO:torchnlp.common.train:Epoch 13 (972)\n",
      "Training:  17%|█▋        | 14/81 [00:00<00:00, 134.68it/s, loss=-.0133]"
     ]
    },
    {
     "name": "stdout",
     "output_type": "stream",
     "text": [
      "kl_loss_final: 0.30225608426900136, pre_loss : 0.26680617318266914\n"
     ]
    },
    {
     "name": "stderr",
     "output_type": "stream",
     "text": [
      "INFO:torchnlp.common.train:total_loss: -0.011960500184400582, kl_loss: 0.12480093446778662, nll_loss: 0.1253205308759654\n",
      "INFO:torchnlp.common.train:Train Loss: -0.01196\n",
      "INFO:torchnlp.common.train:Validation metrics:             \n",
      "INFO:torchnlp.common.train:loss=0.26459, acc=0.92154, acc-seq=0.27386, precision=0.84136, recall=0.87653, F1=0.85859\n",
      "INFO:torchnlp.common.model:-------------- Saved checkpoint 1053 --------------\n",
      "  0%|          | 0/81 [00:00<?, ?it/s]INFO:torchnlp.common.train:Epoch 14 (1053)\n",
      "Training:  19%|█▊        | 15/81 [00:00<00:00, 144.13it/s, loss=-.0161]"
     ]
    },
    {
     "name": "stdout",
     "output_type": "stream",
     "text": [
      "kl_loss_final: 0.3036680288967632, pre_loss : 0.2645860491763978\n"
     ]
    },
    {
     "name": "stderr",
     "output_type": "stream",
     "text": [
      "INFO:torchnlp.common.train:total_loss: -0.015243626763055355, kl_loss: 0.12535342978842465, nll_loss: 0.12264514944435638\n",
      "INFO:torchnlp.common.train:Train Loss: -0.01524\n",
      "INFO:torchnlp.common.train:Validation metrics:             \n",
      "INFO:torchnlp.common.train:loss=0.25724, acc=0.92432, acc-seq=0.28429, precision=0.84569, recall=0.87884, F1=0.86194\n",
      "INFO:torchnlp.common.model:-------------- Saved checkpoint 1134 --------------\n",
      "  0%|          | 0/81 [00:00<?, ?it/s]INFO:torchnlp.common.train:Epoch 15 (1134)\n",
      "Training:  19%|█▊        | 15/81 [00:00<00:00, 143.22it/s, loss=-.0155]"
     ]
    },
    {
     "name": "stdout",
     "output_type": "stream",
     "text": [
      "kl_loss_final: 0.3052848063054539, pre_loss : 0.25724272358985173\n"
     ]
    },
    {
     "name": "stderr",
     "output_type": "stream",
     "text": [
      "INFO:torchnlp.common.train:total_loss: -0.015915556454364165, kl_loss: 0.12557425589105228, nll_loss: 0.12221612772087992\n",
      "INFO:torchnlp.common.train:Train Loss: -0.01592\n",
      "INFO:torchnlp.common.train:Validation metrics:             \n",
      "INFO:torchnlp.common.train:loss=0.25447, acc=0.92379, acc-seq=0.28479, precision=0.83850, recall=0.87875, F1=0.85815\n",
      "INFO:torchnlp.common.model:-------------- Saved checkpoint 1215 --------------\n",
      "  0%|          | 0/81 [00:00<?, ?it/s]INFO:torchnlp.common.train:Epoch 16 (1215)\n",
      "Training:  19%|█▊        | 15/81 [00:00<00:00, 144.76it/s, loss=-.0191]"
     ]
    },
    {
     "name": "stdout",
     "output_type": "stream",
     "text": [
      "kl_loss_final: 0.306626864132427, pre_loss : 0.2544684012730916\n"
     ]
    },
    {
     "name": "stderr",
     "output_type": "stream",
     "text": [
      "INFO:torchnlp.common.train:total_loss: -0.018595281022566336, kl_loss: 0.12596206744143992, nll_loss: 0.11996299699868684\n",
      "INFO:torchnlp.common.train:Train Loss: -0.01860\n",
      "INFO:torchnlp.common.train:Validation metrics:             \n",
      "INFO:torchnlp.common.train:loss=0.25627, acc=0.92477, acc-seq=0.28479, precision=0.84210, recall=0.88232, F1=0.86174\n",
      "INFO:torchnlp.common.model:-------------- Saved checkpoint 1296 --------------\n",
      "  0%|          | 0/81 [00:00<?, ?it/s]INFO:torchnlp.common.train:Epoch 17 (1296)\n",
      "Training:  19%|█▊        | 15/81 [00:00<00:00, 142.69it/s, loss=-.0206]"
     ]
    },
    {
     "name": "stdout",
     "output_type": "stream",
     "text": [
      "kl_loss_final: 0.3071320496854328, pre_loss : 0.25626571476459503\n"
     ]
    },
    {
     "name": "stderr",
     "output_type": "stream",
     "text": [
      "INFO:torchnlp.common.train:total_loss: -0.020671173010343387, kl_loss: 0.12629245276804324, nll_loss: 0.11825052860342426\n",
      "INFO:torchnlp.common.train:Train Loss: -0.02067\n",
      "INFO:torchnlp.common.train:Validation metrics:             \n",
      "INFO:torchnlp.common.train:loss=0.25650, acc=0.92597, acc-seq=0.28082, precision=0.85268, recall=0.88206, F1=0.86712\n",
      "INFO:torchnlp.common.model:-------------- Saved checkpoint 1377 --------------\n",
      "  0%|          | 0/81 [00:00<?, ?it/s]INFO:torchnlp.common.train:Epoch 18 (1377)\n",
      "Training:  19%|█▊        | 15/81 [00:00<00:00, 144.75it/s, loss=-.0229]"
     ]
    },
    {
     "name": "stdout",
     "output_type": "stream",
     "text": [
      "kl_loss_final: 0.30877372480574106, pre_loss : 0.25650147242205484\n"
     ]
    },
    {
     "name": "stderr",
     "output_type": "stream",
     "text": [
      "INFO:torchnlp.common.train:total_loss: -0.021122302997995307, kl_loss: 0.12648076665254288, nll_loss: 0.11800654333682707\n",
      "INFO:torchnlp.common.train:Train Loss: -0.02112\n",
      "INFO:torchnlp.common.train:Validation metrics:             \n",
      "INFO:torchnlp.common.train:loss=0.25352, acc=0.92694, acc-seq=0.29374, precision=0.84904, recall=0.88563, F1=0.86695\n",
      "INFO:torchnlp.common.model:-------------- Saved checkpoint 1458 --------------\n",
      "  0%|          | 0/81 [00:00<?, ?it/s]INFO:torchnlp.common.train:Epoch 19 (1458)\n",
      "Training:  19%|█▊        | 15/81 [00:00<00:00, 146.33it/s, loss=-.0247]"
     ]
    },
    {
     "name": "stdout",
     "output_type": "stream",
     "text": [
      "kl_loss_final: 0.30911955876009806, pre_loss : 0.25351587931315106\n"
     ]
    },
    {
     "name": "stderr",
     "output_type": "stream",
     "text": [
      "INFO:torchnlp.common.train:total_loss: -0.02259270405327832, kl_loss: 0.12654179297847512, nll_loss: 0.11660327100091511\n",
      "INFO:torchnlp.common.train:Train Loss: -0.02259\n",
      "INFO:torchnlp.common.train:Validation metrics:             \n",
      "INFO:torchnlp.common.train:loss=0.25255, acc=0.92527, acc-seq=0.28926, precision=0.84239, recall=0.88219, F1=0.86183\n",
      "INFO:torchnlp.common.model:-------------- Saved checkpoint 1539 --------------\n",
      "  0%|          | 0/81 [00:00<?, ?it/s]INFO:torchnlp.common.train:Epoch 20 (1539)\n",
      "Training:  19%|█▊        | 15/81 [00:00<00:00, 145.34it/s, loss=-.022] "
     ]
    },
    {
     "name": "stdout",
     "output_type": "stream",
     "text": [
      "kl_loss_final: 0.3089923961531548, pre_loss : 0.2525491693190166\n"
     ]
    },
    {
     "name": "stderr",
     "output_type": "stream",
     "text": [
      "INFO:torchnlp.common.train:total_loss: -0.02351116379837931, kl_loss: 0.12674072835548425, nll_loss: 0.11590364069482427\n",
      "INFO:torchnlp.common.train:Train Loss: -0.02351\n",
      "INFO:torchnlp.common.train:Validation metrics:             \n",
      "INFO:torchnlp.common.train:loss=0.25249, acc=0.92704, acc-seq=0.29374, precision=0.84129, recall=0.88563, F1=0.86289\n",
      "INFO:torchnlp.common.model:-------------- Saved checkpoint 1620 --------------\n",
      "  0%|          | 0/81 [00:00<?, ?it/s]INFO:torchnlp.common.train:Epoch 21 (1620)\n",
      "Training:  19%|█▊        | 15/81 [00:00<00:00, 149.46it/s, loss=-.0257]"
     ]
    },
    {
     "name": "stdout",
     "output_type": "stream",
     "text": [
      "kl_loss_final: 0.3102623022028378, pre_loss : 0.2524902621905009\n"
     ]
    },
    {
     "name": "stderr",
     "output_type": "stream",
     "text": [
      "INFO:torchnlp.common.train:total_loss: -0.024354318685737657, kl_loss: 0.12669315354691613, nll_loss: 0.11500815394116037\n",
      "INFO:torchnlp.common.train:Train Loss: -0.02435\n",
      "INFO:torchnlp.common.train:Validation metrics:             \n",
      "INFO:torchnlp.common.train:loss=0.25617, acc=0.92733, acc-seq=0.30517, precision=0.84358, recall=0.88563, F1=0.86409\n",
      "INFO:torchnlp.common.model:-------------- Saved checkpoint 1701 --------------\n",
      "  0%|          | 0/81 [00:00<?, ?it/s]INFO:torchnlp.common.train:Epoch 22 (1701)\n",
      "Training:  17%|█▋        | 14/81 [00:00<00:00, 139.96it/s, loss=-.0257]"
     ]
    },
    {
     "name": "stdout",
     "output_type": "stream",
     "text": [
      "kl_loss_final: 0.31038139157351996, pre_loss : 0.25616689239229473\n"
     ]
    },
    {
     "name": "stderr",
     "output_type": "stream",
     "text": [
      "INFO:torchnlp.common.train:total_loss: -0.025534289486614275, kl_loss: 0.12678532891067457, nll_loss: 0.1139295748722406\n",
      "INFO:torchnlp.common.train:Train Loss: -0.02553\n",
      "INFO:torchnlp.common.train:Validation metrics:             \n",
      "INFO:torchnlp.common.train:loss=0.24734, acc=0.92761, acc-seq=0.30169, precision=0.84276, recall=0.88374, F1=0.86276\n",
      "INFO:torchnlp.common.train:Early stopping at iteration 1377, epoch 16, F1=0.86712\n",
      "  6%|▌         | 5/81 [00:00<00:01, 40.29it/s]"
     ]
    },
    {
     "name": "stdout",
     "output_type": "stream",
     "text": [
      "kl_loss_final: 0.3108457862621262, pre_loss : 0.2473391198686191\n"
     ]
    },
    {
     "name": "stderr",
     "output_type": "stream",
     "text": [
      "INFO:torchnlp.common.train:prediction, and attns for best epoch obtained, release hook\n",
      "INFO:torchnlp.common.train:prediction, and attns for best epoch obtained, release hook\n"
     ]
    },
    {
     "name": "stdout",
     "output_type": "stream",
     "text": [
      "SAVING PREDICTIONS AND ATTENTIONS\n",
      "done /home/zijiao/research/atal/saved_True_/11:27:51.326174/tr_pr_best\n",
      "done /home/zijiao/research/atal/saved_True_/11:27:51.326174/te_pr_best\n",
      "done /home/zijiao/research/atal/saved_True_/11:27:51.326174/tr_attn_best\n",
      "done /home/zijiao/research/atal/saved_True_/11:27:51.326174/te_attn_best\n",
      "LOOK HERE 0.2473391198686191 0.3108457862621262\n"
     ]
    },
    {
     "name": "stderr",
     "output_type": "stream",
     "text": [
      "INFO:torchnlp.data.conll:---------- CONLL 2000 Chunking ---------\n",
      "INFO:torchnlp.data.conll:Train size: 8042\n",
      "INFO:torchnlp.data.conll:Validation size: 894\n",
      "INFO:torchnlp.data.conll:Test size: 2012\n",
      "INFO:torchtext.vocab:Loading vectors from .vector_cache/glove.6B.200d.txt.pt\n",
      "INFO:torchtext.vocab:Loading vectors from .vector_cache/charNgram.txt.pt\n",
      "INFO:torchnlp.data.conll:Input vocab size:19032\n",
      "INFO:torchnlp.data.conll:Tagset size: 25\n",
      "INFO:torchnlp.common.model:\n",
      "Hyperparameters:\n",
      " batch_size=100\n",
      " embedding_size_word=300\n",
      " embedding_size_char=0\n",
      " embedding_size_char_per_word=100\n",
      " embedding_size_tags=100\n",
      " hidden_size=128\n",
      " learning_rate=0.2\n",
      " learning_rate_decay=noam_step\n",
      " max_length=256\n",
      " num_hidden_layers=1\n",
      " dropout=0.2\n",
      " optimizer_adam_beta1=0.9\n",
      " optimizer_adam_beta2=0.98\n",
      " use_crf=False\n",
      " num_heads=4\n",
      " attention_key_channels=0\n",
      " attention_value_channels=0\n",
      " filter_size=128\n",
      " filter_size_char=64\n",
      " input_dropout=0.2\n",
      " attention_dropout=0.2\n",
      " relu_dropout=0.2\n",
      " learning_rate_warmup_steps=500\n",
      " attn_path=./saved\n",
      " adversarial=True\n",
      " lmbda=1.1999999999999997\n",
      " froze=False\n",
      " froze_path=./froze\n",
      "INFO:torchnlp.common.train:Parameters: 140953(trainable), 5709601(non-trainable)\n",
      "INFO:torchnlp.common.train:Early stopping for highest value of validation F1 after 5 epochs\n",
      "  0%|          | 0/81 [00:00<?, ?it/s]INFO:torchnlp.common.train:Epoch 1 (0)\n",
      "INFO:torchnlp.common.train:total_loss: 1.5141977329313019, kl_loss: 0.051537149160364525, nll_loss: 1.5760423180497722\n",
      "INFO:torchnlp.common.train:Train Loss: 1.51420\n",
      "INFO:torchnlp.common.train:Validation metrics:             \n",
      "INFO:torchnlp.common.train:loss=1.03973, acc=0.64766, acc-seq=0.00050, precision=0.42980, recall=0.46319, F1=0.44587\n",
      "INFO:torchnlp.common.model:-------------- Saved checkpoint 81 --------------\n",
      "  0%|          | 0/81 [00:00<?, ?it/s]INFO:torchnlp.common.train:Epoch 2 (81)\n",
      "Training:  16%|█▌        | 13/81 [00:00<00:00, 124.90it/s, loss=0.399]"
     ]
    },
    {
     "name": "stdout",
     "output_type": "stream",
     "text": [
      "kl_loss_final: 0.1812299434982595, pre_loss : 1.0397343720708574\n"
     ]
    },
    {
     "name": "stderr",
     "output_type": "stream",
     "text": [
      "INFO:torchnlp.common.train:total_loss: 0.3124466494277672, kl_loss: 0.08243037185367243, nll_loss: 0.4113631001961084\n",
      "INFO:torchnlp.common.train:Train Loss: 0.31245\n",
      "INFO:torchnlp.common.train:Validation metrics:             \n",
      "INFO:torchnlp.common.train:loss=0.64171, acc=0.75887, acc-seq=0.01640, precision=0.59950, recall=0.66347, F1=0.62986\n",
      "INFO:torchnlp.common.model:-------------- Saved checkpoint 162 --------------\n",
      "  0%|          | 0/81 [00:00<?, ?it/s]INFO:torchnlp.common.train:Epoch 3 (162)\n",
      "Training:  19%|█▊        | 15/81 [00:00<00:00, 141.55it/s, loss=0.195]"
     ]
    },
    {
     "name": "stdout",
     "output_type": "stream",
     "text": [
      "kl_loss_final: 0.20863224459545954, pre_loss : 0.641710204737527\n"
     ]
    },
    {
     "name": "stderr",
     "output_type": "stream",
     "text": [
      "INFO:torchnlp.common.train:total_loss: 0.18073487714116956, kl_loss: 0.09413475331700878, nll_loss: 0.29369658746837096\n",
      "INFO:torchnlp.common.train:Train Loss: 0.18073\n",
      "INFO:torchnlp.common.train:Validation metrics:             \n",
      "INFO:torchnlp.common.train:loss=0.58288, acc=0.77955, acc-seq=0.01839, precision=0.66487, recall=0.68372, F1=0.67416\n",
      "INFO:torchnlp.common.model:-------------- Saved checkpoint 243 --------------\n",
      "  0%|          | 0/81 [00:00<?, ?it/s]INFO:torchnlp.common.train:Epoch 4 (243)\n",
      "Training:  19%|█▊        | 15/81 [00:00<00:00, 143.83it/s, loss=0.153]"
     ]
    },
    {
     "name": "stdout",
     "output_type": "stream",
     "text": [
      "kl_loss_final: 0.2283255397563889, pre_loss : 0.5828796795436314\n"
     ]
    },
    {
     "name": "stderr",
     "output_type": "stream",
     "text": [
      "INFO:torchnlp.common.train:total_loss: 0.1416194483085915, kl_loss: 0.10058006478680505, nll_loss: 0.26231553138774116\n",
      "INFO:torchnlp.common.train:Train Loss: 0.14162\n",
      "INFO:torchnlp.common.train:Validation metrics:             \n",
      "INFO:torchnlp.common.train:loss=0.51507, acc=0.80101, acc-seq=0.04026, precision=0.64789, recall=0.72422, F1=0.68393\n",
      "INFO:torchnlp.common.model:-------------- Saved checkpoint 324 --------------\n",
      "  0%|          | 0/81 [00:00<?, ?it/s]INFO:torchnlp.common.train:Epoch 5 (324)\n",
      "Training:  19%|█▊        | 15/81 [00:00<00:00, 141.58it/s, loss=0.124]"
     ]
    },
    {
     "name": "stdout",
     "output_type": "stream",
     "text": [
      "kl_loss_final: 0.24102334962004707, pre_loss : 0.5150716091905322\n"
     ]
    },
    {
     "name": "stderr",
     "output_type": "stream",
     "text": [
      "INFO:torchnlp.common.train:total_loss: 0.09731864837216742, kl_loss: 0.10686255789097444, nll_loss: 0.22555372266121854\n",
      "INFO:torchnlp.common.train:Train Loss: 0.09732\n",
      "INFO:torchnlp.common.train:Validation metrics:             \n",
      "INFO:torchnlp.common.train:loss=0.36441, acc=0.87101, acc-seq=0.12773, precision=0.76663, recall=0.78765, F1=0.77700\n",
      "INFO:torchnlp.common.model:-------------- Saved checkpoint 405 --------------\n",
      "  0%|          | 0/81 [00:00<?, ?it/s]INFO:torchnlp.common.train:Epoch 6 (405)\n",
      "Training:  19%|█▊        | 15/81 [00:00<00:00, 148.98it/s, loss=0.0557]"
     ]
    },
    {
     "name": "stdout",
     "output_type": "stream",
     "text": [
      "kl_loss_final: 0.24617272544474827, pre_loss : 0.3644124638466608\n"
     ]
    },
    {
     "name": "stderr",
     "output_type": "stream",
     "text": [
      "INFO:torchnlp.common.train:total_loss: 0.04608703413863241, kl_loss: 0.11264063086774614, nll_loss: 0.1812557962573605\n",
      "INFO:torchnlp.common.train:Train Loss: 0.04609\n",
      "INFO:torchnlp.common.train:Validation metrics:             \n",
      "INFO:torchnlp.common.train:loss=0.32091, acc=0.89975, acc-seq=0.19980, precision=0.79826, recall=0.84307, F1=0.82006\n",
      "INFO:torchnlp.common.model:-------------- Saved checkpoint 486 --------------\n",
      "  0%|          | 0/81 [00:00<?, ?it/s]INFO:torchnlp.common.train:Epoch 7 (486)\n",
      "Training:  19%|█▊        | 15/81 [00:00<00:00, 142.57it/s, loss=0.0287]"
     ]
    },
    {
     "name": "stdout",
     "output_type": "stream",
     "text": [
      "kl_loss_final: 0.26544991987092154, pre_loss : 0.32090628927662257\n"
     ]
    },
    {
     "name": "stderr",
     "output_type": "stream",
     "text": [
      "INFO:torchnlp.common.train:total_loss: 0.020136296565150036, kl_loss: 0.1182629449499978, nll_loss: 0.1620518360056995\n",
      "INFO:torchnlp.common.train:Train Loss: 0.02014\n",
      "INFO:torchnlp.common.train:Validation metrics:             \n",
      "INFO:torchnlp.common.train:loss=0.29308, acc=0.90757, acc-seq=0.21272, precision=0.80965, recall=0.84810, F1=0.82843\n",
      "INFO:torchnlp.common.model:-------------- Saved checkpoint 567 --------------\n",
      "  0%|          | 0/81 [00:00<?, ?it/s]INFO:torchnlp.common.train:Epoch 8 (567)\n",
      "Training:  19%|█▊        | 15/81 [00:00<00:00, 141.66it/s, loss=0.00796]"
     ]
    },
    {
     "name": "stdout",
     "output_type": "stream",
     "text": [
      "kl_loss_final: 0.28725302609659376, pre_loss : 0.29307888803027926\n"
     ]
    },
    {
     "name": "stderr",
     "output_type": "stream",
     "text": [
      "INFO:torchnlp.common.train:total_loss: 0.0023123615501839437, kl_loss: 0.12281380989301352, nll_loss: 0.14968893943745412\n",
      "INFO:torchnlp.common.train:Train Loss: 0.00231\n",
      "INFO:torchnlp.common.train:Validation metrics:             \n",
      "INFO:torchnlp.common.train:loss=0.27505, acc=0.91451, acc-seq=0.23459, precision=0.82378, recall=0.86488, F1=0.84383\n",
      "INFO:torchnlp.common.model:-------------- Saved checkpoint 648 --------------\n",
      "  0%|          | 0/81 [00:00<?, ?it/s]INFO:torchnlp.common.train:Epoch 9 (648)\n",
      "Training:  19%|█▊        | 15/81 [00:00<00:00, 143.09it/s, loss=-.00486]"
     ]
    },
    {
     "name": "stdout",
     "output_type": "stream",
     "text": [
      "kl_loss_final: 0.29592093364113853, pre_loss : 0.27504682753767284\n"
     ]
    },
    {
     "name": "stderr",
     "output_type": "stream",
     "text": [
      "INFO:torchnlp.common.train:total_loss: -0.008157248114362175, kl_loss: 0.12461248132181757, nll_loss: 0.1413777361129537\n",
      "INFO:torchnlp.common.train:Train Loss: -0.00816\n",
      "INFO:torchnlp.common.train:Validation metrics:             \n",
      "INFO:torchnlp.common.train:loss=0.27014, acc=0.91949, acc-seq=0.25447, precision=0.83182, recall=0.87548, F1=0.85309\n",
      "INFO:torchnlp.common.model:-------------- Saved checkpoint 729 --------------\n",
      "  0%|          | 0/81 [00:00<?, ?it/s]INFO:torchnlp.common.train:Epoch 10 (729)\n",
      "Training:  19%|█▊        | 15/81 [00:00<00:00, 142.18it/s, loss=-.0109]"
     ]
    },
    {
     "name": "stdout",
     "output_type": "stream",
     "text": [
      "kl_loss_final: 0.3020588986220814, pre_loss : 0.2701416136253448\n"
     ]
    },
    {
     "name": "stderr",
     "output_type": "stream",
     "text": [
      "INFO:torchnlp.common.train:total_loss: -0.013237033913164963, kl_loss: 0.12542743484179178, nll_loss: 0.13727589310319335\n",
      "INFO:torchnlp.common.train:Train Loss: -0.01324\n",
      "INFO:torchnlp.common.train:Validation metrics:             \n",
      "INFO:torchnlp.common.train:loss=0.26585, acc=0.91821, acc-seq=0.25497, precision=0.83823, recall=0.86852, F1=0.85311\n",
      "INFO:torchnlp.common.model:-------------- Saved checkpoint 810 --------------\n",
      "  0%|          | 0/81 [00:00<?, ?it/s]INFO:torchnlp.common.train:Epoch 11 (810)\n",
      "Training:  20%|█▉        | 16/81 [00:00<00:00, 151.35it/s, loss=-.0172]"
     ]
    },
    {
     "name": "stdout",
     "output_type": "stream",
     "text": [
      "kl_loss_final: 0.30482828865448636, pre_loss : 0.2658520532505853\n"
     ]
    },
    {
     "name": "stderr",
     "output_type": "stream",
     "text": [
      "INFO:torchnlp.common.train:total_loss: -0.0183004547416428, kl_loss: 0.12609100148633676, nll_loss: 0.1330087528920468\n",
      "INFO:torchnlp.common.train:Train Loss: -0.01830\n",
      "INFO:torchnlp.common.train:Validation metrics:             \n",
      "INFO:torchnlp.common.train:loss=0.27118, acc=0.91827, acc-seq=0.25696, precision=0.82948, recall=0.86940, F1=0.84897\n",
      "INFO:torchnlp.common.model:-------------- Saved checkpoint 891 --------------\n",
      "  0%|          | 0/81 [00:00<?, ?it/s]INFO:torchnlp.common.train:Epoch 12 (891)\n",
      "Training:  19%|█▊        | 15/81 [00:00<00:00, 143.30it/s, loss=-.0211]"
     ]
    },
    {
     "name": "stdout",
     "output_type": "stream",
     "text": [
      "kl_loss_final: 0.30659903514952885, pre_loss : 0.2711847020047052\n"
     ]
    },
    {
     "name": "stderr",
     "output_type": "stream",
     "text": [
      "INFO:torchnlp.common.train:total_loss: -0.02210967288708981, kl_loss: 0.1264710012409422, nll_loss: 0.12965553401061047\n",
      "INFO:torchnlp.common.train:Train Loss: -0.02211\n",
      "INFO:torchnlp.common.train:Validation metrics:             \n",
      "INFO:torchnlp.common.train:loss=0.26566, acc=0.92177, acc-seq=0.25596, precision=0.84422, recall=0.87498, F1=0.85933\n",
      "INFO:torchnlp.common.model:-------------- Saved checkpoint 972 --------------\n",
      "  0%|          | 0/81 [00:00<?, ?it/s]INFO:torchnlp.common.train:Epoch 13 (972)\n",
      "Training:  19%|█▊        | 15/81 [00:00<00:00, 145.21it/s, loss=-.0246]"
     ]
    },
    {
     "name": "stdout",
     "output_type": "stream",
     "text": [
      "kl_loss_final: 0.30770016745442436, pre_loss : 0.26566051727249507\n"
     ]
    },
    {
     "name": "stderr",
     "output_type": "stream",
     "text": [
      "INFO:torchnlp.common.train:total_loss: -0.025258794334935553, kl_loss: 0.12708392592123996, nll_loss: 0.12724192330130824\n",
      "INFO:torchnlp.common.train:Train Loss: -0.02526\n",
      "INFO:torchnlp.common.train:Validation metrics:             \n",
      "INFO:torchnlp.common.train:loss=0.26363, acc=0.92165, acc-seq=0.25696, precision=0.84988, recall=0.87628, F1=0.86288\n",
      "INFO:torchnlp.common.model:-------------- Saved checkpoint 1053 --------------\n",
      "  0%|          | 0/81 [00:00<?, ?it/s]INFO:torchnlp.common.train:Epoch 14 (1053)\n",
      "Training:  17%|█▋        | 14/81 [00:00<00:00, 135.22it/s, loss=-.0306]"
     ]
    },
    {
     "name": "stdout",
     "output_type": "stream",
     "text": [
      "kl_loss_final: 0.3091279906885965, pre_loss : 0.263631372934296\n"
     ]
    },
    {
     "name": "stderr",
     "output_type": "stream",
     "text": [
      "INFO:torchnlp.common.train:total_loss: -0.02762705299221439, kl_loss: 0.12742068075839383, nll_loss: 0.1252777690504804\n",
      "INFO:torchnlp.common.train:Train Loss: -0.02763\n",
      "INFO:torchnlp.common.train:Validation metrics:             \n",
      "INFO:torchnlp.common.train:loss=0.25728, acc=0.92371, acc-seq=0.27435, precision=0.84078, recall=0.88223, F1=0.86101\n",
      "INFO:torchnlp.common.model:-------------- Saved checkpoint 1134 --------------\n",
      "  0%|          | 0/81 [00:00<?, ?it/s]INFO:torchnlp.common.train:Epoch 15 (1134)\n",
      "Training:  20%|█▉        | 16/81 [00:00<00:00, 147.71it/s, loss=-.0308]"
     ]
    },
    {
     "name": "stdout",
     "output_type": "stream",
     "text": [
      "kl_loss_final: 0.3103325870775041, pre_loss : 0.25728115297499154\n"
     ]
    },
    {
     "name": "stderr",
     "output_type": "stream",
     "text": [
      "INFO:torchnlp.common.train:total_loss: -0.029767356628988995, kl_loss: 0.12759761254728577, nll_loss: 0.12334978451699387\n",
      "INFO:torchnlp.common.train:Train Loss: -0.02977\n",
      "INFO:torchnlp.common.train:Validation metrics:             \n",
      "INFO:torchnlp.common.train:loss=0.25538, acc=0.92492, acc-seq=0.28628, precision=0.83904, recall=0.88097, F1=0.85950\n",
      "INFO:torchnlp.common.model:-------------- Saved checkpoint 1215 --------------\n",
      "  0%|          | 0/81 [00:00<?, ?it/s]INFO:torchnlp.common.train:Epoch 16 (1215)\n",
      "Training:  19%|█▊        | 15/81 [00:00<00:00, 148.19it/s, loss=-.0319]"
     ]
    },
    {
     "name": "stdout",
     "output_type": "stream",
     "text": [
      "kl_loss_final: 0.31238839952718644, pre_loss : 0.25537967149700436\n"
     ]
    },
    {
     "name": "stderr",
     "output_type": "stream",
     "text": [
      "INFO:torchnlp.common.train:total_loss: -0.0320682199096974, kl_loss: 0.1280328674632826, nll_loss: 0.12157122717227464\n",
      "INFO:torchnlp.common.train:Train Loss: -0.03207\n",
      "INFO:torchnlp.common.train:Validation metrics:             \n",
      "INFO:torchnlp.common.train:loss=0.26064, acc=0.92399, acc-seq=0.27684, precision=0.83667, recall=0.88072, F1=0.85813\n",
      "INFO:torchnlp.common.model:-------------- Saved checkpoint 1296 --------------\n",
      "  0%|          | 0/81 [00:00<?, ?it/s]INFO:torchnlp.common.train:Epoch 17 (1296)\n",
      "Training:  19%|█▊        | 15/81 [00:00<00:00, 146.25it/s, loss=-.0346]"
     ]
    },
    {
     "name": "stdout",
     "output_type": "stream",
     "text": [
      "kl_loss_final: 0.3127602015932401, pre_loss : 0.2606402160156341\n"
     ]
    },
    {
     "name": "stderr",
     "output_type": "stream",
     "text": [
      "INFO:torchnlp.common.train:total_loss: -0.0344147476149194, kl_loss: 0.12825269022105654, nll_loss: 0.1194884866292094\n",
      "INFO:torchnlp.common.train:Train Loss: -0.03441\n",
      "INFO:torchnlp.common.train:Validation metrics:             \n",
      "INFO:torchnlp.common.train:loss=0.26158, acc=0.92375, acc-seq=0.28231, precision=0.84187, recall=0.87741, F1=0.85927\n",
      "INFO:torchnlp.common.model:-------------- Saved checkpoint 1377 --------------\n",
      "  0%|          | 0/81 [00:00<?, ?it/s]INFO:torchnlp.common.train:Epoch 18 (1377)\n",
      "Training:  20%|█▉        | 16/81 [00:00<00:00, 151.68it/s, loss=-.0349]"
     ]
    },
    {
     "name": "stdout",
     "output_type": "stream",
     "text": [
      "kl_loss_final: 0.31335288286209106, pre_loss : 0.26158115835416884\n"
     ]
    },
    {
     "name": "stderr",
     "output_type": "stream",
     "text": [
      "INFO:torchnlp.common.train:total_loss: -0.03481694421282521, kl_loss: 0.12850813061734775, nll_loss: 0.11939281869081804\n",
      "INFO:torchnlp.common.train:Train Loss: -0.03482\n",
      "INFO:torchnlp.common.train:Validation metrics:             \n",
      "INFO:torchnlp.common.train:loss=0.25783, acc=0.92580, acc-seq=0.29573, precision=0.84304, recall=0.88135, F1=0.86177\n",
      "INFO:torchnlp.common.train:Early stopping at iteration 1053, epoch 12, F1=0.86288\n",
      "  6%|▌         | 5/81 [00:00<00:01, 40.75it/s]"
     ]
    },
    {
     "name": "stdout",
     "output_type": "stream",
     "text": [
      "kl_loss_final: 0.31429130690438406, pre_loss : 0.2578295582816714\n"
     ]
    },
    {
     "name": "stderr",
     "output_type": "stream",
     "text": [
      "INFO:torchnlp.common.train:prediction, and attns for best epoch obtained, release hook\n",
      "INFO:torchnlp.common.train:prediction, and attns for best epoch obtained, release hook\n"
     ]
    },
    {
     "name": "stdout",
     "output_type": "stream",
     "text": [
      "SAVING PREDICTIONS AND ATTENTIONS\n",
      "done /home/zijiao/research/atal/saved_True_/11:28:34.562568/tr_pr_best\n",
      "done /home/zijiao/research/atal/saved_True_/11:28:34.562568/te_pr_best\n",
      "done /home/zijiao/research/atal/saved_True_/11:28:34.562568/tr_attn_best\n",
      "done /home/zijiao/research/atal/saved_True_/11:28:34.562568/te_attn_best\n",
      "LOOK HERE 0.2578295582816714 0.31429130690438406\n"
     ]
    },
    {
     "name": "stderr",
     "output_type": "stream",
     "text": [
      "INFO:torchnlp.data.conll:---------- CONLL 2000 Chunking ---------\n",
      "INFO:torchnlp.data.conll:Train size: 8042\n",
      "INFO:torchnlp.data.conll:Validation size: 894\n",
      "INFO:torchnlp.data.conll:Test size: 2012\n",
      "INFO:torchtext.vocab:Loading vectors from .vector_cache/glove.6B.200d.txt.pt\n",
      "INFO:torchtext.vocab:Loading vectors from .vector_cache/charNgram.txt.pt\n",
      "INFO:torchnlp.data.conll:Input vocab size:19032\n",
      "INFO:torchnlp.data.conll:Tagset size: 25\n",
      "INFO:torchnlp.common.model:\n",
      "Hyperparameters:\n",
      " batch_size=100\n",
      " embedding_size_word=300\n",
      " embedding_size_char=0\n",
      " embedding_size_char_per_word=100\n",
      " embedding_size_tags=100\n",
      " hidden_size=128\n",
      " learning_rate=0.2\n",
      " learning_rate_decay=noam_step\n",
      " max_length=256\n",
      " num_hidden_layers=1\n",
      " dropout=0.2\n",
      " optimizer_adam_beta1=0.9\n",
      " optimizer_adam_beta2=0.98\n",
      " use_crf=False\n",
      " num_heads=4\n",
      " attention_key_channels=0\n",
      " attention_value_channels=0\n",
      " filter_size=128\n",
      " filter_size_char=64\n",
      " input_dropout=0.2\n",
      " attention_dropout=0.2\n",
      " relu_dropout=0.2\n",
      " learning_rate_warmup_steps=500\n",
      " attn_path=./saved\n",
      " adversarial=True\n",
      " lmbda=1.2999999999999998\n",
      " froze=False\n",
      " froze_path=./froze\n",
      "INFO:torchnlp.common.train:Parameters: 140953(trainable), 5709601(non-trainable)\n",
      "INFO:torchnlp.common.train:Early stopping for highest value of validation F1 after 5 epochs\n",
      "  0%|          | 0/81 [00:00<?, ?it/s]INFO:torchnlp.common.train:Epoch 1 (0)\n",
      "INFO:torchnlp.common.train:total_loss: 1.4860795283759083, kl_loss: 0.037490148212254784, nll_loss: 1.5348167279620228\n",
      "INFO:torchnlp.common.train:Train Loss: 1.48608\n",
      "INFO:torchnlp.common.train:Validation metrics:             \n",
      "INFO:torchnlp.common.train:loss=1.10399, acc=0.66313, acc-seq=0.00000, precision=0.47278, recall=0.45581, F1=0.46414\n",
      "INFO:torchnlp.common.model:-------------- Saved checkpoint 81 --------------\n",
      "  0%|          | 0/81 [00:00<?, ?it/s]INFO:torchnlp.common.train:Epoch 2 (81)\n",
      "Training:  19%|█▊        | 15/81 [00:00<00:00, 149.48it/s, loss=0.397]"
     ]
    },
    {
     "name": "stdout",
     "output_type": "stream",
     "text": [
      "kl_loss_final: 0.14055864441962468, pre_loss : 1.1039912416821434\n"
     ]
    },
    {
     "name": "stderr",
     "output_type": "stream",
     "text": [
      "INFO:torchnlp.common.train:total_loss: 0.3131242131377444, kl_loss: 0.07241463431237656, nll_loss: 0.4072632333378733\n",
      "INFO:torchnlp.common.train:Train Loss: 0.31312\n",
      "INFO:torchnlp.common.train:Validation metrics:             \n",
      "INFO:torchnlp.common.train:loss=0.63447, acc=0.75805, acc-seq=0.01541, precision=0.58967, recall=0.65546, F1=0.62083\n",
      "INFO:torchnlp.common.model:-------------- Saved checkpoint 162 --------------\n",
      "  0%|          | 0/81 [00:00<?, ?it/s]INFO:torchnlp.common.train:Epoch 3 (162)\n",
      "Training:  19%|█▊        | 15/81 [00:00<00:00, 147.36it/s, loss=0.198]"
     ]
    },
    {
     "name": "stdout",
     "output_type": "stream",
     "text": [
      "kl_loss_final: 0.19402981655938284, pre_loss : 0.6344690180960155\n"
     ]
    },
    {
     "name": "stderr",
     "output_type": "stream",
     "text": [
      "INFO:torchnlp.common.train:total_loss: 0.17017949289745754, kl_loss: 0.09438508068337853, nll_loss: 0.29288009287398536\n",
      "INFO:torchnlp.common.train:Train Loss: 0.17018\n",
      "INFO:torchnlp.common.train:Validation metrics:             \n",
      "INFO:torchnlp.common.train:loss=0.50909, acc=0.80361, acc-seq=0.04523, precision=0.69227, recall=0.73688, F1=0.71388\n",
      "INFO:torchnlp.common.model:-------------- Saved checkpoint 243 --------------\n",
      "  0%|          | 0/81 [00:00<?, ?it/s]INFO:torchnlp.common.train:Epoch 4 (243)\n",
      "Training:  19%|█▊        | 15/81 [00:00<00:00, 148.10it/s, loss=0.118]"
     ]
    },
    {
     "name": "stdout",
     "output_type": "stream",
     "text": [
      "kl_loss_final: 0.2200639077595302, pre_loss : 0.5090888781206948\n"
     ]
    },
    {
     "name": "stderr",
     "output_type": "stream",
     "text": [
      "INFO:torchnlp.common.train:total_loss: 0.0903766800959905, kl_loss: 0.10291200388728837, nll_loss: 0.22416228000764493\n",
      "INFO:torchnlp.common.train:Train Loss: 0.09038\n",
      "INFO:torchnlp.common.train:Validation metrics:             \n",
      "INFO:torchnlp.common.train:loss=0.35747, acc=0.88268, acc-seq=0.14761, precision=0.76750, recall=0.79591, F1=0.78144\n",
      "INFO:torchnlp.common.model:-------------- Saved checkpoint 324 --------------\n",
      "  0%|          | 0/81 [00:00<?, ?it/s]INFO:torchnlp.common.train:Epoch 5 (324)\n",
      "Training:  19%|█▊        | 15/81 [00:00<00:00, 141.26it/s, loss=0.0443]"
     ]
    },
    {
     "name": "stdout",
     "output_type": "stream",
     "text": [
      "kl_loss_final: 0.2332242393777484, pre_loss : 0.35747372252600534\n"
     ]
    },
    {
     "name": "stderr",
     "output_type": "stream",
     "text": [
      "INFO:torchnlp.common.train:total_loss: 0.035282959816632445, kl_loss: 0.10982904574017466, nll_loss: 0.17806071392547937\n",
      "INFO:torchnlp.common.train:Train Loss: 0.03528\n",
      "INFO:torchnlp.common.train:Validation metrics:             \n",
      "INFO:torchnlp.common.train:loss=0.30730, acc=0.90157, acc-seq=0.20030, precision=0.80299, recall=0.83456, F1=0.81847\n",
      "INFO:torchnlp.common.model:-------------- Saved checkpoint 405 --------------\n",
      "  0%|          | 0/81 [00:00<?, ?it/s]INFO:torchnlp.common.train:Epoch 6 (405)\n",
      "Training:  19%|█▊        | 15/81 [00:00<00:00, 146.11it/s, loss=0.0177]"
     ]
    },
    {
     "name": "stdout",
     "output_type": "stream",
     "text": [
      "kl_loss_final: 0.2539239756408192, pre_loss : 0.3073043589081083\n"
     ]
    },
    {
     "name": "stderr",
     "output_type": "stream",
     "text": [
      "INFO:torchnlp.common.train:total_loss: 0.015689176909717512, kl_loss: 0.11556600319382584, nll_loss: 0.16592497562552677\n",
      "INFO:torchnlp.common.train:Train Loss: 0.01569\n",
      "INFO:torchnlp.common.train:Validation metrics:             \n",
      "INFO:torchnlp.common.train:loss=0.29909, acc=0.90321, acc-seq=0.19781, precision=0.79239, recall=0.83897, F1=0.81501\n",
      "INFO:torchnlp.common.model:-------------- Saved checkpoint 486 --------------\n",
      "  0%|          | 0/81 [00:00<?, ?it/s]INFO:torchnlp.common.train:Epoch 7 (486)\n",
      "Training:  19%|█▊        | 15/81 [00:00<00:00, 143.70it/s, loss=0.00309]"
     ]
    },
    {
     "name": "stdout",
     "output_type": "stream",
     "text": [
      "kl_loss_final: 0.2675954131853013, pre_loss : 0.2990922374384744\n"
     ]
    },
    {
     "name": "stderr",
     "output_type": "stream",
     "text": [
      "INFO:torchnlp.common.train:total_loss: 0.00024889151991149526, kl_loss: 0.11928466495908337, nll_loss: 0.1553189499694624\n",
      "INFO:torchnlp.common.train:Train Loss: 0.00025\n",
      "INFO:torchnlp.common.train:Validation metrics:             \n",
      "INFO:torchnlp.common.train:loss=0.28976, acc=0.90829, acc-seq=0.21670, precision=0.81442, recall=0.85888, F1=0.83606\n",
      "INFO:torchnlp.common.model:-------------- Saved checkpoint 567 --------------\n",
      "  0%|          | 0/81 [00:00<?, ?it/s]INFO:torchnlp.common.train:Epoch 8 (567)\n",
      "Training:  19%|█▊        | 15/81 [00:00<00:00, 146.59it/s, loss=-.00464]"
     ]
    },
    {
     "name": "stdout",
     "output_type": "stream",
     "text": [
      "kl_loss_final: 0.2822943695244335, pre_loss : 0.289756776321502\n"
     ]
    },
    {
     "name": "stderr",
     "output_type": "stream",
     "text": [
      "INFO:torchnlp.common.train:total_loss: -0.009669044595441701, kl_loss: 0.12203279156007885, nll_loss: 0.14897357884012621\n",
      "INFO:torchnlp.common.train:Train Loss: -0.00967\n",
      "INFO:torchnlp.common.train:Validation metrics:             \n",
      "INFO:torchnlp.common.train:loss=0.27651, acc=0.91636, acc-seq=0.23956, precision=0.82814, recall=0.86207, F1=0.84476\n",
      "INFO:torchnlp.common.model:-------------- Saved checkpoint 648 --------------\n",
      "  0%|          | 0/81 [00:00<?, ?it/s]INFO:torchnlp.common.train:Epoch 9 (648)\n",
      "Training:  19%|█▊        | 15/81 [00:00<00:00, 143.11it/s, loss=-.0163]"
     ]
    },
    {
     "name": "stdout",
     "output_type": "stream",
     "text": [
      "kl_loss_final: 0.2906679731039774, pre_loss : 0.27651003074078334\n"
     ]
    },
    {
     "name": "stderr",
     "output_type": "stream",
     "text": [
      "INFO:torchnlp.common.train:total_loss: -0.018982244402538113, kl_loss: 0.12337858818563414, nll_loss: 0.14140991425072705\n",
      "INFO:torchnlp.common.train:Train Loss: -0.01898\n",
      "INFO:torchnlp.common.train:Validation metrics:             \n",
      "INFO:torchnlp.common.train:loss=0.27196, acc=0.91794, acc-seq=0.25596, precision=0.83102, recall=0.86886, F1=0.84952\n",
      "INFO:torchnlp.common.model:-------------- Saved checkpoint 729 --------------\n",
      "  0%|          | 0/81 [00:00<?, ?it/s]INFO:torchnlp.common.train:Epoch 10 (729)\n",
      "Training:  20%|█▉        | 16/81 [00:00<00:00, 152.78it/s, loss=-.0245]"
     ]
    },
    {
     "name": "stdout",
     "output_type": "stream",
     "text": [
      "kl_loss_final: 0.2957786956713313, pre_loss : 0.2719617464712688\n"
     ]
    },
    {
     "name": "stderr",
     "output_type": "stream",
     "text": [
      "INFO:torchnlp.common.train:total_loss: -0.024554548532138638, kl_loss: 0.12434913576753051, nll_loss: 0.13709932225353924\n",
      "INFO:torchnlp.common.train:Train Loss: -0.02455\n",
      "INFO:torchnlp.common.train:Validation metrics:             \n",
      "INFO:torchnlp.common.train:loss=0.26564, acc=0.92132, acc-seq=0.26491, precision=0.83836, recall=0.87565, F1=0.85660\n",
      "INFO:torchnlp.common.model:-------------- Saved checkpoint 810 --------------\n",
      "  0%|          | 0/81 [00:00<?, ?it/s]INFO:torchnlp.common.train:Epoch 11 (810)\n",
      "Training:  19%|█▊        | 15/81 [00:00<00:00, 140.52it/s, loss=-.0342]"
     ]
    },
    {
     "name": "stdout",
     "output_type": "stream",
     "text": [
      "kl_loss_final: 0.29838923045567106, pre_loss : 0.2656449987774804\n"
     ]
    },
    {
     "name": "stderr",
     "output_type": "stream",
     "text": [
      "INFO:torchnlp.common.train:total_loss: -0.02957624500548398, kl_loss: 0.12498460884815381, nll_loss: 0.132903741557657\n",
      "INFO:torchnlp.common.train:Train Loss: -0.02958\n",
      "INFO:torchnlp.common.train:Validation metrics:             \n",
      "INFO:torchnlp.common.train:loss=0.27076, acc=0.91955, acc-seq=0.25497, precision=0.83361, recall=0.86940, F1=0.85113\n",
      "INFO:torchnlp.common.model:-------------- Saved checkpoint 891 --------------\n",
      "  0%|          | 0/81 [00:00<?, ?it/s]INFO:torchnlp.common.train:Epoch 12 (891)\n",
      "Training:  19%|█▊        | 15/81 [00:00<00:00, 149.66it/s, loss=-.0338]"
     ]
    },
    {
     "name": "stdout",
     "output_type": "stream",
     "text": [
      "kl_loss_final: 0.29934667157275335, pre_loss : 0.2707638172876267\n"
     ]
    },
    {
     "name": "stderr",
     "output_type": "stream",
     "text": [
      "INFO:torchnlp.common.train:total_loss: -0.034299843657163924, kl_loss: 0.12578635147692244, nll_loss: 0.1292224078450674\n",
      "INFO:torchnlp.common.train:Train Loss: -0.03430\n",
      "INFO:torchnlp.common.train:Validation metrics:             \n",
      "INFO:torchnlp.common.train:loss=0.26550, acc=0.92216, acc-seq=0.27336, precision=0.84306, recall=0.87947, F1=0.86088\n",
      "INFO:torchnlp.common.model:-------------- Saved checkpoint 972 --------------\n",
      "  0%|          | 0/81 [00:00<?, ?it/s]INFO:torchnlp.common.train:Epoch 13 (972)\n",
      "Training:  19%|█▊        | 15/81 [00:00<00:00, 143.47it/s, loss=-.0358]"
     ]
    },
    {
     "name": "stdout",
     "output_type": "stream",
     "text": [
      "kl_loss_final: 0.3008686630498795, pre_loss : 0.26550001686527613\n"
     ]
    },
    {
     "name": "stderr",
     "output_type": "stream",
     "text": [
      "INFO:torchnlp.common.train:total_loss: -0.03685585722143268, kl_loss: 0.12606591243802764, nll_loss: 0.12702982311631428\n",
      "INFO:torchnlp.common.train:Train Loss: -0.03686\n",
      "INFO:torchnlp.common.train:Validation metrics:             \n",
      "INFO:torchnlp.common.train:loss=0.26299, acc=0.92354, acc-seq=0.26839, precision=0.84587, recall=0.87754, F1=0.86141\n",
      "INFO:torchnlp.common.model:-------------- Saved checkpoint 1053 --------------\n",
      "  0%|          | 0/81 [00:00<?, ?it/s]INFO:torchnlp.common.train:Epoch 14 (1053)\n",
      "Training:  19%|█▊        | 15/81 [00:00<00:00, 142.72it/s, loss=-.0428]"
     ]
    },
    {
     "name": "stdout",
     "output_type": "stream",
     "text": [
      "kl_loss_final: 0.3025770162542661, pre_loss : 0.2629859780981427\n"
     ]
    },
    {
     "name": "stderr",
     "output_type": "stream",
     "text": [
      "INFO:torchnlp.common.train:total_loss: -0.03956070284784576, kl_loss: 0.12636456095877988, nll_loss: 0.12471322043810362\n",
      "INFO:torchnlp.common.train:Train Loss: -0.03956\n",
      "INFO:torchnlp.common.train:Validation metrics:             \n",
      "INFO:torchnlp.common.train:loss=0.26172, acc=0.92385, acc-seq=0.27137, precision=0.84936, recall=0.87770, F1=0.86330\n",
      "INFO:torchnlp.common.model:-------------- Saved checkpoint 1134 --------------\n",
      "  0%|          | 0/81 [00:00<?, ?it/s]INFO:torchnlp.common.train:Epoch 15 (1134)\n",
      "Training:  19%|█▊        | 15/81 [00:00<00:00, 144.08it/s, loss=-.0427]"
     ]
    },
    {
     "name": "stdout",
     "output_type": "stream",
     "text": [
      "kl_loss_final: 0.3033345387805076, pre_loss : 0.2617170512676239\n"
     ]
    },
    {
     "name": "stderr",
     "output_type": "stream",
     "text": [
      "INFO:torchnlp.common.train:total_loss: -0.041585574087537366, kl_loss: 0.1266925679864707, nll_loss: 0.12311475825162581\n",
      "INFO:torchnlp.common.train:Train Loss: -0.04159\n",
      "INFO:torchnlp.common.train:Validation metrics:             \n",
      "INFO:torchnlp.common.train:loss=0.25869, acc=0.92387, acc-seq=0.28728, precision=0.84486, recall=0.87854, F1=0.86137\n",
      "INFO:torchnlp.common.model:-------------- Saved checkpoint 1215 --------------\n",
      "  0%|          | 0/81 [00:00<?, ?it/s]INFO:torchnlp.common.train:Epoch 16 (1215)\n",
      "Training:  17%|█▋        | 14/81 [00:00<00:00, 138.72it/s, loss=-.0433]"
     ]
    },
    {
     "name": "stdout",
     "output_type": "stream",
     "text": [
      "kl_loss_final: 0.3042286300943011, pre_loss : 0.2586949574095862\n"
     ]
    },
    {
     "name": "stderr",
     "output_type": "stream",
     "text": [
      "INFO:torchnlp.common.train:total_loss: -0.04390837914413876, kl_loss: 0.12677857298174022, nll_loss: 0.12090375936693615\n",
      "INFO:torchnlp.common.train:Train Loss: -0.04391\n",
      "INFO:torchnlp.common.train:Validation metrics:             \n",
      "INFO:torchnlp.common.train:loss=0.25596, acc=0.92477, acc-seq=0.27734, precision=0.84141, recall=0.87951, F1=0.86004\n",
      "INFO:torchnlp.common.model:-------------- Saved checkpoint 1296 --------------\n",
      "  0%|          | 0/81 [00:00<?, ?it/s]INFO:torchnlp.common.train:Epoch 17 (1296)\n",
      "Training:  19%|█▊        | 15/81 [00:00<00:00, 146.54it/s, loss=-.0472]"
     ]
    },
    {
     "name": "stdout",
     "output_type": "stream",
     "text": [
      "kl_loss_final: 0.30537510343960356, pre_loss : 0.25596286072617486\n"
     ]
    },
    {
     "name": "stderr",
     "output_type": "stream",
     "text": [
      "INFO:torchnlp.common.train:total_loss: -0.04480460203356213, kl_loss: 0.12718767360036756, nll_loss: 0.12053936710696161\n",
      "INFO:torchnlp.common.train:Train Loss: -0.04480\n",
      "INFO:torchnlp.common.train:Validation metrics:             \n",
      "INFO:torchnlp.common.train:loss=0.26133, acc=0.92321, acc-seq=0.26292, precision=0.84702, recall=0.87745, F1=0.86197\n",
      "INFO:torchnlp.common.model:-------------- Saved checkpoint 1377 --------------\n",
      "  0%|          | 0/81 [00:00<?, ?it/s]INFO:torchnlp.common.train:Epoch 18 (1377)\n",
      "Training:  19%|█▊        | 15/81 [00:00<00:00, 141.63it/s, loss=-.0483]"
     ]
    },
    {
     "name": "stdout",
     "output_type": "stream",
     "text": [
      "kl_loss_final: 0.30604267368714017, pre_loss : 0.26133249345279874\n"
     ]
    },
    {
     "name": "stderr",
     "output_type": "stream",
     "text": [
      "INFO:torchnlp.common.train:total_loss: -0.047177806588602655, kl_loss: 0.12771135724988986, nll_loss: 0.11884695171941946\n",
      "INFO:torchnlp.common.train:Train Loss: -0.04718\n",
      "INFO:torchnlp.common.train:Validation metrics:             \n",
      "INFO:torchnlp.common.train:loss=0.25438, acc=0.92560, acc-seq=0.28479, precision=0.84912, recall=0.88341, F1=0.86593\n",
      "INFO:torchnlp.common.model:-------------- Saved checkpoint 1458 --------------\n",
      "  0%|          | 0/81 [00:00<?, ?it/s]INFO:torchnlp.common.train:Epoch 19 (1458)\n",
      "Training:  19%|█▊        | 15/81 [00:00<00:00, 146.57it/s, loss=-.0513]"
     ]
    },
    {
     "name": "stdout",
     "output_type": "stream",
     "text": [
      "kl_loss_final: 0.30683762296324685, pre_loss : 0.25438431189173744\n"
     ]
    },
    {
     "name": "stderr",
     "output_type": "stream",
     "text": [
      "INFO:torchnlp.common.train:total_loss: -0.048545210541766366, kl_loss: 0.1277806865580288, nll_loss: 0.11756967523215729\n",
      "INFO:torchnlp.common.train:Train Loss: -0.04855\n",
      "INFO:torchnlp.common.train:Validation metrics:             \n",
      "INFO:torchnlp.common.train:loss=0.25803, acc=0.92636, acc-seq=0.28131, precision=0.85349, recall=0.88123, F1=0.86714\n",
      "INFO:torchnlp.common.model:-------------- Saved checkpoint 1539 --------------\n",
      "  0%|          | 0/81 [00:00<?, ?it/s]INFO:torchnlp.common.train:Epoch 20 (1539)\n",
      "Training:  19%|█▊        | 15/81 [00:00<00:00, 148.48it/s, loss=-.0481]"
     ]
    },
    {
     "name": "stdout",
     "output_type": "stream",
     "text": [
      "kl_loss_final: 0.3076080768590882, pre_loss : 0.2580340937489555\n"
     ]
    },
    {
     "name": "stderr",
     "output_type": "stream",
     "text": [
      "INFO:torchnlp.common.train:total_loss: -0.049578860494089716, kl_loss: 0.1279208407173922, nll_loss: 0.11671822674480485\n",
      "INFO:torchnlp.common.train:Train Loss: -0.04958\n",
      "INFO:torchnlp.common.train:Validation metrics:             \n",
      "INFO:torchnlp.common.train:loss=0.26357, acc=0.92607, acc-seq=0.29324, precision=0.84748, recall=0.88085, F1=0.86384\n",
      "INFO:torchnlp.common.model:-------------- Saved checkpoint 1620 --------------\n",
      "  0%|          | 0/81 [00:00<?, ?it/s]INFO:torchnlp.common.train:Epoch 21 (1620)\n",
      "Training:  17%|█▋        | 14/81 [00:00<00:00, 138.47it/s, loss=-.0526]"
     ]
    },
    {
     "name": "stdout",
     "output_type": "stream",
     "text": [
      "kl_loss_final: 0.3069607462911379, pre_loss : 0.26356537569136845\n"
     ]
    },
    {
     "name": "stderr",
     "output_type": "stream",
     "text": [
      "INFO:torchnlp.common.train:total_loss: -0.05093029996863118, kl_loss: 0.12808906875642728, nll_loss: 0.1155854833346826\n",
      "INFO:torchnlp.common.train:Train Loss: -0.05093\n",
      "INFO:torchnlp.common.train:Validation metrics:             \n",
      "INFO:torchnlp.common.train:loss=0.25972, acc=0.92453, acc-seq=0.27485, precision=0.84223, recall=0.88290, F1=0.86208\n",
      "INFO:torchnlp.common.model:-------------- Saved checkpoint 1701 --------------\n",
      "  0%|          | 0/81 [00:00<?, ?it/s]INFO:torchnlp.common.train:Epoch 22 (1701)\n",
      "Training:  19%|█▊        | 15/81 [00:00<00:00, 142.77it/s, loss=-.0536]"
     ]
    },
    {
     "name": "stdout",
     "output_type": "stream",
     "text": [
      "kl_loss_final: 0.3075910632809003, pre_loss : 0.2597244076785587\n"
     ]
    },
    {
     "name": "stderr",
     "output_type": "stream",
     "text": [
      "INFO:torchnlp.common.train:total_loss: -0.05250333994626999, kl_loss: 0.1281265617336756, nll_loss: 0.1140611837675542\n",
      "INFO:torchnlp.common.train:Train Loss: -0.05250\n",
      "INFO:torchnlp.common.train:Validation metrics:             \n",
      "INFO:torchnlp.common.train:loss=0.26062, acc=0.92603, acc-seq=0.28231, precision=0.85311, recall=0.88072, F1=0.86670\n",
      "INFO:torchnlp.common.model:-------------- Saved checkpoint 1782 --------------\n",
      "  0%|          | 0/81 [00:00<?, ?it/s]INFO:torchnlp.common.train:Epoch 23 (1782)\n",
      "Training:  19%|█▊        | 15/81 [00:00<00:00, 147.29it/s, loss=-.0519]"
     ]
    },
    {
     "name": "stdout",
     "output_type": "stream",
     "text": [
      "kl_loss_final: 0.3082588893317041, pre_loss : 0.26061639473551795\n"
     ]
    },
    {
     "name": "stderr",
     "output_type": "stream",
     "text": [
      "INFO:torchnlp.common.train:total_loss: -0.05322489105624917, kl_loss: 0.12819927084593125, nll_loss: 0.11343415412637922\n",
      "INFO:torchnlp.common.train:Train Loss: -0.05322\n",
      "INFO:torchnlp.common.train:Validation metrics:             \n",
      "INFO:torchnlp.common.train:loss=0.25859, acc=0.92747, acc-seq=0.29274, precision=0.85136, recall=0.88492, F1=0.86782\n",
      "INFO:torchnlp.common.model:-------------- Saved checkpoint 1863 --------------\n",
      "  0%|          | 0/81 [00:00<?, ?it/s]INFO:torchnlp.common.train:Epoch 24 (1863)\n",
      "Training:  17%|█▋        | 14/81 [00:00<00:00, 137.77it/s, loss=-.0525]"
     ]
    },
    {
     "name": "stdout",
     "output_type": "stream",
     "text": [
      "kl_loss_final: 0.30907575750634786, pre_loss : 0.25858578866436366\n"
     ]
    },
    {
     "name": "stderr",
     "output_type": "stream",
     "text": [
      "INFO:torchnlp.common.train:total_loss: -0.05353290468086431, kl_loss: 0.1284666136826998, nll_loss: 0.1134736869070265\n",
      "INFO:torchnlp.common.train:Train Loss: -0.05353\n",
      "INFO:torchnlp.common.train:Validation metrics:             \n",
      "INFO:torchnlp.common.train:loss=0.25199, acc=0.92764, acc-seq=0.30268, precision=0.84664, recall=0.88554, F1=0.86566\n",
      "INFO:torchnlp.common.model:-------------- Saved checkpoint 1944 --------------\n",
      "  0%|          | 0/81 [00:00<?, ?it/s]INFO:torchnlp.common.train:Epoch 25 (1944)\n",
      "Training:  19%|█▊        | 15/81 [00:00<00:00, 140.16it/s, loss=-.0575]"
     ]
    },
    {
     "name": "stdout",
     "output_type": "stream",
     "text": [
      "kl_loss_final: 0.308977301631655, pre_loss : 0.2519926591998055\n"
     ]
    },
    {
     "name": "stderr",
     "output_type": "stream",
     "text": [
      "INFO:torchnlp.common.train:total_loss: -0.05488840407795376, kl_loss: 0.1285677652484105, nll_loss: 0.1122496834507695\n",
      "INFO:torchnlp.common.train:Train Loss: -0.05489\n",
      "INFO:torchnlp.common.train:Validation metrics:             \n",
      "INFO:torchnlp.common.train:loss=0.25425, acc=0.92798, acc-seq=0.29920, precision=0.84743, recall=0.88584, F1=0.86621\n",
      "INFO:torchnlp.common.model:-------------- Saved checkpoint 2025 --------------\n",
      "  0%|          | 0/81 [00:00<?, ?it/s]INFO:torchnlp.common.train:Epoch 26 (2025)\n",
      "Training:  17%|█▋        | 14/81 [00:00<00:00, 135.13it/s, loss=-.0579]"
     ]
    },
    {
     "name": "stdout",
     "output_type": "stream",
     "text": [
      "kl_loss_final: 0.3087862790340469, pre_loss : 0.25424819900876\n"
     ]
    },
    {
     "name": "stderr",
     "output_type": "stream",
     "text": [
      "INFO:torchnlp.common.train:total_loss: -0.055160531475220195, kl_loss: 0.12854113080251364, nll_loss: 0.11194293219366191\n",
      "INFO:torchnlp.common.train:Train Loss: -0.05516\n",
      "INFO:torchnlp.common.train:Validation metrics:             \n",
      "INFO:torchnlp.common.train:loss=0.25417, acc=0.92788, acc-seq=0.30070, precision=0.85201, recall=0.88659, F1=0.86896\n",
      "INFO:torchnlp.common.model:-------------- Saved checkpoint 2106 --------------\n",
      "  0%|          | 0/81 [00:00<?, ?it/s]INFO:torchnlp.common.train:Epoch 27 (2106)\n",
      "Training:  19%|█▊        | 15/81 [00:00<00:00, 146.92it/s, loss=-.0555]"
     ]
    },
    {
     "name": "stdout",
     "output_type": "stream",
     "text": [
      "kl_loss_final: 0.3098567866143726, pre_loss : 0.25417458372456686\n"
     ]
    },
    {
     "name": "stderr",
     "output_type": "stream",
     "text": [
      "INFO:torchnlp.common.train:total_loss: -0.05672299668744758, kl_loss: 0.1286809198834278, nll_loss: 0.11056219271303695\n",
      "INFO:torchnlp.common.train:Train Loss: -0.05672\n",
      "INFO:torchnlp.common.train:Validation metrics:             \n",
      "INFO:torchnlp.common.train:loss=0.25214, acc=0.92934, acc-seq=0.30716, precision=0.84974, recall=0.88840, F1=0.86864\n",
      "INFO:torchnlp.common.model:-------------- Saved checkpoint 2187 --------------\n",
      "  0%|          | 0/81 [00:00<?, ?it/s]INFO:torchnlp.common.train:Epoch 28 (2187)\n",
      "Training:  19%|█▊        | 15/81 [00:00<00:00, 141.21it/s, loss=-.0579]"
     ]
    },
    {
     "name": "stdout",
     "output_type": "stream",
     "text": [
      "kl_loss_final: 0.3098476678133011, pre_loss : 0.25213541871025447\n"
     ]
    },
    {
     "name": "stderr",
     "output_type": "stream",
     "text": [
      "INFO:torchnlp.common.train:total_loss: -0.056220407839174626, kl_loss: 0.12875495556695962, nll_loss: 0.11116102816146096\n",
      "INFO:torchnlp.common.train:Train Loss: -0.05622\n",
      "INFO:torchnlp.common.train:Validation metrics:             \n",
      "INFO:torchnlp.common.train:loss=0.25083, acc=0.92906, acc-seq=0.30666, precision=0.85123, recall=0.88756, F1=0.86901\n",
      "INFO:torchnlp.common.model:-------------- Saved checkpoint 2268 --------------\n",
      "  0%|          | 0/81 [00:00<?, ?it/s]INFO:torchnlp.common.train:Epoch 29 (2268)\n",
      "Training:  19%|█▊        | 15/81 [00:00<00:00, 143.10it/s, loss=-.0556]"
     ]
    },
    {
     "name": "stdout",
     "output_type": "stream",
     "text": [
      "kl_loss_final: 0.3103563345613934, pre_loss : 0.25083435149419875\n"
     ]
    },
    {
     "name": "stderr",
     "output_type": "stream",
     "text": [
      "INFO:torchnlp.common.train:total_loss: -0.05772891373913965, kl_loss: 0.1287667562748179, nll_loss: 0.10966786254703263\n",
      "INFO:torchnlp.common.train:Train Loss: -0.05773\n",
      "INFO:torchnlp.common.train:Validation metrics:             \n",
      "INFO:torchnlp.common.train:loss=0.25459, acc=0.92852, acc-seq=0.30567, precision=0.85145, recall=0.88743, F1=0.86907\n",
      "INFO:torchnlp.common.model:-------------- Saved checkpoint 2349 --------------\n",
      "  0%|          | 0/81 [00:00<?, ?it/s]INFO:torchnlp.common.train:Epoch 30 (2349)\n",
      "Training:  19%|█▊        | 15/81 [00:00<00:00, 146.37it/s, loss=-.0595]"
     ]
    },
    {
     "name": "stdout",
     "output_type": "stream",
     "text": [
      "kl_loss_final: 0.31115714070342837, pre_loss : 0.2545895441657021\n"
     ]
    },
    {
     "name": "stderr",
     "output_type": "stream",
     "text": [
      "INFO:torchnlp.common.train:total_loss: -0.058267922037177615, kl_loss: 0.12900970903811632, nll_loss: 0.10944469300685106\n",
      "INFO:torchnlp.common.train:Train Loss: -0.05827\n",
      "INFO:torchnlp.common.train:Validation metrics:             \n",
      "INFO:torchnlp.common.train:loss=0.25213, acc=0.92868, acc-seq=0.30765, precision=0.85215, recall=0.88731, F1=0.86937\n",
      "INFO:torchnlp.common.model:-------------- Saved checkpoint 2430 --------------\n",
      "  0%|          | 0/81 [00:00<?, ?it/s]INFO:torchnlp.common.train:Epoch 31 (2430)\n",
      "Training:  17%|█▋        | 14/81 [00:00<00:00, 138.40it/s, loss=-.0578]"
     ]
    },
    {
     "name": "stdout",
     "output_type": "stream",
     "text": [
      "kl_loss_final: 0.3106409268719809, pre_loss : 0.2521334474995023\n"
     ]
    },
    {
     "name": "stderr",
     "output_type": "stream",
     "text": [
      "INFO:torchnlp.common.train:total_loss: -0.05775744339198242, kl_loss: 0.12889795731983067, nll_loss: 0.10980989517253122\n",
      "INFO:torchnlp.common.train:Train Loss: -0.05776\n",
      "INFO:torchnlp.common.train:Validation metrics:             \n",
      "INFO:torchnlp.common.train:loss=0.25312, acc=0.92790, acc-seq=0.29374, precision=0.84985, recall=0.88609, F1=0.86759\n",
      "INFO:torchnlp.common.model:-------------- Saved checkpoint 2511 --------------\n",
      "  0%|          | 0/81 [00:00<?, ?it/s]INFO:torchnlp.common.train:Epoch 32 (2511)\n",
      "Training:  17%|█▋        | 14/81 [00:00<00:00, 133.74it/s, loss=-.0568]"
     ]
    },
    {
     "name": "stdout",
     "output_type": "stream",
     "text": [
      "kl_loss_final: 0.3112715429493359, pre_loss : 0.253122230725629\n"
     ]
    },
    {
     "name": "stderr",
     "output_type": "stream",
     "text": [
      "INFO:torchnlp.common.train:total_loss: -0.05937140186627706, kl_loss: 0.12907736132174363, nll_loss: 0.10842916130283732\n",
      "INFO:torchnlp.common.train:Train Loss: -0.05937\n",
      "INFO:torchnlp.common.train:Validation metrics:             \n",
      "INFO:torchnlp.common.train:loss=0.25175, acc=0.92928, acc-seq=0.29573, precision=0.85732, recall=0.88550, F1=0.87118\n",
      "INFO:torchnlp.common.model:-------------- Saved checkpoint 2592 --------------\n",
      "  0%|          | 0/81 [00:00<?, ?it/s]INFO:torchnlp.common.train:Epoch 33 (2592)\n",
      "Training:  19%|█▊        | 15/81 [00:00<00:00, 145.36it/s, loss=-.0618]"
     ]
    },
    {
     "name": "stdout",
     "output_type": "stream",
     "text": [
      "kl_loss_final: 0.3114662950947171, pre_loss : 0.25174530772935777\n"
     ]
    },
    {
     "name": "stderr",
     "output_type": "stream",
     "text": [
      "INFO:torchnlp.common.train:total_loss: -0.05969115926159753, kl_loss: 0.12913591065156607, nll_loss: 0.10818551894691256\n",
      "INFO:torchnlp.common.train:Train Loss: -0.05969\n",
      "INFO:torchnlp.common.train:Validation metrics:             \n",
      "INFO:torchnlp.common.train:loss=0.25253, acc=0.92821, acc-seq=0.29274, precision=0.85335, recall=0.88508, F1=0.86893\n",
      "INFO:torchnlp.common.model:-------------- Saved checkpoint 2673 --------------\n",
      "  0%|          | 0/81 [00:00<?, ?it/s]INFO:torchnlp.common.train:Epoch 34 (2673)\n",
      "Training:  17%|█▋        | 14/81 [00:00<00:00, 135.34it/s, loss=-.0585]"
     ]
    },
    {
     "name": "stdout",
     "output_type": "stream",
     "text": [
      "kl_loss_final: 0.3114157656118983, pre_loss : 0.25252738949798403\n"
     ]
    },
    {
     "name": "stderr",
     "output_type": "stream",
     "text": [
      "INFO:torchnlp.common.train:total_loss: -0.05966415431028531, kl_loss: 0.12906518293383681, nll_loss: 0.1081205772029029\n",
      "INFO:torchnlp.common.train:Train Loss: -0.05966\n",
      "INFO:torchnlp.common.train:Validation metrics:             \n",
      "INFO:torchnlp.common.train:loss=0.25120, acc=0.92924, acc-seq=0.29423, precision=0.85636, recall=0.88881, F1=0.87228\n",
      "INFO:torchnlp.common.model:-------------- Saved checkpoint 2754 --------------\n",
      "  0%|          | 0/81 [00:00<?, ?it/s]INFO:torchnlp.common.train:Epoch 35 (2754)\n",
      "Training:  19%|█▊        | 15/81 [00:00<00:00, 149.92it/s, loss=-.0627]"
     ]
    },
    {
     "name": "stdout",
     "output_type": "stream",
     "text": [
      "kl_loss_final: 0.31119462776751744, pre_loss : 0.25120292816843304\n"
     ]
    },
    {
     "name": "stderr",
     "output_type": "stream",
     "text": [
      "INFO:torchnlp.common.train:total_loss: -0.06031000788932965, kl_loss: 0.12924945106108984, nll_loss: 0.10771427193173656\n",
      "INFO:torchnlp.common.train:Train Loss: -0.06031\n",
      "INFO:torchnlp.common.train:Validation metrics:             \n",
      "INFO:torchnlp.common.train:loss=0.24995, acc=0.93004, acc-seq=0.31163, precision=0.85481, recall=0.88789, F1=0.87104\n",
      "INFO:torchnlp.common.model:-------------- Saved checkpoint 2835 --------------\n",
      "  0%|          | 0/81 [00:00<?, ?it/s]INFO:torchnlp.common.train:Epoch 36 (2835)\n",
      "Training:  19%|█▊        | 15/81 [00:00<00:00, 141.71it/s, loss=-.0633]"
     ]
    },
    {
     "name": "stdout",
     "output_type": "stream",
     "text": [
      "kl_loss_final: 0.31168701464221593, pre_loss : 0.249954132097108\n"
     ]
    },
    {
     "name": "stderr",
     "output_type": "stream",
     "text": [
      "INFO:torchnlp.common.train:total_loss: -0.06163525590558111, kl_loss: 0.1291562745600571, nll_loss: 0.1062678947676847\n",
      "INFO:torchnlp.common.train:Train Loss: -0.06164\n",
      "INFO:torchnlp.common.train:Validation metrics:             \n",
      "INFO:torchnlp.common.train:loss=0.24798, acc=0.93000, acc-seq=0.30467, precision=0.85330, recall=0.88668, F1=0.86967\n",
      "INFO:torchnlp.common.model:-------------- Saved checkpoint 2916 --------------\n",
      "  0%|          | 0/81 [00:00<?, ?it/s]INFO:torchnlp.common.train:Epoch 37 (2916)\n",
      "Training:  17%|█▋        | 14/81 [00:00<00:00, 138.80it/s, loss=-.0579]"
     ]
    },
    {
     "name": "stdout",
     "output_type": "stream",
     "text": [
      "kl_loss_final: 0.3118323893064544, pre_loss : 0.24797523873192923\n"
     ]
    },
    {
     "name": "stderr",
     "output_type": "stream",
     "text": [
      "INFO:torchnlp.common.train:total_loss: -0.06159332642952601, kl_loss: 0.129304914470808, nll_loss: 0.10650305532746845\n",
      "INFO:torchnlp.common.train:Train Loss: -0.06159\n",
      "INFO:torchnlp.common.train:Validation metrics:             \n",
      "INFO:torchnlp.common.train:loss=0.25409, acc=0.93068, acc-seq=0.31909, precision=0.85317, recall=0.88894, F1=0.87069\n",
      "INFO:torchnlp.common.model:-------------- Saved checkpoint 2997 --------------\n",
      "  0%|          | 0/81 [00:00<?, ?it/s]INFO:torchnlp.common.train:Epoch 38 (2997)\n",
      "Training:  19%|█▊        | 15/81 [00:00<00:00, 144.69it/s, loss=-.0625]"
     ]
    },
    {
     "name": "stdout",
     "output_type": "stream",
     "text": [
      "kl_loss_final: 0.312662939230601, pre_loss : 0.2540885302282515\n"
     ]
    },
    {
     "name": "stderr",
     "output_type": "stream",
     "text": [
      "INFO:torchnlp.common.train:total_loss: -0.062498815449667566, kl_loss: 0.1293818461306301, nll_loss: 0.10569757747429388\n",
      "INFO:torchnlp.common.train:Train Loss: -0.06250\n",
      "INFO:torchnlp.common.train:Validation metrics:             \n",
      "INFO:torchnlp.common.train:loss=0.24901, acc=0.92926, acc-seq=0.30865, precision=0.85136, recall=0.88584, F1=0.86826\n",
      "INFO:torchnlp.common.model:-------------- Saved checkpoint 3078 --------------\n",
      "  0%|          | 0/81 [00:00<?, ?it/s]INFO:torchnlp.common.train:Epoch 39 (3078)\n",
      "Training:  19%|█▊        | 15/81 [00:00<00:00, 149.06it/s, loss=-.0616]"
     ]
    },
    {
     "name": "stdout",
     "output_type": "stream",
     "text": [
      "kl_loss_final: 0.31162659149794353, pre_loss : 0.24901466710226877\n"
     ]
    },
    {
     "name": "stderr",
     "output_type": "stream",
     "text": [
      "INFO:torchnlp.common.train:total_loss: -0.06142055105279993, kl_loss: 0.1292802153362168, nll_loss: 0.10664372247310332\n",
      "INFO:torchnlp.common.train:Train Loss: -0.06142\n",
      "INFO:torchnlp.common.train:Validation metrics:             \n",
      "INFO:torchnlp.common.train:loss=0.24691, acc=0.93076, acc-seq=0.30318, precision=0.85892, recall=0.88932, F1=0.87386\n",
      "INFO:torchnlp.common.model:-------------- Saved checkpoint 3159 --------------\n",
      "  0%|          | 0/81 [00:00<?, ?it/s]INFO:torchnlp.common.train:Epoch 40 (3159)\n",
      "Training:  17%|█▋        | 14/81 [00:00<00:00, 139.56it/s, loss=-.0627]"
     ]
    },
    {
     "name": "stdout",
     "output_type": "stream",
     "text": [
      "kl_loss_final: 0.3121355580432074, pre_loss : 0.24691103114968255\n"
     ]
    },
    {
     "name": "stderr",
     "output_type": "stream",
     "text": [
      "INFO:torchnlp.common.train:total_loss: -0.06272002962636358, kl_loss: 0.1294393753747881, nll_loss: 0.10555115268554216\n",
      "INFO:torchnlp.common.train:Train Loss: -0.06272\n",
      "INFO:torchnlp.common.train:Validation metrics:             \n",
      "INFO:torchnlp.common.train:loss=0.24911, acc=0.93107, acc-seq=0.31660, precision=0.85303, recall=0.89087, F1=0.87154\n",
      "INFO:torchnlp.common.model:-------------- Saved checkpoint 3240 --------------\n",
      "  0%|          | 0/81 [00:00<?, ?it/s]INFO:torchnlp.common.train:Epoch 41 (3240)\n",
      "Training:  17%|█▋        | 14/81 [00:00<00:00, 133.33it/s, loss=-.0689]"
     ]
    },
    {
     "name": "stdout",
     "output_type": "stream",
     "text": [
      "kl_loss_final: 0.3130535596892947, pre_loss : 0.24911371370156607\n"
     ]
    },
    {
     "name": "stderr",
     "output_type": "stream",
     "text": [
      "INFO:torchnlp.common.train:total_loss: -0.0627273283438918, kl_loss: 0.12955379835617395, nll_loss: 0.10569260269403458\n",
      "INFO:torchnlp.common.train:Train Loss: -0.06273\n",
      "INFO:torchnlp.common.train:Validation metrics:             \n",
      "INFO:torchnlp.common.train:loss=0.25574, acc=0.92928, acc-seq=0.30517, precision=0.85352, recall=0.88848, F1=0.87065\n",
      "INFO:torchnlp.common.model:-------------- Saved checkpoint 3321 --------------\n",
      "  0%|          | 0/81 [00:00<?, ?it/s]INFO:torchnlp.common.train:Epoch 42 (3321)\n",
      "Training:  19%|█▊        | 15/81 [00:00<00:00, 146.90it/s, loss=-.0603]"
     ]
    },
    {
     "name": "stdout",
     "output_type": "stream",
     "text": [
      "kl_loss_final: 0.3121938453543754, pre_loss : 0.25574349079813274\n"
     ]
    },
    {
     "name": "stderr",
     "output_type": "stream",
     "text": [
      "INFO:torchnlp.common.train:total_loss: -0.06315198365920856, kl_loss: 0.1294713471038842, nll_loss: 0.10516076148660095\n",
      "INFO:torchnlp.common.train:Train Loss: -0.06315\n",
      "INFO:torchnlp.common.train:Validation metrics:             \n",
      "INFO:torchnlp.common.train:loss=0.25095, acc=0.93045, acc-seq=0.30716, precision=0.85702, recall=0.88806, F1=0.87226\n",
      "INFO:torchnlp.common.model:-------------- Saved checkpoint 3402 --------------\n",
      "  0%|          | 0/81 [00:00<?, ?it/s]INFO:torchnlp.common.train:Epoch 43 (3402)\n",
      "Training:  20%|█▉        | 16/81 [00:00<00:00, 153.78it/s, loss=-.0654]"
     ]
    },
    {
     "name": "stdout",
     "output_type": "stream",
     "text": [
      "kl_loss_final: 0.31273453327871503, pre_loss : 0.2509504230249496\n"
     ]
    },
    {
     "name": "stderr",
     "output_type": "stream",
     "text": [
      "INFO:torchnlp.common.train:total_loss: -0.06435996551572541, kl_loss: 0.12965005645413458, nll_loss: 0.10418510151866042\n",
      "INFO:torchnlp.common.train:Train Loss: -0.06436\n",
      "INFO:torchnlp.common.train:Validation metrics:             \n",
      "INFO:torchnlp.common.train:loss=0.24843, acc=0.93076, acc-seq=0.31312, precision=0.85552, recall=0.89099, F1=0.87290\n",
      "INFO:torchnlp.common.model:-------------- Saved checkpoint 3483 --------------\n",
      "  0%|          | 0/81 [00:00<?, ?it/s]INFO:torchnlp.common.train:Epoch 44 (3483)\n",
      "Training:  17%|█▋        | 14/81 [00:00<00:00, 139.47it/s, loss=-.0648]"
     ]
    },
    {
     "name": "stdout",
     "output_type": "stream",
     "text": [
      "kl_loss_final: 0.31328450178816203, pre_loss : 0.24843070194834754\n"
     ]
    },
    {
     "name": "stderr",
     "output_type": "stream",
     "text": [
      "INFO:torchnlp.common.train:total_loss: -0.06410766862056873, kl_loss: 0.12959581935479317, nll_loss: 0.10436689071817162\n",
      "INFO:torchnlp.common.train:Train Loss: -0.06411\n",
      "INFO:torchnlp.common.train:Validation metrics:             \n",
      "INFO:torchnlp.common.train:loss=0.25167, acc=0.93087, acc-seq=0.31759, precision=0.85085, recall=0.89016, F1=0.87006\n",
      "INFO:torchnlp.common.train:Early stopping at iteration 3159, epoch 38, F1=0.87386\n",
      "  5%|▍         | 4/81 [00:00<00:01, 39.51it/s]"
     ]
    },
    {
     "name": "stdout",
     "output_type": "stream",
     "text": [
      "kl_loss_final: 0.31408426768722986, pre_loss : 0.2516681778998602\n"
     ]
    },
    {
     "name": "stderr",
     "output_type": "stream",
     "text": [
      "INFO:torchnlp.common.train:prediction, and attns for best epoch obtained, release hook\n",
      "INFO:torchnlp.common.train:prediction, and attns for best epoch obtained, release hook\n"
     ]
    },
    {
     "name": "stdout",
     "output_type": "stream",
     "text": [
      "SAVING PREDICTIONS AND ATTENTIONS\n",
      "done /home/zijiao/research/atal/saved_True_/11:30:07.767916/tr_pr_best\n",
      "done /home/zijiao/research/atal/saved_True_/11:30:07.767916/te_pr_best\n",
      "done /home/zijiao/research/atal/saved_True_/11:30:07.767916/tr_attn_best\n",
      "done /home/zijiao/research/atal/saved_True_/11:30:07.767916/te_attn_best\n",
      "LOOK HERE 0.2516681778998602 0.31408426768722986\n"
     ]
    },
    {
     "name": "stderr",
     "output_type": "stream",
     "text": [
      "INFO:torchnlp.data.conll:---------- CONLL 2000 Chunking ---------\n",
      "INFO:torchnlp.data.conll:Train size: 8042\n",
      "INFO:torchnlp.data.conll:Validation size: 894\n",
      "INFO:torchnlp.data.conll:Test size: 2012\n",
      "INFO:torchtext.vocab:Loading vectors from .vector_cache/glove.6B.200d.txt.pt\n",
      "INFO:torchtext.vocab:Loading vectors from .vector_cache/charNgram.txt.pt\n",
      "INFO:torchnlp.data.conll:Input vocab size:19032\n",
      "INFO:torchnlp.data.conll:Tagset size: 25\n",
      "INFO:torchnlp.common.model:\n",
      "Hyperparameters:\n",
      " batch_size=100\n",
      " embedding_size_word=300\n",
      " embedding_size_char=0\n",
      " embedding_size_char_per_word=100\n",
      " embedding_size_tags=100\n",
      " hidden_size=128\n",
      " learning_rate=0.2\n",
      " learning_rate_decay=noam_step\n",
      " max_length=256\n",
      " num_hidden_layers=1\n",
      " dropout=0.2\n",
      " optimizer_adam_beta1=0.9\n",
      " optimizer_adam_beta2=0.98\n",
      " use_crf=False\n",
      " num_heads=4\n",
      " attention_key_channels=0\n",
      " attention_value_channels=0\n",
      " filter_size=128\n",
      " filter_size_char=64\n",
      " input_dropout=0.2\n",
      " attention_dropout=0.2\n",
      " relu_dropout=0.2\n",
      " learning_rate_warmup_steps=500\n",
      " attn_path=./saved\n",
      " adversarial=True\n",
      " lmbda=1.4\n",
      " froze=False\n",
      " froze_path=./froze\n",
      "INFO:torchnlp.common.train:Parameters: 140953(trainable), 5709601(non-trainable)\n",
      "INFO:torchnlp.common.train:Early stopping for highest value of validation F1 after 5 epochs\n",
      "  0%|          | 0/81 [00:00<?, ?it/s]INFO:torchnlp.common.train:Epoch 1 (0)\n",
      "INFO:torchnlp.common.train:total_loss: 1.3455612298883037, kl_loss: 0.03968107675052719, nll_loss: 1.4011147379139324\n",
      "INFO:torchnlp.common.train:Train Loss: 1.34556\n",
      "INFO:torchnlp.common.train:Validation metrics:             \n",
      "INFO:torchnlp.common.train:loss=1.05137, acc=0.65114, acc-seq=0.00348, precision=0.44700, recall=0.44730, F1=0.44715\n",
      "INFO:torchnlp.common.model:-------------- Saved checkpoint 81 --------------\n",
      "  0%|          | 0/81 [00:00<?, ?it/s]INFO:torchnlp.common.train:Epoch 2 (81)\n",
      "Training:  19%|█▊        | 15/81 [00:00<00:00, 147.29it/s, loss=0.396]"
     ]
    },
    {
     "name": "stdout",
     "output_type": "stream",
     "text": [
      "kl_loss_final: 0.17230463435962087, pre_loss : 1.051367155143193\n"
     ]
    },
    {
     "name": "stderr",
     "output_type": "stream",
     "text": [
      "INFO:torchnlp.common.train:total_loss: 0.29441530616195116, kl_loss: 0.08356372138232361, nll_loss: 0.41140451512218995\n",
      "INFO:torchnlp.common.train:Train Loss: 0.29442\n",
      "INFO:torchnlp.common.train:Validation metrics:             \n",
      "INFO:torchnlp.common.train:loss=0.63238, acc=0.76531, acc-seq=0.02137, precision=0.60936, recall=0.66288, F1=0.63499\n",
      "INFO:torchnlp.common.model:-------------- Saved checkpoint 162 --------------\n",
      "  0%|          | 0/81 [00:00<?, ?it/s]INFO:torchnlp.common.train:Epoch 3 (162)\n",
      "Training:  19%|█▊        | 15/81 [00:00<00:00, 142.15it/s, loss=0.167]"
     ]
    },
    {
     "name": "stdout",
     "output_type": "stream",
     "text": [
      "kl_loss_final: 0.21680011103550592, pre_loss : 0.63238468340465\n"
     ]
    },
    {
     "name": "stderr",
     "output_type": "stream",
     "text": [
      "INFO:torchnlp.common.train:total_loss: 0.1516293556785878, kl_loss: 0.09945720470981834, nll_loss: 0.29086944037749446\n",
      "INFO:torchnlp.common.train:Train Loss: 0.15163\n",
      "INFO:torchnlp.common.train:Validation metrics:             \n",
      "INFO:torchnlp.common.train:loss=0.51110, acc=0.79957, acc-seq=0.03579, precision=0.68798, recall=0.73889, F1=0.71253\n",
      "INFO:torchnlp.common.model:-------------- Saved checkpoint 243 --------------\n",
      "  0%|          | 0/81 [00:00<?, ?it/s]INFO:torchnlp.common.train:Epoch 4 (243)\n",
      "Training:  19%|█▊        | 15/81 [00:00<00:00, 140.46it/s, loss=0.115]"
     ]
    },
    {
     "name": "stdout",
     "output_type": "stream",
     "text": [
      "kl_loss_final: 0.22697483286971137, pre_loss : 0.5110951960086823\n"
     ]
    },
    {
     "name": "stderr",
     "output_type": "stream",
     "text": [
      "INFO:torchnlp.common.train:total_loss: 0.09255906194448471, kl_loss: 0.10505769650141399, nll_loss: 0.2396398343053865\n",
      "INFO:torchnlp.common.train:Train Loss: 0.09256\n",
      "INFO:torchnlp.common.train:Validation metrics:             \n",
      "INFO:torchnlp.common.train:loss=0.38935, acc=0.86453, acc-seq=0.11282, precision=0.71266, recall=0.77176, F1=0.74103\n",
      "INFO:torchnlp.common.model:-------------- Saved checkpoint 324 --------------\n",
      "  0%|          | 0/81 [00:00<?, ?it/s]INFO:torchnlp.common.train:Epoch 5 (324)\n",
      "Training:  19%|█▊        | 15/81 [00:00<00:00, 143.17it/s, loss=0.0491]"
     ]
    },
    {
     "name": "stdout",
     "output_type": "stream",
     "text": [
      "kl_loss_final: 0.23404998261304127, pre_loss : 0.3893534058616275\n"
     ]
    },
    {
     "name": "stderr",
     "output_type": "stream",
     "text": [
      "INFO:torchnlp.common.train:total_loss: 0.04023292495144738, kl_loss: 0.10828142953507694, nll_loss: 0.19182692504959342\n",
      "INFO:torchnlp.common.train:Train Loss: 0.04023\n",
      "INFO:torchnlp.common.train:Validation metrics:             \n",
      "INFO:torchnlp.common.train:loss=0.33176, acc=0.88974, acc-seq=0.15457, precision=0.78531, recall=0.81159, F1=0.79824\n",
      "INFO:torchnlp.common.model:-------------- Saved checkpoint 405 --------------\n",
      "  0%|          | 0/81 [00:00<?, ?it/s]INFO:torchnlp.common.train:Epoch 6 (405)\n",
      "Training:  19%|█▊        | 15/81 [00:00<00:00, 143.69it/s, loss=0.0211]"
     ]
    },
    {
     "name": "stdout",
     "output_type": "stream",
     "text": [
      "kl_loss_final: 0.24448693792025247, pre_loss : 0.3317564960036959\n"
     ]
    },
    {
     "name": "stderr",
     "output_type": "stream",
     "text": [
      "INFO:torchnlp.common.train:total_loss: 0.01303489018737534, kl_loss: 0.11231483224733377, nll_loss: 0.17027565395390545\n",
      "INFO:torchnlp.common.train:Train Loss: 0.01303\n",
      "INFO:torchnlp.common.train:Validation metrics:             \n",
      "INFO:torchnlp.common.train:loss=0.30714, acc=0.89943, acc-seq=0.19583, precision=0.77563, recall=0.83641, F1=0.80487\n",
      "INFO:torchnlp.common.model:-------------- Saved checkpoint 486 --------------\n",
      "  0%|          | 0/81 [00:00<?, ?it/s]INFO:torchnlp.common.train:Epoch 7 (486)\n",
      "Training:  17%|█▋        | 14/81 [00:00<00:00, 139.82it/s, loss=-.0034]  "
     ]
    },
    {
     "name": "stdout",
     "output_type": "stream",
     "text": [
      "kl_loss_final: 0.2647607138469106, pre_loss : 0.3071436562708446\n"
     ]
    },
    {
     "name": "stderr",
     "output_type": "stream",
     "text": [
      "INFO:torchnlp.common.train:total_loss: -0.008514841029673446, kl_loss: 0.1192972962687045, nll_loss: 0.15850137146534743\n",
      "INFO:torchnlp.common.train:Train Loss: -0.00851\n",
      "INFO:torchnlp.common.train:Validation metrics:             \n",
      "INFO:torchnlp.common.train:loss=0.28662, acc=0.91247, acc-seq=0.24553, precision=0.81272, recall=0.85620, F1=0.83389\n",
      "INFO:torchnlp.common.model:-------------- Saved checkpoint 567 --------------\n",
      "  0%|          | 0/81 [00:00<?, ?it/s]INFO:torchnlp.common.train:Epoch 8 (567)\n",
      "Training:  19%|█▊        | 15/81 [00:00<00:00, 143.69it/s, loss=-.018] "
     ]
    },
    {
     "name": "stdout",
     "output_type": "stream",
     "text": [
      "kl_loss_final: 0.281668769461768, pre_loss : 0.2866243429127194\n"
     ]
    },
    {
     "name": "stderr",
     "output_type": "stream",
     "text": [
      "INFO:torchnlp.common.train:total_loss: -0.021587840844819576, kl_loss: 0.12199961016943425, nll_loss: 0.14921161081687903\n",
      "INFO:torchnlp.common.train:Train Loss: -0.02159\n",
      "INFO:torchnlp.common.train:Validation metrics:             \n",
      "INFO:torchnlp.common.train:loss=0.28113, acc=0.91336, acc-seq=0.24354, precision=0.82798, recall=0.85603, F1=0.84177\n",
      "INFO:torchnlp.common.model:-------------- Saved checkpoint 648 --------------\n",
      "  0%|          | 0/81 [00:00<?, ?it/s]INFO:torchnlp.common.train:Epoch 9 (648)\n",
      "Training:  19%|█▊        | 15/81 [00:00<00:00, 142.57it/s, loss=-.0264]"
     ]
    },
    {
     "name": "stdout",
     "output_type": "stream",
     "text": [
      "kl_loss_final: 0.2870205935268175, pre_loss : 0.2811293197529657\n"
     ]
    },
    {
     "name": "stderr",
     "output_type": "stream",
     "text": [
      "INFO:torchnlp.common.train:total_loss: -0.029891459202324902, kl_loss: 0.12325236523224983, nll_loss: 0.14266184938174706\n",
      "INFO:torchnlp.common.train:Train Loss: -0.02989\n",
      "INFO:torchnlp.common.train:Validation metrics:             \n",
      "INFO:torchnlp.common.train:loss=0.27898, acc=0.91486, acc-seq=0.23410, precision=0.83284, recall=0.86815, F1=0.85013\n",
      "INFO:torchnlp.common.model:-------------- Saved checkpoint 729 --------------\n",
      "  0%|          | 0/81 [00:00<?, ?it/s]INFO:torchnlp.common.train:Epoch 10 (729)\n",
      "Training:  19%|█▊        | 15/81 [00:00<00:00, 149.09it/s, loss=-.0391]"
     ]
    },
    {
     "name": "stdout",
     "output_type": "stream",
     "text": [
      "kl_loss_final: 0.2906380050948688, pre_loss : 0.27898427773089635\n"
     ]
    },
    {
     "name": "stderr",
     "output_type": "stream",
     "text": [
      "INFO:torchnlp.common.train:total_loss: -0.03637339533479125, kl_loss: 0.12403604627391439, nll_loss: 0.13727706716752347\n",
      "INFO:torchnlp.common.train:Train Loss: -0.03637\n",
      "INFO:torchnlp.common.train:Validation metrics:             \n",
      "INFO:torchnlp.common.train:loss=0.27658, acc=0.91755, acc-seq=0.23012, precision=0.83652, recall=0.86756, F1=0.85176\n",
      "INFO:torchnlp.common.model:-------------- Saved checkpoint 810 --------------\n",
      "  0%|          | 0/81 [00:00<?, ?it/s]INFO:torchnlp.common.train:Epoch 11 (810)\n",
      "Training:  19%|█▊        | 15/81 [00:00<00:00, 145.18it/s, loss=-.04]  "
     ]
    },
    {
     "name": "stdout",
     "output_type": "stream",
     "text": [
      "kl_loss_final: 0.29436335748150233, pre_loss : 0.2765763472943079\n"
     ]
    },
    {
     "name": "stderr",
     "output_type": "stream",
     "text": [
      "INFO:torchnlp.common.train:total_loss: -0.04164247766689018, kl_loss: 0.1249098261749303, nll_loss: 0.1332312767152433\n",
      "INFO:torchnlp.common.train:Train Loss: -0.04164\n",
      "INFO:torchnlp.common.train:Validation metrics:             \n",
      "INFO:torchnlp.common.train:loss=0.27073, acc=0.91945, acc-seq=0.25646, precision=0.84335, recall=0.87100, F1=0.85695\n",
      "INFO:torchnlp.common.model:-------------- Saved checkpoint 891 --------------\n",
      "  0%|          | 0/81 [00:00<?, ?it/s]INFO:torchnlp.common.train:Epoch 12 (891)\n",
      "Training:  17%|█▋        | 14/81 [00:00<00:00, 136.82it/s, loss=-.0462]"
     ]
    },
    {
     "name": "stdout",
     "output_type": "stream",
     "text": [
      "kl_loss_final: 0.29875967899958294, pre_loss : 0.27073432434172856\n"
     ]
    },
    {
     "name": "stderr",
     "output_type": "stream",
     "text": [
      "INFO:torchnlp.common.train:total_loss: -0.04548275746681072, kl_loss: 0.12585979405744577, nll_loss: 0.13072095185886196\n",
      "INFO:torchnlp.common.train:Train Loss: -0.04548\n",
      "INFO:torchnlp.common.train:Validation metrics:             \n",
      "INFO:torchnlp.common.train:loss=0.26109, acc=0.92245, acc-seq=0.26441, precision=0.84312, recall=0.87443, F1=0.85849\n",
      "INFO:torchnlp.common.model:-------------- Saved checkpoint 972 --------------\n",
      "  0%|          | 0/81 [00:00<?, ?it/s]INFO:torchnlp.common.train:Epoch 13 (972)\n",
      "Training:  19%|█▊        | 15/81 [00:00<00:00, 141.82it/s, loss=-.0465]"
     ]
    },
    {
     "name": "stdout",
     "output_type": "stream",
     "text": [
      "kl_loss_final: 0.29991397439014345, pre_loss : 0.261085168946357\n"
     ]
    },
    {
     "name": "stderr",
     "output_type": "stream",
     "text": [
      "INFO:torchnlp.common.train:total_loss: -0.048463133842120934, kl_loss: 0.12617676217614868, nll_loss: 0.12818433132804471\n",
      "INFO:torchnlp.common.train:Train Loss: -0.04846\n",
      "INFO:torchnlp.common.train:Validation metrics:             \n",
      "INFO:torchnlp.common.train:loss=0.26559, acc=0.92200, acc-seq=0.27237, precision=0.83573, recall=0.87322, F1=0.85406\n",
      "INFO:torchnlp.common.model:-------------- Saved checkpoint 1053 --------------\n",
      "  0%|          | 0/81 [00:00<?, ?it/s]INFO:torchnlp.common.train:Epoch 14 (1053)\n",
      "Training:  19%|█▊        | 15/81 [00:00<00:00, 143.21it/s, loss=-.0525]"
     ]
    },
    {
     "name": "stdout",
     "output_type": "stream",
     "text": [
      "kl_loss_final: 0.30179854659807115, pre_loss : 0.26559208191576456\n"
     ]
    },
    {
     "name": "stderr",
     "output_type": "stream",
     "text": [
      "INFO:torchnlp.common.train:total_loss: -0.050440892945101234, kl_loss: 0.12664993033732896, nll_loss: 0.1268690064733411\n",
      "INFO:torchnlp.common.train:Train Loss: -0.05044\n",
      "INFO:torchnlp.common.train:Validation metrics:             \n",
      "INFO:torchnlp.common.train:loss=0.26188, acc=0.92173, acc-seq=0.27883, precision=0.84258, recall=0.87720, F1=0.85954\n",
      "INFO:torchnlp.common.model:-------------- Saved checkpoint 1134 --------------\n",
      "  0%|          | 0/81 [00:00<?, ?it/s]INFO:torchnlp.common.train:Epoch 15 (1134)\n",
      "Training:  17%|█▋        | 14/81 [00:00<00:00, 139.07it/s, loss=-.0525]"
     ]
    },
    {
     "name": "stdout",
     "output_type": "stream",
     "text": [
      "kl_loss_final: 0.30337530622879666, pre_loss : 0.26188339931624277\n"
     ]
    },
    {
     "name": "stderr",
     "output_type": "stream",
     "text": [
      "INFO:torchnlp.common.train:total_loss: -0.054052710901072, kl_loss: 0.1268268025215761, nll_loss: 0.12350480957531634\n",
      "INFO:torchnlp.common.train:Train Loss: -0.05405\n",
      "INFO:torchnlp.common.train:Validation metrics:             \n",
      "INFO:torchnlp.common.train:loss=0.26070, acc=0.92358, acc-seq=0.27237, precision=0.84273, recall=0.88085, F1=0.86137\n",
      "INFO:torchnlp.common.model:-------------- Saved checkpoint 1215 --------------\n",
      "  0%|          | 0/81 [00:00<?, ?it/s]INFO:torchnlp.common.train:Epoch 16 (1215)\n",
      "Training:  19%|█▊        | 15/81 [00:00<00:00, 139.96it/s, loss=-.0559]"
     ]
    },
    {
     "name": "stdout",
     "output_type": "stream",
     "text": [
      "kl_loss_final: 0.30315455404065905, pre_loss : 0.2606980630329677\n"
     ]
    },
    {
     "name": "stderr",
     "output_type": "stream",
     "text": [
      "INFO:torchnlp.common.train:total_loss: -0.0555915449872429, kl_loss: 0.1270754493681001, nll_loss: 0.12231408206768977\n",
      "INFO:torchnlp.common.train:Train Loss: -0.05559\n",
      "INFO:torchnlp.common.train:Validation metrics:             \n",
      "INFO:torchnlp.common.train:loss=0.25975, acc=0.92436, acc-seq=0.29076, precision=0.84188, recall=0.88265, F1=0.86179\n",
      "INFO:torchnlp.common.model:-------------- Saved checkpoint 1296 --------------\n",
      "  0%|          | 0/81 [00:00<?, ?it/s]INFO:torchnlp.common.train:Epoch 17 (1296)\n",
      "Training:  19%|█▊        | 15/81 [00:00<00:00, 142.23it/s, loss=-.0611]"
     ]
    },
    {
     "name": "stdout",
     "output_type": "stream",
     "text": [
      "kl_loss_final: 0.3047892131975719, pre_loss : 0.25974605338914053\n"
     ]
    },
    {
     "name": "stderr",
     "output_type": "stream",
     "text": [
      "INFO:torchnlp.common.train:total_loss: -0.056159033727498704, kl_loss: 0.12730597180348854, nll_loss: 0.122069323964325\n",
      "INFO:torchnlp.common.train:Train Loss: -0.05616\n",
      "INFO:torchnlp.common.train:Validation metrics:             \n",
      "INFO:torchnlp.common.train:loss=0.26475, acc=0.92272, acc-seq=0.27485, precision=0.84332, recall=0.87536, F1=0.85904\n",
      "INFO:torchnlp.common.model:-------------- Saved checkpoint 1377 --------------\n",
      "  0%|          | 0/81 [00:00<?, ?it/s]INFO:torchnlp.common.train:Epoch 18 (1377)\n",
      "Training:  19%|█▊        | 15/81 [00:00<00:00, 146.53it/s, loss=-.0615]"
     ]
    },
    {
     "name": "stdout",
     "output_type": "stream",
     "text": [
      "kl_loss_final: 0.305391489749863, pre_loss : 0.2647519622530256\n"
     ]
    },
    {
     "name": "stderr",
     "output_type": "stream",
     "text": [
      "INFO:torchnlp.common.train:total_loss: -0.05915466889187142, kl_loss: 0.12763988180660907, nll_loss: 0.11954116306187194\n",
      "INFO:torchnlp.common.train:Train Loss: -0.05915\n",
      "INFO:torchnlp.common.train:Validation metrics:             \n",
      "INFO:torchnlp.common.train:loss=0.25800, acc=0.92403, acc-seq=0.26938, precision=0.84239, recall=0.88085, F1=0.86119\n",
      "INFO:torchnlp.common.model:-------------- Saved checkpoint 1458 --------------\n",
      "  0%|          | 0/81 [00:00<?, ?it/s]INFO:torchnlp.common.train:Epoch 19 (1458)\n",
      "Training:  19%|█▊        | 15/81 [00:00<00:00, 145.23it/s, loss=-.0627]"
     ]
    },
    {
     "name": "stdout",
     "output_type": "stream",
     "text": [
      "kl_loss_final: 0.3059214459998267, pre_loss : 0.2580042076962335\n"
     ]
    },
    {
     "name": "stderr",
     "output_type": "stream",
     "text": [
      "INFO:torchnlp.common.train:total_loss: -0.060391837983955574, kl_loss: 0.1280294573969311, nll_loss: 0.11884940020096155\n",
      "INFO:torchnlp.common.train:Train Loss: -0.06039\n",
      "INFO:torchnlp.common.train:Validation metrics:             \n",
      "INFO:torchnlp.common.train:loss=0.26196, acc=0.92303, acc-seq=0.26889, precision=0.84608, recall=0.87829, F1=0.86189\n",
      "INFO:torchnlp.common.model:-------------- Saved checkpoint 1539 --------------\n",
      "  0%|          | 0/81 [00:00<?, ?it/s]INFO:torchnlp.common.train:Epoch 20 (1539)\n",
      "Training:  19%|█▊        | 15/81 [00:00<00:00, 149.67it/s, loss=-.0647]"
     ]
    },
    {
     "name": "stdout",
     "output_type": "stream",
     "text": [
      "kl_loss_final: 0.3072761676850773, pre_loss : 0.26195891272454036\n"
     ]
    },
    {
     "name": "stderr",
     "output_type": "stream",
     "text": [
      "INFO:torchnlp.common.train:total_loss: -0.06222349258116734, kl_loss: 0.12809114470893954, nll_loss: 0.11710410721508073\n",
      "INFO:torchnlp.common.train:Train Loss: -0.06222\n",
      "INFO:torchnlp.common.train:Validation metrics:             \n",
      "INFO:torchnlp.common.train:loss=0.25622, acc=0.92578, acc-seq=0.27932, precision=0.85479, recall=0.88278, F1=0.86856\n",
      "INFO:torchnlp.common.model:-------------- Saved checkpoint 1620 --------------\n",
      "  0%|          | 0/81 [00:00<?, ?it/s]INFO:torchnlp.common.train:Epoch 21 (1620)\n",
      "Training:  19%|█▊        | 15/81 [00:00<00:00, 143.79it/s, loss=-.0656]"
     ]
    },
    {
     "name": "stdout",
     "output_type": "stream",
     "text": [
      "kl_loss_final: 0.3072119848359199, pre_loss : 0.2562193608000165\n"
     ]
    },
    {
     "name": "stderr",
     "output_type": "stream",
     "text": [
      "INFO:torchnlp.common.train:total_loss: -0.06330552375243034, kl_loss: 0.12826692552110294, nll_loss: 0.11626816927282899\n",
      "INFO:torchnlp.common.train:Train Loss: -0.06331\n",
      "INFO:torchnlp.common.train:Validation metrics:             \n",
      "INFO:torchnlp.common.train:loss=0.25794, acc=0.92663, acc-seq=0.28678, precision=0.85035, recall=0.88311, F1=0.86642\n",
      "INFO:torchnlp.common.model:-------------- Saved checkpoint 1701 --------------\n",
      "  0%|          | 0/81 [00:00<?, ?it/s]INFO:torchnlp.common.train:Epoch 22 (1701)\n",
      "Training:  17%|█▋        | 14/81 [00:00<00:00, 136.40it/s, loss=-.0659]"
     ]
    },
    {
     "name": "stdout",
     "output_type": "stream",
     "text": [
      "kl_loss_final: 0.3078389707065764, pre_loss : 0.25793586884226116\n"
     ]
    },
    {
     "name": "stderr",
     "output_type": "stream",
     "text": [
      "INFO:torchnlp.common.train:total_loss: -0.06509736741398588, kl_loss: 0.12836490111586488, nll_loss: 0.11461349190385253\n",
      "INFO:torchnlp.common.train:Train Loss: -0.06510\n",
      "INFO:torchnlp.common.train:Validation metrics:             \n",
      "INFO:torchnlp.common.train:loss=0.26053, acc=0.92585, acc-seq=0.28479, precision=0.84624, recall=0.88353, F1=0.86449\n",
      "INFO:torchnlp.common.model:-------------- Saved checkpoint 1782 --------------\n",
      "  0%|          | 0/81 [00:00<?, ?it/s]INFO:torchnlp.common.train:Epoch 23 (1782)\n",
      "Training:  19%|█▊        | 15/81 [00:00<00:00, 146.05it/s, loss=-.0678]"
     ]
    },
    {
     "name": "stdout",
     "output_type": "stream",
     "text": [
      "kl_loss_final: 0.30891484838156474, pre_loss : 0.26052544443380266\n"
     ]
    },
    {
     "name": "stderr",
     "output_type": "stream",
     "text": [
      "INFO:torchnlp.common.train:total_loss: -0.06484115592859409, kl_loss: 0.12853884053083114, nll_loss: 0.11511321853340407\n",
      "INFO:torchnlp.common.train:Train Loss: -0.06484\n",
      "INFO:torchnlp.common.train:Validation metrics:             \n",
      "INFO:torchnlp.common.train:loss=0.26113, acc=0.92696, acc-seq=0.28479, precision=0.85283, recall=0.88315, F1=0.86773\n",
      "INFO:torchnlp.common.model:-------------- Saved checkpoint 1863 --------------\n",
      "  0%|          | 0/81 [00:00<?, ?it/s]INFO:torchnlp.common.train:Epoch 24 (1863)\n",
      "Training:  17%|█▋        | 14/81 [00:00<00:00, 135.44it/s, loss=-.0671]"
     ]
    },
    {
     "name": "stdout",
     "output_type": "stream",
     "text": [
      "kl_loss_final: 0.3095651084468478, pre_loss : 0.2611287236213684\n"
     ]
    },
    {
     "name": "stderr",
     "output_type": "stream",
     "text": [
      "INFO:torchnlp.common.train:total_loss: -0.06600765764345358, kl_loss: 0.12868939027374174, nll_loss: 0.11415748638503345\n",
      "INFO:torchnlp.common.train:Train Loss: -0.06601\n",
      "INFO:torchnlp.common.train:Validation metrics:             \n",
      "INFO:torchnlp.common.train:loss=0.25544, acc=0.92692, acc-seq=0.29225, precision=0.84965, recall=0.88349, F1=0.86624\n",
      "INFO:torchnlp.common.model:-------------- Saved checkpoint 1944 --------------\n",
      "  0%|          | 0/81 [00:00<?, ?it/s]INFO:torchnlp.common.train:Epoch 25 (1944)\n",
      "Training:  19%|█▊        | 15/81 [00:00<00:00, 144.58it/s, loss=-.0661]"
     ]
    },
    {
     "name": "stdout",
     "output_type": "stream",
     "text": [
      "kl_loss_final: 0.3090785408303851, pre_loss : 0.25543581658885595\n"
     ]
    },
    {
     "name": "stderr",
     "output_type": "stream",
     "text": [
      "INFO:torchnlp.common.train:total_loss: -0.06641162435213725, kl_loss: 0.12877977381885788, nll_loss: 0.11388005647394392\n",
      "INFO:torchnlp.common.train:Train Loss: -0.06641\n",
      "INFO:torchnlp.common.train:Validation metrics:             \n",
      "INFO:torchnlp.common.train:loss=0.25802, acc=0.92692, acc-seq=0.29622, precision=0.85500, recall=0.88227, F1=0.86842\n",
      "INFO:torchnlp.common.train:Early stopping at iteration 1620, epoch 19, F1=0.86856\n",
      "  6%|▌         | 5/81 [00:00<00:01, 39.71it/s]"
     ]
    },
    {
     "name": "stdout",
     "output_type": "stream",
     "text": [
      "kl_loss_final: 0.310464865395001, pre_loss : 0.2580159182349841\n"
     ]
    },
    {
     "name": "stderr",
     "output_type": "stream",
     "text": [
      "INFO:torchnlp.common.train:prediction, and attns for best epoch obtained, release hook\n",
      "INFO:torchnlp.common.train:prediction, and attns for best epoch obtained, release hook\n"
     ]
    },
    {
     "name": "stdout",
     "output_type": "stream",
     "text": [
      "SAVING PREDICTIONS AND ATTENTIONS\n",
      "done /home/zijiao/research/atal/saved_True_/11:31:04.413716/tr_pr_best\n",
      "done /home/zijiao/research/atal/saved_True_/11:31:04.413716/te_pr_best\n",
      "done /home/zijiao/research/atal/saved_True_/11:31:04.413716/tr_attn_best\n",
      "done /home/zijiao/research/atal/saved_True_/11:31:04.413716/te_attn_best\n",
      "LOOK HERE 0.2580159182349841 0.310464865395001\n"
     ]
    },
    {
     "name": "stderr",
     "output_type": "stream",
     "text": [
      "INFO:torchnlp.data.conll:---------- CONLL 2000 Chunking ---------\n",
      "INFO:torchnlp.data.conll:Train size: 8042\n",
      "INFO:torchnlp.data.conll:Validation size: 894\n",
      "INFO:torchnlp.data.conll:Test size: 2012\n",
      "INFO:torchtext.vocab:Loading vectors from .vector_cache/glove.6B.200d.txt.pt\n",
      "INFO:torchtext.vocab:Loading vectors from .vector_cache/charNgram.txt.pt\n",
      "INFO:torchnlp.data.conll:Input vocab size:19032\n",
      "INFO:torchnlp.data.conll:Tagset size: 25\n",
      "INFO:torchnlp.common.model:\n",
      "Hyperparameters:\n",
      " batch_size=100\n",
      " embedding_size_word=300\n",
      " embedding_size_char=0\n",
      " embedding_size_char_per_word=100\n",
      " embedding_size_tags=100\n",
      " hidden_size=128\n",
      " learning_rate=0.2\n",
      " learning_rate_decay=noam_step\n",
      " max_length=256\n",
      " num_hidden_layers=1\n",
      " dropout=0.2\n",
      " optimizer_adam_beta1=0.9\n",
      " optimizer_adam_beta2=0.98\n",
      " use_crf=False\n",
      " num_heads=4\n",
      " attention_key_channels=0\n",
      " attention_value_channels=0\n",
      " filter_size=128\n",
      " filter_size_char=64\n",
      " input_dropout=0.2\n",
      " attention_dropout=0.2\n",
      " relu_dropout=0.2\n",
      " learning_rate_warmup_steps=500\n",
      " attn_path=./saved\n",
      " adversarial=True\n",
      " lmbda=1.4999999999999998\n",
      " froze=False\n",
      " froze_path=./froze\n",
      "INFO:torchnlp.common.train:Parameters: 140953(trainable), 5709601(non-trainable)\n",
      "INFO:torchnlp.common.train:Early stopping for highest value of validation F1 after 5 epochs\n",
      "  0%|          | 0/81 [00:00<?, ?it/s]INFO:torchnlp.common.train:Epoch 1 (0)\n",
      "INFO:torchnlp.common.train:total_loss: 1.220569920760614, kl_loss: 0.045866049688171456, nll_loss: 1.2893690051120004\n",
      "INFO:torchnlp.common.train:Train Loss: 1.22057\n",
      "INFO:torchnlp.common.train:Validation metrics:             \n",
      "INFO:torchnlp.common.train:loss=1.02311, acc=0.65591, acc-seq=0.00348, precision=0.42543, recall=0.46956, F1=0.44641\n",
      "INFO:torchnlp.common.model:-------------- Saved checkpoint 81 --------------\n",
      "  0%|          | 0/81 [00:00<?, ?it/s]INFO:torchnlp.common.train:Epoch 2 (81)\n",
      "Training:  19%|█▊        | 15/81 [00:00<00:00, 144.56it/s, loss=0.364]"
     ]
    },
    {
     "name": "stdout",
     "output_type": "stream",
     "text": [
      "kl_loss_final: 0.16006455197930336, pre_loss : 1.023112138112386\n"
     ]
    },
    {
     "name": "stderr",
     "output_type": "stream",
     "text": [
      "INFO:torchnlp.common.train:total_loss: 0.27264342613426257, kl_loss: 0.08287846131457223, nll_loss: 0.3969611190719369\n",
      "INFO:torchnlp.common.train:Train Loss: 0.27264\n",
      "INFO:torchnlp.common.train:Validation metrics:             \n",
      "INFO:torchnlp.common.train:loss=0.62045, acc=0.76180, acc-seq=0.02038, precision=0.58436, recall=0.66648, F1=0.62273\n",
      "INFO:torchnlp.common.model:-------------- Saved checkpoint 162 --------------\n",
      "  0%|          | 0/81 [00:00<?, ?it/s]INFO:torchnlp.common.train:Epoch 3 (162)\n",
      "Training:  19%|█▊        | 15/81 [00:00<00:00, 143.91it/s, loss=0.158]"
     ]
    },
    {
     "name": "stdout",
     "output_type": "stream",
     "text": [
      "kl_loss_final: 0.21906987932466326, pre_loss : 0.6204479237397512\n"
     ]
    },
    {
     "name": "stderr",
     "output_type": "stream",
     "text": [
      "INFO:torchnlp.common.train:total_loss: 0.13302200701501635, kl_loss: 0.10468318120197014, nll_loss: 0.29004677909391896\n",
      "INFO:torchnlp.common.train:Train Loss: 0.13302\n",
      "INFO:torchnlp.common.train:Validation metrics:             \n",
      "INFO:torchnlp.common.train:loss=0.53581, acc=0.79301, acc-seq=0.03728, precision=0.62604, recall=0.71801, F1=0.66888\n",
      "INFO:torchnlp.common.model:-------------- Saved checkpoint 243 --------------\n",
      "  0%|          | 0/81 [00:00<?, ?it/s]INFO:torchnlp.common.train:Epoch 4 (243)\n",
      "Training:  19%|█▊        | 15/81 [00:00<00:00, 142.97it/s, loss=0.0934]"
     ]
    },
    {
     "name": "stdout",
     "output_type": "stream",
     "text": [
      "kl_loss_final: 0.25171849841163274, pre_loss : 0.5358145435651144\n"
     ]
    },
    {
     "name": "stderr",
     "output_type": "stream",
     "text": [
      "INFO:torchnlp.common.train:total_loss: 0.07838371653615693, kl_loss: 0.11325354818944577, nll_loss: 0.2482640380844658\n",
      "INFO:torchnlp.common.train:Train Loss: 0.07838\n",
      "INFO:torchnlp.common.train:Validation metrics:             \n",
      "INFO:torchnlp.common.train:loss=0.42985, acc=0.84136, acc-seq=0.07505, precision=0.73963, recall=0.75818, F1=0.74879\n",
      "INFO:torchnlp.common.model:-------------- Saved checkpoint 324 --------------\n",
      "  0%|          | 0/81 [00:00<?, ?it/s]INFO:torchnlp.common.train:Epoch 5 (324)\n",
      "Training:  19%|█▊        | 15/81 [00:00<00:00, 145.52it/s, loss=0.0406]"
     ]
    },
    {
     "name": "stdout",
     "output_type": "stream",
     "text": [
      "kl_loss_final: 0.2680685041206224, pre_loss : 0.4298457034996578\n"
     ]
    },
    {
     "name": "stderr",
     "output_type": "stream",
     "text": [
      "INFO:torchnlp.common.train:total_loss: 0.023733404315548177, kl_loss: 0.11710534502326707, nll_loss: 0.1993914215285101\n",
      "INFO:torchnlp.common.train:Train Loss: 0.02373\n",
      "INFO:torchnlp.common.train:Validation metrics:             \n",
      "INFO:torchnlp.common.train:loss=0.31747, acc=0.89527, acc-seq=0.18091, precision=0.79094, recall=0.82530, F1=0.80776\n",
      "INFO:torchnlp.common.model:-------------- Saved checkpoint 405 --------------\n",
      "  0%|          | 0/81 [00:00<?, ?it/s]INFO:torchnlp.common.train:Epoch 6 (405)\n",
      "Training:  17%|█▋        | 14/81 [00:00<00:00, 138.65it/s, loss=-.00613]"
     ]
    },
    {
     "name": "stdout",
     "output_type": "stream",
     "text": [
      "kl_loss_final: 0.27857672494082225, pre_loss : 0.31746749650864375\n"
     ]
    },
    {
     "name": "stderr",
     "output_type": "stream",
     "text": [
      "INFO:torchnlp.common.train:total_loss: -0.011535881846039384, kl_loss: 0.1212507962812612, nll_loss: 0.17034031321972976\n",
      "INFO:torchnlp.common.train:Train Loss: -0.01154\n",
      "INFO:torchnlp.common.train:Validation metrics:             \n",
      "INFO:torchnlp.common.train:loss=0.30325, acc=0.90803, acc-seq=0.23062, precision=0.80114, recall=0.85179, F1=0.82569\n",
      "INFO:torchnlp.common.model:-------------- Saved checkpoint 486 --------------\n",
      "  0%|          | 0/81 [00:00<?, ?it/s]INFO:torchnlp.common.train:Epoch 7 (486)\n",
      "Training:  19%|█▊        | 15/81 [00:00<00:00, 148.13it/s, loss=-.0285]"
     ]
    },
    {
     "name": "stdout",
     "output_type": "stream",
     "text": [
      "kl_loss_final: 0.2837972445856957, pre_loss : 0.3032507577112743\n"
     ]
    },
    {
     "name": "stderr",
     "output_type": "stream",
     "text": [
      "INFO:torchnlp.common.train:total_loss: -0.030201715175752288, kl_loss: 0.12334079460965262, nll_loss: 0.15480947577291065\n",
      "INFO:torchnlp.common.train:Train Loss: -0.03020\n",
      "INFO:torchnlp.common.train:Validation metrics:             \n",
      "INFO:torchnlp.common.train:loss=0.29385, acc=0.91334, acc-seq=0.22614, precision=0.82491, recall=0.86160, F1=0.84286\n",
      "INFO:torchnlp.common.model:-------------- Saved checkpoint 567 --------------\n",
      "  0%|          | 0/81 [00:00<?, ?it/s]INFO:torchnlp.common.train:Epoch 8 (567)\n",
      "Training:  19%|█▊        | 15/81 [00:00<00:00, 145.72it/s, loss=-.0428]"
     ]
    },
    {
     "name": "stdout",
     "output_type": "stream",
     "text": [
      "kl_loss_final: 0.2904291163597788, pre_loss : 0.29384937456675936\n"
     ]
    },
    {
     "name": "stderr",
     "output_type": "stream",
     "text": [
      "INFO:torchnlp.common.train:total_loss: -0.04376615942628295, kl_loss: 0.12433852945212964, nll_loss: 0.1427416349818677\n",
      "INFO:torchnlp.common.train:Train Loss: -0.04377\n",
      "INFO:torchnlp.common.train:Validation metrics:             \n",
      "INFO:torchnlp.common.train:loss=0.27237, acc=0.91796, acc-seq=0.24851, precision=0.83492, recall=0.86978, F1=0.85199\n",
      "INFO:torchnlp.common.model:-------------- Saved checkpoint 648 --------------\n",
      "  0%|          | 0/81 [00:00<?, ?it/s]INFO:torchnlp.common.train:Epoch 9 (648)\n",
      "Training:  19%|█▊        | 15/81 [00:00<00:00, 142.79it/s, loss=-.0503]"
     ]
    },
    {
     "name": "stdout",
     "output_type": "stream",
     "text": [
      "kl_loss_final: 0.29314686322496053, pre_loss : 0.2723709103606996\n"
     ]
    },
    {
     "name": "stderr",
     "output_type": "stream",
     "text": [
      "INFO:torchnlp.common.train:total_loss: -0.04901036988069982, kl_loss: 0.12495806206155706, nll_loss: 0.1384267223837935\n",
      "INFO:torchnlp.common.train:Train Loss: -0.04901\n",
      "INFO:torchnlp.common.train:Validation metrics:             \n",
      "INFO:torchnlp.common.train:loss=0.26754, acc=0.92023, acc-seq=0.26342, precision=0.83683, recall=0.87640, F1=0.85616\n",
      "INFO:torchnlp.common.model:-------------- Saved checkpoint 729 --------------\n",
      "  0%|          | 0/81 [00:00<?, ?it/s]INFO:torchnlp.common.train:Epoch 10 (729)\n",
      "Training:  19%|█▊        | 15/81 [00:00<00:00, 146.73it/s, loss=-.0517]"
     ]
    },
    {
     "name": "stdout",
     "output_type": "stream",
     "text": [
      "kl_loss_final: 0.29458364844322205, pre_loss : 0.2675398921682721\n"
     ]
    },
    {
     "name": "stderr",
     "output_type": "stream",
     "text": [
      "INFO:torchnlp.common.train:total_loss: -0.05505728482464214, kl_loss: 0.12549232250010525, nll_loss: 0.1331811981436647\n",
      "INFO:torchnlp.common.train:Train Loss: -0.05506\n",
      "INFO:torchnlp.common.train:Validation metrics:             \n",
      "INFO:torchnlp.common.train:loss=0.26702, acc=0.91903, acc-seq=0.26193, precision=0.83458, recall=0.87104, F1=0.85242\n",
      "INFO:torchnlp.common.model:-------------- Saved checkpoint 810 --------------\n",
      "  0%|          | 0/81 [00:00<?, ?it/s]INFO:torchnlp.common.train:Epoch 11 (810)\n",
      "Training:  19%|█▊        | 15/81 [00:00<00:00, 146.85it/s, loss=-.0601]"
     ]
    },
    {
     "name": "stdout",
     "output_type": "stream",
     "text": [
      "kl_loss_final: 0.29635856336071376, pre_loss : 0.26702197676613215\n"
     ]
    },
    {
     "name": "stderr",
     "output_type": "stream",
     "text": [
      "INFO:torchnlp.common.train:total_loss: -0.059998174784360106, kl_loss: 0.12601964359666096, nll_loss: 0.12903129015071893\n",
      "INFO:torchnlp.common.train:Train Loss: -0.06000\n",
      "INFO:torchnlp.common.train:Validation metrics:             \n",
      "INFO:torchnlp.common.train:loss=0.26734, acc=0.91790, acc-seq=0.23608, precision=0.84644, recall=0.86777, F1=0.85697\n",
      "INFO:torchnlp.common.model:-------------- Saved checkpoint 891 --------------\n",
      "  0%|          | 0/81 [00:00<?, ?it/s]INFO:torchnlp.common.train:Epoch 12 (891)\n",
      "Training:  20%|█▉        | 16/81 [00:00<00:00, 153.07it/s, loss=-.0615]"
     ]
    },
    {
     "name": "stdout",
     "output_type": "stream",
     "text": [
      "kl_loss_final: 0.2966616607847668, pre_loss : 0.2673414619196029\n"
     ]
    },
    {
     "name": "stderr",
     "output_type": "stream",
     "text": [
      "INFO:torchnlp.common.train:total_loss: -0.06339525311817358, kl_loss: 0.12621118238678686, nll_loss: 0.1259215196341644\n",
      "INFO:torchnlp.common.train:Train Loss: -0.06340\n",
      "INFO:torchnlp.common.train:Validation metrics:             \n",
      "INFO:torchnlp.common.train:loss=0.26409, acc=0.92214, acc-seq=0.27286, precision=0.83926, recall=0.87603, F1=0.85725\n",
      "INFO:torchnlp.common.model:-------------- Saved checkpoint 972 --------------\n",
      "  0%|          | 0/81 [00:00<?, ?it/s]INFO:torchnlp.common.train:Epoch 13 (972)\n",
      "Training:  20%|█▉        | 16/81 [00:00<00:00, 151.50it/s, loss=-.0733]"
     ]
    },
    {
     "name": "stdout",
     "output_type": "stream",
     "text": [
      "kl_loss_final: 0.299937136116482, pre_loss : 0.2640914519627889\n"
     ]
    },
    {
     "name": "stderr",
     "output_type": "stream",
     "text": [
      "INFO:torchnlp.common.train:total_loss: -0.06717419458760156, kl_loss: 0.12636505085744976, nll_loss: 0.12237338169857308\n",
      "INFO:torchnlp.common.train:Train Loss: -0.06717\n",
      "INFO:torchnlp.common.train:Validation metrics:             \n",
      "INFO:torchnlp.common.train:loss=0.25643, acc=0.92253, acc-seq=0.27535, precision=0.84214, recall=0.87586, F1=0.85867\n",
      "INFO:torchnlp.common.model:-------------- Saved checkpoint 1053 --------------\n",
      "  0%|          | 0/81 [00:00<?, ?it/s]INFO:torchnlp.common.train:Epoch 14 (1053)\n",
      "Training:  19%|█▊        | 15/81 [00:00<00:00, 148.82it/s, loss=-.0726]"
     ]
    },
    {
     "name": "stdout",
     "output_type": "stream",
     "text": [
      "kl_loss_final: 0.29714773737248923, pre_loss : 0.25642829707690645\n"
     ]
    },
    {
     "name": "stderr",
     "output_type": "stream",
     "text": [
      "INFO:torchnlp.common.train:total_loss: -0.06968760913536873, kl_loss: 0.1260076191874198, nll_loss: 0.11932382024364707\n",
      "INFO:torchnlp.common.train:Train Loss: -0.06969\n",
      "INFO:torchnlp.common.train:Validation metrics:             \n",
      "INFO:torchnlp.common.train:loss=0.26297, acc=0.92220, acc-seq=0.27386, precision=0.83564, recall=0.87267, F1=0.85376\n",
      "INFO:torchnlp.common.model:-------------- Saved checkpoint 1134 --------------\n",
      "  0%|          | 0/81 [00:00<?, ?it/s]INFO:torchnlp.common.train:Epoch 15 (1134)\n",
      "Training:  17%|█▋        | 14/81 [00:00<00:00, 135.01it/s, loss=-.0731]"
     ]
    },
    {
     "name": "stdout",
     "output_type": "stream",
     "text": [
      "kl_loss_final: 0.29245173363458543, pre_loss : 0.2629740514925548\n"
     ]
    },
    {
     "name": "stderr",
     "output_type": "stream",
     "text": [
      "INFO:torchnlp.common.train:total_loss: -0.07391155925061968, kl_loss: 0.1254934291412801, nll_loss: 0.11432858455328294\n",
      "INFO:torchnlp.common.train:Train Loss: -0.07391\n",
      "INFO:torchnlp.common.train:Validation metrics:             \n",
      "INFO:torchnlp.common.train:loss=0.26167, acc=0.92395, acc-seq=0.28429, precision=0.84035, recall=0.87414, F1=0.85691\n",
      "INFO:torchnlp.common.model:-------------- Saved checkpoint 1215 --------------\n",
      "  0%|          | 0/81 [00:00<?, ?it/s]INFO:torchnlp.common.train:Epoch 16 (1215)\n",
      "Training:  19%|█▊        | 15/81 [00:00<00:00, 143.79it/s, loss=-.0765]"
     ]
    },
    {
     "name": "stdout",
     "output_type": "stream",
     "text": [
      "kl_loss_final: 0.292883086062613, pre_loss : 0.2616674360774812\n"
     ]
    },
    {
     "name": "stderr",
     "output_type": "stream",
     "text": [
      "INFO:torchnlp.common.train:total_loss: -0.0765643263304675, kl_loss: 0.12523579128362514, nll_loss: 0.11128936008906659\n",
      "INFO:torchnlp.common.train:Train Loss: -0.07656\n",
      "INFO:torchnlp.common.train:Validation metrics:             \n",
      "INFO:torchnlp.common.train:loss=0.26402, acc=0.92500, acc-seq=0.29970, precision=0.84353, recall=0.88009, F1=0.86142\n",
      "INFO:torchnlp.common.model:-------------- Saved checkpoint 1296 --------------\n",
      "  0%|          | 0/81 [00:00<?, ?it/s]INFO:torchnlp.common.train:Epoch 17 (1296)\n",
      "Training:  19%|█▊        | 15/81 [00:00<00:00, 147.10it/s, loss=-.0784]"
     ]
    },
    {
     "name": "stdout",
     "output_type": "stream",
     "text": [
      "kl_loss_final: 0.29149465582200457, pre_loss : 0.264015006167548\n"
     ]
    },
    {
     "name": "stderr",
     "output_type": "stream",
     "text": [
      "INFO:torchnlp.common.train:total_loss: -0.07871674865852167, kl_loss: 0.12534982637490755, nll_loss: 0.10930799094983089\n",
      "INFO:torchnlp.common.train:Train Loss: -0.07872\n",
      "INFO:torchnlp.common.train:Validation metrics:             \n",
      "INFO:torchnlp.common.train:loss=0.25666, acc=0.92605, acc-seq=0.29970, precision=0.84244, recall=0.88320, F1=0.86234\n",
      "INFO:torchnlp.common.model:-------------- Saved checkpoint 1377 --------------\n",
      "  0%|          | 0/81 [00:00<?, ?it/s]INFO:torchnlp.common.train:Epoch 18 (1377)\n",
      "Training:  19%|█▊        | 15/81 [00:00<00:00, 147.95it/s, loss=-.08]  "
     ]
    },
    {
     "name": "stdout",
     "output_type": "stream",
     "text": [
      "kl_loss_final: 0.2899336683608237, pre_loss : 0.25666482746601105\n"
     ]
    },
    {
     "name": "stderr",
     "output_type": "stream",
     "text": [
      "INFO:torchnlp.common.train:total_loss: -0.08071967462698619, kl_loss: 0.12531672013394626, nll_loss: 0.10725540658574045\n",
      "INFO:torchnlp.common.train:Train Loss: -0.08072\n",
      "INFO:torchnlp.common.train:Validation metrics:             \n",
      "INFO:torchnlp.common.train:loss=0.24918, acc=0.92813, acc-seq=0.30964, precision=0.84824, recall=0.88529, F1=0.86637\n",
      "INFO:torchnlp.common.model:-------------- Saved checkpoint 1458 --------------\n",
      "  0%|          | 0/81 [00:00<?, ?it/s]INFO:torchnlp.common.train:Epoch 19 (1458)\n",
      "Training:  17%|█▋        | 14/81 [00:00<00:00, 136.83it/s, loss=-.0817]"
     ]
    },
    {
     "name": "stdout",
     "output_type": "stream",
     "text": [
      "kl_loss_final: 0.29346951097249985, pre_loss : 0.24917641885223843\n"
     ]
    },
    {
     "name": "stderr",
     "output_type": "stream",
     "text": [
      "INFO:torchnlp.common.train:total_loss: -0.08293256439544537, kl_loss: 0.12533672512681396, nll_loss: 0.10507252334076682\n",
      "INFO:torchnlp.common.train:Train Loss: -0.08293\n",
      "INFO:torchnlp.common.train:Validation metrics:             \n",
      "INFO:torchnlp.common.train:loss=0.25288, acc=0.92778, acc-seq=0.29523, precision=0.84752, recall=0.88345, F1=0.86511\n",
      "INFO:torchnlp.common.model:-------------- Saved checkpoint 1539 --------------\n",
      "  0%|          | 0/81 [00:00<?, ?it/s]INFO:torchnlp.common.train:Epoch 20 (1539)\n",
      "Training:  19%|█▊        | 15/81 [00:00<00:00, 149.27it/s, loss=-.086] "
     ]
    },
    {
     "name": "stdout",
     "output_type": "stream",
     "text": [
      "kl_loss_final: 0.289501842998323, pre_loss : 0.25287667342594694\n"
     ]
    },
    {
     "name": "stderr",
     "output_type": "stream",
     "text": [
      "INFO:torchnlp.common.train:total_loss: -0.08492734917887935, kl_loss: 0.12521005550652375, nll_loss: 0.10288773403491502\n",
      "INFO:torchnlp.common.train:Train Loss: -0.08493\n",
      "INFO:torchnlp.common.train:Validation metrics:             \n",
      "INFO:torchnlp.common.train:loss=0.25925, acc=0.92763, acc-seq=0.31014, precision=0.85069, recall=0.88261, F1=0.86636\n",
      "INFO:torchnlp.common.model:-------------- Saved checkpoint 1620 --------------\n",
      "  0%|          | 0/81 [00:00<?, ?it/s]INFO:torchnlp.common.train:Epoch 21 (1620)\n",
      "Training:  19%|█▊        | 15/81 [00:00<00:00, 141.62it/s, loss=-.0859]"
     ]
    },
    {
     "name": "stdout",
     "output_type": "stream",
     "text": [
      "kl_loss_final: 0.29147898263874505, pre_loss : 0.25924580863543917\n"
     ]
    },
    {
     "name": "stderr",
     "output_type": "stream",
     "text": [
      "INFO:torchnlp.common.train:total_loss: -0.08538573842357707, kl_loss: 0.1251359041090365, nll_loss: 0.10231811682015289\n",
      "INFO:torchnlp.common.train:Train Loss: -0.08539\n",
      "INFO:torchnlp.common.train:Validation metrics:             \n",
      "INFO:torchnlp.common.train:loss=0.25551, acc=0.92671, acc-seq=0.29374, precision=0.84488, recall=0.88190, F1=0.86299\n",
      "INFO:torchnlp.common.model:-------------- Saved checkpoint 1701 --------------\n",
      "  0%|          | 0/81 [00:00<?, ?it/s]INFO:torchnlp.common.train:Epoch 22 (1701)\n",
      "Training:  17%|█▋        | 14/81 [00:00<00:00, 135.09it/s, loss=-.0828]"
     ]
    },
    {
     "name": "stdout",
     "output_type": "stream",
     "text": [
      "kl_loss_final: 0.2912869882725534, pre_loss : 0.25550579882803415\n"
     ]
    },
    {
     "name": "stderr",
     "output_type": "stream",
     "text": [
      "INFO:torchnlp.common.train:total_loss: -0.08683541453914878, kl_loss: 0.12528795252243677, nll_loss: 0.10109651383058524\n",
      "INFO:torchnlp.common.train:Train Loss: -0.08684\n",
      "INFO:torchnlp.common.train:Validation metrics:             \n",
      "INFO:torchnlp.common.train:loss=0.25394, acc=0.92766, acc-seq=0.30268, precision=0.84742, recall=0.88181, F1=0.86428\n",
      "INFO:torchnlp.common.model:-------------- Saved checkpoint 1782 --------------\n",
      "  0%|          | 0/81 [00:00<?, ?it/s]INFO:torchnlp.common.train:Epoch 23 (1782)\n",
      "Training:  19%|█▊        | 15/81 [00:00<00:00, 148.47it/s, loss=-.091] "
     ]
    },
    {
     "name": "stdout",
     "output_type": "stream",
     "text": [
      "kl_loss_final: 0.29224360131082083, pre_loss : 0.2539354080245608\n"
     ]
    },
    {
     "name": "stderr",
     "output_type": "stream",
     "text": [
      "INFO:torchnlp.common.train:total_loss: -0.08915892556125735, kl_loss: 0.12561588421647932, nll_loss: 0.09926490099341781\n",
      "INFO:torchnlp.common.train:Train Loss: -0.08916\n",
      "INFO:torchnlp.common.train:Validation metrics:             \n",
      "INFO:torchnlp.common.train:loss=0.25045, acc=0.92916, acc-seq=0.30119, precision=0.85149, recall=0.88605, F1=0.86843\n",
      "INFO:torchnlp.common.model:-------------- Saved checkpoint 1863 --------------\n",
      "  0%|          | 0/81 [00:00<?, ?it/s]INFO:torchnlp.common.train:Epoch 24 (1863)\n",
      "Training:  19%|█▊        | 15/81 [00:00<00:00, 146.15it/s, loss=-.0887]"
     ]
    },
    {
     "name": "stdout",
     "output_type": "stream",
     "text": [
      "kl_loss_final: 0.29224193734782083, pre_loss : 0.2504509843531109\n"
     ]
    },
    {
     "name": "stderr",
     "output_type": "stream",
     "text": [
      "INFO:torchnlp.common.train:total_loss: -0.08897422033327597, kl_loss: 0.12558891403454323, nll_loss: 0.09940915085651257\n",
      "INFO:torchnlp.common.train:Train Loss: -0.08897\n",
      "INFO:torchnlp.common.train:Validation metrics:             \n",
      "INFO:torchnlp.common.train:loss=0.24972, acc=0.93107, acc-seq=0.31610, precision=0.85829, recall=0.88848, F1=0.87312\n",
      "INFO:torchnlp.common.model:-------------- Saved checkpoint 1944 --------------\n",
      "  0%|          | 0/81 [00:00<?, ?it/s]INFO:torchnlp.common.train:Epoch 25 (1944)\n",
      "Training:  19%|█▊        | 15/81 [00:00<00:00, 145.42it/s, loss=-.0945]"
     ]
    },
    {
     "name": "stdout",
     "output_type": "stream",
     "text": [
      "kl_loss_final: 0.2908038060579981, pre_loss : 0.24971810905706315\n"
     ]
    },
    {
     "name": "stderr",
     "output_type": "stream",
     "text": [
      "INFO:torchnlp.common.train:total_loss: -0.09070875771619656, kl_loss: 0.12557135632744543, nll_loss: 0.09764827686695406\n",
      "INFO:torchnlp.common.train:Train Loss: -0.09071\n",
      "INFO:torchnlp.common.train:Validation metrics:             \n",
      "INFO:torchnlp.common.train:loss=0.25006, acc=0.92973, acc-seq=0.30567, precision=0.85343, recall=0.88542, F1=0.86913\n",
      "INFO:torchnlp.common.model:-------------- Saved checkpoint 2025 --------------\n",
      "  0%|          | 0/81 [00:00<?, ?it/s]INFO:torchnlp.common.train:Epoch 26 (2025)\n",
      "Training:  17%|█▋        | 14/81 [00:00<00:00, 138.28it/s, loss=-.0913]"
     ]
    },
    {
     "name": "stdout",
     "output_type": "stream",
     "text": [
      "kl_loss_final: 0.2915623915337381, pre_loss : 0.2500624174163455\n"
     ]
    },
    {
     "name": "stderr",
     "output_type": "stream",
     "text": [
      "INFO:torchnlp.common.train:total_loss: -0.09071731953709214, kl_loss: 0.12568542995938548, nll_loss: 0.09781082535599485\n",
      "INFO:torchnlp.common.train:Train Loss: -0.09072\n",
      "INFO:torchnlp.common.train:Validation metrics:             \n",
      "INFO:torchnlp.common.train:loss=0.25601, acc=0.92780, acc-seq=0.29871, precision=0.84910, recall=0.88039, F1=0.86446\n",
      "INFO:torchnlp.common.model:-------------- Saved checkpoint 2106 --------------\n",
      "  0%|          | 0/81 [00:00<?, ?it/s]INFO:torchnlp.common.train:Epoch 27 (2106)\n",
      "Training:  19%|█▊        | 15/81 [00:00<00:00, 137.81it/s, loss=-.0919]"
     ]
    },
    {
     "name": "stdout",
     "output_type": "stream",
     "text": [
      "kl_loss_final: 0.2901222446844691, pre_loss : 0.25601234819207874\n"
     ]
    },
    {
     "name": "stderr",
     "output_type": "stream",
     "text": [
      "INFO:torchnlp.common.train:total_loss: -0.09195623960759905, kl_loss: 0.12578871625441093, nll_loss: 0.09672683440608743\n",
      "INFO:torchnlp.common.train:Train Loss: -0.09196\n",
      "INFO:torchnlp.common.train:Validation metrics:             \n",
      "INFO:torchnlp.common.train:loss=0.25691, acc=0.92844, acc-seq=0.30716, precision=0.84927, recall=0.88492, F1=0.86673\n",
      "INFO:torchnlp.common.model:-------------- Saved checkpoint 2187 --------------\n",
      "  0%|          | 0/81 [00:00<?, ?it/s]INFO:torchnlp.common.train:Epoch 28 (2187)\n",
      "Training:  17%|█▋        | 14/81 [00:00<00:00, 138.25it/s, loss=-.0908]"
     ]
    },
    {
     "name": "stdout",
     "output_type": "stream",
     "text": [
      "kl_loss_final: 0.2940852010533923, pre_loss : 0.2569054975396111\n"
     ]
    },
    {
     "name": "stderr",
     "output_type": "stream",
     "text": [
      "INFO:torchnlp.common.train:total_loss: -0.09162642172089329, kl_loss: 0.12563212721804043, nll_loss: 0.09682176896819362\n",
      "INFO:torchnlp.common.train:Train Loss: -0.09163\n",
      "INFO:torchnlp.common.train:Validation metrics:             \n",
      "INFO:torchnlp.common.train:loss=0.24929, acc=0.93054, acc-seq=0.31362, precision=0.85175, recall=0.88663, F1=0.86884\n",
      "INFO:torchnlp.common.model:-------------- Saved checkpoint 2268 --------------\n",
      "  0%|          | 0/81 [00:00<?, ?it/s]INFO:torchnlp.common.train:Epoch 29 (2268)\n",
      "Training:  20%|█▉        | 16/81 [00:00<00:00, 150.59it/s, loss=-.0969]"
     ]
    },
    {
     "name": "stdout",
     "output_type": "stream",
     "text": [
      "kl_loss_final: 0.29180799353690373, pre_loss : 0.24929473158859072\n"
     ]
    },
    {
     "name": "stderr",
     "output_type": "stream",
     "text": [
      "INFO:torchnlp.common.train:total_loss: -0.09308498610316972, kl_loss: 0.1257535542970822, nll_loss: 0.09554534644624334\n",
      "INFO:torchnlp.common.train:Train Loss: -0.09308\n",
      "INFO:torchnlp.common.train:Validation metrics:             \n",
      "INFO:torchnlp.common.train:loss=0.25570, acc=0.92885, acc-seq=0.31312, precision=0.84859, recall=0.88538, F1=0.86659\n",
      "INFO:torchnlp.common.train:Early stopping at iteration 1944, epoch 23, F1=0.87312\n",
      "  6%|▌         | 5/81 [00:00<00:01, 39.51it/s]"
     ]
    },
    {
     "name": "stdout",
     "output_type": "stream",
     "text": [
      "kl_loss_final: 0.29316445865801405, pre_loss : 0.25570342867147355\n"
     ]
    },
    {
     "name": "stderr",
     "output_type": "stream",
     "text": [
      "INFO:torchnlp.common.train:prediction, and attns for best epoch obtained, release hook\n",
      "INFO:torchnlp.common.train:prediction, and attns for best epoch obtained, release hook\n"
     ]
    },
    {
     "name": "stdout",
     "output_type": "stream",
     "text": [
      "SAVING PREDICTIONS AND ATTENTIONS\n",
      "done /home/zijiao/research/atal/saved_True_/11:32:08.979064/tr_pr_best\n",
      "done /home/zijiao/research/atal/saved_True_/11:32:08.979064/te_pr_best\n",
      "done /home/zijiao/research/atal/saved_True_/11:32:08.979064/tr_attn_best\n",
      "done /home/zijiao/research/atal/saved_True_/11:32:08.979064/te_attn_best\n",
      "LOOK HERE 0.25570342867147355 0.29316445865801405\n"
     ]
    },
    {
     "name": "stderr",
     "output_type": "stream",
     "text": [
      "INFO:torchnlp.data.conll:---------- CONLL 2000 Chunking ---------\n",
      "INFO:torchnlp.data.conll:Train size: 8042\n",
      "INFO:torchnlp.data.conll:Validation size: 894\n",
      "INFO:torchnlp.data.conll:Test size: 2012\n",
      "INFO:torchtext.vocab:Loading vectors from .vector_cache/glove.6B.200d.txt.pt\n",
      "INFO:torchtext.vocab:Loading vectors from .vector_cache/charNgram.txt.pt\n",
      "INFO:torchnlp.data.conll:Input vocab size:19032\n",
      "INFO:torchnlp.data.conll:Tagset size: 25\n",
      "INFO:torchnlp.common.model:\n",
      "Hyperparameters:\n",
      " batch_size=100\n",
      " embedding_size_word=300\n",
      " embedding_size_char=0\n",
      " embedding_size_char_per_word=100\n",
      " embedding_size_tags=100\n",
      " hidden_size=128\n",
      " learning_rate=0.2\n",
      " learning_rate_decay=noam_step\n",
      " max_length=256\n",
      " num_hidden_layers=1\n",
      " dropout=0.2\n",
      " optimizer_adam_beta1=0.9\n",
      " optimizer_adam_beta2=0.98\n",
      " use_crf=False\n",
      " num_heads=4\n",
      " attention_key_channels=0\n",
      " attention_value_channels=0\n",
      " filter_size=128\n",
      " filter_size_char=64\n",
      " input_dropout=0.2\n",
      " attention_dropout=0.2\n",
      " relu_dropout=0.2\n",
      " learning_rate_warmup_steps=500\n",
      " attn_path=./saved\n",
      " adversarial=True\n",
      " lmbda=1.5999999999999996\n",
      " froze=False\n",
      " froze_path=./froze\n",
      "INFO:torchnlp.common.train:Parameters: 140953(trainable), 5709601(non-trainable)\n",
      "INFO:torchnlp.common.train:Early stopping for highest value of validation F1 after 5 epochs\n",
      "  0%|          | 0/81 [00:00<?, ?it/s]INFO:torchnlp.common.train:Epoch 1 (0)\n",
      "INFO:torchnlp.common.train:total_loss: 1.3606065651516857, kl_loss: 0.045764098725753065, nll_loss: 1.4338291257987787\n",
      "INFO:torchnlp.common.train:Train Loss: 1.36061\n",
      "INFO:torchnlp.common.train:Validation metrics:             \n",
      "INFO:torchnlp.common.train:loss=1.07644, acc=0.62715, acc-seq=0.00000, precision=0.39259, recall=0.42831, F1=0.40967\n",
      "INFO:torchnlp.common.model:-------------- Saved checkpoint 81 --------------\n",
      "  0%|          | 0/81 [00:00<?, ?it/s]INFO:torchnlp.common.train:Epoch 2 (81)\n",
      "Training:  17%|█▋        | 14/81 [00:00<00:00, 136.68it/s, loss=0.363]"
     ]
    },
    {
     "name": "stdout",
     "output_type": "stream",
     "text": [
      "kl_loss_final: 0.17256089707925207, pre_loss : 1.076441160270146\n"
     ]
    },
    {
     "name": "stderr",
     "output_type": "stream",
     "text": [
      "INFO:torchnlp.common.train:total_loss: 0.27672646479842106, kl_loss: 0.08790099611620844, nll_loss: 0.41736806211648164\n",
      "INFO:torchnlp.common.train:Train Loss: 0.27673\n",
      "INFO:torchnlp.common.train:Validation metrics:             \n",
      "INFO:torchnlp.common.train:loss=0.63851, acc=0.75770, acc-seq=0.01243, precision=0.58090, recall=0.66925, F1=0.62195\n",
      "INFO:torchnlp.common.model:-------------- Saved checkpoint 162 --------------\n",
      "  0%|          | 0/81 [00:00<?, ?it/s]INFO:torchnlp.common.train:Epoch 3 (162)\n",
      "Training:  19%|█▊        | 15/81 [00:00<00:00, 142.73it/s, loss=0.152]"
     ]
    },
    {
     "name": "stdout",
     "output_type": "stream",
     "text": [
      "kl_loss_final: 0.21478248032785596, pre_loss : 0.6385147741862706\n"
     ]
    },
    {
     "name": "stderr",
     "output_type": "stream",
     "text": [
      "INFO:torchnlp.common.train:total_loss: 0.13183151608631935, kl_loss: 0.10389064592711719, nll_loss: 0.2980565518876653\n",
      "INFO:torchnlp.common.train:Train Loss: 0.13183\n",
      "INFO:torchnlp.common.train:Validation metrics:             \n",
      "INFO:torchnlp.common.train:loss=0.56701, acc=0.78653, acc-seq=0.02584, precision=0.65607, recall=0.71826, F1=0.68576\n",
      "INFO:torchnlp.common.model:-------------- Saved checkpoint 243 --------------\n",
      "  0%|          | 0/81 [00:00<?, ?it/s]INFO:torchnlp.common.train:Epoch 4 (243)\n",
      "Training:  19%|█▊        | 15/81 [00:00<00:00, 143.42it/s, loss=0.0987]"
     ]
    },
    {
     "name": "stdout",
     "output_type": "stream",
     "text": [
      "kl_loss_final: 0.2509626916476658, pre_loss : 0.5670119637534732\n"
     ]
    },
    {
     "name": "stderr",
     "output_type": "stream",
     "text": [
      "INFO:torchnlp.common.train:total_loss: 0.08543196651670668, kl_loss: 0.11115984903809464, nll_loss: 0.2632877280314763\n",
      "INFO:torchnlp.common.train:Train Loss: 0.08543\n",
      "INFO:torchnlp.common.train:Validation metrics:             \n",
      "INFO:torchnlp.common.train:loss=0.49994, acc=0.81091, acc-seq=0.04274, precision=0.70367, recall=0.76358, F1=0.73240\n",
      "INFO:torchnlp.common.model:-------------- Saved checkpoint 324 --------------\n",
      "  0%|          | 0/81 [00:00<?, ?it/s]INFO:torchnlp.common.train:Epoch 5 (324)\n",
      "Training:  19%|█▊        | 15/81 [00:00<00:00, 145.85it/s, loss=0.0641]"
     ]
    },
    {
     "name": "stdout",
     "output_type": "stream",
     "text": [
      "kl_loss_final: 0.26794986923535663, pre_loss : 0.4999379969778515\n"
     ]
    },
    {
     "name": "stderr",
     "output_type": "stream",
     "text": [
      "INFO:torchnlp.common.train:total_loss: 0.0521460681417842, kl_loss: 0.11564754188796621, nll_loss: 0.23718213814276237\n",
      "INFO:torchnlp.common.train:Train Loss: 0.05215\n",
      "INFO:torchnlp.common.train:Validation metrics:             \n",
      "INFO:torchnlp.common.train:loss=0.41333, acc=0.85089, acc-seq=0.08598, precision=0.70675, recall=0.75679, F1=0.73091\n",
      "INFO:torchnlp.common.model:-------------- Saved checkpoint 405 --------------\n",
      "  0%|          | 0/81 [00:00<?, ?it/s]INFO:torchnlp.common.train:Epoch 6 (405)\n",
      "Training:  19%|█▊        | 15/81 [00:00<00:00, 146.25it/s, loss=0.0133]"
     ]
    },
    {
     "name": "stdout",
     "output_type": "stream",
     "text": [
      "kl_loss_final: 0.27259564293282373, pre_loss : 0.4133260661647433\n"
     ]
    },
    {
     "name": "stderr",
     "output_type": "stream",
     "text": [
      "INFO:torchnlp.common.train:total_loss: -0.005428977954534836, kl_loss: 0.12031811871278433, nll_loss: 0.18708001537087524\n",
      "INFO:torchnlp.common.train:Train Loss: -0.00543\n",
      "INFO:torchnlp.common.train:Validation metrics:             \n",
      "INFO:torchnlp.common.train:loss=0.32542, acc=0.89786, acc-seq=0.18091, precision=0.79042, recall=0.82853, F1=0.80902\n",
      "INFO:torchnlp.common.model:-------------- Saved checkpoint 486 --------------\n",
      "  0%|          | 0/81 [00:00<?, ?it/s]INFO:torchnlp.common.train:Epoch 7 (486)\n",
      "Training:  19%|█▊        | 15/81 [00:00<00:00, 140.59it/s, loss=-.0278]"
     ]
    },
    {
     "name": "stdout",
     "output_type": "stream",
     "text": [
      "kl_loss_final: 0.28157937562181834, pre_loss : 0.3254241035098121\n"
     ]
    },
    {
     "name": "stderr",
     "output_type": "stream",
     "text": [
      "INFO:torchnlp.common.train:total_loss: -0.03413529326150447, kl_loss: 0.12275172162939, nll_loss: 0.16226746417857982\n",
      "INFO:torchnlp.common.train:Train Loss: -0.03414\n",
      "INFO:torchnlp.common.train:Validation metrics:             \n",
      "INFO:torchnlp.common.train:loss=0.29511, acc=0.90823, acc-seq=0.23310, precision=0.81552, recall=0.85402, F1=0.83432\n",
      "INFO:torchnlp.common.model:-------------- Saved checkpoint 567 --------------\n",
      "  0%|          | 0/81 [00:00<?, ?it/s]INFO:torchnlp.common.train:Epoch 8 (567)\n",
      "Training:  17%|█▋        | 14/81 [00:00<00:00, 136.52it/s, loss=-.046] "
     ]
    },
    {
     "name": "stdout",
     "output_type": "stream",
     "text": [
      "kl_loss_final: 0.28764817615350086, pre_loss : 0.2951123175166902\n"
     ]
    },
    {
     "name": "stderr",
     "output_type": "stream",
     "text": [
      "INFO:torchnlp.common.train:total_loss: -0.04869182674605169, kl_loss: 0.12475963203627387, nll_loss: 0.15092358793373462\n",
      "INFO:torchnlp.common.train:Train Loss: -0.04869\n",
      "INFO:torchnlp.common.train:Validation metrics:             \n",
      "INFO:torchnlp.common.train:loss=0.27415, acc=0.91669, acc-seq=0.24404, precision=0.82556, recall=0.86492, F1=0.84478\n",
      "INFO:torchnlp.common.model:-------------- Saved checkpoint 648 --------------\n",
      "  0%|          | 0/81 [00:00<?, ?it/s]INFO:torchnlp.common.train:Epoch 9 (648)\n",
      "Training:  19%|█▊        | 15/81 [00:00<00:00, 149.98it/s, loss=-.0571]"
     ]
    },
    {
     "name": "stdout",
     "output_type": "stream",
     "text": [
      "kl_loss_final: 0.29768103786877226, pre_loss : 0.2741453867583048\n"
     ]
    },
    {
     "name": "stderr",
     "output_type": "stream",
     "text": [
      "INFO:torchnlp.common.train:total_loss: -0.058976687123010185, kl_loss: 0.12651127889568423, nll_loss: 0.14344136260541868\n",
      "INFO:torchnlp.common.train:Train Loss: -0.05898\n",
      "INFO:torchnlp.common.train:Validation metrics:             \n",
      "INFO:torchnlp.common.train:loss=0.27569, acc=0.91566, acc-seq=0.23211, precision=0.83337, recall=0.86454, F1=0.84867\n",
      "INFO:torchnlp.common.model:-------------- Saved checkpoint 729 --------------\n",
      "  0%|          | 0/81 [00:00<?, ?it/s]INFO:torchnlp.common.train:Epoch 10 (729)\n",
      "Training:  19%|█▊        | 15/81 [00:00<00:00, 143.59it/s, loss=-.0636]"
     ]
    },
    {
     "name": "stdout",
     "output_type": "stream",
     "text": [
      "kl_loss_final: 0.30110313565958113, pre_loss : 0.27569451928138733\n"
     ]
    },
    {
     "name": "stderr",
     "output_type": "stream",
     "text": [
      "INFO:torchnlp.common.train:total_loss: -0.0645394413559525, kl_loss: 0.12733890116214752, nll_loss: 0.1392028033733368\n",
      "INFO:torchnlp.common.train:Train Loss: -0.06454\n",
      "INFO:torchnlp.common.train:Validation metrics:             \n",
      "INFO:torchnlp.common.train:loss=0.27808, acc=0.91905, acc-seq=0.26093, precision=0.82841, recall=0.87280, F1=0.85003\n",
      "INFO:torchnlp.common.model:-------------- Saved checkpoint 810 --------------\n",
      "  0%|          | 0/81 [00:00<?, ?it/s]INFO:torchnlp.common.train:Epoch 11 (810)\n",
      "Training:  19%|█▊        | 15/81 [00:00<00:00, 140.88it/s, loss=-.0703]"
     ]
    },
    {
     "name": "stdout",
     "output_type": "stream",
     "text": [
      "kl_loss_final: 0.30240142132554737, pre_loss : 0.2780807316303253\n"
     ]
    },
    {
     "name": "stderr",
     "output_type": "stream",
     "text": [
      "INFO:torchnlp.common.train:total_loss: -0.06912941218894204, kl_loss: 0.12774253139893213, nll_loss: 0.13525864058806572\n",
      "INFO:torchnlp.common.train:Train Loss: -0.06913\n",
      "INFO:torchnlp.common.train:Validation metrics:             \n",
      "INFO:torchnlp.common.train:loss=0.26605, acc=0.92134, acc-seq=0.26889, precision=0.83779, recall=0.87418, F1=0.85560\n",
      "INFO:torchnlp.common.model:-------------- Saved checkpoint 891 --------------\n",
      "  0%|          | 0/81 [00:00<?, ?it/s]INFO:torchnlp.common.train:Epoch 12 (891)\n",
      "Training:  19%|█▊        | 15/81 [00:00<00:00, 141.43it/s, loss=-.0741]"
     ]
    },
    {
     "name": "stdout",
     "output_type": "stream",
     "text": [
      "kl_loss_final: 0.3055266574734733, pre_loss : 0.2660460635310128\n"
     ]
    },
    {
     "name": "stderr",
     "output_type": "stream",
     "text": [
      "INFO:torchnlp.common.train:total_loss: -0.07393364010401714, kl_loss: 0.12809485656979644, nll_loss: 0.1310181333510964\n",
      "INFO:torchnlp.common.train:Train Loss: -0.07393\n",
      "INFO:torchnlp.common.train:Validation metrics:             \n",
      "INFO:torchnlp.common.train:loss=0.26775, acc=0.92111, acc-seq=0.26938, precision=0.84502, recall=0.87594, F1=0.86020\n",
      "INFO:torchnlp.common.model:-------------- Saved checkpoint 972 --------------\n",
      "  0%|          | 0/81 [00:00<?, ?it/s]INFO:torchnlp.common.train:Epoch 13 (972)\n",
      "Training:  19%|█▊        | 15/81 [00:00<00:00, 144.05it/s, loss=-.0774]"
     ]
    },
    {
     "name": "stdout",
     "output_type": "stream",
     "text": [
      "kl_loss_final: 0.30583880096673965, pre_loss : 0.2677480699050994\n"
     ]
    },
    {
     "name": "stderr",
     "output_type": "stream",
     "text": [
      "INFO:torchnlp.common.train:total_loss: -0.07664512750911123, kl_loss: 0.12827824727620607, nll_loss: 0.1286000707819138\n",
      "INFO:torchnlp.common.train:Train Loss: -0.07665\n",
      "INFO:torchnlp.common.train:Validation metrics:             \n",
      "INFO:torchnlp.common.train:loss=0.25799, acc=0.92233, acc-seq=0.27336, precision=0.83951, recall=0.87808, F1=0.85836\n",
      "INFO:torchnlp.common.model:-------------- Saved checkpoint 1053 --------------\n",
      "  0%|          | 0/81 [00:00<?, ?it/s]INFO:torchnlp.common.train:Epoch 14 (1053)\n",
      "Training:  19%|█▊        | 15/81 [00:00<00:00, 147.81it/s, loss=-.0823]"
     ]
    },
    {
     "name": "stdout",
     "output_type": "stream",
     "text": [
      "kl_loss_final: 0.3071108879078002, pre_loss : 0.2579891575234277\n"
     ]
    },
    {
     "name": "stderr",
     "output_type": "stream",
     "text": [
      "INFO:torchnlp.common.train:total_loss: -0.07912839406434401, kl_loss: 0.12871025493483484, nll_loss: 0.12680801648048706\n",
      "INFO:torchnlp.common.train:Train Loss: -0.07913\n",
      "INFO:torchnlp.common.train:Validation metrics:             \n",
      "INFO:torchnlp.common.train:loss=0.26168, acc=0.92264, acc-seq=0.26690, precision=0.84294, recall=0.87666, F1=0.85947\n",
      "INFO:torchnlp.common.model:-------------- Saved checkpoint 1134 --------------\n",
      "  0%|          | 0/81 [00:00<?, ?it/s]INFO:torchnlp.common.train:Epoch 15 (1134)\n",
      "Training:  19%|█▊        | 15/81 [00:00<00:00, 145.54it/s, loss=-.0805]"
     ]
    },
    {
     "name": "stdout",
     "output_type": "stream",
     "text": [
      "kl_loss_final: 0.3077324582707314, pre_loss : 0.26168338102953775\n"
     ]
    },
    {
     "name": "stderr",
     "output_type": "stream",
     "text": [
      "INFO:torchnlp.common.train:total_loss: -0.08228783051908752, kl_loss: 0.12880703365361248, nll_loss: 0.12380342663806161\n",
      "INFO:torchnlp.common.train:Train Loss: -0.08229\n",
      "INFO:torchnlp.common.train:Validation metrics:             \n",
      "INFO:torchnlp.common.train:loss=0.25616, acc=0.92381, acc-seq=0.26640, precision=0.84037, recall=0.87758, F1=0.85857\n",
      "INFO:torchnlp.common.model:-------------- Saved checkpoint 1215 --------------\n",
      "  0%|          | 0/81 [00:00<?, ?it/s]INFO:torchnlp.common.train:Epoch 16 (1215)\n",
      "Training:  20%|█▉        | 16/81 [00:00<00:00, 150.36it/s, loss=-.0894]"
     ]
    },
    {
     "name": "stdout",
     "output_type": "stream",
     "text": [
      "kl_loss_final: 0.3082351503627641, pre_loss : 0.2561579006058829\n"
     ]
    },
    {
     "name": "stderr",
     "output_type": "stream",
     "text": [
      "INFO:torchnlp.common.train:total_loss: -0.08414273249146378, kl_loss: 0.1290862249371446, nll_loss: 0.12239523002026993\n",
      "INFO:torchnlp.common.train:Train Loss: -0.08414\n",
      "INFO:torchnlp.common.train:Validation metrics:             \n",
      "INFO:torchnlp.common.train:loss=0.25500, acc=0.92422, acc-seq=0.28429, precision=0.84540, recall=0.88127, F1=0.86296\n",
      "INFO:torchnlp.common.model:-------------- Saved checkpoint 1296 --------------\n",
      "  0%|          | 0/81 [00:00<?, ?it/s]INFO:torchnlp.common.train:Epoch 17 (1296)\n",
      "Training:  19%|█▊        | 15/81 [00:00<00:00, 143.57it/s, loss=-.0859]"
     ]
    },
    {
     "name": "stdout",
     "output_type": "stream",
     "text": [
      "kl_loss_final: 0.3084686128866105, pre_loss : 0.25500053344737916\n"
     ]
    },
    {
     "name": "stderr",
     "output_type": "stream",
     "text": [
      "INFO:torchnlp.common.train:total_loss: -0.08551213954701836, kl_loss: 0.12927982367483187, nll_loss: 0.12133558204880467\n",
      "INFO:torchnlp.common.train:Train Loss: -0.08551\n",
      "INFO:torchnlp.common.train:Validation metrics:             \n",
      "INFO:torchnlp.common.train:loss=0.25775, acc=0.92467, acc-seq=0.28678, precision=0.84382, recall=0.88001, F1=0.86153\n",
      "INFO:torchnlp.common.model:-------------- Saved checkpoint 1377 --------------\n",
      "  0%|          | 0/81 [00:00<?, ?it/s]INFO:torchnlp.common.train:Epoch 18 (1377)\n",
      "Training:  19%|█▊        | 15/81 [00:00<00:00, 143.45it/s, loss=-.0877]"
     ]
    },
    {
     "name": "stdout",
     "output_type": "stream",
     "text": [
      "kl_loss_final: 0.310621430121717, pre_loss : 0.2577482703186217\n"
     ]
    },
    {
     "name": "stderr",
     "output_type": "stream",
     "text": [
      "INFO:torchnlp.common.train:total_loss: -0.08702916357620263, kl_loss: 0.12926172768628155, nll_loss: 0.1197896045115259\n",
      "INFO:torchnlp.common.train:Train Loss: -0.08703\n",
      "INFO:torchnlp.common.train:Validation metrics:             \n",
      "INFO:torchnlp.common.train:loss=0.25499, acc=0.92548, acc-seq=0.28579, precision=0.84509, recall=0.88332, F1=0.86378\n",
      "INFO:torchnlp.common.model:-------------- Saved checkpoint 1458 --------------\n",
      "  0%|          | 0/81 [00:00<?, ?it/s]INFO:torchnlp.common.train:Epoch 19 (1458)\n",
      "Training:  19%|█▊        | 15/81 [00:00<00:00, 148.05it/s, loss=-.0898]"
     ]
    },
    {
     "name": "stdout",
     "output_type": "stream",
     "text": [
      "kl_loss_final: 0.3097934712256704, pre_loss : 0.2549856471873465\n"
     ]
    },
    {
     "name": "stderr",
     "output_type": "stream",
     "text": [
      "INFO:torchnlp.common.train:total_loss: -0.08875738406254921, kl_loss: 0.12947537538446027, nll_loss: 0.11840322015830028\n",
      "INFO:torchnlp.common.train:Train Loss: -0.08876\n",
      "INFO:torchnlp.common.train:Validation metrics:             \n",
      "INFO:torchnlp.common.train:loss=0.25242, acc=0.92607, acc-seq=0.28181, precision=0.84708, recall=0.88114, F1=0.86378\n",
      "INFO:torchnlp.common.model:-------------- Saved checkpoint 1539 --------------\n",
      "  0%|          | 0/81 [00:00<?, ?it/s]INFO:torchnlp.common.train:Epoch 20 (1539)\n",
      "Training:  17%|█▋        | 14/81 [00:00<00:00, 135.63it/s, loss=-.0903]"
     ]
    },
    {
     "name": "stdout",
     "output_type": "stream",
     "text": [
      "kl_loss_final: 0.31071214555274873, pre_loss : 0.2524221305336271\n"
     ]
    },
    {
     "name": "stderr",
     "output_type": "stream",
     "text": [
      "INFO:torchnlp.common.train:total_loss: -0.09006994199237706, kl_loss: 0.12975877192285326, nll_loss: 0.11754409554931852\n",
      "INFO:torchnlp.common.train:Train Loss: -0.09007\n",
      "INFO:torchnlp.common.train:Validation metrics:             \n",
      "INFO:torchnlp.common.train:loss=0.26105, acc=0.92605, acc-seq=0.28579, precision=0.84396, recall=0.88370, F1=0.86337\n",
      "INFO:torchnlp.common.model:-------------- Saved checkpoint 1620 --------------\n",
      "  0%|          | 0/81 [00:00<?, ?it/s]INFO:torchnlp.common.train:Epoch 21 (1620)\n",
      "Training:  17%|█▋        | 14/81 [00:00<00:00, 139.49it/s, loss=-.0898]"
     ]
    },
    {
     "name": "stdout",
     "output_type": "stream",
     "text": [
      "kl_loss_final: 0.3126292867319925, pre_loss : 0.26105143910362605\n"
     ]
    },
    {
     "name": "stderr",
     "output_type": "stream",
     "text": [
      "INFO:torchnlp.common.train:total_loss: -0.09063730664827206, kl_loss: 0.12979604726956215, nll_loss: 0.11703637269911943\n",
      "INFO:torchnlp.common.train:Train Loss: -0.09064\n",
      "INFO:torchnlp.common.train:Validation metrics:             \n",
      "INFO:torchnlp.common.train:loss=0.25298, acc=0.92634, acc-seq=0.28529, precision=0.84992, recall=0.88202, F1=0.86567\n",
      "INFO:torchnlp.common.model:-------------- Saved checkpoint 1701 --------------\n",
      "  0%|          | 0/81 [00:00<?, ?it/s]INFO:torchnlp.common.train:Epoch 22 (1701)\n",
      "Training:  19%|█▊        | 15/81 [00:00<00:00, 145.29it/s, loss=-.0904]"
     ]
    },
    {
     "name": "stdout",
     "output_type": "stream",
     "text": [
      "kl_loss_final: 0.3112809480655761, pre_loss : 0.2529834657907486\n"
     ]
    },
    {
     "name": "stderr",
     "output_type": "stream",
     "text": [
      "INFO:torchnlp.common.train:total_loss: -0.09178361811755616, kl_loss: 0.1298023760318756, nll_loss: 0.11590018629291911\n",
      "INFO:torchnlp.common.train:Train Loss: -0.09178\n",
      "INFO:torchnlp.common.train:Validation metrics:             \n",
      "INFO:torchnlp.common.train:loss=0.24881, acc=0.92786, acc-seq=0.29076, precision=0.85223, recall=0.88542, F1=0.86850\n",
      "INFO:torchnlp.common.model:-------------- Saved checkpoint 1782 --------------\n",
      "  0%|          | 0/81 [00:00<?, ?it/s]INFO:torchnlp.common.train:Epoch 23 (1782)\n",
      "Training:  17%|█▋        | 14/81 [00:00<00:00, 138.10it/s, loss=-.0911]"
     ]
    },
    {
     "name": "stdout",
     "output_type": "stream",
     "text": [
      "kl_loss_final: 0.31000345448652905, pre_loss : 0.2488134659471966\n"
     ]
    },
    {
     "name": "stderr",
     "output_type": "stream",
     "text": [
      "INFO:torchnlp.common.train:total_loss: -0.09259899567674708, kl_loss: 0.12991636375218263, nll_loss: 0.11526718974849325\n",
      "INFO:torchnlp.common.train:Train Loss: -0.09260\n",
      "INFO:torchnlp.common.train:Validation metrics:             \n",
      "INFO:torchnlp.common.train:loss=0.25433, acc=0.92636, acc-seq=0.30219, precision=0.84445, recall=0.88399, F1=0.86377\n",
      "INFO:torchnlp.common.model:-------------- Saved checkpoint 1863 --------------\n",
      "  0%|          | 0/81 [00:00<?, ?it/s]INFO:torchnlp.common.train:Epoch 24 (1863)\n",
      "Training:  19%|█▊        | 15/81 [00:00<00:00, 142.50it/s, loss=-.0982]"
     ]
    },
    {
     "name": "stdout",
     "output_type": "stream",
     "text": [
      "kl_loss_final: 0.31247685565834954, pre_loss : 0.2543298247314635\n"
     ]
    },
    {
     "name": "stderr",
     "output_type": "stream",
     "text": [
      "INFO:torchnlp.common.train:total_loss: -0.0932286513256438, kl_loss: 0.1300708821710245, nll_loss: 0.11488476368012251\n",
      "INFO:torchnlp.common.train:Train Loss: -0.09323\n",
      "INFO:torchnlp.common.train:Validation metrics:             \n",
      "INFO:torchnlp.common.train:loss=0.25684, acc=0.92694, acc-seq=0.29026, precision=0.84819, recall=0.88496, F1=0.86618\n",
      "INFO:torchnlp.common.model:-------------- Saved checkpoint 1944 --------------\n",
      "  0%|          | 0/81 [00:00<?, ?it/s]INFO:torchnlp.common.train:Epoch 25 (1944)\n",
      "Training:  19%|█▊        | 15/81 [00:00<00:00, 139.54it/s, loss=-.0918]"
     ]
    },
    {
     "name": "stdout",
     "output_type": "stream",
     "text": [
      "kl_loss_final: 0.3126625372540383, pre_loss : 0.25683768519333433\n"
     ]
    },
    {
     "name": "stderr",
     "output_type": "stream",
     "text": [
      "INFO:torchnlp.common.train:total_loss: -0.09412571668256949, kl_loss: 0.13013153559999702, nll_loss: 0.11408474333124397\n",
      "INFO:torchnlp.common.train:Train Loss: -0.09413\n",
      "INFO:torchnlp.common.train:Validation metrics:             \n",
      "INFO:torchnlp.common.train:loss=0.25409, acc=0.92819, acc-seq=0.29573, precision=0.85224, recall=0.88621, F1=0.86889\n",
      "INFO:torchnlp.common.model:-------------- Saved checkpoint 2025 --------------\n",
      "  0%|          | 0/81 [00:00<?, ?it/s]INFO:torchnlp.common.train:Epoch 26 (2025)\n",
      "Training:  19%|█▊        | 15/81 [00:00<00:00, 146.33it/s, loss=-.1]   "
     ]
    },
    {
     "name": "stdout",
     "output_type": "stream",
     "text": [
      "kl_loss_final: 0.31351244910841897, pre_loss : 0.25409095060257686\n"
     ]
    },
    {
     "name": "stderr",
     "output_type": "stream",
     "text": [
      "INFO:torchnlp.common.train:total_loss: -0.0945912269346508, kl_loss: 0.130183646524394, nll_loss: 0.11370261114688567\n",
      "INFO:torchnlp.common.train:Train Loss: -0.09459\n",
      "INFO:torchnlp.common.train:Validation metrics:             \n",
      "INFO:torchnlp.common.train:loss=0.25619, acc=0.92669, acc-seq=0.28926, precision=0.84103, recall=0.88680, F1=0.86331\n",
      "INFO:torchnlp.common.model:-------------- Saved checkpoint 2106 --------------\n",
      "  0%|          | 0/81 [00:00<?, ?it/s]INFO:torchnlp.common.train:Epoch 27 (2106)\n",
      "Training:  19%|█▊        | 15/81 [00:00<00:00, 146.39it/s, loss=-.101] "
     ]
    },
    {
     "name": "stdout",
     "output_type": "stream",
     "text": [
      "kl_loss_final: 0.31418447302920477, pre_loss : 0.25618559973580496\n"
     ]
    },
    {
     "name": "stderr",
     "output_type": "stream",
     "text": [
      "INFO:torchnlp.common.train:total_loss: -0.0961909235259633, kl_loss: 0.1303007819770295, nll_loss: 0.11229033059911964\n",
      "INFO:torchnlp.common.train:Train Loss: -0.09619\n",
      "INFO:torchnlp.common.train:Validation metrics:             \n",
      "INFO:torchnlp.common.train:loss=0.24969, acc=0.92650, acc-seq=0.27982, precision=0.85865, recall=0.88093, F1=0.86965\n",
      "INFO:torchnlp.common.model:-------------- Saved checkpoint 2187 --------------\n",
      "  0%|          | 0/81 [00:00<?, ?it/s]INFO:torchnlp.common.train:Epoch 28 (2187)\n",
      "Training:  19%|█▊        | 15/81 [00:00<00:00, 148.20it/s, loss=-.1]   "
     ]
    },
    {
     "name": "stdout",
     "output_type": "stream",
     "text": [
      "kl_loss_final: 0.31261374127297176, pre_loss : 0.24969232295240676\n"
     ]
    },
    {
     "name": "stderr",
     "output_type": "stream",
     "text": [
      "INFO:torchnlp.common.train:total_loss: -0.09734340987087768, kl_loss: 0.13044176075929476, nll_loss: 0.11136341058177712\n",
      "INFO:torchnlp.common.train:Train Loss: -0.09734\n",
      "INFO:torchnlp.common.train:Validation metrics:             \n",
      "INFO:torchnlp.common.train:loss=0.25339, acc=0.92833, acc-seq=0.30119, precision=0.85081, recall=0.88609, F1=0.86809\n",
      "INFO:torchnlp.common.model:-------------- Saved checkpoint 2268 --------------\n",
      "  0%|          | 0/81 [00:00<?, ?it/s]INFO:torchnlp.common.train:Epoch 29 (2268)\n",
      "Training:  20%|█▉        | 16/81 [00:00<00:00, 151.26it/s, loss=-.098] "
     ]
    },
    {
     "name": "stdout",
     "output_type": "stream",
     "text": [
      "kl_loss_final: 0.3139547315381822, pre_loss : 0.25338983110019137\n"
     ]
    },
    {
     "name": "stderr",
     "output_type": "stream",
     "text": [
      "INFO:torchnlp.common.train:total_loss: -0.0977352496098589, kl_loss: 0.13052840484881106, nll_loss: 0.11111020122045352\n",
      "INFO:torchnlp.common.train:Train Loss: -0.09774\n",
      "INFO:torchnlp.common.train:Validation metrics:             \n",
      "INFO:torchnlp.common.train:loss=0.25620, acc=0.92790, acc-seq=0.29423, precision=0.85624, recall=0.88525, F1=0.87051\n",
      "INFO:torchnlp.common.model:-------------- Saved checkpoint 2349 --------------\n",
      "  0%|          | 0/81 [00:00<?, ?it/s]INFO:torchnlp.common.train:Epoch 30 (2349)\n",
      "Training:  19%|█▊        | 15/81 [00:00<00:00, 143.99it/s, loss=-.0969]"
     ]
    },
    {
     "name": "stdout",
     "output_type": "stream",
     "text": [
      "kl_loss_final: 0.31406834224859875, pre_loss : 0.25620096105904805\n"
     ]
    },
    {
     "name": "stderr",
     "output_type": "stream",
     "text": [
      "INFO:torchnlp.common.train:total_loss: -0.09789822002251942, kl_loss: 0.1305469109872241, nll_loss: 0.11097684097878727\n",
      "INFO:torchnlp.common.train:Train Loss: -0.09790\n",
      "INFO:torchnlp.common.train:Validation metrics:             \n",
      "INFO:torchnlp.common.train:loss=0.25059, acc=0.92706, acc-seq=0.30318, precision=0.84906, recall=0.88341, F1=0.86589\n",
      "INFO:torchnlp.common.model:-------------- Saved checkpoint 2430 --------------\n",
      "  0%|          | 0/81 [00:00<?, ?it/s]INFO:torchnlp.common.train:Epoch 31 (2430)\n",
      "Training:  19%|█▊        | 15/81 [00:00<00:00, 144.31it/s, loss=-.0966]"
     ]
    },
    {
     "name": "stdout",
     "output_type": "stream",
     "text": [
      "kl_loss_final: 0.3151060286022368, pre_loss : 0.250588809805257\n"
     ]
    },
    {
     "name": "stderr",
     "output_type": "stream",
     "text": [
      "INFO:torchnlp.common.train:total_loss: -0.098572570140715, kl_loss: 0.13058310241242985, nll_loss: 0.11036039658902604\n",
      "INFO:torchnlp.common.train:Train Loss: -0.09857\n",
      "INFO:torchnlp.common.train:Validation metrics:             \n",
      "INFO:torchnlp.common.train:loss=0.25437, acc=0.92531, acc-seq=0.27286, precision=0.85429, recall=0.87829, F1=0.86613\n",
      "INFO:torchnlp.common.model:-------------- Saved checkpoint 2511 --------------\n",
      "  0%|          | 0/81 [00:00<?, ?it/s]INFO:torchnlp.common.train:Epoch 32 (2511)\n",
      "Training:  19%|█▊        | 15/81 [00:00<00:00, 149.03it/s, loss=-.107]"
     ]
    },
    {
     "name": "stdout",
     "output_type": "stream",
     "text": [
      "kl_loss_final: 0.3148185756234896, pre_loss : 0.25436842299643014\n"
     ]
    },
    {
     "name": "stderr",
     "output_type": "stream",
     "text": [
      "INFO:torchnlp.common.train:total_loss: -0.0991150834310202, kl_loss: 0.13058920977292238, nll_loss: 0.10982765468918247\n",
      "INFO:torchnlp.common.train:Train Loss: -0.09912\n",
      "INFO:torchnlp.common.train:Validation metrics:             \n",
      "INFO:torchnlp.common.train:loss=0.25164, acc=0.92825, acc-seq=0.29324, precision=0.85149, recall=0.88651, F1=0.86865\n",
      "INFO:torchnlp.common.model:-------------- Saved checkpoint 2592 --------------\n",
      "  0%|          | 0/81 [00:00<?, ?it/s]INFO:torchnlp.common.train:Epoch 33 (2592)\n",
      "Training:  19%|█▊        | 15/81 [00:00<00:00, 140.74it/s, loss=-.101] "
     ]
    },
    {
     "name": "stdout",
     "output_type": "stream",
     "text": [
      "kl_loss_final: 0.3150432691687629, pre_loss : 0.2516413121705964\n"
     ]
    },
    {
     "name": "stderr",
     "output_type": "stream",
     "text": [
      "INFO:torchnlp.common.train:total_loss: -0.09873148697761842, kl_loss: 0.1306210541062885, nll_loss: 0.11026220336372469\n",
      "INFO:torchnlp.common.train:Train Loss: -0.09873\n",
      "INFO:torchnlp.common.train:Validation metrics:             \n",
      "INFO:torchnlp.common.train:loss=0.24951, acc=0.92825, acc-seq=0.29970, precision=0.85274, recall=0.88492, F1=0.86853\n",
      "INFO:torchnlp.common.model:-------------- Saved checkpoint 2673 --------------\n",
      "  0%|          | 0/81 [00:00<?, ?it/s]INFO:torchnlp.common.train:Epoch 34 (2673)\n",
      "Training:  17%|█▋        | 14/81 [00:00<00:00, 139.05it/s, loss=-.1]   "
     ]
    },
    {
     "name": "stdout",
     "output_type": "stream",
     "text": [
      "kl_loss_final: 0.3153254932590893, pre_loss : 0.24950557024705977\n"
     ]
    },
    {
     "name": "stderr",
     "output_type": "stream",
     "text": [
      "INFO:torchnlp.common.train:total_loss: -0.09915400673577815, kl_loss: 0.13069796295445643, nll_loss: 0.10996273665884394\n",
      "INFO:torchnlp.common.train:Train Loss: -0.09915\n",
      "INFO:torchnlp.common.train:Validation metrics:             \n",
      "INFO:torchnlp.common.train:loss=0.25134, acc=0.92823, acc-seq=0.30119, precision=0.85622, recall=0.88584, F1=0.87078\n",
      "INFO:torchnlp.common.model:-------------- Saved checkpoint 2754 --------------\n",
      "  0%|          | 0/81 [00:00<?, ?it/s]INFO:torchnlp.common.train:Epoch 35 (2754)\n",
      "Training:  19%|█▊        | 15/81 [00:00<00:00, 142.52it/s, loss=-.1]  "
     ]
    },
    {
     "name": "stdout",
     "output_type": "stream",
     "text": [
      "kl_loss_final: 0.31588818274793173, pre_loss : 0.25133708048434483\n"
     ]
    },
    {
     "name": "stderr",
     "output_type": "stream",
     "text": [
      "INFO:torchnlp.common.train:total_loss: -0.10102867160314395, kl_loss: 0.13078426072994867, nll_loss: 0.10822614981436435\n",
      "INFO:torchnlp.common.train:Train Loss: -0.10103\n",
      "INFO:torchnlp.common.train:Validation metrics:             \n",
      "INFO:torchnlp.common.train:loss=0.25110, acc=0.92875, acc-seq=0.29473, precision=0.85350, recall=0.88441, F1=0.86868\n",
      "INFO:torchnlp.common.model:-------------- Saved checkpoint 2835 --------------\n",
      "  0%|          | 0/81 [00:00<?, ?it/s]INFO:torchnlp.common.train:Epoch 36 (2835)\n",
      "Training:  19%|█▊        | 15/81 [00:00<00:00, 146.18it/s, loss=-.0982]"
     ]
    },
    {
     "name": "stdout",
     "output_type": "stream",
     "text": [
      "kl_loss_final: 0.31639741290183293, pre_loss : 0.25109504021349405\n"
     ]
    },
    {
     "name": "stderr",
     "output_type": "stream",
     "text": [
      "INFO:torchnlp.common.train:total_loss: -0.10111370471156673, kl_loss: 0.1310279679335194, nll_loss: 0.10853104670474559\n",
      "INFO:torchnlp.common.train:Train Loss: -0.10111\n",
      "INFO:torchnlp.common.train:Validation metrics:             \n",
      "INFO:torchnlp.common.train:loss=0.24924, acc=0.92903, acc-seq=0.30567, precision=0.84989, recall=0.88827, F1=0.86866\n",
      "INFO:torchnlp.common.model:-------------- Saved checkpoint 2916 --------------\n",
      "  0%|          | 0/81 [00:00<?, ?it/s]INFO:torchnlp.common.train:Epoch 37 (2916)\n",
      "Training:  17%|█▋        | 14/81 [00:00<00:00, 135.76it/s, loss=-.0989]"
     ]
    },
    {
     "name": "stdout",
     "output_type": "stream",
     "text": [
      "kl_loss_final: 0.3152245527931622, pre_loss : 0.24923765659332275\n"
     ]
    },
    {
     "name": "stderr",
     "output_type": "stream",
     "text": [
      "INFO:torchnlp.common.train:total_loss: -0.10150594255070627, kl_loss: 0.13096063381727832, nll_loss: 0.10803107530982406\n",
      "INFO:torchnlp.common.train:Train Loss: -0.10151\n",
      "INFO:torchnlp.common.train:Validation metrics:             \n",
      "INFO:torchnlp.common.train:loss=0.24708, acc=0.92977, acc-seq=0.29672, precision=0.85552, recall=0.88772, F1=0.87132\n",
      "INFO:torchnlp.common.model:-------------- Saved checkpoint 2997 --------------\n",
      "  0%|          | 0/81 [00:00<?, ?it/s]INFO:torchnlp.common.train:Epoch 38 (2997)\n",
      "Training:  19%|█▊        | 15/81 [00:00<00:00, 143.01it/s, loss=-.102]"
     ]
    },
    {
     "name": "stdout",
     "output_type": "stream",
     "text": [
      "kl_loss_final: 0.3164051089968, pre_loss : 0.2470789218232745\n"
     ]
    },
    {
     "name": "stderr",
     "output_type": "stream",
     "text": [
      "INFO:torchnlp.common.train:total_loss: -0.10174280956939415, kl_loss: 0.13103625537068755, nll_loss: 0.10791520323650336\n",
      "INFO:torchnlp.common.train:Train Loss: -0.10174\n",
      "INFO:torchnlp.common.train:Validation metrics:             \n",
      "INFO:torchnlp.common.train:loss=0.25216, acc=0.92940, acc-seq=0.28926, precision=0.86011, recall=0.88575, F1=0.87275\n",
      "INFO:torchnlp.common.model:-------------- Saved checkpoint 3078 --------------\n",
      "  0%|          | 0/81 [00:00<?, ?it/s]INFO:torchnlp.common.train:Epoch 39 (3078)\n",
      "Training:  17%|█▋        | 14/81 [00:00<00:00, 139.86it/s, loss=-.101]"
     ]
    },
    {
     "name": "stdout",
     "output_type": "stream",
     "text": [
      "kl_loss_final: 0.31766518240883235, pre_loss : 0.25215827638194677\n"
     ]
    },
    {
     "name": "stderr",
     "output_type": "stream",
     "text": [
      "INFO:torchnlp.common.train:total_loss: -0.10168924026283217, kl_loss: 0.13088175047326972, nll_loss: 0.10772156393454399\n",
      "INFO:torchnlp.common.train:Train Loss: -0.10169\n",
      "INFO:torchnlp.common.train:Validation metrics:             \n",
      "INFO:torchnlp.common.train:loss=0.24591, acc=0.93031, acc-seq=0.30219, precision=0.85592, recall=0.88965, F1=0.87246\n",
      "INFO:torchnlp.common.model:-------------- Saved checkpoint 3159 --------------\n",
      "  0%|          | 0/81 [00:00<?, ?it/s]INFO:torchnlp.common.train:Epoch 40 (3159)\n",
      "Training:  19%|█▊        | 15/81 [00:00<00:00, 147.55it/s, loss=-.107]"
     ]
    },
    {
     "name": "stdout",
     "output_type": "stream",
     "text": [
      "kl_loss_final: 0.31625410275799887, pre_loss : 0.24590721939291274\n"
     ]
    },
    {
     "name": "stderr",
     "output_type": "stream",
     "text": [
      "INFO:torchnlp.common.train:total_loss: -0.10234594354291021, kl_loss: 0.13108430683244893, nll_loss: 0.10738895070037724\n",
      "INFO:torchnlp.common.train:Train Loss: -0.10235\n",
      "INFO:torchnlp.common.train:Validation metrics:             \n",
      "INFO:torchnlp.common.train:loss=0.25119, acc=0.92914, acc-seq=0.30915, precision=0.84996, recall=0.88802, F1=0.86857\n",
      "INFO:torchnlp.common.model:-------------- Saved checkpoint 3240 --------------\n",
      "  0%|          | 0/81 [00:00<?, ?it/s]INFO:torchnlp.common.train:Epoch 41 (3240)\n",
      "Training:  19%|█▊        | 15/81 [00:00<00:00, 144.19it/s, loss=-.106]"
     ]
    },
    {
     "name": "stdout",
     "output_type": "stream",
     "text": [
      "kl_loss_final: 0.3164082573992865, pre_loss : 0.2511870768808183\n"
     ]
    },
    {
     "name": "stderr",
     "output_type": "stream",
     "text": [
      "INFO:torchnlp.common.train:total_loss: -0.1036548693606883, kl_loss: 0.1309684490164121, nll_loss: 0.1058946524137332\n",
      "INFO:torchnlp.common.train:Train Loss: -0.10365\n",
      "INFO:torchnlp.common.train:Validation metrics:             \n",
      "INFO:torchnlp.common.train:loss=0.25285, acc=0.92831, acc-seq=0.29970, precision=0.85223, recall=0.88739, F1=0.86945\n",
      "INFO:torchnlp.common.model:-------------- Saved checkpoint 3321 --------------\n",
      "  0%|          | 0/81 [00:00<?, ?it/s]INFO:torchnlp.common.train:Epoch 42 (3321)\n",
      "Training:  19%|█▊        | 15/81 [00:00<00:00, 143.73it/s, loss=-.105]"
     ]
    },
    {
     "name": "stdout",
     "output_type": "stream",
     "text": [
      "kl_loss_final: 0.31711898034527186, pre_loss : 0.25284615620261147\n"
     ]
    },
    {
     "name": "stderr",
     "output_type": "stream",
     "text": [
      "INFO:torchnlp.common.train:total_loss: -0.10310829394025567, kl_loss: 0.13119880395171082, nll_loss: 0.10680979573064381\n",
      "INFO:torchnlp.common.train:Train Loss: -0.10311\n",
      "INFO:torchnlp.common.train:Validation metrics:             \n",
      "INFO:torchnlp.common.train:loss=0.24915, acc=0.92973, acc-seq=0.30368, precision=0.85753, recall=0.88777, F1=0.87239\n",
      "INFO:torchnlp.common.model:-------------- Saved checkpoint 3402 --------------\n",
      "  0%|          | 0/81 [00:00<?, ?it/s]INFO:torchnlp.common.train:Epoch 43 (3402)\n",
      "Training:  17%|█▋        | 14/81 [00:00<00:00, 139.94it/s, loss=-.103]"
     ]
    },
    {
     "name": "stdout",
     "output_type": "stream",
     "text": [
      "kl_loss_final: 0.31693141091437566, pre_loss : 0.24915321526073275\n"
     ]
    },
    {
     "name": "stderr",
     "output_type": "stream",
     "text": [
      "INFO:torchnlp.common.train:total_loss: -0.10324382441647259, kl_loss: 0.13111725283993614, nll_loss: 0.10654378360436287\n",
      "INFO:torchnlp.common.train:Train Loss: -0.10324\n",
      "INFO:torchnlp.common.train:Validation metrics:             \n",
      "INFO:torchnlp.common.train:loss=0.24575, acc=0.92918, acc-seq=0.29473, precision=0.85732, recall=0.88601, F1=0.87143\n",
      "INFO:torchnlp.common.train:Early stopping at iteration 3078, epoch 37, F1=0.87275\n",
      "  2%|▏         | 2/81 [00:00<00:06, 12.62it/s]"
     ]
    },
    {
     "name": "stdout",
     "output_type": "stream",
     "text": [
      "kl_loss_final: 0.31666024525960285, pre_loss : 0.24575252830982208\n"
     ]
    },
    {
     "name": "stderr",
     "output_type": "stream",
     "text": [
      "INFO:torchnlp.common.train:prediction, and attns for best epoch obtained, release hook\n",
      "INFO:torchnlp.common.train:prediction, and attns for best epoch obtained, release hook\n"
     ]
    },
    {
     "name": "stdout",
     "output_type": "stream",
     "text": [
      "SAVING PREDICTIONS AND ATTENTIONS\n",
      "done /home/zijiao/research/atal/saved_True_/11:33:40.047060/tr_pr_best\n",
      "done /home/zijiao/research/atal/saved_True_/11:33:40.047060/te_pr_best\n",
      "done /home/zijiao/research/atal/saved_True_/11:33:40.047060/tr_attn_best\n",
      "done /home/zijiao/research/atal/saved_True_/11:33:40.047060/te_attn_best\n",
      "LOOK HERE 0.24575252830982208 0.31666024525960285\n"
     ]
    },
    {
     "name": "stderr",
     "output_type": "stream",
     "text": [
      "INFO:torchnlp.data.conll:---------- CONLL 2000 Chunking ---------\n",
      "INFO:torchnlp.data.conll:Train size: 8042\n",
      "INFO:torchnlp.data.conll:Validation size: 894\n",
      "INFO:torchnlp.data.conll:Test size: 2012\n",
      "INFO:torchtext.vocab:Loading vectors from .vector_cache/glove.6B.200d.txt.pt\n",
      "INFO:torchtext.vocab:Loading vectors from .vector_cache/charNgram.txt.pt\n",
      "INFO:torchnlp.data.conll:Input vocab size:19032\n",
      "INFO:torchnlp.data.conll:Tagset size: 25\n",
      "INFO:torchnlp.common.model:\n",
      "Hyperparameters:\n",
      " batch_size=100\n",
      " embedding_size_word=300\n",
      " embedding_size_char=0\n",
      " embedding_size_char_per_word=100\n",
      " embedding_size_tags=100\n",
      " hidden_size=128\n",
      " learning_rate=0.2\n",
      " learning_rate_decay=noam_step\n",
      " max_length=256\n",
      " num_hidden_layers=1\n",
      " dropout=0.2\n",
      " optimizer_adam_beta1=0.9\n",
      " optimizer_adam_beta2=0.98\n",
      " use_crf=False\n",
      " num_heads=4\n",
      " attention_key_channels=0\n",
      " attention_value_channels=0\n",
      " filter_size=128\n",
      " filter_size_char=64\n",
      " input_dropout=0.2\n",
      " attention_dropout=0.2\n",
      " relu_dropout=0.2\n",
      " learning_rate_warmup_steps=500\n",
      " attn_path=./saved\n",
      " adversarial=True\n",
      " lmbda=1.6999999999999997\n",
      " froze=False\n",
      " froze_path=./froze\n",
      "INFO:torchnlp.common.train:Parameters: 140953(trainable), 5709601(non-trainable)\n",
      "INFO:torchnlp.common.train:Early stopping for highest value of validation F1 after 5 epochs\n",
      "  0%|          | 0/81 [00:00<?, ?it/s]INFO:torchnlp.common.train:Epoch 1 (0)\n",
      "INFO:torchnlp.common.train:total_loss: 1.2283993907916693, kl_loss: 0.03280652575424792, nll_loss: 1.284170483365471\n",
      "INFO:torchnlp.common.train:Train Loss: 1.22840\n",
      "INFO:torchnlp.common.train:Validation metrics:             \n",
      "INFO:torchnlp.common.train:loss=1.01903, acc=0.66239, acc-seq=0.00199, precision=0.44915, recall=0.47992, F1=0.46402\n",
      "INFO:torchnlp.common.model:-------------- Saved checkpoint 81 --------------\n",
      "  0%|          | 0/81 [00:00<?, ?it/s]INFO:torchnlp.common.train:Epoch 2 (81)\n",
      "Training:  19%|█▊        | 15/81 [00:00<00:00, 143.08it/s, loss=0.362]"
     ]
    },
    {
     "name": "stdout",
     "output_type": "stream",
     "text": [
      "kl_loss_final: 0.1436956524848938, pre_loss : 1.0190331453368777\n"
     ]
    },
    {
     "name": "stderr",
     "output_type": "stream",
     "text": [
      "INFO:torchnlp.common.train:total_loss: 0.273212167215936, kl_loss: 0.07216796449121134, nll_loss: 0.39589770929313\n",
      "INFO:torchnlp.common.train:Train Loss: 0.27321\n",
      "INFO:torchnlp.common.train:Validation metrics:             \n",
      "INFO:torchnlp.common.train:loss=0.64316, acc=0.76624, acc-seq=0.01044, precision=0.64629, recall=0.66854, F1=0.65723\n",
      "INFO:torchnlp.common.model:-------------- Saved checkpoint 162 --------------\n",
      "  0%|          | 0/81 [00:00<?, ?it/s]INFO:torchnlp.common.train:Epoch 3 (162)\n",
      "Training:  19%|█▊        | 15/81 [00:00<00:00, 147.73it/s, loss=0.164]"
     ]
    },
    {
     "name": "stdout",
     "output_type": "stream",
     "text": [
      "kl_loss_final: 0.2096945270895958, pre_loss : 0.6431577290807452\n"
     ]
    },
    {
     "name": "stderr",
     "output_type": "stream",
     "text": [
      "INFO:torchnlp.common.train:total_loss: 0.14116927135137863, kl_loss: 0.08911991790856844, nll_loss: 0.29267313616511265\n",
      "INFO:torchnlp.common.train:Train Loss: 0.14117\n",
      "INFO:torchnlp.common.train:Validation metrics:             \n",
      "INFO:torchnlp.common.train:loss=0.54825, acc=0.78930, acc-seq=0.02783, precision=0.66319, recall=0.72967, F1=0.69484\n",
      "INFO:torchnlp.common.model:-------------- Saved checkpoint 243 --------------\n",
      "  0%|          | 0/81 [00:00<?, ?it/s]INFO:torchnlp.common.train:Epoch 4 (243)\n",
      "Training:  19%|█▊        | 15/81 [00:00<00:00, 147.61it/s, loss=0.112]"
     ]
    },
    {
     "name": "stdout",
     "output_type": "stream",
     "text": [
      "kl_loss_final: 0.2392898453843026, pre_loss : 0.5482460331349146\n"
     ]
    },
    {
     "name": "stderr",
     "output_type": "stream",
     "text": [
      "INFO:torchnlp.common.train:total_loss: 0.09403014127854947, kl_loss: 0.09968833137809495, nll_loss: 0.2635003094687874\n",
      "INFO:torchnlp.common.train:Train Loss: 0.09403\n",
      "INFO:torchnlp.common.train:Validation metrics:             \n",
      "INFO:torchnlp.common.train:loss=0.50507, acc=0.80239, acc-seq=0.03330, precision=0.69615, recall=0.75239, F1=0.72318\n",
      "INFO:torchnlp.common.model:-------------- Saved checkpoint 324 --------------\n",
      "  0%|          | 0/81 [00:00<?, ?it/s]INFO:torchnlp.common.train:Epoch 5 (324)\n",
      "Training:  19%|█▊        | 15/81 [00:00<00:00, 145.37it/s, loss=0.0573]"
     ]
    },
    {
     "name": "stdout",
     "output_type": "stream",
     "text": [
      "kl_loss_final: 0.2603096869729814, pre_loss : 0.5050684327170962\n"
     ]
    },
    {
     "name": "stderr",
     "output_type": "stream",
     "text": [
      "INFO:torchnlp.common.train:total_loss: 0.047324529032648346, kl_loss: 0.11419830756422913, nll_loss: 0.24146165671171965\n",
      "INFO:torchnlp.common.train:Train Loss: 0.04732\n",
      "INFO:torchnlp.common.train:Validation metrics:             \n",
      "INFO:torchnlp.common.train:loss=0.46059, acc=0.81875, acc-seq=0.05368, precision=0.74468, recall=0.76962, F1=0.75694\n",
      "INFO:torchnlp.common.model:-------------- Saved checkpoint 405 --------------\n",
      "  0%|          | 0/81 [00:00<?, ?it/s]INFO:torchnlp.common.train:Epoch 6 (405)\n",
      "Training:  19%|█▊        | 15/81 [00:00<00:00, 146.46it/s, loss=0.0254]"
     ]
    },
    {
     "name": "stdout",
     "output_type": "stream",
     "text": [
      "kl_loss_final: 0.2773667453300385, pre_loss : 0.4605873723824819\n"
     ]
    },
    {
     "name": "stderr",
     "output_type": "stream",
     "text": [
      "INFO:torchnlp.common.train:total_loss: 0.009057760238647461, kl_loss: 0.12021479295727647, nll_loss: 0.21342291416209422\n",
      "INFO:torchnlp.common.train:Train Loss: 0.00906\n",
      "INFO:torchnlp.common.train:Validation metrics:             \n",
      "INFO:torchnlp.common.train:loss=0.39305, acc=0.85677, acc-seq=0.09692, precision=0.75236, recall=0.78782, F1=0.76968\n",
      "INFO:torchnlp.common.model:-------------- Saved checkpoint 486 --------------\n",
      "  0%|          | 0/81 [00:00<?, ?it/s]INFO:torchnlp.common.train:Epoch 7 (486)\n",
      "Training:  14%|█▎        | 11/81 [00:00<00:00, 109.20it/s, loss=-.0162]"
     ]
    },
    {
     "name": "stdout",
     "output_type": "stream",
     "text": [
      "kl_loss_final: 0.28875722771599177, pre_loss : 0.3930481239443734\n"
     ]
    },
    {
     "name": "stderr",
     "output_type": "stream",
     "text": [
      "INFO:torchnlp.common.train:total_loss: -0.03112913438199479, kl_loss: 0.12198070804645986, nll_loss: 0.17623807591052704\n",
      "INFO:torchnlp.common.train:Train Loss: -0.03113\n",
      "INFO:torchnlp.common.train:Validation metrics:             \n",
      "INFO:torchnlp.common.train:loss=0.32380, acc=0.89603, acc-seq=0.17296, precision=0.78549, recall=0.83117, F1=0.80768\n",
      "INFO:torchnlp.common.model:-------------- Saved checkpoint 567 --------------\n",
      "  0%|          | 0/81 [00:00<?, ?it/s]INFO:torchnlp.common.train:Epoch 8 (567)\n",
      "Training:  17%|█▋        | 14/81 [00:00<00:00, 138.57it/s, loss=-.0509]"
     ]
    },
    {
     "name": "stdout",
     "output_type": "stream",
     "text": [
      "kl_loss_final: 0.28484165100824266, pre_loss : 0.3238031261024021\n"
     ]
    },
    {
     "name": "stderr",
     "output_type": "stream",
     "text": [
      "INFO:torchnlp.common.train:total_loss: -0.05705813760006869, kl_loss: 0.12262533145186341, nll_loss: 0.15140493131346172\n",
      "INFO:torchnlp.common.train:Train Loss: -0.05706\n",
      "INFO:torchnlp.common.train:Validation metrics:             \n",
      "INFO:torchnlp.common.train:loss=0.28674, acc=0.90871, acc-seq=0.20924, precision=0.80695, recall=0.84731, F1=0.82664\n",
      "INFO:torchnlp.common.model:-------------- Saved checkpoint 648 --------------\n",
      "  0%|          | 0/81 [00:00<?, ?it/s]INFO:torchnlp.common.train:Epoch 9 (648)\n",
      "Training:  19%|█▊        | 15/81 [00:00<00:00, 142.17it/s, loss=-.0706]"
     ]
    },
    {
     "name": "stdout",
     "output_type": "stream",
     "text": [
      "kl_loss_final: 0.2844869920185634, pre_loss : 0.2867381530148642\n"
     ]
    },
    {
     "name": "stderr",
     "output_type": "stream",
     "text": [
      "INFO:torchnlp.common.train:total_loss: -0.07061232837997837, kl_loss: 0.12335793811965871, nll_loss: 0.13909617277943057\n",
      "INFO:torchnlp.common.train:Train Loss: -0.07061\n",
      "INFO:torchnlp.common.train:Validation metrics:             \n",
      "INFO:torchnlp.common.train:loss=0.28312, acc=0.91369, acc-seq=0.23559, precision=0.80877, recall=0.85414, F1=0.83084\n",
      "INFO:torchnlp.common.model:-------------- Saved checkpoint 729 --------------\n",
      "  0%|          | 0/81 [00:00<?, ?it/s]INFO:torchnlp.common.train:Epoch 10 (729)\n",
      "Training:  20%|█▉        | 16/81 [00:00<00:00, 151.44it/s, loss=-.0793]"
     ]
    },
    {
     "name": "stdout",
     "output_type": "stream",
     "text": [
      "kl_loss_final: 0.2866908379253887, pre_loss : 0.283121719956398\n"
     ]
    },
    {
     "name": "stderr",
     "output_type": "stream",
     "text": [
      "INFO:torchnlp.common.train:total_loss: -0.07943765175195387, kl_loss: 0.12407403411688628, nll_loss: 0.13148821191287335\n",
      "INFO:torchnlp.common.train:Train Loss: -0.07944\n",
      "INFO:torchnlp.common.train:Validation metrics:             \n",
      "INFO:torchnlp.common.train:loss=0.26411, acc=0.91922, acc-seq=0.24404, precision=0.82847, recall=0.86626, F1=0.84694\n",
      "INFO:torchnlp.common.model:-------------- Saved checkpoint 810 --------------\n",
      "  0%|          | 0/81 [00:00<?, ?it/s]INFO:torchnlp.common.train:Epoch 11 (810)\n",
      "Training:  20%|█▉        | 16/81 [00:00<00:00, 153.48it/s, loss=-.0878]"
     ]
    },
    {
     "name": "stdout",
     "output_type": "stream",
     "text": [
      "kl_loss_final: 0.2875028036179997, pre_loss : 0.2641125810997827\n"
     ]
    },
    {
     "name": "stderr",
     "output_type": "stream",
     "text": [
      "INFO:torchnlp.common.train:total_loss: -0.08480123881204629, kl_loss: 0.12398365158357738, nll_loss: 0.12597097511644717\n",
      "INFO:torchnlp.common.train:Train Loss: -0.08480\n",
      "INFO:torchnlp.common.train:Validation metrics:             \n",
      "INFO:torchnlp.common.train:loss=0.27506, acc=0.91768, acc-seq=0.25099, precision=0.82943, recall=0.86907, F1=0.84878\n",
      "INFO:torchnlp.common.model:-------------- Saved checkpoint 891 --------------\n",
      "  0%|          | 0/81 [00:00<?, ?it/s]INFO:torchnlp.common.train:Epoch 12 (891)\n",
      "Training:  19%|█▊        | 15/81 [00:00<00:00, 137.77it/s, loss=-.0884]"
     ]
    },
    {
     "name": "stdout",
     "output_type": "stream",
     "text": [
      "kl_loss_final: 0.29030773966085344, pre_loss : 0.27506268875939505\n"
     ]
    },
    {
     "name": "stderr",
     "output_type": "stream",
     "text": [
      "INFO:torchnlp.common.train:total_loss: -0.0897850916709429, kl_loss: 0.12440902013101696, nll_loss: 0.1217102489353698\n",
      "INFO:torchnlp.common.train:Train Loss: -0.08979\n",
      "INFO:torchnlp.common.train:Validation metrics:             \n",
      "INFO:torchnlp.common.train:loss=0.26572, acc=0.92076, acc-seq=0.25447, precision=0.84067, recall=0.87091, F1=0.85552\n",
      "INFO:torchnlp.common.model:-------------- Saved checkpoint 972 --------------\n",
      "  0%|          | 0/81 [00:00<?, ?it/s]INFO:torchnlp.common.train:Epoch 13 (972)\n",
      "Training:  17%|█▋        | 14/81 [00:00<00:00, 138.16it/s, loss=-.0907]"
     ]
    },
    {
     "name": "stdout",
     "output_type": "stream",
     "text": [
      "kl_loss_final: 0.28902462869882584, pre_loss : 0.2657182826882317\n"
     ]
    },
    {
     "name": "stderr",
     "output_type": "stream",
     "text": [
      "INFO:torchnlp.common.train:total_loss: -0.09305880807432128, kl_loss: 0.12434626398263154, nll_loss: 0.11832984592075702\n",
      "INFO:torchnlp.common.train:Train Loss: -0.09306\n",
      "INFO:torchnlp.common.train:Validation metrics:             \n",
      "INFO:torchnlp.common.train:loss=0.26179, acc=0.92453, acc-seq=0.28231, precision=0.84128, recall=0.87578, F1=0.85818\n",
      "INFO:torchnlp.common.model:-------------- Saved checkpoint 1053 --------------\n",
      "  0%|          | 0/81 [00:00<?, ?it/s]INFO:torchnlp.common.train:Epoch 14 (1053)\n",
      "Training:  17%|█▋        | 14/81 [00:00<00:00, 138.35it/s, loss=-.0974]"
     ]
    },
    {
     "name": "stdout",
     "output_type": "stream",
     "text": [
      "kl_loss_final: 0.29182646778367816, pre_loss : 0.2617874698979514\n"
     ]
    },
    {
     "name": "stderr",
     "output_type": "stream",
     "text": [
      "INFO:torchnlp.common.train:total_loss: -0.09723300238450368, kl_loss: 0.12472131802344028, nll_loss: 0.11479324405943905\n",
      "INFO:torchnlp.common.train:Train Loss: -0.09723\n",
      "INFO:torchnlp.common.train:Validation metrics:             \n",
      "INFO:torchnlp.common.train:loss=0.26148, acc=0.92373, acc-seq=0.27485, precision=0.84226, recall=0.87800, F1=0.85976\n",
      "INFO:torchnlp.common.model:-------------- Saved checkpoint 1134 --------------\n",
      "  0%|          | 0/81 [00:00<?, ?it/s]INFO:torchnlp.common.train:Epoch 15 (1134)\n",
      "Training:  19%|█▊        | 15/81 [00:00<00:00, 142.68it/s, loss=-.1]  "
     ]
    },
    {
     "name": "stdout",
     "output_type": "stream",
     "text": [
      "kl_loss_final: 0.2902553713037854, pre_loss : 0.2614783055725552\n"
     ]
    },
    {
     "name": "stderr",
     "output_type": "stream",
     "text": [
      "INFO:torchnlp.common.train:total_loss: -0.09948139720492893, kl_loss: 0.12489905971803783, nll_loss: 0.11284701029459636\n",
      "INFO:torchnlp.common.train:Train Loss: -0.09948\n",
      "INFO:torchnlp.common.train:Validation metrics:             \n",
      "INFO:torchnlp.common.train:loss=0.26238, acc=0.92179, acc-seq=0.26193, precision=0.83582, recall=0.87448, F1=0.85471\n",
      "INFO:torchnlp.common.model:-------------- Saved checkpoint 1215 --------------\n",
      "  0%|          | 0/81 [00:00<?, ?it/s]INFO:torchnlp.common.train:Epoch 16 (1215)\n",
      "Training:  19%|█▊        | 15/81 [00:00<00:00, 143.88it/s, loss=-.101]"
     ]
    },
    {
     "name": "stdout",
     "output_type": "stream",
     "text": [
      "kl_loss_final: 0.29076453475725084, pre_loss : 0.2623772606963203\n"
     ]
    },
    {
     "name": "stderr",
     "output_type": "stream",
     "text": [
      "INFO:torchnlp.common.train:total_loss: -0.10045697622829014, kl_loss: 0.12487871549379678, nll_loss: 0.11183684622799908\n",
      "INFO:torchnlp.common.train:Train Loss: -0.10046\n",
      "INFO:torchnlp.common.train:Validation metrics:             \n",
      "INFO:torchnlp.common.train:loss=0.26253, acc=0.92471, acc-seq=0.27684, precision=0.83962, recall=0.87842, F1=0.85858\n",
      "INFO:torchnlp.common.model:-------------- Saved checkpoint 1296 --------------\n",
      "  0%|          | 0/81 [00:00<?, ?it/s]INFO:torchnlp.common.train:Epoch 17 (1296)\n",
      "Training:  17%|█▋        | 14/81 [00:00<00:00, 139.79it/s, loss=-.104] "
     ]
    },
    {
     "name": "stdout",
     "output_type": "stream",
     "text": [
      "kl_loss_final: 0.2910291999578476, pre_loss : 0.2625271947610946\n"
     ]
    },
    {
     "name": "stderr",
     "output_type": "stream",
     "text": [
      "INFO:torchnlp.common.train:total_loss: -0.10334806089048032, kl_loss: 0.1251482359237141, nll_loss: 0.10940394633346134\n",
      "INFO:torchnlp.common.train:Train Loss: -0.10335\n",
      "INFO:torchnlp.common.train:Validation metrics:             \n",
      "INFO:torchnlp.common.train:loss=0.25330, acc=0.92685, acc-seq=0.28380, precision=0.85472, recall=0.87955, F1=0.86695\n",
      "INFO:torchnlp.common.model:-------------- Saved checkpoint 1377 --------------\n",
      "  0%|          | 0/81 [00:00<?, ?it/s]INFO:torchnlp.common.train:Epoch 18 (1377)\n",
      "Training:  19%|█▊        | 15/81 [00:00<00:00, 148.21it/s, loss=-.104]"
     ]
    },
    {
     "name": "stdout",
     "output_type": "stream",
     "text": [
      "kl_loss_final: 0.2923458211478733, pre_loss : 0.2533013778073447\n"
     ]
    },
    {
     "name": "stderr",
     "output_type": "stream",
     "text": [
      "INFO:torchnlp.common.train:total_loss: -0.10488389818756669, kl_loss: 0.1254263961756671, nll_loss: 0.10834098083001596\n",
      "INFO:torchnlp.common.train:Train Loss: -0.10488\n",
      "INFO:torchnlp.common.train:Validation metrics:             \n",
      "INFO:torchnlp.common.train:loss=0.25484, acc=0.92529, acc-seq=0.28976, precision=0.84328, recall=0.88093, F1=0.86169\n",
      "INFO:torchnlp.common.model:-------------- Saved checkpoint 1458 --------------\n",
      "  0%|          | 0/81 [00:00<?, ?it/s]INFO:torchnlp.common.train:Epoch 19 (1458)\n",
      "Training:  19%|█▊        | 15/81 [00:00<00:00, 142.27it/s, loss=-.109]"
     ]
    },
    {
     "name": "stdout",
     "output_type": "stream",
     "text": [
      "kl_loss_final: 0.29338890101228443, pre_loss : 0.2548407319755781\n"
     ]
    },
    {
     "name": "stderr",
     "output_type": "stream",
     "text": [
      "INFO:torchnlp.common.train:total_loss: -0.1055462944470806, kl_loss: 0.1253197791951674, nll_loss: 0.10749733595200527\n",
      "INFO:torchnlp.common.train:Train Loss: -0.10555\n",
      "INFO:torchnlp.common.train:Validation metrics:             \n",
      "INFO:torchnlp.common.train:loss=0.25743, acc=0.92675, acc-seq=0.27982, precision=0.85536, recall=0.87716, F1=0.86612\n",
      "INFO:torchnlp.common.model:-------------- Saved checkpoint 1539 --------------\n",
      "  0%|          | 0/81 [00:00<?, ?it/s]INFO:torchnlp.common.train:Epoch 20 (1539)\n",
      "Training:  17%|█▋        | 14/81 [00:00<00:00, 134.95it/s, loss=-.108]"
     ]
    },
    {
     "name": "stdout",
     "output_type": "stream",
     "text": [
      "kl_loss_final: 0.29328687701906475, pre_loss : 0.2574316958586375\n"
     ]
    },
    {
     "name": "stderr",
     "output_type": "stream",
     "text": [
      "INFO:torchnlp.common.train:total_loss: -0.10677676381152353, kl_loss: 0.12562872110693543, nll_loss: 0.10679206831587686\n",
      "INFO:torchnlp.common.train:Train Loss: -0.10678\n",
      "INFO:torchnlp.common.train:Validation metrics:             \n",
      "INFO:torchnlp.common.train:loss=0.25303, acc=0.92770, acc-seq=0.28877, precision=0.85440, recall=0.88274, F1=0.86834\n",
      "INFO:torchnlp.common.model:-------------- Saved checkpoint 1620 --------------\n",
      "  0%|          | 0/81 [00:00<?, ?it/s]INFO:torchnlp.common.train:Epoch 21 (1620)\n",
      "Training:  19%|█▊        | 15/81 [00:00<00:00, 140.64it/s, loss=-.11] "
     ]
    },
    {
     "name": "stdout",
     "output_type": "stream",
     "text": [
      "kl_loss_final: 0.29224035676036564, pre_loss : 0.2530343993788674\n"
     ]
    },
    {
     "name": "stderr",
     "output_type": "stream",
     "text": [
      "INFO:torchnlp.common.train:total_loss: -0.1089261508098355, kl_loss: 0.12538467825930796, nll_loss: 0.10422780797069456\n",
      "INFO:torchnlp.common.train:Train Loss: -0.10893\n",
      "INFO:torchnlp.common.train:Validation metrics:             \n",
      "INFO:torchnlp.common.train:loss=0.25771, acc=0.92692, acc-seq=0.29771, precision=0.84688, recall=0.88139, F1=0.86379\n",
      "INFO:torchnlp.common.model:-------------- Saved checkpoint 1701 --------------\n",
      "  0%|          | 0/81 [00:00<?, ?it/s]INFO:torchnlp.common.train:Epoch 22 (1701)\n",
      "Training:  19%|█▊        | 15/81 [00:00<00:00, 146.80it/s, loss=-.11] "
     ]
    },
    {
     "name": "stdout",
     "output_type": "stream",
     "text": [
      "kl_loss_final: 0.2923193722963333, pre_loss : 0.2577090213696162\n"
     ]
    },
    {
     "name": "stderr",
     "output_type": "stream",
     "text": [
      "INFO:torchnlp.common.train:total_loss: -0.11031658708313365, kl_loss: 0.12536691855869175, nll_loss: 0.10280718102499291\n",
      "INFO:torchnlp.common.train:Train Loss: -0.11032\n",
      "INFO:torchnlp.common.train:Validation metrics:             \n",
      "INFO:torchnlp.common.train:loss=0.25446, acc=0.92846, acc-seq=0.30169, precision=0.84602, recall=0.88642, F1=0.86575\n",
      "INFO:torchnlp.common.model:-------------- Saved checkpoint 1782 --------------\n",
      "  0%|          | 0/81 [00:00<?, ?it/s]INFO:torchnlp.common.train:Epoch 23 (1782)\n",
      "Training:  19%|█▊        | 15/81 [00:00<00:00, 143.06it/s, loss=-.11] "
     ]
    },
    {
     "name": "stdout",
     "output_type": "stream",
     "text": [
      "kl_loss_final: 0.29287960735105334, pre_loss : 0.25446072433676037\n"
     ]
    },
    {
     "name": "stderr",
     "output_type": "stream",
     "text": [
      "INFO:torchnlp.common.train:total_loss: -0.11130412180482606, kl_loss: 0.12564020640688178, nll_loss: 0.10228423489096725\n",
      "INFO:torchnlp.common.train:Train Loss: -0.11130\n",
      "INFO:torchnlp.common.train:Validation metrics:             \n",
      "INFO:torchnlp.common.train:loss=0.25877, acc=0.92737, acc-seq=0.29225, precision=0.84823, recall=0.88244, F1=0.86500\n",
      "INFO:torchnlp.common.model:-------------- Saved checkpoint 1863 --------------\n",
      "  0%|          | 0/81 [00:00<?, ?it/s]INFO:torchnlp.common.train:Epoch 24 (1863)\n",
      "Training:  20%|█▉        | 16/81 [00:00<00:00, 151.22it/s, loss=-.115]"
     ]
    },
    {
     "name": "stdout",
     "output_type": "stream",
     "text": [
      "kl_loss_final: 0.2932666238574755, pre_loss : 0.25876789007868084\n"
     ]
    },
    {
     "name": "stderr",
     "output_type": "stream",
     "text": [
      "INFO:torchnlp.common.train:total_loss: -0.11285515828633014, kl_loss: 0.1256302982384776, nll_loss: 0.1007163554062078\n",
      "INFO:torchnlp.common.train:Train Loss: -0.11286\n",
      "INFO:torchnlp.common.train:Validation metrics:             \n",
      "INFO:torchnlp.common.train:loss=0.26085, acc=0.92749, acc-seq=0.29771, precision=0.84932, recall=0.88194, F1=0.86532\n",
      "INFO:torchnlp.common.model:-------------- Saved checkpoint 1944 --------------\n",
      "  0%|          | 0/81 [00:00<?, ?it/s]INFO:torchnlp.common.train:Epoch 25 (1944)\n",
      "Training:  20%|█▉        | 16/81 [00:00<00:00, 152.42it/s, loss=-.117]"
     ]
    },
    {
     "name": "stdout",
     "output_type": "stream",
     "text": [
      "kl_loss_final: 0.294188790732906, pre_loss : 0.26084895573911215\n"
     ]
    },
    {
     "name": "stderr",
     "output_type": "stream",
     "text": [
      "INFO:torchnlp.common.train:total_loss: -0.11236292178984042, kl_loss: 0.1256579848719232, nll_loss: 0.10125565804817059\n",
      "INFO:torchnlp.common.train:Train Loss: -0.11236\n",
      "INFO:torchnlp.common.train:Validation metrics:             \n",
      "INFO:torchnlp.common.train:loss=0.25237, acc=0.92825, acc-seq=0.29076, precision=0.85540, recall=0.88290, F1=0.86893\n",
      "INFO:torchnlp.common.model:-------------- Saved checkpoint 2025 --------------\n",
      "  0%|          | 0/81 [00:00<?, ?it/s]INFO:torchnlp.common.train:Epoch 26 (2025)\n",
      "Training:  19%|█▊        | 15/81 [00:00<00:00, 143.92it/s, loss=-.121]"
     ]
    },
    {
     "name": "stdout",
     "output_type": "stream",
     "text": [
      "kl_loss_final: 0.2923097511132558, pre_loss : 0.25236952021008446\n"
     ]
    },
    {
     "name": "stderr",
     "output_type": "stream",
     "text": [
      "INFO:torchnlp.common.train:total_loss: -0.1143767715052322, kl_loss: 0.1255946907180327, nll_loss: 0.09913420916339498\n",
      "INFO:torchnlp.common.train:Train Loss: -0.11438\n",
      "INFO:torchnlp.common.train:Validation metrics:             \n",
      "INFO:torchnlp.common.train:loss=0.25205, acc=0.92949, acc-seq=0.30318, precision=0.85287, recall=0.88584, F1=0.86904\n",
      "INFO:torchnlp.common.model:-------------- Saved checkpoint 2106 --------------\n",
      "  0%|          | 0/81 [00:00<?, ?it/s]INFO:torchnlp.common.train:Epoch 27 (2106)\n",
      "Training:  17%|█▋        | 14/81 [00:00<00:00, 132.35it/s, loss=-.113]"
     ]
    },
    {
     "name": "stdout",
     "output_type": "stream",
     "text": [
      "kl_loss_final: 0.29385045028868173, pre_loss : 0.2520525867030734\n"
     ]
    },
    {
     "name": "stderr",
     "output_type": "stream",
     "text": [
      "INFO:torchnlp.common.train:total_loss: -0.11444439904557334, kl_loss: 0.1257239023660436, nll_loss: 0.09928624092796702\n",
      "INFO:torchnlp.common.train:Train Loss: -0.11444\n",
      "INFO:torchnlp.common.train:Validation metrics:             \n",
      "INFO:torchnlp.common.train:loss=0.24815, acc=0.92908, acc-seq=0.29672, precision=0.85307, recall=0.88580, F1=0.86913\n",
      "INFO:torchnlp.common.model:-------------- Saved checkpoint 2187 --------------\n",
      "  0%|          | 0/81 [00:00<?, ?it/s]INFO:torchnlp.common.train:Epoch 28 (2187)\n",
      "Training:  17%|█▋        | 14/81 [00:00<00:00, 136.35it/s, loss=-.11] "
     ]
    },
    {
     "name": "stdout",
     "output_type": "stream",
     "text": [
      "kl_loss_final: 0.2932847156411126, pre_loss : 0.24814863006273905\n"
     ]
    },
    {
     "name": "stderr",
     "output_type": "stream",
     "text": [
      "INFO:torchnlp.common.train:total_loss: -0.11572377236536992, kl_loss: 0.1257893411833563, nll_loss: 0.09811811314688788\n",
      "INFO:torchnlp.common.train:Train Loss: -0.11572\n",
      "INFO:torchnlp.common.train:Validation metrics:             \n",
      "INFO:torchnlp.common.train:loss=0.25067, acc=0.93126, acc-seq=0.31412, precision=0.85988, recall=0.88844, F1=0.87393\n",
      "INFO:torchnlp.common.model:-------------- Saved checkpoint 2268 --------------\n",
      "  0%|          | 0/81 [00:00<?, ?it/s]INFO:torchnlp.common.train:Epoch 29 (2268)\n",
      "Training:  19%|█▊        | 15/81 [00:00<00:00, 147.73it/s, loss=-.119]"
     ]
    },
    {
     "name": "stdout",
     "output_type": "stream",
     "text": [
      "kl_loss_final: 0.29420855712322963, pre_loss : 0.2506696418637321\n"
     ]
    },
    {
     "name": "stderr",
     "output_type": "stream",
     "text": [
      "INFO:torchnlp.common.train:total_loss: -0.11654141416520249, kl_loss: 0.12586945764444493, nll_loss: 0.09743666989199909\n",
      "INFO:torchnlp.common.train:Train Loss: -0.11654\n",
      "INFO:torchnlp.common.train:Validation metrics:             \n",
      "INFO:torchnlp.common.train:loss=0.24632, acc=0.93093, acc-seq=0.29821, precision=0.85233, recall=0.88856, F1=0.87007\n",
      "INFO:torchnlp.common.model:-------------- Saved checkpoint 2349 --------------\n",
      "  0%|          | 0/81 [00:00<?, ?it/s]INFO:torchnlp.common.train:Epoch 30 (2349)\n",
      "Training:  19%|█▊        | 15/81 [00:00<00:00, 148.73it/s, loss=-.119]"
     ]
    },
    {
     "name": "stdout",
     "output_type": "stream",
     "text": [
      "kl_loss_final: 0.295109833635035, pre_loss : 0.24632151566800617\n"
     ]
    },
    {
     "name": "stderr",
     "output_type": "stream",
     "text": [
      "INFO:torchnlp.common.train:total_loss: -0.11758202139610126, kl_loss: 0.1258980470858974, nll_loss: 0.0964446645460011\n",
      "INFO:torchnlp.common.train:Train Loss: -0.11758\n",
      "INFO:torchnlp.common.train:Validation metrics:             \n",
      "INFO:torchnlp.common.train:loss=0.25168, acc=0.92959, acc-seq=0.30765, precision=0.84891, recall=0.88714, F1=0.86760\n",
      "INFO:torchnlp.common.model:-------------- Saved checkpoint 2430 --------------\n",
      "  0%|          | 0/81 [00:00<?, ?it/s]INFO:torchnlp.common.train:Epoch 31 (2430)\n",
      "Training:  19%|█▊        | 15/81 [00:00<00:00, 141.41it/s, loss=-.112]"
     ]
    },
    {
     "name": "stdout",
     "output_type": "stream",
     "text": [
      "kl_loss_final: 0.29463698856887366, pre_loss : 0.2516822878803526\n"
     ]
    },
    {
     "name": "stderr",
     "output_type": "stream",
     "text": [
      "INFO:torchnlp.common.train:total_loss: -0.11793855872051215, kl_loss: 0.1258680018377893, nll_loss: 0.09603705018022914\n",
      "INFO:torchnlp.common.train:Train Loss: -0.11794\n",
      "INFO:torchnlp.common.train:Validation metrics:             \n",
      "INFO:torchnlp.common.train:loss=0.24993, acc=0.92891, acc-seq=0.29821, precision=0.85528, recall=0.88378, F1=0.86930\n",
      "INFO:torchnlp.common.model:-------------- Saved checkpoint 2511 --------------\n",
      "  0%|          | 0/81 [00:00<?, ?it/s]INFO:torchnlp.common.train:Epoch 32 (2511)\n",
      "Training:  15%|█▍        | 12/81 [00:00<00:00, 119.75it/s, loss=-.119]"
     ]
    },
    {
     "name": "stdout",
     "output_type": "stream",
     "text": [
      "kl_loss_final: 0.29365843037764233, pre_loss : 0.2499254849695024\n"
     ]
    },
    {
     "name": "stderr",
     "output_type": "stream",
     "text": [
      "INFO:torchnlp.common.train:total_loss: -0.11839981358728291, kl_loss: 0.12585788008607465, nll_loss: 0.09555858778364865\n",
      "INFO:torchnlp.common.train:Train Loss: -0.11840\n",
      "INFO:torchnlp.common.train:Validation metrics:             \n",
      "INFO:torchnlp.common.train:loss=0.24003, acc=0.93231, acc-seq=0.31362, precision=0.86118, recall=0.88844, F1=0.87460\n",
      "INFO:torchnlp.common.model:-------------- Saved checkpoint 2592 --------------\n",
      "  0%|          | 0/81 [00:00<?, ?it/s]INFO:torchnlp.common.train:Epoch 33 (2592)\n",
      "Training:  19%|█▊        | 15/81 [00:00<00:00, 145.20it/s, loss=-.125]"
     ]
    },
    {
     "name": "stdout",
     "output_type": "stream",
     "text": [
      "kl_loss_final: 0.2950727088110788, pre_loss : 0.24003480729602633\n"
     ]
    },
    {
     "name": "stderr",
     "output_type": "stream",
     "text": [
      "INFO:torchnlp.common.train:total_loss: -0.11909557557032432, kl_loss: 0.12587571309672463, nll_loss: 0.0948931426729685\n",
      "INFO:torchnlp.common.train:Train Loss: -0.11910\n",
      "INFO:torchnlp.common.train:Validation metrics:             \n",
      "INFO:torchnlp.common.train:loss=0.24248, acc=0.93214, acc-seq=0.30666, precision=0.85991, recall=0.89070, F1=0.87504\n",
      "INFO:torchnlp.common.model:-------------- Saved checkpoint 2673 --------------\n",
      "  0%|          | 0/81 [00:00<?, ?it/s]INFO:torchnlp.common.train:Epoch 34 (2673)\n",
      "Training:  17%|█▋        | 14/81 [00:00<00:00, 136.04it/s, loss=-.12] "
     ]
    },
    {
     "name": "stdout",
     "output_type": "stream",
     "text": [
      "kl_loss_final: 0.2949061141837211, pre_loss : 0.2424757643824532\n"
     ]
    },
    {
     "name": "stderr",
     "output_type": "stream",
     "text": [
      "INFO:torchnlp.common.train:total_loss: -0.12009677999181512, kl_loss: 0.1258532624737716, nll_loss: 0.09385377131862405\n",
      "INFO:torchnlp.common.train:Train Loss: -0.12010\n",
      "INFO:torchnlp.common.train:Validation metrics:             \n",
      "INFO:torchnlp.common.train:loss=0.25059, acc=0.93010, acc-seq=0.32306, precision=0.85232, recall=0.88634, F1=0.86900\n",
      "INFO:torchnlp.common.model:-------------- Saved checkpoint 2754 --------------\n",
      "  0%|          | 0/81 [00:00<?, ?it/s]INFO:torchnlp.common.train:Epoch 35 (2754)\n",
      "Training:  17%|█▋        | 14/81 [00:00<00:00, 135.77it/s, loss=-.12] "
     ]
    },
    {
     "name": "stdout",
     "output_type": "stream",
     "text": [
      "kl_loss_final: 0.29487637820697965, pre_loss : 0.25059179677849724\n"
     ]
    },
    {
     "name": "stderr",
     "output_type": "stream",
     "text": [
      "INFO:torchnlp.common.train:total_loss: -0.1205477566446787, kl_loss: 0.1259412388374776, nll_loss: 0.09355235513713625\n",
      "INFO:torchnlp.common.train:Train Loss: -0.12055\n",
      "INFO:torchnlp.common.train:Validation metrics:             \n",
      "INFO:torchnlp.common.train:loss=0.24969, acc=0.93080, acc-seq=0.30318, precision=0.85166, recall=0.88605, F1=0.86851\n",
      "INFO:torchnlp.common.model:-------------- Saved checkpoint 2835 --------------\n",
      "  0%|          | 0/81 [00:00<?, ?it/s]INFO:torchnlp.common.train:Epoch 36 (2835)\n",
      "Training:  19%|█▊        | 15/81 [00:00<00:00, 139.86it/s, loss=-.119]"
     ]
    },
    {
     "name": "stdout",
     "output_type": "stream",
     "text": [
      "kl_loss_final: 0.2942363761720203, pre_loss : 0.2496941579239709\n"
     ]
    },
    {
     "name": "stderr",
     "output_type": "stream",
     "text": [
      "INFO:torchnlp.common.train:total_loss: -0.1202216296468252, kl_loss: 0.12592757088534626, nll_loss: 0.09385524699349462\n",
      "INFO:torchnlp.common.train:Train Loss: -0.12022\n",
      "INFO:torchnlp.common.train:Validation metrics:             \n",
      "INFO:torchnlp.common.train:loss=0.25117, acc=0.93243, acc-seq=0.31163, precision=0.86397, recall=0.89041, F1=0.87699\n",
      "INFO:torchnlp.common.model:-------------- Saved checkpoint 2916 --------------\n",
      "  0%|          | 0/81 [00:00<?, ?it/s]INFO:torchnlp.common.train:Epoch 37 (2916)\n",
      "Training:  19%|█▊        | 15/81 [00:00<00:00, 144.30it/s, loss=-.119]"
     ]
    },
    {
     "name": "stdout",
     "output_type": "stream",
     "text": [
      "kl_loss_final: 0.2951905259064266, pre_loss : 0.25116763902562006\n"
     ]
    },
    {
     "name": "stderr",
     "output_type": "stream",
     "text": [
      "INFO:torchnlp.common.train:total_loss: -0.12127173480428295, kl_loss: 0.12599966251923714, nll_loss: 0.0929276982759252\n",
      "INFO:torchnlp.common.train:Train Loss: -0.12127\n",
      "INFO:torchnlp.common.train:Validation metrics:             \n",
      "INFO:torchnlp.common.train:loss=0.25180, acc=0.93136, acc-seq=0.30467, precision=0.85896, recall=0.88831, F1=0.87339\n",
      "INFO:torchnlp.common.model:-------------- Saved checkpoint 2997 --------------\n",
      "  0%|          | 0/81 [00:00<?, ?it/s]INFO:torchnlp.common.train:Epoch 38 (2997)\n",
      "Training:  19%|█▊        | 15/81 [00:00<00:00, 148.66it/s, loss=-.122]"
     ]
    },
    {
     "name": "stdout",
     "output_type": "stream",
     "text": [
      "kl_loss_final: 0.29530069090071176, pre_loss : 0.2517976086764109\n"
     ]
    },
    {
     "name": "stderr",
     "output_type": "stream",
     "text": [
      "INFO:torchnlp.common.train:total_loss: -0.12196973545683755, kl_loss: 0.12609563694324022, nll_loss: 0.09239285466847597\n",
      "INFO:torchnlp.common.train:Train Loss: -0.12197\n",
      "INFO:torchnlp.common.train:Validation metrics:             \n",
      "INFO:torchnlp.common.train:loss=0.24912, acc=0.93307, acc-seq=0.32356, precision=0.86365, recall=0.89066, F1=0.87695\n",
      "INFO:torchnlp.common.model:-------------- Saved checkpoint 3078 --------------\n",
      "  0%|          | 0/81 [00:00<?, ?it/s]INFO:torchnlp.common.train:Epoch 39 (3078)\n",
      "Training:  19%|█▊        | 15/81 [00:00<00:00, 144.05it/s, loss=-.127]"
     ]
    },
    {
     "name": "stdout",
     "output_type": "stream",
     "text": [
      "kl_loss_final: 0.29509463622456505, pre_loss : 0.24911655414672124\n"
     ]
    },
    {
     "name": "stderr",
     "output_type": "stream",
     "text": [
      "INFO:torchnlp.common.train:total_loss: -0.12210859523879157, kl_loss: 0.1260920649877301, nll_loss: 0.09224791967390496\n",
      "INFO:torchnlp.common.train:Train Loss: -0.12211\n",
      "INFO:torchnlp.common.train:Validation metrics:             \n",
      "INFO:torchnlp.common.train:loss=0.24729, acc=0.93233, acc-seq=0.31759, precision=0.85512, recall=0.88982, F1=0.87212\n",
      "INFO:torchnlp.common.model:-------------- Saved checkpoint 3159 --------------\n",
      "  0%|          | 0/81 [00:00<?, ?it/s]INFO:torchnlp.common.train:Epoch 40 (3159)\n",
      "Training:  17%|█▋        | 14/81 [00:00<00:00, 138.18it/s, loss=-.125]"
     ]
    },
    {
     "name": "stdout",
     "output_type": "stream",
     "text": [
      "kl_loss_final: 0.2948113378314745, pre_loss : 0.24729120944227492\n"
     ]
    },
    {
     "name": "stderr",
     "output_type": "stream",
     "text": [
      "INFO:torchnlp.common.train:total_loss: -0.12211202627714769, kl_loss: 0.12601019248918252, nll_loss: 0.09210530585712856\n",
      "INFO:torchnlp.common.train:Train Loss: -0.12211\n",
      "INFO:torchnlp.common.train:Validation metrics:             \n",
      "INFO:torchnlp.common.train:loss=0.25239, acc=0.93091, acc-seq=0.31412, precision=0.85386, recall=0.88772, F1=0.87046\n",
      "INFO:torchnlp.common.model:-------------- Saved checkpoint 3240 --------------\n",
      "  0%|          | 0/81 [00:00<?, ?it/s]INFO:torchnlp.common.train:Epoch 41 (3240)\n",
      "Training:  19%|█▊        | 15/81 [00:00<00:00, 144.13it/s, loss=-.121]"
     ]
    },
    {
     "name": "stdout",
     "output_type": "stream",
     "text": [
      "kl_loss_final: 0.2963159531354904, pre_loss : 0.2523893068234126\n"
     ]
    },
    {
     "name": "stderr",
     "output_type": "stream",
     "text": [
      "INFO:torchnlp.common.train:total_loss: -0.12293148822622535, kl_loss: 0.12611314028869441, nll_loss: 0.09146085712644789\n",
      "INFO:torchnlp.common.train:Train Loss: -0.12293\n",
      "INFO:torchnlp.common.train:Validation metrics:             \n",
      "INFO:torchnlp.common.train:loss=0.24874, acc=0.93231, acc-seq=0.31113, precision=0.86140, recall=0.88802, F1=0.87451\n",
      "INFO:torchnlp.common.train:Early stopping at iteration 2916, epoch 35, F1=0.87699\n",
      "  6%|▌         | 5/81 [00:00<00:01, 40.36it/s]"
     ]
    },
    {
     "name": "stdout",
     "output_type": "stream",
     "text": [
      "kl_loss_final: 0.29515462155853, pre_loss : 0.24874107539653778\n"
     ]
    },
    {
     "name": "stderr",
     "output_type": "stream",
     "text": [
      "INFO:torchnlp.common.train:prediction, and attns for best epoch obtained, release hook\n",
      "INFO:torchnlp.common.train:prediction, and attns for best epoch obtained, release hook\n"
     ]
    },
    {
     "name": "stdout",
     "output_type": "stream",
     "text": [
      "SAVING PREDICTIONS AND ATTENTIONS\n",
      "done /home/zijiao/research/atal/saved_True_/11:35:07.857527/tr_pr_best\n",
      "done /home/zijiao/research/atal/saved_True_/11:35:07.857527/te_pr_best\n",
      "done /home/zijiao/research/atal/saved_True_/11:35:07.857527/tr_attn_best\n",
      "done /home/zijiao/research/atal/saved_True_/11:35:07.857527/te_attn_best\n",
      "LOOK HERE 0.24874107539653778 0.29515462155853\n"
     ]
    },
    {
     "name": "stderr",
     "output_type": "stream",
     "text": [
      "INFO:torchnlp.data.conll:---------- CONLL 2000 Chunking ---------\n",
      "INFO:torchnlp.data.conll:Train size: 8042\n",
      "INFO:torchnlp.data.conll:Validation size: 894\n",
      "INFO:torchnlp.data.conll:Test size: 2012\n",
      "INFO:torchtext.vocab:Loading vectors from .vector_cache/glove.6B.200d.txt.pt\n",
      "INFO:torchtext.vocab:Loading vectors from .vector_cache/charNgram.txt.pt\n",
      "INFO:torchnlp.data.conll:Input vocab size:19032\n",
      "INFO:torchnlp.data.conll:Tagset size: 25\n",
      "INFO:torchnlp.common.model:\n",
      "Hyperparameters:\n",
      " batch_size=100\n",
      " embedding_size_word=300\n",
      " embedding_size_char=0\n",
      " embedding_size_char_per_word=100\n",
      " embedding_size_tags=100\n",
      " hidden_size=128\n",
      " learning_rate=0.2\n",
      " learning_rate_decay=noam_step\n",
      " max_length=256\n",
      " num_hidden_layers=1\n",
      " dropout=0.2\n",
      " optimizer_adam_beta1=0.9\n",
      " optimizer_adam_beta2=0.98\n",
      " use_crf=False\n",
      " num_heads=4\n",
      " attention_key_channels=0\n",
      " attention_value_channels=0\n",
      " filter_size=128\n",
      " filter_size_char=64\n",
      " input_dropout=0.2\n",
      " attention_dropout=0.2\n",
      " relu_dropout=0.2\n",
      " learning_rate_warmup_steps=500\n",
      " attn_path=./saved\n",
      " adversarial=True\n",
      " lmbda=1.7999999999999996\n",
      " froze=False\n",
      " froze_path=./froze\n",
      "INFO:torchnlp.common.train:Parameters: 140953(trainable), 5709601(non-trainable)\n",
      "INFO:torchnlp.common.train:Early stopping for highest value of validation F1 after 5 epochs\n",
      "  0%|          | 0/81 [00:00<?, ?it/s]INFO:torchnlp.common.train:Epoch 1 (0)\n",
      "INFO:torchnlp.common.train:total_loss: 1.316055847906772, kl_loss: 0.03695835012160702, nll_loss: 1.3825808818693515\n",
      "INFO:torchnlp.common.train:Train Loss: 1.31606\n",
      "INFO:torchnlp.common.train:Validation metrics:             \n",
      "INFO:torchnlp.common.train:loss=1.00372, acc=0.65785, acc-seq=0.00249, precision=0.43262, recall=0.49396, F1=0.46126\n",
      "INFO:torchnlp.common.model:-------------- Saved checkpoint 81 --------------\n",
      "  0%|          | 0/81 [00:00<?, ?it/s]INFO:torchnlp.common.train:Epoch 2 (81)\n",
      "Training:  19%|█▊        | 15/81 [00:00<00:00, 146.55it/s, loss=0.368]"
     ]
    },
    {
     "name": "stdout",
     "output_type": "stream",
     "text": [
      "kl_loss_final: 0.1752364117474783, pre_loss : 1.0037166391100203\n"
     ]
    },
    {
     "name": "stderr",
     "output_type": "stream",
     "text": [
      "INFO:torchnlp.common.train:total_loss: 0.2743171206962915, kl_loss: 0.07667241351288041, nll_loss: 0.41232746177249485\n",
      "INFO:torchnlp.common.train:Train Loss: 0.27432\n",
      "INFO:torchnlp.common.train:Validation metrics:             \n",
      "INFO:torchnlp.common.train:loss=0.74493, acc=0.73741, acc-seq=0.00547, precision=0.55590, recall=0.64502, F1=0.59715\n",
      "INFO:torchnlp.common.model:-------------- Saved checkpoint 162 --------------\n",
      "  0%|          | 0/81 [00:00<?, ?it/s]INFO:torchnlp.common.train:Epoch 3 (162)\n",
      "Training:  17%|█▋        | 14/81 [00:00<00:00, 138.33it/s, loss=0.16] "
     ]
    },
    {
     "name": "stdout",
     "output_type": "stream",
     "text": [
      "kl_loss_final: 0.2292134105449631, pre_loss : 0.744931141535441\n"
     ]
    },
    {
     "name": "stderr",
     "output_type": "stream",
     "text": [
      "INFO:torchnlp.common.train:total_loss: 0.13309917157446896, kl_loss: 0.0926480703515771, nll_loss: 0.29986569266996266\n",
      "INFO:torchnlp.common.train:Train Loss: 0.13310\n",
      "INFO:torchnlp.common.train:Validation metrics:             \n",
      "INFO:torchnlp.common.train:loss=0.54472, acc=0.78898, acc-seq=0.02386, precision=0.67880, recall=0.71537, F1=0.69661\n",
      "INFO:torchnlp.common.model:-------------- Saved checkpoint 243 --------------\n",
      "  0%|          | 0/81 [00:00<?, ?it/s]INFO:torchnlp.common.train:Epoch 4 (243)\n",
      "Training:  19%|█▊        | 15/81 [00:00<00:00, 147.77it/s, loss=0.0815]"
     ]
    },
    {
     "name": "stdout",
     "output_type": "stream",
     "text": [
      "kl_loss_final: 0.25241152409996304, pre_loss : 0.5447208356289637\n"
     ]
    },
    {
     "name": "stderr",
     "output_type": "stream",
     "text": [
      "INFO:torchnlp.common.train:total_loss: 0.051522583689218686, kl_loss: 0.1046839463122097, nll_loss: 0.23995368164262654\n",
      "INFO:torchnlp.common.train:Train Loss: 0.05152\n",
      "INFO:torchnlp.common.train:Validation metrics:             \n",
      "INFO:torchnlp.common.train:loss=0.37975, acc=0.86727, acc-seq=0.11332, precision=0.75860, recall=0.77998, F1=0.76914\n",
      "INFO:torchnlp.common.model:-------------- Saved checkpoint 324 --------------\n",
      "  0%|          | 0/81 [00:00<?, ?it/s]INFO:torchnlp.common.train:Epoch 5 (324)\n",
      "Training:  17%|█▋        | 14/81 [00:00<00:00, 133.83it/s, loss=0.0049] "
     ]
    },
    {
     "name": "stdout",
     "output_type": "stream",
     "text": [
      "kl_loss_final: 0.27306549428474336, pre_loss : 0.3797491377308255\n"
     ]
    },
    {
     "name": "stderr",
     "output_type": "stream",
     "text": [
      "INFO:torchnlp.common.train:total_loss: -0.012076635419586559, kl_loss: 0.11126856331104114, nll_loss: 0.18820677237746156\n",
      "INFO:torchnlp.common.train:Train Loss: -0.01208\n",
      "INFO:torchnlp.common.train:Validation metrics:             \n",
      "INFO:torchnlp.common.train:loss=0.31766, acc=0.89864, acc-seq=0.19334, precision=0.79303, recall=0.83117, F1=0.81165\n",
      "INFO:torchnlp.common.model:-------------- Saved checkpoint 405 --------------\n",
      "  0%|          | 0/81 [00:00<?, ?it/s]INFO:torchnlp.common.train:Epoch 6 (405)\n",
      "Training:  17%|█▋        | 14/81 [00:00<00:00, 138.15it/s, loss=-.0375]"
     ]
    },
    {
     "name": "stdout",
     "output_type": "stream",
     "text": [
      "kl_loss_final: 0.28472957689137685, pre_loss : 0.3176614478940055\n"
     ]
    },
    {
     "name": "stderr",
     "output_type": "stream",
     "text": [
      "INFO:torchnlp.common.train:total_loss: -0.04603048349604195, kl_loss: 0.1188848932032232, nll_loss: 0.16796231858524274\n",
      "INFO:torchnlp.common.train:Train Loss: -0.04603\n",
      "INFO:torchnlp.common.train:Validation metrics:             \n",
      "INFO:torchnlp.common.train:loss=0.31449, acc=0.90157, acc-seq=0.17396, precision=0.81597, recall=0.82534, F1=0.82063\n",
      "INFO:torchnlp.common.model:-------------- Saved checkpoint 486 --------------\n",
      "  0%|          | 0/81 [00:00<?, ?it/s]INFO:torchnlp.common.train:Epoch 7 (486)\n",
      "Training:  17%|█▋        | 14/81 [00:00<00:00, 139.30it/s, loss=-.0602]"
     ]
    },
    {
     "name": "stdout",
     "output_type": "stream",
     "text": [
      "kl_loss_final: 0.29093396770102636, pre_loss : 0.3144921007610503\n"
     ]
    },
    {
     "name": "stderr",
     "output_type": "stream",
     "text": [
      "INFO:torchnlp.common.train:total_loss: -0.06462899751869249, kl_loss: 0.12390452825728758, nll_loss: 0.1583991477518906\n",
      "INFO:torchnlp.common.train:Train Loss: -0.06463\n",
      "INFO:torchnlp.common.train:Validation metrics:             \n",
      "INFO:torchnlp.common.train:loss=0.29420, acc=0.91008, acc-seq=0.23757, precision=0.80902, recall=0.85603, F1=0.83186\n",
      "INFO:torchnlp.common.model:-------------- Saved checkpoint 567 --------------\n",
      "  0%|          | 0/81 [00:00<?, ?it/s]INFO:torchnlp.common.train:Epoch 8 (567)\n",
      "Training:  17%|█▋        | 14/81 [00:00<00:00, 138.67it/s, loss=-.071] "
     ]
    },
    {
     "name": "stdout",
     "output_type": "stream",
     "text": [
      "kl_loss_final: 0.29757776324238094, pre_loss : 0.2942037561110088\n"
     ]
    },
    {
     "name": "stderr",
     "output_type": "stream",
     "text": [
      "INFO:torchnlp.common.train:total_loss: -0.07794226549657775, kl_loss: 0.12569579270518857, nll_loss: 0.14831015605617454\n",
      "INFO:torchnlp.common.train:Train Loss: -0.07794\n",
      "INFO:torchnlp.common.train:Validation metrics:             \n",
      "INFO:torchnlp.common.train:loss=0.27682, acc=0.91410, acc-seq=0.22316, precision=0.82854, recall=0.86001, F1=0.84398\n",
      "INFO:torchnlp.common.model:-------------- Saved checkpoint 648 --------------\n",
      "  0%|          | 0/81 [00:00<?, ?it/s]INFO:torchnlp.common.train:Epoch 9 (648)\n",
      "Training:  19%|█▊        | 15/81 [00:00<00:00, 148.54it/s, loss=-.0886]"
     ]
    },
    {
     "name": "stdout",
     "output_type": "stream",
     "text": [
      "kl_loss_final: 0.30339718893879936, pre_loss : 0.27682161756924223\n"
     ]
    },
    {
     "name": "stderr",
     "output_type": "stream",
     "text": [
      "INFO:torchnlp.common.train:total_loss: -0.08553655804307372, kl_loss: 0.1263958525694447, nll_loss: 0.14197597137571852\n",
      "INFO:torchnlp.common.train:Train Loss: -0.08554\n",
      "INFO:torchnlp.common.train:Validation metrics:             \n",
      "INFO:torchnlp.common.train:loss=0.27224, acc=0.91679, acc-seq=0.24354, precision=0.82687, recall=0.86659, F1=0.84626\n",
      "INFO:torchnlp.common.model:-------------- Saved checkpoint 729 --------------\n",
      "  0%|          | 0/81 [00:00<?, ?it/s]INFO:torchnlp.common.train:Epoch 10 (729)\n",
      "Training:  19%|█▊        | 15/81 [00:00<00:00, 143.09it/s, loss=-.0925]"
     ]
    },
    {
     "name": "stdout",
     "output_type": "stream",
     "text": [
      "kl_loss_final: 0.3041204327628726, pre_loss : 0.2722427305721101\n"
     ]
    },
    {
     "name": "stderr",
     "output_type": "stream",
     "text": [
      "INFO:torchnlp.common.train:total_loss: -0.090295588252721, kl_loss: 0.12714972641365027, nll_loss: 0.1385739141224343\n",
      "INFO:torchnlp.common.train:Train Loss: -0.09030\n",
      "INFO:torchnlp.common.train:Validation metrics:             \n",
      "INFO:torchnlp.common.train:loss=0.26809, acc=0.91743, acc-seq=0.24751, precision=0.83171, recall=0.86693, F1=0.84896\n",
      "INFO:torchnlp.common.model:-------------- Saved checkpoint 810 --------------\n",
      "  0%|          | 0/81 [00:00<?, ?it/s]INFO:torchnlp.common.train:Epoch 11 (810)\n",
      "Training:  19%|█▊        | 15/81 [00:00<00:00, 141.53it/s, loss=-.095] "
     ]
    },
    {
     "name": "stdout",
     "output_type": "stream",
     "text": [
      "kl_loss_final: 0.305854191382726, pre_loss : 0.2680870677743639\n"
     ]
    },
    {
     "name": "stderr",
     "output_type": "stream",
     "text": [
      "INFO:torchnlp.common.train:total_loss: -0.09452479121125774, kl_loss: 0.12753643996921588, nll_loss: 0.1350407949016418\n",
      "INFO:torchnlp.common.train:Train Loss: -0.09452\n",
      "INFO:torchnlp.common.train:Validation metrics:             \n",
      "INFO:torchnlp.common.train:loss=0.26684, acc=0.91673, acc-seq=0.23807, precision=0.82591, recall=0.86479, F1=0.84490\n",
      "INFO:torchnlp.common.model:-------------- Saved checkpoint 891 --------------\n",
      "  0%|          | 0/81 [00:00<?, ?it/s]INFO:torchnlp.common.train:Epoch 12 (891)\n",
      "Training:  17%|█▋        | 14/81 [00:00<00:00, 133.85it/s, loss=-.0986]"
     ]
    },
    {
     "name": "stdout",
     "output_type": "stream",
     "text": [
      "kl_loss_final: 0.30770801717326757, pre_loss : 0.2668434473730269\n"
     ]
    },
    {
     "name": "stderr",
     "output_type": "stream",
     "text": [
      "INFO:torchnlp.common.train:total_loss: -0.09924954700249213, kl_loss: 0.1280455854203966, nll_loss: 0.13123250090413624\n",
      "INFO:torchnlp.common.train:Train Loss: -0.09925\n",
      "INFO:torchnlp.common.train:Validation metrics:             \n",
      "INFO:torchnlp.common.train:loss=0.26476, acc=0.91996, acc-seq=0.26541, precision=0.83405, recall=0.87364, F1=0.85339\n",
      "INFO:torchnlp.common.model:-------------- Saved checkpoint 972 --------------\n",
      "  0%|          | 0/81 [00:00<?, ?it/s]INFO:torchnlp.common.train:Epoch 13 (972)\n",
      "Training:  19%|█▊        | 15/81 [00:00<00:00, 142.87it/s, loss=-.106]"
     ]
    },
    {
     "name": "stdout",
     "output_type": "stream",
     "text": [
      "kl_loss_final: 0.30753671661728904, pre_loss : 0.26476279610679265\n"
     ]
    },
    {
     "name": "stderr",
     "output_type": "stream",
     "text": [
      "INFO:torchnlp.common.train:total_loss: -0.10197843270905224, kl_loss: 0.1284329962031341, nll_loss: 0.12920095596784426\n",
      "INFO:torchnlp.common.train:Train Loss: -0.10198\n",
      "INFO:torchnlp.common.train:Validation metrics:             \n",
      "INFO:torchnlp.common.train:loss=0.26190, acc=0.92239, acc-seq=0.25746, precision=0.84050, recall=0.87334, F1=0.85661\n",
      "INFO:torchnlp.common.model:-------------- Saved checkpoint 1053 --------------\n",
      "  0%|          | 0/81 [00:00<?, ?it/s]INFO:torchnlp.common.train:Epoch 14 (1053)\n",
      "Training:  19%|█▊        | 15/81 [00:00<00:00, 147.30it/s, loss=-.108]"
     ]
    },
    {
     "name": "stdout",
     "output_type": "stream",
     "text": [
      "kl_loss_final: 0.3104133098607972, pre_loss : 0.2618950420901889\n"
     ]
    },
    {
     "name": "stderr",
     "output_type": "stream",
     "text": [
      "INFO:torchnlp.common.train:total_loss: -0.10456460254427827, kl_loss: 0.12897380652986926, nll_loss: 0.12758824312024647\n",
      "INFO:torchnlp.common.train:Train Loss: -0.10456\n",
      "INFO:torchnlp.common.train:Validation metrics:             \n",
      "INFO:torchnlp.common.train:loss=0.26544, acc=0.92226, acc-seq=0.27237, precision=0.83733, recall=0.87833, F1=0.85734\n",
      "INFO:torchnlp.common.model:-------------- Saved checkpoint 1134 --------------\n",
      "  0%|          | 0/81 [00:00<?, ?it/s]INFO:torchnlp.common.train:Epoch 15 (1134)\n",
      "Training:  19%|█▊        | 15/81 [00:00<00:00, 143.78it/s, loss=-.111]"
     ]
    },
    {
     "name": "stdout",
     "output_type": "stream",
     "text": [
      "kl_loss_final: 0.31139114818402697, pre_loss : 0.2654402227628799\n"
     ]
    },
    {
     "name": "stderr",
     "output_type": "stream",
     "text": [
      "INFO:torchnlp.common.train:total_loss: -0.10712109322165266, kl_loss: 0.12920312923781666, nll_loss: 0.12544453236055964\n",
      "INFO:torchnlp.common.train:Train Loss: -0.10712\n",
      "INFO:torchnlp.common.train:Validation metrics:             \n",
      "INFO:torchnlp.common.train:loss=0.26860, acc=0.92120, acc-seq=0.25845, precision=0.84686, recall=0.87544, F1=0.86091\n",
      "INFO:torchnlp.common.model:-------------- Saved checkpoint 1215 --------------\n",
      "  0%|          | 0/81 [00:00<?, ?it/s]INFO:torchnlp.common.train:Epoch 16 (1215)\n",
      "Training:  15%|█▍        | 12/81 [00:00<00:00, 118.26it/s, loss=-.109]"
     ]
    },
    {
     "name": "stdout",
     "output_type": "stream",
     "text": [
      "kl_loss_final: 0.31285310607580913, pre_loss : 0.2685976361944562\n"
     ]
    },
    {
     "name": "stderr",
     "output_type": "stream",
     "text": [
      "INFO:torchnlp.common.train:total_loss: -0.10895809476022367, kl_loss: 0.12959984837122906, nll_loss: 0.12432162518854495\n",
      "INFO:torchnlp.common.train:Train Loss: -0.10896\n",
      "INFO:torchnlp.common.train:Validation metrics:             \n",
      "INFO:torchnlp.common.train:loss=0.26449, acc=0.92144, acc-seq=0.25447, precision=0.83874, recall=0.87552, F1=0.85674\n",
      "INFO:torchnlp.common.model:-------------- Saved checkpoint 1296 --------------\n",
      "  0%|          | 0/81 [00:00<?, ?it/s]INFO:torchnlp.common.train:Epoch 17 (1296)\n",
      "Training:  19%|█▊        | 15/81 [00:00<00:00, 149.87it/s, loss=-.116]"
     ]
    },
    {
     "name": "stdout",
     "output_type": "stream",
     "text": [
      "kl_loss_final: 0.31518880029519397, pre_loss : 0.26449217540877207\n"
     ]
    },
    {
     "name": "stderr",
     "output_type": "stream",
     "text": [
      "INFO:torchnlp.common.train:total_loss: -0.11015779276688893, kl_loss: 0.12983858888899838, nll_loss: 0.1235516603898119\n",
      "INFO:torchnlp.common.train:Train Loss: -0.11016\n",
      "INFO:torchnlp.common.train:Validation metrics:             \n",
      "INFO:torchnlp.common.train:loss=0.25581, acc=0.92449, acc-seq=0.28032, precision=0.84479, recall=0.88286, F1=0.86340\n",
      "INFO:torchnlp.common.model:-------------- Saved checkpoint 1377 --------------\n",
      "  0%|          | 0/81 [00:00<?, ?it/s]INFO:torchnlp.common.train:Epoch 18 (1377)\n",
      "Training:  17%|█▋        | 14/81 [00:00<00:00, 139.34it/s, loss=-.116]"
     ]
    },
    {
     "name": "stdout",
     "output_type": "stream",
     "text": [
      "kl_loss_final: 0.31588468700647354, pre_loss : 0.2558079078083947\n"
     ]
    },
    {
     "name": "stderr",
     "output_type": "stream",
     "text": [
      "INFO:torchnlp.common.train:total_loss: -0.11263338770763373, kl_loss: 0.13017964970182488, nll_loss: 0.12168997636547794\n",
      "INFO:torchnlp.common.train:Train Loss: -0.11263\n",
      "INFO:torchnlp.common.train:Validation metrics:             \n",
      "INFO:torchnlp.common.train:loss=0.26045, acc=0.92364, acc-seq=0.26541, precision=0.83855, recall=0.87842, F1=0.85802\n",
      "INFO:torchnlp.common.model:-------------- Saved checkpoint 1458 --------------\n",
      "  0%|          | 0/81 [00:00<?, ?it/s]INFO:torchnlp.common.train:Epoch 19 (1458)\n",
      "Training:  19%|█▊        | 15/81 [00:00<00:00, 144.76it/s, loss=-.111]"
     ]
    },
    {
     "name": "stdout",
     "output_type": "stream",
     "text": [
      "kl_loss_final: 0.3157819768502599, pre_loss : 0.26045303472450804\n"
     ]
    },
    {
     "name": "stderr",
     "output_type": "stream",
     "text": [
      "INFO:torchnlp.common.train:total_loss: -0.11381694426139195, kl_loss: 0.13040722014359485, nll_loss: 0.120916045282358\n",
      "INFO:torchnlp.common.train:Train Loss: -0.11382\n",
      "INFO:torchnlp.common.train:Validation metrics:             \n",
      "INFO:torchnlp.common.train:loss=0.26307, acc=0.92235, acc-seq=0.26044, precision=0.84060, recall=0.88018, F1=0.85993\n",
      "INFO:torchnlp.common.model:-------------- Saved checkpoint 1539 --------------\n",
      "  0%|          | 0/81 [00:00<?, ?it/s]INFO:torchnlp.common.train:Epoch 20 (1539)\n",
      "Training:  19%|█▊        | 15/81 [00:00<00:00, 143.73it/s, loss=-.123]"
     ]
    },
    {
     "name": "stdout",
     "output_type": "stream",
     "text": [
      "kl_loss_final: 0.3172382332739376, pre_loss : 0.26307144122464315\n"
     ]
    },
    {
     "name": "stderr",
     "output_type": "stream",
     "text": [
      "INFO:torchnlp.common.train:total_loss: -0.11424493440139441, kl_loss: 0.130449131867032, nll_loss: 0.12056349650209333\n",
      "INFO:torchnlp.common.train:Train Loss: -0.11424\n",
      "INFO:torchnlp.common.train:Validation metrics:             \n",
      "INFO:torchnlp.common.train:loss=0.25384, acc=0.92441, acc-seq=0.26740, precision=0.84482, recall=0.87942, F1=0.86177\n",
      "INFO:torchnlp.common.model:-------------- Saved checkpoint 1620 --------------\n",
      "  0%|          | 0/81 [00:00<?, ?it/s]INFO:torchnlp.common.train:Epoch 21 (1620)\n",
      "Training:  19%|█▊        | 15/81 [00:00<00:00, 146.25it/s, loss=-.121]"
     ]
    },
    {
     "name": "stdout",
     "output_type": "stream",
     "text": [
      "kl_loss_final: 0.3179199315962337, pre_loss : 0.2538407104355948\n"
     ]
    },
    {
     "name": "stderr",
     "output_type": "stream",
     "text": [
      "INFO:torchnlp.common.train:total_loss: -0.1165593417338383, kl_loss: 0.13075962276370437, nll_loss: 0.11880797230535084\n",
      "INFO:torchnlp.common.train:Train Loss: -0.11656\n",
      "INFO:torchnlp.common.train:Validation metrics:             \n",
      "INFO:torchnlp.common.train:loss=0.25883, acc=0.92593, acc-seq=0.28131, precision=0.84620, recall=0.88165, F1=0.86356\n",
      "INFO:torchnlp.common.model:-------------- Saved checkpoint 1701 --------------\n",
      "  0%|          | 0/81 [00:00<?, ?it/s]INFO:torchnlp.common.train:Epoch 22 (1701)\n",
      "Training:  19%|█▊        | 15/81 [00:00<00:00, 145.27it/s, loss=-.113]"
     ]
    },
    {
     "name": "stdout",
     "output_type": "stream",
     "text": [
      "kl_loss_final: 0.3197000008963403, pre_loss : 0.2588256895542145\n"
     ]
    },
    {
     "name": "stderr",
     "output_type": "stream",
     "text": [
      "INFO:torchnlp.common.train:total_loss: -0.11758250835133188, kl_loss: 0.13120361813056616, nll_loss: 0.11858399709065755\n",
      "INFO:torchnlp.common.train:Train Loss: -0.11758\n",
      "INFO:torchnlp.common.train:Validation metrics:             \n",
      "INFO:torchnlp.common.train:loss=0.25490, acc=0.92533, acc-seq=0.27982, precision=0.85017, recall=0.88093, F1=0.86528\n",
      "INFO:torchnlp.common.model:-------------- Saved checkpoint 1782 --------------\n",
      "  0%|          | 0/81 [00:00<?, ?it/s]INFO:torchnlp.common.train:Epoch 23 (1782)\n",
      "Training:  19%|█▊        | 15/81 [00:00<00:00, 146.58it/s, loss=-.122]"
     ]
    },
    {
     "name": "stdout",
     "output_type": "stream",
     "text": [
      "kl_loss_final: 0.3207401619071052, pre_loss : 0.2548992172593162\n"
     ]
    },
    {
     "name": "stderr",
     "output_type": "stream",
     "text": [
      "INFO:torchnlp.common.train:total_loss: -0.11992447657717599, kl_loss: 0.13210264538173322, nll_loss: 0.11786027740181228\n",
      "INFO:torchnlp.common.train:Train Loss: -0.11992\n",
      "INFO:torchnlp.common.train:Validation metrics:             \n",
      "INFO:torchnlp.common.train:loss=0.25475, acc=0.92463, acc-seq=0.27336, precision=0.84544, recall=0.87947, F1=0.86212\n",
      "INFO:torchnlp.common.model:-------------- Saved checkpoint 1863 --------------\n",
      "  0%|          | 0/81 [00:00<?, ?it/s]INFO:torchnlp.common.train:Epoch 24 (1863)\n",
      "Training:  19%|█▊        | 15/81 [00:00<00:00, 145.35it/s, loss=-.122]"
     ]
    },
    {
     "name": "stdout",
     "output_type": "stream",
     "text": [
      "kl_loss_final: 0.32243654273805167, pre_loss : 0.2547525827373777\n"
     ]
    },
    {
     "name": "stderr",
     "output_type": "stream",
     "text": [
      "INFO:torchnlp.common.train:total_loss: -0.1214696431969419, kl_loss: 0.13264712553333352, nll_loss: 0.11729517698655893\n",
      "INFO:torchnlp.common.train:Train Loss: -0.12147\n",
      "INFO:torchnlp.common.train:Validation metrics:             \n",
      "INFO:torchnlp.common.train:loss=0.25726, acc=0.92585, acc-seq=0.28678, precision=0.84943, recall=0.88315, F1=0.86596\n",
      "INFO:torchnlp.common.model:-------------- Saved checkpoint 1944 --------------\n",
      "  0%|          | 0/81 [00:00<?, ?it/s]INFO:torchnlp.common.train:Epoch 25 (1944)\n",
      "Training:  19%|█▊        | 15/81 [00:00<00:00, 145.34it/s, loss=-.123]"
     ]
    },
    {
     "name": "stdout",
     "output_type": "stream",
     "text": [
      "kl_loss_final: 0.32333763085660483, pre_loss : 0.2572634496859142\n"
     ]
    },
    {
     "name": "stderr",
     "output_type": "stream",
     "text": [
      "INFO:torchnlp.common.train:total_loss: -0.12266452601294459, kl_loss: 0.13289267790538292, nll_loss: 0.11654228781476433\n",
      "INFO:torchnlp.common.train:Train Loss: -0.12266\n",
      "INFO:torchnlp.common.train:Validation metrics:             \n",
      "INFO:torchnlp.common.train:loss=0.25516, acc=0.92605, acc-seq=0.28827, precision=0.84398, recall=0.88492, F1=0.86396\n",
      "INFO:torchnlp.common.model:-------------- Saved checkpoint 2025 --------------\n",
      "  0%|          | 0/81 [00:00<?, ?it/s]INFO:torchnlp.common.train:Epoch 26 (2025)\n",
      "Training:  19%|█▊        | 15/81 [00:00<00:00, 147.67it/s, loss=-.128]"
     ]
    },
    {
     "name": "stdout",
     "output_type": "stream",
     "text": [
      "kl_loss_final: 0.32361410771097454, pre_loss : 0.2551648613242876\n"
     ]
    },
    {
     "name": "stderr",
     "output_type": "stream",
     "text": [
      "INFO:torchnlp.common.train:total_loss: -0.12312512053751651, kl_loss: 0.13310950332217747, nll_loss: 0.11647197898523307\n",
      "INFO:torchnlp.common.train:Train Loss: -0.12313\n",
      "INFO:torchnlp.common.train:Validation metrics:             \n",
      "INFO:torchnlp.common.train:loss=0.25497, acc=0.92622, acc-seq=0.29026, precision=0.84847, recall=0.88148, F1=0.86466\n",
      "INFO:torchnlp.common.model:-------------- Saved checkpoint 2106 --------------\n",
      "  0%|          | 0/81 [00:00<?, ?it/s]INFO:torchnlp.common.train:Epoch 27 (2106)\n",
      "Training:  19%|█▊        | 15/81 [00:00<00:00, 148.57it/s, loss=-.129]"
     ]
    },
    {
     "name": "stdout",
     "output_type": "stream",
     "text": [
      "kl_loss_final: 0.32420634300935836, pre_loss : 0.2549717788185392\n"
     ]
    },
    {
     "name": "stderr",
     "output_type": "stream",
     "text": [
      "INFO:torchnlp.common.train:total_loss: -0.12481835659271405, kl_loss: 0.1332113218528253, nll_loss: 0.11496201681870001\n",
      "INFO:torchnlp.common.train:Train Loss: -0.12482\n",
      "INFO:torchnlp.common.train:Validation metrics:             \n",
      "INFO:torchnlp.common.train:loss=0.25946, acc=0.92615, acc-seq=0.27783, precision=0.84459, recall=0.88265, F1=0.86320\n",
      "INFO:torchnlp.common.model:-------------- Saved checkpoint 2187 --------------\n",
      "  0%|          | 0/81 [00:00<?, ?it/s]INFO:torchnlp.common.train:Epoch 28 (2187)\n",
      "Training:  19%|█▊        | 15/81 [00:00<00:00, 142.49it/s, loss=-.13] "
     ]
    },
    {
     "name": "stdout",
     "output_type": "stream",
     "text": [
      "kl_loss_final: 0.3249027526804379, pre_loss : 0.25945903786591124\n"
     ]
    },
    {
     "name": "stderr",
     "output_type": "stream",
     "text": [
      "INFO:torchnlp.common.train:total_loss: -0.125652531966751, kl_loss: 0.13346606686159415, nll_loss: 0.114586380528815\n",
      "INFO:torchnlp.common.train:Train Loss: -0.12565\n",
      "INFO:torchnlp.common.train:Validation metrics:             \n",
      "INFO:torchnlp.common.train:loss=0.25237, acc=0.92673, acc-seq=0.28429, precision=0.84426, recall=0.88500, F1=0.86415\n",
      "INFO:torchnlp.common.model:-------------- Saved checkpoint 2268 --------------\n",
      "  0%|          | 0/81 [00:00<?, ?it/s]INFO:torchnlp.common.train:Epoch 29 (2268)\n",
      "Training:  19%|█▊        | 15/81 [00:00<00:00, 148.68it/s, loss=-.132]"
     ]
    },
    {
     "name": "stdout",
     "output_type": "stream",
     "text": [
      "kl_loss_final: 0.3254580263580595, pre_loss : 0.25236858888750985\n"
     ]
    },
    {
     "name": "stderr",
     "output_type": "stream",
     "text": [
      "INFO:torchnlp.common.train:total_loss: -0.12736089398831496, kl_loss: 0.13364818499044137, nll_loss: 0.11320583273967107\n",
      "INFO:torchnlp.common.train:Train Loss: -0.12736\n",
      "INFO:torchnlp.common.train:Validation metrics:             \n",
      "INFO:torchnlp.common.train:loss=0.25431, acc=0.92718, acc-seq=0.29274, precision=0.84736, recall=0.88466, F1=0.86561\n",
      "INFO:torchnlp.common.train:Early stopping at iteration 1944, epoch 23, F1=0.86596\n",
      "  4%|▎         | 3/81 [00:00<00:04, 16.99it/s]"
     ]
    },
    {
     "name": "stdout",
     "output_type": "stream",
     "text": [
      "kl_loss_final: 0.3261322709066527, pre_loss : 0.2543120902209055\n"
     ]
    },
    {
     "name": "stderr",
     "output_type": "stream",
     "text": [
      "INFO:torchnlp.common.train:prediction, and attns for best epoch obtained, release hook\n",
      "INFO:torchnlp.common.train:prediction, and attns for best epoch obtained, release hook\n"
     ]
    },
    {
     "name": "stdout",
     "output_type": "stream",
     "text": [
      "SAVING PREDICTIONS AND ATTENTIONS\n",
      "done /home/zijiao/research/atal/saved_True_/11:36:12.602345/tr_pr_best\n",
      "done /home/zijiao/research/atal/saved_True_/11:36:12.602345/te_pr_best\n",
      "done /home/zijiao/research/atal/saved_True_/11:36:12.602345/tr_attn_best\n",
      "done /home/zijiao/research/atal/saved_True_/11:36:12.602345/te_attn_best\n",
      "LOOK HERE 0.2543120902209055 0.3261322709066527\n"
     ]
    },
    {
     "name": "stderr",
     "output_type": "stream",
     "text": [
      "INFO:torchnlp.data.conll:---------- CONLL 2000 Chunking ---------\n",
      "INFO:torchnlp.data.conll:Train size: 8042\n",
      "INFO:torchnlp.data.conll:Validation size: 894\n",
      "INFO:torchnlp.data.conll:Test size: 2012\n",
      "INFO:torchtext.vocab:Loading vectors from .vector_cache/glove.6B.200d.txt.pt\n",
      "INFO:torchtext.vocab:Loading vectors from .vector_cache/charNgram.txt.pt\n",
      "INFO:torchnlp.data.conll:Input vocab size:19032\n",
      "INFO:torchnlp.data.conll:Tagset size: 25\n",
      "INFO:torchnlp.common.model:\n",
      "Hyperparameters:\n",
      " batch_size=100\n",
      " embedding_size_word=300\n",
      " embedding_size_char=0\n",
      " embedding_size_char_per_word=100\n",
      " embedding_size_tags=100\n",
      " hidden_size=128\n",
      " learning_rate=0.2\n",
      " learning_rate_decay=noam_step\n",
      " max_length=256\n",
      " num_hidden_layers=1\n",
      " dropout=0.2\n",
      " optimizer_adam_beta1=0.9\n",
      " optimizer_adam_beta2=0.98\n",
      " use_crf=False\n",
      " num_heads=4\n",
      " attention_key_channels=0\n",
      " attention_value_channels=0\n",
      " filter_size=128\n",
      " filter_size_char=64\n",
      " input_dropout=0.2\n",
      " attention_dropout=0.2\n",
      " relu_dropout=0.2\n",
      " learning_rate_warmup_steps=500\n",
      " attn_path=./saved\n",
      " adversarial=True\n",
      " lmbda=1.8999999999999997\n",
      " froze=False\n",
      " froze_path=./froze\n",
      "INFO:torchnlp.common.train:Parameters: 140953(trainable), 5709601(non-trainable)\n",
      "INFO:torchnlp.common.train:Early stopping for highest value of validation F1 after 5 epochs\n",
      "  0%|          | 0/81 [00:00<?, ?it/s]INFO:torchnlp.common.train:Epoch 1 (0)\n",
      "INFO:torchnlp.common.train:total_loss: 1.1711786551240049, kl_loss: 0.03753742207715541, nll_loss: 1.2424997584319408\n",
      "INFO:torchnlp.common.train:Train Loss: 1.17118\n",
      "INFO:torchnlp.common.train:Validation metrics:             \n",
      "INFO:torchnlp.common.train:loss=0.96034, acc=0.67108, acc-seq=0.00099, precision=0.44008, recall=0.46696, F1=0.45312\n",
      "INFO:torchnlp.common.model:-------------- Saved checkpoint 81 --------------\n",
      "  0%|          | 0/81 [00:00<?, ?it/s]INFO:torchnlp.common.train:Epoch 2 (81)\n",
      "Training:  19%|█▊        | 15/81 [00:00<00:00, 142.16it/s, loss=0.325]"
     ]
    },
    {
     "name": "stdout",
     "output_type": "stream",
     "text": [
      "kl_loss_final: 0.16468598587172373, pre_loss : 0.9603357286680312\n"
     ]
    },
    {
     "name": "stderr",
     "output_type": "stream",
     "text": [
      "INFO:torchnlp.common.train:total_loss: 0.2278318938649731, kl_loss: 0.08881680368457312, nll_loss: 0.39658381743931476\n",
      "INFO:torchnlp.common.train:Train Loss: 0.22783\n",
      "INFO:torchnlp.common.train:Validation metrics:             \n",
      "INFO:torchnlp.common.train:loss=0.62830, acc=0.76931, acc-seq=0.02038, precision=0.64680, recall=0.67978, F1=0.66288\n",
      "INFO:torchnlp.common.model:-------------- Saved checkpoint 162 --------------\n",
      "  0%|          | 0/81 [00:00<?, ?it/s]INFO:torchnlp.common.train:Epoch 3 (162)\n",
      "Training:  20%|█▉        | 16/81 [00:00<00:00, 153.05it/s, loss=0.125]"
     ]
    },
    {
     "name": "stdout",
     "output_type": "stream",
     "text": [
      "kl_loss_final: 0.22344963607333956, pre_loss : 0.6283030737014044\n"
     ]
    },
    {
     "name": "stderr",
     "output_type": "stream",
     "text": [
      "INFO:torchnlp.common.train:total_loss: 0.09900447303130303, kl_loss: 0.10176105162611714, nll_loss: 0.2923504688121654\n",
      "INFO:torchnlp.common.train:Train Loss: 0.09900\n",
      "INFO:torchnlp.common.train:Validation metrics:             \n",
      "INFO:torchnlp.common.train:loss=0.56182, acc=0.78807, acc-seq=0.03280, precision=0.65369, recall=0.70845, F1=0.67997\n",
      "INFO:torchnlp.common.model:-------------- Saved checkpoint 243 --------------\n",
      "  0%|          | 0/81 [00:00<?, ?it/s]INFO:torchnlp.common.train:Epoch 4 (243)\n",
      "Training:  19%|█▊        | 15/81 [00:00<00:00, 142.67it/s, loss=0.066] "
     ]
    },
    {
     "name": "stdout",
     "output_type": "stream",
     "text": [
      "kl_loss_final: 0.2448369108495258, pre_loss : 0.5618234120664143\n"
     ]
    },
    {
     "name": "stderr",
     "output_type": "stream",
     "text": [
      "INFO:torchnlp.common.train:total_loss: 0.04996604536786491, kl_loss: 0.10565885193186042, nll_loss: 0.25071786160086407\n",
      "INFO:torchnlp.common.train:Train Loss: 0.04997\n",
      "INFO:torchnlp.common.train:Validation metrics:             \n",
      "INFO:torchnlp.common.train:loss=0.43033, acc=0.84239, acc-seq=0.08300, precision=0.71130, recall=0.74547, F1=0.72798\n",
      "INFO:torchnlp.common.model:-------------- Saved checkpoint 324 --------------\n",
      "  0%|          | 0/81 [00:00<?, ?it/s]INFO:torchnlp.common.train:Epoch 5 (324)\n",
      "Training:  19%|█▊        | 15/81 [00:00<00:00, 140.69it/s, loss=0.00803]"
     ]
    },
    {
     "name": "stdout",
     "output_type": "stream",
     "text": [
      "kl_loss_final: 0.255178363550277, pre_loss : 0.4303333674158369\n"
     ]
    },
    {
     "name": "stderr",
     "output_type": "stream",
     "text": [
      "INFO:torchnlp.common.train:total_loss: -0.010081583335075849, kl_loss: 0.10926937652222904, nll_loss: 0.19753022970240794\n",
      "INFO:torchnlp.common.train:Train Loss: -0.01008\n",
      "INFO:torchnlp.common.train:Validation metrics:             \n",
      "INFO:torchnlp.common.train:loss=0.33197, acc=0.89103, acc-seq=0.17296, precision=0.77686, recall=0.80979, F1=0.79298\n",
      "INFO:torchnlp.common.model:-------------- Saved checkpoint 405 --------------\n",
      "  0%|          | 0/81 [00:00<?, ?it/s]INFO:torchnlp.common.train:Epoch 6 (405)\n",
      "Training:  20%|█▉        | 16/81 [00:00<00:00, 148.89it/s, loss=-.0436]"
     ]
    },
    {
     "name": "stdout",
     "output_type": "stream",
     "text": [
      "kl_loss_final: 0.27977335382075535, pre_loss : 0.33197163187322165\n"
     ]
    },
    {
     "name": "stderr",
     "output_type": "stream",
     "text": [
      "INFO:torchnlp.common.train:total_loss: -0.049639873022650494, kl_loss: 0.115597316880285, nll_loss: 0.1699950270998625\n",
      "INFO:torchnlp.common.train:Train Loss: -0.04964\n",
      "INFO:torchnlp.common.train:Validation metrics:             \n",
      "INFO:torchnlp.common.train:loss=0.30361, acc=0.90348, acc-seq=0.19732, precision=0.80161, recall=0.83666, F1=0.81876\n",
      "INFO:torchnlp.common.model:-------------- Saved checkpoint 486 --------------\n",
      "  0%|          | 0/81 [00:00<?, ?it/s]INFO:torchnlp.common.train:Epoch 7 (486)\n",
      "Training:  16%|█▌        | 13/81 [00:00<00:00, 126.98it/s, loss=-.0625]"
     ]
    },
    {
     "name": "stdout",
     "output_type": "stream",
     "text": [
      "kl_loss_final: 0.29352197689669474, pre_loss : 0.3036148413306191\n"
     ]
    },
    {
     "name": "stderr",
     "output_type": "stream",
     "text": [
      "INFO:torchnlp.common.train:total_loss: -0.06920531097753549, kl_loss: 0.11952963177068734, nll_loss: 0.1579009864801242\n",
      "INFO:torchnlp.common.train:Train Loss: -0.06921\n",
      "INFO:torchnlp.common.train:Validation metrics:             \n",
      "INFO:torchnlp.common.train:loss=0.28853, acc=0.91122, acc-seq=0.21769, precision=0.80802, recall=0.86060, F1=0.83348\n",
      "INFO:torchnlp.common.model:-------------- Saved checkpoint 567 --------------\n",
      "  0%|          | 0/81 [00:00<?, ?it/s]INFO:torchnlp.common.train:Epoch 8 (567)\n",
      "Training:  19%|█▊        | 15/81 [00:00<00:00, 141.24it/s, loss=-.0845]"
     ]
    },
    {
     "name": "stdout",
     "output_type": "stream",
     "text": [
      "kl_loss_final: 0.29974497358004254, pre_loss : 0.28852804714725133\n"
     ]
    },
    {
     "name": "stderr",
     "output_type": "stream",
     "text": [
      "INFO:torchnlp.common.train:total_loss: -0.08252137982183033, kl_loss: 0.12150457032300808, nll_loss: 0.14833730063688608\n",
      "INFO:torchnlp.common.train:Train Loss: -0.08252\n",
      "INFO:torchnlp.common.train:Validation metrics:             \n",
      "INFO:torchnlp.common.train:loss=0.28305, acc=0.91484, acc-seq=0.23111, precision=0.82532, recall=0.86265, F1=0.84357\n",
      "INFO:torchnlp.common.model:-------------- Saved checkpoint 648 --------------\n",
      "  0%|          | 0/81 [00:00<?, ?it/s]INFO:torchnlp.common.train:Epoch 9 (648)\n",
      "Training:  19%|█▊        | 15/81 [00:00<00:00, 142.45it/s, loss=-.086] "
     ]
    },
    {
     "name": "stdout",
     "output_type": "stream",
     "text": [
      "kl_loss_final: 0.3034042786984217, pre_loss : 0.28304743411995115\n"
     ]
    },
    {
     "name": "stderr",
     "output_type": "stream",
     "text": [
      "INFO:torchnlp.common.train:total_loss: -0.09073495027827627, kl_loss: 0.12256815146516871, nll_loss: 0.1421445349668279\n",
      "INFO:torchnlp.common.train:Train Loss: -0.09073\n",
      "INFO:torchnlp.common.train:Validation metrics:             \n",
      "INFO:torchnlp.common.train:loss=0.27166, acc=0.91624, acc-seq=0.25547, precision=0.82613, recall=0.86714, F1=0.84614\n",
      "INFO:torchnlp.common.model:-------------- Saved checkpoint 729 --------------\n",
      "  0%|          | 0/81 [00:00<?, ?it/s]INFO:torchnlp.common.train:Epoch 10 (729)\n",
      "Training:  17%|█▋        | 14/81 [00:00<00:00, 138.14it/s, loss=-.0894]"
     ]
    },
    {
     "name": "stdout",
     "output_type": "stream",
     "text": [
      "kl_loss_final: 0.3081321705664907, pre_loss : 0.27165849648770835\n"
     ]
    },
    {
     "name": "stderr",
     "output_type": "stream",
     "text": [
      "INFO:torchnlp.common.train:total_loss: -0.09872581846552131, kl_loss: 0.12473776945729315, nll_loss: 0.13827594075305963\n",
      "INFO:torchnlp.common.train:Train Loss: -0.09873\n",
      "INFO:torchnlp.common.train:Validation metrics:             \n",
      "INFO:torchnlp.common.train:loss=0.27595, acc=0.91729, acc-seq=0.23608, precision=0.83177, recall=0.86810, F1=0.84955\n",
      "INFO:torchnlp.common.model:-------------- Saved checkpoint 810 --------------\n",
      "  0%|          | 0/81 [00:00<?, ?it/s]INFO:torchnlp.common.train:Epoch 11 (810)\n",
      "Training:  19%|█▊        | 15/81 [00:00<00:00, 148.12it/s, loss=-.111]"
     ]
    },
    {
     "name": "stdout",
     "output_type": "stream",
     "text": [
      "kl_loss_final: 0.31315783304827555, pre_loss : 0.2759513443424588\n"
     ]
    },
    {
     "name": "stderr",
     "output_type": "stream",
     "text": [
      "INFO:torchnlp.common.train:total_loss: -0.11179954724179374, kl_loss: 0.12956200632048243, nll_loss: 0.13436826051753245\n",
      "INFO:torchnlp.common.train:Train Loss: -0.11180\n",
      "INFO:torchnlp.common.train:Validation metrics:             \n",
      "INFO:torchnlp.common.train:loss=0.26692, acc=0.91727, acc-seq=0.24801, precision=0.82720, recall=0.87003, F1=0.84808\n",
      "INFO:torchnlp.common.model:-------------- Saved checkpoint 891 --------------\n",
      "  0%|          | 0/81 [00:00<?, ?it/s]INFO:torchnlp.common.train:Epoch 12 (891)\n",
      "Training:  19%|█▊        | 15/81 [00:00<00:00, 143.85it/s, loss=-.117]"
     ]
    },
    {
     "name": "stdout",
     "output_type": "stream",
     "text": [
      "kl_loss_final: 0.3168497784506707, pre_loss : 0.2669175629104887\n"
     ]
    },
    {
     "name": "stderr",
     "output_type": "stream",
     "text": [
      "INFO:torchnlp.common.train:total_loss: -0.11658907093015718, kl_loss: 0.13041362865471545, nll_loss: 0.13119681933779775\n",
      "INFO:torchnlp.common.train:Train Loss: -0.11659\n",
      "INFO:torchnlp.common.train:Validation metrics:             \n",
      "INFO:torchnlp.common.train:loss=0.26491, acc=0.92060, acc-seq=0.26292, precision=0.83581, recall=0.87334, F1=0.85417\n",
      "INFO:torchnlp.common.model:-------------- Saved checkpoint 972 --------------\n",
      "  0%|          | 0/81 [00:00<?, ?it/s]INFO:torchnlp.common.train:Epoch 13 (972)\n",
      "Training:  19%|█▊        | 15/81 [00:00<00:00, 148.50it/s, loss=-.117]"
     ]
    },
    {
     "name": "stdout",
     "output_type": "stream",
     "text": [
      "kl_loss_final: 0.3186811109383901, pre_loss : 0.2649096612419401\n"
     ]
    },
    {
     "name": "stderr",
     "output_type": "stream",
     "text": [
      "INFO:torchnlp.common.train:total_loss: -0.11992417855395211, kl_loss: 0.13102245882705407, nll_loss: 0.1290184896853235\n",
      "INFO:torchnlp.common.train:Train Loss: -0.11992\n",
      "INFO:torchnlp.common.train:Validation metrics:             \n",
      "INFO:torchnlp.common.train:loss=0.26766, acc=0.92006, acc-seq=0.26988, precision=0.82954, recall=0.87833, F1=0.85324\n",
      "INFO:torchnlp.common.model:-------------- Saved checkpoint 1053 --------------\n",
      "  0%|          | 0/81 [00:00<?, ?it/s]INFO:torchnlp.common.train:Epoch 14 (1053)\n",
      "Training:  19%|█▊        | 15/81 [00:00<00:00, 143.15it/s, loss=-.121]"
     ]
    },
    {
     "name": "stdout",
     "output_type": "stream",
     "text": [
      "kl_loss_final: 0.31923814721050714, pre_loss : 0.26766457727977205\n"
     ]
    },
    {
     "name": "stderr",
     "output_type": "stream",
     "text": [
      "INFO:torchnlp.common.train:total_loss: -0.12303385497243316, kl_loss: 0.13164374103516707, nll_loss: 0.12708925032689247\n",
      "INFO:torchnlp.common.train:Train Loss: -0.12303\n",
      "INFO:torchnlp.common.train:Validation metrics:             \n",
      "INFO:torchnlp.common.train:loss=0.26659, acc=0.92198, acc-seq=0.26491, precision=0.83808, recall=0.87515, F1=0.85621\n",
      "INFO:torchnlp.common.model:-------------- Saved checkpoint 1134 --------------\n",
      "  0%|          | 0/81 [00:00<?, ?it/s]INFO:torchnlp.common.train:Epoch 15 (1134)\n",
      "Training:  19%|█▊        | 15/81 [00:00<00:00, 142.50it/s, loss=-.127]"
     ]
    },
    {
     "name": "stdout",
     "output_type": "stream",
     "text": [
      "kl_loss_final: 0.321252798750287, pre_loss : 0.26658796057814643\n"
     ]
    },
    {
     "name": "stderr",
     "output_type": "stream",
     "text": [
      "INFO:torchnlp.common.train:total_loss: -0.12454035942569192, kl_loss: 0.13193900414087154, nll_loss: 0.12614374644594428\n",
      "INFO:torchnlp.common.train:Train Loss: -0.12454\n",
      "INFO:torchnlp.common.train:Validation metrics:             \n",
      "INFO:torchnlp.common.train:loss=0.26725, acc=0.92309, acc-seq=0.27883, precision=0.84209, recall=0.88156, F1=0.86137\n",
      "INFO:torchnlp.common.model:-------------- Saved checkpoint 1215 --------------\n",
      "  0%|          | 0/81 [00:00<?, ?it/s]INFO:torchnlp.common.train:Epoch 16 (1215)\n",
      "Training:  19%|█▊        | 15/81 [00:00<00:00, 144.19it/s, loss=-.128]"
     ]
    },
    {
     "name": "stdout",
     "output_type": "stream",
     "text": [
      "kl_loss_final: 0.3221398538776806, pre_loss : 0.2672521450689861\n"
     ]
    },
    {
     "name": "stderr",
     "output_type": "stream",
     "text": [
      "INFO:torchnlp.common.train:total_loss: -0.12614211136544193, kl_loss: 0.1322069072429045, nll_loss: 0.125051008698381\n",
      "INFO:torchnlp.common.train:Train Loss: -0.12614\n",
      "INFO:torchnlp.common.train:Validation metrics:             \n",
      "INFO:torchnlp.common.train:loss=0.26582, acc=0.92148, acc-seq=0.26143, precision=0.83669, recall=0.87209, F1=0.85402\n",
      "INFO:torchnlp.common.model:-------------- Saved checkpoint 1296 --------------\n",
      "  0%|          | 0/81 [00:00<?, ?it/s]INFO:torchnlp.common.train:Epoch 17 (1296)\n",
      "Training:  19%|█▊        | 15/81 [00:00<00:00, 148.19it/s, loss=-.133]"
     ]
    },
    {
     "name": "stdout",
     "output_type": "stream",
     "text": [
      "kl_loss_final: 0.3229569601161139, pre_loss : 0.2658235799698603\n"
     ]
    },
    {
     "name": "stderr",
     "output_type": "stream",
     "text": [
      "INFO:torchnlp.common.train:total_loss: -0.12902733205277242, kl_loss: 0.1323788148569472, nll_loss: 0.12249241235815449\n",
      "INFO:torchnlp.common.train:Train Loss: -0.12903\n",
      "INFO:torchnlp.common.train:Validation metrics:             \n",
      "INFO:torchnlp.common.train:loss=0.26531, acc=0.92268, acc-seq=0.27883, precision=0.83284, recall=0.88085, F1=0.85617\n",
      "INFO:torchnlp.common.model:-------------- Saved checkpoint 1377 --------------\n",
      "  0%|          | 0/81 [00:00<?, ?it/s]INFO:torchnlp.common.train:Epoch 18 (1377)\n",
      "Training:  17%|█▋        | 14/81 [00:00<00:00, 138.13it/s, loss=-.126]"
     ]
    },
    {
     "name": "stdout",
     "output_type": "stream",
     "text": [
      "kl_loss_final: 0.323750848926249, pre_loss : 0.2653060867672875\n"
     ]
    },
    {
     "name": "stderr",
     "output_type": "stream",
     "text": [
      "INFO:torchnlp.common.train:total_loss: -0.13032966125526546, kl_loss: 0.13275956132529695, nll_loss: 0.12191350334956322\n",
      "INFO:torchnlp.common.train:Train Loss: -0.13033\n",
      "INFO:torchnlp.common.train:Validation metrics:             \n",
      "INFO:torchnlp.common.train:loss=0.26288, acc=0.92298, acc-seq=0.27833, precision=0.83806, recall=0.87896, F1=0.85803\n",
      "INFO:torchnlp.common.model:-------------- Saved checkpoint 1458 --------------\n",
      "  0%|          | 0/81 [00:00<?, ?it/s]INFO:torchnlp.common.train:Epoch 19 (1458)\n",
      "Training:  19%|█▊        | 15/81 [00:00<00:00, 149.08it/s, loss=-.133]"
     ]
    },
    {
     "name": "stdout",
     "output_type": "stream",
     "text": [
      "kl_loss_final: 0.3243219941144898, pre_loss : 0.26287813271795\n"
     ]
    },
    {
     "name": "stderr",
     "output_type": "stream",
     "text": [
      "INFO:torchnlp.common.train:total_loss: -0.1323881972535157, kl_loss: 0.13306421758951964, nll_loss: 0.12043381344389033\n",
      "INFO:torchnlp.common.train:Train Loss: -0.13239\n",
      "INFO:torchnlp.common.train:Validation metrics:             \n",
      "INFO:torchnlp.common.train:loss=0.25864, acc=0.92405, acc-seq=0.28728, precision=0.83867, recall=0.88290, F1=0.86022\n",
      "INFO:torchnlp.common.model:-------------- Saved checkpoint 1539 --------------\n",
      "  0%|          | 0/81 [00:00<?, ?it/s]INFO:torchnlp.common.train:Epoch 20 (1539)\n",
      "Training:  19%|█▊        | 15/81 [00:00<00:00, 144.99it/s, loss=-.138]"
     ]
    },
    {
     "name": "stdout",
     "output_type": "stream",
     "text": [
      "kl_loss_final: 0.32355717569589615, pre_loss : 0.2586352846452168\n"
     ]
    },
    {
     "name": "stderr",
     "output_type": "stream",
     "text": [
      "INFO:torchnlp.common.train:total_loss: -0.13344746690105508, kl_loss: 0.13319785193896588, nll_loss: 0.1196284493730392\n",
      "INFO:torchnlp.common.train:Train Loss: -0.13345\n",
      "INFO:torchnlp.common.train:Validation metrics:             \n",
      "INFO:torchnlp.common.train:loss=0.25967, acc=0.92373, acc-seq=0.27883, precision=0.84176, recall=0.87871, F1=0.85984\n",
      "INFO:torchnlp.common.train:Early stopping at iteration 1215, epoch 14, F1=0.86137\n",
      "  5%|▍         | 4/81 [00:00<00:01, 38.87it/s]"
     ]
    },
    {
     "name": "stdout",
     "output_type": "stream",
     "text": [
      "kl_loss_final: 0.32543226189556573, pre_loss : 0.25966798407690866\n"
     ]
    },
    {
     "name": "stderr",
     "output_type": "stream",
     "text": [
      "INFO:torchnlp.common.train:prediction, and attns for best epoch obtained, release hook\n",
      "INFO:torchnlp.common.train:prediction, and attns for best epoch obtained, release hook\n"
     ]
    },
    {
     "name": "stdout",
     "output_type": "stream",
     "text": [
      "SAVING PREDICTIONS AND ATTENTIONS\n",
      "done /home/zijiao/research/atal/saved_True_/11:37:00.047160/tr_pr_best\n",
      "done /home/zijiao/research/atal/saved_True_/11:37:00.047160/te_pr_best\n",
      "done /home/zijiao/research/atal/saved_True_/11:37:00.047160/tr_attn_best\n",
      "done /home/zijiao/research/atal/saved_True_/11:37:00.047160/te_attn_best\n",
      "LOOK HERE 0.25966798407690866 0.32543226189556573\n"
     ]
    },
    {
     "name": "stderr",
     "output_type": "stream",
     "text": [
      "INFO:torchnlp.data.conll:---------- CONLL 2000 Chunking ---------\n",
      "INFO:torchnlp.data.conll:Train size: 8042\n",
      "INFO:torchnlp.data.conll:Validation size: 894\n",
      "INFO:torchnlp.data.conll:Test size: 2012\n",
      "INFO:torchtext.vocab:Loading vectors from .vector_cache/glove.6B.200d.txt.pt\n",
      "INFO:torchtext.vocab:Loading vectors from .vector_cache/charNgram.txt.pt\n",
      "INFO:torchnlp.data.conll:Input vocab size:19032\n",
      "INFO:torchnlp.data.conll:Tagset size: 25\n",
      "INFO:torchnlp.common.model:\n",
      "Hyperparameters:\n",
      " batch_size=100\n",
      " embedding_size_word=300\n",
      " embedding_size_char=0\n",
      " embedding_size_char_per_word=100\n",
      " embedding_size_tags=100\n",
      " hidden_size=128\n",
      " learning_rate=0.2\n",
      " learning_rate_decay=noam_step\n",
      " max_length=256\n",
      " num_hidden_layers=1\n",
      " dropout=0.2\n",
      " optimizer_adam_beta1=0.9\n",
      " optimizer_adam_beta2=0.98\n",
      " use_crf=False\n",
      " num_heads=4\n",
      " attention_key_channels=0\n",
      " attention_value_channels=0\n",
      " filter_size=128\n",
      " filter_size_char=64\n",
      " input_dropout=0.2\n",
      " attention_dropout=0.2\n",
      " relu_dropout=0.2\n",
      " learning_rate_warmup_steps=500\n",
      " attn_path=./saved\n",
      " adversarial=True\n",
      " lmbda=1.9999999999999998\n",
      " froze=False\n",
      " froze_path=./froze\n",
      "INFO:torchnlp.common.train:Parameters: 140953(trainable), 5709601(non-trainable)\n",
      "INFO:torchnlp.common.train:Early stopping for highest value of validation F1 after 5 epochs\n",
      "  0%|          | 0/81 [00:00<?, ?it/s]INFO:torchnlp.common.train:Epoch 1 (0)\n",
      "INFO:torchnlp.common.train:total_loss: 1.3278781848925132, kl_loss: 0.044881247282948025, nll_loss: 1.4176406801482777\n",
      "INFO:torchnlp.common.train:Train Loss: 1.32788\n",
      "INFO:torchnlp.common.train:Validation metrics:             \n",
      "INFO:torchnlp.common.train:loss=0.98064, acc=0.67748, acc-seq=0.00497, precision=0.50969, recall=0.49061, F1=0.49997\n",
      "INFO:torchnlp.common.model:-------------- Saved checkpoint 81 --------------\n",
      "  0%|          | 0/81 [00:00<?, ?it/s]INFO:torchnlp.common.train:Epoch 2 (81)\n",
      "Training:  19%|█▊        | 15/81 [00:00<00:00, 149.47it/s, loss=0.308]"
     ]
    },
    {
     "name": "stdout",
     "output_type": "stream",
     "text": [
      "kl_loss_final: 0.17891180834599904, pre_loss : 0.9806429743766785\n"
     ]
    },
    {
     "name": "stderr",
     "output_type": "stream",
     "text": [
      "INFO:torchnlp.common.train:total_loss: 0.22661543720298344, kl_loss: 0.08342368620229357, nll_loss: 0.3934628095155881\n",
      "INFO:torchnlp.common.train:Train Loss: 0.22662\n",
      "INFO:torchnlp.common.train:Validation metrics:             \n",
      "INFO:torchnlp.common.train:loss=0.62517, acc=0.76632, acc-seq=0.01938, precision=0.65281, recall=0.69537, F1=0.67342\n",
      "INFO:torchnlp.common.model:-------------- Saved checkpoint 162 --------------\n",
      "  0%|          | 0/81 [00:00<?, ?it/s]INFO:torchnlp.common.train:Epoch 3 (162)\n",
      "Training:  19%|█▊        | 15/81 [00:00<00:00, 146.55it/s, loss=0.131]"
     ]
    },
    {
     "name": "stdout",
     "output_type": "stream",
     "text": [
      "kl_loss_final: 0.22023213867630279, pre_loss : 0.6251678140390486\n"
     ]
    },
    {
     "name": "stderr",
     "output_type": "stream",
     "text": [
      "INFO:torchnlp.common.train:total_loss: 0.10576708909170127, kl_loss: 0.09350027272730697, nll_loss: 0.2927676345463152\n",
      "INFO:torchnlp.common.train:Train Loss: 0.10577\n",
      "INFO:torchnlp.common.train:Validation metrics:             \n",
      "INFO:torchnlp.common.train:loss=0.52937, acc=0.79801, acc-seq=0.02982, precision=0.66600, recall=0.73709, F1=0.69974\n",
      "INFO:torchnlp.common.model:-------------- Saved checkpoint 243 --------------\n",
      "  0%|          | 0/81 [00:00<?, ?it/s]INFO:torchnlp.common.train:Epoch 4 (243)\n",
      "Training:  19%|█▊        | 15/81 [00:00<00:00, 145.47it/s, loss=0.0655]"
     ]
    },
    {
     "name": "stdout",
     "output_type": "stream",
     "text": [
      "kl_loss_final: 0.2404313793494588, pre_loss : 0.5293747541450319\n"
     ]
    },
    {
     "name": "stderr",
     "output_type": "stream",
     "text": [
      "INFO:torchnlp.common.train:total_loss: 0.03581371701058046, kl_loss: 0.10113063583403457, nll_loss: 0.23807498867864962\n",
      "INFO:torchnlp.common.train:Train Loss: 0.03581\n",
      "INFO:torchnlp.common.train:Validation metrics:             \n",
      "INFO:torchnlp.common.train:loss=0.38982, acc=0.86150, acc-seq=0.11730, precision=0.72039, recall=0.76119, F1=0.74023\n",
      "INFO:torchnlp.common.model:-------------- Saved checkpoint 324 --------------\n",
      "  0%|          | 0/81 [00:00<?, ?it/s]INFO:torchnlp.common.train:Epoch 5 (324)\n",
      "Training:  19%|█▊        | 15/81 [00:00<00:00, 144.31it/s, loss=-.00913]"
     ]
    },
    {
     "name": "stdout",
     "output_type": "stream",
     "text": [
      "kl_loss_final: 0.25667163552272887, pre_loss : 0.3898195844321024\n"
     ]
    },
    {
     "name": "stderr",
     "output_type": "stream",
     "text": [
      "INFO:torchnlp.common.train:total_loss: -0.032702729289914356, kl_loss: 0.11202370329403583, nll_loss: 0.1913446772981573\n",
      "INFO:torchnlp.common.train:Train Loss: -0.03270\n",
      "INFO:torchnlp.common.train:Validation metrics:             \n",
      "INFO:torchnlp.common.train:loss=0.33217, acc=0.89438, acc-seq=0.19881, precision=0.76797, recall=0.82840, F1=0.79704\n",
      "INFO:torchnlp.common.model:-------------- Saved checkpoint 405 --------------\n",
      "  0%|          | 0/81 [00:00<?, ?it/s]INFO:torchnlp.common.train:Epoch 6 (405)\n",
      "Training:  19%|█▊        | 15/81 [00:00<00:00, 141.03it/s, loss=-.0713]"
     ]
    },
    {
     "name": "stdout",
     "output_type": "stream",
     "text": [
      "kl_loss_final: 0.28294994433720905, pre_loss : 0.33217104914642515\n"
     ]
    },
    {
     "name": "stderr",
     "output_type": "stream",
     "text": [
      "INFO:torchnlp.common.train:total_loss: -0.07742599664646903, kl_loss: 0.12373027214665472, nll_loss: 0.17003454764684042\n",
      "INFO:torchnlp.common.train:Train Loss: -0.07743\n",
      "INFO:torchnlp.common.train:Validation metrics:             \n",
      "INFO:torchnlp.common.train:loss=0.29719, acc=0.90334, acc-seq=0.18091, precision=0.81893, recall=0.84077, F1=0.82971\n",
      "INFO:torchnlp.common.model:-------------- Saved checkpoint 486 --------------\n",
      "  0%|          | 0/81 [00:00<?, ?it/s]INFO:torchnlp.common.train:Epoch 7 (486)\n",
      "Training:  19%|█▊        | 15/81 [00:00<00:00, 139.56it/s, loss=-.0884]"
     ]
    },
    {
     "name": "stdout",
     "output_type": "stream",
     "text": [
      "kl_loss_final: 0.28898428770757856, pre_loss : 0.2971916503849484\n"
     ]
    },
    {
     "name": "stderr",
     "output_type": "stream",
     "text": [
      "INFO:torchnlp.common.train:total_loss: -0.09320846052817357, kl_loss: 0.12524375825384518, nll_loss: 0.15727905597951677\n",
      "INFO:torchnlp.common.train:Train Loss: -0.09321\n",
      "INFO:torchnlp.common.train:Validation metrics:             \n",
      "INFO:torchnlp.common.train:loss=0.28945, acc=0.90926, acc-seq=0.21372, precision=0.80723, recall=0.85586, F1=0.83083\n",
      "INFO:torchnlp.common.model:-------------- Saved checkpoint 567 --------------\n",
      "  0%|          | 0/81 [00:00<?, ?it/s]INFO:torchnlp.common.train:Epoch 8 (567)\n",
      "Training:  19%|█▊        | 15/81 [00:00<00:00, 139.45it/s, loss=-.102]"
     ]
    },
    {
     "name": "stdout",
     "output_type": "stream",
     "text": [
      "kl_loss_final: 0.2929332483382452, pre_loss : 0.28945407768090564\n"
     ]
    },
    {
     "name": "stderr",
     "output_type": "stream",
     "text": [
      "INFO:torchnlp.common.train:total_loss: -0.10500733572759746, kl_loss: 0.126168281023885, nll_loss: 0.14732922632017253\n",
      "INFO:torchnlp.common.train:Train Loss: -0.10501\n",
      "INFO:torchnlp.common.train:Validation metrics:             \n",
      "INFO:torchnlp.common.train:loss=0.28376, acc=0.91255, acc-seq=0.23161, precision=0.80611, recall=0.85880, F1=0.83162\n",
      "INFO:torchnlp.common.model:-------------- Saved checkpoint 648 --------------\n",
      "  0%|          | 0/81 [00:00<?, ?it/s]INFO:torchnlp.common.train:Epoch 9 (648)\n",
      "Training:  19%|█▊        | 15/81 [00:00<00:00, 147.64it/s, loss=-.111]"
     ]
    },
    {
     "name": "stdout",
     "output_type": "stream",
     "text": [
      "kl_loss_final: 0.2930484988859722, pre_loss : 0.28375503775619326\n"
     ]
    },
    {
     "name": "stderr",
     "output_type": "stream",
     "text": [
      "INFO:torchnlp.common.train:total_loss: -0.11188090206296356, kl_loss: 0.12680609745007973, nll_loss: 0.14173129283719593\n",
      "INFO:torchnlp.common.train:Train Loss: -0.11188\n",
      "INFO:torchnlp.common.train:Validation metrics:             \n",
      "INFO:torchnlp.common.train:loss=0.27409, acc=0.91667, acc-seq=0.24254, precision=0.83079, recall=0.86844, F1=0.84920\n",
      "INFO:torchnlp.common.model:-------------- Saved checkpoint 729 --------------\n",
      "  0%|          | 0/81 [00:00<?, ?it/s]INFO:torchnlp.common.train:Epoch 10 (729)\n",
      "Training:  20%|█▉        | 16/81 [00:00<00:00, 148.86it/s, loss=-.122]"
     ]
    },
    {
     "name": "stdout",
     "output_type": "stream",
     "text": [
      "kl_loss_final: 0.2941174148803666, pre_loss : 0.2740936229626338\n"
     ]
    },
    {
     "name": "stderr",
     "output_type": "stream",
     "text": [
      "INFO:torchnlp.common.train:total_loss: -0.11927335773721154, kl_loss: 0.12750505288074046, nll_loss: 0.1357367479322869\n",
      "INFO:torchnlp.common.train:Train Loss: -0.11927\n",
      "INFO:torchnlp.common.train:Validation metrics:             \n",
      "INFO:torchnlp.common.train:loss=0.26739, acc=0.91846, acc-seq=0.25348, precision=0.82234, recall=0.87272, F1=0.84678\n",
      "INFO:torchnlp.common.model:-------------- Saved checkpoint 810 --------------\n",
      "  0%|          | 0/81 [00:00<?, ?it/s]INFO:torchnlp.common.train:Epoch 11 (810)\n",
      "Training:  19%|█▊        | 15/81 [00:00<00:00, 147.94it/s, loss=-.128]"
     ]
    },
    {
     "name": "stdout",
     "output_type": "stream",
     "text": [
      "kl_loss_final: 0.29911008406253087, pre_loss : 0.2673936975853784\n"
     ]
    },
    {
     "name": "stderr",
     "output_type": "stream",
     "text": [
      "INFO:torchnlp.common.train:total_loss: -0.12327776619313675, kl_loss: 0.1281937805958736, nll_loss: 0.13310979509059293\n",
      "INFO:torchnlp.common.train:Train Loss: -0.12328\n",
      "INFO:torchnlp.common.train:Validation metrics:             \n",
      "INFO:torchnlp.common.train:loss=0.27202, acc=0.91971, acc-seq=0.25944, precision=0.84115, recall=0.86781, F1=0.85427\n",
      "INFO:torchnlp.common.model:-------------- Saved checkpoint 891 --------------\n",
      "  0%|          | 0/81 [00:00<?, ?it/s]INFO:torchnlp.common.train:Epoch 12 (891)\n",
      "Training:  19%|█▊        | 15/81 [00:00<00:00, 147.84it/s, loss=-.132]"
     ]
    },
    {
     "name": "stdout",
     "output_type": "stream",
     "text": [
      "kl_loss_final: 0.3011875340626353, pre_loss : 0.2720181388514383\n"
     ]
    },
    {
     "name": "stderr",
     "output_type": "stream",
     "text": [
      "INFO:torchnlp.common.train:total_loss: -0.12647355071924352, kl_loss: 0.12865012911734758, nll_loss: 0.13082670751545164\n",
      "INFO:torchnlp.common.train:Train Loss: -0.12647\n",
      "INFO:torchnlp.common.train:Validation metrics:             \n",
      "INFO:torchnlp.common.train:loss=0.26768, acc=0.92198, acc-seq=0.27535, precision=0.83498, recall=0.87804, F1=0.85597\n",
      "INFO:torchnlp.common.model:-------------- Saved checkpoint 972 --------------\n",
      "  0%|          | 0/81 [00:00<?, ?it/s]INFO:torchnlp.common.train:Epoch 13 (972)\n",
      "Training:  19%|█▊        | 15/81 [00:00<00:00, 143.76it/s, loss=-.131]"
     ]
    },
    {
     "name": "stdout",
     "output_type": "stream",
     "text": [
      "kl_loss_final: 0.3027076341566585, pre_loss : 0.26768442278816584\n"
     ]
    },
    {
     "name": "stderr",
     "output_type": "stream",
     "text": [
      "INFO:torchnlp.common.train:total_loss: -0.13076934926671746, kl_loss: 0.12897177261334877, nll_loss: 0.12717419623592754\n",
      "INFO:torchnlp.common.train:Train Loss: -0.13077\n",
      "INFO:torchnlp.common.train:Validation metrics:             \n",
      "INFO:torchnlp.common.train:loss=0.26696, acc=0.92115, acc-seq=0.25646, precision=0.83631, recall=0.87179, F1=0.85368\n",
      "INFO:torchnlp.common.model:-------------- Saved checkpoint 1053 --------------\n",
      "  0%|          | 0/81 [00:00<?, ?it/s]INFO:torchnlp.common.train:Epoch 14 (1053)\n",
      "Training:  17%|█▋        | 14/81 [00:00<00:00, 136.76it/s, loss=-.127]"
     ]
    },
    {
     "name": "stdout",
     "output_type": "stream",
     "text": [
      "kl_loss_final: 0.3037936453308378, pre_loss : 0.2669583814484732\n"
     ]
    },
    {
     "name": "stderr",
     "output_type": "stream",
     "text": [
      "INFO:torchnlp.common.train:total_loss: -0.13264091781995915, kl_loss: 0.12929918184692477, nll_loss: 0.12595744596587288\n",
      "INFO:torchnlp.common.train:Train Loss: -0.13264\n",
      "INFO:torchnlp.common.train:Validation metrics:             \n",
      "INFO:torchnlp.common.train:loss=0.25891, acc=0.92362, acc-seq=0.27584, precision=0.84306, recall=0.87632, F1=0.85937\n",
      "INFO:torchnlp.common.model:-------------- Saved checkpoint 1134 --------------\n",
      "  0%|          | 0/81 [00:00<?, ?it/s]INFO:torchnlp.common.train:Epoch 15 (1134)\n",
      "Training:  19%|█▊        | 15/81 [00:00<00:00, 143.57it/s, loss=-.135]"
     ]
    },
    {
     "name": "stdout",
     "output_type": "stream",
     "text": [
      "kl_loss_final: 0.3044494617552984, pre_loss : 0.2589092077243896\n"
     ]
    },
    {
     "name": "stderr",
     "output_type": "stream",
     "text": [
      "INFO:torchnlp.common.train:total_loss: -0.13524370732498758, kl_loss: 0.1294530478340608, nll_loss: 0.123662388527099\n",
      "INFO:torchnlp.common.train:Train Loss: -0.13524\n",
      "INFO:torchnlp.common.train:Validation metrics:             \n",
      "INFO:torchnlp.common.train:loss=0.25876, acc=0.92373, acc-seq=0.27336, precision=0.83891, recall=0.88118, F1=0.85953\n",
      "INFO:torchnlp.common.model:-------------- Saved checkpoint 1215 --------------\n",
      "  0%|          | 0/81 [00:00<?, ?it/s]INFO:torchnlp.common.train:Epoch 16 (1215)\n",
      "Training:  19%|█▊        | 15/81 [00:00<00:00, 149.25it/s, loss=-.14] "
     ]
    },
    {
     "name": "stdout",
     "output_type": "stream",
     "text": [
      "kl_loss_final: 0.3049728224674861, pre_loss : 0.2587647998616809\n"
     ]
    },
    {
     "name": "stderr",
     "output_type": "stream",
     "text": [
      "INFO:torchnlp.common.train:total_loss: -0.13665906330685557, kl_loss: 0.12969824800520768, nll_loss: 0.12273743270355979\n",
      "INFO:torchnlp.common.train:Train Loss: -0.13666\n",
      "INFO:torchnlp.common.train:Validation metrics:             \n",
      "INFO:torchnlp.common.train:loss=0.26571, acc=0.92247, acc-seq=0.28728, precision=0.83070, recall=0.87817, F1=0.85377\n",
      "INFO:torchnlp.common.model:-------------- Saved checkpoint 1296 --------------\n",
      "  0%|          | 0/81 [00:00<?, ?it/s]INFO:torchnlp.common.train:Epoch 17 (1296)\n",
      "Training:  19%|█▊        | 15/81 [00:00<00:00, 143.58it/s, loss=-.135]"
     ]
    },
    {
     "name": "stdout",
     "output_type": "stream",
     "text": [
      "kl_loss_final: 0.3058114679796355, pre_loss : 0.2657055542582557\n"
     ]
    },
    {
     "name": "stderr",
     "output_type": "stream",
     "text": [
      "INFO:torchnlp.common.train:total_loss: -0.1375900780161222, kl_loss: 0.12974989377422097, nll_loss: 0.12190970990024967\n",
      "INFO:torchnlp.common.train:Train Loss: -0.13759\n",
      "INFO:torchnlp.common.train:Validation metrics:             \n",
      "INFO:torchnlp.common.train:loss=0.25476, acc=0.92401, acc-seq=0.27187, precision=0.83696, recall=0.88047, F1=0.85816\n",
      "INFO:torchnlp.common.model:-------------- Saved checkpoint 1377 --------------\n",
      "  0%|          | 0/81 [00:00<?, ?it/s]INFO:torchnlp.common.train:Epoch 18 (1377)\n",
      "Training:  19%|█▊        | 15/81 [00:00<00:00, 145.53it/s, loss=-.141]"
     ]
    },
    {
     "name": "stdout",
     "output_type": "stream",
     "text": [
      "kl_loss_final: 0.3059069581684612, pre_loss : 0.2547635577973865\n"
     ]
    },
    {
     "name": "stderr",
     "output_type": "stream",
     "text": [
      "INFO:torchnlp.common.train:total_loss: -0.1401887501095548, kl_loss: 0.12999243151258538, nll_loss: 0.11979611383544074\n",
      "INFO:torchnlp.common.train:Train Loss: -0.14019\n",
      "INFO:torchnlp.common.train:Validation metrics:             \n",
      "INFO:torchnlp.common.train:loss=0.25811, acc=0.92486, acc-seq=0.29076, precision=0.83507, recall=0.88265, F1=0.85820\n",
      "INFO:torchnlp.common.model:-------------- Saved checkpoint 1458 --------------\n",
      "  0%|          | 0/81 [00:00<?, ?it/s]INFO:torchnlp.common.train:Epoch 19 (1458)\n",
      "Training:  17%|█▋        | 14/81 [00:00<00:00, 139.40it/s, loss=-.142]"
     ]
    },
    {
     "name": "stdout",
     "output_type": "stream",
     "text": [
      "kl_loss_final: 0.3076005382906823, pre_loss : 0.2581086740607307\n"
     ]
    },
    {
     "name": "stderr",
     "output_type": "stream",
     "text": [
      "INFO:torchnlp.common.train:total_loss: -0.1419280798714838, kl_loss: 0.13025705957854236, nll_loss: 0.11858603965353083\n",
      "INFO:torchnlp.common.train:Train Loss: -0.14193\n",
      "INFO:torchnlp.common.train:Validation metrics:             \n",
      "INFO:torchnlp.common.train:loss=0.25395, acc=0.92574, acc-seq=0.29622, precision=0.84323, recall=0.88081, F1=0.86161\n",
      "INFO:torchnlp.common.model:-------------- Saved checkpoint 1539 --------------\n",
      "  0%|          | 0/81 [00:00<?, ?it/s]INFO:torchnlp.common.train:Epoch 20 (1539)\n",
      "Training:  19%|█▊        | 15/81 [00:00<00:00, 145.75it/s, loss=-.146]"
     ]
    },
    {
     "name": "stdout",
     "output_type": "stream",
     "text": [
      "kl_loss_final: 0.3091584209884916, pre_loss : 0.2539544325499308\n"
     ]
    },
    {
     "name": "stderr",
     "output_type": "stream",
     "text": [
      "INFO:torchnlp.common.train:total_loss: -0.14291552950938544, kl_loss: 0.13048937907557429, nll_loss: 0.11806322891771058\n",
      "INFO:torchnlp.common.train:Train Loss: -0.14292\n",
      "INFO:torchnlp.common.train:Validation metrics:             \n",
      "INFO:torchnlp.common.train:loss=0.25357, acc=0.92475, acc-seq=0.27783, precision=0.84878, recall=0.88030, F1=0.86425\n",
      "INFO:torchnlp.common.model:-------------- Saved checkpoint 1620 --------------\n",
      "  0%|          | 0/81 [00:00<?, ?it/s]INFO:torchnlp.common.train:Epoch 21 (1620)\n",
      "Training:  17%|█▋        | 14/81 [00:00<00:00, 134.03it/s, loss=-.147]"
     ]
    },
    {
     "name": "stdout",
     "output_type": "stream",
     "text": [
      "kl_loss_final: 0.3093164559631121, pre_loss : 0.2535652319590251\n"
     ]
    },
    {
     "name": "stderr",
     "output_type": "stream",
     "text": [
      "INFO:torchnlp.common.train:total_loss: -0.14402078929138773, kl_loss: 0.13065992534896473, nll_loss: 0.11729906168248919\n",
      "INFO:torchnlp.common.train:Train Loss: -0.14402\n",
      "INFO:torchnlp.common.train:Validation metrics:             \n",
      "INFO:torchnlp.common.train:loss=0.25779, acc=0.92576, acc-seq=0.28579, precision=0.84366, recall=0.87963, F1=0.86127\n",
      "INFO:torchnlp.common.model:-------------- Saved checkpoint 1701 --------------\n",
      "  0%|          | 0/81 [00:00<?, ?it/s]INFO:torchnlp.common.train:Epoch 22 (1701)\n",
      "Training:  19%|█▊        | 15/81 [00:00<00:00, 145.26it/s, loss=-.149]"
     ]
    },
    {
     "name": "stdout",
     "output_type": "stream",
     "text": [
      "kl_loss_final: 0.31026682825315566, pre_loss : 0.257788169951666\n"
     ]
    },
    {
     "name": "stderr",
     "output_type": "stream",
     "text": [
      "INFO:torchnlp.common.train:total_loss: -0.14598307335450325, kl_loss: 0.1308000805201354, nll_loss: 0.11561708731783761\n",
      "INFO:torchnlp.common.train:Train Loss: -0.14598\n",
      "INFO:torchnlp.common.train:Validation metrics:             \n",
      "INFO:torchnlp.common.train:loss=0.25503, acc=0.92638, acc-seq=0.28032, precision=0.84743, recall=0.88185, F1=0.86430\n",
      "INFO:torchnlp.common.model:-------------- Saved checkpoint 1782 --------------\n",
      "  0%|          | 0/81 [00:00<?, ?it/s]INFO:torchnlp.common.train:Epoch 23 (1782)\n",
      "Training:  17%|█▋        | 14/81 [00:00<00:00, 137.31it/s, loss=-.138]"
     ]
    },
    {
     "name": "stdout",
     "output_type": "stream",
     "text": [
      "kl_loss_final: 0.3104452256645475, pre_loss : 0.25503264580454144\n"
     ]
    },
    {
     "name": "stderr",
     "output_type": "stream",
     "text": [
      "INFO:torchnlp.common.train:total_loss: -0.1461587659554717, kl_loss: 0.13095223443743623, nll_loss: 0.11574570291940077\n",
      "INFO:torchnlp.common.train:Train Loss: -0.14616\n",
      "INFO:torchnlp.common.train:Validation metrics:             \n",
      "INFO:torchnlp.common.train:loss=0.25377, acc=0.92655, acc-seq=0.29175, precision=0.83952, recall=0.88148, F1=0.85999\n",
      "INFO:torchnlp.common.model:-------------- Saved checkpoint 1863 --------------\n",
      "  0%|          | 0/81 [00:00<?, ?it/s]INFO:torchnlp.common.train:Epoch 24 (1863)\n",
      "Training:  19%|█▊        | 15/81 [00:00<00:00, 141.28it/s, loss=-.145]"
     ]
    },
    {
     "name": "stdout",
     "output_type": "stream",
     "text": [
      "kl_loss_final: 0.3112604745796749, pre_loss : 0.2537677309342793\n"
     ]
    },
    {
     "name": "stderr",
     "output_type": "stream",
     "text": [
      "INFO:torchnlp.common.train:total_loss: -0.14765280374774226, kl_loss: 0.13092491527398428, nll_loss: 0.11419702726013867\n",
      "INFO:torchnlp.common.train:Train Loss: -0.14765\n",
      "INFO:torchnlp.common.train:Validation metrics:             \n",
      "INFO:torchnlp.common.train:loss=0.25201, acc=0.92792, acc-seq=0.30318, precision=0.84402, recall=0.88479, F1=0.86393\n",
      "INFO:torchnlp.common.model:-------------- Saved checkpoint 1944 --------------\n",
      "  0%|          | 0/81 [00:00<?, ?it/s]INFO:torchnlp.common.train:Epoch 25 (1944)\n",
      "Training:  19%|█▊        | 15/81 [00:00<00:00, 149.42it/s, loss=-.153]"
     ]
    },
    {
     "name": "stdout",
     "output_type": "stream",
     "text": [
      "kl_loss_final: 0.3108309855063756, pre_loss : 0.25201359675044105\n"
     ]
    },
    {
     "name": "stderr",
     "output_type": "stream",
     "text": [
      "INFO:torchnlp.common.train:total_loss: -0.14864108904644294, kl_loss: 0.1312073015688378, nll_loss: 0.11377351381528525\n",
      "INFO:torchnlp.common.train:Train Loss: -0.14864\n",
      "INFO:torchnlp.common.train:Validation metrics:             \n",
      "INFO:torchnlp.common.train:loss=0.25467, acc=0.92597, acc-seq=0.28976, precision=0.84339, recall=0.88236, F1=0.86243\n",
      "INFO:torchnlp.common.model:-------------- Saved checkpoint 2025 --------------\n",
      "  0%|          | 0/81 [00:00<?, ?it/s]INFO:torchnlp.common.train:Epoch 26 (2025)\n",
      "Training:  19%|█▊        | 15/81 [00:00<00:00, 145.05it/s, loss=-.154]"
     ]
    },
    {
     "name": "stdout",
     "output_type": "stream",
     "text": [
      "kl_loss_final: 0.31161694654396604, pre_loss : 0.25466913268679664\n"
     ]
    },
    {
     "name": "stderr",
     "output_type": "stream",
     "text": [
      "INFO:torchnlp.common.train:total_loss: -0.14954783473117852, kl_loss: 0.1313506555226114, nll_loss: 0.1131534766819742\n",
      "INFO:torchnlp.common.train:Train Loss: -0.14955\n",
      "INFO:torchnlp.common.train:Validation metrics:             \n",
      "INFO:torchnlp.common.train:loss=0.25160, acc=0.92692, acc-seq=0.27932, precision=0.84664, recall=0.88366, F1=0.86475\n",
      "INFO:torchnlp.common.model:-------------- Saved checkpoint 2106 --------------\n",
      "  0%|          | 0/81 [00:00<?, ?it/s]INFO:torchnlp.common.train:Epoch 27 (2106)\n",
      "Training:  17%|█▋        | 14/81 [00:00<00:00, 137.97it/s, loss=-.151]"
     ]
    },
    {
     "name": "stdout",
     "output_type": "stream",
     "text": [
      "kl_loss_final: 0.3126260751769656, pre_loss : 0.2515995062532879\n"
     ]
    },
    {
     "name": "stderr",
     "output_type": "stream",
     "text": [
      "INFO:torchnlp.common.train:total_loss: -0.14967901462022168, kl_loss: 0.13138671154961173, nll_loss: 0.11309440893891418\n",
      "INFO:torchnlp.common.train:Train Loss: -0.14968\n",
      "INFO:torchnlp.common.train:Validation metrics:             \n",
      "INFO:torchnlp.common.train:loss=0.25398, acc=0.92733, acc-seq=0.28976, precision=0.84481, recall=0.88441, F1=0.86416\n",
      "INFO:torchnlp.common.model:-------------- Saved checkpoint 2187 --------------\n",
      "  0%|          | 0/81 [00:00<?, ?it/s]INFO:torchnlp.common.train:Epoch 28 (2187)\n",
      "Training:  19%|█▊        | 15/81 [00:00<00:00, 147.01it/s, loss=-.152]"
     ]
    },
    {
     "name": "stdout",
     "output_type": "stream",
     "text": [
      "kl_loss_final: 0.31287892411152524, pre_loss : 0.2539836459216617\n"
     ]
    },
    {
     "name": "stderr",
     "output_type": "stream",
     "text": [
      "INFO:torchnlp.common.train:total_loss: -0.14955702791979283, kl_loss: 0.1314028458278856, nll_loss: 0.11324866401192582\n",
      "INFO:torchnlp.common.train:Train Loss: -0.14956\n",
      "INFO:torchnlp.common.train:Validation metrics:             \n",
      "INFO:torchnlp.common.train:loss=0.25159, acc=0.92776, acc-seq=0.28628, precision=0.84897, recall=0.88567, F1=0.86693\n",
      "INFO:torchnlp.common.model:-------------- Saved checkpoint 2268 --------------\n",
      "  0%|          | 0/81 [00:00<?, ?it/s]INFO:torchnlp.common.train:Epoch 29 (2268)\n",
      "Training:  19%|█▊        | 15/81 [00:00<00:00, 143.22it/s, loss=-.15] "
     ]
    },
    {
     "name": "stdout",
     "output_type": "stream",
     "text": [
      "kl_loss_final: 0.31330382930380957, pre_loss : 0.25159172288009096\n"
     ]
    },
    {
     "name": "stderr",
     "output_type": "stream",
     "text": [
      "INFO:torchnlp.common.train:total_loss: -0.15067250033219656, kl_loss: 0.13149381714102662, nll_loss: 0.11231513440976908\n",
      "INFO:torchnlp.common.train:Train Loss: -0.15067\n",
      "INFO:torchnlp.common.train:Validation metrics:             \n",
      "INFO:torchnlp.common.train:loss=0.25256, acc=0.92809, acc-seq=0.30368, precision=0.84985, recall=0.88416, F1=0.86667\n",
      "INFO:torchnlp.common.model:-------------- Saved checkpoint 2349 --------------\n",
      "  0%|          | 0/81 [00:00<?, ?it/s]INFO:torchnlp.common.train:Epoch 30 (2349)\n",
      "Training:  19%|█▊        | 15/81 [00:00<00:00, 144.17it/s, loss=-.154]"
     ]
    },
    {
     "name": "stdout",
     "output_type": "stream",
     "text": [
      "kl_loss_final: 0.3142394643454325, pre_loss : 0.25256178705465226\n"
     ]
    },
    {
     "name": "stderr",
     "output_type": "stream",
     "text": [
      "INFO:torchnlp.common.train:total_loss: -0.15212341416397213, kl_loss: 0.1317387466997276, nll_loss: 0.1113540792354831\n",
      "INFO:torchnlp.common.train:Train Loss: -0.15212\n",
      "INFO:torchnlp.common.train:Validation metrics:             \n",
      "INFO:torchnlp.common.train:loss=0.25116, acc=0.92708, acc-seq=0.28579, precision=0.84715, recall=0.87905, F1=0.86280\n",
      "INFO:torchnlp.common.model:-------------- Saved checkpoint 2430 --------------\n",
      "  0%|          | 0/81 [00:00<?, ?it/s]INFO:torchnlp.common.train:Epoch 31 (2430)\n",
      "Training:  19%|█▊        | 15/81 [00:00<00:00, 144.56it/s, loss=-.151]"
     ]
    },
    {
     "name": "stdout",
     "output_type": "stream",
     "text": [
      "kl_loss_final: 0.3146253199804397, pre_loss : 0.25116280288923354\n"
     ]
    },
    {
     "name": "stderr",
     "output_type": "stream",
     "text": [
      "INFO:torchnlp.common.train:total_loss: -0.15314004036747378, kl_loss: 0.13175738998401312, nll_loss: 0.11037473895667511\n",
      "INFO:torchnlp.common.train:Train Loss: -0.15314\n",
      "INFO:torchnlp.common.train:Validation metrics:             \n",
      "INFO:torchnlp.common.train:loss=0.25671, acc=0.92833, acc-seq=0.30517, precision=0.84771, recall=0.88445, F1=0.86569\n",
      "INFO:torchnlp.common.model:-------------- Saved checkpoint 2511 --------------\n",
      "  0%|          | 0/81 [00:00<?, ?it/s]INFO:torchnlp.common.train:Epoch 32 (2511)\n",
      "Training:  19%|█▊        | 15/81 [00:00<00:00, 142.88it/s, loss=-.15] "
     ]
    },
    {
     "name": "stdout",
     "output_type": "stream",
     "text": [
      "kl_loss_final: 0.31592571416071485, pre_loss : 0.25670644357090905\n"
     ]
    },
    {
     "name": "stderr",
     "output_type": "stream",
     "text": [
      "INFO:torchnlp.common.train:total_loss: -0.15350092349596967, kl_loss: 0.13187497716259072, nll_loss: 0.11024903147308915\n",
      "INFO:torchnlp.common.train:Train Loss: -0.15350\n",
      "INFO:torchnlp.common.train:Validation metrics:             \n",
      "INFO:torchnlp.common.train:loss=0.25595, acc=0.92724, acc-seq=0.29821, precision=0.83720, recall=0.88613, F1=0.86097\n",
      "INFO:torchnlp.common.model:-------------- Saved checkpoint 2592 --------------\n",
      "  0%|          | 0/81 [00:00<?, ?it/s]INFO:torchnlp.common.train:Epoch 33 (2592)\n",
      "Training:  20%|█▉        | 16/81 [00:00<00:00, 151.31it/s, loss=-.155]"
     ]
    },
    {
     "name": "stdout",
     "output_type": "stream",
     "text": [
      "kl_loss_final: 0.31510613752262934, pre_loss : 0.2559528648853302\n"
     ]
    },
    {
     "name": "stderr",
     "output_type": "stream",
     "text": [
      "INFO:torchnlp.common.train:total_loss: -0.15389860835340288, kl_loss: 0.13192381452263138, nll_loss: 0.10994902124375473\n",
      "INFO:torchnlp.common.train:Train Loss: -0.15390\n",
      "INFO:torchnlp.common.train:Validation metrics:             \n",
      "INFO:torchnlp.common.train:loss=0.25231, acc=0.92790, acc-seq=0.29423, precision=0.85227, recall=0.88575, F1=0.86869\n",
      "INFO:torchnlp.common.model:-------------- Saved checkpoint 2673 --------------\n",
      "  0%|          | 0/81 [00:00<?, ?it/s]INFO:torchnlp.common.train:Epoch 34 (2673)\n",
      "Training:  17%|█▋        | 14/81 [00:00<00:00, 137.04it/s, loss=-.146]"
     ]
    },
    {
     "name": "stdout",
     "output_type": "stream",
     "text": [
      "kl_loss_final: 0.3153681503165336, pre_loss : 0.2523115575313568\n"
     ]
    },
    {
     "name": "stderr",
     "output_type": "stream",
     "text": [
      "INFO:torchnlp.common.train:total_loss: -0.1545909484963358, kl_loss: 0.13205251392023062, nll_loss: 0.10951407925214296\n",
      "INFO:torchnlp.common.train:Train Loss: -0.15459\n",
      "INFO:torchnlp.common.train:Validation metrics:             \n",
      "INFO:torchnlp.common.train:loss=0.25229, acc=0.92840, acc-seq=0.29920, precision=0.85415, recall=0.88391, F1=0.86878\n",
      "INFO:torchnlp.common.model:-------------- Saved checkpoint 2754 --------------\n",
      "  0%|          | 0/81 [00:00<?, ?it/s]INFO:torchnlp.common.train:Epoch 35 (2754)\n",
      "Training:  19%|█▊        | 15/81 [00:00<00:00, 141.71it/s, loss=-.165]"
     ]
    },
    {
     "name": "stdout",
     "output_type": "stream",
     "text": [
      "kl_loss_final: 0.31580755398387, pre_loss : 0.2522907803455989\n"
     ]
    },
    {
     "name": "stderr",
     "output_type": "stream",
     "text": [
      "INFO:torchnlp.common.train:total_loss: -0.1551499042062112, kl_loss: 0.13207679600627334, nll_loss: 0.10900368743840559\n",
      "INFO:torchnlp.common.train:Train Loss: -0.15515\n",
      "INFO:torchnlp.common.train:Validation metrics:             \n",
      "INFO:torchnlp.common.train:loss=0.24841, acc=0.92936, acc-seq=0.29920, precision=0.85660, recall=0.88403, F1=0.87010\n",
      "INFO:torchnlp.common.model:-------------- Saved checkpoint 2835 --------------\n",
      "  0%|          | 0/81 [00:00<?, ?it/s]INFO:torchnlp.common.train:Epoch 36 (2835)\n",
      "Training:  20%|█▉        | 16/81 [00:00<00:00, 151.47it/s, loss=-.158]"
     ]
    },
    {
     "name": "stdout",
     "output_type": "stream",
     "text": [
      "kl_loss_final: 0.31564761307977496, pre_loss : 0.2484128170070194\n"
     ]
    },
    {
     "name": "stderr",
     "output_type": "stream",
     "text": [
      "INFO:torchnlp.common.train:total_loss: -0.1548761655519038, kl_loss: 0.13212491387938274, nll_loss: 0.10937366285073905\n",
      "INFO:torchnlp.common.train:Train Loss: -0.15488\n",
      "INFO:torchnlp.common.train:Validation metrics:             \n",
      "INFO:torchnlp.common.train:loss=0.25324, acc=0.92866, acc-seq=0.29722, precision=0.85124, recall=0.88429, F1=0.86745\n",
      "INFO:torchnlp.common.model:-------------- Saved checkpoint 2916 --------------\n",
      "  0%|          | 0/81 [00:00<?, ?it/s]INFO:torchnlp.common.train:Epoch 37 (2916)\n",
      "Training:  19%|█▊        | 15/81 [00:00<00:00, 144.01it/s, loss=-.156]"
     ]
    },
    {
     "name": "stdout",
     "output_type": "stream",
     "text": [
      "kl_loss_final: 0.31629845854781924, pre_loss : 0.2532353606962022\n"
     ]
    },
    {
     "name": "stderr",
     "output_type": "stream",
     "text": [
      "INFO:torchnlp.common.train:total_loss: -0.15508847702064632, kl_loss: 0.13203685187999112, nll_loss: 0.1089852269233009\n",
      "INFO:torchnlp.common.train:Train Loss: -0.15509\n",
      "INFO:torchnlp.common.train:Validation metrics:             \n",
      "INFO:torchnlp.common.train:loss=0.25437, acc=0.92727, acc-seq=0.28728, precision=0.85005, recall=0.88320, F1=0.86631\n",
      "INFO:torchnlp.common.model:-------------- Saved checkpoint 2997 --------------\n",
      "  0%|          | 0/81 [00:00<?, ?it/s]INFO:torchnlp.common.train:Epoch 38 (2997)\n",
      "Training:  19%|█▊        | 15/81 [00:00<00:00, 149.66it/s, loss=-.154]"
     ]
    },
    {
     "name": "stdout",
     "output_type": "stream",
     "text": [
      "kl_loss_final: 0.3160238397263345, pre_loss : 0.25437497950735544\n"
     ]
    },
    {
     "name": "stderr",
     "output_type": "stream",
     "text": [
      "INFO:torchnlp.common.train:total_loss: -0.15624042177273903, kl_loss: 0.1322510326166212, nll_loss: 0.10826164346050333\n",
      "INFO:torchnlp.common.train:Train Loss: -0.15624\n",
      "INFO:torchnlp.common.train:Validation metrics:             \n",
      "INFO:torchnlp.common.train:loss=0.25350, acc=0.92910, acc-seq=0.30119, precision=0.84478, recall=0.88672, F1=0.86524\n",
      "INFO:torchnlp.common.model:-------------- Saved checkpoint 3078 --------------\n",
      "  0%|          | 0/81 [00:00<?, ?it/s]INFO:torchnlp.common.train:Epoch 39 (3078)\n",
      "Training:  19%|█▊        | 15/81 [00:00<00:00, 142.11it/s, loss=-.155]"
     ]
    },
    {
     "name": "stdout",
     "output_type": "stream",
     "text": [
      "kl_loss_final: 0.31684608899411704, pre_loss : 0.2535010427236557\n"
     ]
    },
    {
     "name": "stderr",
     "output_type": "stream",
     "text": [
      "INFO:torchnlp.common.train:total_loss: -0.1574410840317055, kl_loss: 0.13226717167798382, nll_loss: 0.10709325923227969\n",
      "INFO:torchnlp.common.train:Train Loss: -0.15744\n",
      "INFO:torchnlp.common.train:Validation metrics:             \n",
      "INFO:torchnlp.common.train:loss=0.25400, acc=0.92871, acc-seq=0.30020, precision=0.84632, recall=0.88546, F1=0.86545\n",
      "INFO:torchnlp.common.model:-------------- Saved checkpoint 3159 --------------\n",
      "  0%|          | 0/81 [00:00<?, ?it/s]INFO:torchnlp.common.train:Epoch 40 (3159)\n",
      "Training:  17%|█▋        | 14/81 [00:00<00:00, 139.97it/s, loss=-.166]"
     ]
    },
    {
     "name": "stdout",
     "output_type": "stream",
     "text": [
      "kl_loss_final: 0.31729798054411296, pre_loss : 0.2540049737408048\n"
     ]
    },
    {
     "name": "stderr",
     "output_type": "stream",
     "text": [
      "INFO:torchnlp.common.train:total_loss: -0.15714708200575392, kl_loss: 0.13243995459727298, nll_loss: 0.10773282829258177\n",
      "INFO:torchnlp.common.train:Train Loss: -0.15715\n",
      "INFO:torchnlp.common.train:Validation metrics:             \n",
      "INFO:torchnlp.common.train:loss=0.25002, acc=0.92969, acc-seq=0.30119, precision=0.85369, recall=0.88479, F1=0.86896\n",
      "INFO:torchnlp.common.train:Early stopping at iteration 2835, epoch 34, F1=0.87010\n",
      "  0%|          | 0/81 [00:00<?, ?it/s]"
     ]
    },
    {
     "name": "stdout",
     "output_type": "stream",
     "text": [
      "kl_loss_final: 0.31731123938446953, pre_loss : 0.25001790409996394\n"
     ]
    },
    {
     "name": "stderr",
     "output_type": "stream",
     "text": [
      "INFO:torchnlp.common.train:prediction, and attns for best epoch obtained, release hook\n",
      "INFO:torchnlp.common.train:prediction, and attns for best epoch obtained, release hook\n"
     ]
    },
    {
     "name": "stdout",
     "output_type": "stream",
     "text": [
      "SAVING PREDICTIONS AND ATTENTIONS\n",
      "done /home/zijiao/research/atal/saved_True_/11:38:25.980066/tr_pr_best\n",
      "done /home/zijiao/research/atal/saved_True_/11:38:25.980066/te_pr_best\n",
      "done /home/zijiao/research/atal/saved_True_/11:38:25.980066/tr_attn_best\n",
      "done /home/zijiao/research/atal/saved_True_/11:38:25.980066/te_attn_best\n",
      "LOOK HERE 0.25001790409996394 0.31731123938446953\n"
     ]
    },
    {
     "name": "stderr",
     "output_type": "stream",
     "text": [
      "INFO:torchnlp.data.conll:---------- CONLL 2000 Chunking ---------\n",
      "INFO:torchnlp.data.conll:Train size: 8042\n",
      "INFO:torchnlp.data.conll:Validation size: 894\n",
      "INFO:torchnlp.data.conll:Test size: 2012\n",
      "INFO:torchtext.vocab:Loading vectors from .vector_cache/glove.6B.200d.txt.pt\n",
      "INFO:torchtext.vocab:Loading vectors from .vector_cache/charNgram.txt.pt\n",
      "INFO:torchnlp.data.conll:Input vocab size:19032\n",
      "INFO:torchnlp.data.conll:Tagset size: 25\n",
      "INFO:torchnlp.common.model:\n",
      "Hyperparameters:\n",
      " batch_size=100\n",
      " embedding_size_word=300\n",
      " embedding_size_char=0\n",
      " embedding_size_char_per_word=100\n",
      " embedding_size_tags=100\n",
      " hidden_size=128\n",
      " learning_rate=0.2\n",
      " learning_rate_decay=noam_step\n",
      " max_length=256\n",
      " num_hidden_layers=1\n",
      " dropout=0.2\n",
      " optimizer_adam_beta1=0.9\n",
      " optimizer_adam_beta2=0.98\n",
      " use_crf=False\n",
      " num_heads=4\n",
      " attention_key_channels=0\n",
      " attention_value_channels=0\n",
      " filter_size=128\n",
      " filter_size_char=64\n",
      " input_dropout=0.2\n",
      " attention_dropout=0.2\n",
      " relu_dropout=0.2\n",
      " learning_rate_warmup_steps=500\n",
      " attn_path=./saved\n",
      " adversarial=True\n",
      " lmbda=2.0999999999999996\n",
      " froze=False\n",
      " froze_path=./froze\n",
      "INFO:torchnlp.common.train:Parameters: 140953(trainable), 5709601(non-trainable)\n",
      "INFO:torchnlp.common.train:Early stopping for highest value of validation F1 after 5 epochs\n",
      "  0%|          | 0/81 [00:00<?, ?it/s]INFO:torchnlp.common.train:Epoch 1 (0)\n",
      "INFO:torchnlp.common.train:total_loss: 1.3741004213138863, kl_loss: 0.04261068873291398, nll_loss: 1.4635828545799963\n",
      "INFO:torchnlp.common.train:Train Loss: 1.37410\n",
      "INFO:torchnlp.common.train:Validation metrics:             \n",
      "INFO:torchnlp.common.train:loss=1.02306, acc=0.65569, acc-seq=0.00149, precision=0.42141, recall=0.45493, F1=0.43753\n",
      "INFO:torchnlp.common.model:-------------- Saved checkpoint 81 --------------\n",
      "  0%|          | 0/81 [00:00<?, ?it/s]INFO:torchnlp.common.train:Epoch 2 (81)\n",
      "Training:  19%|█▊        | 15/81 [00:00<00:00, 141.85it/s, loss=0.336]"
     ]
    },
    {
     "name": "stdout",
     "output_type": "stream",
     "text": [
      "kl_loss_final: 0.1676512702944733, pre_loss : 1.0230643380255926\n"
     ]
    },
    {
     "name": "stderr",
     "output_type": "stream",
     "text": [
      "INFO:torchnlp.common.train:total_loss: 0.2363147443091428, kl_loss: 0.08278864208194944, nll_loss: 0.410170884412012\n",
      "INFO:torchnlp.common.train:Train Loss: 0.23631\n",
      "INFO:torchnlp.common.train:Validation metrics:             \n",
      "INFO:torchnlp.common.train:loss=0.63841, acc=0.76379, acc-seq=0.01889, precision=0.61402, recall=0.66674, F1=0.63929\n",
      "INFO:torchnlp.common.model:-------------- Saved checkpoint 162 --------------\n",
      "  0%|          | 0/81 [00:00<?, ?it/s]INFO:torchnlp.common.train:Epoch 3 (162)\n",
      "Training:  20%|█▉        | 16/81 [00:00<00:00, 151.40it/s, loss=0.123]"
     ]
    },
    {
     "name": "stdout",
     "output_type": "stream",
     "text": [
      "kl_loss_final: 0.22740135341882706, pre_loss : 0.638405571381251\n"
     ]
    },
    {
     "name": "stderr",
     "output_type": "stream",
     "text": [
      "INFO:torchnlp.common.train:total_loss: 0.09351375312716873, kl_loss: 0.09983900667708596, nll_loss: 0.30317565853948947\n",
      "INFO:torchnlp.common.train:Train Loss: 0.09351\n",
      "INFO:torchnlp.common.train:Validation metrics:             \n",
      "INFO:torchnlp.common.train:loss=0.55770, acc=0.78159, acc-seq=0.02336, precision=0.68218, recall=0.71046, F1=0.69603\n",
      "INFO:torchnlp.common.model:-------------- Saved checkpoint 243 --------------\n",
      "  0%|          | 0/81 [00:00<?, ?it/s]INFO:torchnlp.common.train:Epoch 4 (243)\n",
      "Training:  19%|█▊        | 15/81 [00:00<00:00, 142.43it/s, loss=0.0512]"
     ]
    },
    {
     "name": "stdout",
     "output_type": "stream",
     "text": [
      "kl_loss_final: 0.2580767944455147, pre_loss : 0.5577045239153362\n"
     ]
    },
    {
     "name": "stderr",
     "output_type": "stream",
     "text": [
      "INFO:torchnlp.common.train:total_loss: 0.04483976721027751, kl_loss: 0.10728521994602533, nll_loss: 0.27013871919961624\n",
      "INFO:torchnlp.common.train:Train Loss: 0.04484\n",
      "INFO:torchnlp.common.train:Validation metrics:             \n",
      "INFO:torchnlp.common.train:loss=0.54483, acc=0.78896, acc-seq=0.02883, precision=0.68129, recall=0.71948, F1=0.69986\n",
      "INFO:torchnlp.common.model:-------------- Saved checkpoint 324 --------------\n",
      "  0%|          | 0/81 [00:00<?, ?it/s]INFO:torchnlp.common.train:Epoch 5 (324)\n",
      "Training:  19%|█▊        | 15/81 [00:00<00:00, 145.57it/s, loss=0.0233]"
     ]
    },
    {
     "name": "stdout",
     "output_type": "stream",
     "text": [
      "kl_loss_final: 0.27916679105588366, pre_loss : 0.544829568692616\n"
     ]
    },
    {
     "name": "stderr",
     "output_type": "stream",
     "text": [
      "INFO:torchnlp.common.train:total_loss: 0.009486878175794342, kl_loss: 0.11650317070292837, nll_loss: 0.2541435241331289\n",
      "INFO:torchnlp.common.train:Train Loss: 0.00949\n",
      "INFO:torchnlp.common.train:Validation metrics:             \n",
      "INFO:torchnlp.common.train:loss=0.52263, acc=0.79577, acc-seq=0.02684, precision=0.70717, recall=0.75084, F1=0.72835\n",
      "INFO:torchnlp.common.model:-------------- Saved checkpoint 405 --------------\n",
      "  0%|          | 0/81 [00:00<?, ?it/s]INFO:torchnlp.common.train:Epoch 6 (405)\n",
      "Training:  19%|█▊        | 15/81 [00:00<00:00, 146.61it/s, loss=-.0217]"
     ]
    },
    {
     "name": "stdout",
     "output_type": "stream",
     "text": [
      "kl_loss_final: 0.3034666624097597, pre_loss : 0.5226250503744397\n"
     ]
    },
    {
     "name": "stderr",
     "output_type": "stream",
     "text": [
      "INFO:torchnlp.common.train:total_loss: -0.02479280439423926, kl_loss: 0.12801955888668695, nll_loss: 0.24404825730088317\n",
      "INFO:torchnlp.common.train:Train Loss: -0.02479\n",
      "INFO:torchnlp.common.train:Validation metrics:             \n",
      "INFO:torchnlp.common.train:loss=0.51394, acc=0.79465, acc-seq=0.03231, precision=0.69016, recall=0.74338, F1=0.71578\n",
      "INFO:torchnlp.common.model:-------------- Saved checkpoint 486 --------------\n",
      "  0%|          | 0/81 [00:00<?, ?it/s]INFO:torchnlp.common.train:Epoch 7 (486)\n",
      "Training:  19%|█▊        | 15/81 [00:00<00:00, 140.54it/s, loss=-.0334]"
     ]
    },
    {
     "name": "stdout",
     "output_type": "stream",
     "text": [
      "kl_loss_final: 0.31837782583066393, pre_loss : 0.5139427653380803\n"
     ]
    },
    {
     "name": "stderr",
     "output_type": "stream",
     "text": [
      "INFO:torchnlp.common.train:total_loss: -0.04045963784058889, kl_loss: 0.13128790535308696, nll_loss: 0.23524495168232623\n",
      "INFO:torchnlp.common.train:Train Loss: -0.04046\n",
      "INFO:torchnlp.common.train:Validation metrics:             \n",
      "INFO:torchnlp.common.train:loss=0.49504, acc=0.80523, acc-seq=0.03231, precision=0.69554, recall=0.76882, F1=0.73035\n",
      "INFO:torchnlp.common.model:-------------- Saved checkpoint 567 --------------\n",
      "  0%|          | 0/81 [00:00<?, ?it/s]INFO:torchnlp.common.train:Epoch 8 (567)\n",
      "Training:  19%|█▊        | 15/81 [00:00<00:00, 145.67it/s, loss=-.0505]"
     ]
    },
    {
     "name": "stdout",
     "output_type": "stream",
     "text": [
      "kl_loss_final: 0.3229797269616808, pre_loss : 0.4950377643108368\n"
     ]
    },
    {
     "name": "stderr",
     "output_type": "stream",
     "text": [
      "INFO:torchnlp.common.train:total_loss: -0.050501535888071415, kl_loss: 0.13241520404447743, nll_loss: 0.22757037903791594\n",
      "INFO:torchnlp.common.train:Train Loss: -0.05050\n",
      "INFO:torchnlp.common.train:Validation metrics:             \n",
      "INFO:torchnlp.common.train:loss=0.49893, acc=0.80760, acc-seq=0.03380, precision=0.71054, recall=0.77905, F1=0.74322\n",
      "INFO:torchnlp.common.model:-------------- Saved checkpoint 648 --------------\n",
      "  0%|          | 0/81 [00:00<?, ?it/s]INFO:torchnlp.common.train:Epoch 9 (648)\n",
      "Training:  19%|█▊        | 15/81 [00:00<00:00, 143.87it/s, loss=-.0566]"
     ]
    },
    {
     "name": "stdout",
     "output_type": "stream",
     "text": [
      "kl_loss_final: 0.32712446756306146, pre_loss : 0.49892581928344\n"
     ]
    },
    {
     "name": "stderr",
     "output_type": "stream",
     "text": [
      "INFO:torchnlp.common.train:total_loss: -0.05668631269608015, kl_loss: 0.13328463758951353, nll_loss: 0.22321141336435152\n",
      "INFO:torchnlp.common.train:Train Loss: -0.05669\n",
      "INFO:torchnlp.common.train:Validation metrics:             \n",
      "INFO:torchnlp.common.train:loss=0.48825, acc=0.80908, acc-seq=0.03082, precision=0.69977, recall=0.77645, F1=0.73612\n",
      "INFO:torchnlp.common.model:-------------- Saved checkpoint 729 --------------\n",
      "  0%|          | 0/81 [00:00<?, ?it/s]INFO:torchnlp.common.train:Epoch 10 (729)\n",
      "Training:  20%|█▉        | 16/81 [00:00<00:00, 150.20it/s, loss=-.0642]"
     ]
    },
    {
     "name": "stdout",
     "output_type": "stream",
     "text": [
      "kl_loss_final: 0.32907424760716303, pre_loss : 0.488246956041881\n"
     ]
    },
    {
     "name": "stderr",
     "output_type": "stream",
     "text": [
      "INFO:torchnlp.common.train:total_loss: -0.06152252264228868, kl_loss: 0.13373850534359613, nll_loss: 0.21932832694347995\n",
      "INFO:torchnlp.common.train:Train Loss: -0.06152\n",
      "INFO:torchnlp.common.train:Validation metrics:             \n",
      "INFO:torchnlp.common.train:loss=0.48889, acc=0.81167, acc-seq=0.03082, precision=0.69168, recall=0.77625, F1=0.73153\n",
      "INFO:torchnlp.common.model:-------------- Saved checkpoint 810 --------------\n",
      "  0%|          | 0/81 [00:00<?, ?it/s]INFO:torchnlp.common.train:Epoch 11 (810)\n",
      "Training:  19%|█▊        | 15/81 [00:00<00:00, 146.45it/s, loss=-.064] "
     ]
    },
    {
     "name": "stdout",
     "output_type": "stream",
     "text": [
      "kl_loss_final: 0.33055512074913296, pre_loss : 0.48888992695581346\n"
     ]
    },
    {
     "name": "stderr",
     "output_type": "stream",
     "text": [
      "INFO:torchnlp.common.train:total_loss: -0.06620382839514885, kl_loss: 0.13431700282258752, nll_loss: 0.21586186356014675\n",
      "INFO:torchnlp.common.train:Train Loss: -0.06620\n",
      "INFO:torchnlp.common.train:Validation metrics:             \n",
      "INFO:torchnlp.common.train:loss=0.47868, acc=0.81159, acc-seq=0.04225, precision=0.68627, recall=0.77604, F1=0.72840\n",
      "INFO:torchnlp.common.model:-------------- Saved checkpoint 891 --------------\n",
      "  0%|          | 0/81 [00:00<?, ?it/s]INFO:torchnlp.common.train:Epoch 12 (891)\n",
      "Training:  17%|█▋        | 14/81 [00:00<00:00, 139.90it/s, loss=-.0718]"
     ]
    },
    {
     "name": "stdout",
     "output_type": "stream",
     "text": [
      "kl_loss_final: 0.3321073906762259, pre_loss : 0.47868408049855915\n"
     ]
    },
    {
     "name": "stderr",
     "output_type": "stream",
     "text": [
      "INFO:torchnlp.common.train:total_loss: -0.06839670719187936, kl_loss: 0.1346901907229129, nll_loss: 0.2144526798783997\n",
      "INFO:torchnlp.common.train:Train Loss: -0.06840\n",
      "INFO:torchnlp.common.train:Validation metrics:             \n",
      "INFO:torchnlp.common.train:loss=0.48599, acc=0.81126, acc-seq=0.03380, precision=0.71733, recall=0.79029, F1=0.75204\n",
      "INFO:torchnlp.common.model:-------------- Saved checkpoint 972 --------------\n",
      "  0%|          | 0/81 [00:00<?, ?it/s]INFO:torchnlp.common.train:Epoch 13 (972)\n",
      "Training:  19%|█▊        | 15/81 [00:00<00:00, 144.47it/s, loss=-.069] "
     ]
    },
    {
     "name": "stdout",
     "output_type": "stream",
     "text": [
      "kl_loss_final: 0.333568668791226, pre_loss : 0.48598641866729375\n"
     ]
    },
    {
     "name": "stderr",
     "output_type": "stream",
     "text": [
      "INFO:torchnlp.common.train:total_loss: -0.06959353111408374, kl_loss: 0.13490533230849255, nll_loss: 0.2137076536446442\n",
      "INFO:torchnlp.common.train:Train Loss: -0.06959\n",
      "INFO:torchnlp.common.train:Validation metrics:             \n",
      "INFO:torchnlp.common.train:loss=0.48281, acc=0.80823, acc-seq=0.03926, precision=0.67424, recall=0.75658, F1=0.71304\n",
      "INFO:torchnlp.common.model:-------------- Saved checkpoint 1053 --------------\n",
      "  0%|          | 0/81 [00:00<?, ?it/s]INFO:torchnlp.common.train:Epoch 14 (1053)\n",
      "Training:  19%|█▊        | 15/81 [00:00<00:00, 146.07it/s, loss=-.0763]"
     ]
    },
    {
     "name": "stdout",
     "output_type": "stream",
     "text": [
      "kl_loss_final: 0.3334186715739114, pre_loss : 0.4828134108157385\n"
     ]
    },
    {
     "name": "stderr",
     "output_type": "stream",
     "text": [
      "INFO:torchnlp.common.train:total_loss: -0.07237506317503659, kl_loss: 0.1351802827399454, nll_loss: 0.21150351803243897\n",
      "INFO:torchnlp.common.train:Train Loss: -0.07238\n",
      "INFO:torchnlp.common.train:Validation metrics:             \n",
      "INFO:torchnlp.common.train:loss=0.48064, acc=0.81636, acc-seq=0.04175, precision=0.70280, recall=0.78094, F1=0.73981\n",
      "INFO:torchnlp.common.model:-------------- Saved checkpoint 1134 --------------\n",
      "  0%|          | 0/81 [00:00<?, ?it/s]INFO:torchnlp.common.train:Epoch 15 (1134)\n",
      "Training:  19%|█▊        | 15/81 [00:00<00:00, 139.55it/s, loss=-.0755]"
     ]
    },
    {
     "name": "stdout",
     "output_type": "stream",
     "text": [
      "kl_loss_final: 0.3343303359690167, pre_loss : 0.4806356855801174\n"
     ]
    },
    {
     "name": "stderr",
     "output_type": "stream",
     "text": [
      "INFO:torchnlp.common.train:total_loss: -0.07428517367368863, kl_loss: 0.1352531048066822, nll_loss: 0.20974633300010068\n",
      "INFO:torchnlp.common.train:Train Loss: -0.07429\n",
      "INFO:torchnlp.common.train:Validation metrics:             \n",
      "INFO:torchnlp.common.train:loss=0.47639, acc=0.81741, acc-seq=0.04920, precision=0.70817, recall=0.78388, F1=0.74410\n",
      "INFO:torchnlp.common.model:-------------- Saved checkpoint 1215 --------------\n",
      "  0%|          | 0/81 [00:00<?, ?it/s]INFO:torchnlp.common.train:Epoch 16 (1215)\n",
      "Training:  19%|█▊        | 15/81 [00:00<00:00, 144.02it/s, loss=-.0724]"
     ]
    },
    {
     "name": "stdout",
     "output_type": "stream",
     "text": [
      "kl_loss_final: 0.3354400375059673, pre_loss : 0.47639402179490953\n"
     ]
    },
    {
     "name": "stderr",
     "output_type": "stream",
     "text": [
      "INFO:torchnlp.common.train:total_loss: -0.07635536109223778, kl_loss: 0.13551345761911368, nll_loss: 0.20822288666242433\n",
      "INFO:torchnlp.common.train:Train Loss: -0.07636\n",
      "INFO:torchnlp.common.train:Validation metrics:             \n",
      "INFO:torchnlp.common.train:loss=0.47352, acc=0.81858, acc-seq=0.04672, precision=0.69914, recall=0.78417, F1=0.73922\n",
      "INFO:torchnlp.common.model:-------------- Saved checkpoint 1296 --------------\n",
      "  0%|          | 0/81 [00:00<?, ?it/s]INFO:torchnlp.common.train:Epoch 17 (1296)\n",
      "Training:  19%|█▊        | 15/81 [00:00<00:00, 144.35it/s, loss=-.0787]"
     ]
    },
    {
     "name": "stdout",
     "output_type": "stream",
     "text": [
      "kl_loss_final: 0.33651583180541084, pre_loss : 0.47352145257450284\n"
     ]
    },
    {
     "name": "stderr",
     "output_type": "stream",
     "text": [
      "INFO:torchnlp.common.train:total_loss: -0.07801986734072368, kl_loss: 0.13568082001106238, nll_loss: 0.20690984232926074\n",
      "INFO:torchnlp.common.train:Train Loss: -0.07802\n",
      "INFO:torchnlp.common.train:Validation metrics:             \n",
      "INFO:torchnlp.common.train:loss=0.47195, acc=0.81502, acc-seq=0.04523, precision=0.65682, recall=0.76472, F1=0.70668\n",
      "INFO:torchnlp.common.train:Early stopping at iteration 972, epoch 11, F1=0.75204\n",
      "  6%|▌         | 5/81 [00:00<00:01, 40.08it/s]"
     ]
    },
    {
     "name": "stdout",
     "output_type": "stream",
     "text": [
      "kl_loss_final: 0.33702289987178075, pre_loss : 0.47194844484329224\n"
     ]
    },
    {
     "name": "stderr",
     "output_type": "stream",
     "text": [
      "INFO:torchnlp.common.train:prediction, and attns for best epoch obtained, release hook\n",
      "INFO:torchnlp.common.train:prediction, and attns for best epoch obtained, release hook\n"
     ]
    },
    {
     "name": "stdout",
     "output_type": "stream",
     "text": [
      "SAVING PREDICTIONS AND ATTENTIONS\n",
      "done /home/zijiao/research/atal/saved_True_/11:39:07.930905/tr_pr_best\n",
      "done /home/zijiao/research/atal/saved_True_/11:39:07.930905/te_pr_best\n",
      "done /home/zijiao/research/atal/saved_True_/11:39:07.930905/tr_attn_best\n",
      "done /home/zijiao/research/atal/saved_True_/11:39:07.930905/te_attn_best\n",
      "LOOK HERE 0.47194844484329224 0.33702289987178075\n"
     ]
    },
    {
     "name": "stderr",
     "output_type": "stream",
     "text": [
      "INFO:torchnlp.data.conll:---------- CONLL 2000 Chunking ---------\n",
      "INFO:torchnlp.data.conll:Train size: 8042\n",
      "INFO:torchnlp.data.conll:Validation size: 894\n",
      "INFO:torchnlp.data.conll:Test size: 2012\n",
      "INFO:torchtext.vocab:Loading vectors from .vector_cache/glove.6B.200d.txt.pt\n",
      "INFO:torchtext.vocab:Loading vectors from .vector_cache/charNgram.txt.pt\n",
      "INFO:torchnlp.data.conll:Input vocab size:19032\n",
      "INFO:torchnlp.data.conll:Tagset size: 25\n",
      "INFO:torchnlp.common.model:\n",
      "Hyperparameters:\n",
      " batch_size=100\n",
      " embedding_size_word=300\n",
      " embedding_size_char=0\n",
      " embedding_size_char_per_word=100\n",
      " embedding_size_tags=100\n",
      " hidden_size=128\n",
      " learning_rate=0.2\n",
      " learning_rate_decay=noam_step\n",
      " max_length=256\n",
      " num_hidden_layers=1\n",
      " dropout=0.2\n",
      " optimizer_adam_beta1=0.9\n",
      " optimizer_adam_beta2=0.98\n",
      " use_crf=False\n",
      " num_heads=4\n",
      " attention_key_channels=0\n",
      " attention_value_channels=0\n",
      " filter_size=128\n",
      " filter_size_char=64\n",
      " input_dropout=0.2\n",
      " attention_dropout=0.2\n",
      " relu_dropout=0.2\n",
      " learning_rate_warmup_steps=500\n",
      " attn_path=./saved\n",
      " adversarial=True\n",
      " lmbda=2.1999999999999993\n",
      " froze=False\n",
      " froze_path=./froze\n",
      "INFO:torchnlp.common.train:Parameters: 140953(trainable), 5709601(non-trainable)\n",
      "INFO:torchnlp.common.train:Early stopping for highest value of validation F1 after 5 epochs\n",
      "  0%|          | 0/81 [00:00<?, ?it/s]INFO:torchnlp.common.train:Epoch 1 (0)\n",
      "INFO:torchnlp.common.train:total_loss: 1.3038567201590832, kl_loss: 0.04423016608681208, nll_loss: 1.4011630879508123\n",
      "INFO:torchnlp.common.train:Train Loss: 1.30386\n",
      "INFO:torchnlp.common.train:Validation metrics:             \n",
      "INFO:torchnlp.common.train:loss=1.19625, acc=0.56056, acc-seq=0.00000, precision=0.28191, recall=0.35553, F1=0.31446\n",
      "INFO:torchnlp.common.model:-------------- Saved checkpoint 81 --------------\n",
      "  0%|          | 0/81 [00:00<?, ?it/s]INFO:torchnlp.common.train:Epoch 2 (81)\n",
      "Training:  19%|█▊        | 15/81 [00:00<00:00, 148.23it/s, loss=0.328]"
     ]
    },
    {
     "name": "stdout",
     "output_type": "stream",
     "text": [
      "kl_loss_final: 0.19868955033875646, pre_loss : 1.1962465132985796\n"
     ]
    },
    {
     "name": "stderr",
     "output_type": "stream",
     "text": [
      "INFO:torchnlp.common.train:total_loss: 0.22026808817445495, kl_loss: 0.09104243762515209, nll_loss: 0.4205614549142343\n",
      "INFO:torchnlp.common.train:Train Loss: 0.22027\n",
      "INFO:torchnlp.common.train:Validation metrics:             \n",
      "INFO:torchnlp.common.train:loss=0.70057, acc=0.73752, acc-seq=0.00596, precision=0.53062, recall=0.63274, F1=0.57720\n",
      "INFO:torchnlp.common.model:-------------- Saved checkpoint 162 --------------\n",
      "  0%|          | 0/81 [00:00<?, ?it/s]INFO:torchnlp.common.train:Epoch 3 (162)\n",
      "Training:  19%|█▊        | 15/81 [00:00<00:00, 142.24it/s, loss=0.0951]"
     ]
    },
    {
     "name": "stdout",
     "output_type": "stream",
     "text": [
      "kl_loss_final: 0.24077549896069936, pre_loss : 0.7005694735617864\n"
     ]
    },
    {
     "name": "stderr",
     "output_type": "stream",
     "text": [
      "INFO:torchnlp.common.train:total_loss: 0.06850721291553827, kl_loss: 0.1074271148737566, nll_loss: 0.30484687049447756\n",
      "INFO:torchnlp.common.train:Train Loss: 0.06851\n",
      "INFO:torchnlp.common.train:Validation metrics:             \n",
      "INFO:torchnlp.common.train:loss=0.60763, acc=0.76951, acc-seq=0.01392, precision=0.56421, recall=0.69311, F1=0.62205\n",
      "INFO:torchnlp.common.model:-------------- Saved checkpoint 243 --------------\n",
      "  0%|          | 0/81 [00:00<?, ?it/s]INFO:torchnlp.common.train:Epoch 4 (243)\n",
      "Training:  17%|█▋        | 14/81 [00:00<00:00, 135.46it/s, loss=0.034] "
     ]
    },
    {
     "name": "stdout",
     "output_type": "stream",
     "text": [
      "kl_loss_final: 0.25333569943904877, pre_loss : 0.6076306204001108\n"
     ]
    },
    {
     "name": "stderr",
     "output_type": "stream",
     "text": [
      "INFO:torchnlp.common.train:total_loss: 0.02312113639013267, kl_loss: 0.11141894463403726, nll_loss: 0.2682428192577244\n",
      "INFO:torchnlp.common.train:Train Loss: 0.02312\n",
      "INFO:torchnlp.common.train:Validation metrics:             \n",
      "INFO:torchnlp.common.train:loss=0.53293, acc=0.78700, acc-seq=0.02584, precision=0.65049, recall=0.71918, F1=0.68311\n",
      "INFO:torchnlp.common.model:-------------- Saved checkpoint 324 --------------\n",
      "  0%|          | 0/81 [00:00<?, ?it/s]INFO:torchnlp.common.train:Epoch 5 (324)\n",
      "Training:  15%|█▍        | 12/81 [00:00<00:00, 119.91it/s, loss=-.000219]"
     ]
    },
    {
     "name": "stdout",
     "output_type": "stream",
     "text": [
      "kl_loss_final: 0.26488525455906275, pre_loss : 0.5329275528589884\n"
     ]
    },
    {
     "name": "stderr",
     "output_type": "stream",
     "text": [
      "INFO:torchnlp.common.train:total_loss: -0.0048236635364132165, kl_loss: 0.11706468324970316, nll_loss: 0.2527186452974508\n",
      "INFO:torchnlp.common.train:Train Loss: -0.00482\n",
      "INFO:torchnlp.common.train:Validation metrics:             \n",
      "INFO:torchnlp.common.train:loss=0.52050, acc=0.79918, acc-seq=0.03082, precision=0.69695, recall=0.75478, F1=0.72471\n",
      "INFO:torchnlp.common.model:-------------- Saved checkpoint 405 --------------\n",
      "  0%|          | 0/81 [00:00<?, ?it/s]INFO:torchnlp.common.train:Epoch 6 (405)\n",
      "Training:  19%|█▊        | 15/81 [00:00<00:00, 137.82it/s, loss=-.0193]"
     ]
    },
    {
     "name": "stdout",
     "output_type": "stream",
     "text": [
      "kl_loss_final: 0.2746870716412862, pre_loss : 0.5205024565969195\n"
     ]
    },
    {
     "name": "stderr",
     "output_type": "stream",
     "text": [
      "INFO:torchnlp.common.train:total_loss: -0.023004473727426412, kl_loss: 0.12046150863170624, nll_loss: 0.24201085096524086\n",
      "INFO:torchnlp.common.train:Train Loss: -0.02300\n",
      "INFO:torchnlp.common.train:Validation metrics:             \n",
      "INFO:torchnlp.common.train:loss=0.51001, acc=0.80229, acc-seq=0.03032, precision=0.70268, recall=0.76740, F1=0.73361\n",
      "INFO:torchnlp.common.model:-------------- Saved checkpoint 486 --------------\n",
      "  0%|          | 0/81 [00:00<?, ?it/s]INFO:torchnlp.common.train:Epoch 7 (486)\n",
      "Training:  19%|█▊        | 15/81 [00:00<00:00, 143.82it/s, loss=-.0295]"
     ]
    },
    {
     "name": "stdout",
     "output_type": "stream",
     "text": [
      "kl_loss_final: 0.2901120998320125, pre_loss : 0.5100145198049999\n"
     ]
    },
    {
     "name": "stderr",
     "output_type": "stream",
     "text": [
      "INFO:torchnlp.common.train:total_loss: -0.03893985406116203, kl_loss: 0.12417891685977395, nll_loss: 0.2342537709592301\n",
      "INFO:torchnlp.common.train:Train Loss: -0.03894\n",
      "INFO:torchnlp.common.train:Validation metrics:             \n",
      "INFO:torchnlp.common.train:loss=0.49588, acc=0.80554, acc-seq=0.02783, precision=0.70927, recall=0.76681, F1=0.73692\n",
      "INFO:torchnlp.common.model:-------------- Saved checkpoint 567 --------------\n",
      "  0%|          | 0/81 [00:00<?, ?it/s]INFO:torchnlp.common.train:Epoch 8 (567)\n",
      "Training:  19%|█▊        | 15/81 [00:00<00:00, 144.67it/s, loss=-.0539]"
     ]
    },
    {
     "name": "stdout",
     "output_type": "stream",
     "text": [
      "kl_loss_final: 0.30686649680137634, pre_loss : 0.49587519679750713\n"
     ]
    },
    {
     "name": "stderr",
     "output_type": "stream",
     "text": [
      "INFO:torchnlp.common.train:total_loss: -0.05458800494670868, kl_loss: 0.1280256461949996, nll_loss: 0.2270684231210638\n",
      "INFO:torchnlp.common.train:Train Loss: -0.05459\n",
      "INFO:torchnlp.common.train:Validation metrics:             \n",
      "INFO:torchnlp.common.train:loss=0.49970, acc=0.80774, acc-seq=0.03330, precision=0.70964, recall=0.77373, F1=0.74030\n",
      "INFO:torchnlp.common.model:-------------- Saved checkpoint 648 --------------\n",
      "  0%|          | 0/81 [00:00<?, ?it/s]INFO:torchnlp.common.train:Epoch 9 (648)\n",
      "Training:  19%|█▊        | 15/81 [00:00<00:00, 147.96it/s, loss=-.0664]"
     ]
    },
    {
     "name": "stdout",
     "output_type": "stream",
     "text": [
      "kl_loss_final: 0.31634256846847986, pre_loss : 0.49970077049164546\n"
     ]
    },
    {
     "name": "stderr",
     "output_type": "stream",
     "text": [
      "INFO:torchnlp.common.train:total_loss: -0.06433940007362837, kl_loss: 0.1300734849991622, nll_loss: 0.22182227284819991\n",
      "INFO:torchnlp.common.train:Train Loss: -0.06434\n",
      "INFO:torchnlp.common.train:Validation metrics:             \n",
      "INFO:torchnlp.common.train:loss=0.48702, acc=0.80844, acc-seq=0.03827, precision=0.68175, recall=0.76115, F1=0.71927\n",
      "INFO:torchnlp.common.model:-------------- Saved checkpoint 729 --------------\n",
      "  0%|          | 0/81 [00:00<?, ?it/s]INFO:torchnlp.common.train:Epoch 10 (729)\n",
      "Training:  19%|█▊        | 15/81 [00:00<00:00, 148.61it/s, loss=-.0724]"
     ]
    },
    {
     "name": "stdout",
     "output_type": "stream",
     "text": [
      "kl_loss_final: 0.3219747468829155, pre_loss : 0.4870232670080094\n"
     ]
    },
    {
     "name": "stderr",
     "output_type": "stream",
     "text": [
      "INFO:torchnlp.common.train:total_loss: -0.06984064571651412, kl_loss: 0.13110904901483914, nll_loss: 0.21859926886764575\n",
      "INFO:torchnlp.common.train:Train Loss: -0.06984\n",
      "INFO:torchnlp.common.train:Validation metrics:             \n",
      "INFO:torchnlp.common.train:loss=0.48772, acc=0.81177, acc-seq=0.04125, precision=0.69299, recall=0.77750, F1=0.73282\n",
      "INFO:torchnlp.common.model:-------------- Saved checkpoint 810 --------------\n",
      "  0%|          | 0/81 [00:00<?, ?it/s]INFO:torchnlp.common.train:Epoch 11 (810)\n",
      "Training:  19%|█▊        | 15/81 [00:00<00:00, 144.20it/s, loss=-.0727]"
     ]
    },
    {
     "name": "stdout",
     "output_type": "stream",
     "text": [
      "kl_loss_final: 0.3238415182346389, pre_loss : 0.4877240700381143\n"
     ]
    },
    {
     "name": "stderr",
     "output_type": "stream",
     "text": [
      "INFO:torchnlp.common.train:total_loss: -0.07220282230848148, kl_loss: 0.13138957367635068, nll_loss: 0.21685424814989537\n",
      "INFO:torchnlp.common.train:Train Loss: -0.07220\n",
      "INFO:torchnlp.common.train:Validation metrics:             \n",
      "INFO:torchnlp.common.train:loss=0.48626, acc=0.81179, acc-seq=0.03827, precision=0.69473, recall=0.77570, F1=0.73298\n",
      "INFO:torchnlp.common.model:-------------- Saved checkpoint 891 --------------\n",
      "  0%|          | 0/81 [00:00<?, ?it/s]INFO:torchnlp.common.train:Epoch 12 (891)\n",
      "Training:  17%|█▋        | 14/81 [00:00<00:00, 139.20it/s, loss=-.0763]"
     ]
    },
    {
     "name": "stdout",
     "output_type": "stream",
     "text": [
      "kl_loss_final: 0.3276610342519624, pre_loss : 0.4862571202573322\n"
     ]
    },
    {
     "name": "stderr",
     "output_type": "stream",
     "text": [
      "INFO:torchnlp.common.train:total_loss: -0.07706545127762689, kl_loss: 0.1321525800007361, nll_loss: 0.2136702311259729\n",
      "INFO:torchnlp.common.train:Train Loss: -0.07707\n",
      "INFO:torchnlp.common.train:Validation metrics:             \n",
      "INFO:torchnlp.common.train:loss=0.48153, acc=0.81387, acc-seq=0.04225, precision=0.68640, recall=0.77725, F1=0.72901\n",
      "INFO:torchnlp.common.model:-------------- Saved checkpoint 972 --------------\n",
      "  0%|          | 0/81 [00:00<?, ?it/s]INFO:torchnlp.common.train:Epoch 13 (972)\n",
      "Training:  17%|█▋        | 14/81 [00:00<00:00, 134.51it/s, loss=-.0745]"
     ]
    },
    {
     "name": "stdout",
     "output_type": "stream",
     "text": [
      "kl_loss_final: 0.3290484011882827, pre_loss : 0.48153324780010043\n"
     ]
    },
    {
     "name": "stderr",
     "output_type": "stream",
     "text": [
      "INFO:torchnlp.common.train:total_loss: -0.08031153531722081, kl_loss: 0.13304896137596647, nll_loss: 0.21239618570716293\n",
      "INFO:torchnlp.common.train:Train Loss: -0.08031\n",
      "INFO:torchnlp.common.train:Validation metrics:             \n",
      "INFO:torchnlp.common.train:loss=0.48444, acc=0.81360, acc-seq=0.04225, precision=0.68950, recall=0.77662, F1=0.73047\n",
      "INFO:torchnlp.common.train:Early stopping at iteration 648, epoch 7, F1=0.74030\n",
      "  6%|▌         | 5/81 [00:00<00:01, 40.46it/s]"
     ]
    },
    {
     "name": "stdout",
     "output_type": "stream",
     "text": [
      "kl_loss_final: 0.33018102177551817, pre_loss : 0.4844432714439574\n"
     ]
    },
    {
     "name": "stderr",
     "output_type": "stream",
     "text": [
      "INFO:torchnlp.common.train:prediction, and attns for best epoch obtained, release hook\n",
      "INFO:torchnlp.common.train:prediction, and attns for best epoch obtained, release hook\n"
     ]
    },
    {
     "name": "stdout",
     "output_type": "stream",
     "text": [
      "SAVING PREDICTIONS AND ATTENTIONS\n",
      "done /home/zijiao/research/atal/saved_True_/11:39:41.859256/tr_pr_best\n",
      "done /home/zijiao/research/atal/saved_True_/11:39:41.859256/te_pr_best\n",
      "done /home/zijiao/research/atal/saved_True_/11:39:41.859256/tr_attn_best\n",
      "done /home/zijiao/research/atal/saved_True_/11:39:41.859256/te_attn_best\n",
      "LOOK HERE 0.4844432714439574 0.33018102177551817\n"
     ]
    },
    {
     "name": "stderr",
     "output_type": "stream",
     "text": [
      "INFO:torchnlp.data.conll:---------- CONLL 2000 Chunking ---------\n",
      "INFO:torchnlp.data.conll:Train size: 8042\n",
      "INFO:torchnlp.data.conll:Validation size: 894\n",
      "INFO:torchnlp.data.conll:Test size: 2012\n",
      "INFO:torchtext.vocab:Loading vectors from .vector_cache/glove.6B.200d.txt.pt\n",
      "INFO:torchtext.vocab:Loading vectors from .vector_cache/charNgram.txt.pt\n",
      "INFO:torchnlp.data.conll:Input vocab size:19032\n",
      "INFO:torchnlp.data.conll:Tagset size: 25\n",
      "INFO:torchnlp.common.model:\n",
      "Hyperparameters:\n",
      " batch_size=100\n",
      " embedding_size_word=300\n",
      " embedding_size_char=0\n",
      " embedding_size_char_per_word=100\n",
      " embedding_size_tags=100\n",
      " hidden_size=128\n",
      " learning_rate=0.2\n",
      " learning_rate_decay=noam_step\n",
      " max_length=256\n",
      " num_hidden_layers=1\n",
      " dropout=0.2\n",
      " optimizer_adam_beta1=0.9\n",
      " optimizer_adam_beta2=0.98\n",
      " use_crf=False\n",
      " num_heads=4\n",
      " attention_key_channels=0\n",
      " attention_value_channels=0\n",
      " filter_size=128\n",
      " filter_size_char=64\n",
      " input_dropout=0.2\n",
      " attention_dropout=0.2\n",
      " relu_dropout=0.2\n",
      " learning_rate_warmup_steps=500\n",
      " attn_path=./saved\n",
      " adversarial=True\n",
      " lmbda=2.3\n",
      " froze=False\n",
      " froze_path=./froze\n",
      "INFO:torchnlp.common.train:Parameters: 140953(trainable), 5709601(non-trainable)\n",
      "INFO:torchnlp.common.train:Early stopping for highest value of validation F1 after 5 epochs\n",
      "  0%|          | 0/81 [00:00<?, ?it/s]INFO:torchnlp.common.train:Epoch 1 (0)\n",
      "INFO:torchnlp.common.train:total_loss: 1.2425864125475472, kl_loss: 0.03765585910482907, nll_loss: 1.3291948930716808\n",
      "INFO:torchnlp.common.train:Train Loss: 1.24259\n",
      "INFO:torchnlp.common.train:Validation metrics:             \n",
      "INFO:torchnlp.common.train:loss=1.05219, acc=0.64330, acc-seq=0.00149, precision=0.39505, recall=0.47468, F1=0.43122\n",
      "INFO:torchnlp.common.model:-------------- Saved checkpoint 81 --------------\n",
      "  0%|          | 0/81 [00:00<?, ?it/s]INFO:torchnlp.common.train:Epoch 2 (81)\n",
      "Training:  19%|█▊        | 15/81 [00:00<00:00, 147.17it/s, loss=0.295]"
     ]
    },
    {
     "name": "stdout",
     "output_type": "stream",
     "text": [
      "kl_loss_final: 0.1673116653802849, pre_loss : 1.0521936189560663\n"
     ]
    },
    {
     "name": "stderr",
     "output_type": "stream",
     "text": [
      "INFO:torchnlp.common.train:total_loss: 0.20832750973878084, kl_loss: 0.08043357201012565, nll_loss: 0.3933247213746295\n",
      "INFO:torchnlp.common.train:Train Loss: 0.20833\n",
      "INFO:torchnlp.common.train:Validation metrics:             \n",
      "INFO:torchnlp.common.train:loss=0.67328, acc=0.75998, acc-seq=0.00994, precision=0.60212, recall=0.66707, F1=0.63293\n",
      "INFO:torchnlp.common.model:-------------- Saved checkpoint 162 --------------\n",
      "  0%|          | 0/81 [00:00<?, ?it/s]INFO:torchnlp.common.train:Epoch 3 (162)\n",
      "Training:  19%|█▊        | 15/81 [00:00<00:00, 148.76it/s, loss=0.102]"
     ]
    },
    {
     "name": "stdout",
     "output_type": "stream",
     "text": [
      "kl_loss_final: 0.232075212257249, pre_loss : 0.6732808039301917\n"
     ]
    },
    {
     "name": "stderr",
     "output_type": "stream",
     "text": [
      "INFO:torchnlp.common.train:total_loss: 0.0795383440491594, kl_loss: 0.09523026810752021, nll_loss: 0.2985679558765741\n",
      "INFO:torchnlp.common.train:Train Loss: 0.07954\n",
      "INFO:torchnlp.common.train:Validation metrics:             \n",
      "INFO:torchnlp.common.train:loss=0.56766, acc=0.78447, acc-seq=0.02336, precision=0.64223, recall=0.70896, F1=0.67395\n",
      "INFO:torchnlp.common.model:-------------- Saved checkpoint 243 --------------\n",
      "  0%|          | 0/81 [00:00<?, ?it/s]INFO:torchnlp.common.train:Epoch 4 (243)\n",
      "Training:  17%|█▋        | 14/81 [00:00<00:00, 138.66it/s, loss=0.0462]"
     ]
    },
    {
     "name": "stdout",
     "output_type": "stream",
     "text": [
      "kl_loss_final: 0.255995284588564, pre_loss : 0.5676578538758414\n"
     ]
    },
    {
     "name": "stderr",
     "output_type": "stream",
     "text": [
      "INFO:torchnlp.common.train:total_loss: 0.02080181700947844, kl_loss: 0.10682232917090993, nll_loss: 0.26649316869400164\n",
      "INFO:torchnlp.common.train:Train Loss: 0.02080\n",
      "INFO:torchnlp.common.train:Validation metrics:             \n",
      "INFO:torchnlp.common.train:loss=0.53440, acc=0.79210, acc-seq=0.02634, precision=0.65328, recall=0.73386, F1=0.69123\n",
      "INFO:torchnlp.common.model:-------------- Saved checkpoint 324 --------------\n",
      "  0%|          | 0/81 [00:00<?, ?it/s]INFO:torchnlp.common.train:Epoch 5 (324)\n",
      "Training:  19%|█▊        | 15/81 [00:00<00:00, 148.14it/s, loss=-.0103]"
     ]
    },
    {
     "name": "stdout",
     "output_type": "stream",
     "text": [
      "kl_loss_final: 0.27845306268760134, pre_loss : 0.53439513700349\n"
     ]
    },
    {
     "name": "stderr",
     "output_type": "stream",
     "text": [
      "INFO:torchnlp.common.train:total_loss: -0.020869905198061908, kl_loss: 0.11839429105137601, nll_loss: 0.25143696036603713\n",
      "INFO:torchnlp.common.train:Train Loss: -0.02087\n",
      "INFO:torchnlp.common.train:Validation metrics:             \n",
      "INFO:torchnlp.common.train:loss=0.52507, acc=0.79863, acc-seq=0.03579, precision=0.67261, recall=0.75168, F1=0.70995\n",
      "INFO:torchnlp.common.model:-------------- Saved checkpoint 405 --------------\n",
      "  0%|          | 0/81 [00:00<?, ?it/s]INFO:torchnlp.common.train:Epoch 6 (405)\n",
      "Training:  19%|█▊        | 15/81 [00:00<00:00, 147.79it/s, loss=-.0418]"
     ]
    },
    {
     "name": "stdout",
     "output_type": "stream",
     "text": [
      "kl_loss_final: 0.29687167952458066, pre_loss : 0.5250700428372338\n"
     ]
    },
    {
     "name": "stderr",
     "output_type": "stream",
     "text": [
      "INFO:torchnlp.common.train:total_loss: -0.04783703754713506, kl_loss: 0.12547662228713802, nll_loss: 0.24075918819433378\n",
      "INFO:torchnlp.common.train:Train Loss: -0.04784\n",
      "INFO:torchnlp.common.train:Validation metrics:             \n",
      "INFO:torchnlp.common.train:loss=0.50994, acc=0.79965, acc-seq=0.03181, precision=0.71274, recall=0.76727, F1=0.73900\n",
      "INFO:torchnlp.common.model:-------------- Saved checkpoint 486 --------------\n",
      "  0%|          | 0/81 [00:00<?, ?it/s]INFO:torchnlp.common.train:Epoch 7 (486)\n",
      "Training:  19%|█▊        | 15/81 [00:00<00:00, 148.65it/s, loss=-.0622]"
     ]
    },
    {
     "name": "stdout",
     "output_type": "stream",
     "text": [
      "kl_loss_final: 0.31614725362686885, pre_loss : 0.5099357295603979\n"
     ]
    },
    {
     "name": "stderr",
     "output_type": "stream",
     "text": [
      "INFO:torchnlp.common.train:total_loss: -0.063802805027844, kl_loss: 0.1294999173209991, nll_loss: 0.2340469980313454\n",
      "INFO:torchnlp.common.train:Train Loss: -0.06380\n",
      "INFO:torchnlp.common.train:Validation metrics:             \n",
      "INFO:torchnlp.common.train:loss=0.50171, acc=0.80568, acc-seq=0.04225, precision=0.67722, recall=0.75667, F1=0.71474\n",
      "INFO:torchnlp.common.model:-------------- Saved checkpoint 567 --------------\n",
      "  0%|          | 0/81 [00:00<?, ?it/s]INFO:torchnlp.common.train:Epoch 8 (567)\n",
      "Training:  19%|█▊        | 15/81 [00:00<00:00, 143.90it/s, loss=-.0739]"
     ]
    },
    {
     "name": "stdout",
     "output_type": "stream",
     "text": [
      "kl_loss_final: 0.32228205707811175, pre_loss : 0.5017073793070657\n"
     ]
    },
    {
     "name": "stderr",
     "output_type": "stream",
     "text": [
      "INFO:torchnlp.common.train:total_loss: -0.07612029564233473, kl_loss: 0.1309669961531957, nll_loss: 0.2251037887217086\n",
      "INFO:torchnlp.common.train:Train Loss: -0.07612\n",
      "INFO:torchnlp.common.train:Validation metrics:             \n",
      "INFO:torchnlp.common.train:loss=0.49924, acc=0.81005, acc-seq=0.04374, precision=0.70520, recall=0.77574, F1=0.73879\n",
      "INFO:torchnlp.common.model:-------------- Saved checkpoint 648 --------------\n",
      "  0%|          | 0/81 [00:00<?, ?it/s]INFO:torchnlp.common.train:Epoch 9 (648)\n",
      "Training:  19%|█▊        | 15/81 [00:00<00:00, 142.56it/s, loss=-.0811]"
     ]
    },
    {
     "name": "stdout",
     "output_type": "stream",
     "text": [
      "kl_loss_final: 0.3249600572245462, pre_loss : 0.49924282800583614\n"
     ]
    },
    {
     "name": "stderr",
     "output_type": "stream",
     "text": [
      "INFO:torchnlp.common.train:total_loss: -0.08150563950155988, kl_loss: 0.13172909902569688, nll_loss: 0.22147128188315732\n",
      "INFO:torchnlp.common.train:Train Loss: -0.08151\n",
      "INFO:torchnlp.common.train:Validation metrics:             \n",
      "INFO:torchnlp.common.train:loss=0.48616, acc=0.81040, acc-seq=0.04821, precision=0.68318, recall=0.77033, F1=0.72414\n",
      "INFO:torchnlp.common.model:-------------- Saved checkpoint 729 --------------\n",
      "  0%|          | 0/81 [00:00<?, ?it/s]INFO:torchnlp.common.train:Epoch 10 (729)\n",
      "Training:  17%|█▋        | 14/81 [00:00<00:00, 132.68it/s, loss=-.0808]"
     ]
    },
    {
     "name": "stdout",
     "output_type": "stream",
     "text": [
      "kl_loss_final: 0.328341485843772, pre_loss : 0.48615521050634836\n"
     ]
    },
    {
     "name": "stderr",
     "output_type": "stream",
     "text": [
      "INFO:torchnlp.common.train:total_loss: -0.0867964224314984, kl_loss: 0.13209605538918648, nll_loss: 0.21702449869962387\n",
      "INFO:torchnlp.common.train:Train Loss: -0.08680\n",
      "INFO:torchnlp.common.train:Validation metrics:             \n",
      "INFO:torchnlp.common.train:loss=0.48606, acc=0.81140, acc-seq=0.04026, precision=0.66014, recall=0.76597, F1=0.70913\n",
      "INFO:torchnlp.common.model:-------------- Saved checkpoint 810 --------------\n",
      "  0%|          | 0/81 [00:00<?, ?it/s]INFO:torchnlp.common.train:Epoch 11 (810)\n",
      "Training:  19%|█▊        | 15/81 [00:00<00:00, 147.13it/s, loss=-.0872]"
     ]
    },
    {
     "name": "stdout",
     "output_type": "stream",
     "text": [
      "kl_loss_final: 0.32895916061741964, pre_loss : 0.486059905517669\n"
     ]
    },
    {
     "name": "stderr",
     "output_type": "stream",
     "text": [
      "INFO:torchnlp.common.train:total_loss: -0.08949045800132516, kl_loss: 0.13259401144804778, nll_loss: 0.21547576233192725\n",
      "INFO:torchnlp.common.train:Train Loss: -0.08949\n",
      "INFO:torchnlp.common.train:Validation metrics:             \n",
      "INFO:torchnlp.common.train:loss=0.49871, acc=0.80433, acc-seq=0.03628, precision=0.61462, recall=0.74367, F1=0.67302\n",
      "INFO:torchnlp.common.train:Early stopping at iteration 486, epoch 5, F1=0.73900\n",
      "  2%|▏         | 2/81 [00:00<00:06, 12.25it/s]"
     ]
    },
    {
     "name": "stdout",
     "output_type": "stream",
     "text": [
      "kl_loss_final: 0.3299631132256417, pre_loss : 0.49871450662612915\n"
     ]
    },
    {
     "name": "stderr",
     "output_type": "stream",
     "text": [
      "INFO:torchnlp.common.train:prediction, and attns for best epoch obtained, release hook\n",
      "INFO:torchnlp.common.train:prediction, and attns for best epoch obtained, release hook\n"
     ]
    },
    {
     "name": "stdout",
     "output_type": "stream",
     "text": [
      "SAVING PREDICTIONS AND ATTENTIONS\n",
      "done /home/zijiao/research/atal/saved_True_/11:40:11.902842/tr_pr_best\n",
      "done /home/zijiao/research/atal/saved_True_/11:40:11.902842/te_pr_best\n",
      "done /home/zijiao/research/atal/saved_True_/11:40:11.902842/tr_attn_best\n",
      "done /home/zijiao/research/atal/saved_True_/11:40:11.902842/te_attn_best\n",
      "LOOK HERE 0.49871450662612915 0.3299631132256417\n"
     ]
    },
    {
     "name": "stderr",
     "output_type": "stream",
     "text": [
      "INFO:torchnlp.data.conll:---------- CONLL 2000 Chunking ---------\n",
      "INFO:torchnlp.data.conll:Train size: 8042\n",
      "INFO:torchnlp.data.conll:Validation size: 894\n",
      "INFO:torchnlp.data.conll:Test size: 2012\n",
      "INFO:torchtext.vocab:Loading vectors from .vector_cache/glove.6B.200d.txt.pt\n",
      "INFO:torchtext.vocab:Loading vectors from .vector_cache/charNgram.txt.pt\n",
      "INFO:torchnlp.data.conll:Input vocab size:19032\n",
      "INFO:torchnlp.data.conll:Tagset size: 25\n",
      "INFO:torchnlp.common.model:\n",
      "Hyperparameters:\n",
      " batch_size=100\n",
      " embedding_size_word=300\n",
      " embedding_size_char=0\n",
      " embedding_size_char_per_word=100\n",
      " embedding_size_tags=100\n",
      " hidden_size=128\n",
      " learning_rate=0.2\n",
      " learning_rate_decay=noam_step\n",
      " max_length=256\n",
      " num_hidden_layers=1\n",
      " dropout=0.2\n",
      " optimizer_adam_beta1=0.9\n",
      " optimizer_adam_beta2=0.98\n",
      " use_crf=False\n",
      " num_heads=4\n",
      " attention_key_channels=0\n",
      " attention_value_channels=0\n",
      " filter_size=128\n",
      " filter_size_char=64\n",
      " input_dropout=0.2\n",
      " attention_dropout=0.2\n",
      " relu_dropout=0.2\n",
      " learning_rate_warmup_steps=500\n",
      " attn_path=./saved\n",
      " adversarial=True\n",
      " lmbda=2.3999999999999995\n",
      " froze=False\n",
      " froze_path=./froze\n",
      "INFO:torchnlp.common.train:Parameters: 140953(trainable), 5709601(non-trainable)\n",
      "INFO:torchnlp.common.train:Early stopping for highest value of validation F1 after 5 epochs\n",
      "  0%|          | 0/81 [00:00<?, ?it/s]INFO:torchnlp.common.train:Epoch 1 (0)\n",
      "INFO:torchnlp.common.train:total_loss: 1.4110779883684936, kl_loss: 0.044797570939049305, nll_loss: 1.5185921574816292\n",
      "INFO:torchnlp.common.train:Train Loss: 1.41108\n",
      "INFO:torchnlp.common.train:Validation metrics:             \n",
      "INFO:torchnlp.common.train:loss=1.08229, acc=0.63048, acc-seq=0.00050, precision=0.45447, recall=0.45363, F1=0.45405\n",
      "INFO:torchnlp.common.model:-------------- Saved checkpoint 81 --------------\n",
      "  0%|          | 0/81 [00:00<?, ?it/s]INFO:torchnlp.common.train:Epoch 2 (81)\n",
      "Training:  19%|█▊        | 15/81 [00:00<00:00, 145.20it/s, loss=0.324]"
     ]
    },
    {
     "name": "stdout",
     "output_type": "stream",
     "text": [
      "kl_loss_final: 0.18309668203194937, pre_loss : 1.0822935246285939\n"
     ]
    },
    {
     "name": "stderr",
     "output_type": "stream",
     "text": [
      "INFO:torchnlp.common.train:total_loss: 0.22218504750434262, kl_loss: 0.08638062084346641, nll_loss: 0.42949854481367417\n",
      "INFO:torchnlp.common.train:Train Loss: 0.22219\n",
      "INFO:torchnlp.common.train:Validation metrics:             \n",
      "INFO:torchnlp.common.train:loss=0.71213, acc=0.73634, acc-seq=0.00895, precision=0.52717, recall=0.62267, F1=0.57096\n",
      "INFO:torchnlp.common.model:-------------- Saved checkpoint 162 --------------\n",
      "  0%|          | 0/81 [00:00<?, ?it/s]INFO:torchnlp.common.train:Epoch 3 (162)\n",
      "Training:  19%|█▊        | 15/81 [00:00<00:00, 149.93it/s, loss=0.105]"
     ]
    },
    {
     "name": "stdout",
     "output_type": "stream",
     "text": [
      "kl_loss_final: 0.2199037412092799, pre_loss : 0.7121295304525466\n"
     ]
    },
    {
     "name": "stderr",
     "output_type": "stream",
     "text": [
      "INFO:torchnlp.common.train:total_loss: 0.07164588791352731, kl_loss: 0.09883874480003192, nll_loss: 0.30885888507336745\n",
      "INFO:torchnlp.common.train:Train Loss: 0.07165\n",
      "INFO:torchnlp.common.train:Validation metrics:             \n",
      "INFO:torchnlp.common.train:loss=0.57038, acc=0.77910, acc-seq=0.01988, precision=0.66500, recall=0.71508, F1=0.68913\n",
      "INFO:torchnlp.common.model:-------------- Saved checkpoint 243 --------------\n",
      "  0%|          | 0/81 [00:00<?, ?it/s]INFO:torchnlp.common.train:Epoch 4 (243)\n",
      "Training:  19%|█▊        | 15/81 [00:00<00:00, 145.01it/s, loss=0.0324]"
     ]
    },
    {
     "name": "stdout",
     "output_type": "stream",
     "text": [
      "kl_loss_final: 0.236350760218643, pre_loss : 0.5703813745861962\n"
     ]
    },
    {
     "name": "stderr",
     "output_type": "stream",
     "text": [
      "INFO:torchnlp.common.train:total_loss: 0.02011469006538391, kl_loss: 0.1046508604913582, nll_loss: 0.2712767670551936\n",
      "INFO:torchnlp.common.train:Train Loss: 0.02011\n",
      "INFO:torchnlp.common.train:Validation metrics:             \n",
      "INFO:torchnlp.common.train:loss=0.53120, acc=0.78939, acc-seq=0.02932, precision=0.68090, recall=0.72321, F1=0.70142\n",
      "INFO:torchnlp.common.model:-------------- Saved checkpoint 324 --------------\n",
      "  0%|          | 0/81 [00:00<?, ?it/s]INFO:torchnlp.common.train:Epoch 5 (324)\n",
      "Training:  17%|█▋        | 14/81 [00:00<00:00, 138.90it/s, loss=-.0119] "
     ]
    },
    {
     "name": "stdout",
     "output_type": "stream",
     "text": [
      "kl_loss_final: 0.2565558687562034, pre_loss : 0.5311983185155051\n"
     ]
    },
    {
     "name": "stderr",
     "output_type": "stream",
     "text": [
      "INFO:torchnlp.common.train:total_loss: -0.0238840166065428, kl_loss: 0.1159616807176743, nll_loss: 0.2544240292943554\n",
      "INFO:torchnlp.common.train:Train Loss: -0.02388\n",
      "INFO:torchnlp.common.train:Validation metrics:             \n",
      "INFO:torchnlp.common.train:loss=0.51289, acc=0.79826, acc-seq=0.04125, precision=0.68072, recall=0.74539, F1=0.71159\n",
      "INFO:torchnlp.common.model:-------------- Saved checkpoint 405 --------------\n",
      "  0%|          | 0/81 [00:00<?, ?it/s]INFO:torchnlp.common.train:Epoch 6 (405)\n",
      "Training:  17%|█▋        | 14/81 [00:00<00:00, 137.17it/s, loss=-.0429]"
     ]
    },
    {
     "name": "stdout",
     "output_type": "stream",
     "text": [
      "kl_loss_final: 0.2924844768075716, pre_loss : 0.5128851092997051\n"
     ]
    },
    {
     "name": "stderr",
     "output_type": "stream",
     "text": [
      "INFO:torchnlp.common.train:total_loss: -0.0558916120617478, kl_loss: 0.12470212192447097, nll_loss: 0.2433934908958129\n",
      "INFO:torchnlp.common.train:Train Loss: -0.05589\n",
      "INFO:torchnlp.common.train:Validation metrics:             \n",
      "INFO:torchnlp.common.train:loss=0.50369, acc=0.79932, acc-seq=0.03579, precision=0.62537, recall=0.73793, F1=0.67700\n",
      "INFO:torchnlp.common.model:-------------- Saved checkpoint 486 --------------\n",
      "  0%|          | 0/81 [00:00<?, ?it/s]INFO:torchnlp.common.train:Epoch 7 (486)\n",
      "Training:  19%|█▊        | 15/81 [00:00<00:00, 142.11it/s, loss=-.0654]"
     ]
    },
    {
     "name": "stdout",
     "output_type": "stream",
     "text": [
      "kl_loss_final: 0.3100382561484973, pre_loss : 0.5036906940596444\n"
     ]
    },
    {
     "name": "stderr",
     "output_type": "stream",
     "text": [
      "INFO:torchnlp.common.train:total_loss: -0.07323402276745548, kl_loss: 0.1281968006565247, nll_loss: 0.23443831006685892\n",
      "INFO:torchnlp.common.train:Train Loss: -0.07323\n",
      "INFO:torchnlp.common.train:Validation metrics:             \n",
      "INFO:torchnlp.common.train:loss=0.48946, acc=0.81039, acc-seq=0.03678, precision=0.71001, recall=0.77151, F1=0.73948\n",
      "INFO:torchnlp.common.model:-------------- Saved checkpoint 567 --------------\n",
      "  0%|          | 0/81 [00:00<?, ?it/s]INFO:torchnlp.common.train:Epoch 8 (567)\n",
      "Training:  19%|█▊        | 15/81 [00:00<00:00, 147.19it/s, loss=-.0804]"
     ]
    },
    {
     "name": "stdout",
     "output_type": "stream",
     "text": [
      "kl_loss_final: 0.314154133555435, pre_loss : 0.4894574667726244\n"
     ]
    },
    {
     "name": "stderr",
     "output_type": "stream",
     "text": [
      "INFO:torchnlp.common.train:total_loss: -0.08455935249358047, kl_loss: 0.12950555547887896, nll_loss: 0.22625399316534583\n",
      "INFO:torchnlp.common.train:Train Loss: -0.08456\n",
      "INFO:torchnlp.common.train:Validation metrics:             \n",
      "INFO:torchnlp.common.train:loss=0.48069, acc=0.80782, acc-seq=0.03827, precision=0.67902, recall=0.75671, F1=0.71576\n",
      "INFO:torchnlp.common.model:-------------- Saved checkpoint 648 --------------\n",
      "  0%|          | 0/81 [00:00<?, ?it/s]INFO:torchnlp.common.train:Epoch 9 (648)\n",
      "Training:  19%|█▊        | 15/81 [00:00<00:00, 147.19it/s, loss=-.0936]"
     ]
    },
    {
     "name": "stdout",
     "output_type": "stream",
     "text": [
      "kl_loss_final: 0.31865655276037397, pre_loss : 0.4806894745145525\n"
     ]
    },
    {
     "name": "stderr",
     "output_type": "stream",
     "text": [
      "INFO:torchnlp.common.train:total_loss: -0.09015988917262466, kl_loss: 0.13014009696098022, nll_loss: 0.22217635644806755\n",
      "INFO:torchnlp.common.train:Train Loss: -0.09016\n",
      "INFO:torchnlp.common.train:Validation metrics:             \n",
      "INFO:torchnlp.common.train:loss=0.49137, acc=0.81231, acc-seq=0.03976, precision=0.70187, recall=0.77729, F1=0.73766\n",
      "INFO:torchnlp.common.model:-------------- Saved checkpoint 729 --------------\n",
      "  0%|          | 0/81 [00:00<?, ?it/s]INFO:torchnlp.common.train:Epoch 10 (729)\n",
      "Training:  17%|█▋        | 14/81 [00:00<00:00, 134.84it/s, loss=-.0893]"
     ]
    },
    {
     "name": "stdout",
     "output_type": "stream",
     "text": [
      "kl_loss_final: 0.32039732663404374, pre_loss : 0.491368347690219\n"
     ]
    },
    {
     "name": "stderr",
     "output_type": "stream",
     "text": [
      "INFO:torchnlp.common.train:total_loss: -0.095798811978764, kl_loss: 0.1307007105630121, nll_loss: 0.21788290474149916\n",
      "INFO:torchnlp.common.train:Train Loss: -0.09580\n",
      "INFO:torchnlp.common.train:Validation metrics:             \n",
      "INFO:torchnlp.common.train:loss=0.47862, acc=0.81258, acc-seq=0.04274, precision=0.70142, recall=0.78044, F1=0.73882\n",
      "INFO:torchnlp.common.model:-------------- Saved checkpoint 810 --------------\n",
      "  0%|          | 0/81 [00:00<?, ?it/s]INFO:torchnlp.common.train:Epoch 11 (810)\n",
      "Training:  17%|█▋        | 14/81 [00:00<00:00, 136.64it/s, loss=-.0975]"
     ]
    },
    {
     "name": "stdout",
     "output_type": "stream",
     "text": [
      "kl_loss_final: 0.3233050193105425, pre_loss : 0.47862197103954496\n"
     ]
    },
    {
     "name": "stderr",
     "output_type": "stream",
     "text": [
      "INFO:torchnlp.common.train:total_loss: -0.10005791853239507, kl_loss: 0.1314419733337414, nll_loss: 0.21540282979423617\n",
      "INFO:torchnlp.common.train:Train Loss: -0.10006\n",
      "INFO:torchnlp.common.train:Validation metrics:             \n",
      "INFO:torchnlp.common.train:loss=0.48234, acc=0.81498, acc-seq=0.04672, precision=0.67162, recall=0.77277, F1=0.71865\n",
      "INFO:torchnlp.common.model:-------------- Saved checkpoint 891 --------------\n",
      "  0%|          | 0/81 [00:00<?, ?it/s]INFO:torchnlp.common.train:Epoch 12 (891)\n",
      "Training:  19%|█▊        | 15/81 [00:00<00:00, 148.98it/s, loss=-.105]"
     ]
    },
    {
     "name": "stdout",
     "output_type": "stream",
     "text": [
      "kl_loss_final: 0.32609019570407416, pre_loss : 0.48234374040649053\n"
     ]
    },
    {
     "name": "stderr",
     "output_type": "stream",
     "text": [
      "INFO:torchnlp.common.train:total_loss: -0.1037061490394451, kl_loss: 0.13201206867341642, nll_loss: 0.21312282777126926\n",
      "INFO:torchnlp.common.train:Train Loss: -0.10371\n",
      "INFO:torchnlp.common.train:Validation metrics:             \n",
      "INFO:torchnlp.common.train:loss=0.48074, acc=0.81593, acc-seq=0.04821, precision=0.70030, recall=0.77775, F1=0.73700\n",
      "INFO:torchnlp.common.train:Early stopping at iteration 567, epoch 6, F1=0.73948\n",
      "  6%|▌         | 5/81 [00:00<00:01, 40.40it/s]"
     ]
    },
    {
     "name": "stdout",
     "output_type": "stream",
     "text": [
      "kl_loss_final: 0.32743125302451, pre_loss : 0.48074435052417575\n"
     ]
    },
    {
     "name": "stderr",
     "output_type": "stream",
     "text": [
      "INFO:torchnlp.common.train:prediction, and attns for best epoch obtained, release hook\n",
      "INFO:torchnlp.common.train:prediction, and attns for best epoch obtained, release hook\n"
     ]
    },
    {
     "name": "stdout",
     "output_type": "stream",
     "text": [
      "SAVING PREDICTIONS AND ATTENTIONS\n",
      "done /home/zijiao/research/atal/saved_True_/11:40:43.859956/tr_pr_best\n",
      "done /home/zijiao/research/atal/saved_True_/11:40:43.859956/te_pr_best\n",
      "done /home/zijiao/research/atal/saved_True_/11:40:43.859956/tr_attn_best\n",
      "done /home/zijiao/research/atal/saved_True_/11:40:43.859956/te_attn_best\n",
      "LOOK HERE 0.48074435052417575 0.32743125302451\n"
     ]
    },
    {
     "name": "stderr",
     "output_type": "stream",
     "text": [
      "INFO:torchnlp.data.conll:---------- CONLL 2000 Chunking ---------\n",
      "INFO:torchnlp.data.conll:Train size: 8042\n",
      "INFO:torchnlp.data.conll:Validation size: 894\n",
      "INFO:torchnlp.data.conll:Test size: 2012\n",
      "INFO:torchtext.vocab:Loading vectors from .vector_cache/glove.6B.200d.txt.pt\n",
      "INFO:torchtext.vocab:Loading vectors from .vector_cache/charNgram.txt.pt\n",
      "INFO:torchnlp.data.conll:Input vocab size:19032\n",
      "INFO:torchnlp.data.conll:Tagset size: 25\n",
      "INFO:torchnlp.common.model:\n",
      "Hyperparameters:\n",
      " batch_size=100\n",
      " embedding_size_word=300\n",
      " embedding_size_char=0\n",
      " embedding_size_char_per_word=100\n",
      " embedding_size_tags=100\n",
      " hidden_size=128\n",
      " learning_rate=0.2\n",
      " learning_rate_decay=noam_step\n",
      " max_length=256\n",
      " num_hidden_layers=1\n",
      " dropout=0.2\n",
      " optimizer_adam_beta1=0.9\n",
      " optimizer_adam_beta2=0.98\n",
      " use_crf=False\n",
      " num_heads=4\n",
      " attention_key_channels=0\n",
      " attention_value_channels=0\n",
      " filter_size=128\n",
      " filter_size_char=64\n",
      " input_dropout=0.2\n",
      " attention_dropout=0.2\n",
      " relu_dropout=0.2\n",
      " learning_rate_warmup_steps=500\n",
      " attn_path=./saved\n",
      " adversarial=True\n",
      " lmbda=2.4999999999999996\n",
      " froze=False\n",
      " froze_path=./froze\n",
      "INFO:torchnlp.common.train:Parameters: 140953(trainable), 5709601(non-trainable)\n",
      "INFO:torchnlp.common.train:Early stopping for highest value of validation F1 after 5 epochs\n",
      "  0%|          | 0/81 [00:00<?, ?it/s]INFO:torchnlp.common.train:Epoch 1 (0)\n",
      "INFO:torchnlp.common.train:total_loss: 1.3475541722627333, kl_loss: 0.05113373784187399, nll_loss: 1.4753885121993076\n",
      "INFO:torchnlp.common.train:Train Loss: 1.34755\n",
      "INFO:torchnlp.common.train:Validation metrics:             \n",
      "INFO:torchnlp.common.train:loss=1.15889, acc=0.61715, acc-seq=0.00149, precision=0.38041, recall=0.29520, F1=0.33243\n",
      "INFO:torchnlp.common.model:-------------- Saved checkpoint 81 --------------\n",
      "  0%|          | 0/81 [00:00<?, ?it/s]INFO:torchnlp.common.train:Epoch 2 (81)\n",
      "Training:  19%|█▊        | 15/81 [00:00<00:00, 144.17it/s, loss=0.304]"
     ]
    },
    {
     "name": "stdout",
     "output_type": "stream",
     "text": [
      "kl_loss_final: 0.193271775330816, pre_loss : 1.1588900259562902\n"
     ]
    },
    {
     "name": "stderr",
     "output_type": "stream",
     "text": [
      "INFO:torchnlp.common.train:total_loss: 0.19620516969833846, kl_loss: 0.08517773518407787, nll_loss: 0.40914950694566893\n",
      "INFO:torchnlp.common.train:Train Loss: 0.19621\n",
      "INFO:torchnlp.common.train:Validation metrics:             \n",
      "INFO:torchnlp.common.train:loss=0.76794, acc=0.72566, acc-seq=0.00895, precision=0.54764, recall=0.53832, F1=0.54294\n",
      "INFO:torchnlp.common.model:-------------- Saved checkpoint 162 --------------\n",
      "  0%|          | 0/81 [00:00<?, ?it/s]INFO:torchnlp.common.train:Epoch 3 (162)\n",
      "Training:  17%|█▋        | 14/81 [00:00<00:00, 138.78it/s, loss=0.0827]"
     ]
    },
    {
     "name": "stdout",
     "output_type": "stream",
     "text": [
      "kl_loss_final: 0.2282740239586149, pre_loss : 0.767937129452115\n"
     ]
    },
    {
     "name": "stderr",
     "output_type": "stream",
     "text": [
      "INFO:torchnlp.common.train:total_loss: 0.0514189507122393, kl_loss: 0.09977012799109941, nll_loss: 0.30084427087395277\n",
      "INFO:torchnlp.common.train:Train Loss: 0.05142\n",
      "INFO:torchnlp.common.train:Validation metrics:             \n",
      "INFO:torchnlp.common.train:loss=0.57730, acc=0.77752, acc-seq=0.02386, precision=0.64415, recall=0.67831, F1=0.66079\n",
      "INFO:torchnlp.common.model:-------------- Saved checkpoint 243 --------------\n",
      "  0%|          | 0/81 [00:00<?, ?it/s]INFO:torchnlp.common.train:Epoch 4 (243)\n",
      "Training:  19%|█▊        | 15/81 [00:00<00:00, 143.86it/s, loss=0.00309]"
     ]
    },
    {
     "name": "stdout",
     "output_type": "stream",
     "text": [
      "kl_loss_final: 0.25864772250254947, pre_loss : 0.5773000759737832\n"
     ]
    },
    {
     "name": "stderr",
     "output_type": "stream",
     "text": [
      "INFO:torchnlp.common.train:total_loss: -0.015441625942418605, kl_loss: 0.11409741097394331, nll_loss: 0.2698019027342031\n",
      "INFO:torchnlp.common.train:Train Loss: -0.01544\n",
      "INFO:torchnlp.common.train:Validation metrics:             \n",
      "INFO:torchnlp.common.train:loss=0.52825, acc=0.79402, acc-seq=0.03082, precision=0.67117, recall=0.74535, F1=0.70632\n",
      "INFO:torchnlp.common.model:-------------- Saved checkpoint 324 --------------\n",
      "  0%|          | 0/81 [00:00<?, ?it/s]INFO:torchnlp.common.train:Epoch 5 (324)\n",
      "Training:  17%|█▋        | 14/81 [00:00<00:00, 139.82it/s, loss=-.034] "
     ]
    },
    {
     "name": "stdout",
     "output_type": "stream",
     "text": [
      "kl_loss_final: 0.2741434226433436, pre_loss : 0.5282539398897261\n"
     ]
    },
    {
     "name": "stderr",
     "output_type": "stream",
     "text": [
      "INFO:torchnlp.common.train:total_loss: -0.04542157403480859, kl_loss: 0.11914278576035559, nll_loss: 0.25243538949224686\n",
      "INFO:torchnlp.common.train:Train Loss: -0.04542\n",
      "INFO:torchnlp.common.train:Validation metrics:             \n",
      "INFO:torchnlp.common.train:loss=0.51154, acc=0.79634, acc-seq=0.03231, precision=0.69873, recall=0.74493, F1=0.72109\n",
      "INFO:torchnlp.common.model:-------------- Saved checkpoint 405 --------------\n",
      "  0%|          | 0/81 [00:00<?, ?it/s]INFO:torchnlp.common.train:Epoch 6 (405)\n",
      "Training:  19%|█▊        | 15/81 [00:00<00:00, 145.76it/s, loss=-.0592]"
     ]
    },
    {
     "name": "stdout",
     "output_type": "stream",
     "text": [
      "kl_loss_final: 0.2926240935921669, pre_loss : 0.5115393045402709\n"
     ]
    },
    {
     "name": "stderr",
     "output_type": "stream",
     "text": [
      "INFO:torchnlp.common.train:total_loss: -0.06904981828030245, kl_loss: 0.12456074706566186, nll_loss: 0.24235204745222022\n",
      "INFO:torchnlp.common.train:Train Loss: -0.06905\n",
      "INFO:torchnlp.common.train:Validation metrics:             \n",
      "INFO:torchnlp.common.train:loss=0.50317, acc=0.80395, acc-seq=0.03579, precision=0.69588, recall=0.76534, F1=0.72896\n",
      "INFO:torchnlp.common.model:-------------- Saved checkpoint 486 --------------\n",
      "  0%|          | 0/81 [00:00<?, ?it/s]INFO:torchnlp.common.train:Epoch 7 (486)\n",
      "Training:  17%|█▋        | 14/81 [00:00<00:00, 139.85it/s, loss=-.0896]"
     ]
    },
    {
     "name": "stdout",
     "output_type": "stream",
     "text": [
      "kl_loss_final: 0.30884171596595217, pre_loss : 0.5031652635052091\n"
     ]
    },
    {
     "name": "stderr",
     "output_type": "stream",
     "text": [
      "INFO:torchnlp.common.train:total_loss: -0.09109354883800318, kl_loss: 0.13021820001764062, nll_loss: 0.2344519516200195\n",
      "INFO:torchnlp.common.train:Train Loss: -0.09109\n",
      "INFO:torchnlp.common.train:Validation metrics:             \n",
      "INFO:torchnlp.common.train:loss=0.49937, acc=0.80515, acc-seq=0.03728, precision=0.65994, recall=0.76065, F1=0.70672\n",
      "INFO:torchnlp.common.model:-------------- Saved checkpoint 567 --------------\n",
      "  0%|          | 0/81 [00:00<?, ?it/s]INFO:torchnlp.common.train:Epoch 8 (567)\n",
      "Training:  19%|█▊        | 15/81 [00:00<00:00, 148.32it/s, loss=-.107]"
     ]
    },
    {
     "name": "stdout",
     "output_type": "stream",
     "text": [
      "kl_loss_final: 0.3230743461421558, pre_loss : 0.4993668269543421\n"
     ]
    },
    {
     "name": "stderr",
     "output_type": "stream",
     "text": [
      "INFO:torchnlp.common.train:total_loss: -0.10436817635724574, kl_loss: 0.13297870074525292, nll_loss: 0.22807857541390408\n",
      "INFO:torchnlp.common.train:Train Loss: -0.10437\n",
      "INFO:torchnlp.common.train:Validation metrics:             \n",
      "INFO:torchnlp.common.train:loss=0.49039, acc=0.80679, acc-seq=0.03877, precision=0.69640, recall=0.76455, F1=0.72889\n",
      "INFO:torchnlp.common.model:-------------- Saved checkpoint 648 --------------\n",
      "  0%|          | 0/81 [00:00<?, ?it/s]INFO:torchnlp.common.train:Epoch 9 (648)\n",
      "Training:  20%|█▉        | 16/81 [00:00<00:00, 152.19it/s, loss=-.114]"
     ]
    },
    {
     "name": "stdout",
     "output_type": "stream",
     "text": [
      "kl_loss_final: 0.330172455736569, pre_loss : 0.49038739573387874\n"
     ]
    },
    {
     "name": "stderr",
     "output_type": "stream",
     "text": [
      "INFO:torchnlp.common.train:total_loss: -0.1124498904855163, kl_loss: 0.13429350875042104, nll_loss: 0.22328388102260638\n",
      "INFO:torchnlp.common.train:Train Loss: -0.11245\n",
      "INFO:torchnlp.common.train:Validation metrics:             \n",
      "INFO:torchnlp.common.train:loss=0.48624, acc=0.80972, acc-seq=0.03976, precision=0.68279, recall=0.76166, F1=0.72007\n",
      "INFO:torchnlp.common.model:-------------- Saved checkpoint 729 --------------\n",
      "  0%|          | 0/81 [00:00<?, ?it/s]INFO:torchnlp.common.train:Epoch 10 (729)\n",
      "Training:  19%|█▊        | 15/81 [00:00<00:00, 140.88it/s, loss=-.123]"
     ]
    },
    {
     "name": "stdout",
     "output_type": "stream",
     "text": [
      "kl_loss_final: 0.3328912492309298, pre_loss : 0.4862379573640369\n"
     ]
    },
    {
     "name": "stderr",
     "output_type": "stream",
     "text": [
      "INFO:torchnlp.common.train:total_loss: -0.11880877724400273, kl_loss: 0.13513794228618528, nll_loss: 0.21903607617189855\n",
      "INFO:torchnlp.common.train:Train Loss: -0.11881\n",
      "INFO:torchnlp.common.train:Validation metrics:             \n",
      "INFO:torchnlp.common.train:loss=0.48534, acc=0.81007, acc-seq=0.04076, precision=0.70917, recall=0.77851, F1=0.74223\n",
      "INFO:torchnlp.common.model:-------------- Saved checkpoint 810 --------------\n",
      "  0%|          | 0/81 [00:00<?, ?it/s]INFO:torchnlp.common.train:Epoch 11 (810)\n",
      "Training:  17%|█▋        | 14/81 [00:00<00:00, 135.00it/s, loss=-.122]"
     ]
    },
    {
     "name": "stdout",
     "output_type": "stream",
     "text": [
      "kl_loss_final: 0.33700815836588544, pre_loss : 0.48533780234200613\n"
     ]
    },
    {
     "name": "stderr",
     "output_type": "stream",
     "text": [
      "INFO:torchnlp.common.train:total_loss: -0.12191144514966894, kl_loss: 0.1355664567263038, nll_loss: 0.2170046956082921\n",
      "INFO:torchnlp.common.train:Train Loss: -0.12191\n",
      "INFO:torchnlp.common.train:Validation metrics:             \n",
      "INFO:torchnlp.common.train:loss=0.48486, acc=0.81229, acc-seq=0.03877, precision=0.68642, recall=0.77310, F1=0.72719\n",
      "INFO:torchnlp.common.model:-------------- Saved checkpoint 891 --------------\n",
      "  0%|          | 0/81 [00:00<?, ?it/s]INFO:torchnlp.common.train:Epoch 12 (891)\n",
      "Training:  19%|█▊        | 15/81 [00:00<00:00, 149.75it/s, loss=-.128]"
     ]
    },
    {
     "name": "stdout",
     "output_type": "stream",
     "text": [
      "kl_loss_final: 0.3382865027302787, pre_loss : 0.484862357378006\n"
     ]
    },
    {
     "name": "stderr",
     "output_type": "stream",
     "text": [
      "INFO:torchnlp.common.train:total_loss: -0.12539859373628356, kl_loss: 0.13614929007527268, nll_loss: 0.21497463278564405\n",
      "INFO:torchnlp.common.train:Train Loss: -0.12540\n",
      "INFO:torchnlp.common.train:Validation metrics:             \n",
      "INFO:torchnlp.common.train:loss=0.48449, acc=0.81344, acc-seq=0.03976, precision=0.70368, recall=0.77905, F1=0.73945\n",
      "INFO:torchnlp.common.model:-------------- Saved checkpoint 972 --------------\n",
      "  0%|          | 0/81 [00:00<?, ?it/s]INFO:torchnlp.common.train:Epoch 13 (972)\n",
      "Training:  20%|█▉        | 16/81 [00:00<00:00, 148.58it/s, loss=-.132]"
     ]
    },
    {
     "name": "stdout",
     "output_type": "stream",
     "text": [
      "kl_loss_final: 0.3399100892600559, pre_loss : 0.48449362885384334\n"
     ]
    },
    {
     "name": "stderr",
     "output_type": "stream",
     "text": [
      "INFO:torchnlp.common.train:total_loss: -0.12860052784283957, kl_loss: 0.1366246771297337, nll_loss: 0.21296116378572252\n",
      "INFO:torchnlp.common.train:Train Loss: -0.12860\n",
      "INFO:torchnlp.common.train:Validation metrics:             \n",
      "INFO:torchnlp.common.train:loss=0.48259, acc=0.81346, acc-seq=0.04076, precision=0.66784, recall=0.77113, F1=0.71578\n",
      "INFO:torchnlp.common.model:-------------- Saved checkpoint 1053 --------------\n",
      "  0%|          | 0/81 [00:00<?, ?it/s]INFO:torchnlp.common.train:Epoch 14 (1053)\n",
      "Training:  19%|█▊        | 15/81 [00:00<00:00, 142.43it/s, loss=-.132]"
     ]
    },
    {
     "name": "stdout",
     "output_type": "stream",
     "text": [
      "kl_loss_final: 0.34204030178842093, pre_loss : 0.48259401605242774\n"
     ]
    },
    {
     "name": "stderr",
     "output_type": "stream",
     "text": [
      "INFO:torchnlp.common.train:total_loss: -0.13064269169613166, kl_loss: 0.13680758980321295, nll_loss: 0.2113762829038832\n",
      "INFO:torchnlp.common.train:Train Loss: -0.13064\n",
      "INFO:torchnlp.common.train:Validation metrics:             \n",
      "INFO:torchnlp.common.train:loss=0.48251, acc=0.81268, acc-seq=0.04125, precision=0.71399, recall=0.78631, F1=0.74840\n",
      "INFO:torchnlp.common.model:-------------- Saved checkpoint 1134 --------------\n",
      "  0%|          | 0/81 [00:00<?, ?it/s]INFO:torchnlp.common.train:Epoch 15 (1134)\n",
      "Training:  19%|█▊        | 15/81 [00:00<00:00, 142.21it/s, loss=-.136]"
     ]
    },
    {
     "name": "stdout",
     "output_type": "stream",
     "text": [
      "kl_loss_final: 0.3427516371011734, pre_loss : 0.4825124385811034\n"
     ]
    },
    {
     "name": "stderr",
     "output_type": "stream",
     "text": [
      "INFO:torchnlp.common.train:total_loss: -0.13272899757196874, kl_loss: 0.13716685358020994, nll_loss: 0.21018813789626697\n",
      "INFO:torchnlp.common.train:Train Loss: -0.13273\n",
      "INFO:torchnlp.common.train:Validation metrics:             \n",
      "INFO:torchnlp.common.train:loss=0.48236, acc=0.81274, acc-seq=0.04672, precision=0.66745, recall=0.77247, F1=0.71613\n",
      "INFO:torchnlp.common.model:-------------- Saved checkpoint 1215 --------------\n",
      "  0%|          | 0/81 [00:00<?, ?it/s]INFO:torchnlp.common.train:Epoch 16 (1215)\n",
      "Training:  17%|█▋        | 14/81 [00:00<00:00, 134.56it/s, loss=-.13] "
     ]
    },
    {
     "name": "stdout",
     "output_type": "stream",
     "text": [
      "kl_loss_final: 0.34402602698121754, pre_loss : 0.4823649213427589\n"
     ]
    },
    {
     "name": "stderr",
     "output_type": "stream",
     "text": [
      "INFO:torchnlp.common.train:total_loss: -0.13567712130369963, kl_loss: 0.13768356909722457, nll_loss: 0.20853180061151952\n",
      "INFO:torchnlp.common.train:Train Loss: -0.13568\n",
      "INFO:torchnlp.common.train:Validation metrics:             \n",
      "INFO:torchnlp.common.train:loss=0.47565, acc=0.81467, acc-seq=0.04175, precision=0.70234, recall=0.78132, F1=0.73973\n",
      "INFO:torchnlp.common.model:-------------- Saved checkpoint 1296 --------------\n",
      "  0%|          | 0/81 [00:00<?, ?it/s]INFO:torchnlp.common.train:Epoch 17 (1296)\n",
      "Training:  19%|█▊        | 15/81 [00:00<00:00, 147.61it/s, loss=-.135]"
     ]
    },
    {
     "name": "stdout",
     "output_type": "stream",
     "text": [
      "kl_loss_final: 0.3445957196610315, pre_loss : 0.475650749036244\n"
     ]
    },
    {
     "name": "stderr",
     "output_type": "stream",
     "text": [
      "INFO:torchnlp.common.train:total_loss: -0.13576872168499746, kl_loss: 0.1377224079620691, nll_loss: 0.20853729785224537\n",
      "INFO:torchnlp.common.train:Train Loss: -0.13577\n",
      "INFO:torchnlp.common.train:Validation metrics:             \n",
      "INFO:torchnlp.common.train:loss=0.47493, acc=0.81681, acc-seq=0.04871, precision=0.69219, recall=0.78450, F1=0.73546\n",
      "INFO:torchnlp.common.model:-------------- Saved checkpoint 1377 --------------\n",
      "  0%|          | 0/81 [00:00<?, ?it/s]INFO:torchnlp.common.train:Epoch 18 (1377)\n",
      "Training:  19%|█▊        | 15/81 [00:00<00:00, 145.96it/s, loss=-.138]"
     ]
    },
    {
     "name": "stdout",
     "output_type": "stream",
     "text": [
      "kl_loss_final: 0.34636048121111734, pre_loss : 0.47492576638857525\n"
     ]
    },
    {
     "name": "stderr",
     "output_type": "stream",
     "text": [
      "INFO:torchnlp.common.train:total_loss: -0.13781939925234996, kl_loss: 0.1380178752688714, nll_loss: 0.207225290161592\n",
      "INFO:torchnlp.common.train:Train Loss: -0.13782\n",
      "INFO:torchnlp.common.train:Validation metrics:             \n",
      "INFO:torchnlp.common.train:loss=0.47385, acc=0.81780, acc-seq=0.04622, precision=0.69025, recall=0.78329, F1=0.73383\n",
      "INFO:torchnlp.common.model:-------------- Saved checkpoint 1458 --------------\n",
      "  0%|          | 0/81 [00:00<?, ?it/s]INFO:torchnlp.common.train:Epoch 19 (1458)\n",
      "Training:  20%|█▉        | 16/81 [00:00<00:00, 151.57it/s, loss=-.138]"
     ]
    },
    {
     "name": "stdout",
     "output_type": "stream",
     "text": [
      "kl_loss_final: 0.34614857889357065, pre_loss : 0.47385249393326895\n"
     ]
    },
    {
     "name": "stderr",
     "output_type": "stream",
     "text": [
      "INFO:torchnlp.common.train:total_loss: -0.13970653528784527, kl_loss: 0.1382874599945398, nll_loss: 0.20601211488246918\n",
      "INFO:torchnlp.common.train:Train Loss: -0.13971\n",
      "INFO:torchnlp.common.train:Validation metrics:             \n",
      "INFO:torchnlp.common.train:loss=0.47694, acc=0.81807, acc-seq=0.04423, precision=0.70367, recall=0.78610, F1=0.74260\n",
      "INFO:torchnlp.common.train:Early stopping at iteration 1134, epoch 13, F1=0.74840\n",
      "  6%|▌         | 5/81 [00:00<00:01, 40.32it/s]"
     ]
    },
    {
     "name": "stdout",
     "output_type": "stream",
     "text": [
      "kl_loss_final: 0.34737410502774374, pre_loss : 0.47693900693030583\n"
     ]
    },
    {
     "name": "stderr",
     "output_type": "stream",
     "text": [
      "INFO:torchnlp.common.train:prediction, and attns for best epoch obtained, release hook\n",
      "INFO:torchnlp.common.train:prediction, and attns for best epoch obtained, release hook\n"
     ]
    },
    {
     "name": "stdout",
     "output_type": "stream",
     "text": [
      "SAVING PREDICTIONS AND ATTENTIONS\n",
      "done /home/zijiao/research/atal/saved_True_/11:41:29.154339/tr_pr_best\n",
      "done /home/zijiao/research/atal/saved_True_/11:41:29.154339/te_pr_best\n",
      "done /home/zijiao/research/atal/saved_True_/11:41:29.154339/tr_attn_best\n",
      "done /home/zijiao/research/atal/saved_True_/11:41:29.154339/te_attn_best\n",
      "LOOK HERE 0.47693900693030583 0.34737410502774374\n"
     ]
    },
    {
     "name": "stderr",
     "output_type": "stream",
     "text": [
      "INFO:torchnlp.data.conll:---------- CONLL 2000 Chunking ---------\n",
      "INFO:torchnlp.data.conll:Train size: 8042\n",
      "INFO:torchnlp.data.conll:Validation size: 894\n",
      "INFO:torchnlp.data.conll:Test size: 2012\n",
      "INFO:torchtext.vocab:Loading vectors from .vector_cache/glove.6B.200d.txt.pt\n",
      "INFO:torchtext.vocab:Loading vectors from .vector_cache/charNgram.txt.pt\n",
      "INFO:torchnlp.data.conll:Input vocab size:19032\n",
      "INFO:torchnlp.data.conll:Tagset size: 25\n",
      "INFO:torchnlp.common.model:\n",
      "Hyperparameters:\n",
      " batch_size=100\n",
      " embedding_size_word=300\n",
      " embedding_size_char=0\n",
      " embedding_size_char_per_word=100\n",
      " embedding_size_tags=100\n",
      " hidden_size=128\n",
      " learning_rate=0.2\n",
      " learning_rate_decay=noam_step\n",
      " max_length=256\n",
      " num_hidden_layers=1\n",
      " dropout=0.2\n",
      " optimizer_adam_beta1=0.9\n",
      " optimizer_adam_beta2=0.98\n",
      " use_crf=False\n",
      " num_heads=4\n",
      " attention_key_channels=0\n",
      " attention_value_channels=0\n",
      " filter_size=128\n",
      " filter_size_char=64\n",
      " input_dropout=0.2\n",
      " attention_dropout=0.2\n",
      " relu_dropout=0.2\n",
      " learning_rate_warmup_steps=500\n",
      " attn_path=./saved\n",
      " adversarial=True\n",
      " lmbda=2.5999999999999996\n",
      " froze=False\n",
      " froze_path=./froze\n",
      "INFO:torchnlp.common.train:Parameters: 140953(trainable), 5709601(non-trainable)\n",
      "INFO:torchnlp.common.train:Early stopping for highest value of validation F1 after 5 epochs\n",
      "  0%|          | 0/81 [00:00<?, ?it/s]INFO:torchnlp.common.train:Epoch 1 (0)\n",
      "INFO:torchnlp.common.train:total_loss: 1.3717262969340807, kl_loss: 0.05043555754754278, nll_loss: 1.5028587491423995\n",
      "INFO:torchnlp.common.train:Train Loss: 1.37173\n",
      "INFO:torchnlp.common.train:Validation metrics:             \n",
      "INFO:torchnlp.common.train:loss=1.01939, acc=0.65711, acc-seq=0.00099, precision=0.45180, recall=0.49258, F1=0.47131\n",
      "INFO:torchnlp.common.model:-------------- Saved checkpoint 81 --------------\n",
      "  0%|          | 0/81 [00:00<?, ?it/s]INFO:torchnlp.common.train:Epoch 2 (81)\n",
      "Training:  19%|█▊        | 15/81 [00:00<00:00, 145.67it/s, loss=0.266]"
     ]
    },
    {
     "name": "stdout",
     "output_type": "stream",
     "text": [
      "kl_loss_final: 0.20084694772958755, pre_loss : 1.0193926975840615\n"
     ]
    },
    {
     "name": "stderr",
     "output_type": "stream",
     "text": [
      "INFO:torchnlp.common.train:total_loss: 0.15769285331537694, kl_loss: 0.0945957432742472, nll_loss: 0.40364177745801433\n",
      "INFO:torchnlp.common.train:Train Loss: 0.15769\n",
      "INFO:torchnlp.common.train:Validation metrics:             \n",
      "INFO:torchnlp.common.train:loss=0.67862, acc=0.74657, acc-seq=0.01441, precision=0.54810, recall=0.64397, F1=0.59218\n",
      "INFO:torchnlp.common.model:-------------- Saved checkpoint 162 --------------\n",
      "  0%|          | 0/81 [00:00<?, ?it/s]INFO:torchnlp.common.train:Epoch 3 (162)\n",
      "Training:  19%|█▊        | 15/81 [00:00<00:00, 137.18it/s, loss=0.0411]"
     ]
    },
    {
     "name": "stdout",
     "output_type": "stream",
     "text": [
      "kl_loss_final: 0.24661792530899956, pre_loss : 0.6786166088921683\n"
     ]
    },
    {
     "name": "stderr",
     "output_type": "stream",
     "text": [
      "INFO:torchnlp.common.train:total_loss: 0.01553642142702032, kl_loss: 0.11110690456849558, nll_loss: 0.304414364842721\n",
      "INFO:torchnlp.common.train:Train Loss: 0.01554\n",
      "INFO:torchnlp.common.train:Validation metrics:             \n",
      "INFO:torchnlp.common.train:loss=0.59463, acc=0.76920, acc-seq=0.02237, precision=0.57610, recall=0.68460, F1=0.62568\n",
      "INFO:torchnlp.common.model:-------------- Saved checkpoint 243 --------------\n",
      "  0%|          | 0/81 [00:00<?, ?it/s]INFO:torchnlp.common.train:Epoch 4 (243)\n",
      "Training:  17%|█▋        | 14/81 [00:00<00:00, 136.94it/s, loss=-.0153]"
     ]
    },
    {
     "name": "stdout",
     "output_type": "stream",
     "text": [
      "kl_loss_final: 0.2692422590085438, pre_loss : 0.5946312972477504\n"
     ]
    },
    {
     "name": "stderr",
     "output_type": "stream",
     "text": [
      "INFO:torchnlp.common.train:total_loss: -0.03496317988560523, kl_loss: 0.11676183618881085, nll_loss: 0.26861758235795996\n",
      "INFO:torchnlp.common.train:Train Loss: -0.03496\n",
      "INFO:torchnlp.common.train:Validation metrics:             \n",
      "INFO:torchnlp.common.train:loss=0.52955, acc=0.79149, acc-seq=0.03280, precision=0.63566, recall=0.72753, F1=0.67850\n",
      "INFO:torchnlp.common.model:-------------- Saved checkpoint 324 --------------\n",
      "  0%|          | 0/81 [00:00<?, ?it/s]INFO:torchnlp.common.train:Epoch 5 (324)\n",
      "Training:  19%|█▊        | 15/81 [00:00<00:00, 148.21it/s, loss=-.061] "
     ]
    },
    {
     "name": "stdout",
     "output_type": "stream",
     "text": [
      "kl_loss_final: 0.291585144897302, pre_loss : 0.5295540662038893\n"
     ]
    },
    {
     "name": "stderr",
     "output_type": "stream",
     "text": [
      "INFO:torchnlp.common.train:total_loss: -0.07511700266673241, kl_loss: 0.12515745293578984, nll_loss: 0.2502923611505532\n",
      "INFO:torchnlp.common.train:Train Loss: -0.07512\n",
      "INFO:torchnlp.common.train:Validation metrics:             \n",
      "INFO:torchnlp.common.train:loss=0.52318, acc=0.79762, acc-seq=0.03380, precision=0.70499, recall=0.73260, F1=0.71853\n",
      "INFO:torchnlp.common.model:-------------- Saved checkpoint 405 --------------\n",
      "  0%|          | 0/81 [00:00<?, ?it/s]INFO:torchnlp.common.train:Epoch 6 (405)\n",
      "Training:  20%|█▉        | 16/81 [00:00<00:00, 151.25it/s, loss=-.0983]"
     ]
    },
    {
     "name": "stdout",
     "output_type": "stream",
     "text": [
      "kl_loss_final: 0.31020171550058184, pre_loss : 0.5231753431615376\n"
     ]
    },
    {
     "name": "stderr",
     "output_type": "stream",
     "text": [
      "INFO:torchnlp.common.train:total_loss: -0.10129066602683362, kl_loss: 0.12903098394105464, nll_loss: 0.23418988121880424\n",
      "INFO:torchnlp.common.train:Train Loss: -0.10129\n",
      "INFO:torchnlp.common.train:Validation metrics:             \n",
      "INFO:torchnlp.common.train:loss=0.45431, acc=0.82793, acc-seq=0.06213, precision=0.67992, recall=0.77197, F1=0.72303\n",
      "INFO:torchnlp.common.model:-------------- Saved checkpoint 486 --------------\n",
      "  0%|          | 0/81 [00:00<?, ?it/s]INFO:torchnlp.common.train:Epoch 7 (486)\n",
      "Training:  17%|█▋        | 14/81 [00:00<00:00, 138.44it/s, loss=-.114]"
     ]
    },
    {
     "name": "stdout",
     "output_type": "stream",
     "text": [
      "kl_loss_final: 0.3097032180854252, pre_loss : 0.4543136287303198\n"
     ]
    },
    {
     "name": "stderr",
     "output_type": "stream",
     "text": [
      "INFO:torchnlp.common.train:total_loss: -0.12246520246988461, kl_loss: 0.12945213582780626, nll_loss: 0.2141103383935528\n",
      "INFO:torchnlp.common.train:Train Loss: -0.12247\n",
      "INFO:torchnlp.common.train:Validation metrics:             \n",
      "INFO:torchnlp.common.train:loss=0.40587, acc=0.84747, acc-seq=0.09940, precision=0.71504, recall=0.78639, F1=0.74902\n",
      "INFO:torchnlp.common.model:-------------- Saved checkpoint 567 --------------\n",
      "  0%|          | 0/81 [00:00<?, ?it/s]INFO:torchnlp.common.train:Epoch 8 (567)\n",
      "Training:  19%|█▊        | 15/81 [00:00<00:00, 145.40it/s, loss=-.137]"
     ]
    },
    {
     "name": "stdout",
     "output_type": "stream",
     "text": [
      "kl_loss_final: 0.30963146154369625, pre_loss : 0.40587148992788225\n"
     ]
    },
    {
     "name": "stderr",
     "output_type": "stream",
     "text": [
      "INFO:torchnlp.common.train:total_loss: -0.1416660773533362, kl_loss: 0.12998873878408362, nll_loss: 0.19630463200586815\n",
      "INFO:torchnlp.common.train:Train Loss: -0.14167\n",
      "INFO:torchnlp.common.train:Validation metrics:             \n",
      "INFO:torchnlp.common.train:loss=0.37709, acc=0.86301, acc-seq=0.12724, precision=0.74902, recall=0.79914, F1=0.77327\n",
      "INFO:torchnlp.common.model:-------------- Saved checkpoint 648 --------------\n",
      "  0%|          | 0/81 [00:00<?, ?it/s]INFO:torchnlp.common.train:Epoch 9 (648)\n",
      "Training:  19%|█▊        | 15/81 [00:00<00:00, 144.92it/s, loss=-.157]"
     ]
    },
    {
     "name": "stdout",
     "output_type": "stream",
     "text": [
      "kl_loss_final: 0.31441028061367216, pre_loss : 0.3770914879583177\n"
     ]
    },
    {
     "name": "stderr",
     "output_type": "stream",
     "text": [
      "INFO:torchnlp.common.train:total_loss: -0.1583087615392826, kl_loss: 0.13045245703355765, nll_loss: 0.18086761401759255\n",
      "INFO:torchnlp.common.train:Train Loss: -0.15831\n",
      "INFO:torchnlp.common.train:Validation metrics:             \n",
      "INFO:torchnlp.common.train:loss=0.35069, acc=0.88083, acc-seq=0.17147, precision=0.76181, recall=0.82920, F1=0.79407\n",
      "INFO:torchnlp.common.model:-------------- Saved checkpoint 729 --------------\n",
      "  0%|          | 0/81 [00:00<?, ?it/s]INFO:torchnlp.common.train:Epoch 10 (729)\n",
      "Training:  19%|█▊        | 15/81 [00:00<00:00, 145.09it/s, loss=-.179]"
     ]
    },
    {
     "name": "stdout",
     "output_type": "stream",
     "text": [
      "kl_loss_final: 0.314499325695492, pre_loss : 0.3506865267242704\n"
     ]
    },
    {
     "name": "stderr",
     "output_type": "stream",
     "text": [
      "INFO:torchnlp.common.train:total_loss: -0.17664688623245853, kl_loss: 0.13100737425280207, nll_loss: 0.16397227356095373\n",
      "INFO:torchnlp.common.train:Train Loss: -0.17665\n",
      "INFO:torchnlp.common.train:Validation metrics:             \n",
      "INFO:torchnlp.common.train:loss=0.31567, acc=0.89562, acc-seq=0.21720, precision=0.78734, recall=0.84613, F1=0.81568\n",
      "INFO:torchnlp.common.model:-------------- Saved checkpoint 810 --------------\n",
      "  0%|          | 0/81 [00:00<?, ?it/s]INFO:torchnlp.common.train:Epoch 11 (810)\n",
      "Training:  19%|█▊        | 15/81 [00:00<00:00, 143.30it/s, loss=-.187]"
     ]
    },
    {
     "name": "stdout",
     "output_type": "stream",
     "text": [
      "kl_loss_final: 0.31763168637241634, pre_loss : 0.31567006309827167\n"
     ]
    },
    {
     "name": "stderr",
     "output_type": "stream",
     "text": [
      "INFO:torchnlp.common.train:total_loss: -0.18735673048613985, kl_loss: 0.1314989086470486, nll_loss: 0.15454041957855225\n",
      "INFO:torchnlp.common.train:Train Loss: -0.18736\n",
      "INFO:torchnlp.common.train:Validation metrics:             \n",
      "INFO:torchnlp.common.train:loss=0.30895, acc=0.89957, acc-seq=0.21173, precision=0.81305, recall=0.85335, F1=0.83271\n",
      "INFO:torchnlp.common.model:-------------- Saved checkpoint 891 --------------\n",
      "  0%|          | 0/81 [00:00<?, ?it/s]INFO:torchnlp.common.train:Epoch 12 (891)\n",
      "Training:  19%|█▊        | 15/81 [00:00<00:00, 149.77it/s, loss=-.19] "
     ]
    },
    {
     "name": "stdout",
     "output_type": "stream",
     "text": [
      "kl_loss_final: 0.3181037750272524, pre_loss : 0.30895176246052697\n"
     ]
    },
    {
     "name": "stderr",
     "output_type": "stream",
     "text": [
      "INFO:torchnlp.common.train:total_loss: -0.19328556568534286, kl_loss: 0.13183843831957123, nll_loss: 0.1494943598906199\n",
      "INFO:torchnlp.common.train:Train Loss: -0.19329\n",
      "INFO:torchnlp.common.train:Validation metrics:             \n",
      "INFO:torchnlp.common.train:loss=0.29766, acc=0.90385, acc-seq=0.22565, precision=0.81148, recall=0.85704, F1=0.83364\n",
      "INFO:torchnlp.common.model:-------------- Saved checkpoint 972 --------------\n",
      "  0%|          | 0/81 [00:00<?, ?it/s]INFO:torchnlp.common.train:Epoch 13 (972)\n",
      "Training:  17%|█▋        | 14/81 [00:00<00:00, 139.68it/s, loss=-.193]"
     ]
    },
    {
     "name": "stdout",
     "output_type": "stream",
     "text": [
      "kl_loss_final: 0.32019624078557607, pre_loss : 0.29766373407273067\n"
     ]
    },
    {
     "name": "stderr",
     "output_type": "stream",
     "text": [
      "INFO:torchnlp.common.train:total_loss: -0.2001149492499269, kl_loss: 0.1323455301699815, nll_loss: 0.1439834161673063\n",
      "INFO:torchnlp.common.train:Train Loss: -0.20011\n",
      "INFO:torchnlp.common.train:Validation metrics:             \n",
      "INFO:torchnlp.common.train:loss=0.29056, acc=0.90393, acc-seq=0.23310, precision=0.80625, recall=0.85645, F1=0.83059\n",
      "INFO:torchnlp.common.model:-------------- Saved checkpoint 1053 --------------\n",
      "  0%|          | 0/81 [00:00<?, ?it/s]INFO:torchnlp.common.train:Epoch 14 (1053)\n",
      "Training:  19%|█▊        | 15/81 [00:00<00:00, 144.43it/s, loss=-.209]"
     ]
    },
    {
     "name": "stdout",
     "output_type": "stream",
     "text": [
      "kl_loss_final: 0.32149949740795863, pre_loss : 0.29055733269169215\n"
     ]
    },
    {
     "name": "stderr",
     "output_type": "stream",
     "text": [
      "INFO:torchnlp.common.train:total_loss: -0.20354536838001674, kl_loss: 0.13267540407401543, nll_loss: 0.14141066823108697\n",
      "INFO:torchnlp.common.train:Train Loss: -0.20355\n",
      "INFO:torchnlp.common.train:Validation metrics:             \n",
      "INFO:torchnlp.common.train:loss=0.29067, acc=0.90864, acc-seq=0.24354, precision=0.81323, recall=0.86290, F1=0.83733\n",
      "INFO:torchnlp.common.model:-------------- Saved checkpoint 1134 --------------\n",
      "  0%|          | 0/81 [00:00<?, ?it/s]INFO:torchnlp.common.train:Epoch 15 (1134)\n",
      "Training:  19%|█▊        | 15/81 [00:00<00:00, 141.17it/s, loss=-.213]"
     ]
    },
    {
     "name": "stdout",
     "output_type": "stream",
     "text": [
      "kl_loss_final: 0.3236699806792395, pre_loss : 0.29067095759369077\n"
     ]
    },
    {
     "name": "stderr",
     "output_type": "stream",
     "text": [
      "INFO:torchnlp.common.train:total_loss: -0.2086649117646394, kl_loss: 0.133080984155337, nll_loss: 0.1373456339409322\n",
      "INFO:torchnlp.common.train:Train Loss: -0.20866\n",
      "INFO:torchnlp.common.train:Validation metrics:             \n",
      "INFO:torchnlp.common.train:loss=0.27977, acc=0.91154, acc-seq=0.25000, precision=0.81814, recall=0.86722, F1=0.84197\n",
      "INFO:torchnlp.common.model:-------------- Saved checkpoint 1215 --------------\n",
      "  0%|          | 0/81 [00:00<?, ?it/s]INFO:torchnlp.common.train:Epoch 16 (1215)\n",
      "Training:  19%|█▊        | 15/81 [00:00<00:00, 142.48it/s, loss=-.218]"
     ]
    },
    {
     "name": "stdout",
     "output_type": "stream",
     "text": [
      "kl_loss_final: 0.3249380315343539, pre_loss : 0.27977040835789274\n"
     ]
    },
    {
     "name": "stderr",
     "output_type": "stream",
     "text": [
      "INFO:torchnlp.common.train:total_loss: -0.21186155007209306, kl_loss: 0.13348296422649314, nll_loss: 0.1351941431194176\n",
      "INFO:torchnlp.common.train:Train Loss: -0.21186\n",
      "INFO:torchnlp.common.train:Validation metrics:             \n",
      "INFO:torchnlp.common.train:loss=0.28747, acc=0.91354, acc-seq=0.24652, precision=0.83063, recall=0.87385, F1=0.85169\n",
      "INFO:torchnlp.common.model:-------------- Saved checkpoint 1296 --------------\n",
      "  0%|          | 0/81 [00:00<?, ?it/s]INFO:torchnlp.common.train:Epoch 17 (1296)\n",
      "Training:  20%|█▉        | 16/81 [00:00<00:00, 152.32it/s, loss=-.222]"
     ]
    },
    {
     "name": "stdout",
     "output_type": "stream",
     "text": [
      "kl_loss_final: 0.3256022036075592, pre_loss : 0.2874654396658852\n"
     ]
    },
    {
     "name": "stderr",
     "output_type": "stream",
     "text": [
      "INFO:torchnlp.common.train:total_loss: -0.2143831107719445, kl_loss: 0.13371547339139161, nll_loss: 0.13327710762803938\n",
      "INFO:torchnlp.common.train:Train Loss: -0.21438\n",
      "INFO:torchnlp.common.train:Validation metrics:             \n",
      "INFO:torchnlp.common.train:loss=0.28154, acc=0.91072, acc-seq=0.24006, precision=0.81793, recall=0.86395, F1=0.84031\n",
      "INFO:torchnlp.common.model:-------------- Saved checkpoint 1377 --------------\n",
      "  0%|          | 0/81 [00:00<?, ?it/s]INFO:torchnlp.common.train:Epoch 18 (1377)\n",
      "Training:  20%|█▉        | 16/81 [00:00<00:00, 147.68it/s, loss=-.217]"
     ]
    },
    {
     "name": "stdout",
     "output_type": "stream",
     "text": [
      "kl_loss_final: 0.32641624233552385, pre_loss : 0.2815369438557398\n"
     ]
    },
    {
     "name": "stderr",
     "output_type": "stream",
     "text": [
      "INFO:torchnlp.common.train:total_loss: -0.21654790529498347, kl_loss: 0.133804346676226, nll_loss: 0.13134338329603643\n",
      "INFO:torchnlp.common.train:Train Loss: -0.21655\n",
      "INFO:torchnlp.common.train:Validation metrics:             \n",
      "INFO:torchnlp.common.train:loss=0.27883, acc=0.91447, acc-seq=0.25298, precision=0.82388, recall=0.86882, F1=0.84575\n",
      "INFO:torchnlp.common.model:-------------- Saved checkpoint 1458 --------------\n",
      "  0%|          | 0/81 [00:00<?, ?it/s]INFO:torchnlp.common.train:Epoch 19 (1458)\n",
      "Training:  19%|█▊        | 15/81 [00:00<00:00, 142.27it/s, loss=-.213]"
     ]
    },
    {
     "name": "stdout",
     "output_type": "stream",
     "text": [
      "kl_loss_final: 0.32605501193375813, pre_loss : 0.2788261203538804\n"
     ]
    },
    {
     "name": "stderr",
     "output_type": "stream",
     "text": [
      "INFO:torchnlp.common.train:total_loss: -0.21857816072893732, kl_loss: 0.13390839486210435, nll_loss: 0.1295836525566784\n",
      "INFO:torchnlp.common.train:Train Loss: -0.21858\n",
      "INFO:torchnlp.common.train:Validation metrics:             \n",
      "INFO:torchnlp.common.train:loss=0.26985, acc=0.91531, acc-seq=0.25746, precision=0.82956, recall=0.87192, F1=0.85021\n",
      "INFO:torchnlp.common.model:-------------- Saved checkpoint 1539 --------------\n",
      "  0%|          | 0/81 [00:00<?, ?it/s]INFO:torchnlp.common.train:Epoch 20 (1539)\n",
      "Training:  19%|█▊        | 15/81 [00:00<00:00, 145.69it/s, loss=-.219]"
     ]
    },
    {
     "name": "stdout",
     "output_type": "stream",
     "text": [
      "kl_loss_final: 0.32734194717236925, pre_loss : 0.26985262405304683\n"
     ]
    },
    {
     "name": "stderr",
     "output_type": "stream",
     "text": [
      "INFO:torchnlp.common.train:total_loss: -0.22013666729132333, kl_loss: 0.1340197345908777, nll_loss: 0.1283146290131557\n",
      "INFO:torchnlp.common.train:Train Loss: -0.22014\n",
      "INFO:torchnlp.common.train:Validation metrics:             \n",
      "INFO:torchnlp.common.train:loss=0.27352, acc=0.91799, acc-seq=0.26889, precision=0.82569, recall=0.87385, F1=0.84909\n",
      "INFO:torchnlp.common.model:-------------- Saved checkpoint 1620 --------------\n",
      "  0%|          | 0/81 [00:00<?, ?it/s]INFO:torchnlp.common.train:Epoch 21 (1620)\n",
      "Training:  19%|█▊        | 15/81 [00:00<00:00, 144.64it/s, loss=-.219]"
     ]
    },
    {
     "name": "stdout",
     "output_type": "stream",
     "text": [
      "kl_loss_final: 0.32707737918410984, pre_loss : 0.27351836931137813\n"
     ]
    },
    {
     "name": "stderr",
     "output_type": "stream",
     "text": [
      "INFO:torchnlp.common.train:total_loss: -0.22441728137157582, kl_loss: 0.13415380309761307, nll_loss: 0.12438259025414784\n",
      "INFO:torchnlp.common.train:Train Loss: -0.22442\n",
      "INFO:torchnlp.common.train:Validation metrics:             \n",
      "INFO:torchnlp.common.train:loss=0.26724, acc=0.91916, acc-seq=0.26093, precision=0.83415, recall=0.87339, F1=0.85332\n",
      "INFO:torchnlp.common.model:-------------- Saved checkpoint 1701 --------------\n",
      "  0%|          | 0/81 [00:00<?, ?it/s]INFO:torchnlp.common.train:Epoch 22 (1701)\n",
      "Training:  17%|█▋        | 14/81 [00:00<00:00, 137.91it/s, loss=-.22] "
     ]
    },
    {
     "name": "stdout",
     "output_type": "stream",
     "text": [
      "kl_loss_final: 0.3282246259706361, pre_loss : 0.26724320579142796\n"
     ]
    },
    {
     "name": "stderr",
     "output_type": "stream",
     "text": [
      "INFO:torchnlp.common.train:total_loss: -0.22574156688319313, kl_loss: 0.13432708612562697, nll_loss: 0.12350884512250807\n",
      "INFO:torchnlp.common.train:Train Loss: -0.22574\n",
      "INFO:torchnlp.common.train:Validation metrics:             \n",
      "INFO:torchnlp.common.train:loss=0.26758, acc=0.92082, acc-seq=0.26093, precision=0.84022, recall=0.87854, F1=0.85895\n",
      "INFO:torchnlp.common.model:-------------- Saved checkpoint 1782 --------------\n",
      "  0%|          | 0/81 [00:00<?, ?it/s]INFO:torchnlp.common.train:Epoch 23 (1782)\n",
      "Training:  17%|█▋        | 14/81 [00:00<00:00, 135.58it/s, loss=-.216]"
     ]
    },
    {
     "name": "stdout",
     "output_type": "stream",
     "text": [
      "kl_loss_final: 0.3285023399761745, pre_loss : 0.2675830054850805\n"
     ]
    },
    {
     "name": "stderr",
     "output_type": "stream",
     "text": [
      "INFO:torchnlp.common.train:total_loss: -0.22672219243314531, kl_loss: 0.13430760276538353, nll_loss: 0.122477560683533\n",
      "INFO:torchnlp.common.train:Train Loss: -0.22672\n",
      "INFO:torchnlp.common.train:Validation metrics:             \n",
      "INFO:torchnlp.common.train:loss=0.26294, acc=0.92058, acc-seq=0.26491, precision=0.83497, recall=0.87796, F1=0.85592\n",
      "INFO:torchnlp.common.model:-------------- Saved checkpoint 1863 --------------\n",
      "  0%|          | 0/81 [00:00<?, ?it/s]INFO:torchnlp.common.train:Epoch 24 (1863)\n",
      "Training:  17%|█▋        | 14/81 [00:00<00:00, 139.79it/s, loss=-.229]"
     ]
    },
    {
     "name": "stdout",
     "output_type": "stream",
     "text": [
      "kl_loss_final: 0.32828588428951444, pre_loss : 0.26293614151931943\n"
     ]
    },
    {
     "name": "stderr",
     "output_type": "stream",
     "text": [
      "INFO:torchnlp.common.train:total_loss: -0.22989189128081003, kl_loss: 0.13447148656403576, nll_loss: 0.11973396090813625\n",
      "INFO:torchnlp.common.train:Train Loss: -0.22989\n",
      "INFO:torchnlp.common.train:Validation metrics:             \n",
      "INFO:torchnlp.common.train:loss=0.26354, acc=0.92362, acc-seq=0.27833, precision=0.84342, recall=0.88185, F1=0.86221\n",
      "INFO:torchnlp.common.model:-------------- Saved checkpoint 1944 --------------\n",
      "  0%|          | 0/81 [00:00<?, ?it/s]INFO:torchnlp.common.train:Epoch 25 (1944)\n",
      "Training:  20%|█▉        | 16/81 [00:00<00:00, 152.95it/s, loss=-.237]"
     ]
    },
    {
     "name": "stdout",
     "output_type": "stream",
     "text": [
      "kl_loss_final: 0.32957772733200164, pre_loss : 0.263544934846106\n"
     ]
    },
    {
     "name": "stderr",
     "output_type": "stream",
     "text": [
      "INFO:torchnlp.common.train:total_loss: -0.23053285148408678, kl_loss: 0.134700052348184, nll_loss: 0.11968727225874677\n",
      "INFO:torchnlp.common.train:Train Loss: -0.23053\n",
      "INFO:torchnlp.common.train:Validation metrics:             \n",
      "INFO:torchnlp.common.train:loss=0.26037, acc=0.92338, acc-seq=0.26889, precision=0.84143, recall=0.87812, F1=0.85939\n",
      "INFO:torchnlp.common.model:-------------- Saved checkpoint 2025 --------------\n",
      "  0%|          | 0/81 [00:00<?, ?it/s]INFO:torchnlp.common.train:Epoch 26 (2025)\n",
      "Training:  20%|█▉        | 16/81 [00:00<00:00, 149.62it/s, loss=-.231]"
     ]
    },
    {
     "name": "stdout",
     "output_type": "stream",
     "text": [
      "kl_loss_final: 0.32975548399346216, pre_loss : 0.26036978974228814\n"
     ]
    },
    {
     "name": "stderr",
     "output_type": "stream",
     "text": [
      "INFO:torchnlp.common.train:total_loss: -0.23158019376389774, kl_loss: 0.13483115000489318, nll_loss: 0.11898078254343551\n",
      "INFO:torchnlp.common.train:Train Loss: -0.23158\n",
      "INFO:torchnlp.common.train:Validation metrics:             \n",
      "INFO:torchnlp.common.train:loss=0.26338, acc=0.92210, acc-seq=0.27237, precision=0.83634, recall=0.87582, F1=0.85562\n",
      "INFO:torchnlp.common.model:-------------- Saved checkpoint 2106 --------------\n",
      "  0%|          | 0/81 [00:00<?, ?it/s]INFO:torchnlp.common.train:Epoch 27 (2106)\n",
      "Training:  19%|█▊        | 15/81 [00:00<00:00, 145.41it/s, loss=-.235]"
     ]
    },
    {
     "name": "stdout",
     "output_type": "stream",
     "text": [
      "kl_loss_final: 0.3304764177827608, pre_loss : 0.2633810703243528\n"
     ]
    },
    {
     "name": "stderr",
     "output_type": "stream",
     "text": [
      "INFO:torchnlp.common.train:total_loss: -0.23222522069642573, kl_loss: 0.13479259922916506, nll_loss: 0.11823552405392682\n",
      "INFO:torchnlp.common.train:Train Loss: -0.23223\n",
      "INFO:torchnlp.common.train:Validation metrics:             \n",
      "INFO:torchnlp.common.train:loss=0.26125, acc=0.92424, acc-seq=0.29274, precision=0.83427, recall=0.88303, F1=0.85796\n",
      "INFO:torchnlp.common.model:-------------- Saved checkpoint 2187 --------------\n",
      "  0%|          | 0/81 [00:00<?, ?it/s]INFO:torchnlp.common.train:Epoch 28 (2187)\n",
      "Training:  17%|█▋        | 14/81 [00:00<00:00, 138.79it/s, loss=-.242]"
     ]
    },
    {
     "name": "stdout",
     "output_type": "stream",
     "text": [
      "kl_loss_final: 0.33048628944726216, pre_loss : 0.26124500873542966\n"
     ]
    },
    {
     "name": "stderr",
     "output_type": "stream",
     "text": [
      "INFO:torchnlp.common.train:total_loss: -0.23383068836029666, kl_loss: 0.13493750327163273, nll_loss: 0.11700680713962626\n",
      "INFO:torchnlp.common.train:Train Loss: -0.23383\n",
      "INFO:torchnlp.common.train:Validation metrics:             \n",
      "INFO:torchnlp.common.train:loss=0.25942, acc=0.92498, acc-seq=0.27982, precision=0.84567, recall=0.88265, F1=0.86377\n",
      "INFO:torchnlp.common.model:-------------- Saved checkpoint 2268 --------------\n",
      "  0%|          | 0/81 [00:00<?, ?it/s]INFO:torchnlp.common.train:Epoch 29 (2268)\n",
      "Training:  19%|█▊        | 15/81 [00:00<00:00, 144.88it/s, loss=-.231]"
     ]
    },
    {
     "name": "stdout",
     "output_type": "stream",
     "text": [
      "kl_loss_final: 0.3316015065425918, pre_loss : 0.2594157570884341\n"
     ]
    },
    {
     "name": "stderr",
     "output_type": "stream",
     "text": [
      "INFO:torchnlp.common.train:total_loss: -0.2340554423906185, kl_loss: 0.1349897238391417, nll_loss: 0.11691782761503149\n",
      "INFO:torchnlp.common.train:Train Loss: -0.23406\n",
      "INFO:torchnlp.common.train:Validation metrics:             \n",
      "INFO:torchnlp.common.train:loss=0.26179, acc=0.92321, acc-seq=0.27038, precision=0.84643, recall=0.87905, F1=0.86243\n",
      "INFO:torchnlp.common.model:-------------- Saved checkpoint 2349 --------------\n",
      "  0%|          | 0/81 [00:00<?, ?it/s]INFO:torchnlp.common.train:Epoch 30 (2349)\n",
      "Training:  19%|█▊        | 15/81 [00:00<00:00, 148.61it/s, loss=-.243]"
     ]
    },
    {
     "name": "stdout",
     "output_type": "stream",
     "text": [
      "kl_loss_final: 0.33194191115243094, pre_loss : 0.26179120051009314\n"
     ]
    },
    {
     "name": "stderr",
     "output_type": "stream",
     "text": [
      "INFO:torchnlp.common.train:total_loss: -0.23469090461730957, kl_loss: 0.13502658682840843, nll_loss: 0.11637821002506915\n",
      "INFO:torchnlp.common.train:Train Loss: -0.23469\n",
      "INFO:torchnlp.common.train:Validation metrics:             \n",
      "INFO:torchnlp.common.train:loss=0.25861, acc=0.92521, acc-seq=0.27982, precision=0.84406, recall=0.88387, F1=0.86350\n",
      "INFO:torchnlp.common.model:-------------- Saved checkpoint 2430 --------------\n",
      "  0%|          | 0/81 [00:00<?, ?it/s]INFO:torchnlp.common.train:Epoch 31 (2430)\n",
      "Training:  19%|█▊        | 15/81 [00:00<00:00, 147.58it/s, loss=-.239]"
     ]
    },
    {
     "name": "stdout",
     "output_type": "stream",
     "text": [
      "kl_loss_final: 0.33159232636292774, pre_loss : 0.25860580234300523\n"
     ]
    },
    {
     "name": "stderr",
     "output_type": "stream",
     "text": [
      "INFO:torchnlp.common.train:total_loss: -0.23519429086167135, kl_loss: 0.1351512270393195, nll_loss: 0.11619888705971801\n",
      "INFO:torchnlp.common.train:Train Loss: -0.23519\n",
      "INFO:torchnlp.common.train:Validation metrics:             \n",
      "INFO:torchnlp.common.train:loss=0.25993, acc=0.92455, acc-seq=0.27734, precision=0.84322, recall=0.88278, F1=0.86254\n",
      "INFO:torchnlp.common.model:-------------- Saved checkpoint 2511 --------------\n",
      "  0%|          | 0/81 [00:00<?, ?it/s]INFO:torchnlp.common.train:Epoch 32 (2511)\n",
      "Training:  19%|█▊        | 15/81 [00:00<00:00, 143.09it/s, loss=-.236]"
     ]
    },
    {
     "name": "stdout",
     "output_type": "stream",
     "text": [
      "kl_loss_final: 0.33195818889708745, pre_loss : 0.2599288995067279\n"
     ]
    },
    {
     "name": "stderr",
     "output_type": "stream",
     "text": [
      "INFO:torchnlp.common.train:total_loss: -0.2359669363057172, kl_loss: 0.13531752868934913, nll_loss: 0.11585862447082261\n",
      "INFO:torchnlp.common.train:Train Loss: -0.23597\n",
      "INFO:torchnlp.common.train:Validation metrics:             \n",
      "INFO:torchnlp.common.train:loss=0.25540, acc=0.92473, acc-seq=0.28479, precision=0.84342, recall=0.88076, F1=0.86169\n",
      "INFO:torchnlp.common.model:-------------- Saved checkpoint 2592 --------------\n",
      "  0%|          | 0/81 [00:00<?, ?it/s]INFO:torchnlp.common.train:Epoch 33 (2592)\n",
      "Training:  19%|█▊        | 15/81 [00:00<00:00, 149.32it/s, loss=-.237]"
     ]
    },
    {
     "name": "stdout",
     "output_type": "stream",
     "text": [
      "kl_loss_final: 0.3325873702054932, pre_loss : 0.255402562164125\n"
     ]
    },
    {
     "name": "stderr",
     "output_type": "stream",
     "text": [
      "INFO:torchnlp.common.train:total_loss: -0.23752396323798616, kl_loss: 0.13535084345458467, nll_loss: 0.11438821605694147\n",
      "INFO:torchnlp.common.train:Train Loss: -0.23752\n",
      "INFO:torchnlp.common.train:Validation metrics:             \n",
      "INFO:torchnlp.common.train:loss=0.26310, acc=0.92436, acc-seq=0.27833, precision=0.84546, recall=0.88076, F1=0.86275\n",
      "INFO:torchnlp.common.train:Early stopping at iteration 2268, epoch 27, F1=0.86377\n",
      "  6%|▌         | 5/81 [00:00<00:01, 40.39it/s]"
     ]
    },
    {
     "name": "stdout",
     "output_type": "stream",
     "text": [
      "kl_loss_final: 0.3321722174684207, pre_loss : 0.2630957592101324\n"
     ]
    },
    {
     "name": "stderr",
     "output_type": "stream",
     "text": [
      "INFO:torchnlp.common.train:prediction, and attns for best epoch obtained, release hook\n",
      "INFO:torchnlp.common.train:prediction, and attns for best epoch obtained, release hook\n"
     ]
    },
    {
     "name": "stdout",
     "output_type": "stream",
     "text": [
      "SAVING PREDICTIONS AND ATTENTIONS\n",
      "done /home/zijiao/research/atal/saved_True_/11:42:41.625104/tr_pr_best\n",
      "done /home/zijiao/research/atal/saved_True_/11:42:41.625104/te_pr_best\n",
      "done /home/zijiao/research/atal/saved_True_/11:42:41.625104/tr_attn_best\n",
      "done /home/zijiao/research/atal/saved_True_/11:42:41.625104/te_attn_best\n",
      "LOOK HERE 0.2630957592101324 0.3321722174684207\n"
     ]
    },
    {
     "name": "stderr",
     "output_type": "stream",
     "text": [
      "INFO:torchnlp.data.conll:---------- CONLL 2000 Chunking ---------\n",
      "INFO:torchnlp.data.conll:Train size: 8042\n",
      "INFO:torchnlp.data.conll:Validation size: 894\n",
      "INFO:torchnlp.data.conll:Test size: 2012\n",
      "INFO:torchtext.vocab:Loading vectors from .vector_cache/glove.6B.200d.txt.pt\n",
      "INFO:torchtext.vocab:Loading vectors from .vector_cache/charNgram.txt.pt\n",
      "INFO:torchnlp.data.conll:Input vocab size:19032\n",
      "INFO:torchnlp.data.conll:Tagset size: 25\n",
      "INFO:torchnlp.common.model:\n",
      "Hyperparameters:\n",
      " batch_size=100\n",
      " embedding_size_word=300\n",
      " embedding_size_char=0\n",
      " embedding_size_char_per_word=100\n",
      " embedding_size_tags=100\n",
      " hidden_size=128\n",
      " learning_rate=0.2\n",
      " learning_rate_decay=noam_step\n",
      " max_length=256\n",
      " num_hidden_layers=1\n",
      " dropout=0.2\n",
      " optimizer_adam_beta1=0.9\n",
      " optimizer_adam_beta2=0.98\n",
      " use_crf=False\n",
      " num_heads=4\n",
      " attention_key_channels=0\n",
      " attention_value_channels=0\n",
      " filter_size=128\n",
      " filter_size_char=64\n",
      " input_dropout=0.2\n",
      " attention_dropout=0.2\n",
      " relu_dropout=0.2\n",
      " learning_rate_warmup_steps=500\n",
      " attn_path=./saved\n",
      " adversarial=True\n",
      " lmbda=2.6999999999999993\n",
      " froze=False\n",
      " froze_path=./froze\n",
      "INFO:torchnlp.common.train:Parameters: 140953(trainable), 5709601(non-trainable)\n",
      "INFO:torchnlp.common.train:Early stopping for highest value of validation F1 after 5 epochs\n",
      "  0%|          | 0/81 [00:00<?, ?it/s]INFO:torchnlp.common.train:Epoch 1 (0)\n",
      "INFO:torchnlp.common.train:total_loss: 1.344858552938626, kl_loss: 0.042002512395014, nll_loss: 1.458265338414981\n",
      "INFO:torchnlp.common.train:Train Loss: 1.34486\n",
      "INFO:torchnlp.common.train:Validation metrics:             \n",
      "INFO:torchnlp.common.train:loss=1.09721, acc=0.64688, acc-seq=0.00149, precision=0.44249, recall=0.42001, F1=0.43096\n",
      "INFO:torchnlp.common.model:-------------- Saved checkpoint 81 --------------\n",
      "  0%|          | 0/81 [00:00<?, ?it/s]INFO:torchnlp.common.train:Epoch 2 (81)\n",
      "Training:  19%|█▊        | 15/81 [00:00<00:00, 146.92it/s, loss=0.309]"
     ]
    },
    {
     "name": "stdout",
     "output_type": "stream",
     "text": [
      "kl_loss_final: 0.2052662287439619, pre_loss : 1.097214434828077\n"
     ]
    },
    {
     "name": "stderr",
     "output_type": "stream",
     "text": [
      "INFO:torchnlp.common.train:total_loss: 0.19911587606241674, kl_loss: 0.08767515995804175, nll_loss: 0.43583881082358183\n",
      "INFO:torchnlp.common.train:Train Loss: 0.19912\n",
      "INFO:torchnlp.common.train:Validation metrics:             \n",
      "INFO:torchnlp.common.train:loss=0.67286, acc=0.75410, acc-seq=0.01093, precision=0.61061, recall=0.63831, F1=0.62415\n",
      "INFO:torchnlp.common.model:-------------- Saved checkpoint 162 --------------\n",
      "  0%|          | 0/81 [00:00<?, ?it/s]INFO:torchnlp.common.train:Epoch 3 (162)\n",
      "Training:  19%|█▊        | 15/81 [00:00<00:00, 147.97it/s, loss=0.0481]"
     ]
    },
    {
     "name": "stdout",
     "output_type": "stream",
     "text": [
      "kl_loss_final: 0.2559278156785738, pre_loss : 0.6728564926556179\n"
     ]
    },
    {
     "name": "stderr",
     "output_type": "stream",
     "text": [
      "INFO:torchnlp.common.train:total_loss: 0.013856412451944234, kl_loss: 0.10919966521086516, nll_loss: 0.3086955146289166\n",
      "INFO:torchnlp.common.train:Train Loss: 0.01386\n",
      "INFO:torchnlp.common.train:Validation metrics:             \n",
      "INFO:torchnlp.common.train:loss=0.55954, acc=0.78352, acc-seq=0.02634, precision=0.66582, recall=0.71596, F1=0.68998\n",
      "INFO:torchnlp.common.model:-------------- Saved checkpoint 243 --------------\n",
      "  0%|          | 0/81 [00:00<?, ?it/s]INFO:torchnlp.common.train:Epoch 4 (243)\n",
      "Training:  20%|█▉        | 16/81 [00:00<00:00, 149.33it/s, loss=-.036] "
     ]
    },
    {
     "name": "stdout",
     "output_type": "stream",
     "text": [
      "kl_loss_final: 0.2689317376131103, pre_loss : 0.5595442042464301\n"
     ]
    },
    {
     "name": "stderr",
     "output_type": "stream",
     "text": [
      "INFO:torchnlp.common.train:total_loss: -0.04825133655542209, kl_loss: 0.11668461450824032, nll_loss: 0.2667971279150174\n",
      "INFO:torchnlp.common.train:Train Loss: -0.04825\n",
      "INFO:torchnlp.common.train:Validation metrics:             \n",
      "INFO:torchnlp.common.train:loss=0.53620, acc=0.79430, acc-seq=0.02833, precision=0.69594, recall=0.74023, F1=0.71740\n",
      "INFO:torchnlp.common.model:-------------- Saved checkpoint 324 --------------\n",
      "  0%|          | 0/81 [00:00<?, ?it/s]INFO:torchnlp.common.train:Epoch 5 (324)\n",
      "Training:  19%|█▊        | 15/81 [00:00<00:00, 146.27it/s, loss=-.0707]"
     ]
    },
    {
     "name": "stdout",
     "output_type": "stream",
     "text": [
      "kl_loss_final: 0.28151575192099526, pre_loss : 0.5362006780647096\n"
     ]
    },
    {
     "name": "stderr",
     "output_type": "stream",
     "text": [
      "INFO:torchnlp.common.train:total_loss: -0.0739990226280542, kl_loss: 0.11996158304405802, nll_loss: 0.24989725833321796\n",
      "INFO:torchnlp.common.train:Train Loss: -0.07400\n",
      "INFO:torchnlp.common.train:Validation metrics:             \n",
      "INFO:torchnlp.common.train:loss=0.51118, acc=0.79803, acc-seq=0.02783, precision=0.67357, recall=0.75306, F1=0.71110\n",
      "INFO:torchnlp.common.model:-------------- Saved checkpoint 405 --------------\n",
      "  0%|          | 0/81 [00:00<?, ?it/s]INFO:torchnlp.common.train:Epoch 6 (405)\n",
      "Training:  19%|█▊        | 15/81 [00:00<00:00, 145.85it/s, loss=-.0794]"
     ]
    },
    {
     "name": "stdout",
     "output_type": "stream",
     "text": [
      "kl_loss_final: 0.2909384504670188, pre_loss : 0.5111830873148782\n"
     ]
    },
    {
     "name": "stderr",
     "output_type": "stream",
     "text": [
      "INFO:torchnlp.common.train:total_loss: -0.09182462942453078, kl_loss: 0.12271600814513219, nll_loss: 0.2395085972032429\n",
      "INFO:torchnlp.common.train:Train Loss: -0.09182\n",
      "INFO:torchnlp.common.train:Validation metrics:             \n",
      "INFO:torchnlp.common.train:loss=0.50881, acc=0.80472, acc-seq=0.03330, precision=0.69529, recall=0.76283, F1=0.72749\n",
      "INFO:torchnlp.common.model:-------------- Saved checkpoint 486 --------------\n",
      "  0%|          | 0/81 [00:00<?, ?it/s]INFO:torchnlp.common.train:Epoch 7 (486)\n",
      "Training:  17%|█▋        | 14/81 [00:00<00:00, 132.22it/s, loss=-.113]"
     ]
    },
    {
     "name": "stdout",
     "output_type": "stream",
     "text": [
      "kl_loss_final: 0.30242827924944105, pre_loss : 0.5088072504316058\n"
     ]
    },
    {
     "name": "stderr",
     "output_type": "stream",
     "text": [
      "INFO:torchnlp.common.train:total_loss: -0.11227279588764097, kl_loss: 0.12729219006903378, nll_loss: 0.2314161244365904\n",
      "INFO:torchnlp.common.train:Train Loss: -0.11227\n",
      "INFO:torchnlp.common.train:Validation metrics:             \n",
      "INFO:torchnlp.common.train:loss=0.49573, acc=0.80675, acc-seq=0.04225, precision=0.69035, recall=0.77197, F1=0.72888\n",
      "INFO:torchnlp.common.model:-------------- Saved checkpoint 567 --------------\n",
      "  0%|          | 0/81 [00:00<?, ?it/s]INFO:torchnlp.common.train:Epoch 8 (567)\n",
      "Training:  17%|█▋        | 14/81 [00:00<00:00, 136.56it/s, loss=-.125]"
     ]
    },
    {
     "name": "stdout",
     "output_type": "stream",
     "text": [
      "kl_loss_final: 0.31755653413988294, pre_loss : 0.4957320377940223\n"
     ]
    },
    {
     "name": "stderr",
     "output_type": "stream",
     "text": [
      "INFO:torchnlp.common.train:total_loss: -0.12617410645808702, kl_loss: 0.13008487472931543, nll_loss: 0.22505506008495518\n",
      "INFO:torchnlp.common.train:Train Loss: -0.12617\n",
      "INFO:torchnlp.common.train:Validation metrics:             \n",
      "INFO:torchnlp.common.train:loss=0.48982, acc=0.81064, acc-seq=0.03529, precision=0.68922, recall=0.77478, F1=0.72950\n",
      "INFO:torchnlp.common.model:-------------- Saved checkpoint 648 --------------\n",
      "  0%|          | 0/81 [00:00<?, ?it/s]INFO:torchnlp.common.train:Epoch 9 (648)\n",
      "Training:  19%|█▊        | 15/81 [00:00<00:00, 149.02it/s, loss=-.135]"
     ]
    },
    {
     "name": "stdout",
     "output_type": "stream",
     "text": [
      "kl_loss_final: 0.32175078952596303, pre_loss : 0.4898209117707752\n"
     ]
    },
    {
     "name": "stderr",
     "output_type": "stream",
     "text": [
      "INFO:torchnlp.common.train:total_loss: -0.1325714111696055, kl_loss: 0.13091298459488668, nll_loss: 0.2208936521668493\n",
      "INFO:torchnlp.common.train:Train Loss: -0.13257\n",
      "INFO:torchnlp.common.train:Validation metrics:             \n",
      "INFO:torchnlp.common.train:loss=0.49074, acc=0.80630, acc-seq=0.03429, precision=0.67964, recall=0.75558, F1=0.71560\n",
      "INFO:torchnlp.common.model:-------------- Saved checkpoint 729 --------------\n",
      "  0%|          | 0/81 [00:00<?, ?it/s]INFO:torchnlp.common.train:Epoch 10 (729)\n",
      "Training:  19%|█▊        | 15/81 [00:00<00:00, 148.67it/s, loss=-.14] "
     ]
    },
    {
     "name": "stdout",
     "output_type": "stream",
     "text": [
      "kl_loss_final: 0.3230736766542707, pre_loss : 0.4907414373897371\n"
     ]
    },
    {
     "name": "stderr",
     "output_type": "stream",
     "text": [
      "INFO:torchnlp.common.train:total_loss: -0.13628572464725117, kl_loss: 0.13123548766713083, nll_loss: 0.21805009852956841\n",
      "INFO:torchnlp.common.train:Train Loss: -0.13629\n",
      "INFO:torchnlp.common.train:Validation metrics:             \n",
      "INFO:torchnlp.common.train:loss=0.48981, acc=0.81000, acc-seq=0.04274, precision=0.66265, recall=0.76861, F1=0.71171\n",
      "INFO:torchnlp.common.model:-------------- Saved checkpoint 810 --------------\n",
      "  0%|          | 0/81 [00:00<?, ?it/s]INFO:torchnlp.common.train:Epoch 11 (810)\n",
      "Training:  17%|█▋        | 14/81 [00:00<00:00, 138.39it/s, loss=-.131]"
     ]
    },
    {
     "name": "stdout",
     "output_type": "stream",
     "text": [
      "kl_loss_final: 0.324560352734157, pre_loss : 0.48981035465285894\n"
     ]
    },
    {
     "name": "stderr",
     "output_type": "stream",
     "text": [
      "INFO:torchnlp.common.train:total_loss: -0.13941285713219348, kl_loss: 0.13180361770921284, nll_loss: 0.21645691843680392\n",
      "INFO:torchnlp.common.train:Train Loss: -0.13941\n",
      "INFO:torchnlp.common.train:Validation metrics:             \n",
      "INFO:torchnlp.common.train:loss=0.48314, acc=0.81410, acc-seq=0.03976, precision=0.69294, recall=0.77981, F1=0.73381\n",
      "INFO:torchnlp.common.model:-------------- Saved checkpoint 891 --------------\n",
      "  0%|          | 0/81 [00:00<?, ?it/s]INFO:torchnlp.common.train:Epoch 12 (891)\n",
      "Training:  19%|█▊        | 15/81 [00:00<00:00, 145.29it/s, loss=-.142]"
     ]
    },
    {
     "name": "stdout",
     "output_type": "stream",
     "text": [
      "kl_loss_final: 0.32691446266004015, pre_loss : 0.48314158831323895\n"
     ]
    },
    {
     "name": "stderr",
     "output_type": "stream",
     "text": [
      "INFO:torchnlp.common.train:total_loss: -0.14424961143069798, kl_loss: 0.13266089797755817, nll_loss: 0.21393481890360513\n",
      "INFO:torchnlp.common.train:Train Loss: -0.14425\n",
      "INFO:torchnlp.common.train:Validation metrics:             \n",
      "INFO:torchnlp.common.train:loss=0.48096, acc=0.81344, acc-seq=0.04324, precision=0.66749, recall=0.77142, F1=0.71570\n",
      "INFO:torchnlp.common.model:-------------- Saved checkpoint 972 --------------\n",
      "  0%|          | 0/81 [00:00<?, ?it/s]INFO:torchnlp.common.train:Epoch 13 (972)\n",
      "Training:  19%|█▊        | 15/81 [00:00<00:00, 146.21it/s, loss=-.152]"
     ]
    },
    {
     "name": "stdout",
     "output_type": "stream",
     "text": [
      "kl_loss_final: 0.33169139212086085, pre_loss : 0.48096036485263277\n"
     ]
    },
    {
     "name": "stderr",
     "output_type": "stream",
     "text": [
      "INFO:torchnlp.common.train:total_loss: -0.14717127640306213, kl_loss: 0.13324107358485093, nll_loss: 0.2125796283836718\n",
      "INFO:torchnlp.common.train:Train Loss: -0.14717\n",
      "INFO:torchnlp.common.train:Validation metrics:             \n",
      "INFO:torchnlp.common.train:loss=0.48255, acc=0.81583, acc-seq=0.04672, precision=0.69933, recall=0.77612, F1=0.73573\n",
      "INFO:torchnlp.common.model:-------------- Saved checkpoint 1053 --------------\n",
      "  0%|          | 0/81 [00:00<?, ?it/s]INFO:torchnlp.common.train:Epoch 14 (1053)\n",
      "Training:  16%|█▌        | 13/81 [00:00<00:00, 128.98it/s, loss=-.15] "
     ]
    },
    {
     "name": "stdout",
     "output_type": "stream",
     "text": [
      "kl_loss_final: 0.3329637142873946, pre_loss : 0.48254734419641043\n"
     ]
    },
    {
     "name": "stderr",
     "output_type": "stream",
     "text": [
      "INFO:torchnlp.common.train:total_loss: -0.15126748456631178, kl_loss: 0.13410702347755432, nll_loss: 0.21082148599771805\n",
      "INFO:torchnlp.common.train:Train Loss: -0.15127\n",
      "INFO:torchnlp.common.train:Validation metrics:             \n",
      "INFO:torchnlp.common.train:loss=0.48618, acc=0.81369, acc-seq=0.03877, precision=0.69168, recall=0.77801, F1=0.73231\n",
      "INFO:torchnlp.common.model:-------------- Saved checkpoint 1134 --------------\n",
      "  0%|          | 0/81 [00:00<?, ?it/s]INFO:torchnlp.common.train:Epoch 15 (1134)\n",
      "Training:  19%|█▊        | 15/81 [00:00<00:00, 143.90it/s, loss=-.156]"
     ]
    },
    {
     "name": "stdout",
     "output_type": "stream",
     "text": [
      "kl_loss_final: 0.3358261464607148, pre_loss : 0.48618455160231816\n"
     ]
    },
    {
     "name": "stderr",
     "output_type": "stream",
     "text": [
      "INFO:torchnlp.common.train:total_loss: -0.15624524027477077, kl_loss: 0.13537321350088827, nll_loss: 0.20926244299352906\n",
      "INFO:torchnlp.common.train:Train Loss: -0.15625\n",
      "INFO:torchnlp.common.train:Validation metrics:             \n",
      "INFO:torchnlp.common.train:loss=0.47777, acc=0.81301, acc-seq=0.04523, precision=0.67104, recall=0.76413, F1=0.71456\n",
      "INFO:torchnlp.common.model:-------------- Saved checkpoint 1215 --------------\n",
      "  0%|          | 0/81 [00:00<?, ?it/s]INFO:torchnlp.common.train:Epoch 16 (1215)\n",
      "Training:  19%|█▊        | 15/81 [00:00<00:00, 145.56it/s, loss=-.162]"
     ]
    },
    {
     "name": "stdout",
     "output_type": "stream",
     "text": [
      "kl_loss_final: 0.3376881473121189, pre_loss : 0.47776741357076735\n"
     ]
    },
    {
     "name": "stderr",
     "output_type": "stream",
     "text": [
      "INFO:torchnlp.common.train:total_loss: -0.15669022279757042, kl_loss: 0.13567597400627018, nll_loss: 0.20963491389045008\n",
      "INFO:torchnlp.common.train:Train Loss: -0.15669\n",
      "INFO:torchnlp.common.train:Validation metrics:             \n",
      "INFO:torchnlp.common.train:loss=0.47767, acc=0.81509, acc-seq=0.04622, precision=0.69441, recall=0.78035, F1=0.73488\n",
      "INFO:torchnlp.common.model:-------------- Saved checkpoint 1296 --------------\n",
      "  0%|          | 0/81 [00:00<?, ?it/s]INFO:torchnlp.common.train:Epoch 17 (1296)\n",
      "Training:  19%|█▊        | 15/81 [00:00<00:00, 148.85it/s, loss=-.159]"
     ]
    },
    {
     "name": "stdout",
     "output_type": "stream",
     "text": [
      "kl_loss_final: 0.3384660922345661, pre_loss : 0.4776665426435925\n"
     ]
    },
    {
     "name": "stderr",
     "output_type": "stream",
     "text": [
      "INFO:torchnlp.common.train:total_loss: -0.16028047104676565, kl_loss: 0.1360670025517911, nll_loss: 0.20710044161037164\n",
      "INFO:torchnlp.common.train:Train Loss: -0.16028\n",
      "INFO:torchnlp.common.train:Validation metrics:             \n",
      "INFO:torchnlp.common.train:loss=0.47576, acc=0.81648, acc-seq=0.04771, precision=0.69848, recall=0.78329, F1=0.73846\n",
      "INFO:torchnlp.common.model:-------------- Saved checkpoint 1377 --------------\n",
      "  0%|          | 0/81 [00:00<?, ?it/s]INFO:torchnlp.common.train:Epoch 18 (1377)\n",
      "Training:  19%|█▊        | 15/81 [00:00<00:00, 144.87it/s, loss=-.164]"
     ]
    },
    {
     "name": "stdout",
     "output_type": "stream",
     "text": [
      "kl_loss_final: 0.3394776767208463, pre_loss : 0.4757581835701352\n"
     ]
    },
    {
     "name": "stderr",
     "output_type": "stream",
     "text": [
      "INFO:torchnlp.common.train:total_loss: -0.16093386396949674, kl_loss: 0.1363754877705633, nll_loss: 0.2072799610502926\n",
      "INFO:torchnlp.common.train:Train Loss: -0.16093\n",
      "INFO:torchnlp.common.train:Validation metrics:             \n",
      "INFO:torchnlp.common.train:loss=0.47795, acc=0.81231, acc-seq=0.04871, precision=0.66924, recall=0.77516, F1=0.71831\n",
      "INFO:torchnlp.common.model:-------------- Saved checkpoint 1458 --------------\n",
      "  0%|          | 0/81 [00:00<?, ?it/s]INFO:torchnlp.common.train:Epoch 19 (1458)\n",
      "Training:  19%|█▊        | 15/81 [00:00<00:00, 144.61it/s, loss=-.165]"
     ]
    },
    {
     "name": "stdout",
     "output_type": "stream",
     "text": [
      "kl_loss_final: 0.3424509238629114, pre_loss : 0.4779468263898577\n"
     ]
    },
    {
     "name": "stderr",
     "output_type": "stream",
     "text": [
      "INFO:torchnlp.common.train:total_loss: -0.1638758326018298, kl_loss: 0.13707498617378283, nll_loss: 0.20622663696606955\n",
      "INFO:torchnlp.common.train:Train Loss: -0.16388\n",
      "INFO:torchnlp.common.train:Validation metrics:             \n",
      "INFO:torchnlp.common.train:loss=0.47667, acc=0.81893, acc-seq=0.04523, precision=0.69468, recall=0.78459, F1=0.73690\n",
      "INFO:torchnlp.common.model:-------------- Saved checkpoint 1539 --------------\n",
      "  0%|          | 0/81 [00:00<?, ?it/s]INFO:torchnlp.common.train:Epoch 20 (1539)\n",
      "Training:  19%|█▊        | 15/81 [00:00<00:00, 143.58it/s, loss=-.174]"
     ]
    },
    {
     "name": "stdout",
     "output_type": "stream",
     "text": [
      "kl_loss_final: 0.3430852123669216, pre_loss : 0.4766731886636643\n"
     ]
    },
    {
     "name": "stderr",
     "output_type": "stream",
     "text": [
      "INFO:torchnlp.common.train:total_loss: -0.16526605777534437, kl_loss: 0.13739861805497863, nll_loss: 0.20571021772461173\n",
      "INFO:torchnlp.common.train:Train Loss: -0.16527\n",
      "INFO:torchnlp.common.train:Validation metrics:             \n",
      "INFO:torchnlp.common.train:loss=0.47520, acc=0.81467, acc-seq=0.04125, precision=0.67681, recall=0.76367, F1=0.71762\n",
      "INFO:torchnlp.common.model:-------------- Saved checkpoint 1620 --------------\n",
      "  0%|          | 0/81 [00:00<?, ?it/s]INFO:torchnlp.common.train:Epoch 21 (1620)\n",
      "Training:  19%|█▊        | 15/81 [00:00<00:00, 142.72it/s, loss=-.175]"
     ]
    },
    {
     "name": "stdout",
     "output_type": "stream",
     "text": [
      "kl_loss_final: 0.3445568290494737, pre_loss : 0.47519642682302565\n"
     ]
    },
    {
     "name": "stderr",
     "output_type": "stream",
     "text": [
      "INFO:torchnlp.common.train:total_loss: -0.16691773817127134, kl_loss: 0.13757750428753135, nll_loss: 0.20454153142593526\n",
      "INFO:torchnlp.common.train:Train Loss: -0.16692\n",
      "INFO:torchnlp.common.train:Validation metrics:             \n",
      "INFO:torchnlp.common.train:loss=0.47247, acc=0.81694, acc-seq=0.04423, precision=0.69819, recall=0.78249, F1=0.73794\n",
      "INFO:torchnlp.common.model:-------------- Saved checkpoint 1701 --------------\n",
      "  0%|          | 0/81 [00:00<?, ?it/s]INFO:torchnlp.common.train:Epoch 22 (1701)\n",
      "Training:  17%|█▋        | 14/81 [00:00<00:00, 130.28it/s, loss=-.168]"
     ]
    },
    {
     "name": "stdout",
     "output_type": "stream",
     "text": [
      "kl_loss_final: 0.3456726045835586, pre_loss : 0.4724667654151008\n"
     ]
    },
    {
     "name": "stderr",
     "output_type": "stream",
     "text": [
      "INFO:torchnlp.common.train:total_loss: -0.1677729763366558, kl_loss: 0.13784380450292869, nll_loss: 0.20440530482633615\n",
      "INFO:torchnlp.common.train:Train Loss: -0.16777\n",
      "INFO:torchnlp.common.train:Validation metrics:             \n",
      "INFO:torchnlp.common.train:loss=0.47390, acc=0.81630, acc-seq=0.04225, precision=0.70590, recall=0.77704, F1=0.73976\n",
      "INFO:torchnlp.common.model:-------------- Saved checkpoint 1782 --------------\n",
      "  0%|          | 0/81 [00:00<?, ?it/s]INFO:torchnlp.common.train:Epoch 23 (1782)\n",
      "Training:  19%|█▊        | 15/81 [00:00<00:00, 141.09it/s, loss=-.162]"
     ]
    },
    {
     "name": "stdout",
     "output_type": "stream",
     "text": [
      "kl_loss_final: 0.34616594797088984, pre_loss : 0.4739039625440325\n"
     ]
    },
    {
     "name": "stderr",
     "output_type": "stream",
     "text": [
      "INFO:torchnlp.common.train:total_loss: -0.16919850180914373, kl_loss: 0.13798564194161214, nll_loss: 0.20336273919653008\n",
      "INFO:torchnlp.common.train:Train Loss: -0.16920\n",
      "INFO:torchnlp.common.train:Validation metrics:             \n",
      "INFO:torchnlp.common.train:loss=0.47055, acc=0.81873, acc-seq=0.04771, precision=0.69477, recall=0.78178, F1=0.73571\n",
      "INFO:torchnlp.common.model:-------------- Saved checkpoint 1863 --------------\n",
      "  0%|          | 0/81 [00:00<?, ?it/s]INFO:torchnlp.common.train:Epoch 24 (1863)\n",
      "Training:  19%|█▊        | 15/81 [00:00<00:00, 144.47it/s, loss=-.172]"
     ]
    },
    {
     "name": "stdout",
     "output_type": "stream",
     "text": [
      "kl_loss_final: 0.3464035845938183, pre_loss : 0.47055026463099886\n"
     ]
    },
    {
     "name": "stderr",
     "output_type": "stream",
     "text": [
      "INFO:torchnlp.common.train:total_loss: -0.16983466751781512, kl_loss: 0.1382549974469491, nll_loss: 0.20345383183455762\n",
      "INFO:torchnlp.common.train:Train Loss: -0.16983\n",
      "INFO:torchnlp.common.train:Validation metrics:             \n",
      "INFO:torchnlp.common.train:loss=0.46849, acc=0.81797, acc-seq=0.04821, precision=0.68269, recall=0.77989, F1=0.72806\n",
      "INFO:torchnlp.common.model:-------------- Saved checkpoint 1944 --------------\n",
      "  0%|          | 0/81 [00:00<?, ?it/s]INFO:torchnlp.common.train:Epoch 25 (1944)\n",
      "Training:  19%|█▊        | 15/81 [00:00<00:00, 140.35it/s, loss=-.171]"
     ]
    },
    {
     "name": "stdout",
     "output_type": "stream",
     "text": [
      "kl_loss_final: 0.34753115759009406, pre_loss : 0.46848574138823007\n"
     ]
    },
    {
     "name": "stderr",
     "output_type": "stream",
     "text": [
      "INFO:torchnlp.common.train:total_loss: -0.1712676794440658, kl_loss: 0.13848722275392508, nll_loss: 0.20264782876144222\n",
      "INFO:torchnlp.common.train:Train Loss: -0.17127\n",
      "INFO:torchnlp.common.train:Validation metrics:             \n",
      "INFO:torchnlp.common.train:loss=0.47330, acc=0.81758, acc-seq=0.04672, precision=0.68756, recall=0.78174, F1=0.73163\n",
      "INFO:torchnlp.common.model:-------------- Saved checkpoint 2025 --------------\n",
      "  0%|          | 0/81 [00:00<?, ?it/s]INFO:torchnlp.common.train:Epoch 26 (2025)\n",
      "Training:  19%|█▊        | 15/81 [00:00<00:00, 146.96it/s, loss=-.183]"
     ]
    },
    {
     "name": "stdout",
     "output_type": "stream",
     "text": [
      "kl_loss_final: 0.3478982469865254, pre_loss : 0.47329901939346675\n"
     ]
    },
    {
     "name": "stderr",
     "output_type": "stream",
     "text": [
      "INFO:torchnlp.common.train:total_loss: -0.17197226079893702, kl_loss: 0.13859006293393947, nll_loss: 0.20222091711597678\n",
      "INFO:torchnlp.common.train:Train Loss: -0.17197\n",
      "INFO:torchnlp.common.train:Validation metrics:             \n",
      "INFO:torchnlp.common.train:loss=0.47389, acc=0.81801, acc-seq=0.04871, precision=0.69021, recall=0.78409, F1=0.73416\n",
      "INFO:torchnlp.common.model:-------------- Saved checkpoint 2106 --------------\n",
      "  0%|          | 0/81 [00:00<?, ?it/s]INFO:torchnlp.common.train:Epoch 27 (2106)\n",
      "Training:  19%|█▊        | 15/81 [00:00<00:00, 146.03it/s, loss=-.177]"
     ]
    },
    {
     "name": "stdout",
     "output_type": "stream",
     "text": [
      "kl_loss_final: 0.3486597765059698, pre_loss : 0.4738920260043371\n"
     ]
    },
    {
     "name": "stderr",
     "output_type": "stream",
     "text": [
      "INFO:torchnlp.common.train:total_loss: -0.17336608745433665, kl_loss: 0.13886720328419297, nll_loss: 0.2015753682748771\n",
      "INFO:torchnlp.common.train:Train Loss: -0.17337\n",
      "INFO:torchnlp.common.train:Validation metrics:             \n",
      "INFO:torchnlp.common.train:loss=0.47263, acc=0.81860, acc-seq=0.04920, precision=0.69257, recall=0.78467, F1=0.73575\n",
      "INFO:torchnlp.common.train:Early stopping at iteration 1782, epoch 21, F1=0.73976\n",
      "  6%|▌         | 5/81 [00:00<00:01, 39.83it/s]"
     ]
    },
    {
     "name": "stdout",
     "output_type": "stream",
     "text": [
      "kl_loss_final: 0.3488613487709136, pre_loss : 0.47263209734644207\n"
     ]
    },
    {
     "name": "stderr",
     "output_type": "stream",
     "text": [
      "INFO:torchnlp.common.train:prediction, and attns for best epoch obtained, release hook\n",
      "INFO:torchnlp.common.train:prediction, and attns for best epoch obtained, release hook\n"
     ]
    },
    {
     "name": "stdout",
     "output_type": "stream",
     "text": [
      "SAVING PREDICTIONS AND ATTENTIONS\n",
      "done /home/zijiao/research/atal/saved_True_/11:43:42.533513/tr_pr_best\n",
      "done /home/zijiao/research/atal/saved_True_/11:43:42.533513/te_pr_best\n",
      "done /home/zijiao/research/atal/saved_True_/11:43:42.533513/tr_attn_best\n",
      "done /home/zijiao/research/atal/saved_True_/11:43:42.533513/te_attn_best\n",
      "LOOK HERE 0.47263209734644207 0.3488613487709136\n"
     ]
    },
    {
     "name": "stderr",
     "output_type": "stream",
     "text": [
      "INFO:torchnlp.data.conll:---------- CONLL 2000 Chunking ---------\n",
      "INFO:torchnlp.data.conll:Train size: 8042\n",
      "INFO:torchnlp.data.conll:Validation size: 894\n",
      "INFO:torchnlp.data.conll:Test size: 2012\n",
      "INFO:torchtext.vocab:Loading vectors from .vector_cache/glove.6B.200d.txt.pt\n",
      "INFO:torchtext.vocab:Loading vectors from .vector_cache/charNgram.txt.pt\n",
      "INFO:torchnlp.data.conll:Input vocab size:19032\n",
      "INFO:torchnlp.data.conll:Tagset size: 25\n",
      "INFO:torchnlp.common.model:\n",
      "Hyperparameters:\n",
      " batch_size=100\n",
      " embedding_size_word=300\n",
      " embedding_size_char=0\n",
      " embedding_size_char_per_word=100\n",
      " embedding_size_tags=100\n",
      " hidden_size=128\n",
      " learning_rate=0.2\n",
      " learning_rate_decay=noam_step\n",
      " max_length=256\n",
      " num_hidden_layers=1\n",
      " dropout=0.2\n",
      " optimizer_adam_beta1=0.9\n",
      " optimizer_adam_beta2=0.98\n",
      " use_crf=False\n",
      " num_heads=4\n",
      " attention_key_channels=0\n",
      " attention_value_channels=0\n",
      " filter_size=128\n",
      " filter_size_char=64\n",
      " input_dropout=0.2\n",
      " attention_dropout=0.2\n",
      " relu_dropout=0.2\n",
      " learning_rate_warmup_steps=500\n",
      " attn_path=./saved\n",
      " adversarial=True\n",
      " lmbda=2.8\n",
      " froze=False\n",
      " froze_path=./froze\n",
      "INFO:torchnlp.common.train:Parameters: 140953(trainable), 5709601(non-trainable)\n",
      "INFO:torchnlp.common.train:Early stopping for highest value of validation F1 after 5 epochs\n",
      "  0%|          | 0/81 [00:00<?, ?it/s]INFO:torchnlp.common.train:Epoch 1 (0)\n",
      "INFO:torchnlp.common.train:total_loss: 1.4490977463162975, kl_loss: 0.03769562041593923, nll_loss: 1.554645484244382\n",
      "INFO:torchnlp.common.train:Train Loss: 1.44910\n",
      "INFO:torchnlp.common.train:Validation metrics:             \n",
      "INFO:torchnlp.common.train:loss=1.23474, acc=0.63877, acc-seq=0.00000, precision=0.44606, recall=0.44235, F1=0.44420\n",
      "INFO:torchnlp.common.model:-------------- Saved checkpoint 81 --------------\n",
      "  0%|          | 0/81 [00:00<?, ?it/s]INFO:torchnlp.common.train:Epoch 2 (81)\n",
      "Training:  20%|█▉        | 16/81 [00:00<00:00, 146.95it/s, loss=0.314]"
     ]
    },
    {
     "name": "stdout",
     "output_type": "stream",
     "text": [
      "kl_loss_final: 0.17704190668605624, pre_loss : 1.2347354491551716\n"
     ]
    },
    {
     "name": "stderr",
     "output_type": "stream",
     "text": [
      "INFO:torchnlp.common.train:total_loss: 0.19887417518062356, kl_loss: 0.08236405414379673, nll_loss: 0.4294935240421766\n",
      "INFO:torchnlp.common.train:Train Loss: 0.19887\n",
      "INFO:torchnlp.common.train:Validation metrics:             \n",
      "INFO:torchnlp.common.train:loss=0.73071, acc=0.75725, acc-seq=0.00646, precision=0.65212, recall=0.67495, F1=0.66334\n",
      "INFO:torchnlp.common.model:-------------- Saved checkpoint 162 --------------\n",
      "  0%|          | 0/81 [00:00<?, ?it/s]INFO:torchnlp.common.train:Epoch 3 (162)\n",
      "Training:  19%|█▊        | 15/81 [00:00<00:00, 149.38it/s, loss=0.0742]"
     ]
    },
    {
     "name": "stdout",
     "output_type": "stream",
     "text": [
      "kl_loss_final: 0.23184425312848317, pre_loss : 0.7307116162209284\n"
     ]
    },
    {
     "name": "stderr",
     "output_type": "stream",
     "text": [
      "INFO:torchnlp.common.train:total_loss: 0.03146810296141071, kl_loss: 0.09939722275292431, nll_loss: 0.309780321923303\n",
      "INFO:torchnlp.common.train:Train Loss: 0.03147\n",
      "INFO:torchnlp.common.train:Validation metrics:             \n",
      "INFO:torchnlp.common.train:loss=0.55977, acc=0.78356, acc-seq=0.02932, precision=0.66485, recall=0.72023, F1=0.69143\n",
      "INFO:torchnlp.common.model:-------------- Saved checkpoint 243 --------------\n",
      "  0%|          | 0/81 [00:00<?, ?it/s]INFO:torchnlp.common.train:Epoch 4 (243)\n",
      "Training:  19%|█▊        | 15/81 [00:00<00:00, 143.94it/s, loss=-.023] "
     ]
    },
    {
     "name": "stdout",
     "output_type": "stream",
     "text": [
      "kl_loss_final: 0.2563229302565257, pre_loss : 0.559770405292511\n"
     ]
    },
    {
     "name": "stderr",
     "output_type": "stream",
     "text": [
      "INFO:torchnlp.common.train:total_loss: -0.04032954040132923, kl_loss: 0.11159476490668309, nll_loss: 0.27213579784204933\n",
      "INFO:torchnlp.common.train:Train Loss: -0.04033\n",
      "INFO:torchnlp.common.train:Validation metrics:             \n",
      "INFO:torchnlp.common.train:loss=0.53808, acc=0.79258, acc-seq=0.03032, precision=0.68952, recall=0.73759, F1=0.71274\n",
      "INFO:torchnlp.common.model:-------------- Saved checkpoint 324 --------------\n",
      "  0%|          | 0/81 [00:00<?, ?it/s]INFO:torchnlp.common.train:Epoch 5 (324)\n",
      "Training:  19%|█▊        | 15/81 [00:00<00:00, 143.24it/s, loss=-.0765]"
     ]
    },
    {
     "name": "stdout",
     "output_type": "stream",
     "text": [
      "kl_loss_final: 0.279651158622333, pre_loss : 0.5380817580790747\n"
     ]
    },
    {
     "name": "stderr",
     "output_type": "stream",
     "text": [
      "INFO:torchnlp.common.train:total_loss: -0.08762285242110122, kl_loss: 0.12183337888599914, nll_loss: 0.2535106048539833\n",
      "INFO:torchnlp.common.train:Train Loss: -0.08762\n",
      "INFO:torchnlp.common.train:Validation metrics:             \n",
      "INFO:torchnlp.common.train:loss=0.51554, acc=0.80023, acc-seq=0.03330, precision=0.70083, recall=0.76065, F1=0.72951\n",
      "INFO:torchnlp.common.model:-------------- Saved checkpoint 405 --------------\n",
      "  0%|          | 0/81 [00:00<?, ?it/s]INFO:torchnlp.common.train:Epoch 6 (405)\n",
      "Training:  19%|█▊        | 15/81 [00:00<00:00, 142.49it/s, loss=-.109]"
     ]
    },
    {
     "name": "stdout",
     "output_type": "stream",
     "text": [
      "kl_loss_final: 0.2942448329357874, pre_loss : 0.5155442825385502\n"
     ]
    },
    {
     "name": "stderr",
     "output_type": "stream",
     "text": [
      "INFO:torchnlp.common.train:total_loss: -0.11024731213663831, kl_loss: 0.12594115476549408, nll_loss: 0.24238791583496846\n",
      "INFO:torchnlp.common.train:Train Loss: -0.11025\n",
      "INFO:torchnlp.common.train:Validation metrics:             \n",
      "INFO:torchnlp.common.train:loss=0.50335, acc=0.80253, acc-seq=0.03827, precision=0.66171, recall=0.74551, F1=0.70111\n",
      "INFO:torchnlp.common.model:-------------- Saved checkpoint 486 --------------\n",
      "  0%|          | 0/81 [00:00<?, ?it/s]INFO:torchnlp.common.train:Epoch 7 (486)\n",
      "Training:  17%|█▋        | 14/81 [00:00<00:00, 137.33it/s, loss=-.127]"
     ]
    },
    {
     "name": "stdout",
     "output_type": "stream",
     "text": [
      "kl_loss_final: 0.3104263955638522, pre_loss : 0.5033528847353799\n"
     ]
    },
    {
     "name": "stderr",
     "output_type": "stream",
     "text": [
      "INFO:torchnlp.common.train:total_loss: -0.1304417046499841, kl_loss: 0.13048047618365582, nll_loss: 0.2349036236604055\n",
      "INFO:torchnlp.common.train:Train Loss: -0.13044\n",
      "INFO:torchnlp.common.train:Validation metrics:             \n",
      "INFO:torchnlp.common.train:loss=0.50521, acc=0.80146, acc-seq=0.03579, precision=0.62405, recall=0.74250, F1=0.67814\n",
      "INFO:torchnlp.common.model:-------------- Saved checkpoint 567 --------------\n",
      "  0%|          | 0/81 [00:00<?, ?it/s]INFO:torchnlp.common.train:Epoch 8 (567)\n",
      "Training:  19%|█▊        | 15/81 [00:00<00:00, 140.15it/s, loss=-.135]"
     ]
    },
    {
     "name": "stdout",
     "output_type": "stream",
     "text": [
      "kl_loss_final: 0.3249965171728815, pre_loss : 0.505208412806193\n"
     ]
    },
    {
     "name": "stderr",
     "output_type": "stream",
     "text": [
      "INFO:torchnlp.common.train:total_loss: -0.14557541189370332, kl_loss: 0.132986951297448, nll_loss: 0.2267880461834095\n",
      "INFO:torchnlp.common.train:Train Loss: -0.14558\n",
      "INFO:torchnlp.common.train:Validation metrics:             \n",
      "INFO:torchnlp.common.train:loss=0.49399, acc=0.80758, acc-seq=0.03877, precision=0.67660, recall=0.76627, F1=0.71865\n",
      "INFO:torchnlp.common.model:-------------- Saved checkpoint 648 --------------\n",
      "  0%|          | 0/81 [00:00<?, ?it/s]INFO:torchnlp.common.train:Epoch 9 (648)\n",
      "Training:  17%|█▋        | 14/81 [00:00<00:00, 139.61it/s, loss=-.151]"
     ]
    },
    {
     "name": "stdout",
     "output_type": "stream",
     "text": [
      "kl_loss_final: 0.32883335401614505, pre_loss : 0.49399258267311824\n"
     ]
    },
    {
     "name": "stderr",
     "output_type": "stream",
     "text": [
      "INFO:torchnlp.common.train:total_loss: -0.1514858815037174, kl_loss: 0.1337474713354935, nll_loss: 0.22300703234878588\n",
      "INFO:torchnlp.common.train:Train Loss: -0.15149\n",
      "INFO:torchnlp.common.train:Validation metrics:             \n",
      "INFO:torchnlp.common.train:loss=0.49533, acc=0.81025, acc-seq=0.03479, precision=0.70157, recall=0.77843, F1=0.73800\n",
      "INFO:torchnlp.common.model:-------------- Saved checkpoint 729 --------------\n",
      "  0%|          | 0/81 [00:00<?, ?it/s]INFO:torchnlp.common.train:Epoch 10 (729)\n",
      "Training:  19%|█▊        | 15/81 [00:00<00:00, 146.64it/s, loss=-.148]"
     ]
    },
    {
     "name": "stdout",
     "output_type": "stream",
     "text": [
      "kl_loss_final: 0.33140501309008824, pre_loss : 0.4953349715187436\n"
     ]
    },
    {
     "name": "stderr",
     "output_type": "stream",
     "text": [
      "INFO:torchnlp.common.train:total_loss: -0.15710620250966814, kl_loss: 0.13453223786236326, nll_loss: 0.21958405828034436\n",
      "INFO:torchnlp.common.train:Train Loss: -0.15711\n",
      "INFO:torchnlp.common.train:Validation metrics:             \n",
      "INFO:torchnlp.common.train:loss=0.48704, acc=0.81192, acc-seq=0.03827, precision=0.68947, recall=0.77365, F1=0.72914\n",
      "INFO:torchnlp.common.model:-------------- Saved checkpoint 810 --------------\n",
      "  0%|          | 0/81 [00:00<?, ?it/s]INFO:torchnlp.common.train:Epoch 11 (810)\n",
      "Training:  19%|█▊        | 15/81 [00:00<00:00, 144.62it/s, loss=-.159]"
     ]
    },
    {
     "name": "stdout",
     "output_type": "stream",
     "text": [
      "kl_loss_final: 0.3343250616675332, pre_loss : 0.48704212762060617\n"
     ]
    },
    {
     "name": "stderr",
     "output_type": "stream",
     "text": [
      "INFO:torchnlp.common.train:total_loss: -0.16137255157953428, kl_loss: 0.1352546794546975, nll_loss: 0.2173405451539122\n",
      "INFO:torchnlp.common.train:Train Loss: -0.16137\n",
      "INFO:torchnlp.common.train:Validation metrics:             \n",
      "INFO:torchnlp.common.train:loss=0.48956, acc=0.81266, acc-seq=0.03926, precision=0.68046, recall=0.77155, F1=0.72315\n",
      "INFO:torchnlp.common.model:-------------- Saved checkpoint 891 --------------\n",
      "  0%|          | 0/81 [00:00<?, ?it/s]INFO:torchnlp.common.train:Epoch 12 (891)\n",
      "Training:  19%|█▊        | 15/81 [00:00<00:00, 142.00it/s, loss=-.161]"
     ]
    },
    {
     "name": "stdout",
     "output_type": "stream",
     "text": [
      "kl_loss_final: 0.3367540822142646, pre_loss : 0.48956222903160823\n"
     ]
    },
    {
     "name": "stderr",
     "output_type": "stream",
     "text": [
      "INFO:torchnlp.common.train:total_loss: -0.1651413670660537, kl_loss: 0.1354334827190564, nll_loss: 0.21407237961704348\n",
      "INFO:torchnlp.common.train:Train Loss: -0.16514\n",
      "INFO:torchnlp.common.train:Validation metrics:             \n",
      "INFO:torchnlp.common.train:loss=0.48094, acc=0.81315, acc-seq=0.03926, precision=0.69893, recall=0.78341, F1=0.73877\n",
      "INFO:torchnlp.common.model:-------------- Saved checkpoint 972 --------------\n",
      "  0%|          | 0/81 [00:00<?, ?it/s]INFO:torchnlp.common.train:Epoch 13 (972)\n",
      "Training:  19%|█▊        | 15/81 [00:00<00:00, 144.31it/s, loss=-.167]"
     ]
    },
    {
     "name": "stdout",
     "output_type": "stream",
     "text": [
      "kl_loss_final: 0.338561943599156, pre_loss : 0.48093630586351666\n"
     ]
    },
    {
     "name": "stderr",
     "output_type": "stream",
     "text": [
      "INFO:torchnlp.common.train:total_loss: -0.16846878164344364, kl_loss: 0.13602716420535688, nll_loss: 0.2124072716191963\n",
      "INFO:torchnlp.common.train:Train Loss: -0.16847\n",
      "INFO:torchnlp.common.train:Validation metrics:             \n",
      "INFO:torchnlp.common.train:loss=0.47878, acc=0.81747, acc-seq=0.04622, precision=0.69309, recall=0.77922, F1=0.73364\n",
      "INFO:torchnlp.common.model:-------------- Saved checkpoint 1053 --------------\n",
      "  0%|          | 0/81 [00:00<?, ?it/s]INFO:torchnlp.common.train:Epoch 14 (1053)\n",
      "Training:  17%|█▋        | 14/81 [00:00<00:00, 138.12it/s, loss=-.171]"
     ]
    },
    {
     "name": "stdout",
     "output_type": "stream",
     "text": [
      "kl_loss_final: 0.33912876390275504, pre_loss : 0.47878074929827735\n"
     ]
    },
    {
     "name": "stderr",
     "output_type": "stream",
     "text": [
      "INFO:torchnlp.common.train:total_loss: -0.17079128233003027, kl_loss: 0.1364275250169966, nll_loss: 0.21120578308164337\n",
      "INFO:torchnlp.common.train:Train Loss: -0.17079\n",
      "INFO:torchnlp.common.train:Validation metrics:             \n",
      "INFO:torchnlp.common.train:loss=0.47830, acc=0.81537, acc-seq=0.03926, precision=0.68522, recall=0.77721, F1=0.72832\n",
      "INFO:torchnlp.common.model:-------------- Saved checkpoint 1134 --------------\n",
      "  0%|          | 0/81 [00:00<?, ?it/s]INFO:torchnlp.common.train:Epoch 15 (1134)\n",
      "Training:  19%|█▊        | 15/81 [00:00<00:00, 145.37it/s, loss=-.173]"
     ]
    },
    {
     "name": "stdout",
     "output_type": "stream",
     "text": [
      "kl_loss_final: 0.342038414308003, pre_loss : 0.4783025937420981\n"
     ]
    },
    {
     "name": "stderr",
     "output_type": "stream",
     "text": [
      "INFO:torchnlp.common.train:total_loss: -0.1726483060621921, kl_loss: 0.13661497656577898, nll_loss: 0.20987362239831758\n",
      "INFO:torchnlp.common.train:Train Loss: -0.17265\n",
      "INFO:torchnlp.common.train:Validation metrics:             \n",
      "INFO:torchnlp.common.train:loss=0.47752, acc=0.81502, acc-seq=0.04423, precision=0.69981, recall=0.78170, F1=0.73849\n",
      "INFO:torchnlp.common.model:-------------- Saved checkpoint 1215 --------------\n",
      "  0%|          | 0/81 [00:00<?, ?it/s]INFO:torchnlp.common.train:Epoch 16 (1215)\n",
      "Training:  19%|█▊        | 15/81 [00:00<00:00, 143.30it/s, loss=-.173]"
     ]
    },
    {
     "name": "stdout",
     "output_type": "stream",
     "text": [
      "kl_loss_final: 0.34243800100826083, pre_loss : 0.4775249603248778\n"
     ]
    },
    {
     "name": "stderr",
     "output_type": "stream",
     "text": [
      "INFO:torchnlp.common.train:total_loss: -0.17465634588842038, kl_loss: 0.13693730367554557, nll_loss: 0.2087680999143624\n",
      "INFO:torchnlp.common.train:Train Loss: -0.17466\n",
      "INFO:torchnlp.common.train:Validation metrics:             \n",
      "INFO:torchnlp.common.train:loss=0.48363, acc=0.81400, acc-seq=0.04423, precision=0.66367, recall=0.77029, F1=0.71302\n",
      "INFO:torchnlp.common.model:-------------- Saved checkpoint 1296 --------------\n",
      "  0%|          | 0/81 [00:00<?, ?it/s]INFO:torchnlp.common.train:Epoch 17 (1296)\n",
      "Training:  19%|█▊        | 15/81 [00:00<00:00, 147.82it/s, loss=-.182]"
     ]
    },
    {
     "name": "stdout",
     "output_type": "stream",
     "text": [
      "kl_loss_final: 0.3430542229186921, pre_loss : 0.4836308133034479\n"
     ]
    },
    {
     "name": "stderr",
     "output_type": "stream",
     "text": [
      "INFO:torchnlp.common.train:total_loss: -0.17558490935667062, kl_loss: 0.13697404947913724, nll_loss: 0.20794242362917206\n",
      "INFO:torchnlp.common.train:Train Loss: -0.17558\n",
      "INFO:torchnlp.common.train:Validation metrics:             \n",
      "INFO:torchnlp.common.train:loss=0.47944, acc=0.81762, acc-seq=0.04324, precision=0.70665, recall=0.78241, F1=0.74260\n",
      "INFO:torchnlp.common.model:-------------- Saved checkpoint 1377 --------------\n",
      "  0%|          | 0/81 [00:00<?, ?it/s]INFO:torchnlp.common.train:Epoch 18 (1377)\n",
      "Training:  19%|█▊        | 15/81 [00:00<00:00, 139.03it/s, loss=-.167]"
     ]
    },
    {
     "name": "stdout",
     "output_type": "stream",
     "text": [
      "kl_loss_final: 0.3424784193436305, pre_loss : 0.4794398702326275\n"
     ]
    },
    {
     "name": "stderr",
     "output_type": "stream",
     "text": [
      "INFO:torchnlp.common.train:total_loss: -0.17763414206328215, kl_loss: 0.13731773924312474, nll_loss: 0.20685552373344515\n",
      "INFO:torchnlp.common.train:Train Loss: -0.17763\n",
      "INFO:torchnlp.common.train:Validation metrics:             \n",
      "INFO:torchnlp.common.train:loss=0.48361, acc=0.81467, acc-seq=0.04076, precision=0.69311, recall=0.78165, F1=0.73472\n",
      "INFO:torchnlp.common.model:-------------- Saved checkpoint 1458 --------------\n",
      "  0%|          | 0/81 [00:00<?, ?it/s]INFO:torchnlp.common.train:Epoch 19 (1458)\n",
      "Training:  20%|█▉        | 16/81 [00:00<00:00, 148.35it/s, loss=-.187]"
     ]
    },
    {
     "name": "stdout",
     "output_type": "stream",
     "text": [
      "kl_loss_final: 0.3449436255863735, pre_loss : 0.4836085779326303\n"
     ]
    },
    {
     "name": "stderr",
     "output_type": "stream",
     "text": [
      "INFO:torchnlp.common.train:total_loss: -0.1790125513518298, kl_loss: 0.13754887308603453, nll_loss: 0.2061242899041117\n",
      "INFO:torchnlp.common.train:Train Loss: -0.17901\n",
      "INFO:torchnlp.common.train:Validation metrics:             \n",
      "INFO:torchnlp.common.train:loss=0.47887, acc=0.81183, acc-seq=0.04672, precision=0.65163, recall=0.76593, F1=0.70417\n",
      "INFO:torchnlp.common.model:-------------- Saved checkpoint 1539 --------------\n",
      "  0%|          | 0/81 [00:00<?, ?it/s]INFO:torchnlp.common.train:Epoch 20 (1539)\n",
      "Training:  17%|█▋        | 14/81 [00:00<00:00, 135.61it/s, loss=-.184]"
     ]
    },
    {
     "name": "stdout",
     "output_type": "stream",
     "text": [
      "kl_loss_final: 0.34631820094017757, pre_loss : 0.4788650373617808\n"
     ]
    },
    {
     "name": "stderr",
     "output_type": "stream",
     "text": [
      "INFO:torchnlp.common.train:total_loss: -0.1799109986534825, kl_loss: 0.1376604559244933, nll_loss: 0.2055382721218062\n",
      "INFO:torchnlp.common.train:Train Loss: -0.17991\n",
      "INFO:torchnlp.common.train:Validation metrics:             \n",
      "INFO:torchnlp.common.train:loss=0.47662, acc=0.81677, acc-seq=0.04821, precision=0.67422, recall=0.77604, F1=0.72155\n",
      "INFO:torchnlp.common.model:-------------- Saved checkpoint 1620 --------------\n",
      "  0%|          | 0/81 [00:00<?, ?it/s]INFO:torchnlp.common.train:Epoch 21 (1620)\n",
      "Training:  17%|█▋        | 14/81 [00:00<00:00, 133.92it/s, loss=-.181]"
     ]
    },
    {
     "name": "stdout",
     "output_type": "stream",
     "text": [
      "kl_loss_final: 0.34552594735508874, pre_loss : 0.47662042010398137\n"
     ]
    },
    {
     "name": "stderr",
     "output_type": "stream",
     "text": [
      "INFO:torchnlp.common.train:total_loss: -0.18154769179261762, kl_loss: 0.13797160256424068, nll_loss: 0.20477278843338106\n",
      "INFO:torchnlp.common.train:Train Loss: -0.18155\n",
      "INFO:torchnlp.common.train:Validation metrics:             \n",
      "INFO:torchnlp.common.train:loss=0.47437, acc=0.81511, acc-seq=0.04672, precision=0.65878, recall=0.76765, F1=0.70906\n",
      "INFO:torchnlp.common.model:-------------- Saved checkpoint 1701 --------------\n",
      "  0%|          | 0/81 [00:00<?, ?it/s]INFO:torchnlp.common.train:Epoch 22 (1701)\n",
      "Training:  17%|█▋        | 14/81 [00:00<00:00, 137.26it/s, loss=-.181]"
     ]
    },
    {
     "name": "stdout",
     "output_type": "stream",
     "text": [
      "kl_loss_final: 0.34651467984630946, pre_loss : 0.4743707265172686\n"
     ]
    },
    {
     "name": "stderr",
     "output_type": "stream",
     "text": [
      "INFO:torchnlp.common.train:total_loss: -0.1833920736371735, kl_loss: 0.13829693759297146, nll_loss: 0.20383934566268214\n",
      "INFO:torchnlp.common.train:Train Loss: -0.18339\n",
      "INFO:torchnlp.common.train:Validation metrics:             \n",
      "INFO:torchnlp.common.train:loss=0.47235, acc=0.81862, acc-seq=0.04722, precision=0.69823, recall=0.78731, F1=0.74010\n",
      "INFO:torchnlp.common.train:Early stopping at iteration 1377, epoch 16, F1=0.74260\n",
      "  6%|▌         | 5/81 [00:00<00:01, 40.74it/s]"
     ]
    },
    {
     "name": "stdout",
     "output_type": "stream",
     "text": [
      "kl_loss_final: 0.3480478596119654, pre_loss : 0.4723494705699739\n"
     ]
    },
    {
     "name": "stderr",
     "output_type": "stream",
     "text": [
      "INFO:torchnlp.common.train:prediction, and attns for best epoch obtained, release hook\n",
      "INFO:torchnlp.common.train:prediction, and attns for best epoch obtained, release hook\n"
     ]
    },
    {
     "name": "stdout",
     "output_type": "stream",
     "text": [
      "SAVING PREDICTIONS AND ATTENTIONS\n",
      "done /home/zijiao/research/atal/saved_True_/11:44:33.951386/tr_pr_best\n",
      "done /home/zijiao/research/atal/saved_True_/11:44:33.951386/te_pr_best\n",
      "done /home/zijiao/research/atal/saved_True_/11:44:33.951386/tr_attn_best\n",
      "done /home/zijiao/research/atal/saved_True_/11:44:33.951386/te_attn_best\n",
      "LOOK HERE 0.4723494705699739 0.3480478596119654\n"
     ]
    },
    {
     "name": "stderr",
     "output_type": "stream",
     "text": [
      "INFO:torchnlp.data.conll:---------- CONLL 2000 Chunking ---------\n",
      "INFO:torchnlp.data.conll:Train size: 8042\n",
      "INFO:torchnlp.data.conll:Validation size: 894\n",
      "INFO:torchnlp.data.conll:Test size: 2012\n",
      "INFO:torchtext.vocab:Loading vectors from .vector_cache/glove.6B.200d.txt.pt\n",
      "INFO:torchtext.vocab:Loading vectors from .vector_cache/charNgram.txt.pt\n",
      "INFO:torchnlp.data.conll:Input vocab size:19032\n",
      "INFO:torchnlp.data.conll:Tagset size: 25\n",
      "INFO:torchnlp.common.model:\n",
      "Hyperparameters:\n",
      " batch_size=100\n",
      " embedding_size_word=300\n",
      " embedding_size_char=0\n",
      " embedding_size_char_per_word=100\n",
      " embedding_size_tags=100\n",
      " hidden_size=128\n",
      " learning_rate=0.2\n",
      " learning_rate_decay=noam_step\n",
      " max_length=256\n",
      " num_hidden_layers=1\n",
      " dropout=0.2\n",
      " optimizer_adam_beta1=0.9\n",
      " optimizer_adam_beta2=0.98\n",
      " use_crf=False\n",
      " num_heads=4\n",
      " attention_key_channels=0\n",
      " attention_value_channels=0\n",
      " filter_size=128\n",
      " filter_size_char=64\n",
      " input_dropout=0.2\n",
      " attention_dropout=0.2\n",
      " relu_dropout=0.2\n",
      " learning_rate_warmup_steps=500\n",
      " attn_path=./saved\n",
      " adversarial=True\n",
      " lmbda=2.8999999999999995\n",
      " froze=False\n",
      " froze_path=./froze\n",
      "INFO:torchnlp.common.train:Parameters: 140953(trainable), 5709601(non-trainable)\n",
      "INFO:torchnlp.common.train:Early stopping for highest value of validation F1 after 5 epochs\n",
      "  0%|          | 0/81 [00:00<?, ?it/s]INFO:torchnlp.common.train:Epoch 1 (0)\n",
      "INFO:torchnlp.common.train:total_loss: 1.224393007196026, kl_loss: 0.03796949564122859, nll_loss: 1.3345045417915156\n",
      "INFO:torchnlp.common.train:Train Loss: 1.22439\n",
      "INFO:torchnlp.common.train:Validation metrics:             \n",
      "INFO:torchnlp.common.train:loss=1.00070, acc=0.66552, acc-seq=0.00199, precision=0.43682, recall=0.48440, F1=0.45939\n",
      "INFO:torchnlp.common.model:-------------- Saved checkpoint 81 --------------\n",
      "  0%|          | 0/81 [00:00<?, ?it/s]INFO:torchnlp.common.train:Epoch 2 (81)\n",
      "Training:  17%|█▋        | 14/81 [00:00<00:00, 139.84it/s, loss=0.262]"
     ]
    },
    {
     "name": "stdout",
     "output_type": "stream",
     "text": [
      "kl_loss_final: 0.18244714733390582, pre_loss : 1.0006985749517168\n"
     ]
    },
    {
     "name": "stderr",
     "output_type": "stream",
     "text": [
      "INFO:torchnlp.common.train:total_loss: 0.15794473573749448, kl_loss: 0.08648210846715504, nll_loss: 0.40874285830391777\n",
      "INFO:torchnlp.common.train:Train Loss: 0.15794\n",
      "INFO:torchnlp.common.train:Validation metrics:             \n",
      "INFO:torchnlp.common.train:loss=0.65653, acc=0.74241, acc-seq=0.00944, precision=0.53312, recall=0.64447, F1=0.58353\n",
      "INFO:torchnlp.common.model:-------------- Saved checkpoint 162 --------------\n",
      "  0%|          | 0/81 [00:00<?, ?it/s]INFO:torchnlp.common.train:Epoch 3 (162)\n",
      "Training:  17%|█▋        | 14/81 [00:00<00:00, 138.01it/s, loss=0.0442]"
     ]
    },
    {
     "name": "stdout",
     "output_type": "stream",
     "text": [
      "kl_loss_final: 0.24269826674745196, pre_loss : 0.6565329546020144\n"
     ]
    },
    {
     "name": "stderr",
     "output_type": "stream",
     "text": [
      "INFO:torchnlp.common.train:total_loss: 0.009338838634667572, kl_loss: 0.10261685263227534, nll_loss: 0.3069277216254929\n",
      "INFO:torchnlp.common.train:Train Loss: 0.00934\n",
      "INFO:torchnlp.common.train:Validation metrics:             \n",
      "INFO:torchnlp.common.train:loss=0.56832, acc=0.77795, acc-seq=0.02584, precision=0.64319, recall=0.71327, F1=0.67642\n",
      "INFO:torchnlp.common.model:-------------- Saved checkpoint 243 --------------\n",
      "  0%|          | 0/81 [00:00<?, ?it/s]INFO:torchnlp.common.train:Epoch 4 (243)\n",
      "Training:  17%|█▋        | 14/81 [00:00<00:00, 130.29it/s, loss=-.046] "
     ]
    },
    {
     "name": "stdout",
     "output_type": "stream",
     "text": [
      "kl_loss_final: 0.26903014310768675, pre_loss : 0.5683196683724722\n"
     ]
    },
    {
     "name": "stderr",
     "output_type": "stream",
     "text": [
      "INFO:torchnlp.common.train:total_loss: -0.06779931688014372, kl_loss: 0.1169539139042666, nll_loss: 0.2713670434407246\n",
      "INFO:torchnlp.common.train:Train Loss: -0.06780\n",
      "INFO:torchnlp.common.train:Validation metrics:             \n",
      "INFO:torchnlp.common.train:loss=0.55528, acc=0.78564, acc-seq=0.02932, precision=0.63746, recall=0.72308, F1=0.67758\n",
      "INFO:torchnlp.common.model:-------------- Saved checkpoint 324 --------------\n",
      "  0%|          | 0/81 [00:00<?, ?it/s]INFO:torchnlp.common.train:Epoch 5 (324)\n",
      "Training:  15%|█▍        | 12/81 [00:00<00:00, 113.89it/s, loss=-.0966]"
     ]
    },
    {
     "name": "stdout",
     "output_type": "stream",
     "text": [
      "kl_loss_final: 0.2938864841347649, pre_loss : 0.5552766876561301\n"
     ]
    },
    {
     "name": "stderr",
     "output_type": "stream",
     "text": [
      "INFO:torchnlp.common.train:total_loss: -0.1121163175061897, kl_loss: 0.12628419154588086, nll_loss: 0.254107850017371\n",
      "INFO:torchnlp.common.train:Train Loss: -0.11212\n",
      "INFO:torchnlp.common.train:Validation metrics:             \n",
      "INFO:torchnlp.common.train:loss=0.52153, acc=0.79758, acc-seq=0.03429, precision=0.65861, recall=0.74371, F1=0.69858\n",
      "INFO:torchnlp.common.model:-------------- Saved checkpoint 405 --------------\n",
      "  0%|          | 0/81 [00:00<?, ?it/s]INFO:torchnlp.common.train:Epoch 6 (405)\n",
      "Training:  17%|█▋        | 14/81 [00:00<00:00, 132.36it/s, loss=-.136]"
     ]
    },
    {
     "name": "stdout",
     "output_type": "stream",
     "text": [
      "kl_loss_final: 0.3105966505550203, pre_loss : 0.5215300037747338\n"
     ]
    },
    {
     "name": "stderr",
     "output_type": "stream",
     "text": [
      "INFO:torchnlp.common.train:total_loss: -0.13577764766451753, kl_loss: 0.1300966900623875, nll_loss: 0.24150276386443478\n",
      "INFO:torchnlp.common.train:Train Loss: -0.13578\n",
      "INFO:torchnlp.common.train:Validation metrics:             \n",
      "INFO:torchnlp.common.train:loss=0.50597, acc=0.80465, acc-seq=0.03380, precision=0.67255, recall=0.75750, F1=0.71250\n",
      "INFO:torchnlp.common.model:-------------- Saved checkpoint 486 --------------\n",
      "  0%|          | 0/81 [00:00<?, ?it/s]INFO:torchnlp.common.train:Epoch 7 (486)\n",
      "Training:  17%|█▋        | 14/81 [00:00<00:00, 130.24it/s, loss=-.148]"
     ]
    },
    {
     "name": "stdout",
     "output_type": "stream",
     "text": [
      "kl_loss_final: 0.31899523735046387, pre_loss : 0.5059673005626315\n"
     ]
    },
    {
     "name": "stderr",
     "output_type": "stream",
     "text": [
      "INFO:torchnlp.common.train:total_loss: -0.14975818163818783, kl_loss: 0.13180417208759873, nll_loss: 0.2324739295391389\n",
      "INFO:torchnlp.common.train:Train Loss: -0.14976\n",
      "INFO:torchnlp.common.train:Validation metrics:             \n",
      "INFO:torchnlp.common.train:loss=0.49234, acc=0.80492, acc-seq=0.03529, precision=0.69402, recall=0.76065, F1=0.72581\n",
      "INFO:torchnlp.common.model:-------------- Saved checkpoint 567 --------------\n",
      "  0%|          | 0/81 [00:00<?, ?it/s]INFO:torchnlp.common.train:Epoch 8 (567)\n",
      "Training:  17%|█▋        | 14/81 [00:00<00:00, 138.23it/s, loss=-.158]"
     ]
    },
    {
     "name": "stdout",
     "output_type": "stream",
     "text": [
      "kl_loss_final: 0.325273229607514, pre_loss : 0.4923397813524519\n"
     ]
    },
    {
     "name": "stderr",
     "output_type": "stream",
     "text": [
      "INFO:torchnlp.common.train:total_loss: -0.1579096928054904, kl_loss: 0.13268720395403144, nll_loss: 0.22688321198946165\n",
      "INFO:torchnlp.common.train:Train Loss: -0.15791\n",
      "INFO:torchnlp.common.train:Validation metrics:             \n",
      "INFO:torchnlp.common.train:loss=0.48670, acc=0.80904, acc-seq=0.03777, precision=0.68272, recall=0.76891, F1=0.72326\n",
      "INFO:torchnlp.common.model:-------------- Saved checkpoint 648 --------------\n",
      "  0%|          | 0/81 [00:00<?, ?it/s]INFO:torchnlp.common.train:Epoch 9 (648)\n",
      "Training:  16%|█▌        | 13/81 [00:00<00:00, 129.11it/s, loss=-.155]"
     ]
    },
    {
     "name": "stdout",
     "output_type": "stream",
     "text": [
      "kl_loss_final: 0.32630835721890133, pre_loss : 0.4866965469859895\n"
     ]
    },
    {
     "name": "stderr",
     "output_type": "stream",
     "text": [
      "INFO:torchnlp.common.train:total_loss: -0.16566800096152742, kl_loss: 0.13372069781209217, nll_loss: 0.22212203546070758\n",
      "INFO:torchnlp.common.train:Train Loss: -0.16567\n",
      "INFO:torchnlp.common.train:Validation metrics:             \n",
      "INFO:torchnlp.common.train:loss=0.48396, acc=0.80846, acc-seq=0.03330, precision=0.68850, recall=0.76606, F1=0.72521\n",
      "INFO:torchnlp.common.model:-------------- Saved checkpoint 729 --------------\n",
      "  0%|          | 0/81 [00:00<?, ?it/s]INFO:torchnlp.common.train:Epoch 10 (729)\n",
      "Training:  16%|█▌        | 13/81 [00:00<00:00, 117.64it/s, loss=-.169]"
     ]
    },
    {
     "name": "stdout",
     "output_type": "stream",
     "text": [
      "kl_loss_final: 0.332194151977698, pre_loss : 0.4839590759504409\n"
     ]
    },
    {
     "name": "stderr",
     "output_type": "stream",
     "text": [
      "INFO:torchnlp.common.train:total_loss: -0.17184803018599382, kl_loss: 0.13454944962336693, nll_loss: 0.21834538729838382\n",
      "INFO:torchnlp.common.train:Train Loss: -0.17185\n",
      "INFO:torchnlp.common.train:Validation metrics:             \n",
      "INFO:torchnlp.common.train:loss=0.48543, acc=0.81046, acc-seq=0.03827, precision=0.70135, recall=0.77742, F1=0.73743\n",
      "INFO:torchnlp.common.model:-------------- Saved checkpoint 810 --------------\n",
      "  0%|          | 0/81 [00:00<?, ?it/s]INFO:torchnlp.common.train:Epoch 11 (810)\n",
      "Training:  19%|█▊        | 15/81 [00:00<00:00, 142.11it/s, loss=-.175]"
     ]
    },
    {
     "name": "stdout",
     "output_type": "stream",
     "text": [
      "kl_loss_final: 0.33369611771333785, pre_loss : 0.48543432638758705\n"
     ]
    },
    {
     "name": "stderr",
     "output_type": "stream",
     "text": [
      "INFO:torchnlp.common.train:total_loss: -0.17491292438389341, kl_loss: 0.13507412493596843, nll_loss: 0.216802050669988\n",
      "INFO:torchnlp.common.train:Train Loss: -0.17491\n",
      "INFO:torchnlp.common.train:Validation metrics:             \n",
      "INFO:torchnlp.common.train:loss=0.48691, acc=0.81103, acc-seq=0.03926, precision=0.69627, recall=0.77696, F1=0.73441\n",
      "INFO:torchnlp.common.model:-------------- Saved checkpoint 891 --------------\n",
      "  0%|          | 0/81 [00:00<?, ?it/s]INFO:torchnlp.common.train:Epoch 12 (891)\n",
      "Training:  19%|█▊        | 15/81 [00:00<00:00, 143.01it/s, loss=-.182]"
     ]
    },
    {
     "name": "stdout",
     "output_type": "stream",
     "text": [
      "kl_loss_final: 0.3364190941765195, pre_loss : 0.4869084783962795\n"
     ]
    },
    {
     "name": "stderr",
     "output_type": "stream",
     "text": [
      "INFO:torchnlp.common.train:total_loss: -0.17905019297276015, kl_loss: 0.13556496651820193, nll_loss: 0.21408822304672664\n",
      "INFO:torchnlp.common.train:Train Loss: -0.17905\n",
      "INFO:torchnlp.common.train:Validation metrics:             \n",
      "INFO:torchnlp.common.train:loss=0.48404, acc=0.81225, acc-seq=0.04274, precision=0.66963, recall=0.77306, F1=0.71764\n",
      "INFO:torchnlp.common.model:-------------- Saved checkpoint 972 --------------\n",
      "  0%|          | 0/81 [00:00<?, ?it/s]INFO:torchnlp.common.train:Epoch 13 (972)\n",
      "Training:  17%|█▋        | 14/81 [00:00<00:00, 136.74it/s, loss=-.175]"
     ]
    },
    {
     "name": "stdout",
     "output_type": "stream",
     "text": [
      "kl_loss_final: 0.33697793455350966, pre_loss : 0.48403713249024893\n"
     ]
    },
    {
     "name": "stderr",
     "output_type": "stream",
     "text": [
      "INFO:torchnlp.common.train:total_loss: -0.18135639197296566, kl_loss: 0.13604980872737038, nll_loss: 0.21318806597480067\n",
      "INFO:torchnlp.common.train:Train Loss: -0.18136\n",
      "INFO:torchnlp.common.train:Validation metrics:             \n",
      "INFO:torchnlp.common.train:loss=0.48367, acc=0.81515, acc-seq=0.04523, precision=0.67992, recall=0.77411, F1=0.72396\n",
      "INFO:torchnlp.common.model:-------------- Saved checkpoint 1053 --------------\n",
      "  0%|          | 0/81 [00:00<?, ?it/s]INFO:torchnlp.common.train:Epoch 14 (1053)\n",
      "Training:  17%|█▋        | 14/81 [00:00<00:00, 138.15it/s, loss=-.18] "
     ]
    },
    {
     "name": "stdout",
     "output_type": "stream",
     "text": [
      "kl_loss_final: 0.33905433473132907, pre_loss : 0.4836716481617519\n"
     ]
    },
    {
     "name": "stderr",
     "output_type": "stream",
     "text": [
      "INFO:torchnlp.common.train:total_loss: -0.1837601328705564, kl_loss: 0.1362470774738877, nll_loss: 0.21135640383502582\n",
      "INFO:torchnlp.common.train:Train Loss: -0.18376\n",
      "INFO:torchnlp.common.train:Validation metrics:             \n",
      "INFO:torchnlp.common.train:loss=0.47515, acc=0.81428, acc-seq=0.03678, precision=0.69089, recall=0.77008, F1=0.72834\n",
      "INFO:torchnlp.common.model:-------------- Saved checkpoint 1134 --------------\n",
      "  0%|          | 0/81 [00:00<?, ?it/s]INFO:torchnlp.common.train:Epoch 15 (1134)\n",
      "Training:  17%|█▋        | 14/81 [00:00<00:00, 137.97it/s, loss=-.183]"
     ]
    },
    {
     "name": "stdout",
     "output_type": "stream",
     "text": [
      "kl_loss_final: 0.3410028687545231, pre_loss : 0.47514839399428593\n"
     ]
    },
    {
     "name": "stderr",
     "output_type": "stream",
     "text": [
      "INFO:torchnlp.common.train:total_loss: -0.1866469070499326, kl_loss: 0.13676022784209546, nll_loss: 0.20995776557628018\n",
      "INFO:torchnlp.common.train:Train Loss: -0.18665\n",
      "INFO:torchnlp.common.train:Validation metrics:             \n",
      "INFO:torchnlp.common.train:loss=0.47919, acc=0.81334, acc-seq=0.04523, precision=0.66710, recall=0.76815, F1=0.71407\n",
      "INFO:torchnlp.common.train:Early stopping at iteration 810, epoch 9, F1=0.73743\n",
      "  6%|▌         | 5/81 [00:00<00:01, 40.85it/s]"
     ]
    },
    {
     "name": "stdout",
     "output_type": "stream",
     "text": [
      "kl_loss_final: 0.34365413302466985, pre_loss : 0.47919142671993803\n"
     ]
    },
    {
     "name": "stderr",
     "output_type": "stream",
     "text": [
      "INFO:torchnlp.common.train:prediction, and attns for best epoch obtained, release hook\n",
      "INFO:torchnlp.common.train:prediction, and attns for best epoch obtained, release hook\n"
     ]
    },
    {
     "name": "stdout",
     "output_type": "stream",
     "text": [
      "SAVING PREDICTIONS AND ATTENTIONS\n",
      "done /home/zijiao/research/atal/saved_True_/11:45:12.607003/tr_pr_best\n",
      "done /home/zijiao/research/atal/saved_True_/11:45:12.607003/te_pr_best\n",
      "done /home/zijiao/research/atal/saved_True_/11:45:12.607003/tr_attn_best\n",
      "done /home/zijiao/research/atal/saved_True_/11:45:12.607003/te_attn_best\n",
      "LOOK HERE 0.47919142671993803 0.34365413302466985\n"
     ]
    },
    {
     "name": "stderr",
     "output_type": "stream",
     "text": [
      "INFO:torchnlp.data.conll:---------- CONLL 2000 Chunking ---------\n",
      "INFO:torchnlp.data.conll:Train size: 8042\n",
      "INFO:torchnlp.data.conll:Validation size: 894\n",
      "INFO:torchnlp.data.conll:Test size: 2012\n",
      "INFO:torchtext.vocab:Loading vectors from .vector_cache/glove.6B.200d.txt.pt\n",
      "INFO:torchtext.vocab:Loading vectors from .vector_cache/charNgram.txt.pt\n",
      "INFO:torchnlp.data.conll:Input vocab size:19032\n",
      "INFO:torchnlp.data.conll:Tagset size: 25\n",
      "INFO:torchnlp.common.model:\n",
      "Hyperparameters:\n",
      " batch_size=100\n",
      " embedding_size_word=300\n",
      " embedding_size_char=0\n",
      " embedding_size_char_per_word=100\n",
      " embedding_size_tags=100\n",
      " hidden_size=128\n",
      " learning_rate=0.2\n",
      " learning_rate_decay=noam_step\n",
      " max_length=256\n",
      " num_hidden_layers=1\n",
      " dropout=0.2\n",
      " optimizer_adam_beta1=0.9\n",
      " optimizer_adam_beta2=0.98\n",
      " use_crf=False\n",
      " num_heads=4\n",
      " attention_key_channels=0\n",
      " attention_value_channels=0\n",
      " filter_size=128\n",
      " filter_size_char=64\n",
      " input_dropout=0.2\n",
      " attention_dropout=0.2\n",
      " relu_dropout=0.2\n",
      " learning_rate_warmup_steps=500\n",
      " attn_path=./saved\n",
      " adversarial=True\n",
      " lmbda=2.999999999999999\n",
      " froze=False\n",
      " froze_path=./froze\n",
      "INFO:torchnlp.common.train:Parameters: 140953(trainable), 5709601(non-trainable)\n",
      "INFO:torchnlp.common.train:Early stopping for highest value of validation F1 after 5 epochs\n",
      "  0%|          | 0/81 [00:00<?, ?it/s]INFO:torchnlp.common.train:Epoch 1 (0)\n",
      "INFO:torchnlp.common.train:total_loss: 1.224170094102989, kl_loss: 0.05869869269246673, nll_loss: 1.400266174181008\n",
      "INFO:torchnlp.common.train:Train Loss: 1.22417\n",
      "INFO:torchnlp.common.train:Validation metrics:             \n",
      "INFO:torchnlp.common.train:loss=1.00968, acc=0.65340, acc-seq=0.00099, precision=0.42613, recall=0.42663, F1=0.42638\n",
      "INFO:torchnlp.common.model:-------------- Saved checkpoint 81 --------------\n",
      "  0%|          | 0/81 [00:00<?, ?it/s]INFO:torchnlp.common.train:Epoch 2 (81)\n",
      "Training:  19%|█▊        | 15/81 [00:00<00:00, 142.81it/s, loss=0.199]"
     ]
    },
    {
     "name": "stdout",
     "output_type": "stream",
     "text": [
      "kl_loss_final: 0.20864238483565195, pre_loss : 1.0096775889396667\n"
     ]
    },
    {
     "name": "stderr",
     "output_type": "stream",
     "text": [
      "INFO:torchnlp.common.train:total_loss: 0.12056606492878479, kl_loss: 0.09909015029300879, nll_loss: 0.4178365167276359\n",
      "INFO:torchnlp.common.train:Train Loss: 0.12057\n",
      "INFO:torchnlp.common.train:Validation metrics:             \n",
      "INFO:torchnlp.common.train:loss=0.65886, acc=0.76009, acc-seq=0.01590, precision=0.62563, recall=0.65705, F1=0.64096\n",
      "INFO:torchnlp.common.model:-------------- Saved checkpoint 162 --------------\n",
      "  0%|          | 0/81 [00:00<?, ?it/s]INFO:torchnlp.common.train:Epoch 3 (162)\n",
      "Training:  19%|█▊        | 15/81 [00:00<00:00, 138.47it/s, loss=0.00439]"
     ]
    },
    {
     "name": "stdout",
     "output_type": "stream",
     "text": [
      "kl_loss_final: 0.25306041822547004, pre_loss : 0.658856444415592\n"
     ]
    },
    {
     "name": "stderr",
     "output_type": "stream",
     "text": [
      "INFO:torchnlp.common.train:total_loss: -0.02949323863894851, kl_loss: 0.11089226244776337, nll_loss: 0.3031835495321839\n",
      "INFO:torchnlp.common.train:Train Loss: -0.02949\n",
      "INFO:torchnlp.common.train:Validation metrics:             \n",
      "INFO:torchnlp.common.train:loss=0.57440, acc=0.78280, acc-seq=0.02087, precision=0.66644, recall=0.71235, F1=0.68863\n",
      "INFO:torchnlp.common.model:-------------- Saved checkpoint 243 --------------\n",
      "  0%|          | 0/81 [00:00<?, ?it/s]INFO:torchnlp.common.train:Epoch 4 (243)\n",
      "Training:  17%|█▋        | 14/81 [00:00<00:00, 136.84it/s, loss=-.0709]"
     ]
    },
    {
     "name": "stdout",
     "output_type": "stream",
     "text": [
      "kl_loss_final: 0.271475035519827, pre_loss : 0.5744008492855799\n"
     ]
    },
    {
     "name": "stderr",
     "output_type": "stream",
     "text": [
      "INFO:torchnlp.common.train:total_loss: -0.08527060864884177, kl_loss: 0.11752702295780182, nll_loss: 0.26731046114438844\n",
      "INFO:torchnlp.common.train:Train Loss: -0.08527\n",
      "INFO:torchnlp.common.train:Validation metrics:             \n",
      "INFO:torchnlp.common.train:loss=0.53525, acc=0.78887, acc-seq=0.02783, precision=0.69552, recall=0.73914, F1=0.71667\n",
      "INFO:torchnlp.common.model:-------------- Saved checkpoint 324 --------------\n",
      "  0%|          | 0/81 [00:00<?, ?it/s]INFO:torchnlp.common.train:Epoch 5 (324)\n",
      "Training:  17%|█▋        | 14/81 [00:00<00:00, 139.74it/s, loss=-.114]"
     ]
    },
    {
     "name": "stdout",
     "output_type": "stream",
     "text": [
      "kl_loss_final: 0.28815758795965285, pre_loss : 0.535253895180566\n"
     ]
    },
    {
     "name": "stderr",
     "output_type": "stream",
     "text": [
      "INFO:torchnlp.common.train:total_loss: -0.12340736205195203, kl_loss: 0.12461332415724978, nll_loss: 0.2504326119834994\n",
      "INFO:torchnlp.common.train:Train Loss: -0.12341\n",
      "INFO:torchnlp.common.train:Validation metrics:             \n",
      "INFO:torchnlp.common.train:loss=0.51779, acc=0.79953, acc-seq=0.03032, precision=0.68288, recall=0.76006, F1=0.71940\n",
      "INFO:torchnlp.common.model:-------------- Saved checkpoint 405 --------------\n",
      "  0%|          | 0/81 [00:00<?, ?it/s]INFO:torchnlp.common.train:Epoch 6 (405)\n",
      "Training:  19%|█▊        | 15/81 [00:00<00:00, 140.48it/s, loss=-.14] "
     ]
    },
    {
     "name": "stdout",
     "output_type": "stream",
     "text": [
      "kl_loss_final: 0.3075526516352381, pre_loss : 0.5177882994924273\n"
     ]
    },
    {
     "name": "stderr",
     "output_type": "stream",
     "text": [
      "INFO:torchnlp.common.train:total_loss: -0.14558605996914853, kl_loss: 0.12854022633882217, nll_loss: 0.24003461867938808\n",
      "INFO:torchnlp.common.train:Train Loss: -0.14559\n",
      "INFO:torchnlp.common.train:Validation metrics:             \n",
      "INFO:torchnlp.common.train:loss=0.51778, acc=0.80132, acc-seq=0.02932, precision=0.69451, recall=0.75725, F1=0.72452\n",
      "INFO:torchnlp.common.model:-------------- Saved checkpoint 486 --------------\n",
      "  0%|          | 0/81 [00:00<?, ?it/s]INFO:torchnlp.common.train:Epoch 7 (486)\n",
      "Training:  17%|█▋        | 14/81 [00:00<00:00, 139.63it/s, loss=-.158]"
     ]
    },
    {
     "name": "stdout",
     "output_type": "stream",
     "text": [
      "kl_loss_final: 0.3141795031371571, pre_loss : 0.5177833764326005\n"
     ]
    },
    {
     "name": "stderr",
     "output_type": "stream",
     "text": [
      "INFO:torchnlp.common.train:total_loss: -0.1586955831742581, kl_loss: 0.13040986583556657, nll_loss: 0.23253401654002107\n",
      "INFO:torchnlp.common.train:Train Loss: -0.15870\n",
      "INFO:torchnlp.common.train:Validation metrics:             \n",
      "INFO:torchnlp.common.train:loss=0.50443, acc=0.80179, acc-seq=0.03380, precision=0.71114, recall=0.75843, F1=0.73402\n",
      "INFO:torchnlp.common.model:-------------- Saved checkpoint 567 --------------\n",
      "  0%|          | 0/81 [00:00<?, ?it/s]INFO:torchnlp.common.train:Epoch 8 (567)\n",
      "Training:  16%|█▌        | 13/81 [00:00<00:00, 128.21it/s, loss=-.164]"
     ]
    },
    {
     "name": "stdout",
     "output_type": "stream",
     "text": [
      "kl_loss_final: 0.32257228309199926, pre_loss : 0.5044298001698085\n"
     ]
    },
    {
     "name": "stderr",
     "output_type": "stream",
     "text": [
      "INFO:torchnlp.common.train:total_loss: -0.16721736464971376, kl_loss: 0.13118000144575848, nll_loss: 0.22632263950359674\n",
      "INFO:torchnlp.common.train:Train Loss: -0.16722\n",
      "INFO:torchnlp.common.train:Validation metrics:             \n",
      "INFO:torchnlp.common.train:loss=0.50227, acc=0.80863, acc-seq=0.04225, precision=0.66915, recall=0.76195, F1=0.71254\n",
      "INFO:torchnlp.common.model:-------------- Saved checkpoint 648 --------------\n",
      "  0%|          | 0/81 [00:00<?, ?it/s]INFO:torchnlp.common.train:Epoch 9 (648)\n",
      "Training:  17%|█▋        | 14/81 [00:00<00:00, 138.56it/s, loss=-.175]"
     ]
    },
    {
     "name": "stdout",
     "output_type": "stream",
     "text": [
      "kl_loss_final: 0.3265300687579882, pre_loss : 0.5022732927685692\n"
     ]
    },
    {
     "name": "stderr",
     "output_type": "stream",
     "text": [
      "INFO:torchnlp.common.train:total_loss: -0.1735272902397462, kl_loss: 0.13197543619223584, nll_loss: 0.22239902008462836\n",
      "INFO:torchnlp.common.train:Train Loss: -0.17353\n",
      "INFO:torchnlp.common.train:Validation metrics:             \n",
      "INFO:torchnlp.common.train:loss=0.48686, acc=0.80840, acc-seq=0.03479, precision=0.70384, recall=0.76501, F1=0.73315\n",
      "INFO:torchnlp.common.model:-------------- Saved checkpoint 729 --------------\n",
      "  0%|          | 0/81 [00:00<?, ?it/s]INFO:torchnlp.common.train:Epoch 10 (729)\n",
      "Training:  17%|█▋        | 14/81 [00:00<00:00, 135.44it/s, loss=-.176]"
     ]
    },
    {
     "name": "stdout",
     "output_type": "stream",
     "text": [
      "kl_loss_final: 0.3288091133747782, pre_loss : 0.48685747101193383\n"
     ]
    },
    {
     "name": "stderr",
     "output_type": "stream",
     "text": [
      "INFO:torchnlp.common.train:total_loss: -0.17964350367769782, kl_loss: 0.13265055473204013, nll_loss: 0.21830816070238748\n",
      "INFO:torchnlp.common.train:Train Loss: -0.17964\n",
      "INFO:torchnlp.common.train:Validation metrics:             \n",
      "INFO:torchnlp.common.train:loss=0.49236, acc=0.81311, acc-seq=0.03827, precision=0.71415, recall=0.78371, F1=0.74732\n",
      "INFO:torchnlp.common.model:-------------- Saved checkpoint 810 --------------\n",
      "  0%|          | 0/81 [00:00<?, ?it/s]INFO:torchnlp.common.train:Epoch 11 (810)\n",
      "Training:  17%|█▋        | 14/81 [00:00<00:00, 138.41it/s, loss=-.184]"
     ]
    },
    {
     "name": "stdout",
     "output_type": "stream",
     "text": [
      "kl_loss_final: 0.3321502222901299, pre_loss : 0.4923627773920695\n"
     ]
    },
    {
     "name": "stderr",
     "output_type": "stream",
     "text": [
      "INFO:torchnlp.common.train:total_loss: -0.1834311980156251, kl_loss: 0.13339172478443312, nll_loss: 0.21674397753344643\n",
      "INFO:torchnlp.common.train:Train Loss: -0.18343\n",
      "INFO:torchnlp.common.train:Validation metrics:             \n",
      "INFO:torchnlp.common.train:loss=0.47867, acc=0.81184, acc-seq=0.03777, precision=0.70195, recall=0.77876, F1=0.73836\n",
      "INFO:torchnlp.common.model:-------------- Saved checkpoint 891 --------------\n",
      "  0%|          | 0/81 [00:00<?, ?it/s]INFO:torchnlp.common.train:Epoch 12 (891)\n",
      "Training:  17%|█▋        | 14/81 [00:00<00:00, 136.21it/s, loss=-.198]"
     ]
    },
    {
     "name": "stdout",
     "output_type": "stream",
     "text": [
      "kl_loss_final: 0.3341350385120937, pre_loss : 0.4786707375730787\n"
     ]
    },
    {
     "name": "stderr",
     "output_type": "stream",
     "text": [
      "INFO:torchnlp.common.train:total_loss: -0.18815473954618714, kl_loss: 0.13433824010469295, nll_loss: 0.21485998177969898\n",
      "INFO:torchnlp.common.train:Train Loss: -0.18815\n",
      "INFO:torchnlp.common.train:Validation metrics:             \n",
      "INFO:torchnlp.common.train:loss=0.48322, acc=0.81336, acc-seq=0.04622, precision=0.69590, recall=0.77801, F1=0.73467\n",
      "INFO:torchnlp.common.model:-------------- Saved checkpoint 972 --------------\n",
      "  0%|          | 0/81 [00:00<?, ?it/s]INFO:torchnlp.common.train:Epoch 13 (972)\n",
      "Training:  17%|█▋        | 14/81 [00:00<00:00, 130.51it/s, loss=-.199]"
     ]
    },
    {
     "name": "stdout",
     "output_type": "stream",
     "text": [
      "kl_loss_final: 0.33726089625131517, pre_loss : 0.4832239917346409\n"
     ]
    },
    {
     "name": "stderr",
     "output_type": "stream",
     "text": [
      "INFO:torchnlp.common.train:total_loss: -0.1936356782177348, kl_loss: 0.135378746430815, nll_loss: 0.21250056006290294\n",
      "INFO:torchnlp.common.train:Train Loss: -0.19364\n",
      "INFO:torchnlp.common.train:Validation metrics:             \n",
      "INFO:torchnlp.common.train:loss=0.48346, acc=0.81074, acc-seq=0.03976, precision=0.69992, recall=0.76941, F1=0.73302\n",
      "INFO:torchnlp.common.model:-------------- Saved checkpoint 1053 --------------\n",
      "  0%|          | 0/81 [00:00<?, ?it/s]INFO:torchnlp.common.train:Epoch 14 (1053)\n",
      "Training:  17%|█▋        | 14/81 [00:00<00:00, 126.72it/s, loss=-.191]"
     ]
    },
    {
     "name": "stdout",
     "output_type": "stream",
     "text": [
      "kl_loss_final: 0.3382622656368074, pre_loss : 0.4834639344896589\n"
     ]
    },
    {
     "name": "stderr",
     "output_type": "stream",
     "text": [
      "INFO:torchnlp.common.train:total_loss: -0.19624107560993712, kl_loss: 0.135884725569207, nll_loss: 0.21141310293733337\n",
      "INFO:torchnlp.common.train:Train Loss: -0.19624\n",
      "INFO:torchnlp.common.train:Validation metrics:             \n",
      "INFO:torchnlp.common.train:loss=0.48420, acc=0.81420, acc-seq=0.04374, precision=0.69328, recall=0.78019, F1=0.73417\n",
      "INFO:torchnlp.common.model:-------------- Saved checkpoint 1134 --------------\n",
      "  0%|          | 0/81 [00:00<?, ?it/s]INFO:torchnlp.common.train:Epoch 15 (1134)\n",
      "Training:  17%|█▋        | 14/81 [00:00<00:00, 133.44it/s, loss=-.197]"
     ]
    },
    {
     "name": "stdout",
     "output_type": "stream",
     "text": [
      "kl_loss_final: 0.33997592400936855, pre_loss : 0.48420417592639015\n"
     ]
    },
    {
     "name": "stderr",
     "output_type": "stream",
     "text": [
      "INFO:torchnlp.common.train:total_loss: -0.19891963126482787, kl_loss: 0.1361953580269107, nll_loss: 0.20966644253995684\n",
      "INFO:torchnlp.common.train:Train Loss: -0.19892\n",
      "INFO:torchnlp.common.train:Validation metrics:             \n",
      "INFO:torchnlp.common.train:loss=0.48072, acc=0.81210, acc-seq=0.04423, precision=0.67075, recall=0.76597, F1=0.71521\n",
      "INFO:torchnlp.common.train:Early stopping at iteration 810, epoch 9, F1=0.74732\n",
      "  6%|▌         | 5/81 [00:00<00:01, 39.93it/s]"
     ]
    },
    {
     "name": "stdout",
     "output_type": "stream",
     "text": [
      "kl_loss_final: 0.34133370220661163, pre_loss : 0.48071845656349543\n"
     ]
    },
    {
     "name": "stderr",
     "output_type": "stream",
     "text": [
      "INFO:torchnlp.common.train:prediction, and attns for best epoch obtained, release hook\n",
      "INFO:torchnlp.common.train:prediction, and attns for best epoch obtained, release hook\n"
     ]
    },
    {
     "name": "stdout",
     "output_type": "stream",
     "text": [
      "SAVING PREDICTIONS AND ATTENTIONS\n",
      "done /home/zijiao/research/atal/saved_True_/11:45:50.863675/tr_pr_best\n",
      "done /home/zijiao/research/atal/saved_True_/11:45:50.863675/te_pr_best\n",
      "done /home/zijiao/research/atal/saved_True_/11:45:50.863675/tr_attn_best\n",
      "done /home/zijiao/research/atal/saved_True_/11:45:50.863675/te_attn_best\n",
      "LOOK HERE 0.48071845656349543 0.34133370220661163\n"
     ]
    },
    {
     "name": "stderr",
     "output_type": "stream",
     "text": [
      "INFO:torchnlp.data.conll:---------- CONLL 2000 Chunking ---------\n",
      "INFO:torchnlp.data.conll:Train size: 8042\n",
      "INFO:torchnlp.data.conll:Validation size: 894\n",
      "INFO:torchnlp.data.conll:Test size: 2012\n",
      "INFO:torchtext.vocab:Loading vectors from .vector_cache/glove.6B.200d.txt.pt\n",
      "INFO:torchtext.vocab:Loading vectors from .vector_cache/charNgram.txt.pt\n",
      "INFO:torchnlp.data.conll:Input vocab size:19032\n",
      "INFO:torchnlp.data.conll:Tagset size: 25\n",
      "INFO:torchnlp.common.model:\n",
      "Hyperparameters:\n",
      " batch_size=100\n",
      " embedding_size_word=300\n",
      " embedding_size_char=0\n",
      " embedding_size_char_per_word=100\n",
      " embedding_size_tags=100\n",
      " hidden_size=128\n",
      " learning_rate=0.2\n",
      " learning_rate_decay=noam_step\n",
      " max_length=256\n",
      " num_hidden_layers=1\n",
      " dropout=0.2\n",
      " optimizer_adam_beta1=0.9\n",
      " optimizer_adam_beta2=0.98\n",
      " use_crf=False\n",
      " num_heads=4\n",
      " attention_key_channels=0\n",
      " attention_value_channels=0\n",
      " filter_size=128\n",
      " filter_size_char=64\n",
      " input_dropout=0.2\n",
      " attention_dropout=0.2\n",
      " relu_dropout=0.2\n",
      " learning_rate_warmup_steps=500\n",
      " attn_path=./saved\n",
      " adversarial=True\n",
      " lmbda=3.0999999999999996\n",
      " froze=False\n",
      " froze_path=./froze\n",
      "INFO:torchnlp.common.train:Parameters: 140953(trainable), 5709601(non-trainable)\n",
      "INFO:torchnlp.common.train:Early stopping for highest value of validation F1 after 5 epochs\n",
      "  0%|          | 0/81 [00:00<?, ?it/s]INFO:torchnlp.common.train:Epoch 1 (0)\n",
      "INFO:torchnlp.common.train:total_loss: 1.297631425622069, kl_loss: 0.046593466106756236, nll_loss: 1.4420711640958432\n",
      "INFO:torchnlp.common.train:Train Loss: 1.29763\n",
      "INFO:torchnlp.common.train:Validation metrics:             \n",
      "INFO:torchnlp.common.train:loss=1.04054, acc=0.64892, acc-seq=0.00199, precision=0.43844, recall=0.50235, F1=0.46822\n",
      "INFO:torchnlp.common.model:-------------- Saved checkpoint 81 --------------\n",
      "  0%|          | 0/81 [00:00<?, ?it/s]INFO:torchnlp.common.train:Epoch 2 (81)\n",
      "Training:  16%|█▌        | 13/81 [00:00<00:00, 126.78it/s, loss=0.238]"
     ]
    },
    {
     "name": "stdout",
     "output_type": "stream",
     "text": [
      "kl_loss_final: 0.20270599389360064, pre_loss : 1.0405351093837194\n"
     ]
    },
    {
     "name": "stderr",
     "output_type": "stream",
     "text": [
      "INFO:torchnlp.common.train:total_loss: 0.13266201795619212, kl_loss: 0.09050406676567631, nll_loss: 0.4132246169043176\n",
      "INFO:torchnlp.common.train:Train Loss: 0.13266\n",
      "INFO:torchnlp.common.train:Validation metrics:             \n",
      "INFO:torchnlp.common.train:loss=0.66128, acc=0.74739, acc-seq=0.01093, precision=0.58078, recall=0.64854, F1=0.61279\n",
      "INFO:torchnlp.common.model:-------------- Saved checkpoint 162 --------------\n",
      "  0%|          | 0/81 [00:00<?, ?it/s]INFO:torchnlp.common.train:Epoch 3 (162)\n",
      "Training:  19%|█▊        | 15/81 [00:00<00:00, 142.34it/s, loss=0.00454]"
     ]
    },
    {
     "name": "stdout",
     "output_type": "stream",
     "text": [
      "kl_loss_final: 0.24342759166445052, pre_loss : 0.6612819319679624\n"
     ]
    },
    {
     "name": "stderr",
     "output_type": "stream",
     "text": [
      "INFO:torchnlp.common.train:total_loss: -0.020184881525275148, kl_loss: 0.10585402853694963, nll_loss: 0.3079625964164734\n",
      "INFO:torchnlp.common.train:Train Loss: -0.02018\n",
      "INFO:torchnlp.common.train:Validation metrics:             \n",
      "INFO:torchnlp.common.train:loss=0.57220, acc=0.77896, acc-seq=0.02485, precision=0.64714, recall=0.70954, F1=0.67691\n",
      "INFO:torchnlp.common.model:-------------- Saved checkpoint 243 --------------\n",
      "  0%|          | 0/81 [00:00<?, ?it/s]INFO:torchnlp.common.train:Epoch 4 (243)\n",
      "Training:  16%|█▌        | 13/81 [00:00<00:00, 127.71it/s, loss=-.0586]"
     ]
    },
    {
     "name": "stdout",
     "output_type": "stream",
     "text": [
      "kl_loss_final: 0.2547956992472921, pre_loss : 0.5722042151859829\n"
     ]
    },
    {
     "name": "stderr",
     "output_type": "stream",
     "text": [
      "INFO:torchnlp.common.train:total_loss: -0.07239396667774813, kl_loss: 0.11036099668270276, nll_loss: 0.26972511245144737\n",
      "INFO:torchnlp.common.train:Train Loss: -0.07239\n",
      "INFO:torchnlp.common.train:Validation metrics:             \n",
      "INFO:torchnlp.common.train:loss=0.53150, acc=0.79330, acc-seq=0.03877, precision=0.67515, recall=0.74099, F1=0.70654\n",
      "INFO:torchnlp.common.model:-------------- Saved checkpoint 324 --------------\n",
      "  0%|          | 0/81 [00:00<?, ?it/s]INFO:torchnlp.common.train:Epoch 5 (324)\n",
      "Training:  17%|█▋        | 14/81 [00:00<00:00, 132.24it/s, loss=-.104]"
     ]
    },
    {
     "name": "stdout",
     "output_type": "stream",
     "text": [
      "kl_loss_final: 0.2721371175277801, pre_loss : 0.5314980305376507\n"
     ]
    },
    {
     "name": "stderr",
     "output_type": "stream",
     "text": [
      "INFO:torchnlp.common.train:total_loss: -0.12017117367114549, kl_loss: 0.12002892599061683, nll_loss: 0.25191848421538315\n",
      "INFO:torchnlp.common.train:Train Loss: -0.12017\n",
      "INFO:torchnlp.common.train:Validation metrics:             \n",
      "INFO:torchnlp.common.train:loss=0.51808, acc=0.80130, acc-seq=0.03330, precision=0.69008, recall=0.76006, F1=0.72338\n",
      "INFO:torchnlp.common.model:-------------- Saved checkpoint 405 --------------\n",
      "  0%|          | 0/81 [00:00<?, ?it/s]INFO:torchnlp.common.train:Epoch 6 (405)\n",
      "Training:  17%|█▋        | 14/81 [00:00<00:00, 135.58it/s, loss=-.133]"
     ]
    },
    {
     "name": "stdout",
     "output_type": "stream",
     "text": [
      "kl_loss_final: 0.2883564503419967, pre_loss : 0.518084093218758\n"
     ]
    },
    {
     "name": "stderr",
     "output_type": "stream",
     "text": [
      "INFO:torchnlp.common.train:total_loss: -0.1453989392813341, kl_loss: 0.12457555560050187, nll_loss: 0.2407852714812314\n",
      "INFO:torchnlp.common.train:Train Loss: -0.14540\n",
      "INFO:torchnlp.common.train:Validation metrics:             \n",
      "INFO:torchnlp.common.train:loss=0.50005, acc=0.80632, acc-seq=0.03926, precision=0.70776, recall=0.77390, F1=0.73935\n",
      "INFO:torchnlp.common.model:-------------- Saved checkpoint 486 --------------\n",
      "  0%|          | 0/81 [00:00<?, ?it/s]INFO:torchnlp.common.train:Epoch 7 (486)\n",
      "Training:  17%|█▋        | 14/81 [00:00<00:00, 139.43it/s, loss=-.163]"
     ]
    },
    {
     "name": "stdout",
     "output_type": "stream",
     "text": [
      "kl_loss_final: 0.30372426800784613, pre_loss : 0.5000505873135158\n"
     ]
    },
    {
     "name": "stderr",
     "output_type": "stream",
     "text": [
      "INFO:torchnlp.common.train:total_loss: -0.1640018257829878, kl_loss: 0.1281587150361803, nll_loss: 0.23329017964410192\n",
      "INFO:torchnlp.common.train:Train Loss: -0.16400\n",
      "INFO:torchnlp.common.train:Validation metrics:             \n",
      "INFO:torchnlp.common.train:loss=0.49334, acc=0.81124, acc-seq=0.04225, precision=0.71757, recall=0.77566, F1=0.74548\n",
      "INFO:torchnlp.common.model:-------------- Saved checkpoint 567 --------------\n",
      "  0%|          | 0/81 [00:00<?, ?it/s]INFO:torchnlp.common.train:Epoch 8 (567)\n",
      "Training:  17%|█▋        | 14/81 [00:00<00:00, 137.52it/s, loss=-.175]"
     ]
    },
    {
     "name": "stdout",
     "output_type": "stream",
     "text": [
      "kl_loss_final: 0.3137390705801192, pre_loss : 0.4933395371550605\n"
     ]
    },
    {
     "name": "stderr",
     "output_type": "stream",
     "text": [
      "INFO:torchnlp.common.train:total_loss: -0.176206980958397, kl_loss: 0.12994975431097877, nll_loss: 0.22663724532833807\n",
      "INFO:torchnlp.common.train:Train Loss: -0.17621\n",
      "INFO:torchnlp.common.train:Validation metrics:             \n",
      "INFO:torchnlp.common.train:loss=0.49183, acc=0.81509, acc-seq=0.04076, precision=0.71176, recall=0.77729, F1=0.74309\n",
      "INFO:torchnlp.common.model:-------------- Saved checkpoint 648 --------------\n",
      "  0%|          | 0/81 [00:00<?, ?it/s]INFO:torchnlp.common.train:Epoch 9 (648)\n",
      "Training:  19%|█▊        | 15/81 [00:00<00:00, 138.96it/s, loss=-.181]"
     ]
    },
    {
     "name": "stdout",
     "output_type": "stream",
     "text": [
      "kl_loss_final: 0.3171141867836316, pre_loss : 0.4918340714204879\n"
     ]
    },
    {
     "name": "stderr",
     "output_type": "stream",
     "text": [
      "INFO:torchnlp.common.train:total_loss: -0.18645184790646588, kl_loss: 0.13134728206528556, nll_loss: 0.2207247158627451\n",
      "INFO:torchnlp.common.train:Train Loss: -0.18645\n",
      "INFO:torchnlp.common.train:Validation metrics:             \n",
      "INFO:torchnlp.common.train:loss=0.47233, acc=0.81793, acc-seq=0.04871, precision=0.68159, recall=0.77298, F1=0.72441\n",
      "INFO:torchnlp.common.model:-------------- Saved checkpoint 729 --------------\n",
      "  0%|          | 0/81 [00:00<?, ?it/s]INFO:torchnlp.common.train:Epoch 10 (729)\n",
      "Training:  19%|█▊        | 15/81 [00:00<00:00, 141.13it/s, loss=-.197]"
     ]
    },
    {
     "name": "stdout",
     "output_type": "stream",
     "text": [
      "kl_loss_final: 0.32544553918497904, pre_loss : 0.47233137630280997\n"
     ]
    },
    {
     "name": "stderr",
     "output_type": "stream",
     "text": [
      "INFO:torchnlp.common.train:total_loss: -0.19654561818381885, kl_loss: 0.1317693914896176, nll_loss: 0.21193948259324202\n",
      "INFO:torchnlp.common.train:Train Loss: -0.19655\n",
      "INFO:torchnlp.common.train:Validation metrics:             \n",
      "INFO:torchnlp.common.train:loss=0.44553, acc=0.83105, acc-seq=0.05765, precision=0.67282, recall=0.77620, F1=0.72082\n",
      "INFO:torchnlp.common.model:-------------- Saved checkpoint 810 --------------\n",
      "  0%|          | 0/81 [00:00<?, ?it/s]INFO:torchnlp.common.train:Epoch 11 (810)\n",
      "Training:  17%|█▋        | 14/81 [00:00<00:00, 138.15it/s, loss=-.212]"
     ]
    },
    {
     "name": "stdout",
     "output_type": "stream",
     "text": [
      "kl_loss_final: 0.32049321844464257, pre_loss : 0.44552687661988394\n"
     ]
    },
    {
     "name": "stderr",
     "output_type": "stream",
     "text": [
      "INFO:torchnlp.common.train:total_loss: -0.21575587344022445, kl_loss: 0.13067457926126175, nll_loss: 0.189335310348758\n",
      "INFO:torchnlp.common.train:Train Loss: -0.21576\n",
      "INFO:torchnlp.common.train:Validation metrics:             \n",
      "INFO:torchnlp.common.train:loss=0.36570, acc=0.87048, acc-seq=0.12475, precision=0.75469, recall=0.81968, F1=0.78584\n",
      "INFO:torchnlp.common.model:-------------- Saved checkpoint 891 --------------\n",
      "  0%|          | 0/81 [00:00<?, ?it/s]INFO:torchnlp.common.train:Epoch 12 (891)\n",
      "Training:  19%|█▊        | 15/81 [00:00<00:00, 138.91it/s, loss=-.238]"
     ]
    },
    {
     "name": "stdout",
     "output_type": "stream",
     "text": [
      "kl_loss_final: 0.31594945916107725, pre_loss : 0.3657045534678868\n"
     ]
    },
    {
     "name": "stderr",
     "output_type": "stream",
     "text": [
      "INFO:torchnlp.common.train:total_loss: -0.2422999265017333, kl_loss: 0.13031189612768315, nll_loss: 0.16166694039179955\n",
      "INFO:torchnlp.common.train:Train Loss: -0.24230\n",
      "INFO:torchnlp.common.train:Validation metrics:             \n",
      "INFO:torchnlp.common.train:loss=0.31383, acc=0.89877, acc-seq=0.19483, precision=0.78605, recall=0.84286, F1=0.81347\n",
      "INFO:torchnlp.common.model:-------------- Saved checkpoint 972 --------------\n",
      "  0%|          | 0/81 [00:00<?, ?it/s]INFO:torchnlp.common.train:Epoch 13 (972)\n",
      "Training:  17%|█▋        | 14/81 [00:00<00:00, 136.45it/s, loss=-.259]"
     ]
    },
    {
     "name": "stdout",
     "output_type": "stream",
     "text": [
      "kl_loss_final: 0.31478728850682575, pre_loss : 0.31383440395196277\n"
     ]
    },
    {
     "name": "stderr",
     "output_type": "stream",
     "text": [
      "INFO:torchnlp.common.train:total_loss: -0.256788252496425, kl_loss: 0.13042499088210824, nll_loss: 0.14752920781388695\n",
      "INFO:torchnlp.common.train:Train Loss: -0.25679\n",
      "INFO:torchnlp.common.train:Validation metrics:             \n",
      "INFO:torchnlp.common.train:loss=0.29960, acc=0.90556, acc-seq=0.20974, precision=0.77943, recall=0.84697, F1=0.81180\n",
      "INFO:torchnlp.common.model:-------------- Saved checkpoint 1053 --------------\n",
      "  0%|          | 0/81 [00:00<?, ?it/s]INFO:torchnlp.common.train:Epoch 14 (1053)\n",
      "Training:  17%|█▋        | 14/81 [00:00<00:00, 134.96it/s, loss=-.264]"
     ]
    },
    {
     "name": "stdout",
     "output_type": "stream",
     "text": [
      "kl_loss_final: 0.31559158116579056, pre_loss : 0.29959796652907417\n"
     ]
    },
    {
     "name": "stderr",
     "output_type": "stream",
     "text": [
      "INFO:torchnlp.common.train:total_loss: -0.26211840594992225, kl_loss: 0.13068618561014717, nll_loss: 0.14300875752060502\n",
      "INFO:torchnlp.common.train:Train Loss: -0.26212\n",
      "INFO:torchnlp.common.train:Validation metrics:             \n",
      "INFO:torchnlp.common.train:loss=0.29406, acc=0.91054, acc-seq=0.21024, precision=0.80040, recall=0.85506, F1=0.82683\n",
      "INFO:torchnlp.common.model:-------------- Saved checkpoint 1134 --------------\n",
      "  0%|          | 0/81 [00:00<?, ?it/s]INFO:torchnlp.common.train:Epoch 15 (1134)\n",
      "Training:  17%|█▋        | 14/81 [00:00<00:00, 132.94it/s, loss=-.26] "
     ]
    },
    {
     "name": "stdout",
     "output_type": "stream",
     "text": [
      "kl_loss_final: 0.3158565546785082, pre_loss : 0.294062302226112\n"
     ]
    },
    {
     "name": "stderr",
     "output_type": "stream",
     "text": [
      "INFO:torchnlp.common.train:total_loss: -0.26723772324161765, kl_loss: 0.13093772935278622, nll_loss: 0.138669226548554\n",
      "INFO:torchnlp.common.train:Train Loss: -0.26724\n",
      "INFO:torchnlp.common.train:Validation metrics:             \n",
      "INFO:torchnlp.common.train:loss=0.29294, acc=0.91111, acc-seq=0.22763, precision=0.78638, recall=0.86026, F1=0.82166\n",
      "INFO:torchnlp.common.model:-------------- Saved checkpoint 1215 --------------\n",
      "  0%|          | 0/81 [00:00<?, ?it/s]INFO:torchnlp.common.train:Epoch 16 (1215)\n",
      "Training:  19%|█▊        | 15/81 [00:00<00:00, 140.81it/s, loss=-.271]"
     ]
    },
    {
     "name": "stdout",
     "output_type": "stream",
     "text": [
      "kl_loss_final: 0.3170543501064891, pre_loss : 0.29294215852306005\n"
     ]
    },
    {
     "name": "stderr",
     "output_type": "stream",
     "text": [
      "INFO:torchnlp.common.train:total_loss: -0.27098411082485574, kl_loss: 0.13102512346741593, nll_loss: 0.13519375725292865\n",
      "INFO:torchnlp.common.train:Train Loss: -0.27098\n",
      "INFO:torchnlp.common.train:Validation metrics:             \n",
      "INFO:torchnlp.common.train:loss=0.28629, acc=0.91323, acc-seq=0.22018, precision=0.79949, recall=0.86228, F1=0.82970\n",
      "INFO:torchnlp.common.model:-------------- Saved checkpoint 1296 --------------\n",
      "  0%|          | 0/81 [00:00<?, ?it/s]INFO:torchnlp.common.train:Epoch 17 (1296)\n",
      "Training:  19%|█▊        | 15/81 [00:00<00:00, 137.61it/s, loss=-.279]"
     ]
    },
    {
     "name": "stdout",
     "output_type": "stream",
     "text": [
      "kl_loss_final: 0.3181615188008263, pre_loss : 0.28629463556266965\n"
     ]
    },
    {
     "name": "stderr",
     "output_type": "stream",
     "text": [
      "INFO:torchnlp.common.train:total_loss: -0.27495213478435704, kl_loss: 0.13123985701872978, nll_loss: 0.13189141130373802\n",
      "INFO:torchnlp.common.train:Train Loss: -0.27495\n",
      "INFO:torchnlp.common.train:Validation metrics:             \n",
      "INFO:torchnlp.common.train:loss=0.28382, acc=0.91371, acc-seq=0.22366, precision=0.80514, recall=0.86391, F1=0.83349\n",
      "INFO:torchnlp.common.model:-------------- Saved checkpoint 1377 --------------\n",
      "  0%|          | 0/81 [00:00<?, ?it/s]INFO:torchnlp.common.train:Epoch 18 (1377)\n",
      "Training:  17%|█▋        | 14/81 [00:00<00:00, 137.69it/s, loss=-.274]"
     ]
    },
    {
     "name": "stdout",
     "output_type": "stream",
     "text": [
      "kl_loss_final: 0.3193733702812876, pre_loss : 0.2838170819339298\n"
     ]
    },
    {
     "name": "stderr",
     "output_type": "stream",
     "text": [
      "INFO:torchnlp.common.train:total_loss: -0.27612133434525243, kl_loss: 0.1313275725201324, nll_loss: 0.13099412822429043\n",
      "INFO:torchnlp.common.train:Train Loss: -0.27612\n",
      "INFO:torchnlp.common.train:Validation metrics:             \n",
      "INFO:torchnlp.common.train:loss=0.28150, acc=0.91457, acc-seq=0.23857, precision=0.80438, recall=0.86471, F1=0.83345\n",
      "INFO:torchnlp.common.model:-------------- Saved checkpoint 1458 --------------\n",
      "  0%|          | 0/81 [00:00<?, ?it/s]INFO:torchnlp.common.train:Epoch 19 (1458)\n",
      "Training:  17%|█▋        | 14/81 [00:00<00:00, 139.50it/s, loss=-.277]"
     ]
    },
    {
     "name": "stdout",
     "output_type": "stream",
     "text": [
      "kl_loss_final: 0.3187433690542266, pre_loss : 0.2814996185756865\n"
     ]
    },
    {
     "name": "stderr",
     "output_type": "stream",
     "text": [
      "INFO:torchnlp.common.train:total_loss: -0.27938780814041325, kl_loss: 0.13133675623455165, nll_loss: 0.12775612539715236\n",
      "INFO:torchnlp.common.train:Train Loss: -0.27939\n",
      "INFO:torchnlp.common.train:Validation metrics:             \n",
      "INFO:torchnlp.common.train:loss=0.27965, acc=0.91681, acc-seq=0.24453, precision=0.81830, recall=0.87024, F1=0.84347\n",
      "INFO:torchnlp.common.model:-------------- Saved checkpoint 1539 --------------\n",
      "  0%|          | 0/81 [00:00<?, ?it/s]INFO:torchnlp.common.train:Epoch 20 (1539)\n",
      "Training:  17%|█▋        | 14/81 [00:00<00:00, 137.51it/s, loss=-.283]"
     ]
    },
    {
     "name": "stdout",
     "output_type": "stream",
     "text": [
      "kl_loss_final: 0.31783131793850944, pre_loss : 0.2796499530474345\n"
     ]
    },
    {
     "name": "stderr",
     "output_type": "stream",
     "text": [
      "INFO:torchnlp.common.train:total_loss: -0.2816863578778726, kl_loss: 0.13120658695697784, nll_loss: 0.1250540487192295\n",
      "INFO:torchnlp.common.train:Train Loss: -0.28169\n",
      "INFO:torchnlp.common.train:Validation metrics:             \n",
      "INFO:torchnlp.common.train:loss=0.27135, acc=0.92115, acc-seq=0.26143, precision=0.83046, recall=0.87628, F1=0.85275\n",
      "INFO:torchnlp.common.model:-------------- Saved checkpoint 1620 --------------\n",
      "  0%|          | 0/81 [00:00<?, ?it/s]INFO:torchnlp.common.train:Epoch 21 (1620)\n",
      "Training:  16%|█▌        | 13/81 [00:00<00:00, 123.77it/s, loss=-.285]"
     ]
    },
    {
     "name": "stdout",
     "output_type": "stream",
     "text": [
      "kl_loss_final: 0.319168549208414, pre_loss : 0.2713460198470524\n"
     ]
    },
    {
     "name": "stderr",
     "output_type": "stream",
     "text": [
      "INFO:torchnlp.common.train:total_loss: -0.2843159909969495, kl_loss: 0.1316364186781424, nll_loss: 0.12375689592258429\n",
      "INFO:torchnlp.common.train:Train Loss: -0.28432\n",
      "INFO:torchnlp.common.train:Validation metrics:             \n",
      "INFO:torchnlp.common.train:loss=0.27059, acc=0.92025, acc-seq=0.25149, precision=0.83494, recall=0.87267, F1=0.85339\n",
      "INFO:torchnlp.common.model:-------------- Saved checkpoint 1701 --------------\n",
      "  0%|          | 0/81 [00:00<?, ?it/s]INFO:torchnlp.common.train:Epoch 22 (1701)\n",
      "Training:  17%|█▋        | 14/81 [00:00<00:00, 133.71it/s, loss=-.284]"
     ]
    },
    {
     "name": "stdout",
     "output_type": "stream",
     "text": [
      "kl_loss_final: 0.3194372384321122, pre_loss : 0.2705945748658407\n"
     ]
    },
    {
     "name": "stderr",
     "output_type": "stream",
     "text": [
      "INFO:torchnlp.common.train:total_loss: -0.2850381053156323, kl_loss: 0.13161751526741333, nll_loss: 0.12297618012001485\n",
      "INFO:torchnlp.common.train:Train Loss: -0.28504\n",
      "INFO:torchnlp.common.train:Validation metrics:             \n",
      "INFO:torchnlp.common.train:loss=0.26835, acc=0.92128, acc-seq=0.25099, precision=0.83812, recall=0.87649, F1=0.85687\n",
      "INFO:torchnlp.common.model:-------------- Saved checkpoint 1782 --------------\n",
      "  0%|          | 0/81 [00:00<?, ?it/s]INFO:torchnlp.common.train:Epoch 23 (1782)\n",
      "Training:  17%|█▋        | 14/81 [00:00<00:00, 136.10it/s, loss=-.29] "
     ]
    },
    {
     "name": "stdout",
     "output_type": "stream",
     "text": [
      "kl_loss_final: 0.319698670790309, pre_loss : 0.26834635010787417\n"
     ]
    },
    {
     "name": "stderr",
     "output_type": "stream",
     "text": [
      "INFO:torchnlp.common.train:total_loss: -0.28776671709837737, kl_loss: 0.1318378947031351, nll_loss: 0.12093074389813858\n",
      "INFO:torchnlp.common.train:Train Loss: -0.28777\n",
      "INFO:torchnlp.common.train:Validation metrics:             \n",
      "INFO:torchnlp.common.train:loss=0.26602, acc=0.92191, acc-seq=0.27087, precision=0.82838, recall=0.87523, F1=0.85116\n",
      "INFO:torchnlp.common.model:-------------- Saved checkpoint 1863 --------------\n",
      "  0%|          | 0/81 [00:00<?, ?it/s]INFO:torchnlp.common.train:Epoch 24 (1863)\n",
      "Training:  17%|█▋        | 14/81 [00:00<00:00, 136.89it/s, loss=-.273]"
     ]
    },
    {
     "name": "stdout",
     "output_type": "stream",
     "text": [
      "kl_loss_final: 0.3192857440028872, pre_loss : 0.2660230362699145\n"
     ]
    },
    {
     "name": "stderr",
     "output_type": "stream",
     "text": [
      "INFO:torchnlp.common.train:total_loss: -0.28866384739493145, kl_loss: 0.1319049037533042, nll_loss: 0.12024134250334752\n",
      "INFO:torchnlp.common.train:Train Loss: -0.28866\n",
      "INFO:torchnlp.common.train:Validation metrics:             \n",
      "INFO:torchnlp.common.train:loss=0.26880, acc=0.92167, acc-seq=0.25944, precision=0.83872, recall=0.87452, F1=0.85625\n",
      "INFO:torchnlp.common.model:-------------- Saved checkpoint 1944 --------------\n",
      "  0%|          | 0/81 [00:00<?, ?it/s]INFO:torchnlp.common.train:Epoch 25 (1944)\n",
      "Training:  17%|█▋        | 14/81 [00:00<00:00, 137.56it/s, loss=-.294]"
     ]
    },
    {
     "name": "stdout",
     "output_type": "stream",
     "text": [
      "kl_loss_final: 0.3208091372535342, pre_loss : 0.26879937592006864\n"
     ]
    },
    {
     "name": "stderr",
     "output_type": "stream",
     "text": [
      "INFO:torchnlp.common.train:total_loss: -0.2895721239440235, kl_loss: 0.13200237546805982, nll_loss: 0.11963522425036371\n",
      "INFO:torchnlp.common.train:Train Loss: -0.28957\n",
      "INFO:torchnlp.common.train:Validation metrics:             \n",
      "INFO:torchnlp.common.train:loss=0.26588, acc=0.92412, acc-seq=0.27087, precision=0.84268, recall=0.88236, F1=0.86206\n",
      "INFO:torchnlp.common.model:-------------- Saved checkpoint 2025 --------------\n",
      "  0%|          | 0/81 [00:00<?, ?it/s]INFO:torchnlp.common.train:Epoch 26 (2025)\n",
      "Training:  17%|█▋        | 14/81 [00:00<00:00, 133.90it/s, loss=-.287]"
     ]
    },
    {
     "name": "stdout",
     "output_type": "stream",
     "text": [
      "kl_loss_final: 0.32145012063639505, pre_loss : 0.26588137660707745\n"
     ]
    },
    {
     "name": "stderr",
     "output_type": "stream",
     "text": [
      "INFO:torchnlp.common.train:total_loss: -0.29134171888416194, kl_loss: 0.13218611791545962, nll_loss: 0.1184352324516685\n",
      "INFO:torchnlp.common.train:Train Loss: -0.29134\n",
      "INFO:torchnlp.common.train:Validation metrics:             \n",
      "INFO:torchnlp.common.train:loss=0.26425, acc=0.92498, acc-seq=0.28827, precision=0.83961, recall=0.88009, F1=0.85938\n",
      "INFO:torchnlp.common.model:-------------- Saved checkpoint 2106 --------------\n",
      "  0%|          | 0/81 [00:00<?, ?it/s]INFO:torchnlp.common.train:Epoch 27 (2106)\n",
      "Training:  16%|█▌        | 13/81 [00:00<00:00, 124.11it/s, loss=-.279]"
     ]
    },
    {
     "name": "stdout",
     "output_type": "stream",
     "text": [
      "kl_loss_final: 0.3213561776848066, pre_loss : 0.2642469782204855\n"
     ]
    },
    {
     "name": "stderr",
     "output_type": "stream",
     "text": [
      "INFO:torchnlp.common.train:total_loss: -0.2918277695591067, kl_loss: 0.1321952889362971, nll_loss: 0.11797761549184352\n",
      "INFO:torchnlp.common.train:Train Loss: -0.29183\n",
      "INFO:torchnlp.common.train:Validation metrics:             \n",
      "INFO:torchnlp.common.train:loss=0.26414, acc=0.92364, acc-seq=0.27883, precision=0.83519, recall=0.88064, F1=0.85731\n",
      "INFO:torchnlp.common.model:-------------- Saved checkpoint 2187 --------------\n",
      "  0%|          | 0/81 [00:00<?, ?it/s]INFO:torchnlp.common.train:Epoch 28 (2187)\n",
      "Training:  17%|█▋        | 14/81 [00:00<00:00, 138.55it/s, loss=-.296]"
     ]
    },
    {
     "name": "stdout",
     "output_type": "stream",
     "text": [
      "kl_loss_final: 0.32199755985112416, pre_loss : 0.2641353025322869\n"
     ]
    },
    {
     "name": "stderr",
     "output_type": "stream",
     "text": [
      "INFO:torchnlp.common.train:total_loss: -0.29414542313711145, kl_loss: 0.13237350194910427, nll_loss: 0.11621242080941613\n",
      "INFO:torchnlp.common.train:Train Loss: -0.29415\n",
      "INFO:torchnlp.common.train:Validation metrics:             \n",
      "INFO:torchnlp.common.train:loss=0.26502, acc=0.92584, acc-seq=0.27932, precision=0.84999, recall=0.88538, F1=0.86732\n",
      "INFO:torchnlp.common.model:-------------- Saved checkpoint 2268 --------------\n",
      "  0%|          | 0/81 [00:00<?, ?it/s]INFO:torchnlp.common.train:Epoch 29 (2268)\n",
      "Training:  17%|█▋        | 14/81 [00:00<00:00, 131.75it/s, loss=-.29] "
     ]
    },
    {
     "name": "stdout",
     "output_type": "stream",
     "text": [
      "kl_loss_final: 0.3221031924088796, pre_loss : 0.26501795720486415\n"
     ]
    },
    {
     "name": "stderr",
     "output_type": "stream",
     "text": [
      "INFO:torchnlp.common.train:total_loss: -0.2940478013989366, kl_loss: 0.13242188224821916, nll_loss: 0.1164600216312173\n",
      "INFO:torchnlp.common.train:Train Loss: -0.29405\n",
      "INFO:torchnlp.common.train:Validation metrics:             \n",
      "INFO:torchnlp.common.train:loss=0.26466, acc=0.92537, acc-seq=0.28777, precision=0.84092, recall=0.88450, F1=0.86216\n",
      "INFO:torchnlp.common.model:-------------- Saved checkpoint 2349 --------------\n",
      "  0%|          | 0/81 [00:00<?, ?it/s]INFO:torchnlp.common.train:Epoch 30 (2349)\n",
      "Training:  19%|█▊        | 15/81 [00:00<00:00, 145.30it/s, loss=-.297]"
     ]
    },
    {
     "name": "stdout",
     "output_type": "stream",
     "text": [
      "kl_loss_final: 0.3221687529058683, pre_loss : 0.2646625120015371\n"
     ]
    },
    {
     "name": "stderr",
     "output_type": "stream",
     "text": [
      "INFO:torchnlp.common.train:total_loss: -0.29523449142773944, kl_loss: 0.13252769373817208, nll_loss: 0.11560134451698374\n",
      "INFO:torchnlp.common.train:Train Loss: -0.29523\n",
      "INFO:torchnlp.common.train:Validation metrics:             \n",
      "INFO:torchnlp.common.train:loss=0.25800, acc=0.92615, acc-seq=0.27833, precision=0.84514, recall=0.88206, F1=0.86321\n",
      "INFO:torchnlp.common.model:-------------- Saved checkpoint 2430 --------------\n",
      "  0%|          | 0/81 [00:00<?, ?it/s]INFO:torchnlp.common.train:Epoch 31 (2430)\n",
      "Training:  17%|█▋        | 14/81 [00:00<00:00, 136.87it/s, loss=-.295]"
     ]
    },
    {
     "name": "stdout",
     "output_type": "stream",
     "text": [
      "kl_loss_final: 0.322926945629574, pre_loss : 0.2579961475871858\n"
     ]
    },
    {
     "name": "stderr",
     "output_type": "stream",
     "text": [
      "INFO:torchnlp.common.train:total_loss: -0.2953437005664096, kl_loss: 0.13246974956106256, nll_loss: 0.11531251153828186\n",
      "INFO:torchnlp.common.train:Train Loss: -0.29534\n",
      "INFO:torchnlp.common.train:Validation metrics:             \n",
      "INFO:torchnlp.common.train:loss=0.26488, acc=0.92391, acc-seq=0.26988, precision=0.84027, recall=0.87955, F1=0.85946\n",
      "INFO:torchnlp.common.model:-------------- Saved checkpoint 2511 --------------\n",
      "  0%|          | 0/81 [00:00<?, ?it/s]INFO:torchnlp.common.train:Epoch 32 (2511)\n",
      "Training:  17%|█▋        | 14/81 [00:00<00:00, 136.54it/s, loss=-.294]"
     ]
    },
    {
     "name": "stdout",
     "output_type": "stream",
     "text": [
      "kl_loss_final: 0.3234418041649319, pre_loss : 0.26487667290937333\n"
     ]
    },
    {
     "name": "stderr",
     "output_type": "stream",
     "text": [
      "INFO:torchnlp.common.train:total_loss: -0.2961544155338664, kl_loss: 0.1325637208826748, nll_loss: 0.1147931092131285\n",
      "INFO:torchnlp.common.train:Train Loss: -0.29615\n",
      "INFO:torchnlp.common.train:Validation metrics:             \n",
      "INFO:torchnlp.common.train:loss=0.26726, acc=0.92428, acc-seq=0.26839, precision=0.84396, recall=0.88097, F1=0.86207\n",
      "INFO:torchnlp.common.model:-------------- Saved checkpoint 2592 --------------\n",
      "  0%|          | 0/81 [00:00<?, ?it/s]INFO:torchnlp.common.train:Epoch 33 (2592)\n",
      "Training:  19%|█▊        | 15/81 [00:00<00:00, 139.64it/s, loss=-.311]"
     ]
    },
    {
     "name": "stdout",
     "output_type": "stream",
     "text": [
      "kl_loss_final: 0.32356003600926625, pre_loss : 0.26726097365220386\n"
     ]
    },
    {
     "name": "stderr",
     "output_type": "stream",
     "text": [
      "INFO:torchnlp.common.train:total_loss: -0.29745377232263115, kl_loss: 0.1327374331009241, nll_loss: 0.1140322584060975\n",
      "INFO:torchnlp.common.train:Train Loss: -0.29745\n",
      "INFO:torchnlp.common.train:Validation metrics:             \n",
      "INFO:torchnlp.common.train:loss=0.26217, acc=0.92595, acc-seq=0.27734, precision=0.84269, recall=0.88508, F1=0.86336\n",
      "INFO:torchnlp.common.train:Early stopping at iteration 2268, epoch 27, F1=0.86732\n",
      "  5%|▍         | 4/81 [00:00<00:01, 39.48it/s]"
     ]
    },
    {
     "name": "stdout",
     "output_type": "stream",
     "text": [
      "kl_loss_final: 0.3238238064306123, pre_loss : 0.2621652561993826\n"
     ]
    },
    {
     "name": "stderr",
     "output_type": "stream",
     "text": [
      "INFO:torchnlp.common.train:prediction, and attns for best epoch obtained, release hook\n",
      "INFO:torchnlp.common.train:prediction, and attns for best epoch obtained, release hook\n"
     ]
    },
    {
     "name": "stdout",
     "output_type": "stream",
     "text": [
      "SAVING PREDICTIONS AND ATTENTIONS\n",
      "done /home/zijiao/research/atal/saved_True_/11:47:04.145928/tr_pr_best\n",
      "done /home/zijiao/research/atal/saved_True_/11:47:04.145928/te_pr_best\n",
      "done /home/zijiao/research/atal/saved_True_/11:47:04.145928/tr_attn_best\n",
      "done /home/zijiao/research/atal/saved_True_/11:47:04.145928/te_attn_best\n",
      "LOOK HERE 0.2621652561993826 0.3238238064306123\n"
     ]
    }
   ],
   "source": [
    "for i in lms:\n",
    "    h2.update(lmbda=i)\n",
    "    _, pre, div = train('any', TransformerTagger, conll2000, hparams=h2)\n",
    "    results.append((i, pre, div))\n",
    "    print('LOOK HERE', pre, div)"
   ]
  },
  {
   "cell_type": "code",
   "execution_count": null,
   "metadata": {},
   "outputs": [],
   "source": [
    "0.3 kl_loss_final: 0.1872458394084658, pre_loss : 0.22215019024553753 \n",
    "0.2 kl_loss_final: 0.18829614491689772, pre_loss : 0.22210785817532314\n",
    "0.4 kl_loss_final: 0.2478444782041368, pre_loss : 0.22300221912917637 \n",
    "0.5 kl_loss_final: 0.20987426347675778, pre_loss : 0.21910916162388666\n",
    "0.6 kl_loss_final: 0.27321309844652814, pre_loss : 0.23236986923785435   "
   ]
  },
  {
   "cell_type": "code",
   "execution_count": 12,
   "metadata": {},
   "outputs": [],
   "source": [
    "results.extend([(0.3, 0.22215019024553753, 0.1872458394084658 ), (0.2,0.22210785817532314,0.18829614491689772), (0.4, 0.22300221912917637,0.2478444782041368 ), (0.5, 0.21910916162388666, 0.20987426347675778), (0.6, 0.23236986923785435,0.27321309844652814)])"
   ]
  },
  {
   "cell_type": "code",
   "execution_count": 13,
   "metadata": {},
   "outputs": [],
   "source": [
    "import matplotlib.pyplot as plt"
   ]
  },
  {
   "cell_type": "code",
   "execution_count": 22,
   "metadata": {},
   "outputs": [],
   "source": [
    "test = list(zip(*results))"
   ]
  },
  {
   "cell_type": "code",
   "execution_count": 27,
   "metadata": {},
   "outputs": [],
   "source": [
    "test = sorted(test, key=lambda x: x[0])"
   ]
  },
  {
   "cell_type": "code",
   "execution_count": 30,
   "metadata": {},
   "outputs": [],
   "source": [
    "te = list(zip(test))"
   ]
  },
  {
   "cell_type": "code",
   "execution_count": 33,
   "metadata": {},
   "outputs": [],
   "source": [
    "aaa = []\n",
    "for i,j, k in zip(test[2], test[0], test[1]):\n",
    "    aaa.append((i,j,k))"
   ]
  },
  {
   "cell_type": "code",
   "execution_count": 35,
   "metadata": {},
   "outputs": [],
   "source": [
    "sr = list(sorted(aaa, key=lambda x: x[0]))"
   ]
  },
  {
   "cell_type": "code",
   "execution_count": 36,
   "metadata": {},
   "outputs": [
    {
     "data": {
      "text/plain": [
       "[(0.2, 0.22210785817532314, 0.18829614491689772),\n",
       " (0.3, 0.22215019024553753, 0.1872458394084658),\n",
       " (0.4, 0.22300221912917637, 0.2478444782041368),\n",
       " (0.5, 0.21910916162388666, 0.20987426347675778),\n",
       " (0.6, 0.23236986923785435, 0.27321309844652814),\n",
       " (0.7, 0.23645629698321932, 0.2597748541406223),\n",
       " (0.7999999999999999, 0.24466020330077126, 0.2734465538745835),\n",
       " (0.8999999999999999, 0.24233246913978032, 0.28887035520303816),\n",
       " (0.9999999999999999, 0.2300791350148973, 0.2981360114756085),\n",
       " (1.0999999999999999, 0.2473391198686191, 0.3108457862621262),\n",
       " (1.1999999999999997, 0.2578295582816714, 0.31429130690438406),\n",
       " (1.2999999999999998, 0.2516681778998602, 0.31408426768722986),\n",
       " (1.4, 0.2580159182349841, 0.310464865395001),\n",
       " (1.4999999999999998, 0.25570342867147355, 0.29316445865801405),\n",
       " (1.5999999999999996, 0.24575252830982208, 0.31666024525960285),\n",
       " (1.6999999999999997, 0.24874107539653778, 0.29515462155853),\n",
       " (1.7999999999999996, 0.2543120902209055, 0.3261322709066527),\n",
       " (1.8999999999999997, 0.25966798407690866, 0.32543226189556573),\n",
       " (1.9999999999999998, 0.25001790409996394, 0.31731123938446953),\n",
       " (2.0999999999999996, 0.47194844484329224, 0.33702289987178075),\n",
       " (2.1999999999999993, 0.4844432714439574, 0.33018102177551817),\n",
       " (2.3, 0.49871450662612915, 0.3299631132256417),\n",
       " (2.3999999999999995, 0.48074435052417575, 0.32743125302451),\n",
       " (2.4999999999999996, 0.47693900693030583, 0.34737410502774374),\n",
       " (2.5999999999999996, 0.2630957592101324, 0.3321722174684207),\n",
       " (2.6999999999999993, 0.47263209734644207, 0.3488613487709136),\n",
       " (2.8, 0.4723494705699739, 0.3480478596119654),\n",
       " (2.8999999999999995, 0.47919142671993803, 0.34365413302466985),\n",
       " (2.999999999999999, 0.48071845656349543, 0.34133370220661163),\n",
       " (3.0999999999999996, 0.2621652561993826, 0.3238238064306123)]"
      ]
     },
     "execution_count": 36,
     "metadata": {},
     "output_type": "execute_result"
    }
   ],
   "source": [
    "sr"
   ]
  },
  {
   "cell_type": "code",
   "execution_count": 32,
   "metadata": {},
   "outputs": [
    {
     "data": {
      "text/plain": [
       "(0.23645629698321932,\n",
       " 0.24466020330077126,\n",
       " 0.24233246913978032,\n",
       " 0.2300791350148973,\n",
       " 0.2473391198686191,\n",
       " 0.2578295582816714,\n",
       " 0.2516681778998602,\n",
       " 0.2580159182349841,\n",
       " 0.25570342867147355,\n",
       " 0.24575252830982208,\n",
       " 0.24874107539653778,\n",
       " 0.2543120902209055,\n",
       " 0.25966798407690866,\n",
       " 0.25001790409996394,\n",
       " 0.47194844484329224,\n",
       " 0.4844432714439574,\n",
       " 0.49871450662612915,\n",
       " 0.48074435052417575,\n",
       " 0.47693900693030583,\n",
       " 0.2630957592101324,\n",
       " 0.47263209734644207,\n",
       " 0.4723494705699739,\n",
       " 0.47919142671993803,\n",
       " 0.48071845656349543,\n",
       " 0.2621652561993826,\n",
       " 0.22215019024553753,\n",
       " 0.22210785817532314,\n",
       " 0.22300221912917637,\n",
       " 0.21910916162388666,\n",
       " 0.23236986923785435)"
      ]
     },
     "execution_count": 32,
     "metadata": {},
     "output_type": "execute_result"
    }
   ],
   "source": [
    "test[0]"
   ]
  },
  {
   "cell_type": "code",
   "execution_count": 56,
   "metadata": {},
   "outputs": [],
   "source": [
    "num, pre, div = list(zip(*sr))"
   ]
  },
  {
   "cell_type": "code",
   "execution_count": 60,
   "metadata": {},
   "outputs": [
    {
     "data": {
      "text/plain": [
       "2.0999999999999996"
      ]
     },
     "execution_count": 60,
     "metadata": {},
     "output_type": "execute_result"
    }
   ],
   "source": [
    "num[19]"
   ]
  },
  {
   "cell_type": "code",
   "execution_count": 37,
   "metadata": {},
   "outputs": [],
   "source": [
    "jvds = sr[2]\n",
    "pre_v = sr[1]"
   ]
  },
  {
   "cell_type": "code",
   "execution_count": 54,
   "metadata": {},
   "outputs": [
    {
     "data": {
      "text/plain": [
       "(0.3, 0.22215019024553753, 0.1872458394084658)"
      ]
     },
     "execution_count": 54,
     "metadata": {},
     "output_type": "execute_result"
    }
   ],
   "source": [
    "pre_v"
   ]
  },
  {
   "cell_type": "code",
   "execution_count": 55,
   "metadata": {},
   "outputs": [
    {
     "data": {
      "text/plain": [
       "0.2175080751379331"
      ]
     },
     "execution_count": 55,
     "metadata": {},
     "output_type": "execute_result"
    }
   ],
   "source": [
    "pre"
   ]
  },
  {
   "cell_type": "code",
   "execution_count": 51,
   "metadata": {},
   "outputs": [
    {
     "data": {
      "text/plain": [
       "Text(0, 0.5, 'NLLloss')"
      ]
     },
     "execution_count": 51,
     "metadata": {},
     "output_type": "execute_result"
    },
    {
     "data": {
      "image/png": "[encoded data removed]",
      "text/plain": [
       "<Figure size 432x288 with 1 Axes>"
      ]
     },
     "metadata": {
      "needs_background": "light"
     },
     "output_type": "display_data"
    }
   ],
   "source": [
    "plt.scatter(div, pre)\n",
    "plt.xlabel(\"JSD\")\n",
    "plt.ylabel(\"NLLloss\")"
   ]
  },
  {
   "cell_type": "code",
   "execution_count": 62,
   "metadata": {},
   "outputs": [
    {
     "data": {
      "text/plain": [
       "\n",
       "Hyperparameters:\n",
       " batch_size=100\n",
       " embedding_size_word=300\n",
       " embedding_size_char=0\n",
       " embedding_size_char_per_word=100\n",
       " embedding_size_tags=100\n",
       " hidden_size=128\n",
       " learning_rate=0.2\n",
       " learning_rate_decay=noam_step\n",
       " max_length=256\n",
       " num_hidden_layers=1\n",
       " dropout=0.2\n",
       " optimizer_adam_beta1=0.9\n",
       " optimizer_adam_beta2=0.98\n",
       " use_crf=False\n",
       " num_heads=4\n",
       " attention_key_channels=0\n",
       " attention_value_channels=0\n",
       " filter_size=128\n",
       " filter_size_char=64\n",
       " input_dropout=0.2\n",
       " attention_dropout=0.2\n",
       " relu_dropout=0.2\n",
       " learning_rate_warmup_steps=500\n",
       " attn_path=./saved\n",
       " adversarial=False\n",
       " lmbda=2.1\n",
       " froze=False\n",
       " froze_path=./froze"
      ]
     },
     "execution_count": 62,
     "metadata": {},
     "output_type": "execute_result"
    }
   ],
   "source": [
    "h2.update(adversarial=False)"
   ]
  },
  {
   "cell_type": "code",
   "execution_count": 63,
   "metadata": {},
   "outputs": [
    {
     "data": {
      "text/plain": [
       "\n",
       "Hyperparameters:\n",
       " batch_size=100\n",
       " embedding_size_word=300\n",
       " embedding_size_char=0\n",
       " embedding_size_char_per_word=100\n",
       " embedding_size_tags=100\n",
       " hidden_size=128\n",
       " learning_rate=0.2\n",
       " learning_rate_decay=noam_step\n",
       " max_length=256\n",
       " num_hidden_layers=1\n",
       " dropout=0.2\n",
       " optimizer_adam_beta1=0.9\n",
       " optimizer_adam_beta2=0.98\n",
       " use_crf=False\n",
       " num_heads=4\n",
       " attention_key_channels=0\n",
       " attention_value_channels=0\n",
       " filter_size=128\n",
       " filter_size_char=64\n",
       " input_dropout=0.2\n",
       " attention_dropout=0.2\n",
       " relu_dropout=0.2\n",
       " learning_rate_warmup_steps=500\n",
       " attn_path=./saved\n",
       " adversarial=False\n",
       " lmbda=2.1\n",
       " froze=True\n",
       " froze_path=./froze"
      ]
     },
     "execution_count": 63,
     "metadata": {},
     "output_type": "execute_result"
    }
   ],
   "source": [
    "h2.update(froze=True)"
   ]
  },
  {
   "cell_type": "code",
   "execution_count": 64,
   "metadata": {},
   "outputs": [
    {
     "name": "stderr",
     "output_type": "stream",
     "text": [
      "INFO:torchnlp.data.conll:---------- CONLL 2000 Chunking ---------\n",
      "INFO:torchnlp.data.conll:Train size: 8042\n",
      "INFO:torchnlp.data.conll:Validation size: 894\n",
      "INFO:torchnlp.data.conll:Test size: 2012\n",
      "INFO:torchtext.vocab:Loading vectors from .vector_cache/glove.6B.200d.txt.pt\n",
      "INFO:torchtext.vocab:Loading vectors from .vector_cache/charNgram.txt.pt\n",
      "INFO:torchnlp.data.conll:Input vocab size:19032\n",
      "INFO:torchnlp.data.conll:Tagset size: 25\n",
      "INFO:torchnlp.common.model:\n",
      "Hyperparameters:\n",
      " batch_size=100\n",
      " embedding_size_word=300\n",
      " embedding_size_char=0\n",
      " embedding_size_char_per_word=100\n",
      " embedding_size_tags=100\n",
      " hidden_size=128\n",
      " learning_rate=0.2\n",
      " learning_rate_decay=noam_step\n",
      " max_length=256\n",
      " num_hidden_layers=1\n",
      " dropout=0.2\n",
      " optimizer_adam_beta1=0.9\n",
      " optimizer_adam_beta2=0.98\n",
      " use_crf=False\n",
      " num_heads=4\n",
      " attention_key_channels=0\n",
      " attention_value_channels=0\n",
      " filter_size=128\n",
      " filter_size_char=64\n",
      " input_dropout=0.2\n",
      " attention_dropout=0.2\n",
      " relu_dropout=0.2\n",
      " learning_rate_warmup_steps=500\n",
      " attn_path=./saved\n",
      " adversarial=False\n",
      " lmbda=2.1\n",
      " froze=True\n",
      " froze_path=./froze\n",
      "INFO:torchnlp.common.train:Parameters: 140953(trainable), 5709601(non-trainable)\n",
      "INFO:torchnlp.common.train:Early stopping for highest value of validation F1 after 5 epochs\n",
      "  0%|          | 0/81 [00:00<?, ?it/s]INFO:torchnlp.common.train:Epoch 1 (0)\n",
      "INFO:torchnlp.common.train:Train Loss: 1.16791                       \n"
     ]
    },
    {
     "ename": "AttributeError",
     "evalue": "'Evaluator' object has no attribute 'attn_te'",
     "output_type": "error",
     "traceback": [
      "\u001b[0;31m-------------------------------------------------------\u001b[0m",
      "\u001b[0;31mAttributeError\u001b[0m        Traceback (most recent call last)",
      "\u001b[0;32m<ipython-input-64-77e1c4a38a33>\u001b[0m in \u001b[0;36m<module>\u001b[0;34m\u001b[0m\n\u001b[0;32m----> 1\u001b[0;31m \u001b[0m_\u001b[0m\u001b[0;34m,\u001b[0m \u001b[0mpre\u001b[0m\u001b[0;34m,\u001b[0m \u001b[0mdiv\u001b[0m \u001b[0;34m=\u001b[0m \u001b[0mtrain\u001b[0m\u001b[0;34m(\u001b[0m\u001b[0;34m'any'\u001b[0m\u001b[0;34m,\u001b[0m \u001b[0mTransformerTagger\u001b[0m\u001b[0;34m,\u001b[0m \u001b[0mconll2000\u001b[0m\u001b[0;34m,\u001b[0m \u001b[0mh2\u001b[0m\u001b[0;34m)\u001b[0m\u001b[0;34m\u001b[0m\u001b[0;34m\u001b[0m\u001b[0m\n\u001b[0m",
      "\u001b[0;32m~/research/atal/torchnlp/tasks/sequence_tagging/main.py\u001b[0m in \u001b[0;36mtrain\u001b[0;34m(task_name, model_cls, dataset_fn, hparams, hparams_map, num_epochs, checkpoint, use_iob_metrics, early_stopping)\u001b[0m\n\u001b[1;32m     74\u001b[0m \u001b[0;34m\u001b[0m\u001b[0m\n\u001b[1;32m     75\u001b[0m     \u001b[0;31m# Start training\u001b[0m\u001b[0;34m\u001b[0m\u001b[0;34m\u001b[0m\u001b[0;34m\u001b[0m\u001b[0m\n\u001b[0;32m---> 76\u001b[0;31m     \u001b[0mbest_cp\u001b[0m\u001b[0;34m,\u001b[0m \u001b[0m_\u001b[0m\u001b[0;34m,\u001b[0m \u001b[0mpre_loss\u001b[0m\u001b[0;34m,\u001b[0m \u001b[0mdiv_loss\u001b[0m \u001b[0;34m=\u001b[0m \u001b[0mtrainer\u001b[0m\u001b[0;34m.\u001b[0m\u001b[0mtrain\u001b[0m\u001b[0;34m(\u001b[0m\u001b[0mnum_epochs\u001b[0m\u001b[0;34m,\u001b[0m \u001b[0mearly_stopping\u001b[0m\u001b[0;34m=\u001b[0m\u001b[0mearly_stopping\u001b[0m\u001b[0;34m)\u001b[0m\u001b[0;34m\u001b[0m\u001b[0;34m\u001b[0m\u001b[0m\n\u001b[0m\u001b[1;32m     77\u001b[0m     \u001b[0;32mreturn\u001b[0m \u001b[0mbest_cp\u001b[0m\u001b[0;34m,\u001b[0m \u001b[0mpre_loss\u001b[0m\u001b[0;34m,\u001b[0m \u001b[0mdiv_loss\u001b[0m\u001b[0;34m\u001b[0m\u001b[0;34m\u001b[0m\u001b[0m\n\u001b[1;32m     78\u001b[0m \u001b[0;34m\u001b[0m\u001b[0m\n",
      "\u001b[0;32m~/research/atal/torchnlp/common/train.py\u001b[0m in \u001b[0;36mtrain\u001b[0;34m(self, num_epochs, early_stopping, save)\u001b[0m\n\u001b[1;32m    338\u001b[0m             \u001b[0;31m# Run evaluation\u001b[0m\u001b[0;34m\u001b[0m\u001b[0;34m\u001b[0m\u001b[0;34m\u001b[0m\u001b[0m\n\u001b[1;32m    339\u001b[0m             \u001b[0;32mif\u001b[0m \u001b[0mself\u001b[0m\u001b[0;34m.\u001b[0m\u001b[0mevaluator\u001b[0m\u001b[0;34m:\u001b[0m\u001b[0;34m\u001b[0m\u001b[0;34m\u001b[0m\u001b[0m\n\u001b[0;32m--> 340\u001b[0;31m                 \u001b[0meval_metrics\u001b[0m\u001b[0;34m,\u001b[0m \u001b[0mpre_loss\u001b[0m\u001b[0;34m,\u001b[0m \u001b[0mdiv_loss\u001b[0m \u001b[0;34m=\u001b[0m \u001b[0mself\u001b[0m\u001b[0;34m.\u001b[0m\u001b[0mevaluator\u001b[0m\u001b[0;34m.\u001b[0m\u001b[0mevaluate\u001b[0m\u001b[0;34m(\u001b[0m\u001b[0mself\u001b[0m\u001b[0;34m.\u001b[0m\u001b[0mmodel\u001b[0m\u001b[0;34m,\u001b[0m \u001b[0mfroze_attn\u001b[0m\u001b[0;34m=\u001b[0m\u001b[0mfroze_attn\u001b[0m\u001b[0;34m)\u001b[0m\u001b[0;34m\u001b[0m\u001b[0;34m\u001b[0m\u001b[0m\n\u001b[0m\u001b[1;32m    341\u001b[0m                 \u001b[0;32mif\u001b[0m \u001b[0;32mnot\u001b[0m \u001b[0misinstance\u001b[0m\u001b[0;34m(\u001b[0m\u001b[0meval_metrics\u001b[0m\u001b[0;34m,\u001b[0m \u001b[0mdict\u001b[0m\u001b[0;34m)\u001b[0m\u001b[0;34m:\u001b[0m\u001b[0;34m\u001b[0m\u001b[0;34m\u001b[0m\u001b[0m\n\u001b[1;32m    342\u001b[0m                     \u001b[0;32mraise\u001b[0m \u001b[0mValueError\u001b[0m\u001b[0;34m(\u001b[0m\u001b[0;34m'eval_fn should return a dict of metrics'\u001b[0m\u001b[0;34m)\u001b[0m\u001b[0;34m\u001b[0m\u001b[0;34m\u001b[0m\u001b[0m\n",
      "\u001b[0;32m~/research/atal/torchnlp/common/evaluation.py\u001b[0m in \u001b[0;36mevaluate\u001b[0;34m(self, model, froze_attn)\u001b[0m\n\u001b[1;32m     38\u001b[0m         \u001b[0mmodel\u001b[0m\u001b[0;34m.\u001b[0m\u001b[0meval\u001b[0m\u001b[0;34m(\u001b[0m\u001b[0;34m)\u001b[0m\u001b[0;34m\u001b[0m\u001b[0;34m\u001b[0m\u001b[0m\n\u001b[1;32m     39\u001b[0m \u001b[0;34m\u001b[0m\u001b[0m\n\u001b[0;32m---> 40\u001b[0;31m         \u001b[0mdata_pack\u001b[0m \u001b[0;34m=\u001b[0m \u001b[0;34m[\u001b[0m\u001b[0;34m(\u001b[0m\u001b[0mbatch\u001b[0m\u001b[0;34m,\u001b[0m \u001b[0mattn\u001b[0m\u001b[0;34m)\u001b[0m \u001b[0;32mfor\u001b[0m \u001b[0mbatch\u001b[0m\u001b[0;34m,\u001b[0m \u001b[0mattn\u001b[0m \u001b[0;32min\u001b[0m \u001b[0mzip\u001b[0m\u001b[0;34m(\u001b[0m\u001b[0mlist\u001b[0m\u001b[0;34m(\u001b[0m\u001b[0mself\u001b[0m\u001b[0;34m.\u001b[0m\u001b[0mdata_iter\u001b[0m\u001b[0;34m)\u001b[0m\u001b[0;34m,\u001b[0m \u001b[0mself\u001b[0m\u001b[0;34m.\u001b[0m\u001b[0mattn_te\u001b[0m\u001b[0;34m)\u001b[0m\u001b[0;34m]\u001b[0m\u001b[0;34m\u001b[0m\u001b[0;34m\u001b[0m\u001b[0m\n\u001b[0m\u001b[1;32m     41\u001b[0m         \u001b[0mprog_iter\u001b[0m \u001b[0;34m=\u001b[0m \u001b[0mdata_pack\u001b[0m\u001b[0;34m\u001b[0m\u001b[0;34m\u001b[0m\u001b[0m\n\u001b[1;32m     42\u001b[0m         \u001b[0;32mfor\u001b[0m \u001b[0mm\u001b[0m \u001b[0;32min\u001b[0m \u001b[0mself\u001b[0m\u001b[0;34m.\u001b[0m\u001b[0mmetrics\u001b[0m\u001b[0;34m:\u001b[0m\u001b[0;34m\u001b[0m\u001b[0;34m\u001b[0m\u001b[0m\n",
      "\u001b[0;31mAttributeError\u001b[0m: 'Evaluator' object has no attribute 'attn_te'"
     ]
    }
   ],
   "source": [
    "_, pre, div = train('any', TransformerTagger, conll2000, h2)"
   ]
  },
  {
   "cell_type": "code",
   "execution_count": null,
   "metadata": {},
   "outputs": [],
   "source": []
  }
 ],
 "metadata": {
  "kernelspec": {
   "display_name": "Python 3.7.6 64-bit ('allennlp': conda)",
   "language": "python",
   "name": "python37664bitallennlpconda6b161ae5cf3e43a6ad2666aa947c4480"
  },
  "language_info": {
   "codemirror_mode": {
    "name": "ipython",
    "version": 3
   },
   "file_extension": ".py",
   "mimetype": "text/x-python",
   "name": "python",
   "nbconvert_exporter": "python",
   "pygments_lexer": "ipython3",
   "version": "3.7.6"
  }
 },
 "nbformat": 4,
 "nbformat_minor": 4
}
